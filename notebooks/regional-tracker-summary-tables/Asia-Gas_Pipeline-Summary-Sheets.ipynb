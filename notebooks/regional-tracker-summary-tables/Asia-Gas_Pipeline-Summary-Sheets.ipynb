{
 "cells": [
  {
   "cell_type": "code",
   "execution_count": 258,
   "id": "24befb0b",
   "metadata": {},
   "outputs": [],
   "source": [
    "import pandas\n",
    "pandas.set_option(\"display.max_rows\", 50, \"display.max_columns\", 50)\n",
    "\n",
    "import numpy\n",
    "import pygsheets\n",
    "import datetime"
   ]
  },
  {
   "cell_type": "code",
   "execution_count": 259,
   "id": "de10ac2c-472a-4b67-b5b0-ca98638d9807",
   "metadata": {},
   "outputs": [],
   "source": [
    "pandas.io.formats.excel.ExcelFormatter.header_style = None\n",
    "excel_writer = pandas.ExcelWriter('AsiaGasTracker-Pipelines-SummarySheets-'+str(datetime.date.today())+'.xlsx', engine='xlsxwriter')"
   ]
  },
  {
   "cell_type": "markdown",
   "id": "c8c5ca7a",
   "metadata": {},
   "source": [
    "import Pipelines_Current dataset"
   ]
  },
  {
   "cell_type": "code",
   "execution_count": 260,
   "id": "a4185877",
   "metadata": {},
   "outputs": [],
   "source": [
    "gc = pygsheets.authorize(service_account_env_var='GDRIVE_API_CREDENTIALS')\n",
    "spreadsheet = gc.open_by_key('1foPLE6K-uqFlaYgLPAUxzeXfDO5wOOqE7tibNHeqTek')\n",
    "\n",
    "#spreadsheet[1] \"Gas Pipelines\" tab is the second index\n",
    "gas_pipes = spreadsheet.worksheet('title','Gas pipelines').get_as_df()\n",
    "oil_pipes = spreadsheet.worksheet('title','Oil/NGL pipelines').get_as_df()\n",
    "\n",
    "gas_pipes = gas_pipes.drop('WKTFormat', axis=1) # delete WKTFormat column\n",
    "oil_pipes = oil_pipes.drop('WKTFormat', axis=1)\n",
    "pipes_df_orig = pandas.concat([oil_pipes, gas_pipes], ignore_index=True)\n",
    "\n",
    "#get other relevant sheets\n",
    "country_ratios_df = spreadsheet.worksheet('title', 'Country ratios by pipeline').get_as_df()\n",
    "owners_df_orig = spreadsheet.worksheet('title', 'Pipeline operators/owners (1/3)').get_as_df()\n",
    "\n",
    "# remove empty cells for pipes, owners\n",
    "pipes_df_orig = pipes_df_orig[pipes_df_orig['PipelineName']!='']\n",
    "owners_df_orig = owners_df_orig[owners_df_orig['ProjectID']!='']"
   ]
  },
  {
   "cell_type": "code",
   "execution_count": 261,
   "id": "a4e98b3d",
   "metadata": {},
   "outputs": [],
   "source": [
    "country_ratios_df.replace('--', numpy.nan, inplace=True)\n",
    "owners_df_orig.replace('',numpy.nan,inplace=True)\n",
    "owners_df_orig.replace('--',numpy.nan,inplace=True)\n",
    "pipes_df_orig.replace('--',numpy.nan,inplace=True)"
   ]
  },
  {
   "cell_type": "code",
   "execution_count": 262,
   "id": "c28947a1-cc0a-455b-b122-395ac0507c0a",
   "metadata": {},
   "outputs": [],
   "source": [
    "region_df_orig = spreadsheet.worksheet('title', 'Region dictionary').get_as_df()\n",
    "region_df_agt = region_df_orig.loc[region_df_orig['AsiaGasTracker']=='Yes']"
   ]
  },
  {
   "cell_type": "code",
   "execution_count": 263,
   "id": "be0e261d",
   "metadata": {},
   "outputs": [],
   "source": [
    "region_df_touse = region_df_agt.copy()\n",
    "country_ratios_df_touse = country_ratios_df.loc[country_ratios_df.Country.isin(region_df_touse.Country)]\n",
    "owners_df_touse = owners_df_orig.loc[owners_df_orig.ProjectID.isin(country_ratios_df_touse.ProjectID.tolist())]\n",
    "\n",
    "#pipes_df_touse = country_ratos[terms_df_orig['Country'].isin(region_df_touse['Country'].tolist())]\n",
    "#owners_df_orig.set_index('ProjectID', inplace=True)"
   ]
  },
  {
   "cell_type": "markdown",
   "id": "67716f54",
   "metadata": {},
   "source": [
    "### set up info to analyze Owners tab"
   ]
  },
  {
   "cell_type": "code",
   "execution_count": 264,
   "id": "d2678986",
   "metadata": {},
   "outputs": [],
   "source": [
    "# get a set list of all owners\n",
    "owner_column_list = ['Owner1', \n",
    "                     'Owner2', \n",
    "                     'Owner3', \n",
    "                     'Owner4', \n",
    "                     'Owner5', \n",
    "                     'Owner6', \n",
    "                     'Owner7', \n",
    "                     'Owner8', \n",
    "                     'Owner9', \n",
    "                     'Owner10', \n",
    "                     'Owner11']\n",
    "\n",
    "percent_column_list = ['Owner1%', \n",
    "                       'Owner2%', \n",
    "                       'Owner3%', \n",
    "                       'Owner4%', \n",
    "                       'Owner5%', \n",
    "                       'Owner6%', \n",
    "                       'Owner7%', \n",
    "                       'Owner8%', \n",
    "                       'Owner9%', \n",
    "                       'Owner10%', \n",
    "                       'Owner11%']\n",
    "\n",
    "owner_id_list = ['ID1', \n",
    "                 'ID2', \n",
    "                 'ID3', \n",
    "                 'ID4', \n",
    "                 'ID5', \n",
    "                 'ID6', \n",
    "                 'ID7', \n",
    "                 'ID8', \n",
    "                 'ID9', \n",
    "                 'ID10', \n",
    "                 'ID11']"
   ]
  },
  {
   "cell_type": "markdown",
   "id": "84b0b032",
   "metadata": {},
   "source": [
    "### sum MergedKmByCountry and MergedKmByRegion"
   ]
  },
  {
   "cell_type": "code",
   "execution_count": 265,
   "id": "5aba6b0a",
   "metadata": {},
   "outputs": [],
   "source": [
    "status_list = ['Proposed', \n",
    "               'Construction', \n",
    "               'Shelved', \n",
    "               'Cancelled', \n",
    "               'Operating', \n",
    "               'Idle', \n",
    "               'Mothballed', \n",
    "               'Retired']\n",
    "country_list = sorted(list(set(country_ratios_df_touse['Country'])))\n",
    "region_list = sorted(list(set(country_ratios_df_touse['Region'])))"
   ]
  },
  {
   "cell_type": "code",
   "execution_count": 266,
   "id": "99122012",
   "metadata": {},
   "outputs": [],
   "source": [
    "excel_status_list = ['Proposed', \n",
    "                     'Construction', \n",
    "                     'In Development (Proposed + Construction)', \n",
    "                     'Shelved', \n",
    "                     'Cancelled', \n",
    "                     'Operating', \n",
    "                     'Idle', \n",
    "                     'Mothballed', \n",
    "                     'Retired']"
   ]
  },
  {
   "cell_type": "code",
   "execution_count": 267,
   "id": "e4a424de",
   "metadata": {},
   "outputs": [
    {
     "name": "stdout",
     "output_type": "stream",
     "text": [
      "===country-level calculations===\n",
      "Proposed\n",
      "Construction\n",
      "Shelved\n",
      "Cancelled\n",
      "Operating\n",
      "Idle\n",
      "Mothballed\n",
      "Retired\n",
      "===regional calculations===\n",
      "Proposed\n",
      "Construction\n",
      "Shelved\n",
      "Cancelled\n",
      "Operating\n",
      "Idle\n",
      "Mothballed\n",
      "Retired\n"
     ]
    }
   ],
   "source": [
    "fuel_type = 'Gas'\n",
    "#fuel_type = 'Oil'\n",
    "#fuel_type = 'NGL'\n",
    "\n",
    "country_ratios_df_subset = country_ratios_df_touse.copy()[country_ratios_df_touse['Fuel']==fuel_type]\n",
    "\n",
    "km_by_country = pandas.DataFrame(columns=status_list, index=country_list)\n",
    "km_by_region = pandas.DataFrame(columns=status_list, index=region_list)\n",
    "\n",
    "print('===country-level calculations===')\n",
    "for status in status_list:\n",
    "    print(status)\n",
    "    country_ratios_df_subset_status = country_ratios_df_subset[country_ratios_df_subset['Status']==status]\n",
    "    km_by_country[status] = country_ratios_df_subset_status.groupby('Country')['MergedKmByCountry'].sum()\n",
    "\n",
    "print('===regional calculations===')\n",
    "for status in status_list:\n",
    "    print(status)\n",
    "    country_ratios_df_subset_status = country_ratios_df_subset[country_ratios_df_subset['Status']==status]\n",
    "    km_by_region[status] = country_ratios_df_subset_status.groupby('Region')['MergedKmByCountry'].sum()\n",
    "\n",
    "# fille NaN with 0.0\n",
    "km_by_region = km_by_region.fillna(0)\n",
    "km_by_country = km_by_country.fillna(0)\n",
    "\n",
    "km_by_region['In Development (Proposed + Construction)'] = km_by_region[['Proposed','Construction']].sum(axis=1)\n",
    "km_by_country['In Development (Proposed + Construction)'] = km_by_country[['Proposed','Construction']].sum(axis=1)\n",
    "\n",
    "km_by_country = km_by_country[excel_status_list]\n",
    "km_by_region = km_by_region[excel_status_list]\n",
    "\n",
    "km_by_region.index.name = 'Region'\n",
    "km_by_country.index.name = 'Country'\n",
    "\n",
    "totals_row = km_by_region.sum(axis=0)\n",
    "totals_row.name = 'Total'\n",
    "km_by_region = km_by_region.append(totals_row)\n",
    "\n",
    "totals_row = km_by_country.sum(axis=0)\n",
    "totals_row.name = 'Total'\n",
    "km_by_country = km_by_country.append(totals_row)\n",
    "\n",
    "km_by_region.to_excel(excel_writer, 'Kilometers by region')\n",
    "km_by_country.to_excel(excel_writer, 'Kilometers by country')"
   ]
  },
  {
   "cell_type": "markdown",
   "id": "723b011c",
   "metadata": {},
   "source": [
    "### create an excel file with all unique owners, not specific to fuel type"
   ]
  },
  {
   "cell_type": "code",
   "execution_count": 268,
   "id": "64369de0",
   "metadata": {},
   "outputs": [],
   "source": [
    "owner_list = []\n",
    "for column in owner_column_list:\n",
    "    owner_list+=list(owners_df_orig[column])\n",
    "owner_list = list(set(owner_list))\n",
    "# remove empty (no owner)\n",
    "owner_list.remove(numpy.nan)\n",
    "unique_owner_list = sorted(owner_list)\n",
    "\n",
    "#pandas.Series(unique_owner_list).to_excel('AllFuels'+'UniqueOwnersList.xlsx')"
   ]
  },
  {
   "cell_type": "markdown",
   "id": "347f5c7c",
   "metadata": {},
   "source": [
    "## pipeline km by parent company (owner) and project status"
   ]
  },
  {
   "cell_type": "code",
   "execution_count": 269,
   "id": "400d612a",
   "metadata": {},
   "outputs": [],
   "source": [
    "fuel_type = 'Gas'\n",
    "#fuel_type = 'Oil'\n",
    "#fuel_type = 'NGL'\n",
    "\n",
    "if owners_df_touse.index.name != 'ProjectID':\n",
    "    owners_df_touse.set_index('ProjectID', inplace=True)\n",
    "owner1_idx = owners_df_touse.columns.tolist().index('Owner1')\n",
    "\n",
    "country_ratios_with_owners_df = country_ratios_df.set_index('ProjectID').join(owners_df_touse.iloc[:,owner1_idx:])\n",
    "owners_df_subset = country_ratios_with_owners_df.loc[country_ratios_with_owners_df['Fuel']==fuel_type]\n",
    "\n",
    "##################################################\n",
    "\n",
    "owner_list_subset = []\n",
    "for column in owner_column_list:\n",
    "    owner_list_subset+=list(owners_df_subset[column])\n",
    "owner_list_subset = list(set(owner_list_subset))\n",
    "# remove empty (no owner)\n",
    "owner_list_subset.remove(numpy.nan)\n",
    "unique_owner_list_subset = sorted(owner_list_subset)\n",
    "\n",
    "##################################################\n",
    "# convert percents to fractions\n",
    "##################################################\n",
    "owners_df_fractions = owners_df_subset.copy()\n",
    "\n",
    "for col in percent_column_list:\n",
    "    owners_df_fractions[col] = owners_df_fractions[col].apply(lambda x: numpy.nan if x in [numpy.nan] \n",
    "                                          else x[:-1]).astype(float)/100\n",
    "\n",
    "##################################################\n",
    "# create km count by owner, status\n",
    "##################################################\n",
    "no_owner_info_count = 0\n",
    "#owners_km_by_status_df = pandas.DataFrame(0, index=unique_owner_list_subset, columns=status_list, dtype=object)\n",
    "multiindex = pandas.MultiIndex.from_product([unique_owner_list_subset,country_list], names=['Owner','Country'])\n",
    "owners_km_by_status_df = pandas.DataFrame(0.0, index=multiindex, columns=status_list)\n",
    "\n",
    "for status in status_list:\n",
    "    \n",
    "    owners_df_temporary = owners_df_fractions.loc[owners_df_fractions['Status']==status]\n",
    "    \n",
    "    for idx,row in owners_df_temporary.iterrows():\n",
    "        current_country = row.Country\n",
    "        if current_country not in country_list:\n",
    "            continue\n",
    "        \n",
    "        ### how many owners are there?\n",
    "        row_owners = list(row[owner_column_list])\n",
    "        row_owners = [i for i in row_owners if str(i)!='nan']\n",
    "        n_owners = row_owners.__len__()\n",
    "        row_fractions = list(row[percent_column_list])\n",
    "        row_fractions = [i for i in row_fractions if str(i)!='nan']\n",
    "\n",
    "        ### if there are no owners listed, continue to next loop iteration\n",
    "        if n_owners==0:\n",
    "            no_owner_info_count+=1\n",
    "            continue # doesn't complete the rest of the ifs\n",
    "\n",
    "        ### now if row fractions is an empty list, create equal fractions list instead\n",
    "        if row_fractions==[]:\n",
    "            row_fractions = [1/n_owners]*n_owners\n",
    "\n",
    "        project_id = row.name\n",
    "        pipe_length = row['MergedKmByCountry'] #.loc[pipes_df_orig.ProjectID==project_id]['LengthMergedKm'].values\n",
    "        owner_km_fractions = numpy.array(row_fractions)*pipe_length\n",
    "\n",
    "        for owner_idx in range(n_owners):\n",
    "            owners_km_by_status_df.loc[(row_owners[owner_idx],\n",
    "                                        current_country)][status]+=owner_km_fractions[owner_idx]\n",
    "\n",
    "#owners_km_by_status_df.index.name = 'Parent Company'\n",
    "owners_km_by_status_df['In Development (Proposed + Construction)'] = owners_km_by_status_df[['Proposed','Construction']].sum(axis=1)\n",
    "owners_km_by_status_df = owners_km_by_status_df[excel_status_list]\n",
    "\n",
    "# rearrange the order of the columns for output\n",
    "owners_km_by_status_df = owners_km_by_status_df[excel_status_list]\n",
    "\n",
    "totals_row = owners_km_by_status_df.sum(axis=0)\n",
    "totals_row.name = ('Total','')\n",
    "owners_km_by_status_df = owners_km_by_status_df.append(totals_row)\n",
    "\n",
    "#owners_km_by_status_df = owners_km_by_status_df.astype(int)\n",
    "owners_km_by_status_df = owners_km_by_status_df.loc[(owners_km_by_status_df!=0).any(axis=1)]\n",
    "\n",
    "owners_km_by_status_df.to_excel(excel_writer, 'Kilometers by owner')"
   ]
  },
  {
   "cell_type": "markdown",
   "id": "b5c7bac3",
   "metadata": {},
   "source": [
    "### pipeline km by start year, type"
   ]
  },
  {
   "cell_type": "code",
   "execution_count": 270,
   "id": "ce1cc9f6",
   "metadata": {},
   "outputs": [],
   "source": [
    "pipes_df_region = pipes_df_orig.loc[pipes_df_orig['ProjectID'].isin(country_ratios_df_touse.ProjectID)]\n",
    "pipes_df_region_started = pipes_df_region.loc[pipes_df_region['Status']=='Operating']\n",
    "\n",
    "pipes_started_df_sum = pipes_df_region_started.groupby('StartYearEarliest')['LengthMergedKm'].sum()"
   ]
  },
  {
   "cell_type": "code",
   "execution_count": 271,
   "id": "3088dfbc",
   "metadata": {},
   "outputs": [],
   "source": [
    "km_by_start_year = pandas.DataFrame(index=list(range(1980,2022)), columns=['Gas pipeline km'])\n",
    "km_by_start_year.index.name = 'Start year'\n",
    "\n",
    "km_by_start_year['Gas pipeline km'] = pipes_started_df_sum\n",
    "km_by_start_year.replace(numpy.nan,0,inplace=True)\n",
    "\n",
    "totals_row = km_by_start_year.sum(axis=0)\n",
    "totals_row.name = 'Total'\n",
    "km_by_start_year = km_by_start_year.append(totals_row)\n",
    "\n",
    "km_by_start_year.to_excel(excel_writer, 'Kilometers by start year')"
   ]
  },
  {
   "cell_type": "markdown",
   "id": "b6f1ce69-bd67-4700-8c4f-e01d57ad456d",
   "metadata": {},
   "source": [
    "# save excel file"
   ]
  },
  {
   "cell_type": "code",
   "execution_count": 272,
   "id": "f87a4146-a270-40f1-b383-6b27c42b4852",
   "metadata": {},
   "outputs": [],
   "source": [
    "excel_writer.save()"
   ]
  }
 ],
 "metadata": {
  "kernelspec": {
   "display_name": "gem",
   "language": "python",
   "name": "gem"
  },
  "language_info": {
   "codemirror_mode": {
    "name": "ipython",
    "version": 3
   },
   "file_extension": ".py",
   "mimetype": "text/x-python",
   "name": "python",
   "nbconvert_exporter": "python",
   "pygments_lexer": "ipython3",
   "version": "3.9.9"
  }
 },
 "nbformat": 4,
 "nbformat_minor": 5
}
