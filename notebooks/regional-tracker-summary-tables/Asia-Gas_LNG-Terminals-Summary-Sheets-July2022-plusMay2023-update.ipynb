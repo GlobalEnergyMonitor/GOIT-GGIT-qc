{
 "cells": [
  {
   "cell_type": "code",
   "execution_count": 186,
   "id": "24befb0b",
   "metadata": {
    "tags": []
   },
   "outputs": [],
   "source": [
    "import pandas\n",
    "import numpy\n",
    "import pygsheets\n",
    "import datetime\n",
    "import pytz\n",
    "import re"
   ]
  },
  {
   "cell_type": "code",
   "execution_count": 189,
   "id": "ae44956f-e552-4988-91af-3d8b313dbe6b",
   "metadata": {
    "tags": []
   },
   "outputs": [],
   "source": [
    "# define the excel file to save tables in\n",
    "current_time = datetime.datetime.now(pytz.timezone('EST')).strftime(\"%Y-%m-%d_T%H%M%S\")\n",
    "excel_writer = pandas.ExcelWriter('AsiaGasTracker-Terminals-SummarySheets-'+current_time+'.xlsx')"
   ]
  },
  {
   "cell_type": "code",
   "execution_count": 190,
   "id": "a4185877",
   "metadata": {
    "tags": []
   },
   "outputs": [],
   "source": [
    "gc = pygsheets.authorize(service_account_env_var='GDRIVE_API_CREDENTIALS')\n",
    "#spreadsheet = gc.open_by_key('1tcS6Wd-Wp-LTDpLzFgJY_RSNDnbyubW3J_9HKIAys4A')\n",
    "#spreadsheet = gc.open_by_key('1MrghwBeCz8Tzgua7CWGg_KoXKVZsV7r0kHMYHYqnNTg') # July 2022 terminals version\n",
    "spreadsheet = gc.open_by_key('1FVuw76YU-jmAzfSWJ2ixwBQB_wXEK9aGCa4Q6OCOUzY') # July 2022 with May 2023 updates for Asia gas tracker\n",
    "\n",
    "terms_df_orig = spreadsheet.worksheet('title', 'Terminals').get_as_df(start='A2')\n",
    "\n",
    "# drop any empty/imcomplete rows (those without a wiki page)\n",
    "terms_df_orig = terms_df_orig.loc[terms_df_orig.Wiki != '']\n",
    "\n",
    "#get other relevant sheets\n",
    "owners_df_orig = spreadsheet.worksheet('title', 'Terminal operators/owners (1/3)').get_as_df(start='A2')\n",
    "owners_df_orig.set_index('ComboID', inplace=True)\n",
    "\n",
    "parent_metadata_df = spreadsheet.worksheet('title', 'Parent metadata (3/3)').get_as_df(start='A2')\n",
    "parent_metadata_df.set_index('Parent', inplace=True)"
   ]
  },
  {
   "cell_type": "code",
   "execution_count": 191,
   "id": "4b8ccd2f",
   "metadata": {
    "tags": []
   },
   "outputs": [],
   "source": [
    "terms_df_orig.replace('--', numpy.nan, inplace=True)"
   ]
  },
  {
   "cell_type": "code",
   "execution_count": 192,
   "id": "4527dc75",
   "metadata": {
    "tags": []
   },
   "outputs": [],
   "source": [
    "region_df_orig = spreadsheet.worksheet('title', 'Country dictionary').get_as_df(start='A2')\n",
    "region_df_agt = region_df_orig.loc[region_df_orig['AsiaGasTracker']=='Yes']\n",
    "\n",
    "region_df_touse = region_df_agt.copy()"
   ]
  },
  {
   "cell_type": "markdown",
   "id": "bef25f8e",
   "metadata": {},
   "source": [
    "### create specific dataframes for region, country_ratios, owners_df"
   ]
  },
  {
   "cell_type": "code",
   "execution_count": 193,
   "id": "86f5a6e3-ce32-433f-9cf3-3f4091d4bef9",
   "metadata": {
    "tags": []
   },
   "outputs": [],
   "source": [
    "owners_df_touse = owners_df_orig.loc[owners_df_orig['Country'].isin(region_df_touse['Country'].tolist())]\n",
    "terms_df_touse = terms_df_orig.loc[terms_df_orig['Country'].isin(region_df_touse['Country'].tolist())]"
   ]
  },
  {
   "cell_type": "code",
   "execution_count": 194,
   "id": "3a6a5a10",
   "metadata": {
    "tags": []
   },
   "outputs": [],
   "source": [
    "status_list = ['Proposed', \n",
    "               'Construction', \n",
    "               'Shelved', \n",
    "               'Cancelled', \n",
    "               'Operating', \n",
    "               'Idle', \n",
    "               'Mothballed', \n",
    "               'Retired']\n",
    "country_list = sorted(set(region_df_touse['Country'].tolist()))\n",
    "region_list = sorted(set(region_df_touse['Region'].tolist()))"
   ]
  },
  {
   "cell_type": "code",
   "execution_count": 195,
   "id": "00d19702",
   "metadata": {
    "tags": []
   },
   "outputs": [],
   "source": [
    "excel_status_list = ['Proposed', \n",
    "                     'Construction', \n",
    "                     'In Development (Proposed + Construction)', \n",
    "                     'Shelved', \n",
    "                     'Cancelled', \n",
    "                     'Operating', \n",
    "                     'Idle', \n",
    "                     'Mothballed', \n",
    "                     'Retired']"
   ]
  },
  {
   "cell_type": "markdown",
   "id": "84b0b032",
   "metadata": {},
   "source": [
    "### no. export trains by country/region, project status"
   ]
  },
  {
   "cell_type": "code",
   "execution_count": 196,
   "id": "cd7a0a24",
   "metadata": {
    "tags": []
   },
   "outputs": [
    {
     "name": "stdout",
     "output_type": "stream",
     "text": [
      "===country-level calculations===\n",
      "Proposed\n",
      "Construction\n",
      "Shelved\n",
      "Cancelled\n",
      "Operating\n",
      "Idle\n",
      "Mothballed\n",
      "Retired\n",
      "===country-level calculations===\n",
      "Proposed\n",
      "Construction\n",
      "Shelved\n",
      "Cancelled\n",
      "Operating\n",
      "Idle\n",
      "Mothballed\n",
      "Retired\n"
     ]
    },
    {
     "name": "stderr",
     "output_type": "stream",
     "text": [
      "/var/folders/fl/t07mc8053p33mn6mdmvp45580000gn/T/ipykernel_70506/740818966.py:33: FutureWarning: The frame.append method is deprecated and will be removed from pandas in a future version. Use pandas.concat instead.\n",
      "  ntrains_by_region = ntrains_by_region.append(totals_row)\n",
      "/var/folders/fl/t07mc8053p33mn6mdmvp45580000gn/T/ipykernel_70506/740818966.py:37: FutureWarning: The frame.append method is deprecated and will be removed from pandas in a future version. Use pandas.concat instead.\n",
      "  ntrains_by_country = ntrains_by_country.append(totals_row)\n"
     ]
    }
   ],
   "source": [
    "terms_df_subset = terms_df_touse.copy()[(terms_df_touse['Import/Export']=='Export') & (terms_df_touse['Fuel']=='LNG')]\n",
    "\n",
    "ntrains_by_country = pandas.DataFrame(0, columns=status_list, index=country_list)\n",
    "ntrains_by_region = pandas.DataFrame(0, columns=status_list, index=region_list)\n",
    "\n",
    "print('===country-level calculations===')\n",
    "for status in status_list:\n",
    "    print(status)\n",
    "    terms_df_subset_status = terms_df_subset.copy()[terms_df_subset['Status']==status]\n",
    "    ntrains_by_country[status] = terms_df_subset_status.groupby('Country').size()\n",
    "\n",
    "print('===country-level calculations===')\n",
    "for status in status_list:\n",
    "    print(status)\n",
    "    terms_df_subset_status = terms_df_subset.copy()[terms_df_subset['Status']==status]\n",
    "    ntrains_by_region[status] = terms_df_subset_status.groupby('Region').size()\n",
    "\n",
    "# fille NaN with 0.0\n",
    "ntrains_by_region = ntrains_by_region.fillna(0)\n",
    "ntrains_by_country = ntrains_by_country.fillna(0)\n",
    "\n",
    "ntrains_by_region['In Development (Proposed + Construction)'] = ntrains_by_region[['Proposed','Construction']].sum(axis=1)\n",
    "ntrains_by_country['In Development (Proposed + Construction)'] = ntrains_by_country[['Proposed','Construction']].sum(axis=1)\n",
    "\n",
    "ntrains_by_country = ntrains_by_country[excel_status_list]\n",
    "ntrains_by_region = ntrains_by_region[excel_status_list]\n",
    "\n",
    "ntrains_by_region.index.name = 'Region'\n",
    "ntrains_by_country.index.name = 'Country'\n",
    "\n",
    "totals_row = ntrains_by_region.sum(axis=0)\n",
    "totals_row.name = 'Total'\n",
    "ntrains_by_region = ntrains_by_region.append(totals_row)\n",
    "\n",
    "totals_row = ntrains_by_country.sum(axis=0)\n",
    "totals_row.name = 'Total'\n",
    "ntrains_by_country = ntrains_by_country.append(totals_row)\n",
    "\n",
    "ntrains_by_region.replace(0,'',inplace=True)\n",
    "ntrains_by_country.replace(0,'',inplace=True)\n",
    "\n",
    "ntrains_by_region.to_excel(excel_writer, sheet_name='LNG export trains by region')#, index=False)\n",
    "ntrains_by_country.to_excel(excel_writer, sheet_name='LNG export trains by country')#, index=False)"
   ]
  },
  {
   "cell_type": "code",
   "execution_count": 197,
   "id": "876465fd-1446-439b-9a14-52ad9508d565",
   "metadata": {
    "tags": []
   },
   "outputs": [
    {
     "data": {
      "text/html": [
       "<div>\n",
       "<style scoped>\n",
       "    .dataframe tbody tr th:only-of-type {\n",
       "        vertical-align: middle;\n",
       "    }\n",
       "\n",
       "    .dataframe tbody tr th {\n",
       "        vertical-align: top;\n",
       "    }\n",
       "\n",
       "    .dataframe thead th {\n",
       "        text-align: right;\n",
       "    }\n",
       "</style>\n",
       "<table border=\"1\" class=\"dataframe\">\n",
       "  <thead>\n",
       "    <tr style=\"text-align: right;\">\n",
       "      <th></th>\n",
       "      <th>Proposed</th>\n",
       "      <th>Construction</th>\n",
       "      <th>In Development (Proposed + Construction)</th>\n",
       "      <th>Shelved</th>\n",
       "      <th>Cancelled</th>\n",
       "      <th>Operating</th>\n",
       "      <th>Idle</th>\n",
       "      <th>Mothballed</th>\n",
       "      <th>Retired</th>\n",
       "    </tr>\n",
       "    <tr>\n",
       "      <th>Region</th>\n",
       "      <th></th>\n",
       "      <th></th>\n",
       "      <th></th>\n",
       "      <th></th>\n",
       "      <th></th>\n",
       "      <th></th>\n",
       "      <th></th>\n",
       "      <th></th>\n",
       "      <th></th>\n",
       "    </tr>\n",
       "  </thead>\n",
       "  <tbody>\n",
       "    <tr>\n",
       "      <th>Asia</th>\n",
       "      <td>2.0</td>\n",
       "      <td>5.0</td>\n",
       "      <td>7.0</td>\n",
       "      <td></td>\n",
       "      <td>17.0</td>\n",
       "      <td>23.0</td>\n",
       "      <td></td>\n",
       "      <td></td>\n",
       "      <td>10.0</td>\n",
       "    </tr>\n",
       "    <tr>\n",
       "      <th>Total</th>\n",
       "      <td>2.0</td>\n",
       "      <td>5.0</td>\n",
       "      <td>7.0</td>\n",
       "      <td></td>\n",
       "      <td>17.0</td>\n",
       "      <td>23.0</td>\n",
       "      <td></td>\n",
       "      <td></td>\n",
       "      <td>10.0</td>\n",
       "    </tr>\n",
       "  </tbody>\n",
       "</table>\n",
       "</div>"
      ],
      "text/plain": [
       "        Proposed  Construction  In Development (Proposed + Construction)  \\\n",
       "Region                                                                     \n",
       "Asia         2.0           5.0                                       7.0   \n",
       "Total        2.0           5.0                                       7.0   \n",
       "\n",
       "       Shelved  Cancelled  Operating Idle Mothballed  Retired  \n",
       "Region                                                         \n",
       "Asia                 17.0       23.0                     10.0  \n",
       "Total                17.0       23.0                     10.0  "
      ]
     },
     "execution_count": 197,
     "metadata": {},
     "output_type": "execute_result"
    }
   ],
   "source": [
    "ntrains_by_region"
   ]
  },
  {
   "cell_type": "markdown",
   "id": "d64b3a05",
   "metadata": {},
   "source": [
    "### no. import trains by country/region, project status"
   ]
  },
  {
   "cell_type": "code",
   "execution_count": 198,
   "id": "10192904",
   "metadata": {
    "tags": []
   },
   "outputs": [
    {
     "name": "stdout",
     "output_type": "stream",
     "text": [
      "===country-level calculations===\n",
      "Proposed\n",
      "Construction\n",
      "Shelved\n",
      "Cancelled\n",
      "Operating\n",
      "Idle\n",
      "Mothballed\n",
      "Retired\n",
      "===country-level calculations===\n",
      "Proposed\n",
      "Construction\n",
      "Shelved\n",
      "Cancelled\n",
      "Operating\n",
      "Idle\n",
      "Mothballed\n",
      "Retired\n"
     ]
    },
    {
     "name": "stderr",
     "output_type": "stream",
     "text": [
      "/var/folders/fl/t07mc8053p33mn6mdmvp45580000gn/T/ipykernel_70506/2687660920.py:33: FutureWarning: The frame.append method is deprecated and will be removed from pandas in a future version. Use pandas.concat instead.\n",
      "  ntrains_by_region = ntrains_by_region.append(totals_row)\n",
      "/var/folders/fl/t07mc8053p33mn6mdmvp45580000gn/T/ipykernel_70506/2687660920.py:37: FutureWarning: The frame.append method is deprecated and will be removed from pandas in a future version. Use pandas.concat instead.\n",
      "  ntrains_by_country = ntrains_by_country.append(totals_row)\n"
     ]
    }
   ],
   "source": [
    "terms_df_subset = terms_df_touse.copy()[(terms_df_touse['Import/Export']=='Import') & (terms_df_touse['Fuel']=='LNG')]\n",
    "\n",
    "ntrains_by_country = pandas.DataFrame(0, columns=status_list, index=country_list)\n",
    "ntrains_by_region = pandas.DataFrame(0, columns=status_list, index=region_list)\n",
    "\n",
    "print('===country-level calculations===')\n",
    "for status in status_list:\n",
    "    print(status)\n",
    "    terms_df_subset_status = terms_df_subset.copy()[terms_df_subset['Status']==status]\n",
    "    ntrains_by_country[status] = terms_df_subset_status.groupby('Country').size()\n",
    "\n",
    "print('===country-level calculations===')\n",
    "for status in status_list:\n",
    "    print(status)\n",
    "    terms_df_subset_status = terms_df_subset.copy()[terms_df_subset['Status']==status]\n",
    "    ntrains_by_region[status] = terms_df_subset_status.groupby('Region').size()\n",
    "\n",
    "# fille NaN with 0.0\n",
    "ntrains_by_region = ntrains_by_region.fillna(0)\n",
    "ntrains_by_country = ntrains_by_country.fillna(0)\n",
    "\n",
    "ntrains_by_region['In Development (Proposed + Construction)'] = ntrains_by_region[['Proposed','Construction']].sum(axis=1)\n",
    "ntrains_by_country['In Development (Proposed + Construction)'] = ntrains_by_country[['Proposed','Construction']].sum(axis=1)\n",
    "\n",
    "ntrains_by_country = ntrains_by_country[excel_status_list]\n",
    "ntrains_by_region = ntrains_by_region[excel_status_list]\n",
    "\n",
    "ntrains_by_region.index.name = 'Region'\n",
    "ntrains_by_country.index.name = 'Country'\n",
    "\n",
    "totals_row = ntrains_by_region.sum(axis=0)\n",
    "totals_row.name = 'Total'\n",
    "ntrains_by_region = ntrains_by_region.append(totals_row)\n",
    "\n",
    "totals_row = ntrains_by_country.sum(axis=0)\n",
    "totals_row.name = 'Total'\n",
    "ntrains_by_country = ntrains_by_country.append(totals_row)\n",
    "\n",
    "ntrains_by_region.replace(0,'',inplace=True)\n",
    "ntrains_by_country.replace(0,'',inplace=True)\n",
    "\n",
    "ntrains_by_region.to_excel(excel_writer, sheet_name='LNG import terminals by region')\n",
    "ntrains_by_country.to_excel(excel_writer, sheet_name='LNG import terminals by country')\n"
   ]
  },
  {
   "cell_type": "code",
   "execution_count": 199,
   "id": "bca640c4-9fe2-4aff-8b65-ecc1425858a5",
   "metadata": {
    "tags": []
   },
   "outputs": [
    {
     "data": {
      "text/html": [
       "<div>\n",
       "<style scoped>\n",
       "    .dataframe tbody tr th:only-of-type {\n",
       "        vertical-align: middle;\n",
       "    }\n",
       "\n",
       "    .dataframe tbody tr th {\n",
       "        vertical-align: top;\n",
       "    }\n",
       "\n",
       "    .dataframe thead th {\n",
       "        text-align: right;\n",
       "    }\n",
       "</style>\n",
       "<table border=\"1\" class=\"dataframe\">\n",
       "  <thead>\n",
       "    <tr style=\"text-align: right;\">\n",
       "      <th></th>\n",
       "      <th>Proposed</th>\n",
       "      <th>Construction</th>\n",
       "      <th>In Development (Proposed + Construction)</th>\n",
       "      <th>Shelved</th>\n",
       "      <th>Cancelled</th>\n",
       "      <th>Operating</th>\n",
       "      <th>Idle</th>\n",
       "      <th>Mothballed</th>\n",
       "      <th>Retired</th>\n",
       "    </tr>\n",
       "    <tr>\n",
       "      <th>Region</th>\n",
       "      <th></th>\n",
       "      <th></th>\n",
       "      <th></th>\n",
       "      <th></th>\n",
       "      <th></th>\n",
       "      <th></th>\n",
       "      <th></th>\n",
       "      <th></th>\n",
       "      <th></th>\n",
       "    </tr>\n",
       "  </thead>\n",
       "  <tbody>\n",
       "    <tr>\n",
       "      <th>Asia</th>\n",
       "      <td>97.0</td>\n",
       "      <td>43.0</td>\n",
       "      <td>140.0</td>\n",
       "      <td>22.0</td>\n",
       "      <td>47.0</td>\n",
       "      <td>112.0</td>\n",
       "      <td></td>\n",
       "      <td>1.0</td>\n",
       "      <td></td>\n",
       "    </tr>\n",
       "    <tr>\n",
       "      <th>Total</th>\n",
       "      <td>97.0</td>\n",
       "      <td>43.0</td>\n",
       "      <td>140.0</td>\n",
       "      <td>22.0</td>\n",
       "      <td>47.0</td>\n",
       "      <td>112.0</td>\n",
       "      <td></td>\n",
       "      <td>1.0</td>\n",
       "      <td></td>\n",
       "    </tr>\n",
       "  </tbody>\n",
       "</table>\n",
       "</div>"
      ],
      "text/plain": [
       "        Proposed  Construction  In Development (Proposed + Construction)  \\\n",
       "Region                                                                     \n",
       "Asia        97.0          43.0                                     140.0   \n",
       "Total       97.0          43.0                                     140.0   \n",
       "\n",
       "        Shelved  Cancelled  Operating Idle  Mothballed Retired  \n",
       "Region                                                          \n",
       "Asia       22.0       47.0      112.0              1.0          \n",
       "Total      22.0       47.0      112.0              1.0          "
      ]
     },
     "execution_count": 199,
     "metadata": {},
     "output_type": "execute_result"
    }
   ],
   "source": [
    "ntrains_by_region"
   ]
  },
  {
   "cell_type": "markdown",
   "id": "4991b0f7",
   "metadata": {},
   "source": [
    "### capacity (mtpa) of import trains by country/region, project status"
   ]
  },
  {
   "cell_type": "code",
   "execution_count": 200,
   "id": "b9c86827",
   "metadata": {
    "tags": []
   },
   "outputs": [
    {
     "name": "stdout",
     "output_type": "stream",
     "text": [
      "===country-level calculations===\n",
      "Proposed\n",
      "Construction\n",
      "Shelved\n",
      "Cancelled\n",
      "Operating\n",
      "Idle\n",
      "Mothballed\n",
      "Retired\n",
      "===country-level calculations===\n",
      "Proposed\n",
      "Construction\n",
      "Shelved\n",
      "Cancelled\n",
      "Operating\n",
      "Idle\n",
      "Mothballed\n",
      "Retired\n"
     ]
    },
    {
     "name": "stderr",
     "output_type": "stream",
     "text": [
      "/var/folders/fl/t07mc8053p33mn6mdmvp45580000gn/T/ipykernel_70506/3084418678.py:33: FutureWarning: The frame.append method is deprecated and will be removed from pandas in a future version. Use pandas.concat instead.\n",
      "  cap_by_region = cap_by_region.append(totals_row)\n",
      "/var/folders/fl/t07mc8053p33mn6mdmvp45580000gn/T/ipykernel_70506/3084418678.py:37: FutureWarning: The frame.append method is deprecated and will be removed from pandas in a future version. Use pandas.concat instead.\n",
      "  cap_by_country = cap_by_country.append(totals_row)\n"
     ]
    }
   ],
   "source": [
    "terms_df_subset = terms_df_touse.copy()[(terms_df_touse['Import/Export']=='Import') & (terms_df_touse['Fuel']=='LNG')]\n",
    "\n",
    "cap_by_country = pandas.DataFrame(0, columns=status_list, index=country_list)\n",
    "cap_by_region = pandas.DataFrame(0, columns=status_list, index=region_list)\n",
    "\n",
    "print('===country-level calculations===')\n",
    "for status in status_list:\n",
    "    print(status)\n",
    "    terms_df_subset_status = terms_df_subset.copy()[terms_df_subset['Status']==status]\n",
    "    cap_by_country[status] = terms_df_subset_status.groupby('Country')['CapacityInMtpa'].sum()\n",
    "\n",
    "print('===country-level calculations===')\n",
    "for status in status_list:\n",
    "    print(status)\n",
    "    terms_df_subset_status = terms_df_subset.copy()[terms_df_subset['Status']==status]\n",
    "    cap_by_region[status] = terms_df_subset_status.groupby('Region')['CapacityInMtpa'].sum()\n",
    "\n",
    "#fille NaN with 0.0\n",
    "cap_by_region = cap_by_region.fillna(0)\n",
    "cap_by_country = cap_by_country.fillna(0)\n",
    "\n",
    "cap_by_region['In Development (Proposed + Construction)'] = cap_by_region[['Proposed','Construction']].sum(axis=1)\n",
    "cap_by_country['In Development (Proposed + Construction)'] = cap_by_country[['Proposed','Construction']].sum(axis=1)\n",
    "\n",
    "cap_by_country = cap_by_country[excel_status_list]\n",
    "cap_by_region = cap_by_region[excel_status_list]\n",
    "\n",
    "cap_by_region.index.name = 'Region'\n",
    "cap_by_country.index.name = 'Country'\n",
    "\n",
    "totals_row = cap_by_region.sum(axis=0)\n",
    "totals_row.name = 'Total'\n",
    "cap_by_region = cap_by_region.append(totals_row)\n",
    "\n",
    "totals_row = cap_by_country.sum(axis=0)\n",
    "totals_row.name = 'Total'\n",
    "cap_by_country = cap_by_country.append(totals_row)\n",
    "\n",
    "cap_by_region.replace(0,'',inplace=True)\n",
    "cap_by_country.replace(0,'',inplace=True)\n",
    "\n",
    "cap_by_region.to_excel(excel_writer, 'LNG import capacity by region')\n",
    "cap_by_country.to_excel(excel_writer, 'LNG import capacity by country')"
   ]
  },
  {
   "cell_type": "markdown",
   "id": "1f468ea6",
   "metadata": {},
   "source": [
    "### capacity (mtpa) of export trains by country/region, project status"
   ]
  },
  {
   "cell_type": "code",
   "execution_count": 201,
   "id": "68176611",
   "metadata": {
    "tags": []
   },
   "outputs": [
    {
     "name": "stdout",
     "output_type": "stream",
     "text": [
      "===country-level calculations===\n",
      "Proposed\n",
      "Construction\n",
      "Shelved\n",
      "Cancelled\n",
      "Operating\n",
      "Idle\n",
      "Mothballed\n",
      "Retired\n",
      "===country-level calculations===\n",
      "Proposed\n",
      "Construction\n",
      "Shelved\n",
      "Cancelled\n",
      "Operating\n",
      "Idle\n",
      "Mothballed\n",
      "Retired\n"
     ]
    },
    {
     "name": "stderr",
     "output_type": "stream",
     "text": [
      "/var/folders/fl/t07mc8053p33mn6mdmvp45580000gn/T/ipykernel_70506/2541422666.py:33: FutureWarning: The frame.append method is deprecated and will be removed from pandas in a future version. Use pandas.concat instead.\n",
      "  cap_by_region = cap_by_region.append(totals_row)\n",
      "/var/folders/fl/t07mc8053p33mn6mdmvp45580000gn/T/ipykernel_70506/2541422666.py:37: FutureWarning: The frame.append method is deprecated and will be removed from pandas in a future version. Use pandas.concat instead.\n",
      "  cap_by_country = cap_by_country.append(totals_row)\n"
     ]
    }
   ],
   "source": [
    "terms_df_subset = terms_df_touse.copy()[(terms_df_touse['Import/Export']=='Export') & (terms_df_touse['Fuel']=='LNG')]\n",
    "\n",
    "cap_by_country = pandas.DataFrame(0, columns=status_list, index=country_list)\n",
    "cap_by_region = pandas.DataFrame(0, columns=status_list, index=region_list)\n",
    "\n",
    "print('===country-level calculations===')\n",
    "for status in status_list:\n",
    "    print(status)\n",
    "    terms_df_subset_status = terms_df_subset.copy()[terms_df_subset['Status']==status]\n",
    "    cap_by_country[status] = terms_df_subset_status.groupby('Country')['CapacityInMtpa'].sum()\n",
    "\n",
    "print('===country-level calculations===')\n",
    "for status in status_list:\n",
    "    print(status)\n",
    "    terms_df_subset_status = terms_df_subset.copy()[terms_df_subset['Status']==status]\n",
    "    cap_by_region[status] = terms_df_subset_status.groupby('Region')['CapacityInMtpa'].sum()\n",
    "\n",
    "#fille NaN with 0.0\n",
    "cap_by_region = cap_by_region.fillna(0)\n",
    "cap_by_country = cap_by_country.fillna(0)\n",
    "\n",
    "cap_by_region['In Development (Proposed + Construction)'] = cap_by_region[['Proposed','Construction']].sum(axis=1)\n",
    "cap_by_country['In Development (Proposed + Construction)'] = cap_by_country[['Proposed','Construction']].sum(axis=1)\n",
    "\n",
    "cap_by_country = cap_by_country[excel_status_list]\n",
    "cap_by_region = cap_by_region[excel_status_list]\n",
    "\n",
    "cap_by_region.index.name = 'Region'\n",
    "cap_by_country.index.name = 'Country'\n",
    "\n",
    "totals_row = cap_by_region.sum(axis=0)\n",
    "totals_row.name = 'Total'\n",
    "cap_by_region = cap_by_region.append(totals_row)\n",
    "\n",
    "totals_row = cap_by_country.sum(axis=0)\n",
    "totals_row.name = 'Total'\n",
    "cap_by_country = cap_by_country.append(totals_row)\n",
    "\n",
    "cap_by_region.replace(0,'',inplace=True)\n",
    "cap_by_country.replace(0,'',inplace=True)\n",
    "\n",
    "cap_by_region.to_excel(excel_writer, 'LNG export capacity by region')\n",
    "cap_by_country.to_excel(excel_writer, 'LNG export capacity by country')"
   ]
  },
  {
   "cell_type": "markdown",
   "id": "523e6211",
   "metadata": {},
   "source": [
    "## owner analysis"
   ]
  },
  {
   "cell_type": "code",
   "execution_count": 202,
   "id": "e0c74401-6348-4d07-8e2d-2d3205126925",
   "metadata": {
    "tags": []
   },
   "outputs": [],
   "source": [
    "# this cell takes the terminals data set (call it \"terms_df_all\", here we're using the indev terminals subset)\n",
    "# and loops throw every row, breaks up the parent and % ownership strings,\n",
    "# and outputs a dataframe owner_parent_calculations_df that has a bunch of different useful info related\n",
    "# to parent shares, capacity, etc.\n",
    "owner_parent_calculations_df = pandas.DataFrame() # empty df for storing owner/parent stuff\n",
    "\n",
    "for idx,row in terms_df_touse.iterrows():\n",
    "    parent_string = row.Parent #.values[0]\n",
    "\n",
    "    # the two lines below go through the parent entries in the sheet and split them,\n",
    "    # recording the percents and parents in separate lists, to be dealt with later\n",
    "    parent_list = re.sub(' \\[.*?\\]', '', parent_string).split('; ') # all entries must have an \"Owner [%]\" syntax, so [unknown %] is included\n",
    "    percent_list = [float(i.rstrip('%'))/100. for i in re.findall('\\\\d+(?:\\\\.\\\\d+)?%', parent_string)]\n",
    "\n",
    "    # if there are fewer recorded percents than number of parents\n",
    "    if parent_list.__len__()!=percent_list.__len__():\n",
    "        # if there are no percents, make them all equal\n",
    "        if percent_list==[]:\n",
    "            percent_list = [1/parent_list.__len__() for i in parent_list]\n",
    "        # otherwise, get the difference and distribute the remainder equally among remaining parents\n",
    "        else:\n",
    "            nmissing = parent_list.__len__()-percent_list.__len__()\n",
    "            # distribute nans evenly\n",
    "            total = numpy.nansum(percent_list)\n",
    "            leftover = 1-total\n",
    "            percent_list += [leftover/nmissing]*nmissing\n",
    "\n",
    "    # now go through each parent and associated percent ownership\n",
    "    # and store it alongside the project's name along with capacity, status, region, etc.\n",
    "    # this is stored inside the big dataframe owner_parent_calculations_df\n",
    "    for p_idx,parent in enumerate(parent_list):\n",
    "        if parent not in parent_metadata_df.index.to_list():\n",
    "            parent_metadata_df.loc[parent,'ParentHQCountry']='Unknown'\n",
    "        owner_parent_calculations_df = pandas.concat([owner_parent_calculations_df, \n",
    "                                                      pandas.DataFrame([{'Parent':parent, 'ComboID':row.ComboID,\n",
    "                                                                         'FractionOwnership':percent_list[p_idx],\n",
    "                                                                         'PercentString':'{:.2f}%'.format(percent_list[p_idx]*100),\n",
    "                                                                         'ParentHQCountry':parent_metadata_df.loc[parent_metadata_df.index==parent]['ParentHQCountry'].values[0],\n",
    "                                                                         'ParentHQRegion':parent_metadata_df.loc[parent_metadata_df.index==parent]['ParentHQRegion'].values[0],\n",
    "                                                                         'TerminalCountry':row.Country,\n",
    "                                                                         'TerminalRegion':row.Region,\n",
    "                                                                         'Status':row.Status,\n",
    "                                                                         'Import/Export':row['Import/Export'],\n",
    "                                                                         'CapacityInMtpa':row.CapacityInMtpa,\n",
    "                                                                         'ProjectWiki':row.Wiki,\n",
    "                                                                         'ProjectName':row.TerminalName+' '+str(row.UnitName)}])])\n",
    "\n",
    "owner_parent_calculations_df.reset_index(drop=True, inplace=True)\n",
    "owner_parent_calculations_df['CapacityOwnedInMtpa'] = owner_parent_calculations_df.FractionOwnership*owner_parent_calculations_df.CapacityInMtpa\n",
    "owner_parent_calculations_df['ParentCapacityString'] = owner_parent_calculations_df.Parent + ' (' + owner_parent_calculations_df.CapacityOwnedInMtpa.round(1).astype(str).replace('nan','unknown') + ' mtpa)'"
   ]
  },
  {
   "cell_type": "markdown",
   "id": "2e486d57-86e8-499a-a483-847bf29fec83",
   "metadata": {},
   "source": [
    "### ntrains export by parent company, project status"
   ]
  },
  {
   "cell_type": "code",
   "execution_count": 203,
   "id": "185fe852-9b27-4231-b430-22a02f44afb5",
   "metadata": {
    "tags": []
   },
   "outputs": [
    {
     "name": "stderr",
     "output_type": "stream",
     "text": [
      "/var/folders/fl/t07mc8053p33mn6mdmvp45580000gn/T/ipykernel_70506/3071515540.py:18: FutureWarning: The frame.append method is deprecated and will be removed from pandas in a future version. Use pandas.concat instead.\n",
      "  owners_ntrains_by_status_df = owners_ntrains_by_status_df.append(totals_row)\n"
     ]
    }
   ],
   "source": [
    "owners_ntrains_by_status_df = \\\n",
    "    owner_parent_calculations_df.loc[owner_parent_calculations_df['Import/Export']=='Export'].groupby(\n",
    "    ['Parent','ParentHQCountry','Status']).agg({'Status':['count']}).unstack().droplevel(axis=1, level=[0,1])\n",
    "\n",
    "owners_ntrains_by_status_df = owners_ntrains_by_status_df.reindex(columns=status_list)\n",
    "owners_ntrains_by_status_df = owners_ntrains_by_status_df.reset_index().set_index('Parent')\n",
    "owners_ntrains_by_status_df.columns.name = None\n",
    "\n",
    "owners_ntrains_by_status_df['In Development (Proposed + Construction)'] = owners_ntrains_by_status_df[['Proposed','Construction']].sum(axis=1)\n",
    "\n",
    "owners_ntrains_by_status_df = owners_ntrains_by_status_df.rename(columns={'Parent':'Parent Company',\n",
    "                                                                          'ParentHQCountry':'Country'})\n",
    "# rearrange the order of the columns for output\n",
    "owners_ntrains_by_status_df = owners_ntrains_by_status_df[excel_status_list_countries]\n",
    "\n",
    "totals_row = owners_ntrains_by_status_df.sum(axis=0, min_count=0)\n",
    "totals_row.name = 'Total'\n",
    "owners_ntrains_by_status_df = owners_ntrains_by_status_df.append(totals_row)\n",
    "owners_ntrains_by_status_df.loc['Total','Country'] = ''\n",
    "\n",
    "owners_ntrains_by_status_df = owners_ntrains_by_status_df.replace(numpy.nan, '')\n",
    "owners_ntrains_by_status_df = owners_ntrains_by_status_df.replace(0, '')\n",
    "\n",
    "owners_ntrains_by_status_df.to_excel(excel_writer, 'LNG export trains by owner')"
   ]
  },
  {
   "cell_type": "markdown",
   "id": "9d062da1",
   "metadata": {},
   "source": [
    "### ntrains import by parent company, project status"
   ]
  },
  {
   "cell_type": "code",
   "execution_count": 204,
   "id": "a5152e27-89d0-4536-82d2-51e8accc925c",
   "metadata": {
    "tags": []
   },
   "outputs": [
    {
     "name": "stderr",
     "output_type": "stream",
     "text": [
      "/var/folders/fl/t07mc8053p33mn6mdmvp45580000gn/T/ipykernel_70506/2693392009.py:18: FutureWarning: The frame.append method is deprecated and will be removed from pandas in a future version. Use pandas.concat instead.\n",
      "  owners_ntrains_by_status_df = owners_ntrains_by_status_df.append(totals_row)\n"
     ]
    }
   ],
   "source": [
    "owners_ntrains_by_status_df = \\\n",
    "    owner_parent_calculations_df.loc[owner_parent_calculations_df['Import/Export']=='Import'].groupby(\n",
    "    ['Parent','ParentHQCountry','Status']).agg({'Status':['count']}).unstack().droplevel(axis=1, level=[0,1])\n",
    "\n",
    "owners_ntrains_by_status_df = owners_ntrains_by_status_df.reindex(columns=status_list)\n",
    "owners_ntrains_by_status_df = owners_ntrains_by_status_df.reset_index().set_index('Parent')\n",
    "owners_ntrains_by_status_df.columns.name = None\n",
    "\n",
    "owners_ntrains_by_status_df['In Development (Proposed + Construction)'] = owners_ntrains_by_status_df[['Proposed','Construction']].sum(axis=1)\n",
    "\n",
    "owners_ntrains_by_status_df = owners_ntrains_by_status_df.rename(columns={'Parent':'Parent Company',\n",
    "                                                                          'ParentHQCountry':'Country'})\n",
    "# rearrange the order of the columns for output\n",
    "owners_ntrains_by_status_df = owners_ntrains_by_status_df[excel_status_list_countries]\n",
    "\n",
    "totals_row = owners_ntrains_by_status_df.sum(axis=0, min_count=0)\n",
    "totals_row.name = 'Total'\n",
    "owners_ntrains_by_status_df = owners_ntrains_by_status_df.append(totals_row)\n",
    "owners_ntrains_by_status_df.loc['Total','Country'] = ''\n",
    "\n",
    "owners_ntrains_by_status_df = owners_ntrains_by_status_df.replace(numpy.nan, '')\n",
    "owners_ntrains_by_status_df = owners_ntrains_by_status_df.replace(0, '')\n",
    "\n",
    "owners_ntrains_by_status_df.to_excel(excel_writer, 'LNG import trains by owner')"
   ]
  },
  {
   "cell_type": "markdown",
   "id": "eaf257f5",
   "metadata": {},
   "source": [
    "### capacity export by parent company, project status"
   ]
  },
  {
   "cell_type": "code",
   "execution_count": 205,
   "id": "190e14a6-980a-4ef6-ae1b-145c44c74a62",
   "metadata": {
    "tags": []
   },
   "outputs": [
    {
     "name": "stderr",
     "output_type": "stream",
     "text": [
      "/var/folders/fl/t07mc8053p33mn6mdmvp45580000gn/T/ipykernel_70506/1758428578.py:18: FutureWarning: The frame.append method is deprecated and will be removed from pandas in a future version. Use pandas.concat instead.\n",
      "  owners_capacity_by_status_df = owners_capacity_by_status_df.append(totals_row)\n"
     ]
    }
   ],
   "source": [
    "owners_capacity_by_status_df = \\\n",
    "    owner_parent_calculations_df.loc[owner_parent_calculations_df['Import/Export']=='Export'].groupby(\n",
    "    ['Parent','ParentHQCountry','Status']).agg({'CapacityInMtpa':['sum']}).unstack().droplevel(axis=1, level=[0,1])\n",
    "\n",
    "owners_capacity_by_status_df = owners_capacity_by_status_df.reindex(columns=status_list)\n",
    "owners_capacity_by_status_df = owners_capacity_by_status_df.reset_index().set_index('Parent')\n",
    "owners_capacity_by_status_df.columns.name = None\n",
    "\n",
    "owners_capacity_by_status_df['In Development (Proposed + Construction)'] = owners_capacity_by_status_df[['Proposed','Construction']].sum(axis=1)\n",
    "\n",
    "owners_capacity_by_status_df = owners_capacity_by_status_df.rename(columns={'Parent':'Parent Company',\n",
    "                                                                          'ParentHQCountry':'Country'})\n",
    "# rearrange the order of the columns for output\n",
    "owners_capacity_by_status_df = owners_capacity_by_status_df[excel_status_list_countries]\n",
    "\n",
    "totals_row = owners_capacity_by_status_df.sum(axis=0, min_count=0)\n",
    "totals_row.name = 'Total'\n",
    "owners_capacity_by_status_df = owners_capacity_by_status_df.append(totals_row)\n",
    "owners_capacity_by_status_df.loc['Total','Country'] = ''\n",
    "\n",
    "owners_capacity_by_status_df = owners_capacity_by_status_df.replace(numpy.nan, '')\n",
    "owners_capacity_by_status_df = owners_capacity_by_status_df.replace(0, '')\n",
    "\n",
    "owners_capacity_by_status_df.to_excel(excel_writer, 'LNG export capacity by owner')"
   ]
  },
  {
   "cell_type": "markdown",
   "id": "ac6ec1d8",
   "metadata": {},
   "source": [
    "### capacity import by parent company, project status"
   ]
  },
  {
   "cell_type": "code",
   "execution_count": 206,
   "id": "5b8cfe75",
   "metadata": {},
   "outputs": [
    {
     "name": "stderr",
     "output_type": "stream",
     "text": [
      "/var/folders/fl/t07mc8053p33mn6mdmvp45580000gn/T/ipykernel_70506/926954435.py:18: FutureWarning: The frame.append method is deprecated and will be removed from pandas in a future version. Use pandas.concat instead.\n",
      "  owners_capacity_by_status_df = owners_capacity_by_status_df.append(totals_row)\n"
     ]
    }
   ],
   "source": [
    "owners_capacity_by_status_df = \\\n",
    "    owner_parent_calculations_df.loc[owner_parent_calculations_df['Import/Export']=='Import'].groupby(\n",
    "    ['Parent','ParentHQCountry','Status']).agg({'CapacityInMtpa':['sum']}).unstack().droplevel(axis=1, level=[0,1])\n",
    "\n",
    "owners_capacity_by_status_df = owners_capacity_by_status_df.reindex(columns=status_list)\n",
    "owners_capacity_by_status_df = owners_capacity_by_status_df.reset_index().set_index('Parent')\n",
    "owners_capacity_by_status_df.columns.name = None\n",
    "\n",
    "owners_capacity_by_status_df['In Development (Proposed + Construction)'] = owners_capacity_by_status_df[['Proposed','Construction']].sum(axis=1)\n",
    "\n",
    "owners_capacity_by_status_df = owners_capacity_by_status_df.rename(columns={'Parent':'Parent Company',\n",
    "                                                                          'ParentHQCountry':'Country'})\n",
    "# rearrange the order of the columns for output\n",
    "owners_capacity_by_status_df = owners_capacity_by_status_df[excel_status_list_countries]\n",
    "\n",
    "totals_row = owners_capacity_by_status_df.sum(axis=0, min_count=0)\n",
    "totals_row.name = 'Total'\n",
    "owners_capacity_by_status_df = owners_capacity_by_status_df.append(totals_row)\n",
    "owners_capacity_by_status_df.loc['Total','Country'] = ''\n",
    "\n",
    "owners_capacity_by_status_df = owners_capacity_by_status_df.replace(numpy.nan, '')\n",
    "owners_capacity_by_status_df = owners_capacity_by_status_df.replace(0, '')\n",
    "\n",
    "owners_capacity_by_status_df.to_excel(excel_writer, 'LNG import capacity by owner')"
   ]
  },
  {
   "cell_type": "markdown",
   "id": "041572d7",
   "metadata": {},
   "source": [
    "### no. of operating terminals by start year, facility type (1980–2021)"
   ]
  },
  {
   "cell_type": "code",
   "execution_count": 207,
   "id": "22d0fc86",
   "metadata": {},
   "outputs": [
    {
     "name": "stderr",
     "output_type": "stream",
     "text": [
      "/var/folders/fl/t07mc8053p33mn6mdmvp45580000gn/T/ipykernel_70506/3337449361.py:16: FutureWarning: The default value of numeric_only in DataFrame.sum is deprecated. In a future version, it will default to False. In addition, specifying 'numeric_only=None' is deprecated. Select only valid columns or specify the value of numeric_only to silence this warning.\n",
      "  totals_row = terms_by_start_year_df.sum(axis=0)\n",
      "/var/folders/fl/t07mc8053p33mn6mdmvp45580000gn/T/ipykernel_70506/3337449361.py:18: FutureWarning: The frame.append method is deprecated and will be removed from pandas in a future version. Use pandas.concat instead.\n",
      "  terms_by_start_year_df = terms_by_start_year_df.append(totals_row)\n"
     ]
    }
   ],
   "source": [
    "year_indices = list(range(1980,2023))\n",
    "\n",
    "terms_by_start_year_df = pandas.DataFrame(0.0, index=year_indices, columns=['Import terminals', 'Export terminals'])\n",
    "\n",
    "terms_started_df = terms_df_touse[(terms_df_touse['Status'].isin(['Operating'])) &\n",
    "                              (terms_df_touse['Fuel']=='LNG') & (terms_df_touse['Import/Export']=='Import')]\n",
    "terms_by_start_year_df['Import terminals'] = terms_started_df.groupby('StartYearEarliest').size()\n",
    "\n",
    "terms_started_df = terms_df_touse[(terms_df_touse['Status'].isin(['Operating'])) &\n",
    "                              (terms_df_touse['Fuel']=='LNG') & (terms_df_touse['Import/Export']=='Export')]\n",
    "terms_by_start_year_df['Export terminals'] = terms_started_df.groupby('StartYearEarliest').size()\n",
    "\n",
    "terms_by_start_year_df.index.name = 'Start year'\n",
    "terms_by_start_year_df.replace(numpy.nan,'',inplace=True)\n",
    "\n",
    "totals_row = terms_by_start_year_df.sum(axis=0)\n",
    "totals_row.name = 'Total'\n",
    "terms_by_start_year_df = terms_by_start_year_df.append(totals_row)\n",
    "\n",
    "terms_by_start_year_df.to_excel(excel_writer, 'LNG terminals by start year')"
   ]
  },
  {
   "cell_type": "markdown",
   "id": "cfbb8b08",
   "metadata": {},
   "source": [
    "### capacity of operating terminals by start year, facility type (1980–2021)"
   ]
  },
  {
   "cell_type": "code",
   "execution_count": 208,
   "id": "99aef37b",
   "metadata": {},
   "outputs": [
    {
     "name": "stderr",
     "output_type": "stream",
     "text": [
      "/var/folders/fl/t07mc8053p33mn6mdmvp45580000gn/T/ipykernel_70506/106313456.py:18: FutureWarning: The default value of numeric_only in DataFrame.sum is deprecated. In a future version, it will default to False. In addition, specifying 'numeric_only=None' is deprecated. Select only valid columns or specify the value of numeric_only to silence this warning.\n",
      "  totals_row = capacity_by_start_year_df.sum(axis=0)\n",
      "/var/folders/fl/t07mc8053p33mn6mdmvp45580000gn/T/ipykernel_70506/106313456.py:20: FutureWarning: The frame.append method is deprecated and will be removed from pandas in a future version. Use pandas.concat instead.\n",
      "  capacity_by_start_year_df = capacity_by_start_year_df.append(totals_row)\n"
     ]
    }
   ],
   "source": [
    "year_indices = list(range(1980,2023))\n",
    "\n",
    "capacity_by_start_year_df = pandas.DataFrame(0.0, index=year_indices, columns=['Import terminals', 'Export terminals'])\n",
    "\n",
    "terms_started_df = terms_df_touse.loc[(terms_df_touse['Status'].isin(['Operating'])) &\n",
    "                                      (terms_df_touse['Fuel']=='LNG') & \n",
    "                                      (terms_df_touse['Import/Export']=='Import')]\n",
    "capacity_by_start_year_df['Import terminals'] = terms_started_df.groupby('StartYearEarliest')['CapacityInMtpa'].sum()\n",
    "\n",
    "terms_started_df = terms_df_touse.loc[(terms_df_touse['Status'].isin(['Operating'])) &\n",
    "                                      (terms_df_touse['Fuel']=='LNG') & \n",
    "                                      (terms_df_touse['Import/Export']=='Export')]\n",
    "capacity_by_start_year_df['Export terminals'] = terms_started_df.groupby('StartYearEarliest')['CapacityInMtpa'].sum(min_count=0)\n",
    "\n",
    "capacity_by_start_year_df.index.name = 'Start year'\n",
    "capacity_by_start_year_df.replace(numpy.nan,'',inplace=True)\n",
    "\n",
    "totals_row = capacity_by_start_year_df.sum(axis=0)\n",
    "totals_row.name = 'Total'\n",
    "capacity_by_start_year_df = capacity_by_start_year_df.append(totals_row)\n",
    "\n",
    "capacity_by_start_year_df.to_excel(excel_writer, 'LNG capacity by start year')"
   ]
  },
  {
   "cell_type": "markdown",
   "id": "f0f7040c-9f5f-47ae-b9d9-f764ac12fb00",
   "metadata": {},
   "source": [
    "# save excel file"
   ]
  },
  {
   "cell_type": "code",
   "execution_count": 209,
   "id": "d1d4070d-1166-476f-b769-bfd6b5845d49",
   "metadata": {},
   "outputs": [
    {
     "name": "stderr",
     "output_type": "stream",
     "text": [
      "/var/folders/fl/t07mc8053p33mn6mdmvp45580000gn/T/ipykernel_70506/2638382022.py:1: FutureWarning: save is not part of the public API, usage can give unexpected results and will be removed in a future version\n",
      "  excel_writer.save()\n"
     ]
    }
   ],
   "source": [
    "excel_writer.save()"
   ]
  },
  {
   "cell_type": "code",
   "execution_count": null,
   "id": "7d25b18d-c7d9-45f2-8360-d54a9ddb2802",
   "metadata": {},
   "outputs": [],
   "source": []
  }
 ],
 "metadata": {
  "kernelspec": {
   "display_name": "Python 3 (ipykernel)",
   "language": "python",
   "name": "python3"
  },
  "language_info": {
   "codemirror_mode": {
    "name": "ipython",
    "version": 3
   },
   "file_extension": ".py",
   "mimetype": "text/x-python",
   "name": "python",
   "nbconvert_exporter": "python",
   "pygments_lexer": "ipython3",
   "version": "3.9.16"
  }
 },
 "nbformat": 4,
 "nbformat_minor": 5
}
