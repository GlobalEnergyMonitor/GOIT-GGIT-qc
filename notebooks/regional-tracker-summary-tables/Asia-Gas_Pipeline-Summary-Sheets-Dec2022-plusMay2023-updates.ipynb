{
 "cells": [
  {
   "cell_type": "code",
   "execution_count": 1,
   "id": "24befb0b",
   "metadata": {
    "tags": []
   },
   "outputs": [],
   "source": [
    "import pandas\n",
    "import numpy\n",
    "import pygsheets\n",
    "import datetime\n",
    "import re\n",
    "import pytz"
   ]
  },
  {
   "cell_type": "code",
   "execution_count": 2,
   "id": "e1804fa5-72c0-4020-8174-b4c288a822c3",
   "metadata": {
    "tags": []
   },
   "outputs": [],
   "source": [
    "# define the excel file to save tables in\n",
    "current_time = datetime.datetime.now(pytz.timezone('US/Eastern')).strftime(\"%Y-%m-%d_T%H%M%S\")\n",
    "excel_writer = pandas.ExcelWriter('AsiaGasTracker-Pipelines-SummarySheets-'+current_time+'.xlsx')"
   ]
  },
  {
   "cell_type": "markdown",
   "id": "c8c5ca7a",
   "metadata": {},
   "source": [
    "import Pipelines_Current dataset"
   ]
  },
  {
   "cell_type": "code",
   "execution_count": 3,
   "id": "a4185877",
   "metadata": {
    "tags": []
   },
   "outputs": [],
   "source": [
    "credentials_directory = '/Users/baird/Dropbox/_google-api/'\n",
    "gc = pygsheets.authorize(service_account_env_var='GDRIVE_API_CREDENTIALS')\n",
    "#spreadsheet = gc.open_by_key('1foPLE6K-uqFlaYgLPAUxzeXfDO5wOOqE7tibNHeqTek')\n",
    "#spreadsheet = gc.open_by_key('1jP1GJbl-BjLbwb9BTblt0EQQr2hyMGNgdVL4I9_wQWQ') # January 2022 pipelines\n",
    "#spreadsheet = gc.open_by_key('1bfPrp0w8Ruorq08Qe4hD8M3xVJ5e00phZ6ApFivO98k') # December 2022 pipelines\n",
    "spreadsheet = gc.open_by_key('1LuTFPdSx5QmzNyc-mjjfM1GelPZ586yC-UXNAhnybJ4') # May 2023 version of December 2022 pipelines\n",
    "\n",
    "gas_pipes = spreadsheet.worksheet('title', 'Gas pipelines').get_as_df(start='A2')\n",
    "oil_pipes = spreadsheet.worksheet('title', 'Oil/NGL pipelines').get_as_df(start='A2')\n",
    "\n",
    "pipes_df_orig = pandas.concat([oil_pipes, gas_pipes], ignore_index=True)\n",
    "\n",
    "#get other relevant sheets\n",
    "country_ratios_df = spreadsheet.worksheet('title', 'Country ratios by pipeline').get_as_df()\n",
    "owners_df_orig = spreadsheet.worksheet('title', 'Pipeline operators/owners (1/3)').get_as_df(start='A2')\n",
    "\n",
    "# remove empty cells for pipes, owners\n",
    "pipes_df_orig = pipes_df_orig[pipes_df_orig['PipelineName']!='']\n",
    "owners_df_orig = owners_df_orig[owners_df_orig['Wiki']!='']\n",
    "owners_df_orig.set_index('ProjectID', inplace=True)"
   ]
  },
  {
   "cell_type": "code",
   "execution_count": 4,
   "id": "a4e98b3d",
   "metadata": {
    "tags": []
   },
   "outputs": [],
   "source": [
    "country_ratios_df.replace('--', numpy.nan, inplace=True)\n",
    "\n",
    "owners_df_orig.replace('',numpy.nan,inplace=True)\n",
    "owners_df_orig.replace('--',numpy.nan,inplace=True)\n",
    "\n",
    "pipes_df_orig.replace('--',numpy.nan,inplace=True)"
   ]
  },
  {
   "cell_type": "code",
   "execution_count": 5,
   "id": "c68dd677",
   "metadata": {
    "tags": []
   },
   "outputs": [],
   "source": [
    "region_df_orig = spreadsheet.worksheet('title', 'Country dictionary').get_as_df(start='A2')\n",
    "region_df_africa = region_df_orig.loc[region_df_orig['AsiaGasTracker']=='Yes']\n",
    "region_df_touse = region_df_africa.copy()"
   ]
  },
  {
   "cell_type": "markdown",
   "id": "4951d5cc",
   "metadata": {},
   "source": [
    "### create region-specific dataframes for region, country_ratios_df, owners_df"
   ]
  },
  {
   "cell_type": "code",
   "execution_count": 6,
   "id": "e43c900c",
   "metadata": {
    "tags": []
   },
   "outputs": [],
   "source": [
    "country_ratios_df_touse = country_ratios_df.loc[country_ratios_df['Country'].isin(\n",
    "                                            region_df_touse['Country'].tolist())]\n",
    "\n",
    "owners_df_touse = owners_df_orig.loc[\n",
    "    ~owners_df_orig['Countries'].apply(\n",
    "        lambda x: set(x.split(', ')).isdisjoint(set(region_df_touse['Country'].tolist()))\n",
    "    )]\n",
    "\n",
    "pipes_df_touse = pipes_df_orig.loc[\n",
    "    ~pipes_df_orig['Countries'].apply(\n",
    "        lambda x: set(x.split(', ')).isdisjoint(set(region_df_touse['Country'].tolist()))\n",
    "    )]"
   ]
  },
  {
   "cell_type": "code",
   "execution_count": 7,
   "id": "e06f4e0e-9f51-4ea3-9fd5-14b28bbe6934",
   "metadata": {
    "tags": []
   },
   "outputs": [],
   "source": [
    "fuel_type = 'Gas'\n",
    "#fuel_type = 'Oil'\n",
    "#fuel_type = 'NGL'\n",
    "\n",
    "pipes_df_touse = pipes_df_touse.loc[pipes_df_touse.Fuel==fuel_type]"
   ]
  },
  {
   "cell_type": "markdown",
   "id": "84b0b032",
   "metadata": {},
   "source": [
    "### sum MergedKmByCountry and MergedKmByRegion"
   ]
  },
  {
   "cell_type": "code",
   "execution_count": 8,
   "id": "5aba6b0a",
   "metadata": {
    "tags": []
   },
   "outputs": [],
   "source": [
    "status_list = ['Proposed', \n",
    "               'Construction', \n",
    "               'Shelved', \n",
    "               'Cancelled', \n",
    "               'Operating', \n",
    "               'Idle', \n",
    "               'Mothballed', \n",
    "               'Retired']\n",
    "country_list = sorted(set(region_df_touse.Country.to_list())) #sorted(list(set(country_ratios_df_touse['Country'])))\n",
    "region_list = sorted(set(region_df_touse.Region.tolist())) #sorted(list(set(country_ratios_df_touse['Region'])))"
   ]
  },
  {
   "cell_type": "code",
   "execution_count": 9,
   "id": "99122012",
   "metadata": {
    "tags": []
   },
   "outputs": [],
   "source": [
    "excel_status_list = ['Proposed', \n",
    "                     'Construction', \n",
    "                     'In Development (Proposed + Construction)', \n",
    "                     'Shelved', \n",
    "                     'Cancelled', \n",
    "                     'Operating', \n",
    "                     'Idle', \n",
    "                     'Mothballed', \n",
    "                     'Retired']\n",
    "excel_status_list_with_countries = ['Country']+excel_status_list"
   ]
  },
  {
   "cell_type": "code",
   "execution_count": 10,
   "id": "e4a424de",
   "metadata": {
    "tags": []
   },
   "outputs": [
    {
     "name": "stdout",
     "output_type": "stream",
     "text": [
      "===country-level calculations===\n",
      "Proposed\n",
      "Construction\n",
      "Shelved\n",
      "Cancelled\n",
      "Operating\n",
      "Idle\n",
      "Mothballed\n",
      "Retired\n",
      "===regional calculations===\n",
      "Proposed\n",
      "Construction\n",
      "Shelved\n",
      "Cancelled\n",
      "Operating\n",
      "Idle\n",
      "Mothballed\n",
      "Retired\n"
     ]
    },
    {
     "name": "stderr",
     "output_type": "stream",
     "text": [
      "/var/folders/fl/t07mc8053p33mn6mdmvp45580000gn/T/ipykernel_91857/2424889997.py:33: FutureWarning: The frame.append method is deprecated and will be removed from pandas in a future version. Use pandas.concat instead.\n",
      "  km_by_region = km_by_region.append(totals_row)\n",
      "/var/folders/fl/t07mc8053p33mn6mdmvp45580000gn/T/ipykernel_91857/2424889997.py:37: FutureWarning: The frame.append method is deprecated and will be removed from pandas in a future version. Use pandas.concat instead.\n",
      "  km_by_country = km_by_country.append(totals_row)\n"
     ]
    }
   ],
   "source": [
    "country_ratios_df_subset = country_ratios_df_touse.copy()[country_ratios_df_touse['Fuel']==fuel_type]\n",
    "\n",
    "km_by_country = pandas.DataFrame(columns=status_list, index=country_list)\n",
    "km_by_region = pandas.DataFrame(columns=status_list, index=region_list)\n",
    "\n",
    "print('===country-level calculations===')\n",
    "for status in status_list:\n",
    "    print(status)\n",
    "    country_ratios_df_subset_status = country_ratios_df_subset[country_ratios_df_subset['Status']==status]\n",
    "    km_by_country[status] = country_ratios_df_subset_status.groupby('Country')['MergedKmByCountry'].sum()\n",
    "\n",
    "print('===regional calculations===')\n",
    "for status in status_list:\n",
    "    print(status)\n",
    "    country_ratios_df_subset_status = country_ratios_df_subset[country_ratios_df_subset['Status']==status]\n",
    "    km_by_region[status] = country_ratios_df_subset_status.groupby('Region')['MergedKmByCountry'].sum()\n",
    "\n",
    "# fille NaN with 0.0\n",
    "km_by_region = km_by_region.fillna(0)\n",
    "km_by_country = km_by_country.fillna(0)\n",
    "\n",
    "km_by_region['In Development (Proposed + Construction)'] = km_by_region[['Proposed','Construction']].sum(axis=1)\n",
    "km_by_country['In Development (Proposed + Construction)'] = km_by_country[['Proposed','Construction']].sum(axis=1)\n",
    "\n",
    "km_by_country = km_by_country[excel_status_list]\n",
    "km_by_region = km_by_region[excel_status_list]\n",
    "\n",
    "km_by_region.index.name = 'Region'\n",
    "km_by_country.index.name = 'Country'\n",
    "\n",
    "totals_row = km_by_region.sum(axis=0)\n",
    "totals_row.name = 'Total'\n",
    "km_by_region = km_by_region.append(totals_row)\n",
    "\n",
    "totals_row = km_by_country.sum(axis=0)\n",
    "totals_row.name = 'Total'\n",
    "km_by_country = km_by_country.append(totals_row)\n",
    "\n",
    "km_by_region.replace(0,'',inplace=True)\n",
    "km_by_country.replace(0,'',inplace=True)\n",
    "\n",
    "km_by_region.to_excel(excel_writer, 'Kilometers by region')\n",
    "km_by_country.to_excel(excel_writer, 'Kilometers by country')"
   ]
  },
  {
   "cell_type": "code",
   "execution_count": 11,
   "id": "abf63ca3-b279-41e8-80a2-7c6d3826b6a6",
   "metadata": {
    "scrolled": true,
    "tags": []
   },
   "outputs": [
    {
     "name": "stderr",
     "output_type": "stream",
     "text": [
      "/var/folders/fl/t07mc8053p33mn6mdmvp45580000gn/T/ipykernel_91857/1617861752.py:25: RuntimeWarning: invalid value encountered in scalar divide\n",
      "  fraction_in_region = country_ratios_df_temp_region.MergedKmByCountry.sum()/country_ratios_df_temp.MergedKmByCountry.sum()\n",
      "/var/folders/fl/t07mc8053p33mn6mdmvp45580000gn/T/ipykernel_91857/1617861752.py:25: RuntimeWarning: invalid value encountered in scalar divide\n",
      "  fraction_in_region = country_ratios_df_temp_region.MergedKmByCountry.sum()/country_ratios_df_temp.MergedKmByCountry.sum()\n",
      "/var/folders/fl/t07mc8053p33mn6mdmvp45580000gn/T/ipykernel_91857/1617861752.py:25: RuntimeWarning: invalid value encountered in scalar divide\n",
      "  fraction_in_region = country_ratios_df_temp_region.MergedKmByCountry.sum()/country_ratios_df_temp.MergedKmByCountry.sum()\n",
      "/var/folders/fl/t07mc8053p33mn6mdmvp45580000gn/T/ipykernel_91857/1617861752.py:25: RuntimeWarning: invalid value encountered in scalar divide\n",
      "  fraction_in_region = country_ratios_df_temp_region.MergedKmByCountry.sum()/country_ratios_df_temp.MergedKmByCountry.sum()\n",
      "/var/folders/fl/t07mc8053p33mn6mdmvp45580000gn/T/ipykernel_91857/1617861752.py:25: RuntimeWarning: invalid value encountered in scalar divide\n",
      "  fraction_in_region = country_ratios_df_temp_region.MergedKmByCountry.sum()/country_ratios_df_temp.MergedKmByCountry.sum()\n",
      "/var/folders/fl/t07mc8053p33mn6mdmvp45580000gn/T/ipykernel_91857/1617861752.py:25: RuntimeWarning: invalid value encountered in scalar divide\n",
      "  fraction_in_region = country_ratios_df_temp_region.MergedKmByCountry.sum()/country_ratios_df_temp.MergedKmByCountry.sum()\n",
      "/var/folders/fl/t07mc8053p33mn6mdmvp45580000gn/T/ipykernel_91857/1617861752.py:25: RuntimeWarning: invalid value encountered in scalar divide\n",
      "  fraction_in_region = country_ratios_df_temp_region.MergedKmByCountry.sum()/country_ratios_df_temp.MergedKmByCountry.sum()\n",
      "/var/folders/fl/t07mc8053p33mn6mdmvp45580000gn/T/ipykernel_91857/1617861752.py:25: RuntimeWarning: invalid value encountered in scalar divide\n",
      "  fraction_in_region = country_ratios_df_temp_region.MergedKmByCountry.sum()/country_ratios_df_temp.MergedKmByCountry.sum()\n",
      "/var/folders/fl/t07mc8053p33mn6mdmvp45580000gn/T/ipykernel_91857/1617861752.py:25: RuntimeWarning: invalid value encountered in scalar divide\n",
      "  fraction_in_region = country_ratios_df_temp_region.MergedKmByCountry.sum()/country_ratios_df_temp.MergedKmByCountry.sum()\n",
      "/var/folders/fl/t07mc8053p33mn6mdmvp45580000gn/T/ipykernel_91857/1617861752.py:25: RuntimeWarning: invalid value encountered in scalar divide\n",
      "  fraction_in_region = country_ratios_df_temp_region.MergedKmByCountry.sum()/country_ratios_df_temp.MergedKmByCountry.sum()\n",
      "/var/folders/fl/t07mc8053p33mn6mdmvp45580000gn/T/ipykernel_91857/1617861752.py:25: RuntimeWarning: invalid value encountered in scalar divide\n",
      "  fraction_in_region = country_ratios_df_temp_region.MergedKmByCountry.sum()/country_ratios_df_temp.MergedKmByCountry.sum()\n",
      "/var/folders/fl/t07mc8053p33mn6mdmvp45580000gn/T/ipykernel_91857/1617861752.py:25: RuntimeWarning: invalid value encountered in scalar divide\n",
      "  fraction_in_region = country_ratios_df_temp_region.MergedKmByCountry.sum()/country_ratios_df_temp.MergedKmByCountry.sum()\n",
      "/var/folders/fl/t07mc8053p33mn6mdmvp45580000gn/T/ipykernel_91857/1617861752.py:25: RuntimeWarning: invalid value encountered in scalar divide\n",
      "  fraction_in_region = country_ratios_df_temp_region.MergedKmByCountry.sum()/country_ratios_df_temp.MergedKmByCountry.sum()\n",
      "/var/folders/fl/t07mc8053p33mn6mdmvp45580000gn/T/ipykernel_91857/1617861752.py:25: RuntimeWarning: invalid value encountered in scalar divide\n",
      "  fraction_in_region = country_ratios_df_temp_region.MergedKmByCountry.sum()/country_ratios_df_temp.MergedKmByCountry.sum()\n",
      "/var/folders/fl/t07mc8053p33mn6mdmvp45580000gn/T/ipykernel_91857/1617861752.py:25: RuntimeWarning: invalid value encountered in scalar divide\n",
      "  fraction_in_region = country_ratios_df_temp_region.MergedKmByCountry.sum()/country_ratios_df_temp.MergedKmByCountry.sum()\n",
      "/var/folders/fl/t07mc8053p33mn6mdmvp45580000gn/T/ipykernel_91857/1617861752.py:25: RuntimeWarning: invalid value encountered in scalar divide\n",
      "  fraction_in_region = country_ratios_df_temp_region.MergedKmByCountry.sum()/country_ratios_df_temp.MergedKmByCountry.sum()\n",
      "/var/folders/fl/t07mc8053p33mn6mdmvp45580000gn/T/ipykernel_91857/1617861752.py:25: RuntimeWarning: invalid value encountered in scalar divide\n",
      "  fraction_in_region = country_ratios_df_temp_region.MergedKmByCountry.sum()/country_ratios_df_temp.MergedKmByCountry.sum()\n",
      "/var/folders/fl/t07mc8053p33mn6mdmvp45580000gn/T/ipykernel_91857/1617861752.py:25: RuntimeWarning: invalid value encountered in scalar divide\n",
      "  fraction_in_region = country_ratios_df_temp_region.MergedKmByCountry.sum()/country_ratios_df_temp.MergedKmByCountry.sum()\n",
      "/var/folders/fl/t07mc8053p33mn6mdmvp45580000gn/T/ipykernel_91857/1617861752.py:25: RuntimeWarning: invalid value encountered in scalar divide\n",
      "  fraction_in_region = country_ratios_df_temp_region.MergedKmByCountry.sum()/country_ratios_df_temp.MergedKmByCountry.sum()\n",
      "/var/folders/fl/t07mc8053p33mn6mdmvp45580000gn/T/ipykernel_91857/1617861752.py:25: RuntimeWarning: invalid value encountered in scalar divide\n",
      "  fraction_in_region = country_ratios_df_temp_region.MergedKmByCountry.sum()/country_ratios_df_temp.MergedKmByCountry.sum()\n",
      "/var/folders/fl/t07mc8053p33mn6mdmvp45580000gn/T/ipykernel_91857/1617861752.py:25: RuntimeWarning: invalid value encountered in scalar divide\n",
      "  fraction_in_region = country_ratios_df_temp_region.MergedKmByCountry.sum()/country_ratios_df_temp.MergedKmByCountry.sum()\n",
      "/var/folders/fl/t07mc8053p33mn6mdmvp45580000gn/T/ipykernel_91857/1617861752.py:25: RuntimeWarning: invalid value encountered in scalar divide\n",
      "  fraction_in_region = country_ratios_df_temp_region.MergedKmByCountry.sum()/country_ratios_df_temp.MergedKmByCountry.sum()\n",
      "/var/folders/fl/t07mc8053p33mn6mdmvp45580000gn/T/ipykernel_91857/1617861752.py:25: RuntimeWarning: invalid value encountered in scalar divide\n",
      "  fraction_in_region = country_ratios_df_temp_region.MergedKmByCountry.sum()/country_ratios_df_temp.MergedKmByCountry.sum()\n",
      "/var/folders/fl/t07mc8053p33mn6mdmvp45580000gn/T/ipykernel_91857/1617861752.py:25: RuntimeWarning: invalid value encountered in scalar divide\n",
      "  fraction_in_region = country_ratios_df_temp_region.MergedKmByCountry.sum()/country_ratios_df_temp.MergedKmByCountry.sum()\n",
      "/var/folders/fl/t07mc8053p33mn6mdmvp45580000gn/T/ipykernel_91857/1617861752.py:25: RuntimeWarning: invalid value encountered in scalar divide\n",
      "  fraction_in_region = country_ratios_df_temp_region.MergedKmByCountry.sum()/country_ratios_df_temp.MergedKmByCountry.sum()\n",
      "/var/folders/fl/t07mc8053p33mn6mdmvp45580000gn/T/ipykernel_91857/1617861752.py:25: RuntimeWarning: invalid value encountered in scalar divide\n",
      "  fraction_in_region = country_ratios_df_temp_region.MergedKmByCountry.sum()/country_ratios_df_temp.MergedKmByCountry.sum()\n",
      "/var/folders/fl/t07mc8053p33mn6mdmvp45580000gn/T/ipykernel_91857/1617861752.py:25: RuntimeWarning: invalid value encountered in scalar divide\n",
      "  fraction_in_region = country_ratios_df_temp_region.MergedKmByCountry.sum()/country_ratios_df_temp.MergedKmByCountry.sum()\n",
      "/var/folders/fl/t07mc8053p33mn6mdmvp45580000gn/T/ipykernel_91857/1617861752.py:25: RuntimeWarning: invalid value encountered in scalar divide\n",
      "  fraction_in_region = country_ratios_df_temp_region.MergedKmByCountry.sum()/country_ratios_df_temp.MergedKmByCountry.sum()\n",
      "/var/folders/fl/t07mc8053p33mn6mdmvp45580000gn/T/ipykernel_91857/1617861752.py:25: RuntimeWarning: invalid value encountered in scalar divide\n",
      "  fraction_in_region = country_ratios_df_temp_region.MergedKmByCountry.sum()/country_ratios_df_temp.MergedKmByCountry.sum()\n",
      "/var/folders/fl/t07mc8053p33mn6mdmvp45580000gn/T/ipykernel_91857/1617861752.py:25: RuntimeWarning: invalid value encountered in scalar divide\n",
      "  fraction_in_region = country_ratios_df_temp_region.MergedKmByCountry.sum()/country_ratios_df_temp.MergedKmByCountry.sum()\n",
      "/var/folders/fl/t07mc8053p33mn6mdmvp45580000gn/T/ipykernel_91857/1617861752.py:25: RuntimeWarning: invalid value encountered in scalar divide\n",
      "  fraction_in_region = country_ratios_df_temp_region.MergedKmByCountry.sum()/country_ratios_df_temp.MergedKmByCountry.sum()\n",
      "/var/folders/fl/t07mc8053p33mn6mdmvp45580000gn/T/ipykernel_91857/1617861752.py:25: RuntimeWarning: invalid value encountered in scalar divide\n",
      "  fraction_in_region = country_ratios_df_temp_region.MergedKmByCountry.sum()/country_ratios_df_temp.MergedKmByCountry.sum()\n",
      "/var/folders/fl/t07mc8053p33mn6mdmvp45580000gn/T/ipykernel_91857/1617861752.py:25: RuntimeWarning: invalid value encountered in scalar divide\n",
      "  fraction_in_region = country_ratios_df_temp_region.MergedKmByCountry.sum()/country_ratios_df_temp.MergedKmByCountry.sum()\n",
      "/var/folders/fl/t07mc8053p33mn6mdmvp45580000gn/T/ipykernel_91857/1617861752.py:25: RuntimeWarning: invalid value encountered in scalar divide\n",
      "  fraction_in_region = country_ratios_df_temp_region.MergedKmByCountry.sum()/country_ratios_df_temp.MergedKmByCountry.sum()\n",
      "/var/folders/fl/t07mc8053p33mn6mdmvp45580000gn/T/ipykernel_91857/1617861752.py:25: RuntimeWarning: invalid value encountered in scalar divide\n",
      "  fraction_in_region = country_ratios_df_temp_region.MergedKmByCountry.sum()/country_ratios_df_temp.MergedKmByCountry.sum()\n",
      "/var/folders/fl/t07mc8053p33mn6mdmvp45580000gn/T/ipykernel_91857/1617861752.py:25: RuntimeWarning: invalid value encountered in scalar divide\n",
      "  fraction_in_region = country_ratios_df_temp_region.MergedKmByCountry.sum()/country_ratios_df_temp.MergedKmByCountry.sum()\n",
      "/var/folders/fl/t07mc8053p33mn6mdmvp45580000gn/T/ipykernel_91857/1617861752.py:25: RuntimeWarning: invalid value encountered in scalar divide\n",
      "  fraction_in_region = country_ratios_df_temp_region.MergedKmByCountry.sum()/country_ratios_df_temp.MergedKmByCountry.sum()\n",
      "/var/folders/fl/t07mc8053p33mn6mdmvp45580000gn/T/ipykernel_91857/1617861752.py:25: RuntimeWarning: invalid value encountered in scalar divide\n",
      "  fraction_in_region = country_ratios_df_temp_region.MergedKmByCountry.sum()/country_ratios_df_temp.MergedKmByCountry.sum()\n",
      "/var/folders/fl/t07mc8053p33mn6mdmvp45580000gn/T/ipykernel_91857/1617861752.py:25: RuntimeWarning: invalid value encountered in scalar divide\n",
      "  fraction_in_region = country_ratios_df_temp_region.MergedKmByCountry.sum()/country_ratios_df_temp.MergedKmByCountry.sum()\n",
      "/var/folders/fl/t07mc8053p33mn6mdmvp45580000gn/T/ipykernel_91857/1617861752.py:25: RuntimeWarning: invalid value encountered in scalar divide\n",
      "  fraction_in_region = country_ratios_df_temp_region.MergedKmByCountry.sum()/country_ratios_df_temp.MergedKmByCountry.sum()\n",
      "/var/folders/fl/t07mc8053p33mn6mdmvp45580000gn/T/ipykernel_91857/1617861752.py:25: RuntimeWarning: invalid value encountered in scalar divide\n",
      "  fraction_in_region = country_ratios_df_temp_region.MergedKmByCountry.sum()/country_ratios_df_temp.MergedKmByCountry.sum()\n",
      "/var/folders/fl/t07mc8053p33mn6mdmvp45580000gn/T/ipykernel_91857/1617861752.py:25: RuntimeWarning: invalid value encountered in scalar divide\n",
      "  fraction_in_region = country_ratios_df_temp_region.MergedKmByCountry.sum()/country_ratios_df_temp.MergedKmByCountry.sum()\n",
      "/var/folders/fl/t07mc8053p33mn6mdmvp45580000gn/T/ipykernel_91857/1617861752.py:25: RuntimeWarning: invalid value encountered in scalar divide\n",
      "  fraction_in_region = country_ratios_df_temp_region.MergedKmByCountry.sum()/country_ratios_df_temp.MergedKmByCountry.sum()\n",
      "/var/folders/fl/t07mc8053p33mn6mdmvp45580000gn/T/ipykernel_91857/1617861752.py:25: RuntimeWarning: invalid value encountered in scalar divide\n",
      "  fraction_in_region = country_ratios_df_temp_region.MergedKmByCountry.sum()/country_ratios_df_temp.MergedKmByCountry.sum()\n",
      "/var/folders/fl/t07mc8053p33mn6mdmvp45580000gn/T/ipykernel_91857/1617861752.py:25: RuntimeWarning: invalid value encountered in scalar divide\n",
      "  fraction_in_region = country_ratios_df_temp_region.MergedKmByCountry.sum()/country_ratios_df_temp.MergedKmByCountry.sum()\n",
      "/var/folders/fl/t07mc8053p33mn6mdmvp45580000gn/T/ipykernel_91857/1617861752.py:25: RuntimeWarning: invalid value encountered in scalar divide\n",
      "  fraction_in_region = country_ratios_df_temp_region.MergedKmByCountry.sum()/country_ratios_df_temp.MergedKmByCountry.sum()\n",
      "/var/folders/fl/t07mc8053p33mn6mdmvp45580000gn/T/ipykernel_91857/1617861752.py:25: RuntimeWarning: invalid value encountered in scalar divide\n",
      "  fraction_in_region = country_ratios_df_temp_region.MergedKmByCountry.sum()/country_ratios_df_temp.MergedKmByCountry.sum()\n",
      "/var/folders/fl/t07mc8053p33mn6mdmvp45580000gn/T/ipykernel_91857/1617861752.py:25: RuntimeWarning: invalid value encountered in scalar divide\n",
      "  fraction_in_region = country_ratios_df_temp_region.MergedKmByCountry.sum()/country_ratios_df_temp.MergedKmByCountry.sum()\n",
      "/var/folders/fl/t07mc8053p33mn6mdmvp45580000gn/T/ipykernel_91857/1617861752.py:25: RuntimeWarning: invalid value encountered in scalar divide\n",
      "  fraction_in_region = country_ratios_df_temp_region.MergedKmByCountry.sum()/country_ratios_df_temp.MergedKmByCountry.sum()\n",
      "/var/folders/fl/t07mc8053p33mn6mdmvp45580000gn/T/ipykernel_91857/1617861752.py:25: RuntimeWarning: invalid value encountered in scalar divide\n",
      "  fraction_in_region = country_ratios_df_temp_region.MergedKmByCountry.sum()/country_ratios_df_temp.MergedKmByCountry.sum()\n",
      "/var/folders/fl/t07mc8053p33mn6mdmvp45580000gn/T/ipykernel_91857/1617861752.py:25: RuntimeWarning: invalid value encountered in scalar divide\n",
      "  fraction_in_region = country_ratios_df_temp_region.MergedKmByCountry.sum()/country_ratios_df_temp.MergedKmByCountry.sum()\n",
      "/var/folders/fl/t07mc8053p33mn6mdmvp45580000gn/T/ipykernel_91857/1617861752.py:25: RuntimeWarning: invalid value encountered in scalar divide\n",
      "  fraction_in_region = country_ratios_df_temp_region.MergedKmByCountry.sum()/country_ratios_df_temp.MergedKmByCountry.sum()\n",
      "/var/folders/fl/t07mc8053p33mn6mdmvp45580000gn/T/ipykernel_91857/1617861752.py:25: RuntimeWarning: invalid value encountered in scalar divide\n",
      "  fraction_in_region = country_ratios_df_temp_region.MergedKmByCountry.sum()/country_ratios_df_temp.MergedKmByCountry.sum()\n",
      "/var/folders/fl/t07mc8053p33mn6mdmvp45580000gn/T/ipykernel_91857/1617861752.py:25: RuntimeWarning: invalid value encountered in scalar divide\n",
      "  fraction_in_region = country_ratios_df_temp_region.MergedKmByCountry.sum()/country_ratios_df_temp.MergedKmByCountry.sum()\n",
      "/var/folders/fl/t07mc8053p33mn6mdmvp45580000gn/T/ipykernel_91857/1617861752.py:25: RuntimeWarning: invalid value encountered in scalar divide\n",
      "  fraction_in_region = country_ratios_df_temp_region.MergedKmByCountry.sum()/country_ratios_df_temp.MergedKmByCountry.sum()\n",
      "/var/folders/fl/t07mc8053p33mn6mdmvp45580000gn/T/ipykernel_91857/1617861752.py:25: RuntimeWarning: invalid value encountered in scalar divide\n",
      "  fraction_in_region = country_ratios_df_temp_region.MergedKmByCountry.sum()/country_ratios_df_temp.MergedKmByCountry.sum()\n",
      "/var/folders/fl/t07mc8053p33mn6mdmvp45580000gn/T/ipykernel_91857/1617861752.py:25: RuntimeWarning: invalid value encountered in scalar divide\n",
      "  fraction_in_region = country_ratios_df_temp_region.MergedKmByCountry.sum()/country_ratios_df_temp.MergedKmByCountry.sum()\n",
      "/var/folders/fl/t07mc8053p33mn6mdmvp45580000gn/T/ipykernel_91857/1617861752.py:25: RuntimeWarning: invalid value encountered in scalar divide\n",
      "  fraction_in_region = country_ratios_df_temp_region.MergedKmByCountry.sum()/country_ratios_df_temp.MergedKmByCountry.sum()\n",
      "/var/folders/fl/t07mc8053p33mn6mdmvp45580000gn/T/ipykernel_91857/1617861752.py:25: RuntimeWarning: invalid value encountered in scalar divide\n",
      "  fraction_in_region = country_ratios_df_temp_region.MergedKmByCountry.sum()/country_ratios_df_temp.MergedKmByCountry.sum()\n",
      "/var/folders/fl/t07mc8053p33mn6mdmvp45580000gn/T/ipykernel_91857/1617861752.py:25: RuntimeWarning: invalid value encountered in scalar divide\n",
      "  fraction_in_region = country_ratios_df_temp_region.MergedKmByCountry.sum()/country_ratios_df_temp.MergedKmByCountry.sum()\n",
      "/var/folders/fl/t07mc8053p33mn6mdmvp45580000gn/T/ipykernel_91857/1617861752.py:25: RuntimeWarning: invalid value encountered in scalar divide\n",
      "  fraction_in_region = country_ratios_df_temp_region.MergedKmByCountry.sum()/country_ratios_df_temp.MergedKmByCountry.sum()\n",
      "/var/folders/fl/t07mc8053p33mn6mdmvp45580000gn/T/ipykernel_91857/1617861752.py:25: RuntimeWarning: invalid value encountered in scalar divide\n",
      "  fraction_in_region = country_ratios_df_temp_region.MergedKmByCountry.sum()/country_ratios_df_temp.MergedKmByCountry.sum()\n",
      "/var/folders/fl/t07mc8053p33mn6mdmvp45580000gn/T/ipykernel_91857/1617861752.py:25: RuntimeWarning: invalid value encountered in scalar divide\n",
      "  fraction_in_region = country_ratios_df_temp_region.MergedKmByCountry.sum()/country_ratios_df_temp.MergedKmByCountry.sum()\n",
      "/var/folders/fl/t07mc8053p33mn6mdmvp45580000gn/T/ipykernel_91857/1617861752.py:25: RuntimeWarning: invalid value encountered in scalar divide\n",
      "  fraction_in_region = country_ratios_df_temp_region.MergedKmByCountry.sum()/country_ratios_df_temp.MergedKmByCountry.sum()\n",
      "/var/folders/fl/t07mc8053p33mn6mdmvp45580000gn/T/ipykernel_91857/1617861752.py:25: RuntimeWarning: invalid value encountered in scalar divide\n",
      "  fraction_in_region = country_ratios_df_temp_region.MergedKmByCountry.sum()/country_ratios_df_temp.MergedKmByCountry.sum()\n",
      "/var/folders/fl/t07mc8053p33mn6mdmvp45580000gn/T/ipykernel_91857/1617861752.py:25: RuntimeWarning: invalid value encountered in scalar divide\n",
      "  fraction_in_region = country_ratios_df_temp_region.MergedKmByCountry.sum()/country_ratios_df_temp.MergedKmByCountry.sum()\n",
      "/var/folders/fl/t07mc8053p33mn6mdmvp45580000gn/T/ipykernel_91857/1617861752.py:25: RuntimeWarning: invalid value encountered in scalar divide\n",
      "  fraction_in_region = country_ratios_df_temp_region.MergedKmByCountry.sum()/country_ratios_df_temp.MergedKmByCountry.sum()\n",
      "/var/folders/fl/t07mc8053p33mn6mdmvp45580000gn/T/ipykernel_91857/1617861752.py:25: RuntimeWarning: invalid value encountered in scalar divide\n",
      "  fraction_in_region = country_ratios_df_temp_region.MergedKmByCountry.sum()/country_ratios_df_temp.MergedKmByCountry.sum()\n",
      "/var/folders/fl/t07mc8053p33mn6mdmvp45580000gn/T/ipykernel_91857/1617861752.py:25: RuntimeWarning: invalid value encountered in scalar divide\n",
      "  fraction_in_region = country_ratios_df_temp_region.MergedKmByCountry.sum()/country_ratios_df_temp.MergedKmByCountry.sum()\n",
      "/var/folders/fl/t07mc8053p33mn6mdmvp45580000gn/T/ipykernel_91857/1617861752.py:25: RuntimeWarning: invalid value encountered in scalar divide\n",
      "  fraction_in_region = country_ratios_df_temp_region.MergedKmByCountry.sum()/country_ratios_df_temp.MergedKmByCountry.sum()\n"
     ]
    }
   ],
   "source": [
    "owner_parent_calculations_df = pandas.DataFrame()\n",
    "\n",
    "for idx,row in pipes_df_touse.iterrows():\n",
    "    parent_string = row.Parent\n",
    "    #print(parent_string)\n",
    "    parent_list = re.sub(' \\[.*?\\]', '', parent_string).split('; ') # all entries must have a Owner [%] syntax\n",
    "    percent_list = [float(i.rstrip('%'))/100. for i in re.findall('\\\\d+(?:\\\\.\\\\d+)?%', parent_string)]\n",
    "\n",
    "    if parent_list.__len__()!=percent_list.__len__():\n",
    "        if percent_list==[]:\n",
    "            percent_list = [1/parent_list.__len__() for i in parent_list]\n",
    "        else:\n",
    "            nmissing = parent_list.__len__()-percent_list.__len__()\n",
    "            # distribute nans evenly\n",
    "            total = numpy.nansum(percent_list)\n",
    "            leftover = 1-total\n",
    "            percent_list += [leftover/nmissing]*nmissing\n",
    "\n",
    "    # how many countries is this pipeline in?\n",
    "    country_ratios_df_temp = country_ratios_df.loc[country_ratios_df.ProjectID==row.ProjectID]\n",
    "    #print(country_ratios_df_temp)\n",
    "    country_ratios_df_temp_region = country_ratios_df.loc[(country_ratios_df.ProjectID==row.ProjectID)&\n",
    "                                                          (country_ratios_df.Country.isin(region_df_touse.Country.tolist()))]\n",
    "    # fraction of this pipeline that is within the regional countries we care about\n",
    "    fraction_in_region = country_ratios_df_temp_region.MergedKmByCountry.sum()/country_ratios_df_temp.MergedKmByCountry.sum()\n",
    "    \n",
    "    for p_idx,parent in enumerate(parent_list):\n",
    "        for country in country_ratios_df_temp_region.Country.tolist():\n",
    "            merged_km_by_country = country_ratios_df.loc[(country_ratios_df.ProjectID==row.ProjectID)&\n",
    "                                                         (country_ratios_df.Country==country),'MergedKmByCountry'].values[0]\n",
    "            owner_parent_calculations_df = pandas.concat([owner_parent_calculations_df, \n",
    "                                                          pandas.DataFrame([{'Parent':parent, 'ProjectID':row.ProjectID, \n",
    "                                                                             'FractionOwnership':percent_list[p_idx],\n",
    "                                                                             'LengthMergedKm':row.LengthMergedKm,\n",
    "                                                                             'FractionInRegion':fraction_in_region,\n",
    "                                                                             'MergedKmByCountry':merged_km_by_country,\n",
    "                                                                             'Country':country,\n",
    "                                                                             'Status':row.Status,\n",
    "                                                                             'KmOwnershipInCountry':percent_list[p_idx]*merged_km_by_country}])])\n",
    "\n",
    "owner_parent_calculations_df['KmOwnership'] = owner_parent_calculations_df['FractionOwnership']*owner_parent_calculations_df['LengthMergedKm']\n",
    "owner_parent_calculations_df['KmOwnershipInRegion'] = owner_parent_calculations_df['FractionOwnership']*owner_parent_calculations_df['LengthMergedKm']*owner_parent_calculations_df['FractionInRegion']"
   ]
  },
  {
   "cell_type": "code",
   "execution_count": 12,
   "id": "08d68268-6984-4450-b20d-de4d82daa488",
   "metadata": {
    "tags": []
   },
   "outputs": [
    {
     "name": "stderr",
     "output_type": "stream",
     "text": [
      "/var/folders/fl/t07mc8053p33mn6mdmvp45580000gn/T/ipykernel_91857/1223874245.py:18: FutureWarning: The frame.append method is deprecated and will be removed from pandas in a future version. Use pandas.concat instead.\n",
      "  owners_km_by_status_df = owners_km_by_status_df.append(totals_row)\n",
      "/Users/baird/mambaforge/envs/gem/lib/python3.9/site-packages/openpyxl/workbook/child.py:99: UserWarning: Title is more than 31 characters. Some applications may not be able to read the file\n",
      "  warnings.warn(\"Title is more than 31 characters. Some applications may not be able to read the file\")\n"
     ]
    }
   ],
   "source": [
    "owners_km_by_status_df = owner_parent_calculations_df.groupby(['Parent','Country','Status'])[['KmOwnershipInCountry']].sum()\n",
    "\n",
    "owners_km_by_status_df = owner_parent_calculations_df.groupby(['Parent','Country','Status']).agg(\n",
    "    {'KmOwnershipInCountry':['sum']}).unstack().droplevel(axis=1, level=[0,1])\n",
    "\n",
    "owners_km_by_status_df = owners_km_by_status_df.reindex(columns=status_list)\n",
    "owners_km_by_status_df = owners_km_by_status_df.reset_index().set_index('Parent')\n",
    "owners_km_by_status_df.columns.name = None\n",
    "\n",
    "owners_km_by_status_df['In Development (Proposed + Construction)'] = \\\n",
    "    owners_km_by_status_df[['Construction','Proposed']].sum(min_count=1, axis=1)\n",
    "\n",
    "# rearrange the order of the columns for output\n",
    "owners_km_by_status_df = owners_km_by_status_df[excel_status_list_with_countries]\n",
    "\n",
    "totals_row = owners_km_by_status_df.sum(axis=0, min_count=0)\n",
    "totals_row.name = 'Total'\n",
    "owners_km_by_status_df = owners_km_by_status_df.append(totals_row)\n",
    "owners_km_by_status_df.loc['Total','Country'] = ''\n",
    "\n",
    "owners_km_by_status_df = owners_km_by_status_df.replace(numpy.nan, '')\n",
    "owners_km_by_status_df = owners_km_by_status_df.replace(0, '')\n",
    "\n",
    "# missing_columns = set(status_list)-set(owners_km_by_status_df.columns)\n",
    "# for col in missing_columns:\n",
    "#     owners_km_by_status_df[col] = 0\n",
    "\n",
    "owners_km_by_status_df.to_excel(excel_writer, sheet_name='Pipeline km by company and country')"
   ]
  },
  {
   "cell_type": "markdown",
   "id": "b5c7bac3",
   "metadata": {},
   "source": [
    "### pipeline km by start year, type"
   ]
  },
  {
   "cell_type": "code",
   "execution_count": 13,
   "id": "ce1cc9f6",
   "metadata": {
    "tags": []
   },
   "outputs": [],
   "source": [
    "pipes_started_eu = pipes_df_touse.copy()\n",
    "#pipes_started_eu['StartYearLatest'].replace(numpy.nan,'',inplace=True)\n",
    "\n",
    "pipes_started_eu = pipes_started_eu[(pipes_started_eu['Status'].isin(['Operating'])) &\n",
    "                              (pipes_started_eu['Fuel']=='Gas')]\n",
    "pipes_started_eu_sum = pipes_started_eu.groupby('StartYearEarliest')['LengthMergedKm'].sum()"
   ]
  },
  {
   "cell_type": "code",
   "execution_count": 14,
   "id": "3088dfbc",
   "metadata": {
    "tags": []
   },
   "outputs": [
    {
     "name": "stderr",
     "output_type": "stream",
     "text": [
      "/var/folders/fl/t07mc8053p33mn6mdmvp45580000gn/T/ipykernel_91857/3679674183.py:9: FutureWarning: The frame.append method is deprecated and will be removed from pandas in a future version. Use pandas.concat instead.\n",
      "  km_by_start_year = km_by_start_year.append(totals_row)\n"
     ]
    }
   ],
   "source": [
    "km_by_start_year = pandas.DataFrame(index=list(range(1980,2023)), columns=['Gas pipeline km'])\n",
    "km_by_start_year.index.name = 'Start year'\n",
    "\n",
    "km_by_start_year['Gas pipeline km'] = pipes_started_eu_sum\n",
    "km_by_start_year.replace(numpy.nan,0,inplace=True)\n",
    "\n",
    "totals_row = km_by_start_year.sum(axis=0)\n",
    "totals_row.name = 'Total'\n",
    "km_by_start_year = km_by_start_year.append(totals_row)\n",
    "\n",
    "km_by_start_year.replace(0,'',inplace=True)\n",
    "\n",
    "km_by_start_year.to_excel(excel_writer, 'Kilometers by start year')"
   ]
  },
  {
   "cell_type": "markdown",
   "id": "116aee49-b451-47bd-bcc7-fc4a161d6075",
   "metadata": {},
   "source": [
    "## save excel file"
   ]
  },
  {
   "cell_type": "code",
   "execution_count": 15,
   "id": "34771081-df2d-487b-a021-31a9bad1dba1",
   "metadata": {
    "tags": []
   },
   "outputs": [
    {
     "name": "stderr",
     "output_type": "stream",
     "text": [
      "/var/folders/fl/t07mc8053p33mn6mdmvp45580000gn/T/ipykernel_91857/2638382022.py:1: FutureWarning: save is not part of the public API, usage can give unexpected results and will be removed in a future version\n",
      "  excel_writer.save()\n"
     ]
    }
   ],
   "source": [
    "excel_writer.save()"
   ]
  },
  {
   "cell_type": "code",
   "execution_count": null,
   "id": "939bad69-5fda-4a13-8899-514e898ad194",
   "metadata": {},
   "outputs": [],
   "source": []
  }
 ],
 "metadata": {
  "kernelspec": {
   "display_name": "Python 3 (ipykernel)",
   "language": "python",
   "name": "python3"
  },
  "language_info": {
   "codemirror_mode": {
    "name": "ipython",
    "version": 3
   },
   "file_extension": ".py",
   "mimetype": "text/x-python",
   "name": "python",
   "nbconvert_exporter": "python",
   "pygments_lexer": "ipython3",
   "version": "3.9.16"
  }
 },
 "nbformat": 4,
 "nbformat_minor": 5
}
