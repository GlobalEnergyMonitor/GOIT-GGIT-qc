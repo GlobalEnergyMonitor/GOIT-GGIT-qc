{
 "cells": [
  {
   "cell_type": "code",
   "execution_count": 1,
   "id": "24befb0b",
   "metadata": {},
   "outputs": [],
   "source": [
    "import pandas\n",
    "pandas.set_option(\"display.max_rows\", 50, \"display.max_columns\", 500)\n",
    "\n",
    "import numpy\n",
    "import pygsheets\n",
    "\n",
    "import datetime"
   ]
  },
  {
   "cell_type": "code",
   "execution_count": 2,
   "id": "fe20c5fc-a0c0-4fd0-b546-cc8cc7c4aa57",
   "metadata": {},
   "outputs": [],
   "source": [
    "credentials_directory = '/Users/baird/Dropbox/_google-api/'\n",
    "gc = pygsheets.authorize(client_secret=credentials_directory+'client_secret.json')\n",
    "spreadsheet = gc.open_by_key('1tcS6Wd-Wp-LTDpLzFgJY_RSNDnbyubW3J_9HKIAys4A')\n",
    "\n",
    "#spreadsheet[1] \"Gas Pipelines\" tab is the second index\n",
    "terms_df_orig = spreadsheet.worksheet('title', 'Terminals').get_as_df()"
   ]
  },
  {
   "cell_type": "code",
   "execution_count": 3,
   "id": "5484e341-dfc7-4136-ba42-52082bee44b9",
   "metadata": {},
   "outputs": [
    {
     "ename": "NameError",
     "evalue": "name 'owners_df_orig' is not defined",
     "output_type": "error",
     "traceback": [
      "\u001b[0;31m---------------------------------------------------------------------------\u001b[0m",
      "\u001b[0;31mNameError\u001b[0m                                 Traceback (most recent call last)",
      "Input \u001b[0;32mIn [3]\u001b[0m, in \u001b[0;36m<module>\u001b[0;34m\u001b[0m\n\u001b[1;32m      1\u001b[0m terms_df_orig\u001b[38;5;241m.\u001b[39mreplace(\u001b[38;5;124m'\u001b[39m\u001b[38;5;124m--\u001b[39m\u001b[38;5;124m'\u001b[39m, numpy\u001b[38;5;241m.\u001b[39mnan, inplace\u001b[38;5;241m=\u001b[39m\u001b[38;5;28;01mTrue\u001b[39;00m)\n\u001b[0;32m----> 3\u001b[0m \u001b[43mowners_df_orig\u001b[49m\u001b[38;5;241m.\u001b[39mreplace(\u001b[38;5;124m'\u001b[39m\u001b[38;5;124m--\u001b[39m\u001b[38;5;124m'\u001b[39m, numpy\u001b[38;5;241m.\u001b[39mnan, inplace\u001b[38;5;241m=\u001b[39m\u001b[38;5;28;01mTrue\u001b[39;00m)\n\u001b[1;32m      4\u001b[0m owners_df_orig\u001b[38;5;241m.\u001b[39mreplace(\u001b[38;5;124m'\u001b[39m\u001b[38;5;124m'\u001b[39m, numpy\u001b[38;5;241m.\u001b[39mnan, inplace\u001b[38;5;241m=\u001b[39m\u001b[38;5;28;01mTrue\u001b[39;00m)\n",
      "\u001b[0;31mNameError\u001b[0m: name 'owners_df_orig' is not defined"
     ]
    }
   ],
   "source": [
    "terms_df_orig.replace('--', numpy.nan, inplace=True)\n",
    "\n",
    "owners_df_orig.replace('--', numpy.nan, inplace=True)\n",
    "owners_df_orig.replace('', numpy.nan, inplace=True)\n",
    "\n",
    "# drop any terminals without a country?"
   ]
  },
  {
   "cell_type": "code",
   "execution_count": 23,
   "id": "4460aeaa-4a58-4b33-aa54-883aff1c45c3",
   "metadata": {},
   "outputs": [],
   "source": [
    "region_df_orig = spreadsheet.worksheet('title', 'Region dictionary').get_as_df()\n",
    "region_df_africa = region_df_orig.loc[(region_df_orig['AfricaGasTracker']=='Yes')]"
   ]
  },
  {
   "cell_type": "code",
   "execution_count": 24,
   "id": "2ca7995d-abb0-441e-ad8e-18f975d8b970",
   "metadata": {},
   "outputs": [],
   "source": [
    "region_df_touse = region_df_africa.copy()"
   ]
  },
  {
   "cell_type": "code",
   "execution_count": 38,
   "id": "f0ff56db-f6ae-48fd-89bf-9f112917c987",
   "metadata": {},
   "outputs": [],
   "source": [
    "terms_regional_df_indev = terms_df_orig.loc[(terms_df_orig.Country.isin(region_df_touse.Country))&\n",
    "                                            (terms_df_orig.Status.isin(['Proposed','Construction']))]"
   ]
  },
  {
   "cell_type": "code",
   "execution_count": 39,
   "id": "42443894-5b30-448f-b649-d8ba0d4c5eeb",
   "metadata": {},
   "outputs": [
    {
     "data": {
      "text/plain": [
       "13.73"
      ]
     },
     "execution_count": 39,
     "metadata": {},
     "output_type": "execute_result"
    }
   ],
   "source": [
    "terms_regional_df_indev.loc[terms_regional_df_indev.Facility=='Import']['CapacityInMtpa'].sum()"
   ]
  },
  {
   "cell_type": "code",
   "execution_count": 55,
   "id": "0ed8b71c-ce4c-4e2a-af82-ed9b971e9c95",
   "metadata": {},
   "outputs": [
    {
     "data": {
      "text/plain": [
       "(13, 74)"
      ]
     },
     "execution_count": 55,
     "metadata": {},
     "output_type": "execute_result"
    }
   ],
   "source": [
    "terms_regional_df_indev.loc[terms_regional_df_indev.Facility=='Import'].shape"
   ]
  },
  {
   "cell_type": "code",
   "execution_count": 40,
   "id": "2ee4d270-7275-4d3b-899f-e3645b6ff4cd",
   "metadata": {},
   "outputs": [
    {
     "data": {
      "text/plain": [
       "61.61"
      ]
     },
     "execution_count": 40,
     "metadata": {},
     "output_type": "execute_result"
    }
   ],
   "source": [
    "terms_regional_df_indev.loc[terms_regional_df_indev.Facility=='Export']['CapacityInMtpa'].sum()"
   ]
  },
  {
   "cell_type": "code",
   "execution_count": 54,
   "id": "8f2be95c-7842-49e0-bc75-44e36bcb4f23",
   "metadata": {},
   "outputs": [
    {
     "data": {
      "text/plain": [
       "(28, 74)"
      ]
     },
     "execution_count": 54,
     "metadata": {},
     "output_type": "execute_result"
    }
   ],
   "source": [
    "terms_regional_df_indev.loc[terms_regional_df_indev.Facility=='Export'].shape"
   ]
  },
  {
   "cell_type": "markdown",
   "id": "ffb08b46-185b-4e17-85fb-156a66958084",
   "metadata": {},
   "source": [
    "## pipeline now"
   ]
  },
  {
   "cell_type": "code",
   "execution_count": 41,
   "id": "c2f11c9a-df2d-4b68-bf35-64529a04ffd5",
   "metadata": {},
   "outputs": [],
   "source": [
    "credentials_directory = '/Users/baird/Dropbox/_google-api/'\n",
    "gc = pygsheets.authorize(client_secret=credentials_directory+'client_secret.json')\n",
    "spreadsheet = gc.open_by_key('1foPLE6K-uqFlaYgLPAUxzeXfDO5wOOqE7tibNHeqTek')\n",
    "\n",
    "gas_pipes = spreadsheet.worksheet('title', 'Gas pipelines').get_as_df()\n",
    "oil_pipes = spreadsheet.worksheet('title', 'Oil/NGL pipelines').get_as_df()\n",
    "\n",
    "gas_pipes = gas_pipes.drop('WKTFormat', axis=1) # delete WKTFormat column\n",
    "oil_pipes = oil_pipes.drop('WKTFormat', axis=1)\n",
    "pipes_df_orig = pandas.concat([oil_pipes, gas_pipes], ignore_index=True)\n",
    "\n",
    "#get other relevant sheets\n",
    "country_ratios_df = spreadsheet.worksheet('title', 'Country ratios by pipeline').get_as_df()\n",
    "owners_df_orig = spreadsheet.worksheet('title', 'Pipeline operators/owners (1/3)').get_as_df()\n",
    "\n",
    "# remove empty cells for pipes, owners\n",
    "pipes_df_orig = pipes_df_orig[pipes_df_orig['PipelineName']!='']\n",
    "owners_df_orig = owners_df_orig[owners_df_orig['ProjectID']!='']\n",
    "\n",
    "owners_df_orig.set_index('ProjectID', inplace=True)"
   ]
  },
  {
   "cell_type": "code",
   "execution_count": 42,
   "id": "cefdcbe9-de23-48c2-80be-85a151f0a305",
   "metadata": {},
   "outputs": [],
   "source": [
    "country_ratios_df.replace('--', numpy.nan, inplace=True)\n",
    "\n",
    "owners_df_orig.replace('',numpy.nan,inplace=True)\n",
    "owners_df_orig.replace('--',numpy.nan,inplace=True)\n",
    "\n",
    "pipes_df_orig.replace('--',numpy.nan,inplace=True)"
   ]
  },
  {
   "cell_type": "code",
   "execution_count": 43,
   "id": "f260985c-50b7-4e19-864e-76cb70c322bc",
   "metadata": {},
   "outputs": [],
   "source": [
    "region_df_orig = spreadsheet.worksheet('title', 'Region dictionary').get_as_df()\n",
    "region_df_africa = region_df_orig.loc[(region_df_orig['AfricaGasTracker']=='Yes')]"
   ]
  },
  {
   "cell_type": "code",
   "execution_count": 44,
   "id": "1334d1ca-3c68-4d0f-b2b6-13e0065af90e",
   "metadata": {},
   "outputs": [],
   "source": [
    "region_df_touse = region_df_africa.copy()"
   ]
  },
  {
   "cell_type": "code",
   "execution_count": 49,
   "id": "7bea0df5-b5e9-4953-9e21-cf998acc0931",
   "metadata": {},
   "outputs": [],
   "source": [
    "country_ratios_df_indev = country_ratios_df.loc[(country_ratios_df.Country.isin(region_df_touse.Country))&\n",
    "                                                (country_ratios_df.Fuel.isin(['Gas']))&\n",
    "                                                (country_ratios_df.Status.isin(['Proposed','Construction']))]"
   ]
  },
  {
   "cell_type": "code",
   "execution_count": 50,
   "id": "4db377c6-107e-4f57-a86c-53c823b6a935",
   "metadata": {},
   "outputs": [
    {
     "data": {
      "text/plain": [
       "22641.299999999996"
      ]
     },
     "execution_count": 50,
     "metadata": {},
     "output_type": "execute_result"
    }
   ],
   "source": [
    "country_ratios_df_indev.MergedKmByCountry.sum()"
   ]
  },
  {
   "cell_type": "code",
   "execution_count": 57,
   "id": "cf4ed3f2-6889-4770-93dc-23e7f6cfd364",
   "metadata": {},
   "outputs": [
    {
     "data": {
      "text/plain": [
       "24"
      ]
     },
     "execution_count": 57,
     "metadata": {},
     "output_type": "execute_result"
    }
   ],
   "source": [
    "country_ratios_df_indev.ProjectID.unique().size"
   ]
  },
  {
   "cell_type": "code",
   "execution_count": 74,
   "id": "ef5c3b8b-0e5e-4a40-9a42-7dc41dbedba9",
   "metadata": {},
   "outputs": [
    {
     "name": "stdout",
     "output_type": "stream",
     "text": [
      "Algeria\n",
      "Angola\n",
      "Benin\n",
      "Burkina Faso\n",
      "Cameroon\n",
      "Central African Republic\n",
      "Chad\n",
      "Côte d'Ivoire\n",
      "DR Congo\n",
      "Disputed (Western Sahara/Mauritania)\n",
      "Djibouti\n",
      "Egypt\n",
      "Equatorial Guinea\n",
      "Eritrea\n",
      "Eswatini\n",
      "Ethiopia\n",
      "Gabon\n",
      "Ghana\n",
      "Guinea\n",
      "Guinea-Bissau\n",
      "Ivory Coast\n",
      "Kenya\n",
      "Lesotho\n",
      "Liberia\n",
      "Libya\n",
      "Madagascar\n",
      "Malawi\n",
      "Mali\n",
      "Mauritania\n",
      "Morocco\n",
      "Mozambique\n",
      "Namibia\n",
      "Niger\n",
      "Nigeria\n",
      "Republic of the Congo\n",
      "Rwanda\n",
      "Senegal\n",
      "Sierra Leone\n",
      "South Africa\n",
      "South Sudan\n",
      "Sudan\n",
      "Tanzania\n",
      "The Gambia\n",
      "Togo\n",
      "Tunisia\n",
      "Uganda\n",
      "Western Sahara\n",
      "Zambia\n"
     ]
    },
    {
     "data": {
      "text/plain": [
       "[None,\n",
       " None,\n",
       " None,\n",
       " None,\n",
       " None,\n",
       " None,\n",
       " None,\n",
       " None,\n",
       " None,\n",
       " None,\n",
       " None,\n",
       " None,\n",
       " None,\n",
       " None,\n",
       " None,\n",
       " None,\n",
       " None,\n",
       " None,\n",
       " None,\n",
       " None,\n",
       " None,\n",
       " None,\n",
       " None,\n",
       " None,\n",
       " None,\n",
       " None,\n",
       " None,\n",
       " None,\n",
       " None,\n",
       " None,\n",
       " None,\n",
       " None,\n",
       " None,\n",
       " None,\n",
       " None,\n",
       " None,\n",
       " None,\n",
       " None,\n",
       " None,\n",
       " None,\n",
       " None,\n",
       " None,\n",
       " None,\n",
       " None,\n",
       " None,\n",
       " None,\n",
       " None,\n",
       " None]"
      ]
     },
     "execution_count": 74,
     "metadata": {},
     "output_type": "execute_result"
    }
   ],
   "source": [
    "country_list = region_df_touse.Country.tolist()\n",
    "[print(i) for i in sorted(country_list)]"
   ]
  },
  {
   "cell_type": "code",
   "execution_count": null,
   "id": "c6e7df68-89cc-48d1-ad9b-84c7187b47d3",
   "metadata": {},
   "outputs": [],
   "source": []
  }
 ],
 "metadata": {
  "kernelspec": {
   "display_name": "gem",
   "language": "python",
   "name": "gem"
  },
  "language_info": {
   "codemirror_mode": {
    "name": "ipython",
    "version": 3
   },
   "file_extension": ".py",
   "mimetype": "text/x-python",
   "name": "python",
   "nbconvert_exporter": "python",
   "pygments_lexer": "ipython3",
   "version": "3.9.9"
  }
 },
 "nbformat": 4,
 "nbformat_minor": 5
}
