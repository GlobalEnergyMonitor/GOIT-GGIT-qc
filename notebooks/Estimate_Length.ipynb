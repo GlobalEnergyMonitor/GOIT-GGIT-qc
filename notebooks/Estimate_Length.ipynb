{
 "cells": [
  {
   "cell_type": "markdown",
   "metadata": {
    "id": "L2-KMDysvtFf"
   },
   "source": [
    "# Import packages and data"
   ]
  },
  {
   "cell_type": "code",
   "execution_count": 2,
   "metadata": {
    "colab": {
     "base_uri": "https://localhost:8080/"
    },
    "id": "HeNH1Iqnvh4w",
    "outputId": "e3d879ff-80e6-4d9e-8db2-4e82617b82db"
   },
   "outputs": [],
   "source": [
    "# note that the order of points in GeoPandas is longitude, latitude \n",
    "# (opposite order from that of many data sets)\n",
    "import geopandas\n",
    "import shapely.geometry #import Point, LineString, MultiLineString, Polygon\n",
    "import shapely.ops #import linemerge, cascaded_union, nearest_points\n",
    "import pyproj\n",
    "import pandas\n",
    "#pandas.set_option(\"display.max_rows\", None, \"display.max_columns\", None)\n",
    "import time\n",
    "import numpy\n",
    "\n",
    "import pygsheets"
   ]
  },
  {
   "cell_type": "markdown",
   "metadata": {},
   "source": [
    "from colab"
   ]
  },
  {
   "cell_type": "raw",
   "metadata": {
    "id": "b1SIabSwQycd"
   },
   "source": [
    "#link to google sheets\n",
    "from google.colab import auth\n",
    "import google.auth\n",
    "auth.authenticate_user()\n",
    "\n",
    "import pygsheets\n",
    "from oauth2client.client import GoogleCredentials\n",
    "\n",
    "#gc = pygsheets.Client(GoogleCredentials.get_application_default())\n",
    "credentials, _ = google.auth.default()\n",
    "gc = pygsheets.client.Client(credentials)"
   ]
  },
  {
   "cell_type": "markdown",
   "metadata": {},
   "source": [
    "from colab"
   ]
  },
  {
   "cell_type": "raw",
   "metadata": {
    "colab": {
     "base_uri": "https://localhost:8080/"
    },
    "id": "6C4hdbd5vnbh",
    "outputId": "1c3c39b4-1b0e-440b-afeb-e8a22f4e2a25"
   },
   "source": [
    "from google.colab import drive\n",
    "drive.mount('/content/drive')"
   ]
  },
  {
   "cell_type": "markdown",
   "metadata": {},
   "source": [
    "from colab"
   ]
  },
  {
   "cell_type": "raw",
   "metadata": {
    "colab": {
     "base_uri": "https://localhost:8080/"
    },
    "id": "kUC0kJ6lvnmZ",
    "outputId": "a8b303e9-ef05-4048-b4d2-d0faa1440f79"
   },
   "source": [
    "# import the .shp file from the 'contents' folder\n",
    "# .shp file = union of world's country boundaries and Exclusive Economic Zones (2014)\n",
    "# .shp file uses boundaries from MarineRegions.com (http://www.marineregions.org/downloads.php#unioneezcountry)\n",
    "\n",
    "path = '/content/drive/Shareddrives/GEM Shared Drive/Projects/Fossil Infrastructure (GFIT)/Pipelines/Pipeline Data Analysis/EEZ_land_union_v2_201410/'\n",
    "eez_and_land_boundaries = geopandas.read_file(path + 'EEZ_land_v2_201410.shp')\n",
    "eez_and_land_boundaries = eez_and_land_boundaries.set_index('Country')\n",
    "\n",
    "#check type and index\n",
    "type(eez_and_land_boundaries)\n",
    "eez_and_land_boundaries.index "
   ]
  },
  {
   "cell_type": "markdown",
   "metadata": {},
   "source": [
    "import EEZ file"
   ]
  },
  {
   "cell_type": "code",
   "execution_count": 3,
   "metadata": {},
   "outputs": [],
   "source": [
    "# from https://www.marineregions.org/downloads.php\n",
    "# in the section \"Marine and land zones: the union of world country boundaries and EEZ's\"\n",
    "eez_file = '../data/EEZ_land_union_v2_201410/EEZ_land_v2_201410.shp'"
   ]
  },
  {
   "cell_type": "code",
   "execution_count": 4,
   "metadata": {},
   "outputs": [],
   "source": [
    "eez_and_land_boundaries = geopandas.read_file(eez_file)\n",
    "eez_and_land_boundaries = eez_and_land_boundaries.set_index('Country')\n",
    "#eez_4087 = eez_and_land_boundaries.to_crs('epsg:4087')"
   ]
  },
  {
   "cell_type": "code",
   "execution_count": 5,
   "metadata": {},
   "outputs": [],
   "source": [
    "#pandas.DataFrame(eez_and_land_boundaries.index).to_excel('eez_countries.xlsx')"
   ]
  },
  {
   "cell_type": "code",
   "execution_count": 6,
   "metadata": {
    "colab": {
     "base_uri": "https://localhost:8080/"
    },
    "id": "WNVzX3l3vn1Q",
    "outputId": "67ba2822-c008-4eab-fa3b-b5fc5319fe3f"
   },
   "outputs": [
    {
     "data": {
      "text/plain": [
       "shapely.geometry.multipolygon.MultiPolygon"
      ]
     },
     "execution_count": 6,
     "metadata": {},
     "output_type": "execute_result"
    }
   ],
   "source": [
    "# create one blob for all world land and EEZ boundaries, using Shapely function cascaded_union \n",
    "# whatever is left out is, presumably, international waters\n",
    "# this is used below to determine whether any parts of pipelines are in international waters\n",
    "world_eez_and_land_boundaries = shapely.ops.cascaded_union(eez_and_land_boundaries['geometry'])\n",
    "\n",
    "#check type, should be multipolygon object\n",
    "type(world_eez_and_land_boundaries)"
   ]
  },
  {
   "cell_type": "code",
   "execution_count": 7,
   "metadata": {},
   "outputs": [
    {
     "data": {
      "text/plain": [
       "Index(['Conflict zone Japan/Russia', 'Conflict zone Japan/South Korea',\n",
       "       'Joint regime Japan/Korea', 'Conflict zone China/Japan/Taiwan',\n",
       "       'Spratly Islands', 'Joint regime Colombia/Jamaica',\n",
       "       'Joint regime Nigeria/Sao Tome and Principe',\n",
       "       'Joint development area Australia/East Timor',\n",
       "       'Protected zone Australia/Papua New Guinea', 'Hungary',\n",
       "       ...\n",
       "       'Martinique', 'United States Virgin Islands',\n",
       "       'Area en controversia (disputed - Peruvian point of view)', 'Russia',\n",
       "       'Svalbard', 'Norway', 'South Sudan', 'Vatican City', 'Italy',\n",
       "       'Kiribati'],\n",
       "      dtype='object', name='Country', length=261)"
      ]
     },
     "execution_count": 7,
     "metadata": {},
     "output_type": "execute_result"
    }
   ],
   "source": [
    "eez_and_land_boundaries.index"
   ]
  },
  {
   "cell_type": "markdown",
   "metadata": {
    "id": "qIzOuTpwv1G5"
   },
   "source": [
    "# Import and clean data"
   ]
  },
  {
   "cell_type": "code",
   "execution_count": 8,
   "metadata": {
    "id": "VXfggc9rv_Kx"
   },
   "outputs": [],
   "source": [
    "# create a copy of the working/finalized pipelines dataset into the below folder as an Excel file\n",
    "#path = '/content/drive/Shareddrives/GEM Shared Drive/Projects/Fossil Infrastructure (GFIT)/Pipelines/Pipeline Data Analysis/EEZ_land_union_v2_201410/'\n",
    "#pipe = pd.read_excel(path + 'pipe_082021.xlsx')\n",
    "\n",
    "credentials_directory = '/Users/baird/Dropbox/_google-api/'\n",
    "gc = pygsheets.authorize(client_secret=credentials_directory+'client_secret.json')\n",
    "spreadsheet = gc.open_by_key('1foPLE6K-uqFlaYgLPAUxzeXfDO5wOOqE7tibNHeqTek')\n",
    "#spreadsheet[1] \"Gas Pipelines\" tab is the second index\n",
    "gas_pipes = spreadsheet[1].get_as_df()\n",
    "oil_pipes = spreadsheet[2].get_as_df()\n",
    "#owners = spreadsheet[2].get_as_df()\n",
    "\n",
    "gas_pipes = gas_pipes.drop('WKTFormat', axis=1) # delete WKTFormat column\n",
    "oil_pipes = oil_pipes.drop('WKTFormat', axis=1)\n",
    "\n",
    "#pipe = spreadsheet[1].get_as_df()\n",
    "#pipe = pipe.drop('WKTFormat', axis=1)"
   ]
  },
  {
   "cell_type": "markdown",
   "metadata": {},
   "source": [
    "## Specify Oil/NGL or Gas"
   ]
  },
  {
   "cell_type": "code",
   "execution_count": 9,
   "metadata": {},
   "outputs": [],
   "source": [
    "#type = 'Oil'\n",
    "#type = 'Gas'\n",
    "type = 'Oil_and_Gas'\n",
    "\n",
    "if type=='Oil':\n",
    "    pipe = oil_pipes\n",
    "elif type=='Gas':\n",
    "    pipe = gas_pipes\n",
    "elif type=='Oil_and_Gas':\n",
    "    pipe = pandas.concat([oil_pipes, gas_pipes], ignore_index=True)\n",
    "    \n",
    "pipe_orig = pipe.copy()\n",
    "pipe_orig.replace('--', numpy.nan, inplace=True)\n",
    "pipe_orig = pipe_orig[pipe_orig['Route']!='N/A']"
   ]
  },
  {
   "cell_type": "code",
   "execution_count": 10,
   "metadata": {
    "colab": {
     "base_uri": "https://localhost:8080/"
    },
    "id": "yEGX5oPQwCAK",
    "outputId": "d6ff6cf9-c760-46ef-8f48-fc335f77efad"
   },
   "outputs": [],
   "source": [
    "#clean pipelines dataset\n",
    "#pipe['PipelineName'] = pipe['PipelineName']\n",
    "#pipe['SegmentName'] = pipe['Seg']\n",
    "\n",
    "# get pipeline list, import as df\n",
    "pipe['PipelineName'] = pipe['PipelineName'].str.strip()\n",
    "pipe['SegmentName'] = pipe['SegmentName'].str.strip()\n",
    "pipe['ProjectID'] = pipe['ProjectID'].str.strip()\n",
    "\n",
    "# clean up column 'Fuel'\n",
    "#pipe['Fuel'] = pipe['Fuel'].str.strip()\n",
    "\n",
    "# clean up column 'Route'\n",
    "pipe['Route'] = pipe['Route'].str.strip()\n",
    "\n",
    "# get rid of \"N/A\"\n",
    "pipe = pipe[pipe['Route']!='N/A']\n",
    "\n",
    "# replace empty entries in Route with nan\n",
    "#pipe['Route'] = pipe['Route'].replace(r'^\\s*$', numpy.nan, regex=True)\n",
    "\n",
    "# replace empty entrys in LengthKnownKm with nan\n",
    "#pipe['LengthKnownKm'] = pipe['LengthKnownKm'].replace(r'^\\s*$', numpy.nan, regex=True)\n",
    "pipe['LengthKnownKm'] = pipe['LengthKnownKm'].replace('--', numpy.nan)\n",
    "\n",
    "# drop rows with no routes available (routes were unavailable or not applicable)\n",
    "#pipe = pipe.loc[pipe['Route'].isnull()==False]\n",
    "#pipe = pipe[pipe['Route'].notna()]\n",
    "pipe_noroute = pipe[pipe['Route'].isin(['Unavailable',\n",
    "                                       'Capacity expansion only',\n",
    "                                       'Bidirectionality upgrade only',\n",
    "                                       'Short route, to add later',\n",
    "                                       ''])]\n",
    "\n",
    "pipe = pipe[pipe['Route'] != 'Unavailable']\n",
    "pipe = pipe[pipe['Route'] != 'Capacity expansion only']\n",
    "pipe = pipe[pipe['Route'] != 'Bidirectionality upgrade only']\n",
    "pipe = pipe[pipe['Route'] != 'Short route, to add later']\n",
    "pipe = pipe[pipe['Route'] != '']\n",
    "\n",
    "# REMOVED\n",
    "\n",
    "# drop empty columns that come out as 'Unnamed'\n",
    "#for col in pipe.columns:\n",
    "#    if 'Unnamed: ' in col:\n",
    "#        print(col)\n",
    "#        pipe = pipe.drop(col, axis=1)\n",
    "        \n",
    "# replace blank 'Status' values by assuming 'Operating' status\n",
    "#for col in ['Status']:\n",
    "#    pipe[col] = pipe[col].fillna('Operating')\n",
    "    \n",
    "# drop rows with no name of pipeline (empty rows)\n",
    "#pipe = pipe.loc[pipe['PipelineName'].isnull()==False]"
   ]
  },
  {
   "cell_type": "markdown",
   "metadata": {
    "id": "uof2kkM3wI5T"
   },
   "source": [
    "# Length Calculation Functions"
   ]
  },
  {
   "cell_type": "markdown",
   "metadata": {},
   "source": [
    "## convert gfit to linestring"
   ]
  },
  {
   "cell_type": "code",
   "execution_count": 11,
   "metadata": {
    "id": "Uk1XCJpNwRJr"
   },
   "outputs": [],
   "source": [
    "def convert_gfit_to_linestring(coord_str, pipeline_name, segment_name, project_id, status, fuel, capacity, length):\n",
    "    '''\n",
    "    Takes string from GFIT column of coordinates for a single pipeline,\n",
    "    converts that string into Shapely LineString or MultiLinestring for processing.\n",
    "    '''\n",
    "\n",
    "    #print(coord_str)\n",
    "    if ':' in coord_str and ';' not in coord_str:\n",
    "        # simple geometry; no branching\n",
    "        # create nested list of lists, separating on colons        \n",
    "        coord_list = coord_str.split(':')\n",
    "        \n",
    "        coord_list_tuples = []\n",
    "        \n",
    "        # non-branched pipeline (nested list with one level)\n",
    "        # convert nested list of lists to list of tuples\n",
    "        for element in coord_list:\n",
    "            element_tuple = (float(element.split(',')[1]), \n",
    "                             float(element.split(',')[0]))\n",
    "            coord_list_tuples.append(element_tuple)\n",
    "            \n",
    "        pipeline = shapely.geometry.LineString(coord_list_tuples)\n",
    "\n",
    "    elif ':' in coord_str and ';' in coord_str:\n",
    "        # create a nested list of lists, separating on semicolons\n",
    "        coord_list = coord_str.split(';')\n",
    "        \n",
    "        # create a second level of nesting, separating on colons\n",
    "        coord_list = [x.split(':') for x in coord_list]\n",
    "        \n",
    "        # branched pipeline (nested list with two levels)\n",
    "        pipeline_ls_all = []\n",
    "        \n",
    "        for nested_list in coord_list:\n",
    "            coord_list_tuples = []\n",
    "            \n",
    "            for element in nested_list:\n",
    "                element_tuple = (float(element.split(',')[1]), \n",
    "                                 float(element.split(',')[0]))\n",
    "                coord_list_tuples.append(element_tuple)\n",
    "                \n",
    "            # process coord_list_tuples\n",
    "            try:\n",
    "                pipeline_ls = shapely.geometry.LineString(coord_list_tuples)\n",
    "                pipeline_ls_all.append(pipeline_ls)\n",
    "            except:\n",
    "                print(f\"Exception for coord_list_tuples: {coord_list_tuples}\") # for db\n",
    "                pass\n",
    "            \n",
    "        pipeline = shapely.geometry.MultiLineString(pipeline_ls_all)\n",
    "        \n",
    "    else:\n",
    "        # create empty MultiLineString; coordinates were missing or misformatted\n",
    "        pipeline = shapely.geometry.MultiLineString([])\n",
    "        \n",
    "        print(f'Missing or misformatted coordinates for {pipeline_name} - {segment_name}')\n",
    "        \n",
    "    return pipeline"
   ]
  },
  {
   "cell_type": "markdown",
   "metadata": {},
   "source": [
    "## pipeline total length and wiggle"
   ]
  },
  {
   "cell_type": "code",
   "execution_count": 12,
   "metadata": {
    "id": "oD5E1hlwwRPi"
   },
   "outputs": [],
   "source": [
    "def pipeline_total_length_and_wiggle(pipes_df):\n",
    "    '''\n",
    "    Iterate through each pipeline, calculating the total length and wiggle factor.\n",
    "    \n",
    "    Modifies the main df that was function argument, returning modified version.\n",
    "    '''\n",
    "    \n",
    "    mask_route_1 = pipes_df['Route'].str.contains(',')\n",
    "    mask_route_2 = pipes_df['Route'].str.contains(':')\n",
    "    pipes_with_route = pipes_df.loc[(mask_route_1) & (mask_route_2)]\n",
    "    \n",
    "    for row in pipes_with_route.index:\n",
    "        # get string with coordinates for route, convert to LineString (or MultiLineString)\n",
    "        pipeline_name = pipes_with_route.at[row, 'PipelineName']\n",
    "        segment_name = pipes_with_route.at[row, 'SegmentName']\n",
    "        project_id = pipes_with_route.at[row, 'ProjectID']\n",
    "        pipeline_str = pipes_with_route.at[row, 'Route']\n",
    "        status = pipes_with_route.at[row, 'Status']\n",
    "        fuel = pipes_with_route.at[row, 'Fuel']\n",
    "        capacity = pipes_with_route.at[row, 'CapacityBOEd'] \n",
    "        length = pipes_with_route.at[row, 'LengthMergedKm']\n",
    "        pipeline_ls = convert_gfit_to_linestring(pipeline_str, pipeline_name, segment_name, \n",
    "                                                 project_id, status, fuel, capacity, length)\n",
    "\n",
    "        # calculate length of LineString (or MultiLineString)\n",
    "        geodetic_computation = pyproj.Geod(ellps=\"WGS84\")\n",
    "        length_calc = geodetic_computation.geometry_length(pipeline_ls)/1000 # units km\n",
    "\n",
    "        # get reported length of pipeline\n",
    "        length_report = pipes_with_route.at[row, 'LengthKnownKm']\n",
    "\n",
    "        #print(pipeline_name, segment_name)\n",
    "        \n",
    "    #    if pandas.notnull(length_report):\n",
    "    #        # calculate wiggle factor regardless of relationship,\n",
    "    #        # whether length_report is > or < length_calc\n",
    "    #        # if reported and calculated length both exist, calculate their ratio:\n",
    "        try:\n",
    "            wiggle_factor = length_report / length_calc\n",
    "            pipes_df.at[row, 'WiggleFactor'] = wiggle_factor\n",
    "        # if one doesn't exist, you get a TypeError when dividing; replace with\n",
    "        except TypeError:\n",
    "            print('TypeError, WiggleFactor set to 1.0')\n",
    "            pipes_df.at[row, 'WiggleFactor'] = float(1)\n",
    "\n",
    "    #    else:\n",
    "    #        print('notnull)')\n",
    "    #        # there was no reported length; assign wiggle_factor = 1.0\n",
    "    #        pipes_df.at[row, 'WiggleFactor'] = float(1)\n",
    "\n",
    "    return(pipes_df)"
   ]
  },
  {
   "cell_type": "markdown",
   "metadata": {},
   "source": [
    "## pipeline within country"
   ]
  },
  {
   "cell_type": "code",
   "execution_count": 13,
   "metadata": {
    "id": "4mR8NK6AwRWZ"
   },
   "outputs": [],
   "source": [
    "def pipeline_within_country(pipeline_ls, \n",
    "                            pipeline_name, \n",
    "                            segment_name, \n",
    "                            project_id, \n",
    "                            results_by_country, \n",
    "                            status, \n",
    "                            fuel, \n",
    "                            capacity, \n",
    "                            length, \n",
    "                            remainders, \n",
    "                            international):\n",
    "    '''\n",
    "    Iterate through all countries, to see if the specified pipeline \n",
    "    is within each country (at least partially).\n",
    "    \n",
    "    If there is a portion within a given country, \n",
    "    saves the country name and length of pipeline to a df\n",
    "    '''\n",
    "    \n",
    "    pipeline_remainders = pipeline_ls # initialize\n",
    "    # will progressively remove pieces of the pipeline, \n",
    "    # as they intersect with each country's land mass\n",
    "    \n",
    "    geodetic_computation = pyproj.Geod(ellps=\"WGS84\") # initialize\n",
    "    \n",
    "    length_total = geodetic_computation.geometry_length(pipeline_ls)/1000 # units km\n",
    "    \n",
    "    for country in eez_and_land_boundaries.index:\n",
    "        country_geom = eez_and_land_boundaries.loc[country, 'geometry']\n",
    "        \n",
    "        if country_geom.intersects(pipeline_ls)==True:\n",
    "            pipeline_intersection = pipeline_ls.intersection(country_geom)\n",
    "            pipeline_remainders = pipeline_remainders.difference(country_geom)\n",
    "            \n",
    "            length_per_country = geodetic_computation.geometry_length(pipeline_intersection)/1000 # units km\n",
    "            length_per_country_fract = length_per_country / length_total\n",
    "            \n",
    "            one_result = (\n",
    "                pipeline_name, \n",
    "                segment_name,\n",
    "                project_id,\n",
    "                country, \n",
    "                length_per_country, \n",
    "                length_per_country_fract,\n",
    "                status,\n",
    "                fuel,\n",
    "                capacity,\n",
    "                length)\n",
    "            one_result_df = pandas.DataFrame(one_result).T\n",
    "            one_result_df.columns = ['pipeline_name', 'segment_name', 'project_id', 'country', \n",
    "                                     'length_per_country', 'length_per_country_fract', \n",
    "                                     'status', 'fuel', 'capacity', 'length']\n",
    "            \n",
    "            results_by_country = results_by_country.append(\n",
    "                pandas.DataFrame(one_result_df), \n",
    "                sort=False)\n",
    "            \n",
    "        else:\n",
    "            pass\n",
    "\n",
    "    results_by_country = results_by_country.reset_index(drop=True)\n",
    "        \n",
    "    if pipeline_remainders.is_empty==False:       \n",
    "        remainders_length = geodetic_computation.geometry_length(pipeline_remainders)/1000 # units km\n",
    "        \n",
    "        if remainders_length > 0.01: # units: km\n",
    "            remainders_tuple = (pipeline_name, remainders_length, pipeline_remainders)\n",
    "            remainders = pandas.DataFrame(remainders_tuple).T\n",
    "            remainders.columns = ['pipeline_name', 'segment_name', 'project_id', 'length', 'geometry']\n",
    "        \n",
    "            print(f\"for {pipeline_name}, pipeline_remainders.is_empty==False\") # for db\n",
    "            print(f\"remainders_length: {remainders_length}\") # for db\n",
    "        \n",
    "    else:\n",
    "#         print(f\"for {pipeline_name}, pipeline_remainders.is_empty is NOT False\") # for db\n",
    "        pass\n",
    "    \n",
    "    # alternative method: pipeline that's in international waters (not in world_eez_and_land_boundaries)\n",
    "    international_pipeline = pipeline_ls.difference(world_eez_and_land_boundaries)\n",
    "    if international_pipeline.is_empty==False:\n",
    "        international_length = geodetic_computation.geometry_length(international_pipeline)/1000 # units km\n",
    "        international_tuple = (pipeline_name, international_length, international_pipeline)\n",
    "        international = pandas.DataFrame(international_tuple).T\n",
    "        international.columns = ['pipeline_name', 'length', 'geometry']\n",
    "    else:\n",
    "        pass\n",
    "    \n",
    "    return results_by_country, remainders, international"
   ]
  },
  {
   "cell_type": "markdown",
   "metadata": {
    "id": "8xrZWW5mwdmv"
   },
   "source": [
    "# Apply functions to data"
   ]
  },
  {
   "cell_type": "code",
   "execution_count": 14,
   "metadata": {
    "colab": {
     "base_uri": "https://localhost:8080/"
    },
    "id": "WC2F2TOuwdGE",
    "outputId": "f8b031d1-0a23-49af-c716-895418362e20"
   },
   "outputs": [
    {
     "name": "stderr",
     "output_type": "stream",
     "text": [
      "/Users/baird/miniconda3/envs/gem/lib/python3.9/site-packages/geopandas/geodataframe.py:1321: UserWarning: Geometry column does not contain geometry.\n",
      "  warnings.warn(\"Geometry column does not contain geometry.\")\n"
     ]
    },
    {
     "name": "stdout",
     "output_type": "stream",
     "text": [
      "Missing or misformatted coordinates for Atlantic Bridge Gas Project - Phase I\n",
      "Missing or misformatted coordinates for Alliance Gas Pipeline - Three Rivers Interconnection Project\n",
      "Missing or misformatted coordinates for Columbia Gas Transmission - East Lateral Xpress Project\n",
      "Missing or misformatted coordinates for Columbia Gas Transmission - Maryville Connector Pipeline\n",
      "Missing or misformatted coordinates for Florida Gas Transmission Pipeline - Big Bend Project\n",
      "Missing or misformatted coordinates for Gulf South Gas Pipeline - Lamar County Expansion Project\n",
      "Missing or misformatted coordinates for Transcontinental Gas Pipeline - Rivervale South to Market Expansion Project\n",
      "Missing or misformatted coordinates for Transcontinental Gas Pipeline - Virgina Interconnect Project\n",
      "Missing or misformatted coordinates for Transcontinental Gas Pipeline - Southeastern Trail Expansion Project\n",
      "Missing or misformatted coordinates for Florida Gas Transmission Pipeline - Galveston County Project\n",
      "Missing or misformatted coordinates for Nova Gas Transmission (NGTL) Pipeline - North Corridor Expansion Project\n",
      "Missing or misformatted coordinates for Nova Gas Transmission (NGTL) Pipeline - Edison Mainline Project\n"
     ]
    }
   ],
   "source": [
    "#this step requires that there be no non-geometry data in the \"Route\" column, meaning no letters or extraneous symbols (ex: \";;\", \"::\", \"--\", etc.)\n",
    "pipe_gpd = geopandas.GeoDataFrame(pipe)\n",
    "pipe_gpd['geometry'] = ''\n",
    "for row in pipe_gpd.index:\n",
    "    linestring = convert_gfit_to_linestring(\n",
    "        str(pipe_gpd.at[row, 'Route']), \n",
    "        pipe_gpd.at[row, 'PipelineName'], \n",
    "        pipe_gpd.at[row, 'SegmentName'], \n",
    "        pipe_gpd.at[row, 'ProjectID'], \n",
    "        pipe_gpd.at[row, 'Status'], \n",
    "        pipe_gpd.at[row, 'Fuel'], \n",
    "        pipe_gpd.at[row, 'CapacityBOEd'], \n",
    "        pipe_gpd.at[row, 'LengthMergedKm'])\n",
    "    pipe_gpd.at[row, 'geometry'] = linestring"
   ]
  },
  {
   "cell_type": "code",
   "execution_count": 15,
   "metadata": {
    "colab": {
     "base_uri": "https://localhost:8080/",
     "height": 305
    },
    "id": "KWqi7CYWwkXr",
    "outputId": "0bdd599c-1f2d-4ba2-e8ba-baab9dcd7e07"
   },
   "outputs": [],
   "source": [
    "# calculate total length and wiggle factor\n",
    "pipe = pipeline_total_length_and_wiggle(pipe)"
   ]
  },
  {
   "cell_type": "code",
   "execution_count": 16,
   "metadata": {
    "id": "nK1g6iA6wkeN"
   },
   "outputs": [
    {
     "name": "stdout",
     "output_type": "stream",
     "text": [
      "Missing or misformatted coordinates for Atlantic Bridge Gas Project - Phase I\n",
      "Missing or misformatted coordinates for Alliance Gas Pipeline - Three Rivers Interconnection Project\n",
      "Missing or misformatted coordinates for Columbia Gas Transmission - East Lateral Xpress Project\n",
      "Missing or misformatted coordinates for Columbia Gas Transmission - Maryville Connector Pipeline\n",
      "Missing or misformatted coordinates for Florida Gas Transmission Pipeline - Big Bend Project\n",
      "Missing or misformatted coordinates for Gulf South Gas Pipeline - Lamar County Expansion Project\n",
      "Missing or misformatted coordinates for Transcontinental Gas Pipeline - Rivervale South to Market Expansion Project\n",
      "Missing or misformatted coordinates for Transcontinental Gas Pipeline - Virgina Interconnect Project\n",
      "Missing or misformatted coordinates for Transcontinental Gas Pipeline - Southeastern Trail Expansion Project\n",
      "Missing or misformatted coordinates for Florida Gas Transmission Pipeline - Galveston County Project\n",
      "Missing or misformatted coordinates for Nova Gas Transmission (NGTL) Pipeline - North Corridor Expansion Project\n",
      "Missing or misformatted coordinates for Nova Gas Transmission (NGTL) Pipeline - Edison Mainline Project\n"
     ]
    }
   ],
   "source": [
    "# calculate length by country\n",
    "\n",
    "# get coord_str for each pipeline that has route coordinates\n",
    "\n",
    "# choose pipeline_df to process\n",
    "pipeline_df = pipe.copy()\n",
    "\n",
    "# process the pipeline_df above\n",
    "pipelines_with_routes = pipeline_df.loc[\n",
    "    ~(pipeline_df['Route'].isin(['Unavailable'])) | \n",
    "    ~(pipeline_df['Route'].isnull())]\n",
    "\n",
    "results_by_country = pandas.DataFrame(\n",
    "    columns=['pipeline_name', 'segment_name', 'project_id', 'country', 'length_per_country', 'status', 'fuel', 'capacity', 'length']\n",
    ")\n",
    "\n",
    "remainders = geopandas.GeoDataFrame()\n",
    "international = geopandas.GeoDataFrame()\n",
    "\n",
    "for sel_index in pipelines_with_routes.index:\n",
    "    pipeline_name = pipeline_df.at[sel_index, 'PipelineName']\n",
    "    segment_name = pipeline_df.at[sel_index, 'SegmentName']\n",
    "    project_id = pipeline_df.at[sel_index, 'ProjectID']\n",
    "    status = pipeline_df.at[sel_index, 'Status']\n",
    "    fuel = pipeline_df.at[sel_index, 'Fuel']\n",
    "    capacity = pipeline_df.at[sel_index, 'CapacityBOEd']\n",
    "    length = pipeline_df.at[sel_index, 'LengthMergedKm']\n",
    "    coord_str = str(pipeline_df.at[sel_index, 'Route'])\n",
    "    \n",
    "    pipeline_ls = convert_gfit_to_linestring(coord_str, \n",
    "                                             pipeline_name, \n",
    "                                             segment_name, \n",
    "                                             project_id, \n",
    "                                             status, \n",
    "                                             fuel, \n",
    "                                             capacity, \n",
    "                                             length)\n",
    "    \n",
    "    results_by_country, remainders, international = pipeline_within_country(\n",
    "        pipeline_ls, \n",
    "        pipeline_name, \n",
    "        segment_name, \n",
    "        project_id, \n",
    "        results_by_country, \n",
    "        status, \n",
    "        fuel, \n",
    "        capacity, \n",
    "        length, \n",
    "        remainders, \n",
    "        international)"
   ]
  },
  {
   "cell_type": "markdown",
   "metadata": {
    "id": "i3KbqGJ1wu9P"
   },
   "source": [
    "# Check Mean Wiggle Factor, & Outliers"
   ]
  },
  {
   "cell_type": "code",
   "execution_count": 17,
   "metadata": {
    "id": "_U-J5LkEw6Y5"
   },
   "outputs": [],
   "source": [
    "calc_length = pipe['LengthKnownKm'] / pipe['WiggleFactor']\n",
    "wiggle_factor_weighted_mean = pipe['LengthKnownKm'].sum()/calc_length.sum()"
   ]
  },
  {
   "cell_type": "code",
   "execution_count": 18,
   "metadata": {
    "id": "98HfanMcw6fc"
   },
   "outputs": [
    {
     "data": {
      "text/html": [
       "<div>\n",
       "<style scoped>\n",
       "    .dataframe tbody tr th:only-of-type {\n",
       "        vertical-align: middle;\n",
       "    }\n",
       "\n",
       "    .dataframe tbody tr th {\n",
       "        vertical-align: top;\n",
       "    }\n",
       "\n",
       "    .dataframe thead th {\n",
       "        text-align: right;\n",
       "    }\n",
       "</style>\n",
       "<table border=\"1\" class=\"dataframe\">\n",
       "  <thead>\n",
       "    <tr style=\"text-align: right;\">\n",
       "      <th></th>\n",
       "      <th>PipelineName</th>\n",
       "      <th>SegmentName</th>\n",
       "      <th>ProjectID</th>\n",
       "      <th>WiggleFactor</th>\n",
       "      <th>LengthKnownKm</th>\n",
       "    </tr>\n",
       "  </thead>\n",
       "  <tbody>\n",
       "    <tr>\n",
       "      <th>6</th>\n",
       "      <td>Enbridge Line 10 Oil Pipeline</td>\n",
       "      <td></td>\n",
       "      <td>P0008</td>\n",
       "      <td>0.246695</td>\n",
       "      <td>35.0</td>\n",
       "    </tr>\n",
       "    <tr>\n",
       "      <th>15</th>\n",
       "      <td>Enbridge Line 7 Oil Pipeline</td>\n",
       "      <td></td>\n",
       "      <td>P0017</td>\n",
       "      <td>0.775033</td>\n",
       "      <td>193.0</td>\n",
       "    </tr>\n",
       "    <tr>\n",
       "      <th>22</th>\n",
       "      <td>Keystone Oil Pipeline</td>\n",
       "      <td></td>\n",
       "      <td>P0024</td>\n",
       "      <td>0.830736</td>\n",
       "      <td>3461.7</td>\n",
       "    </tr>\n",
       "    <tr>\n",
       "      <th>24</th>\n",
       "      <td>Lloydminster-Hardisty Oil Pipeline</td>\n",
       "      <td></td>\n",
       "      <td>P0026</td>\n",
       "      <td>0.714422</td>\n",
       "      <td>80.0</td>\n",
       "    </tr>\n",
       "    <tr>\n",
       "      <th>30</th>\n",
       "      <td>Trans Mountain Oil Pipeline</td>\n",
       "      <td>Expansion</td>\n",
       "      <td>P0033</td>\n",
       "      <td>0.893043</td>\n",
       "      <td>980.0</td>\n",
       "    </tr>\n",
       "    <tr>\n",
       "      <th>...</th>\n",
       "      <td>...</td>\n",
       "      <td>...</td>\n",
       "      <td>...</td>\n",
       "      <td>...</td>\n",
       "      <td>...</td>\n",
       "    </tr>\n",
       "    <tr>\n",
       "      <th>3169</th>\n",
       "      <td>Hubei Gas Pipeline Network</td>\n",
       "      <td>Xiaogan–Jingmen–Qianjiang Gas Pipeline</td>\n",
       "      <td>P3576</td>\n",
       "      <td>0.682546</td>\n",
       "      <td>181.3</td>\n",
       "    </tr>\n",
       "    <tr>\n",
       "      <th>3171</th>\n",
       "      <td>Hubei Gas Pipeline Network</td>\n",
       "      <td>Wuhan–Chibi Gas Pipeline</td>\n",
       "      <td>P3578</td>\n",
       "      <td>0.672781</td>\n",
       "      <td>70.45</td>\n",
       "    </tr>\n",
       "    <tr>\n",
       "      <th>3175</th>\n",
       "      <td>Daqing–Harbin Gas Pipeline</td>\n",
       "      <td></td>\n",
       "      <td>P3582</td>\n",
       "      <td>0.518572</td>\n",
       "      <td>78.0</td>\n",
       "    </tr>\n",
       "    <tr>\n",
       "      <th>3180</th>\n",
       "      <td>North Bakken Expansion Pipeline</td>\n",
       "      <td>Tioga Compressor Lateral Pipeline</td>\n",
       "      <td>P3587</td>\n",
       "      <td>0.795032</td>\n",
       "      <td>0.8</td>\n",
       "    </tr>\n",
       "    <tr>\n",
       "      <th>3181</th>\n",
       "      <td>North Bakken Expansion Pipeline</td>\n",
       "      <td>Elkhorn Creek–Northern Border Pipeline</td>\n",
       "      <td>P3588</td>\n",
       "      <td>0.613073</td>\n",
       "      <td>0.48</td>\n",
       "    </tr>\n",
       "  </tbody>\n",
       "</table>\n",
       "<p>474 rows × 5 columns</p>\n",
       "</div>"
      ],
      "text/plain": [
       "                            PipelineName  \\\n",
       "6          Enbridge Line 10 Oil Pipeline   \n",
       "15          Enbridge Line 7 Oil Pipeline   \n",
       "22                 Keystone Oil Pipeline   \n",
       "24    Lloydminster-Hardisty Oil Pipeline   \n",
       "30           Trans Mountain Oil Pipeline   \n",
       "...                                  ...   \n",
       "3169          Hubei Gas Pipeline Network   \n",
       "3171          Hubei Gas Pipeline Network   \n",
       "3175          Daqing–Harbin Gas Pipeline   \n",
       "3180     North Bakken Expansion Pipeline   \n",
       "3181     North Bakken Expansion Pipeline   \n",
       "\n",
       "                                 SegmentName ProjectID  WiggleFactor  \\\n",
       "6                                                P0008      0.246695   \n",
       "15                                               P0017      0.775033   \n",
       "22                                               P0024      0.830736   \n",
       "24                                               P0026      0.714422   \n",
       "30                                 Expansion     P0033      0.893043   \n",
       "...                                      ...       ...           ...   \n",
       "3169  Xiaogan–Jingmen–Qianjiang Gas Pipeline     P3576      0.682546   \n",
       "3171                Wuhan–Chibi Gas Pipeline     P3578      0.672781   \n",
       "3175                                             P3582      0.518572   \n",
       "3180       Tioga Compressor Lateral Pipeline     P3587      0.795032   \n",
       "3181  Elkhorn Creek–Northern Border Pipeline     P3588      0.613073   \n",
       "\n",
       "     LengthKnownKm  \n",
       "6             35.0  \n",
       "15           193.0  \n",
       "22          3461.7  \n",
       "24            80.0  \n",
       "30           980.0  \n",
       "...            ...  \n",
       "3169         181.3  \n",
       "3171         70.45  \n",
       "3175          78.0  \n",
       "3180           0.8  \n",
       "3181          0.48  \n",
       "\n",
       "[474 rows x 5 columns]"
      ]
     },
     "execution_count": 18,
     "metadata": {},
     "output_type": "execute_result"
    }
   ],
   "source": [
    "pipe.loc[pipe['WiggleFactor']<0.95][['PipelineName', 'SegmentName', 'ProjectID', 'WiggleFactor', 'LengthKnownKm']]"
   ]
  },
  {
   "cell_type": "markdown",
   "metadata": {
    "id": "iF0znQh2xEb6"
   },
   "source": [
    "# Clean and export results"
   ]
  },
  {
   "cell_type": "code",
   "execution_count": 19,
   "metadata": {
    "id": "qLS5FAeTxKeu"
   },
   "outputs": [
    {
     "data": {
      "text/html": [
       "<div>\n",
       "<style scoped>\n",
       "    .dataframe tbody tr th:only-of-type {\n",
       "        vertical-align: middle;\n",
       "    }\n",
       "\n",
       "    .dataframe tbody tr th {\n",
       "        vertical-align: top;\n",
       "    }\n",
       "\n",
       "    .dataframe thead th {\n",
       "        text-align: right;\n",
       "    }\n",
       "</style>\n",
       "<table border=\"1\" class=\"dataframe\">\n",
       "  <thead>\n",
       "    <tr style=\"text-align: right;\">\n",
       "      <th></th>\n",
       "      <th>pipeline_name</th>\n",
       "      <th>segment_name</th>\n",
       "      <th>project_id</th>\n",
       "      <th>country</th>\n",
       "      <th>length_per_country</th>\n",
       "      <th>status</th>\n",
       "      <th>fuel</th>\n",
       "      <th>capacity</th>\n",
       "      <th>length</th>\n",
       "      <th>length_per_country_fract</th>\n",
       "    </tr>\n",
       "  </thead>\n",
       "  <tbody>\n",
       "    <tr>\n",
       "      <th>0</th>\n",
       "      <td>Alberta Clipper Oil Pipeline</td>\n",
       "      <td></td>\n",
       "      <td>P0001</td>\n",
       "      <td>Canada</td>\n",
       "      <td>1099.524365</td>\n",
       "      <td>Operating</td>\n",
       "      <td>Oil</td>\n",
       "      <td>440,000</td>\n",
       "      <td>1790.0</td>\n",
       "      <td>0.703393</td>\n",
       "    </tr>\n",
       "    <tr>\n",
       "      <th>1</th>\n",
       "      <td>Alberta Clipper Oil Pipeline</td>\n",
       "      <td></td>\n",
       "      <td>P0001</td>\n",
       "      <td>United States</td>\n",
       "      <td>463.648701</td>\n",
       "      <td>Operating</td>\n",
       "      <td>Oil</td>\n",
       "      <td>440,000</td>\n",
       "      <td>1790.0</td>\n",
       "      <td>0.296608</td>\n",
       "    </tr>\n",
       "    <tr>\n",
       "      <th>2</th>\n",
       "      <td>Athabasca Oil Pipeline</td>\n",
       "      <td></td>\n",
       "      <td>P0002</td>\n",
       "      <td>Canada</td>\n",
       "      <td>418.095904</td>\n",
       "      <td>Operating</td>\n",
       "      <td>Oil</td>\n",
       "      <td>570,000</td>\n",
       "      <td>542.0</td>\n",
       "      <td>1.0</td>\n",
       "    </tr>\n",
       "    <tr>\n",
       "      <th>3</th>\n",
       "      <td>Bakken Oil Pipeline</td>\n",
       "      <td></td>\n",
       "      <td>P0004</td>\n",
       "      <td>Canada</td>\n",
       "      <td>155.333654</td>\n",
       "      <td>Operating</td>\n",
       "      <td>Oil</td>\n",
       "      <td>145,000</td>\n",
       "      <td>261.0</td>\n",
       "      <td>0.592423</td>\n",
       "    </tr>\n",
       "    <tr>\n",
       "      <th>4</th>\n",
       "      <td>Bakken Oil Pipeline</td>\n",
       "      <td></td>\n",
       "      <td>P0004</td>\n",
       "      <td>United States</td>\n",
       "      <td>106.866868</td>\n",
       "      <td>Operating</td>\n",
       "      <td>Oil</td>\n",
       "      <td>145,000</td>\n",
       "      <td>261.0</td>\n",
       "      <td>0.407577</td>\n",
       "    </tr>\n",
       "    <tr>\n",
       "      <th>...</th>\n",
       "      <td>...</td>\n",
       "      <td>...</td>\n",
       "      <td>...</td>\n",
       "      <td>...</td>\n",
       "      <td>...</td>\n",
       "      <td>...</td>\n",
       "      <td>...</td>\n",
       "      <td>...</td>\n",
       "      <td>...</td>\n",
       "      <td>...</td>\n",
       "    </tr>\n",
       "    <tr>\n",
       "      <th>3584</th>\n",
       "      <td>Mallavaram-Bhopal-Bhilwara-Vijaipur Gas Pipeline</td>\n",
       "      <td>Phase II</td>\n",
       "      <td>P3602</td>\n",
       "      <td>India</td>\n",
       "      <td>1487.97359</td>\n",
       "      <td>Construction</td>\n",
       "      <td>Gas</td>\n",
       "      <td>--</td>\n",
       "      <td>1446.0</td>\n",
       "      <td>1.0</td>\n",
       "    </tr>\n",
       "    <tr>\n",
       "      <th>3585</th>\n",
       "      <td>Power of Siberia 2–Sayansk Gas Pipeline</td>\n",
       "      <td></td>\n",
       "      <td>P3603</td>\n",
       "      <td>Russia</td>\n",
       "      <td>164.316591</td>\n",
       "      <td>Proposed</td>\n",
       "      <td>Gas</td>\n",
       "      <td>--</td>\n",
       "      <td>164.32</td>\n",
       "      <td>1.0</td>\n",
       "    </tr>\n",
       "    <tr>\n",
       "      <th>3586</th>\n",
       "      <td>Sayansk–Angarskaya Gas Pipeline</td>\n",
       "      <td></td>\n",
       "      <td>P3604</td>\n",
       "      <td>Russia</td>\n",
       "      <td>1329.25557</td>\n",
       "      <td>Proposed</td>\n",
       "      <td>Gas</td>\n",
       "      <td>--</td>\n",
       "      <td>1329.26</td>\n",
       "      <td>1.0</td>\n",
       "    </tr>\n",
       "    <tr>\n",
       "      <th>3587</th>\n",
       "      <td>Svobodny–Khabarovsk Gas Pipeline</td>\n",
       "      <td></td>\n",
       "      <td>P3605</td>\n",
       "      <td>Russia</td>\n",
       "      <td>686.526994</td>\n",
       "      <td>Proposed</td>\n",
       "      <td>Gas</td>\n",
       "      <td>--</td>\n",
       "      <td>686.53</td>\n",
       "      <td>1.0</td>\n",
       "    </tr>\n",
       "    <tr>\n",
       "      <th>3588</th>\n",
       "      <td>Austria–Slovenia Interconnector gas pipeline</td>\n",
       "      <td></td>\n",
       "      <td>P3606</td>\n",
       "      <td>Austria</td>\n",
       "      <td>28.16125</td>\n",
       "      <td>Proposed</td>\n",
       "      <td>Gas</td>\n",
       "      <td>--</td>\n",
       "      <td>28.0</td>\n",
       "      <td>1.0</td>\n",
       "    </tr>\n",
       "  </tbody>\n",
       "</table>\n",
       "<p>3589 rows × 10 columns</p>\n",
       "</div>"
      ],
      "text/plain": [
       "                                         pipeline_name segment_name  \\\n",
       "0                         Alberta Clipper Oil Pipeline                \n",
       "1                         Alberta Clipper Oil Pipeline                \n",
       "2                               Athabasca Oil Pipeline                \n",
       "3                                  Bakken Oil Pipeline                \n",
       "4                                  Bakken Oil Pipeline                \n",
       "...                                                ...          ...   \n",
       "3584  Mallavaram-Bhopal-Bhilwara-Vijaipur Gas Pipeline     Phase II   \n",
       "3585           Power of Siberia 2–Sayansk Gas Pipeline                \n",
       "3586                   Sayansk–Angarskaya Gas Pipeline                \n",
       "3587                  Svobodny–Khabarovsk Gas Pipeline                \n",
       "3588      Austria–Slovenia Interconnector gas pipeline                \n",
       "\n",
       "     project_id        country length_per_country        status fuel capacity  \\\n",
       "0         P0001         Canada        1099.524365     Operating  Oil  440,000   \n",
       "1         P0001  United States         463.648701     Operating  Oil  440,000   \n",
       "2         P0002         Canada         418.095904     Operating  Oil  570,000   \n",
       "3         P0004         Canada         155.333654     Operating  Oil  145,000   \n",
       "4         P0004  United States         106.866868     Operating  Oil  145,000   \n",
       "...         ...            ...                ...           ...  ...      ...   \n",
       "3584      P3602          India         1487.97359  Construction  Gas       --   \n",
       "3585      P3603         Russia         164.316591      Proposed  Gas       --   \n",
       "3586      P3604         Russia         1329.25557      Proposed  Gas       --   \n",
       "3587      P3605         Russia         686.526994      Proposed  Gas       --   \n",
       "3588      P3606        Austria           28.16125      Proposed  Gas       --   \n",
       "\n",
       "       length length_per_country_fract  \n",
       "0      1790.0                 0.703393  \n",
       "1      1790.0                 0.296608  \n",
       "2       542.0                      1.0  \n",
       "3       261.0                 0.592423  \n",
       "4       261.0                 0.407577  \n",
       "...       ...                      ...  \n",
       "3584   1446.0                      1.0  \n",
       "3585   164.32                      1.0  \n",
       "3586  1329.26                      1.0  \n",
       "3587   686.53                      1.0  \n",
       "3588     28.0                      1.0  \n",
       "\n",
       "[3589 rows x 10 columns]"
      ]
     },
     "execution_count": 19,
     "metadata": {},
     "output_type": "execute_result"
    }
   ],
   "source": [
    "results_by_country"
   ]
  },
  {
   "cell_type": "markdown",
   "metadata": {},
   "source": [
    "## troubleshooting length mismatches\n",
    "\n",
    "the full sum of km in the dataset doesn't equal the output from finding country ratios of pipelines"
   ]
  },
  {
   "cell_type": "code",
   "execution_count": 20,
   "metadata": {},
   "outputs": [],
   "source": [
    "new_pids = list(set(results_by_country[results_by_country['fuel']=='Gas']['project_id']))"
   ]
  },
  {
   "cell_type": "code",
   "execution_count": 21,
   "metadata": {},
   "outputs": [],
   "source": [
    "old_pids = list(set(pipe_orig[pipe_orig['Fuel']=='Gas']['ProjectID']))"
   ]
  },
  {
   "cell_type": "raw",
   "metadata": {},
   "source": [
    "list(set(old_pids)-set(new_pids))"
   ]
  },
  {
   "cell_type": "code",
   "execution_count": 23,
   "metadata": {},
   "outputs": [],
   "source": [
    "these_pipes = list(set(old_pids)-set(new_pids))"
   ]
  },
  {
   "cell_type": "code",
   "execution_count": 24,
   "metadata": {},
   "outputs": [
    {
     "data": {
      "text/plain": [
       "8016.849999999999"
      ]
     },
     "execution_count": 24,
     "metadata": {},
     "output_type": "execute_result"
    }
   ],
   "source": [
    "pipe_orig[pipe_orig['ProjectID'].isin(these_pipes)]['LengthMergedKm'].sum()"
   ]
  },
  {
   "cell_type": "raw",
   "metadata": {},
   "source": [
    "pipe_orig[pipe_orig['ProjectID'].isin(these_pipes)]"
   ]
  },
  {
   "cell_type": "raw",
   "metadata": {},
   "source": [
    "pipe[pipe['ProjectID'].isin(these_pipes)]['Route']"
   ]
  },
  {
   "cell_type": "code",
   "execution_count": 27,
   "metadata": {
    "id": "poULH3cpxLHc"
   },
   "outputs": [],
   "source": [
    "# export length estimates by country and pipeline\n",
    "results_by_country.rename(columns={'length_per_country':'LengthEstimateKm',\n",
    "                                    'pipeline_name':'PipelineName',\n",
    "                                    'segment_name':'SegmentName',\n",
    "                                    'project_id':'ProjectID',\n",
    "                                    'length_per_country':'LengthEstimateKmByCountry',\n",
    "                                    'country':'Country',\n",
    "                                    'status':'Status',\n",
    "                                    'fuel':'Fuel',\n",
    "                                    'capacity':'Capacity',\n",
    "                                    'length':'LengthEstimateKm',\n",
    "                                    'length_per_country_fract':'LengthPerCountryFraction'}, inplace=True)\n",
    "\n",
    "results_by_country['Country'].replace('United States', 'USA', inplace=True)\n",
    "results_by_country['Country'].replace('Czech Republic', 'Czechia', inplace=True)\n",
    "results_by_country['Country'].replace('Swaziland', 'Eswatini', inplace=True)\n",
    "results_by_country['Country'].replace('Congo', 'Republic of Congo', inplace=True)\n",
    "results_by_country['Country'].replace('Congo, DRC', 'DR Congo', inplace=True)\n",
    "results_by_country['Country'].replace('Sudan', 'Republic of Sudan', inplace=True)\n",
    "results_by_country['Country'].replace('Swaziland', 'Eswatini', inplace=True)\n",
    "results_by_country['Country'].replace('Guinea', 'Republic of Guinea', inplace=True)\n",
    "results_by_country['Country'].replace('Bosnia & Herzegovina', 'Bosnia and Herzegovina', inplace=True)\n",
    "results_by_country['Country'].replace('Trinidad & Tobago', 'Trinidad and Tobago', inplace=True)\n",
    "\n",
    "results_by_country.to_excel('Estimated_Length-Results_By_Country_'+type+'.xlsx')"
   ]
  },
  {
   "cell_type": "code",
   "execution_count": 30,
   "metadata": {},
   "outputs": [],
   "source": [
    "results_by_pipeline = results_by_country.copy()[['ProjectID','LengthEstimateKmByCountry']]\n",
    "\n",
    "#results_by_pipeline = pandas.DataFrame(results_by_pipeline.groupby(by=['ProjectID'])['LengthEstimateKm'].sum())\n",
    "results_by_pipeline=results_by_country.groupby(\"ProjectID\")[\"LengthEstimateKmByCountry\"].sum()\n",
    "\n",
    "results_by_pipeline.to_excel('Estimated_Length-Results_By_Pipeline_'+type+'.xlsx')"
   ]
  },
  {
   "cell_type": "code",
   "execution_count": null,
   "metadata": {},
   "outputs": [],
   "source": []
  },
  {
   "cell_type": "code",
   "execution_count": null,
   "metadata": {},
   "outputs": [],
   "source": []
  },
  {
   "cell_type": "code",
   "execution_count": null,
   "metadata": {},
   "outputs": [],
   "source": []
  },
  {
   "cell_type": "code",
   "execution_count": null,
   "metadata": {},
   "outputs": [],
   "source": []
  }
 ],
 "metadata": {
  "colab": {
   "collapsed_sections": [],
   "name": "Estimate Length.ipynb",
   "provenance": []
  },
  "kernelspec": {
   "display_name": "Python 3 (ipykernel)",
   "language": "python",
   "name": "python3"
  },
  "language_info": {
   "codemirror_mode": {
    "name": "ipython",
    "version": 3
   },
   "file_extension": ".py",
   "mimetype": "text/x-python",
   "name": "python",
   "nbconvert_exporter": "python",
   "pygments_lexer": "ipython3",
   "version": "3.9.6"
  }
 },
 "nbformat": 4,
 "nbformat_minor": 4
}
