{
 "cells": [
  {
   "cell_type": "code",
   "execution_count": 1,
   "id": "80f786e1-d12c-4869-883a-5e1cb4813107",
   "metadata": {},
   "outputs": [],
   "source": [
    "import mwclient"
   ]
  },
  {
   "cell_type": "code",
   "execution_count": 4,
   "id": "47a56de1-902a-43a9-b206-6fa83beb2e9d",
   "metadata": {},
   "outputs": [],
   "source": [
    "site = mwclient.Site('www.gem.wiki')"
   ]
  },
  {
   "cell_type": "code",
   "execution_count": null,
   "id": "637393f9-2642-4bd7-a978-1138a72eb2e1",
   "metadata": {},
   "outputs": [],
   "source": []
  }
 ],
 "metadata": {
  "kernelspec": {
   "display_name": "Python 3 (ipykernel)",
   "language": "python",
   "name": "python3"
  },
  "language_info": {
   "codemirror_mode": {
    "name": "ipython",
    "version": 3
   },
   "file_extension": ".py",
   "mimetype": "text/x-python",
   "name": "python",
   "nbconvert_exporter": "python",
   "pygments_lexer": "ipython3",
   "version": "3.11.6"
  }
 },
 "nbformat": 4,
 "nbformat_minor": 5
}
