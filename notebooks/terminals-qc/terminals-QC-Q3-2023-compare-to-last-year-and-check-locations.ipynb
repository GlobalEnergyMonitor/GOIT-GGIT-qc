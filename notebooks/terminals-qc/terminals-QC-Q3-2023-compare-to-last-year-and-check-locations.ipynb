{
 "cells": [
  {
   "cell_type": "code",
   "execution_count": 1,
   "id": "fc3c5782-39b4-4163-ab66-5313187ecf99",
   "metadata": {},
   "outputs": [],
   "source": [
    "import pandas\n",
    "import numpy\n",
    "import pygsheets\n",
    "import datetime\n",
    "import pytz\n",
    "import re\n",
    "\n",
    "# for lat/lon checking\n",
    "import geopandas\n",
    "import shapely"
   ]
  },
  {
   "cell_type": "code",
   "execution_count": 2,
   "id": "bcfca118-9a68-4da3-8d0e-f15fd711620b",
   "metadata": {},
   "outputs": [],
   "source": [
    "gc = pygsheets.authorize(service_account_env_var='GDRIVE_API_CREDENTIALS')\n",
    "spreadsheet = gc.open_by_key('1tcS6Wd-Wp-LTDpLzFgJY_RSNDnbyubW3J_9HKIAys4A')\n",
    "\n",
    "terms_df_orig = spreadsheet.worksheet('title', 'Terminals').get_as_df(start='A3')\n",
    "\n",
    "# drop any empty/imcomplete rows (those without a wiki page)\n",
    "terms_df_orig = terms_df_orig.loc[terms_df_orig.Wiki != '']\n",
    "\n",
    "#get other relevant sheets\n",
    "owners_df_orig = spreadsheet.worksheet('title', 'Terminal operators/owners (1/3)').get_as_df(start='A2')\n",
    "owners_df_orig.set_index('ComboID', inplace=True)\n",
    "\n",
    "owner_parent_df_orig = spreadsheet.worksheet('title', 'Owner–parent relationships (2/3)').get_as_df(start='A1')\n",
    "owner_parent_df_orig.set_index('Owner', inplace=True)\n",
    "owner_parent_df_orig = owner_parent_df_orig.loc[owner_parent_df_orig.index!='']\n",
    "\n",
    "parent_metadata_df = spreadsheet.worksheet('title', 'Parent metadata (3/3)').get_as_df(start='A2')\n",
    "parent_metadata_df.set_index('Parent', inplace=True)"
   ]
  },
  {
   "cell_type": "code",
   "execution_count": 3,
   "id": "f71761e8-30d6-4000-9c7e-d37d3d8e7559",
   "metadata": {},
   "outputs": [],
   "source": [
    "terms_df_orig.replace('--', numpy.nan, inplace=True)"
   ]
  },
  {
   "cell_type": "code",
   "execution_count": 4,
   "id": "5fa5581c-7ede-4ff0-84bc-8b73b3b7c9d8",
   "metadata": {},
   "outputs": [],
   "source": [
    "region_df_orig = spreadsheet.worksheet('title', 'Country dictionary').get_as_df(start='A2')\n",
    "#region_df_agt = region_df_orig.loc[region_df_orig['AsiaGasTracker']=='Yes']\n",
    "\n",
    "region_df_touse = region_df_orig.copy()\n",
    "#region_df_agt.copy()"
   ]
  },
  {
   "cell_type": "markdown",
   "id": "de95b92e-c081-4d2f-b5f6-cf4fd4f9e5ba",
   "metadata": {},
   "source": [
    "## dataframes for owners and such"
   ]
  },
  {
   "cell_type": "code",
   "execution_count": 5,
   "id": "6db56951-d6ea-49a1-980e-8824c3294506",
   "metadata": {},
   "outputs": [],
   "source": [
    "owners_df_touse = owners_df_orig.loc[owners_df_orig['Country'].isin(region_df_touse['Country'].tolist())]\n",
    "terms_df_touse = terms_df_orig.loc[terms_df_orig['Country'].isin(region_df_touse['Country'].tolist())]"
   ]
  },
  {
   "cell_type": "markdown",
   "id": "65a174f7-fa62-4ace-b80d-98b8b74f7811",
   "metadata": {},
   "source": [
    "### check for unused parents in the owners/parents tab"
   ]
  },
  {
   "cell_type": "code",
   "execution_count": 6,
   "id": "51cd48aa-c099-49a1-a13d-5b2218476501",
   "metadata": {},
   "outputs": [],
   "source": [
    "# combine all Parent1, Parent2, ... columns, get unique values\n",
    "# look at all Parent values in the next tab over, do a set on each and see diffs\n",
    "\n",
    "## create list of owner and parent column names\n",
    "owner_pct_col_names = []\n",
    "owner_col_names = []\n",
    "\n",
    "parent_pct_col_names = []\n",
    "parent_col_names = []\n",
    "\n",
    "for num in range(1,10+1):\n",
    "    owner_pct_col = f'Owner{num}%'\n",
    "    owner_pct_col_names.append(owner_pct_col)\n",
    "    \n",
    "    owner_col = f'Owner{num}'\n",
    "    owner_col_names.append(owner_col)\n",
    "    \n",
    "    parent_pct_col = f'Parent{num}%'\n",
    "    parent_pct_col_names.append(parent_pct_col)\n",
    "    \n",
    "    parent_col = f'Parent{num}'\n",
    "    parent_col_names.append(parent_col)\n",
    "\n",
    "\n",
    "#parent_metadata_df"
   ]
  },
  {
   "cell_type": "code",
   "execution_count": 7,
   "id": "09afdaed-b1e8-4622-af94-30661702b7d5",
   "metadata": {},
   "outputs": [],
   "source": [
    "parent_list = parent_metadata_df.index.tolist()"
   ]
  },
  {
   "cell_type": "code",
   "execution_count": 8,
   "id": "f124a714-172f-44d4-a697-d2b728c754ce",
   "metadata": {},
   "outputs": [],
   "source": [
    "owner_list = owner_parent_df_orig.index.tolist()"
   ]
  },
  {
   "cell_type": "code",
   "execution_count": 9,
   "id": "567fcf85-736a-4ef6-ab8e-98cd89c6a6f6",
   "metadata": {},
   "outputs": [],
   "source": [
    "parent_list_from_owners = owner_parent_df_orig[parent_col_names]\n",
    "# make all parent1, parent2, etc. into a single list to compare to parent_list\n",
    "parent_list_from_owners = list(set(parent_list_from_owners.values.flatten().tolist()))\n",
    "# remove the empty parent\n",
    "parent_list_from_owners.remove('')"
   ]
  },
  {
   "cell_type": "markdown",
   "id": "62bf9dfa-9265-4de4-9f75-edae1519d40e",
   "metadata": {},
   "source": [
    "compare parent_list (from metadata) to parent_list_from_owners (from parent-owner relationships sheet)"
   ]
  },
  {
   "cell_type": "code",
   "execution_count": 10,
   "id": "f551cff1-65bb-4653-8b6f-8f7d1f3ba9a9",
   "metadata": {},
   "outputs": [
    {
     "data": {
      "text/plain": [
       "[]"
      ]
     },
     "execution_count": 10,
     "metadata": {},
     "output_type": "execute_result"
    }
   ],
   "source": [
    "# THIS IS THE LIST TO REMOVE from parent_metadata\n",
    "list(set(parent_list)-set(parent_list_from_owners))"
   ]
  },
  {
   "cell_type": "code",
   "execution_count": 11,
   "id": "7e85ca7a-3e25-402c-a2df-0776aefa50d6",
   "metadata": {},
   "outputs": [
    {
     "data": {
      "text/plain": [
       "[]"
      ]
     },
     "execution_count": 11,
     "metadata": {},
     "output_type": "execute_result"
    }
   ],
   "source": [
    "# THIS IS THE LIST TO ADD TO parent_metadata relationships (should be red in the p-o relationships sheet)\n",
    "list(set(parent_list_from_owners)-set(parent_list))"
   ]
  },
  {
   "cell_type": "markdown",
   "id": "d996c0ce-ec8f-4d04-9acd-fc9e65a633b9",
   "metadata": {},
   "source": [
    "## how many new projects are there?\n",
    "\n",
    "using ComboID to understand this"
   ]
  },
  {
   "cell_type": "code",
   "execution_count": 12,
   "id": "56e7a958-f432-4a88-bd0f-1c1309b7f8bb",
   "metadata": {},
   "outputs": [],
   "source": [
    "# import the OLDER version of the database; use the previous version\n",
    "gc = pygsheets.authorize(service_account_env_var='GDRIVE_API_CREDENTIALS')\n",
    "# title of sheet is: \n",
    "# Copy of LNG Terminals - main - \n",
    "# from August 19, 11:32 AM - July 2022 version of map/database - for May 2023 Asia Gas Tracker update\n",
    "spreadsheet_previous = gc.open_by_key('1FVuw76YU-jmAzfSWJ2ixwBQB_wXEK9aGCa4Q6OCOUzY') \n",
    "\n",
    "terms_df_orig_previous = spreadsheet_previous.worksheet('title', 'Terminals').get_as_df(start='A2')\n",
    "\n",
    "# drop any empty/imcomplete rows (those without a wiki page)\n",
    "terms_df_orig_previous = terms_df_orig_previous.loc[terms_df_orig_previous.Wiki != '']\n",
    "terms_df_orig_previous.replace('--', numpy.nan, inplace=True)"
   ]
  },
  {
   "cell_type": "markdown",
   "id": "1a2afcd9-35cf-4348-a006-054dbd0185f6",
   "metadata": {},
   "source": [
    "## terminal IDs that have been deleted, added"
   ]
  },
  {
   "cell_type": "code",
   "execution_count": 13,
   "id": "b45c6475-6613-48fd-a7b5-3b202db9c614",
   "metadata": {},
   "outputs": [
    {
     "name": "stdout",
     "output_type": "stream",
     "text": [
      "TerminalIDs that have been deleted from previous to current version\n",
      "['T0425', 'T0508', 'T0582', 'T0620', 'T0634', 'T0696', 'T0719', 'T0806', 'T0861', 'T0864', 'T0867', 'T0868', 'T0872', 'T0908', 'T0919', 'T0920', 'T0954', 'T1062']\n",
      "TerminalIDs that have been added from previous to current version\n",
      "['T1090', 'T1091', 'T1092', 'T1094', 'T1095', 'T1096', 'T1097', 'T1098', 'T1099', 'T1100', 'T1101', 'T1102', 'T1103', 'T1104', 'T1105', 'T1106', 'T1107', 'T1108', 'T1109', 'T1110', 'T1111', 'T1112', 'T1113', 'T1114', 'T1115', 'T1116', 'T1117', 'T1118', 'T1119', 'T1120', 'T1121', 'T1122', 'T1123', 'T1124', 'T1125', 'T1126', 'T1127', 'T1128', 'T1129', 'T1130', 'T1131', 'T1132', 'T1133', 'T1134', 'T1135', 'T1136', 'T1138', 'T1139', 'T1140', 'T1141', 'T1142', 'T1143', 'T1144', 'T1145', 'T1146', 'T1147', 'T1148', 'T1149']\n"
     ]
    }
   ],
   "source": [
    "previous_terminal_ids = terms_df_orig_previous.TerminalID.tolist()\n",
    "current_terminal_ids = terms_df_orig.TerminalID.tolist()\n",
    "\n",
    "# deleted\n",
    "print(\"TerminalIDs that have been deleted from previous to current version\")\n",
    "print(sorted(list(set(previous_terminal_ids)-set(current_terminal_ids))))\n",
    "\n",
    "# added\n",
    "print(\"TerminalIDs that have been added from previous to current version\")\n",
    "print(sorted(list(set(current_terminal_ids)-set(previous_terminal_ids))))"
   ]
  },
  {
   "cell_type": "code",
   "execution_count": 14,
   "id": "141a4f0b-1687-4d8d-958d-9c515e497168",
   "metadata": {},
   "outputs": [
    {
     "name": "stdout",
     "output_type": "stream",
     "text": [
      "ComboIDs that have been deleted from previous to current version\n",
      "['T021903', 'T021904', 'T021905', 'T042500', 'T046402', 'T046403', 'T050800', 'T051602', 'T051603', 'T058200', 'T062001', 'T063400', 'T069600', 'T071901', 'T078902', 'T080601', 'T080904', 'T080905', 'T080906', 'T086100', 'T086400', 'T086700', 'T086800', 'T087200', 'T090800', 'T091901', 'T092001', 'T095400', 'T106200']\n",
      "ComboIDs that have been added from previous to current version\n",
      "['T021406', 'T021611', 'T021612', 'T022111', 'T024007', 'T030303', 'T030304', 'T030305', 'T030902', 'T031704', 'T031801', 'T034902', 'T038401', 'T039102', 'T039203', 'T039901', 'T040201', 'T040202', 'T040502', 'T041002', 'T041102', 'T041701', 'T042902', 'T043002', 'T043103', 'T044601', 'T045701', 'T047401', 'T048601', 'T048801', 'T050403', 'T055701', 'T056201', 'T056202', 'T070702', 'T070703', 'T071101', 'T071501', 'T073101', 'T079301', 'T079401', 'T079601', 'T085901', 'T085902', 'T095601', 'T106903', 'T107701', 'T107702', 'T109001', 'T109101', 'T109201', 'T109401', 'T109500', 'T109600', 'T109700', 'T109800', 'T109900', 'T110000', 'T110100', 'T110101', 'T110200', 'T110300', 'T110400', 'T110501', 'T110502', 'T110600', 'T110701', 'T110800', 'T110900', 'T111000', 'T111100', 'T111201', 'T111202', 'T111203', 'T111301', 'T111400', 'T111500', 'T111600', 'T111700', 'T111801', 'T111900', 'T112010', 'T112100', 'T112200', 'T112301', 'T112401', 'T112501', 'T112600', 'T112700', 'T112801', 'T112901', 'T112902', 'T113001', 'T113100', 'T113200', 'T113300', 'T113400', 'T113500', 'T113600', 'T113800', 'T113900', 'T114000', 'T114100', 'T114101', 'T114200', 'T114300', 'T114400', 'T114500', 'T114501', 'T114600', 'T114700', 'T114801', 'T114900']\n"
     ]
    }
   ],
   "source": [
    "previous_combo_ids = terms_df_orig_previous.ComboID.tolist()\n",
    "current_combo_ids = terms_df_orig.ComboID.tolist()\n",
    "\n",
    "# deleted\n",
    "print(\"ComboIDs that have been deleted from previous to current version\")\n",
    "print(sorted(list(set(previous_combo_ids)-set(current_combo_ids))))\n",
    "\n",
    "# added\n",
    "print(\"ComboIDs that have been added from previous to current version\")\n",
    "print(sorted(list(set(current_combo_ids)-set(previous_combo_ids))))"
   ]
  },
  {
   "cell_type": "markdown",
   "id": "f2a18a74-b917-4e84-bc1a-45fd71f444aa",
   "metadata": {},
   "source": [
    "print all deleted ComboIDs"
   ]
  },
  {
   "cell_type": "code",
   "execution_count": 15,
   "id": "d2b7e28b-645e-487d-810b-be92796a1da5",
   "metadata": {},
   "outputs": [
    {
     "name": "stdout",
     "output_type": "stream",
     "text": [
      "T021903\n",
      "T021904\n",
      "T021905\n",
      "T042500\n",
      "T046402\n",
      "T046403\n",
      "T050800\n",
      "T051602\n",
      "T051603\n",
      "T058200\n",
      "T062001\n",
      "T063400\n",
      "T069600\n",
      "T071901\n",
      "T078902\n",
      "T080601\n",
      "T080904\n",
      "T080905\n",
      "T080906\n",
      "T086100\n",
      "T086400\n",
      "T086700\n",
      "T086800\n",
      "T087200\n",
      "T090800\n",
      "T091901\n",
      "T092001\n",
      "T095400\n",
      "T106200\n"
     ]
    }
   ],
   "source": [
    "for i in sorted(list(set(previous_combo_ids)-set(current_combo_ids))):\n",
    "    print(i)"
   ]
  },
  {
   "cell_type": "code",
   "execution_count": 16,
   "id": "90665520-74f7-4b09-bba8-2b6bf7b8172a",
   "metadata": {},
   "outputs": [
    {
     "data": {
      "text/plain": [
       "29"
      ]
     },
     "execution_count": 16,
     "metadata": {},
     "output_type": "execute_result"
    }
   ],
   "source": [
    "list(set(previous_combo_ids)-set(current_combo_ids)).__len__()"
   ]
  },
  {
   "cell_type": "markdown",
   "id": "539be045-f237-4518-b099-07e491fe4aa7",
   "metadata": {},
   "source": [
    "print terminal id list that has been ADDED"
   ]
  },
  {
   "cell_type": "code",
   "execution_count": 17,
   "id": "929c074b-ee5d-40ee-9fa2-bcbc717dc1c2",
   "metadata": {},
   "outputs": [],
   "source": [
    "# for i in sorted(list(set(current_terminal_ids)-set(previous_terminal_ids))):\n",
    "#     print(i)"
   ]
  },
  {
   "cell_type": "code",
   "execution_count": 18,
   "id": "46fbfb04-e6a7-4905-8aed-a72af908ed8b",
   "metadata": {},
   "outputs": [
    {
     "data": {
      "text/plain": [
       "'T1090, T1091, T1092, T1094, T1095, T1096, T1097, T1098, T1099, T1100, T1101, T1102, T1103, T1104, T1105, T1106, T1107, T1108, T1109, T1110, T1111, T1112, T1113, T1114, T1115, T1116, T1117, T1118, T1119, T1120, T1121, T1122, T1123, T1124, T1125, T1126, T1127, T1128, T1129, T1130, T1131, T1132, T1133, T1134, T1135, T1136, T1138, T1139, T1140, T1141, T1142, T1143, T1144, T1145, T1146, T1147, T1148, T1149'"
      ]
     },
     "execution_count": 18,
     "metadata": {},
     "output_type": "execute_result"
    }
   ],
   "source": [
    "\", \".join(sorted(list(set(current_terminal_ids)-set(previous_terminal_ids))))"
   ]
  },
  {
   "cell_type": "code",
   "execution_count": 19,
   "id": "4358d383-884e-4151-a90a-f2b2a5b14de3",
   "metadata": {},
   "outputs": [
    {
     "data": {
      "text/plain": [
       "58"
      ]
     },
     "execution_count": 19,
     "metadata": {},
     "output_type": "execute_result"
    }
   ],
   "source": [
    "sorted(list(set(current_terminal_ids)-set(previous_terminal_ids))).__len__()"
   ]
  },
  {
   "cell_type": "code",
   "execution_count": 20,
   "id": "4eeaef85-2324-4152-8ba5-8eb47177e1cb",
   "metadata": {},
   "outputs": [],
   "source": [
    "# for i in sorted(list(set(current_combo_ids)-set(previous_combo_ids))):\n",
    "#     print(i)"
   ]
  },
  {
   "cell_type": "code",
   "execution_count": 21,
   "id": "f7bf98e4-3f08-4929-b486-a2005f196ad5",
   "metadata": {},
   "outputs": [
    {
     "data": {
      "text/plain": [
       "'T021406, T021611, T021612, T022111, T024007, T030303, T030304, T030305, T030902, T031704, T031801, T034902, T038401, T039102, T039203, T039901, T040201, T040202, T040502, T041002, T041102, T041701, T042902, T043002, T043103, T044601, T045701, T047401, T048601, T048801, T050403, T055701, T056201, T056202, T070702, T070703, T071101, T071501, T073101, T079301, T079401, T079601, T085901, T085902, T095601, T106903, T107701, T107702, T109001, T109101, T109201, T109401, T109500, T109600, T109700, T109800, T109900, T110000, T110100, T110101, T110200, T110300, T110400, T110501, T110502, T110600, T110701, T110800, T110900, T111000, T111100, T111201, T111202, T111203, T111301, T111400, T111500, T111600, T111700, T111801, T111900, T112010, T112100, T112200, T112301, T112401, T112501, T112600, T112700, T112801, T112901, T112902, T113001, T113100, T113200, T113300, T113400, T113500, T113600, T113800, T113900, T114000, T114100, T114101, T114200, T114300, T114400, T114500, T114501, T114600, T114700, T114801, T114900'"
      ]
     },
     "execution_count": 21,
     "metadata": {},
     "output_type": "execute_result"
    }
   ],
   "source": [
    "\", \".join(sorted(list(set(current_combo_ids)-set(previous_combo_ids))))"
   ]
  },
  {
   "cell_type": "code",
   "execution_count": 22,
   "id": "ac41169e-5fb8-4058-bd11-b1376bb1bbf7",
   "metadata": {},
   "outputs": [
    {
     "data": {
      "text/plain": [
       "113"
      ]
     },
     "execution_count": 22,
     "metadata": {},
     "output_type": "execute_result"
    }
   ],
   "source": [
    "sorted(list(set(current_combo_ids)-set(previous_combo_ids))).__len__()"
   ]
  },
  {
   "cell_type": "code",
   "execution_count": 23,
   "id": "c42b8812-e240-49b2-931f-da4b96d41c45",
   "metadata": {},
   "outputs": [
    {
     "data": {
      "text/plain": [
       "(1275, 82)"
      ]
     },
     "execution_count": 23,
     "metadata": {},
     "output_type": "execute_result"
    }
   ],
   "source": [
    "terms_df_orig.shape"
   ]
  },
  {
   "cell_type": "code",
   "execution_count": 24,
   "id": "cf772a34-57e6-4b89-80e6-106f7a7622b3",
   "metadata": {},
   "outputs": [
    {
     "data": {
      "text/plain": [
       "(1191, 77)"
      ]
     },
     "execution_count": 24,
     "metadata": {},
     "output_type": "execute_result"
    }
   ],
   "source": [
    "terms_df_orig_previous.shape"
   ]
  },
  {
   "cell_type": "code",
   "execution_count": 25,
   "id": "94a3984d-6db4-4f8b-86ad-9d928f6ab182",
   "metadata": {},
   "outputs": [
    {
     "data": {
      "text/plain": [
       "84"
      ]
     },
     "execution_count": 25,
     "metadata": {},
     "output_type": "execute_result"
    }
   ],
   "source": [
    "1275-1191"
   ]
  },
  {
   "cell_type": "code",
   "execution_count": 26,
   "id": "f3c9dc06-b72f-42ac-a36d-51addc311f2b",
   "metadata": {},
   "outputs": [
    {
     "data": {
      "text/plain": [
       "84"
      ]
     },
     "execution_count": 26,
     "metadata": {},
     "output_type": "execute_result"
    }
   ],
   "source": [
    "113-29"
   ]
  },
  {
   "cell_type": "markdown",
   "id": "8626e5bf-001c-4813-9cba-e34e6918f332",
   "metadata": {},
   "source": [
    "# check lat/lon locations"
   ]
  },
  {
   "cell_type": "markdown",
   "id": "ab496ce6-689f-4417-acdc-a4020e6d3cca",
   "metadata": {},
   "source": [
    "## import eez stuff"
   ]
  },
  {
   "cell_type": "code",
   "execution_count": 27,
   "id": "3fc0fa2a-38c0-460e-8754-01fe9d282181",
   "metadata": {},
   "outputs": [],
   "source": [
    "# from https://www.marineregions.org/downloads.php\n",
    "# in the section \"Marine and land zones: the union of world country boundaries and EEZ's\"\n",
    "#eez_file = '/Users/baird/Dropbox/_gis-data/eez/EEZ_land_union_v2_201410/EEZ_land_v2_201410.shp'\n",
    "eez_file = '/Users/baird/Dropbox/_gis-data/eez/EEZ_land_union_v3_202003/EEZ_Land_v3_202030.shp'\n",
    "\n",
    "eez_and_land_boundaries_gdf = geopandas.read_file(eez_file)\n",
    "eez_and_land_boundaries_gdf = eez_and_land_boundaries_gdf.set_index('UNION')\n",
    "#eez_and_land_boundaries_gdf = eez_and_land_boundaries_gdf.set_index('SOVEREIGN1')\n",
    "#eez_4087 = eez_and_land_boundaries.to_crs('epsg:4087')"
   ]
  },
  {
   "cell_type": "code",
   "execution_count": 28,
   "id": "714df5a1-5c3c-4fb8-aa1a-4fa47eea3371",
   "metadata": {},
   "outputs": [
    {
     "data": {
      "text/html": [
       "<div>\n",
       "<style scoped>\n",
       "    .dataframe tbody tr th:only-of-type {\n",
       "        vertical-align: middle;\n",
       "    }\n",
       "\n",
       "    .dataframe tbody tr th {\n",
       "        vertical-align: top;\n",
       "    }\n",
       "\n",
       "    .dataframe thead th {\n",
       "        text-align: right;\n",
       "    }\n",
       "</style>\n",
       "<table border=\"1\" class=\"dataframe\">\n",
       "  <thead>\n",
       "    <tr style=\"text-align: right;\">\n",
       "      <th></th>\n",
       "      <th>MRGID_EEZ</th>\n",
       "      <th>TERRITORY1</th>\n",
       "      <th>MRGID_TER1</th>\n",
       "      <th>ISO_TER1</th>\n",
       "      <th>UN_TER1</th>\n",
       "      <th>SOVEREIGN1</th>\n",
       "      <th>MRGID_SOV1</th>\n",
       "      <th>ISO_SOV1</th>\n",
       "      <th>UN_SOV1</th>\n",
       "      <th>TERRITORY2</th>\n",
       "      <th>...</th>\n",
       "      <th>UN_TER3</th>\n",
       "      <th>SOVEREIGN3</th>\n",
       "      <th>MRGID_SOV3</th>\n",
       "      <th>ISO_SOV3</th>\n",
       "      <th>UN_SOV3</th>\n",
       "      <th>POL_TYPE</th>\n",
       "      <th>Y_1</th>\n",
       "      <th>x_1</th>\n",
       "      <th>AREA_KM2</th>\n",
       "      <th>geometry</th>\n",
       "    </tr>\n",
       "    <tr>\n",
       "      <th>UNION</th>\n",
       "      <th></th>\n",
       "      <th></th>\n",
       "      <th></th>\n",
       "      <th></th>\n",
       "      <th></th>\n",
       "      <th></th>\n",
       "      <th></th>\n",
       "      <th></th>\n",
       "      <th></th>\n",
       "      <th></th>\n",
       "      <th></th>\n",
       "      <th></th>\n",
       "      <th></th>\n",
       "      <th></th>\n",
       "      <th></th>\n",
       "      <th></th>\n",
       "      <th></th>\n",
       "      <th></th>\n",
       "      <th></th>\n",
       "      <th></th>\n",
       "      <th></th>\n",
       "    </tr>\n",
       "  </thead>\n",
       "  <tbody>\n",
       "    <tr>\n",
       "      <th>Estonia</th>\n",
       "      <td>5675.0</td>\n",
       "      <td>Estonia</td>\n",
       "      <td>2110</td>\n",
       "      <td>EST</td>\n",
       "      <td>233.0</td>\n",
       "      <td>Estonia</td>\n",
       "      <td>2110</td>\n",
       "      <td>EST</td>\n",
       "      <td>233</td>\n",
       "      <td>NaN</td>\n",
       "      <td>...</td>\n",
       "      <td>NaN</td>\n",
       "      <td>NaN</td>\n",
       "      <td>0.0</td>\n",
       "      <td>NaN</td>\n",
       "      <td>NaN</td>\n",
       "      <td>Union EEZ and country</td>\n",
       "      <td>58.71530</td>\n",
       "      <td>24.40898</td>\n",
       "      <td>81842</td>\n",
       "      <td>MULTIPOLYGON (((26.61348 57.50776, 26.60780 57...</td>\n",
       "    </tr>\n",
       "    <tr>\n",
       "      <th>Mayotte</th>\n",
       "      <td>48944.0</td>\n",
       "      <td>Mayotte</td>\n",
       "      <td>8606</td>\n",
       "      <td>MYT</td>\n",
       "      <td>175.0</td>\n",
       "      <td>France</td>\n",
       "      <td>17</td>\n",
       "      <td>FRA</td>\n",
       "      <td>250</td>\n",
       "      <td>Mayotte</td>\n",
       "      <td>...</td>\n",
       "      <td>0.0</td>\n",
       "      <td>NaN</td>\n",
       "      <td>0.0</td>\n",
       "      <td>NaN</td>\n",
       "      <td>0.0</td>\n",
       "      <td>Overlapping claim</td>\n",
       "      <td>-13.21377</td>\n",
       "      <td>45.30528</td>\n",
       "      <td>67285</td>\n",
       "      <td>POLYGON ((46.68598 -12.80939, 46.64361 -12.933...</td>\n",
       "    </tr>\n",
       "    <tr>\n",
       "      <th>Overlapping claim Qatar / Saudi Arabia / United Arab Emirates</th>\n",
       "      <td>50170.0</td>\n",
       "      <td>Qatar</td>\n",
       "      <td>8468</td>\n",
       "      <td>QAT</td>\n",
       "      <td>634.0</td>\n",
       "      <td>Qatar</td>\n",
       "      <td>8468</td>\n",
       "      <td>QAT</td>\n",
       "      <td>634</td>\n",
       "      <td>Saudi Arabia</td>\n",
       "      <td>...</td>\n",
       "      <td>784.0</td>\n",
       "      <td>United Arab Emirates</td>\n",
       "      <td>2206.0</td>\n",
       "      <td>ARE</td>\n",
       "      <td>784.0</td>\n",
       "      <td>Overlapping claim</td>\n",
       "      <td>24.69243</td>\n",
       "      <td>51.59986</td>\n",
       "      <td>126</td>\n",
       "      <td>POLYGON ((51.68368 24.68507, 51.59039 24.66509...</td>\n",
       "    </tr>\n",
       "    <tr>\n",
       "      <th>Cameroon</th>\n",
       "      <td>8475.0</td>\n",
       "      <td>Cameroon</td>\n",
       "      <td>2170</td>\n",
       "      <td>CMR</td>\n",
       "      <td>120.0</td>\n",
       "      <td>Cameroon</td>\n",
       "      <td>2170</td>\n",
       "      <td>CMR</td>\n",
       "      <td>120</td>\n",
       "      <td>NaN</td>\n",
       "      <td>...</td>\n",
       "      <td>NaN</td>\n",
       "      <td>NaN</td>\n",
       "      <td>0.0</td>\n",
       "      <td>NaN</td>\n",
       "      <td>NaN</td>\n",
       "      <td>Union EEZ and country</td>\n",
       "      <td>5.62533</td>\n",
       "      <td>12.63665</td>\n",
       "      <td>480130</td>\n",
       "      <td>POLYGON ((16.05693 1.64932, 16.05571 1.65413, ...</td>\n",
       "    </tr>\n",
       "    <tr>\n",
       "      <th>Finland</th>\n",
       "      <td>5676.0</td>\n",
       "      <td>Finland</td>\n",
       "      <td>2106</td>\n",
       "      <td>FIN</td>\n",
       "      <td>246.0</td>\n",
       "      <td>Finland</td>\n",
       "      <td>2106</td>\n",
       "      <td>FIN</td>\n",
       "      <td>246</td>\n",
       "      <td>NaN</td>\n",
       "      <td>...</td>\n",
       "      <td>NaN</td>\n",
       "      <td>NaN</td>\n",
       "      <td>0.0</td>\n",
       "      <td>NaN</td>\n",
       "      <td>NaN</td>\n",
       "      <td>Union EEZ and country</td>\n",
       "      <td>63.97904</td>\n",
       "      <td>25.44114</td>\n",
       "      <td>420076</td>\n",
       "      <td>MULTIPOLYGON (((19.11472 60.30806, 19.11433 60...</td>\n",
       "    </tr>\n",
       "  </tbody>\n",
       "</table>\n",
       "<p>5 rows × 30 columns</p>\n",
       "</div>"
      ],
      "text/plain": [
       "                                                    MRGID_EEZ TERRITORY1  \\\n",
       "UNION                                                                      \n",
       "Estonia                                                5675.0    Estonia   \n",
       "Mayotte                                               48944.0    Mayotte   \n",
       "Overlapping claim Qatar / Saudi Arabia / United...    50170.0      Qatar   \n",
       "Cameroon                                               8475.0   Cameroon   \n",
       "Finland                                                5676.0    Finland   \n",
       "\n",
       "                                                    MRGID_TER1 ISO_TER1  \\\n",
       "UNION                                                                     \n",
       "Estonia                                                   2110      EST   \n",
       "Mayotte                                                   8606      MYT   \n",
       "Overlapping claim Qatar / Saudi Arabia / United...        8468      QAT   \n",
       "Cameroon                                                  2170      CMR   \n",
       "Finland                                                   2106      FIN   \n",
       "\n",
       "                                                    UN_TER1 SOVEREIGN1  \\\n",
       "UNION                                                                    \n",
       "Estonia                                               233.0    Estonia   \n",
       "Mayotte                                               175.0     France   \n",
       "Overlapping claim Qatar / Saudi Arabia / United...    634.0      Qatar   \n",
       "Cameroon                                              120.0   Cameroon   \n",
       "Finland                                               246.0    Finland   \n",
       "\n",
       "                                                    MRGID_SOV1 ISO_SOV1  \\\n",
       "UNION                                                                     \n",
       "Estonia                                                   2110      EST   \n",
       "Mayotte                                                     17      FRA   \n",
       "Overlapping claim Qatar / Saudi Arabia / United...        8468      QAT   \n",
       "Cameroon                                                  2170      CMR   \n",
       "Finland                                                   2106      FIN   \n",
       "\n",
       "                                                    UN_SOV1    TERRITORY2  \\\n",
       "UNION                                                                       \n",
       "Estonia                                                 233           NaN   \n",
       "Mayotte                                                 250       Mayotte   \n",
       "Overlapping claim Qatar / Saudi Arabia / United...      634  Saudi Arabia   \n",
       "Cameroon                                                120           NaN   \n",
       "Finland                                                 246           NaN   \n",
       "\n",
       "                                                    ...  UN_TER3  \\\n",
       "UNION                                               ...            \n",
       "Estonia                                             ...      NaN   \n",
       "Mayotte                                             ...      0.0   \n",
       "Overlapping claim Qatar / Saudi Arabia / United...  ...    784.0   \n",
       "Cameroon                                            ...      NaN   \n",
       "Finland                                             ...      NaN   \n",
       "\n",
       "                                                              SOVEREIGN3  \\\n",
       "UNION                                                                      \n",
       "Estonia                                                              NaN   \n",
       "Mayotte                                                              NaN   \n",
       "Overlapping claim Qatar / Saudi Arabia / United...  United Arab Emirates   \n",
       "Cameroon                                                             NaN   \n",
       "Finland                                                              NaN   \n",
       "\n",
       "                                                    MRGID_SOV3 ISO_SOV3  \\\n",
       "UNION                                                                     \n",
       "Estonia                                                    0.0      NaN   \n",
       "Mayotte                                                    0.0      NaN   \n",
       "Overlapping claim Qatar / Saudi Arabia / United...      2206.0      ARE   \n",
       "Cameroon                                                   0.0      NaN   \n",
       "Finland                                                    0.0      NaN   \n",
       "\n",
       "                                                    UN_SOV3  \\\n",
       "UNION                                                         \n",
       "Estonia                                                 NaN   \n",
       "Mayotte                                                 0.0   \n",
       "Overlapping claim Qatar / Saudi Arabia / United...    784.0   \n",
       "Cameroon                                                NaN   \n",
       "Finland                                                 NaN   \n",
       "\n",
       "                                                                 POL_TYPE  \\\n",
       "UNION                                                                       \n",
       "Estonia                                             Union EEZ and country   \n",
       "Mayotte                                                 Overlapping claim   \n",
       "Overlapping claim Qatar / Saudi Arabia / United...      Overlapping claim   \n",
       "Cameroon                                            Union EEZ and country   \n",
       "Finland                                             Union EEZ and country   \n",
       "\n",
       "                                                         Y_1       x_1  \\\n",
       "UNION                                                                    \n",
       "Estonia                                             58.71530  24.40898   \n",
       "Mayotte                                            -13.21377  45.30528   \n",
       "Overlapping claim Qatar / Saudi Arabia / United...  24.69243  51.59986   \n",
       "Cameroon                                             5.62533  12.63665   \n",
       "Finland                                             63.97904  25.44114   \n",
       "\n",
       "                                                    AREA_KM2  \\\n",
       "UNION                                                          \n",
       "Estonia                                                81842   \n",
       "Mayotte                                                67285   \n",
       "Overlapping claim Qatar / Saudi Arabia / United...       126   \n",
       "Cameroon                                              480130   \n",
       "Finland                                               420076   \n",
       "\n",
       "                                                                                             geometry  \n",
       "UNION                                                                                                  \n",
       "Estonia                                             MULTIPOLYGON (((26.61348 57.50776, 26.60780 57...  \n",
       "Mayotte                                             POLYGON ((46.68598 -12.80939, 46.64361 -12.933...  \n",
       "Overlapping claim Qatar / Saudi Arabia / United...  POLYGON ((51.68368 24.68507, 51.59039 24.66509...  \n",
       "Cameroon                                            POLYGON ((16.05693 1.64932, 16.05571 1.65413, ...  \n",
       "Finland                                             MULTIPOLYGON (((19.11472 60.30806, 19.11433 60...  \n",
       "\n",
       "[5 rows x 30 columns]"
      ]
     },
     "execution_count": 28,
     "metadata": {},
     "output_type": "execute_result"
    }
   ],
   "source": [
    "eez_and_land_boundaries_gdf.head()"
   ]
  },
  {
   "cell_type": "markdown",
   "id": "c0f00d99-0e20-4c17-8c63-b5c8ef50c323",
   "metadata": {},
   "source": [
    "special cases for Macao, Hong Kong"
   ]
  },
  {
   "cell_type": "code",
   "execution_count": 225,
   "id": "4607b52a-3ba4-4d87-a44b-71e4dcacc2d3",
   "metadata": {},
   "outputs": [],
   "source": [
    "nat_earth_file = '/Users/baird/Dropbox/_gis-data/_natural_earth_data/ne_10m_admin_0_countries/ne_10m_admin_0_countries.shp'\n",
    "nat_earth_gdf = geopandas.read_file(nat_earth_file)\n",
    "\n",
    "# pull out shapely geometry polygons and multipolygons\n",
    "china_geom = eez_and_land_boundaries_gdf.loc[eez_and_land_boundaries_gdf.index=='China','geometry'].values[0]\n",
    "hk_geom = nat_earth_gdf.loc[nat_earth_gdf.ADMIN=='Hong Kong S.A.R.']['geometry'].values[0]\n",
    "macao_geom = nat_earth_gdf.loc[nat_earth_gdf.ADMIN=='Macao S.A.R']['geometry'].values[0]\n",
    "\n",
    "china_new_geom = china_geom - china_geom.intersection(hk_geom)\n",
    "china_new_geom = china_new_geom - china_new_geom.intersection(macao_geom)"
   ]
  },
  {
   "cell_type": "markdown",
   "id": "ac279c55-2b89-4189-bffd-b4a62862ca2b",
   "metadata": {},
   "source": [
    "replace original China in EEZ file with new geometry minus Macao, Hong Kong"
   ]
  },
  {
   "cell_type": "code",
   "execution_count": 226,
   "id": "aa62b365-ae2e-4ebc-81f6-30ae9cc6b2e5",
   "metadata": {},
   "outputs": [
    {
     "name": "stderr",
     "output_type": "stream",
     "text": [
      "/Users/baird/miniconda3/envs/gem/lib/python3.11/site-packages/geopandas/array.py:1459: UserWarning: CRS not set for some of the concatenation inputs. Setting output's CRS as WGS 84 (the single non-null crs provided).\n",
      "  return GeometryArray(data, crs=_get_common_crs(to_concat))\n",
      "/Users/baird/miniconda3/envs/gem/lib/python3.11/site-packages/geopandas/array.py:1459: UserWarning: CRS not set for some of the concatenation inputs. Setting output's CRS as WGS 84 (the single non-null crs provided).\n",
      "  return GeometryArray(data, crs=_get_common_crs(to_concat))\n"
     ]
    }
   ],
   "source": [
    "empty_row_hk = geopandas.GeoDataFrame([[numpy.nan]*eez_and_land_boundaries_gdf.columns.size],\n",
    "                             columns=eez_and_land_boundaries_gdf.columns, index=['Hong Kong'])\n",
    "empty_row_hk['geometry'] = hk_geom\n",
    "\n",
    "empty_row_macao = geopandas.GeoDataFrame([[numpy.nan]*eez_and_land_boundaries_gdf.columns.size],\n",
    "                             columns=eez_and_land_boundaries_gdf.columns, index=['Macao'])\n",
    "empty_row_macao['geometry'] = macao_geom\n",
    "\n",
    "# add geometries to these rows\n",
    "eez_and_land_boundaries_gdf = pandas.concat([eez_and_land_boundaries_gdf, empty_row_hk], axis=0)\n",
    "eez_and_land_boundaries_gdf = pandas.concat([eez_and_land_boundaries_gdf, empty_row_macao], axis=0)\n",
    "# replace with new version of China\n",
    "eez_and_land_boundaries_gdf.loc[['China'],'geometry'] = geopandas.GeoDataFrame(index=['China'], geometry=[china_new_geom]).geometry"
   ]
  },
  {
   "cell_type": "markdown",
   "id": "2f1f34e2-33c4-4ef3-8990-701ec70d8609",
   "metadata": {},
   "source": [
    "make sure all countries in terminals database are in eez index list"
   ]
  },
  {
   "cell_type": "code",
   "execution_count": 227,
   "id": "0e27ea5f-060b-40d3-8cac-f55431df3157",
   "metadata": {},
   "outputs": [
    {
     "name": "stdout",
     "output_type": "stream",
     "text": [
      "Timor-Leste\n",
      "Mauritius\n",
      "Türkiye\n",
      "Côte d'Ivoire\n"
     ]
    }
   ],
   "source": [
    "unique_country_list = list(set(terms_df_orig.Country.tolist()))\n",
    "eez_country_list = eez_and_land_boundaries_gdf.index.tolist()\n",
    "for country in unique_country_list:\n",
    "    if country not in eez_and_land_boundaries_gdf.index.tolist():\n",
    "        print(country)"
   ]
  },
  {
   "cell_type": "markdown",
   "id": "6e0bab86-6fca-4826-93cf-77899369c422",
   "metadata": {},
   "source": [
    "change the index names to match these above"
   ]
  },
  {
   "cell_type": "code",
   "execution_count": 229,
   "id": "5d8a170d-0ab8-4f5b-9922-8b22caabfa1e",
   "metadata": {},
   "outputs": [],
   "source": [
    "#sorted(eez_and_land_boundaries_gdf.index.tolist())\n",
    "#Timor-Leste is called East Timor in EEZ\n",
    "#Türkiye is called Turkey in EEZ\n",
    "#Mauritius is called Republic of Mauritius in EEZ\n",
    "#Côte d'Ivoire is called Ivory Coast in EEZ\n",
    "\n",
    "index_rename = {'East Timor':'Timor-Leste',\n",
    "                'Turkey':'Türkiye',\n",
    "                'Republic of Mauritius':'Mauritius',\n",
    "                'Ivory Coast':\"Côte d'Ivoire\"}\n",
    "\n",
    "eez_and_land_boundaries_gdf_corrected_index = eez_and_land_boundaries_gdf.rename(index=index_rename)"
   ]
  },
  {
   "cell_type": "code",
   "execution_count": 230,
   "id": "645db911-0193-4911-8b78-6c5f1324b5d9",
   "metadata": {},
   "outputs": [],
   "source": [
    "#eez_and_land_boundaries_gdf_corrected_index.index.tolist()"
   ]
  },
  {
   "cell_type": "markdown",
   "id": "8f099eba-dc0c-4f21-9240-3927962dbbb3",
   "metadata": {},
   "source": [
    "below should print the ComboIDs that aren't located in the proper country"
   ]
  },
  {
   "cell_type": "code",
   "execution_count": 236,
   "id": "14432901-6415-440f-abe7-3260ecaf8a4f",
   "metadata": {},
   "outputs": [
    {
     "name": "stdout",
     "output_type": "stream",
     "text": [
      "T038800 Hong Kong\n"
     ]
    }
   ],
   "source": [
    "# pull out only terminals that have numbers, and don't have TBD or Unknown in their Lat value\n",
    "terms_df_orig_with_latlon = terms_df_orig.loc[~terms_df_orig.Latitude.isin(['TBD','Unknown'])]\n",
    "for i,row in terms_df_orig_with_latlon.iterrows():\n",
    "    terminal_loc = shapely.Point(row.Longitude,row.Latitude)\n",
    "    terminal_country = row.Country\n",
    "    eez_country_geometry = eez_and_land_boundaries_gdf_corrected_index.loc[terminal_country].geometry\n",
    "    if terminal_loc.within(eez_country_geometry):\n",
    "        pass # it's correctly within the country\n",
    "    elif terminal_country in eez_and_land_boundaries_gdf_corrected_index.SOVEREIGN1.tolist():\n",
    "        if terminal_loc.within(eez_and_land_boundaries_gdf_corrected_index.loc[\n",
    "                               eez_and_land_boundaries_gdf_corrected_index.SOVEREIGN1==terminal_country].geometry).any():\n",
    "            # print(row.TerminalName)\n",
    "            # print(terminal_country)\n",
    "            pass\n",
    "    else:\n",
    "        print(row.ComboID, row.Country)"
   ]
  },
  {
   "cell_type": "markdown",
   "id": "19b9c906-ba83-4595-b927-467dd0f91b71",
   "metadata": {},
   "source": [
    "NOTES:\n",
    "\n",
    "Looks like the only terminal that isn't in the right place is the Hong Kong FSRU (T038800); we have the coordinates marked as \"exact\" so I'm going to assume it's actually ok"
   ]
  }
 ],
 "metadata": {
  "kernelspec": {
   "display_name": "Python 3 (ipykernel)",
   "language": "python",
   "name": "python3"
  },
  "language_info": {
   "codemirror_mode": {
    "name": "ipython",
    "version": 3
   },
   "file_extension": ".py",
   "mimetype": "text/x-python",
   "name": "python",
   "nbconvert_exporter": "python",
   "pygments_lexer": "ipython3",
   "version": "3.11.6"
  }
 },
 "nbformat": 4,
 "nbformat_minor": 5
}
