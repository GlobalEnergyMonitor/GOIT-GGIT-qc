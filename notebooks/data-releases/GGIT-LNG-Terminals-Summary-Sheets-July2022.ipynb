{
 "cells": [
  {
   "cell_type": "markdown",
   "id": "6b78f3a5-70dc-4d1b-89db-d351459ee645",
   "metadata": {},
   "source": [
    "# notes\n",
    "\n",
    "code for producting summary tables and landing page stats for the GGIT LNG terminals update\n",
    "\n",
    "this is saved as an Excel file, which Baird copies/pastes into the existing summary tables information on the drive here:\n",
    "https://docs.google.com/spreadsheets/d/1NbEpGt2K5nY0XTSB_vlOyw9Ug8ZmvvOaRPuO9TgISIw/edit"
   ]
  },
  {
   "cell_type": "code",
   "execution_count": 251,
   "id": "24befb0b",
   "metadata": {},
   "outputs": [],
   "source": [
    "import pandas\n",
    "pandas.set_option(\"display.max_rows\", 50, \"display.max_columns\", 500)\n",
    "\n",
    "import numpy\n",
    "import pygsheets\n",
    "import re\n",
    "import datetime"
   ]
  },
  {
   "cell_type": "code",
   "execution_count": 252,
   "id": "47207c01-9c53-4259-ab6d-05060c650a9a",
   "metadata": {},
   "outputs": [],
   "source": [
    "pandas.io.formats.excel.ExcelFormatter.header_style = None\n",
    "excel_writer = pandas.ExcelWriter('GGIT-Terminals-SummarySheets-'+str(datetime.date.today())+'.xlsx', engine='xlsxwriter')"
   ]
  },
  {
   "cell_type": "markdown",
   "id": "c8c5ca7a",
   "metadata": {},
   "source": [
    "import Terminals_Current dataset"
   ]
  },
  {
   "cell_type": "code",
   "execution_count": 253,
   "id": "a4185877",
   "metadata": {},
   "outputs": [],
   "source": [
    "credentials_directory = '/Users/baird/Dropbox/_google-api/'\n",
    "gc = pygsheets.authorize(client_secret=credentials_directory+'client_secret.json')\n",
    "spreadsheet = gc.open_by_key('1MrghwBeCz8Tzgua7CWGg_KoXKVZsV7r0kHMYHYqnNTg') # July 2022 version\n",
    "\n",
    "#spreadsheet[1] \"Gas Pipelines\" tab is the second index\n",
    "terms_df_orig = spreadsheet.worksheet('title', 'Terminals').get_as_df(start='A2')\n",
    "terms_df_orig = terms_df_orig.loc[terms_df_orig.Wiki!='']\n",
    "terms_df_orig = terms_df_orig.loc[terms_df_orig.Fuel=='LNG']"
   ]
  },
  {
   "cell_type": "code",
   "execution_count": 254,
   "id": "ef904553-0536-4878-a62c-9c82945a1d13",
   "metadata": {},
   "outputs": [],
   "source": [
    "#owner_parent_df_orig = spreadsheet.worksheet('title', 'Owner/parent formatted').get_as_df()\n",
    "#owner_parent_df_orig = pandas.read_pickle('../owner-parent-scripts/GEM-terminals-owner-parent-strings-2022-08-10.pickle')\n",
    "#owner_parent_df_orig = owner_parent_df_orig.loc[owner_parent_df_orig.index.isin(terms_df_orig.ComboID)]\n",
    "#\n",
    "#parents_df = spreadsheet.worksheet('title', 'Parent metadata (3/3)').get_as_df(start='A2')\n",
    "#parents_df = parents_df.loc[parents_df.Parent!='']"
   ]
  },
  {
   "cell_type": "code",
   "execution_count": 255,
   "id": "79226342-1078-41a0-a203-5a3bc25ae8ac",
   "metadata": {},
   "outputs": [],
   "source": [
    "region_df_orig = spreadsheet.worksheet('title', 'Region dictionary').get_as_df()"
   ]
  },
  {
   "cell_type": "code",
   "execution_count": 256,
   "id": "4b8ccd2f",
   "metadata": {},
   "outputs": [],
   "source": [
    "terms_df_orig.replace('--', numpy.nan, inplace=True)\n",
    "#owners_df_orig.replace('--', numpy.nan, inplace=True)\n",
    "#owners_df_orig.replace('', numpy.nan, inplace=True)"
   ]
  },
  {
   "cell_type": "code",
   "execution_count": 257,
   "id": "2398882c-7272-458b-af94-9316fa87c527",
   "metadata": {},
   "outputs": [],
   "source": [
    "region_list = sorted(list(set(region_df_orig['Region'])))\n",
    "# subset only countries with actual regions associated with them\n",
    "country_list = sorted(list(set(region_df_orig['Country'])))"
   ]
  },
  {
   "cell_type": "markdown",
   "id": "bef25f8e",
   "metadata": {},
   "source": [
    "### use \"terms_df_touse\" this to subset regions if necessary"
   ]
  },
  {
   "cell_type": "code",
   "execution_count": 258,
   "id": "199285db",
   "metadata": {},
   "outputs": [],
   "source": [
    "terms_df_touse = terms_df_orig.copy()"
   ]
  },
  {
   "cell_type": "code",
   "execution_count": 259,
   "id": "3a6a5a10",
   "metadata": {},
   "outputs": [],
   "source": [
    "status_list = ['Proposed', \n",
    "               'Construction', \n",
    "               'Shelved', \n",
    "               'Cancelled', \n",
    "               'Operating', \n",
    "               'Idle', \n",
    "               'Mothballed', \n",
    "               'Retired']"
   ]
  },
  {
   "cell_type": "code",
   "execution_count": 260,
   "id": "00d19702",
   "metadata": {},
   "outputs": [],
   "source": [
    "excel_status_list = ['Proposed', \n",
    "                     'Construction', \n",
    "                     'In Development (Proposed + Construction)', \n",
    "                     'Shelved', \n",
    "                     'Cancelled', \n",
    "                     'Operating', \n",
    "                     'Idle', \n",
    "                     'Mothballed', \n",
    "                     'Retired']"
   ]
  },
  {
   "cell_type": "markdown",
   "id": "84b0b032",
   "metadata": {},
   "source": [
    "### no. export trains by country/region, project status"
   ]
  },
  {
   "cell_type": "code",
   "execution_count": 261,
   "id": "cd7a0a24",
   "metadata": {},
   "outputs": [
    {
     "name": "stdout",
     "output_type": "stream",
     "text": [
      "===country-level calculations===\n",
      "Proposed\n",
      "Construction\n",
      "Shelved\n",
      "Cancelled\n",
      "Operating\n",
      "Idle\n",
      "Mothballed\n",
      "Retired\n",
      "===country-level calculations===\n",
      "Proposed\n",
      "Construction\n",
      "Shelved\n",
      "Cancelled\n",
      "Operating\n",
      "Idle\n",
      "Mothballed\n",
      "Retired\n"
     ]
    }
   ],
   "source": [
    "terms_df_subset = terms_df_touse.copy()[(terms_df_touse['Import/Export']=='Export')]\n",
    "\n",
    "ntrains_by_country = pandas.DataFrame(0, columns=status_list, index=country_list)\n",
    "ntrains_by_region = pandas.DataFrame(0, columns=status_list, index=region_list)\n",
    "\n",
    "print('===country-level calculations===')\n",
    "for status in status_list:\n",
    "    print(status)\n",
    "    terms_df_subset_status = terms_df_subset.copy()[terms_df_subset['Status']==status]\n",
    "    ntrains_by_country[status] = terms_df_subset_status.groupby('Country').size()\n",
    "\n",
    "print('===country-level calculations===')\n",
    "for status in status_list:\n",
    "    print(status)\n",
    "    terms_df_subset_status = terms_df_subset.copy()[terms_df_subset['Status']==status]\n",
    "    ntrains_by_region[status] = terms_df_subset_status.groupby('Region').size()\n",
    "\n",
    "# fille NaN with 0.0\n",
    "ntrains_by_region = ntrains_by_region.fillna(0)\n",
    "ntrains_by_country = ntrains_by_country.fillna(0)\n",
    "\n",
    "ntrains_by_region['In Development (Proposed + Construction)'] = ntrains_by_region[['Proposed','Construction']].sum(axis=1)\n",
    "ntrains_by_country['In Development (Proposed + Construction)'] = ntrains_by_country[['Proposed','Construction']].sum(axis=1)\n",
    "\n",
    "ntrains_by_country = ntrains_by_country[excel_status_list]\n",
    "ntrains_by_region = ntrains_by_region[excel_status_list]\n",
    "\n",
    "ntrains_by_region.index.name = 'Region'\n",
    "ntrains_by_country.index.name = 'Country'\n",
    "\n",
    "totals_row = ntrains_by_region.sum(axis=0)\n",
    "totals_row.name = 'Total'\n",
    "ntrains_by_region = ntrains_by_region.append(totals_row)\n",
    "\n",
    "totals_row = ntrains_by_country.sum(axis=0)\n",
    "totals_row.name = 'Total'\n",
    "ntrains_by_country = ntrains_by_country.append(totals_row)\n",
    "\n",
    "ntrains_by_region.to_excel(excel_writer, sheet_name='LNG export trains by region')\n",
    "ntrains_by_country.to_excel(excel_writer, sheet_name='LNG export trains by country')"
   ]
  },
  {
   "cell_type": "markdown",
   "id": "d64b3a05",
   "metadata": {},
   "source": [
    "### no. import trains by country/region, project status"
   ]
  },
  {
   "cell_type": "code",
   "execution_count": 262,
   "id": "10192904",
   "metadata": {},
   "outputs": [
    {
     "name": "stdout",
     "output_type": "stream",
     "text": [
      "===country-level calculations===\n",
      "Proposed\n",
      "Construction\n",
      "Shelved\n",
      "Cancelled\n",
      "Operating\n",
      "Idle\n",
      "Mothballed\n",
      "Retired\n",
      "===country-level calculations===\n",
      "Proposed\n",
      "Construction\n",
      "Shelved\n",
      "Cancelled\n",
      "Operating\n",
      "Idle\n",
      "Mothballed\n",
      "Retired\n"
     ]
    }
   ],
   "source": [
    "terms_df_subset = terms_df_touse.copy()[(terms_df_touse['Import/Export']=='Import')]\n",
    "\n",
    "ntrains_by_country = pandas.DataFrame(0, columns=status_list, index=country_list)\n",
    "ntrains_by_region = pandas.DataFrame(0, columns=status_list, index=region_list)\n",
    "\n",
    "print('===country-level calculations===')\n",
    "for status in status_list:\n",
    "    print(status)\n",
    "    terms_df_subset_status = terms_df_subset.copy()[terms_df_subset['Status']==status]\n",
    "    ntrains_by_country[status] = terms_df_subset_status.groupby('Country').size()\n",
    "\n",
    "print('===country-level calculations===')\n",
    "for status in status_list:\n",
    "    print(status)\n",
    "    terms_df_subset_status = terms_df_subset.copy()[terms_df_subset['Status']==status]\n",
    "    ntrains_by_region[status] = terms_df_subset_status.groupby('Region').size()\n",
    "\n",
    "# fille NaN with 0.0\n",
    "ntrains_by_region = ntrains_by_region.fillna(0)\n",
    "ntrains_by_country = ntrains_by_country.fillna(0)\n",
    "\n",
    "ntrains_by_region['In Development (Proposed + Construction)'] = ntrains_by_region[['Proposed','Construction']].sum(axis=1)\n",
    "ntrains_by_country['In Development (Proposed + Construction)'] = ntrains_by_country[['Proposed','Construction']].sum(axis=1)\n",
    "\n",
    "ntrains_by_country = ntrains_by_country[excel_status_list]\n",
    "ntrains_by_region = ntrains_by_region[excel_status_list]\n",
    "\n",
    "ntrains_by_region.index.name = 'Region'\n",
    "ntrains_by_country.index.name = 'Country'\n",
    "\n",
    "totals_row = ntrains_by_region.sum(axis=0)\n",
    "totals_row.name = 'Total'\n",
    "ntrains_by_region = ntrains_by_region.append(totals_row)\n",
    "\n",
    "totals_row = ntrains_by_country.sum(axis=0)\n",
    "totals_row.name = 'Total'\n",
    "ntrains_by_country = ntrains_by_country.append(totals_row)\n",
    "\n",
    "ntrains_by_country = ntrains_by_country.applymap(int).applymap(str)\n",
    "ntrains_by_region = ntrains_by_region.applymap(int).applymap(str)\n",
    "\n",
    "ntrains_by_region.to_excel(excel_writer, sheet_name='LNG import trains by region')\n",
    "ntrains_by_country.to_excel(excel_writer, sheet_name='LNG import trains by country')"
   ]
  },
  {
   "cell_type": "markdown",
   "id": "4991b0f7",
   "metadata": {},
   "source": [
    "### capacity (mtpa) of import trains by country/region, project status"
   ]
  },
  {
   "cell_type": "code",
   "execution_count": 263,
   "id": "b9c86827",
   "metadata": {},
   "outputs": [
    {
     "name": "stdout",
     "output_type": "stream",
     "text": [
      "===country-level calculations===\n",
      "Proposed\n",
      "Construction\n",
      "Shelved\n",
      "Cancelled\n",
      "Operating\n",
      "Idle\n",
      "Mothballed\n",
      "Retired\n",
      "===country-level calculations===\n",
      "Proposed\n",
      "Construction\n",
      "Shelved\n",
      "Cancelled\n",
      "Operating\n",
      "Idle\n",
      "Mothballed\n",
      "Retired\n"
     ]
    }
   ],
   "source": [
    "terms_df_subset = terms_df_touse.copy()[(terms_df_touse['Import/Export']=='Import')]\n",
    "\n",
    "cap_by_country = pandas.DataFrame(0, columns=status_list, index=country_list)\n",
    "cap_by_region = pandas.DataFrame(0, columns=status_list, index=region_list)\n",
    "\n",
    "print('===country-level calculations===')\n",
    "for status in status_list:\n",
    "    print(status)\n",
    "    terms_df_subset_status = terms_df_subset.copy()[terms_df_subset['Status']==status]\n",
    "    cap_by_country[status] = terms_df_subset_status.groupby('Country')['CapacityInMtpa'].sum()\n",
    "\n",
    "print('===country-level calculations===')\n",
    "for status in status_list:\n",
    "    print(status)\n",
    "    terms_df_subset_status = terms_df_subset.copy()[terms_df_subset['Status']==status]\n",
    "    cap_by_region[status] = terms_df_subset_status.groupby('Region')['CapacityInMtpa'].sum()\n",
    "\n",
    "#fille NaN with 0.0\n",
    "cap_by_region = cap_by_region.fillna(0)\n",
    "cap_by_country = cap_by_country.fillna(0)\n",
    "\n",
    "cap_by_region['In Development (Proposed + Construction)'] = cap_by_region[['Proposed','Construction']].sum(axis=1)\n",
    "cap_by_country['In Development (Proposed + Construction)'] = cap_by_country[['Proposed','Construction']].sum(axis=1)\n",
    "\n",
    "cap_by_country = cap_by_country[excel_status_list]\n",
    "cap_by_region = cap_by_region[excel_status_list]\n",
    "\n",
    "cap_by_region.index.name = 'Region'\n",
    "cap_by_country.index.name = 'Country'\n",
    "\n",
    "totals_row = cap_by_region.sum(axis=0)\n",
    "totals_row.name = 'Total'\n",
    "cap_by_region = cap_by_region.append(totals_row)\n",
    "\n",
    "totals_row = cap_by_country.sum(axis=0)\n",
    "totals_row.name = 'Total'\n",
    "cap_by_country = cap_by_country.append(totals_row)\n",
    "\n",
    "cap_by_region.to_excel(excel_writer, sheet_name='LNG import capacity by region')\n",
    "cap_by_country.to_excel(excel_writer, sheet_name='LNG import capacity by country')"
   ]
  },
  {
   "cell_type": "markdown",
   "id": "1f468ea6",
   "metadata": {},
   "source": [
    "### capacity (mtpa) of export trains by country/region, project status"
   ]
  },
  {
   "cell_type": "code",
   "execution_count": 264,
   "id": "68176611",
   "metadata": {},
   "outputs": [
    {
     "name": "stdout",
     "output_type": "stream",
     "text": [
      "===country-level calculations===\n",
      "Proposed\n",
      "Construction\n",
      "Shelved\n",
      "Cancelled\n",
      "Operating\n",
      "Idle\n",
      "Mothballed\n",
      "Retired\n",
      "===country-level calculations===\n",
      "Proposed\n",
      "Construction\n",
      "Shelved\n",
      "Cancelled\n",
      "Operating\n",
      "Idle\n",
      "Mothballed\n",
      "Retired\n"
     ]
    }
   ],
   "source": [
    "terms_df_subset = terms_df_touse.copy()[(terms_df_touse['Import/Export']=='Export')]\n",
    "\n",
    "cap_by_country = pandas.DataFrame(0, columns=status_list, index=country_list)\n",
    "cap_by_region = pandas.DataFrame(0, columns=status_list, index=region_list)\n",
    "\n",
    "print('===country-level calculations===')\n",
    "for status in status_list:\n",
    "    print(status)\n",
    "    terms_df_subset_status = terms_df_subset.copy()[terms_df_subset['Status']==status]\n",
    "    cap_by_country[status] = terms_df_subset_status.groupby('Country')['CapacityInMtpa'].sum()\n",
    "\n",
    "print('===country-level calculations===')\n",
    "for status in status_list:\n",
    "    print(status)\n",
    "    terms_df_subset_status = terms_df_subset.copy()[terms_df_subset['Status']==status]\n",
    "    cap_by_region[status] = terms_df_subset_status.groupby('Region')['CapacityInMtpa'].sum()\n",
    "\n",
    "#fille NaN with 0.0\n",
    "cap_by_region = cap_by_region.fillna(0)\n",
    "cap_by_country = cap_by_country.fillna(0)\n",
    "\n",
    "cap_by_region['In Development (Proposed + Construction)'] = cap_by_region[['Proposed','Construction']].sum(axis=1)\n",
    "cap_by_country['In Development (Proposed + Construction)'] = cap_by_country[['Proposed','Construction']].sum(axis=1)\n",
    "\n",
    "cap_by_country = cap_by_country[excel_status_list]\n",
    "cap_by_region = cap_by_region[excel_status_list]\n",
    "\n",
    "cap_by_region.index.name = 'Region'\n",
    "cap_by_country.index.name = 'Country'\n",
    "\n",
    "totals_row = cap_by_region.sum(axis=0)\n",
    "totals_row.name = 'Total'\n",
    "cap_by_region = cap_by_region.append(totals_row)\n",
    "\n",
    "totals_row = cap_by_country.sum(axis=0)\n",
    "totals_row.name = 'Total'\n",
    "cap_by_country = cap_by_country.append(totals_row)\n",
    "\n",
    "cap_by_region.to_excel(excel_writer, sheet_name='LNG export capacity by region')\n",
    "cap_by_country.to_excel(excel_writer, sheet_name='LNG export capacity by country')"
   ]
  },
  {
   "cell_type": "markdown",
   "id": "523e6211",
   "metadata": {},
   "source": [
    "## parent analysis\n",
    "### relies on parent-owner script already being run/completed"
   ]
  },
  {
   "cell_type": "code",
   "execution_count": 265,
   "id": "d35fe69f-88af-4968-8d86-d7021a022524",
   "metadata": {},
   "outputs": [],
   "source": [
    "owner_parent_calculations_df = pandas.DataFrame()\n",
    "\n",
    "for idx,row in terms_df_orig.iterrows():\n",
    "    parent_string = row.Parent\n",
    "    parent_list = re.sub(' \\[.*?\\]', '', parent_string).split('; ') # all entries must have a Owner [%] syntax\n",
    "    percent_list = [float(i.rstrip('%'))/100. for i in re.findall('\\\\d+(?:\\\\.\\\\d+)?%', parent_string)]\n",
    "\n",
    "    if parent_list.__len__()!=percent_list.__len__():\n",
    "        if percent_list==[]:\n",
    "            percent_list = [1/parent_list.__len__() for i in parent_list]\n",
    "        else:\n",
    "            nmissing = parent_list.__len__()-percent_list.__len__()\n",
    "            # distribute nans evenly\n",
    "            total = numpy.nansum(percent_list)\n",
    "            leftover = 1-total\n",
    "            percent_list += [leftover/nmissing]*nmissing\n",
    "    for p_idx,parent in enumerate(parent_list):\n",
    "        owner_parent_calculations_df = pandas.concat([owner_parent_calculations_df, \n",
    "                                                      pandas.DataFrame([{'Parent':parent, 'ComboID':row.ComboID, \n",
    "                                                                         'FractionOwnership':percent_list[p_idx],\n",
    "                                                                         'CapacityInMtpa':row.CapacityInMtpa}])])\n",
    "\n",
    "owner_parent_calculations_df['CapacityInMtpaOwnership'] = owner_parent_calculations_df['FractionOwnership']*owner_parent_calculations_df['CapacityInMtpa']"
   ]
  },
  {
   "cell_type": "code",
   "execution_count": 266,
   "id": "fa0fe4b7-aefb-4a65-9c44-7d1872855f91",
   "metadata": {},
   "outputs": [
    {
     "data": {
      "text/html": [
       "<div>\n",
       "<style scoped>\n",
       "    .dataframe tbody tr th:only-of-type {\n",
       "        vertical-align: middle;\n",
       "    }\n",
       "\n",
       "    .dataframe tbody tr th {\n",
       "        vertical-align: top;\n",
       "    }\n",
       "\n",
       "    .dataframe thead th {\n",
       "        text-align: right;\n",
       "    }\n",
       "</style>\n",
       "<table border=\"1\" class=\"dataframe\">\n",
       "  <thead>\n",
       "    <tr style=\"text-align: right;\">\n",
       "      <th></th>\n",
       "      <th>Parent</th>\n",
       "      <th>ComboID</th>\n",
       "      <th>FractionOwnership</th>\n",
       "      <th>CapacityInMtpa</th>\n",
       "      <th>CapacityInMtpaOwnership</th>\n",
       "    </tr>\n",
       "  </thead>\n",
       "  <tbody>\n",
       "    <tr>\n",
       "      <th>0</th>\n",
       "      <td>Petronet LNG</td>\n",
       "      <td>T031600</td>\n",
       "      <td>0.4750</td>\n",
       "      <td>2.7</td>\n",
       "      <td>1.28250</td>\n",
       "    </tr>\n",
       "    <tr>\n",
       "      <th>0</th>\n",
       "      <td>Mitsubishi</td>\n",
       "      <td>T031600</td>\n",
       "      <td>0.2625</td>\n",
       "      <td>2.7</td>\n",
       "      <td>0.70875</td>\n",
       "    </tr>\n",
       "    <tr>\n",
       "      <th>0</th>\n",
       "      <td>Sojitz Corporation</td>\n",
       "      <td>T031600</td>\n",
       "      <td>0.2625</td>\n",
       "      <td>2.7</td>\n",
       "      <td>0.70875</td>\n",
       "    </tr>\n",
       "  </tbody>\n",
       "</table>\n",
       "</div>"
      ],
      "text/plain": [
       "               Parent  ComboID  FractionOwnership  CapacityInMtpa  \\\n",
       "0        Petronet LNG  T031600             0.4750             2.7   \n",
       "0          Mitsubishi  T031600             0.2625             2.7   \n",
       "0  Sojitz Corporation  T031600             0.2625             2.7   \n",
       "\n",
       "   CapacityInMtpaOwnership  \n",
       "0                  1.28250  \n",
       "0                  0.70875  \n",
       "0                  0.70875  "
      ]
     },
     "execution_count": 266,
     "metadata": {},
     "output_type": "execute_result"
    }
   ],
   "source": [
    "owner_parent_calculations_df.loc[owner_parent_calculations_df.ComboID=='T031600']"
   ]
  },
  {
   "cell_type": "markdown",
   "id": "f16a9605-d292-4c38-b162-4a24f15e857f",
   "metadata": {},
   "source": [
    "## parent analysis"
   ]
  },
  {
   "cell_type": "markdown",
   "id": "66103408",
   "metadata": {},
   "source": [
    "### ntrains export by parent company, project status"
   ]
  },
  {
   "cell_type": "raw",
   "id": "494ceb5e-1cfb-437d-a1b6-df5dd3eb62b7",
   "metadata": {
    "tags": []
   },
   "source": [
    "unique_owner_list = owner_parent_calculations_df.Parent.sort_values().unique().tolist()\n",
    "\n",
    "##################################################\n",
    "# create train count by owner, status\n",
    "##################################################\n",
    "owners_ntrains_by_status_df = pandas.DataFrame(0.0, index=unique_owner_list, columns=status_list)\n",
    "\n",
    "for status in status_list:\n",
    "    \n",
    "    terms_df_temporary = terms_df_orig.loc[(terms_df_orig.Status==status)&\n",
    "                                           (terms_df_orig['Import/Export']=='Export')]\n",
    "    op_temporary = owner_parent_calculations_df.loc[owner_parent_calculations_df.ComboID.isin(terms_df_temporary.ComboID)]\n",
    "    op_sum = pandas.DataFrame(op_temporary.groupby('Parent', dropna=False)['FractionOwnership'].sum(min_count=0))\n",
    "    owners_ntrains_by_status_df.loc[:,status] = op_sum\n",
    "\n",
    "owners_ntrains_by_status_df.index.name = 'Parent Company'\n",
    "owners_ntrains_by_status_df['In Development (Proposed + Construction)'] = owners_ntrains_by_status_df[['Proposed','Construction']].sum(axis=1, min_count=1)\n",
    "owners_ntrains_by_status_df = owners_ntrains_by_status_df[excel_status_list]\n",
    "\n",
    "# rearrange the order of the columns for output\n",
    "owners_ntrains_by_status_df = owners_ntrains_by_status_df[excel_status_list]\n",
    "\n",
    "totals_row = owners_ntrains_by_status_df.sum(axis=0)\n",
    "totals_row.name = 'Total'\n",
    "owners_ntrains_by_status_df = owners_ntrains_by_status_df.append(totals_row)\n",
    "\n",
    "owners_ntrains_by_status_df.replace(numpy.nan, '--', inplace=True)\n",
    "owners_ntrains_by_status_df.to_excel(excel_writer, sheet_name='LNG export trains by company')"
   ]
  },
  {
   "cell_type": "markdown",
   "id": "9d062da1",
   "metadata": {},
   "source": [
    "### ntrains import by parent company, project status"
   ]
  },
  {
   "cell_type": "raw",
   "id": "9681533a-fb2a-4fc4-a821-6ad225c225b4",
   "metadata": {
    "tags": []
   },
   "source": [
    "unique_owner_list = owner_parent_calculations_df.Parent.sort_values().unique().tolist()\n",
    "\n",
    "##################################################\n",
    "# create train count by owner, status\n",
    "##################################################\n",
    "owners_ntrains_by_status_df = pandas.DataFrame(0.0, index=unique_owner_list, columns=status_list)\n",
    "\n",
    "for status in status_list:\n",
    "    \n",
    "    terms_df_temporary = terms_df_orig.loc[(terms_df_orig.Status==status)&\n",
    "                                           (terms_df_orig['Import/Export']=='Import')]\n",
    "    op_temporary = owner_parent_calculations_df.loc[owner_parent_calculations_df.ComboID.isin(terms_df_temporary.ComboID)]\n",
    "    op_sum = pandas.DataFrame(op_temporary.groupby('Parent', dropna=False)['FractionOwnership'].sum(min_count=0))\n",
    "    owners_ntrains_by_status_df.loc[:,status] = op_sum\n",
    "\n",
    "owners_ntrains_by_status_df.index.name = 'Parent Company'\n",
    "owners_ntrains_by_status_df['In Development (Proposed + Construction)'] = owners_ntrains_by_status_df[['Proposed','Construction']].sum(axis=1, min_count=1)\n",
    "owners_ntrains_by_status_df = owners_ntrains_by_status_df[excel_status_list]\n",
    "\n",
    "# rearrange the order of the columns for output\n",
    "owners_ntrains_by_status_df = owners_ntrains_by_status_df[excel_status_list]\n",
    "\n",
    "totals_row = owners_ntrains_by_status_df.sum(axis=0)\n",
    "totals_row.name = 'Total'\n",
    "owners_ntrains_by_status_df = owners_ntrains_by_status_df.append(totals_row)\n",
    "\n",
    "owners_ntrains_by_status_df.replace(numpy.nan, '--', inplace=True)\n",
    "owners_ntrains_by_status_df.to_excel(excel_writer, sheet_name='LNG import trains by company')"
   ]
  },
  {
   "cell_type": "markdown",
   "id": "73cf8104-d0c8-4031-9b06-1c1147a6981c",
   "metadata": {},
   "source": [
    "## capacity import by parent company, status"
   ]
  },
  {
   "cell_type": "code",
   "execution_count": 267,
   "id": "fcd7b840-c3ac-4c1e-ad61-33c76aca7f56",
   "metadata": {},
   "outputs": [],
   "source": [
    "unique_owner_list = owner_parent_calculations_df.Parent.sort_values().unique().tolist()\n",
    "\n",
    "##################################################\n",
    "# create train count by owner, status\n",
    "##################################################\n",
    "owners_capacity_by_status_df = pandas.DataFrame(0.0, index=unique_owner_list, columns=status_list)\n",
    "\n",
    "for status in status_list:\n",
    "    \n",
    "    terms_df_temporary = terms_df_orig.loc[(terms_df_orig.Status==status)&\n",
    "                                           (terms_df_orig['Import/Export']=='Import')]\n",
    "    op_temporary = owner_parent_calculations_df.loc[owner_parent_calculations_df.ComboID.isin(terms_df_temporary.ComboID)]\n",
    "    op_sum = pandas.DataFrame(op_temporary.groupby('Parent', dropna=False)['CapacityInMtpaOwnership'].sum(min_count=0))\n",
    "    owners_capacity_by_status_df.loc[:,status] = op_sum\n",
    "\n",
    "owners_capacity_by_status_df.index.name = 'Parent Company'\n",
    "owners_capacity_by_status_df['In Development (Proposed + Construction)'] = owners_capacity_by_status_df[['Proposed','Construction']].sum(axis=1, min_count=1)\n",
    "owners_capacity_by_status_df = owners_capacity_by_status_df[excel_status_list]\n",
    "\n",
    "# rearrange the order of the columns for output\n",
    "owners_ntrains_by_status_df = owners_capacity_by_status_df[excel_status_list]\n",
    "\n",
    "totals_row = owners_capacity_by_status_df.sum(axis=0)\n",
    "totals_row.name = 'Total'\n",
    "owners_capacity_by_status_df = owners_capacity_by_status_df.append(totals_row)\n",
    "\n",
    "owners_capacity_by_status_df.replace(numpy.nan, 0, inplace=True)\n",
    "owners_capacity_by_status_df = owners_capacity_by_status_df.loc[~(owners_capacity_by_status_df==0).all(axis=1)]\n",
    "\n",
    "owners_capacity_by_status_df.to_excel(excel_writer, sheet_name='LNG import capacity by company')"
   ]
  },
  {
   "cell_type": "markdown",
   "id": "03f9b2b5-a273-490a-b997-e149030f39d8",
   "metadata": {},
   "source": [
    "### numbers don't match exactly, likely because some ownership is slightly above 100% for projects"
   ]
  },
  {
   "cell_type": "code",
   "execution_count": 268,
   "id": "bc633bed-ad48-46bb-abd6-7afcf9095966",
   "metadata": {},
   "outputs": [
    {
     "data": {
      "text/plain": [
       "4393.910658000001"
      ]
     },
     "execution_count": 268,
     "metadata": {},
     "output_type": "execute_result"
    }
   ],
   "source": [
    "owner_parent_calculations_df.CapacityInMtpaOwnership.sum()"
   ]
  },
  {
   "cell_type": "code",
   "execution_count": 269,
   "id": "72c0def0-fc65-4f41-b651-a00f74575ca2",
   "metadata": {},
   "outputs": [
    {
     "data": {
      "text/plain": [
       "4393.73"
      ]
     },
     "execution_count": 269,
     "metadata": {},
     "output_type": "execute_result"
    }
   ],
   "source": [
    "terms_df_orig.CapacityInMtpa.sum()"
   ]
  },
  {
   "cell_type": "code",
   "execution_count": 270,
   "id": "8a5c687c-36df-4a84-99c5-503908a8c537",
   "metadata": {},
   "outputs": [],
   "source": [
    "unique_owner_list = owner_parent_calculations_df.Parent.sort_values().unique().tolist()\n",
    "\n",
    "##################################################\n",
    "# create train count by owner, status\n",
    "##################################################\n",
    "owners_capacity_by_status_df = pandas.DataFrame(0.0, index=unique_owner_list, columns=status_list)\n",
    "\n",
    "for status in status_list:\n",
    "    \n",
    "    terms_df_temporary = terms_df_orig.loc[(terms_df_orig.Status==status)&\n",
    "                                           (terms_df_orig['Import/Export']=='Export')]\n",
    "    op_temporary = owner_parent_calculations_df.loc[owner_parent_calculations_df.ComboID.isin(terms_df_temporary.ComboID)]\n",
    "    op_sum = pandas.DataFrame(op_temporary.groupby('Parent', dropna=False)['CapacityInMtpaOwnership'].sum(min_count=0))\n",
    "    owners_capacity_by_status_df.loc[:,status] = op_sum\n",
    "\n",
    "owners_capacity_by_status_df.index.name = 'Parent Company'\n",
    "owners_capacity_by_status_df['In Development (Proposed + Construction)'] = owners_capacity_by_status_df[['Proposed','Construction']].sum(axis=1, min_count=1)\n",
    "owners_capacity_by_status_df = owners_capacity_by_status_df[excel_status_list]\n",
    "\n",
    "# rearrange the order of the columns for output\n",
    "owners_ntrains_by_status_df = owners_capacity_by_status_df[excel_status_list]\n",
    "\n",
    "totals_row = owners_capacity_by_status_df.sum(axis=0)\n",
    "totals_row.name = 'Total'\n",
    "owners_capacity_by_status_df = owners_capacity_by_status_df.append(totals_row)\n",
    "\n",
    "owners_capacity_by_status_df.replace(numpy.nan, 0, inplace=True)\n",
    "owners_capacity_by_status_df = owners_capacity_by_status_df.loc[~(owners_capacity_by_status_df==0).all(axis=1)]\n",
    "\n",
    "owners_capacity_by_status_df.to_excel(excel_writer, sheet_name='LNG export capacity by company')"
   ]
  },
  {
   "cell_type": "markdown",
   "id": "041572d7",
   "metadata": {},
   "source": [
    "### no. of operating terminals by start year, Import/Export type (1980–2021)"
   ]
  },
  {
   "cell_type": "code",
   "execution_count": 271,
   "id": "22d0fc86",
   "metadata": {},
   "outputs": [],
   "source": [
    "#terms_started_eu = terms_df_touse.copy()\n",
    "#pipes_started_eu['StartYearLatest'].replace(numpy.nan,'',inplace=True)\n",
    "\n",
    "year_indices = list(range(1980,2023))\n",
    "\n",
    "terms_by_start_year_df = pandas.DataFrame(0.0, index=year_indices, columns=['Import terminals', 'Export trains'])\n",
    "\n",
    "terms_started = terms_df_touse.copy()[(terms_df_touse['Status'].isin(['Operating'])) &\n",
    "                              (terms_df_touse['Fuel']=='LNG') & (terms_df_touse['Import/Export']=='Import')]\n",
    "terms_by_start_year_df['Import terminals'] = terms_started.groupby('StartYearEarliest').size()\n",
    "\n",
    "terms_started = terms_df_touse.copy()[(terms_df_touse['Status'].isin(['Operating'])) &\n",
    "                              (terms_df_touse['Fuel']=='LNG') & (terms_df_touse['Import/Export']=='Export')]\n",
    "terms_by_start_year_df['Export trains'] = terms_started.groupby('StartYearEarliest').size()\n",
    "\n",
    "terms_by_start_year_df.index.name = 'Start year'\n",
    "terms_by_start_year_df.replace(numpy.nan,0,inplace=True)\n",
    "\n",
    "totals_row = terms_by_start_year_df.sum(axis=0)\n",
    "totals_row.name = 'Total'\n",
    "terms_by_start_year_df = terms_by_start_year_df.append(totals_row)\n",
    "\n",
    "terms_by_start_year_df.to_excel(excel_writer, sheet_name='Terminals by start year')"
   ]
  },
  {
   "cell_type": "markdown",
   "id": "cfbb8b08",
   "metadata": {},
   "source": [
    "### capacity of operating terminals by start year, Import/Export type (1980–2021)"
   ]
  },
  {
   "cell_type": "code",
   "execution_count": 272,
   "id": "99aef37b",
   "metadata": {},
   "outputs": [],
   "source": [
    "#terms_started_eu = terms_df_touse.copy()\n",
    "#pipes_started_eu['StartYearLatest'].replace(numpy.nan,'',inplace=True)\n",
    "\n",
    "year_indices = list(range(1980,2023))\n",
    "\n",
    "capacity_by_start_year_df = pandas.DataFrame(0.0, index=year_indices, columns=['Import terminals', 'Export trains'])\n",
    "\n",
    "terms_started_eu = terms_df_touse.copy()[(terms_df_touse['Status'].isin(['Operating'])) &\n",
    "                              (terms_df_touse['Fuel']=='LNG') & (terms_df_touse['Import/Export']=='Import')]\n",
    "capacity_by_start_year_df['Import terminals'] = terms_started_eu.groupby('StartYearEarliest')['CapacityInMtpa'].sum()\n",
    "\n",
    "terms_started_eu = terms_df_touse.copy()[(terms_df_touse['Status'].isin(['Operating'])) &\n",
    "                              (terms_df_touse['Fuel']=='LNG') & (terms_df_touse['Import/Export']=='Export')]\n",
    "capacity_by_start_year_df['Export trains'] = terms_started_eu.groupby('StartYearEarliest')['CapacityInMtpa'].sum()\n",
    "\n",
    "capacity_by_start_year_df.index.name = 'Start year'\n",
    "capacity_by_start_year_df.replace(numpy.nan,0,inplace=True)\n",
    "\n",
    "totals_row = capacity_by_start_year_df.sum(axis=0)\n",
    "totals_row.name = 'Total'\n",
    "capacity_by_start_year_df = capacity_by_start_year_df.append(totals_row)\n",
    "\n",
    "capacity_by_start_year_df.to_excel(excel_writer, sheet_name='Terminal capacity by start year')"
   ]
  },
  {
   "cell_type": "markdown",
   "id": "b177e54a-b545-4f1b-b9b9-7197a36c0223",
   "metadata": {},
   "source": [
    "## save excel file"
   ]
  },
  {
   "cell_type": "code",
   "execution_count": 273,
   "id": "c51348c6-a833-43b9-8995-b6ae25f4408e",
   "metadata": {},
   "outputs": [],
   "source": [
    "excel_writer.save()"
   ]
  },
  {
   "cell_type": "markdown",
   "id": "e00a14f2-750a-46c7-92c0-b3ac30a32389",
   "metadata": {},
   "source": [
    "# landing page numbers"
   ]
  },
  {
   "cell_type": "code",
   "execution_count": 274,
   "id": "7a2db748-6e1b-410a-856c-86a68aaa579a",
   "metadata": {},
   "outputs": [
    {
     "data": {
      "text/plain": [
       "(1172, 76)"
      ]
     },
     "execution_count": 274,
     "metadata": {},
     "output_type": "execute_result"
    }
   ],
   "source": [
    "terms_df_orig.shape"
   ]
  },
  {
   "cell_type": "code",
   "execution_count": 275,
   "id": "6c11751b-b5cd-4965-b316-1820c8782287",
   "metadata": {},
   "outputs": [
    {
     "data": {
      "text/plain": [
       "4393.73"
      ]
     },
     "execution_count": 275,
     "metadata": {},
     "output_type": "execute_result"
    }
   ],
   "source": [
    "terms_df_orig['CapacityInMtpa'].sum()"
   ]
  }
 ],
 "metadata": {
  "kernelspec": {
   "display_name": "gem",
   "language": "python",
   "name": "gem"
  },
  "language_info": {
   "codemirror_mode": {
    "name": "ipython",
    "version": 3
   },
   "file_extension": ".py",
   "mimetype": "text/x-python",
   "name": "python",
   "nbconvert_exporter": "python",
   "pygments_lexer": "ipython3",
   "version": "3.9.9"
  }
 },
 "nbformat": 4,
 "nbformat_minor": 5
}
