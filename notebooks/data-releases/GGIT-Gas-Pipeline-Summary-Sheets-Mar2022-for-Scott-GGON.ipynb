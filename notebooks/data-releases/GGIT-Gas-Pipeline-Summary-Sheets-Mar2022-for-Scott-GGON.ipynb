{
 "cells": [
  {
   "cell_type": "code",
   "execution_count": 1,
   "id": "24befb0b",
   "metadata": {},
   "outputs": [],
   "source": [
    "import pandas\n",
    "pandas.set_option(\"display.max_rows\", 50, \"display.max_columns\", 50)\n",
    "\n",
    "import numpy\n",
    "import pygsheets"
   ]
  },
  {
   "cell_type": "markdown",
   "id": "c8c5ca7a",
   "metadata": {},
   "source": [
    "import Pipelines_Current dataset"
   ]
  },
  {
   "cell_type": "code",
   "execution_count": 26,
   "id": "a4185877",
   "metadata": {},
   "outputs": [],
   "source": [
    "credentials_directory = '/Users/baird/Dropbox/_google-api/'\n",
    "gc = pygsheets.authorize(client_secret=credentials_directory+'client_secret.json')\n",
    "#spreadsheet = gc.open_by_key('1foPLE6K-uqFlaYgLPAUxzeXfDO5wOOqE7tibNHeqTek')\n",
    "spreadsheet = gc.open_by_key('18od3L-Uy-N0K0mnUIaeBWLVmZKeaLnjG9rOVSOjSSy4')\n",
    "\n",
    "#spreadsheet[1] \"Gas Pipelines\" tab is the second index\n",
    "gas_pipes = spreadsheet.worksheet('title', 'Gas pipelines').get_as_df()\n",
    "oil_pipes = spreadsheet.worksheet('title', 'Oil/NGL pipelines').get_as_df()\n",
    "#owners = spreadsheet[2].get_as_df()\n",
    "\n",
    "gas_pipes = gas_pipes.drop('WKTFormat', axis=1) # delete WKTFormat column\n",
    "oil_pipes = oil_pipes.drop('WKTFormat', axis=1)\n",
    "\n",
    "# delete columns that aren't the same in the sheets, to concatenate them...\n",
    "columns_not_in_oil = list(set(gas_pipes.columns)-set(oil_pipes.columns))\n",
    "columns_not_in_gas = list(set(oil_pipes.columns)-set(gas_pipes.columns))\n",
    "gas_pipes.drop(columns=columns_not_in_oil, axis=1, inplace=True)\n",
    "oil_pipes.drop(columns=columns_not_in_gas, axis=1, inplace=True)\n",
    "\n",
    "pipes_df_orig = gas_pipes.copy() #pandas.concat([oil_pipes, gas_pipes], ignore_index=True)\n",
    "\n",
    "#get other relevant sheets\n",
    "country_ratios_df = spreadsheet.worksheet('title', 'Country ratios by pipeline').get_as_df()\n",
    "owners_df_orig = spreadsheet.worksheet('title', 'Owner').get_as_df()\n",
    "owners_df_orig.set_index('ProjectID', inplace=True)\n",
    "\n",
    "# remove empty cells for pipes, owners\n",
    "pipes_df_orig = pipes_df_orig[pipes_df_orig['PipelineName']!='']\n",
    "owners_df_orig = owners_df_orig[owners_df_orig.index!='']\n",
    "\n",
    "regions_df_orig = spreadsheet.worksheet('title', 'Region dictionary').get_as_df()"
   ]
  },
  {
   "cell_type": "code",
   "execution_count": 27,
   "id": "a4e98b3d",
   "metadata": {},
   "outputs": [],
   "source": [
    "country_ratios_df.replace('--', numpy.nan, inplace=True)\n",
    "\n",
    "owners_df_orig.replace('',numpy.nan,inplace=True)\n",
    "owners_df_orig.replace('--',numpy.nan,inplace=True)\n",
    "\n",
    "pipes_df_orig.replace('--',numpy.nan,inplace=True)\n",
    "\n",
    "# remove empty cells for pipes, owners\n",
    "pipes_df_orig = pipes_df_orig[pipes_df_orig['PipelineName']!='']\n",
    "pipes_df_orig = pipes_df_orig[pipes_df_orig['Route']!='N/A']\n",
    "owners_df_orig = owners_df_orig[owners_df_orig.index!='']"
   ]
  },
  {
   "cell_type": "markdown",
   "id": "4951d5cc",
   "metadata": {},
   "source": [
    "### create dataframes for region, country_ratios_df, owners_df"
   ]
  },
  {
   "cell_type": "raw",
   "id": "7c17bf42",
   "metadata": {},
   "source": [
    "country_ratios_df_touse = country_ratios_df.copy()[country_ratios_df['Country'].str.contains(\n",
    "                                            '|'.join(region_df_touse['Country'].tolist()))]\n",
    "\n",
    "owners_df_touse = owners_df_orig.copy()[owners_df_orig['Countries'].str.contains(\n",
    "                                            '|'.join(region_df_touse['Country'].tolist()))]\n",
    "\n",
    "pipes_df_touse = pipes_df_orig.copy()[pipes_df_orig['Countries'].str.contains(\n",
    "                                            '|'.join(region_df_touse['Country'].tolist()))]"
   ]
  },
  {
   "cell_type": "code",
   "execution_count": 28,
   "id": "e43c900c",
   "metadata": {},
   "outputs": [],
   "source": [
    "country_ratios_df_touse = country_ratios_df.copy()#[country_ratios_df['Country'].str.contains(\n",
    "                                            #'|'.join(region_df_touse['Country'].tolist()))]\n",
    "\n",
    "owners_df_touse = owners_df_orig.copy()#[owners_df_orig['Countries'].str.contains(\n",
    "                                       #     '|'.join(region_df_touse['Country'].tolist()))]\n",
    "\n",
    "pipes_df_touse = pipes_df_orig.copy()#[pipes_df_orig['Countries'].str.contains(\n",
    "                                     #       '|'.join(region_df_touse['Country'].tolist()))]"
   ]
  },
  {
   "cell_type": "markdown",
   "id": "67716f54",
   "metadata": {},
   "source": [
    "### set up info to analyze Owners tab"
   ]
  },
  {
   "cell_type": "code",
   "execution_count": 29,
   "id": "d2678986",
   "metadata": {},
   "outputs": [],
   "source": [
    "# get a set list of all owners\n",
    "owner_column_list = ['Owner1', \n",
    "                     'Owner2', \n",
    "                     'Owner3', \n",
    "                     'Owner4', \n",
    "                     'Owner5', \n",
    "                     'Owner6', \n",
    "                     'Owner7', \n",
    "                     'Owner8', \n",
    "                     'Owner9', \n",
    "                     'Owner10', \n",
    "                     'Owner11']\n",
    "\n",
    "percent_column_list = ['Percent1', \n",
    "                       'Percent2', \n",
    "                       'Percent3', \n",
    "                       'Percent4', \n",
    "                       'Percent5', \n",
    "                       'Percent6', \n",
    "                       'Percent7', \n",
    "                       'Percent8', \n",
    "                       'Percent9', \n",
    "                       'Percent10', \n",
    "                       'Percent11']\n",
    "\n",
    "owner_id_list = ['ID1', \n",
    "                 'ID2', \n",
    "                 'ID3', \n",
    "                 'ID4', \n",
    "                 'ID5', \n",
    "                 'ID6', \n",
    "                 'ID7', \n",
    "                 'ID8', \n",
    "                 'ID9', \n",
    "                 'ID10', \n",
    "                 'ID11']"
   ]
  },
  {
   "cell_type": "markdown",
   "id": "84b0b032",
   "metadata": {},
   "source": [
    "### sum MergedKmByCountry and MergedKmByRegion"
   ]
  },
  {
   "cell_type": "code",
   "execution_count": 33,
   "id": "5aba6b0a",
   "metadata": {},
   "outputs": [],
   "source": [
    "status_list = ['Proposed', \n",
    "               'Construction', \n",
    "               'Shelved', \n",
    "               'Cancelled', \n",
    "               'Operating', \n",
    "               'Idle', \n",
    "               'Mothballed', \n",
    "               'Retired']\n",
    "country_list = sorted(list(set(country_ratios_df_touse['Country'])))\n",
    "region_list = sorted(list(set(country_ratios_df_touse['PipelineBubbleRegion'])))"
   ]
  },
  {
   "cell_type": "code",
   "execution_count": 34,
   "id": "99122012",
   "metadata": {},
   "outputs": [],
   "source": [
    "excel_status_list = ['Proposed', \n",
    "                     'Construction', \n",
    "                     'In Development (Proposed + Construction)', \n",
    "                     'Shelved', \n",
    "                     'Cancelled', \n",
    "                     'Operating', \n",
    "                     'Idle', \n",
    "                     'Mothballed', \n",
    "                     'Retired']"
   ]
  },
  {
   "cell_type": "code",
   "execution_count": 35,
   "id": "8e1c8095-599e-40ca-8034-a79d112bf7ae",
   "metadata": {},
   "outputs": [
    {
     "data": {
      "text/plain": [
       "0      False\n",
       "1      False\n",
       "2      False\n",
       "3      False\n",
       "4      False\n",
       "       ...  \n",
       "264    False\n",
       "265    False\n",
       "266    False\n",
       "267    False\n",
       "268    False\n",
       "Name: Country, Length: 269, dtype: bool"
      ]
     },
     "execution_count": 35,
     "metadata": {},
     "output_type": "execute_result"
    }
   ],
   "source": [
    "regions_df_orig['Country']=='USA'"
   ]
  },
  {
   "cell_type": "raw",
   "id": "d0a09e31-d595-4c38-b3c4-81e1cce5fe37",
   "metadata": {},
   "source": [
    "country_ratios_df_subset = country_ratios_df_touse.copy()[country_ratios_df_touse['Fuel']==fuel_type]\n",
    "for idx,row in country_ratios_df_subset.iterrows():\n",
    "    print(row['Country'])\n",
    "    #country_ratios_df_subset['Region'] = regions_df_orig.loc[row['Country'],'Region']\n",
    "    print(regions_df_orig.loc[regions_df_orig['Country']==row['Country'],'Region'])"
   ]
  },
  {
   "cell_type": "code",
   "execution_count": 38,
   "id": "e4a424de",
   "metadata": {},
   "outputs": [
    {
     "name": "stdout",
     "output_type": "stream",
     "text": [
      "===country-level calculations===\n",
      "Proposed\n",
      "Construction\n",
      "Shelved\n",
      "Cancelled\n",
      "Operating\n",
      "Idle\n",
      "Mothballed\n",
      "Retired\n",
      "===regional calculations===\n",
      "Proposed\n",
      "Construction\n",
      "Shelved\n",
      "Cancelled\n",
      "Operating\n",
      "Idle\n",
      "Mothballed\n",
      "Retired\n"
     ]
    }
   ],
   "source": [
    "fuel_type = 'Gas'\n",
    "fuel_type = 'Oil'\n",
    "#fuel_type = 'NGL'\n",
    "\n",
    "country_ratios_df_subset = country_ratios_df_touse.copy()[country_ratios_df_touse['Fuel']==fuel_type]\n",
    "#for idx,row in country_ratios_df_subset.iterrows():\n",
    "#    country_ratios_df_subset['Region'] = regions_df_orig.loc[regions_df_orig['Country']==row['Country'],'Region']\n",
    "\n",
    "km_by_country = pandas.DataFrame(columns=status_list, index=country_list)\n",
    "km_by_region = pandas.DataFrame(columns=status_list, index=region_list)\n",
    "\n",
    "print('===country-level calculations===')\n",
    "for status in status_list:\n",
    "    print(status)\n",
    "    country_ratios_df_subset_status = country_ratios_df_subset[\n",
    "        country_ratios_df_subset['Status']==status]\n",
    "    km_by_country[status] = country_ratios_df_subset_status.groupby(\n",
    "        'Country')['MergedKmByCountry'].sum()\n",
    "\n",
    "print('===regional calculations===')\n",
    "for status in status_list:\n",
    "    print(status)\n",
    "    country_ratios_df_subset_status = country_ratios_df_subset[country_ratios_df_subset['Status']==status]\n",
    "    km_by_region[status] = country_ratios_df_subset_status.groupby('PipelineBubbleRegion')['MergedKmByCountry'].sum()\n",
    "\n",
    "# fille NaN with 0.0\n",
    "km_by_region = km_by_region.fillna(0)\n",
    "km_by_country = km_by_country.fillna(0)\n",
    "\n",
    "km_by_region['In Development (Proposed + Construction)'] = km_by_region[['Proposed','Construction']].sum(axis=1)\n",
    "km_by_country['In Development (Proposed + Construction)'] = km_by_country[['Proposed','Construction']].sum(axis=1)\n",
    "\n",
    "km_by_country = km_by_country[excel_status_list]\n",
    "km_by_region = km_by_region[excel_status_list]\n",
    "\n",
    "km_by_region.index.name = 'Region'\n",
    "km_by_country.index.name = 'Country'\n",
    "\n",
    "totals_row = km_by_region.sum(axis=0)\n",
    "totals_row.name = 'Total'\n",
    "km_by_region = km_by_region.append(totals_row)\n",
    "\n",
    "totals_row = km_by_country.sum(axis=0)\n",
    "totals_row.name = 'Total'\n",
    "km_by_country = km_by_country.append(totals_row)\n",
    "\n",
    "km_by_region.to_excel(fuel_type+'-PipelineKmByRegionAndStatus-OldRegionsForScott.xlsx')\n",
    "#km_by_country.to_excel('GGIT'+'-PipelineKmByCountryAndStatus.xlsx')"
   ]
  },
  {
   "cell_type": "code",
   "execution_count": null,
   "id": "deafbead-2fe9-4633-a09d-90aec026bb59",
   "metadata": {},
   "outputs": [],
   "source": []
  }
 ],
 "metadata": {
  "kernelspec": {
   "display_name": "gem",
   "language": "python",
   "name": "gem"
  },
  "language_info": {
   "codemirror_mode": {
    "name": "ipython",
    "version": 3
   },
   "file_extension": ".py",
   "mimetype": "text/x-python",
   "name": "python",
   "nbconvert_exporter": "python",
   "pygments_lexer": "ipython3",
   "version": "3.9.9"
  }
 },
 "nbformat": 4,
 "nbformat_minor": 5
}
