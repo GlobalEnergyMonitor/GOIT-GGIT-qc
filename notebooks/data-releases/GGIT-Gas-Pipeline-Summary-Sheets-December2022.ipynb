{
 "cells": [
  {
   "cell_type": "code",
   "execution_count": 64,
   "id": "24befb0b",
   "metadata": {},
   "outputs": [],
   "source": [
    "import pandas\n",
    "#pandas.set_option(\"display.max_rows\", 50, \"display.max_columns\", 50)\n",
    "\n",
    "import numpy\n",
    "import pygsheets\n",
    "import datetime\n",
    "import re"
   ]
  },
  {
   "cell_type": "code",
   "execution_count": 65,
   "id": "e28bd0cc-ad20-4728-a6c5-7f88b13fd8d7",
   "metadata": {},
   "outputs": [],
   "source": [
    "#pandas.io.formats.excel.ExcelFormatter.header_style = None\n",
    "excel_writer = pandas.ExcelWriter('GGIT-Pipelines-SummarySheets-'+str(datetime.date.today())+'.xlsx', engine='xlsxwriter')"
   ]
  },
  {
   "cell_type": "markdown",
   "id": "c8c5ca7a",
   "metadata": {},
   "source": [
    "import Pipelines_Current dataset"
   ]
  },
  {
   "cell_type": "code",
   "execution_count": 66,
   "id": "a4185877",
   "metadata": {},
   "outputs": [],
   "source": [
    "credentials_directory = '/Users/baird/Dropbox/_google-api/'\n",
    "gc = pygsheets.authorize(service_account_env_var='GDRIVE_API_CREDENTIALS')\n",
    "#spreadsheet = gc.open_by_key('18od3L-Uy-N0K0mnUIaeBWLVmZKeaLnjG9rOVSOjSSy4') # Jan 2022?\n",
    "spreadsheet = gc.open_by_key('1bfPrp0w8Ruorq08Qe4hD8M3xVJ5e00phZ6ApFivO98k') # Dec 2022\n",
    "\n",
    "#spreadsheet[1] \"Gas Pipelines\" tab is the second index\n",
    "gas_pipes = spreadsheet.worksheet('title', 'Gas pipelines').get_as_df(start='A2')\n",
    "oil_pipes = spreadsheet.worksheet('title', 'Oil/NGL pipelines').get_as_df(start='A2')\n",
    "#owners = spreadsheet[2].get_as_df()\n",
    "\n",
    "gas_pipes = gas_pipes.drop('WKTFormat', axis=1) # delete WKTFormat column\n",
    "oil_pipes = oil_pipes.drop('WKTFormat', axis=1)\n",
    "\n",
    "# delete columns that aren't the same in the sheets, to concatenate them...\n",
    "columns_not_in_oil = list(set(gas_pipes.columns)-set(oil_pipes.columns))\n",
    "columns_not_in_gas = list(set(oil_pipes.columns)-set(gas_pipes.columns))\n",
    "gas_pipes.drop(columns=columns_not_in_oil, axis=1, inplace=True)\n",
    "oil_pipes.drop(columns=columns_not_in_gas, axis=1, inplace=True)\n",
    "\n",
    "pipes_df_orig = gas_pipes.copy() #pandas.concat([oil_pipes, gas_pipes], ignore_index=True)\n",
    "\n",
    "#get other relevant sheets\n",
    "country_ratios_df = spreadsheet.worksheet('title', 'Country ratios by pipeline').get_as_df()\n",
    "#owners_df_orig = spreadsheet[3].get_as_df(encoding='latin1')\n",
    "#owners_df_orig.set_index('ProjectID', inplace=True)\n",
    "\n",
    "# remove empty cells for pipes, owners\n",
    "#pipes_df_orig = pipes_df_orig[pipes_df_orig['PipelineName']!='']\n",
    "#owners_df_orig = owners_df_orig[owners_df_orig.index!='']"
   ]
  },
  {
   "cell_type": "code",
   "execution_count": 67,
   "id": "a4e98b3d",
   "metadata": {},
   "outputs": [],
   "source": [
    "country_ratios_df.replace('--', numpy.nan, inplace=True)\n",
    "\n",
    "pipes_df_orig.replace('--',numpy.nan,inplace=True)\n",
    "\n",
    "# remove empty cells for pipes, owners\n",
    "pipes_df_orig = pipes_df_orig[pipes_df_orig['PipelineName']!='']\n",
    "pipes_df_orig = pipes_df_orig[pipes_df_orig['Route']!='N/A']"
   ]
  },
  {
   "cell_type": "raw",
   "id": "468c5c96-0314-4815-a9bc-ce12f28ecd27",
   "metadata": {},
   "source": [
    "region_df_orig = spreadsheet[4].get_as_df(encoding='latin1')"
   ]
  },
  {
   "cell_type": "raw",
   "id": "d48d3056-1a4c-43f2-ae4d-d923c579a0a1",
   "metadata": {},
   "source": [
    "region_df_eu = region_df_orig.copy()[region_df_orig['EuropeanUnion']=='Yes']\n",
    "region_df_egt = region_df_orig.copy()[region_df_orig['EuroGasTracker']=='Yes']\n",
    "region_df_europe = region_df_orig.copy()[region_df_orig['Region']=='Europe']\n",
    "region_df_eu_uk = region_df_orig.copy()[(region_df_orig['Region']=='Europe') | \n",
    "                                          (region_df_orig['Country'].isin(['United Kingdom','Israel']))]"
   ]
  },
  {
   "cell_type": "raw",
   "id": "21ea7907-b961-4509-8810-c70373342080",
   "metadata": {},
   "source": [
    "region_df_touse = region_df_egt.copy()"
   ]
  },
  {
   "cell_type": "markdown",
   "id": "4951d5cc",
   "metadata": {},
   "source": [
    "### create dataframes for region, country_ratios_df, owners_df"
   ]
  },
  {
   "cell_type": "code",
   "execution_count": 68,
   "id": "e43c900c",
   "metadata": {},
   "outputs": [],
   "source": [
    "country_ratios_df_touse = country_ratios_df.copy()\n",
    "pipes_df_touse = pipes_df_orig.copy()"
   ]
  },
  {
   "cell_type": "markdown",
   "id": "84b0b032",
   "metadata": {},
   "source": [
    "### sum MergedKmByCountry and MergedKmByRegion"
   ]
  },
  {
   "cell_type": "code",
   "execution_count": 69,
   "id": "5aba6b0a",
   "metadata": {},
   "outputs": [],
   "source": [
    "status_list = ['Proposed', \n",
    "               'Construction', \n",
    "               'Shelved', \n",
    "               'Cancelled', \n",
    "               'Operating', \n",
    "               'Idle', \n",
    "               'Mothballed', \n",
    "               'Retired']\n",
    "country_list = sorted(list(set(country_ratios_df_touse['Country'])))\n",
    "region_list = sorted(list(set(country_ratios_df_touse['Region'])))"
   ]
  },
  {
   "cell_type": "code",
   "execution_count": 70,
   "id": "99122012",
   "metadata": {},
   "outputs": [],
   "source": [
    "excel_status_list = ['Proposed', \n",
    "                     'Construction', \n",
    "                     'In Development (Proposed + Construction)', \n",
    "                     'Shelved', \n",
    "                     'Cancelled', \n",
    "                     'Operating', \n",
    "                     'Idle', \n",
    "                     'Mothballed', \n",
    "                     'Retired']"
   ]
  },
  {
   "cell_type": "code",
   "execution_count": 71,
   "id": "e4a424de",
   "metadata": {},
   "outputs": [
    {
     "name": "stdout",
     "output_type": "stream",
     "text": [
      "===country-level calculations===\n",
      "Proposed\n",
      "Construction\n",
      "Shelved\n",
      "Cancelled\n",
      "Operating\n",
      "Idle\n",
      "Mothballed\n",
      "Retired\n",
      "===regional calculations===\n",
      "Proposed\n",
      "Construction\n",
      "Shelved\n",
      "Cancelled\n",
      "Operating\n",
      "Idle\n",
      "Mothballed\n",
      "Retired\n"
     ]
    },
    {
     "name": "stderr",
     "output_type": "stream",
     "text": [
      "/var/folders/h5/nfk59_vx7gg_58myc9jfk7_40000gn/T/ipykernel_75750/2813645818.py:37: FutureWarning: The frame.append method is deprecated and will be removed from pandas in a future version. Use pandas.concat instead.\n",
      "  km_by_region = km_by_region.append(totals_row)\n",
      "/var/folders/h5/nfk59_vx7gg_58myc9jfk7_40000gn/T/ipykernel_75750/2813645818.py:41: FutureWarning: The frame.append method is deprecated and will be removed from pandas in a future version. Use pandas.concat instead.\n",
      "  km_by_country = km_by_country.append(totals_row)\n"
     ]
    }
   ],
   "source": [
    "fuel_type = 'Gas'\n",
    "#fuel_type = 'Oil'\n",
    "#fuel_type = 'NGL'\n",
    "\n",
    "country_ratios_df_subset = country_ratios_df_touse.copy()[country_ratios_df_touse.Fuel==fuel_type]\n",
    "\n",
    "km_by_country = pandas.DataFrame(columns=status_list, index=country_list)\n",
    "km_by_region = pandas.DataFrame(columns=status_list, index=region_list)\n",
    "\n",
    "print('===country-level calculations===')\n",
    "for status in status_list:\n",
    "    print(status)\n",
    "    country_ratios_df_subset_status = country_ratios_df_subset[country_ratios_df_subset['Status']==status]\n",
    "    km_by_country[status] = country_ratios_df_subset_status.groupby('Country')['MergedKmByCountry'].sum()\n",
    "\n",
    "print('===regional calculations===')\n",
    "for status in status_list:\n",
    "    print(status)\n",
    "    country_ratios_df_subset_status = country_ratios_df_subset[country_ratios_df_subset['Status']==status]\n",
    "    km_by_region[status] = country_ratios_df_subset_status.groupby('Region')['MergedKmByCountry'].sum()\n",
    "\n",
    "# fille NaN with 0.0\n",
    "km_by_region = km_by_region.fillna(0)\n",
    "km_by_country = km_by_country.fillna(0)\n",
    "\n",
    "km_by_region['In Development (Proposed + Construction)'] = km_by_region[['Proposed','Construction']].sum(axis=1)\n",
    "km_by_country['In Development (Proposed + Construction)'] = km_by_country[['Proposed','Construction']].sum(axis=1)\n",
    "\n",
    "km_by_country = km_by_country[excel_status_list]\n",
    "km_by_region = km_by_region[excel_status_list]\n",
    "\n",
    "km_by_region.index.name = 'Region'\n",
    "km_by_country.index.name = 'Country'\n",
    "\n",
    "totals_row = km_by_region.sum(axis=0)\n",
    "totals_row.name = 'Total'\n",
    "km_by_region = km_by_region.append(totals_row)\n",
    "\n",
    "totals_row = km_by_country.sum(axis=0)\n",
    "totals_row.name = 'Total'\n",
    "km_by_country = km_by_country.append(totals_row)\n",
    "\n",
    "km_by_region.to_excel(excel_writer, sheet_name='Pipeline km by region, status')\n",
    "km_by_country.to_excel(excel_writer, sheet_name='Pipeline km by country, status')"
   ]
  },
  {
   "cell_type": "markdown",
   "id": "4972ec25-fde9-4c42-aa92-207ca0c9a825",
   "metadata": {},
   "source": [
    "# parent analysis"
   ]
  },
  {
   "cell_type": "code",
   "execution_count": 72,
   "id": "e70524b6-951e-4c3c-8e85-e669858b5452",
   "metadata": {
    "scrolled": true,
    "tags": []
   },
   "outputs": [],
   "source": [
    "owner_parent_calculations_df = pandas.DataFrame()\n",
    "\n",
    "for idx,row in pipes_df_orig.iterrows():\n",
    "    parent_string = row.Parent\n",
    "    parent_list = re.sub(' \\[.*?\\]', '', parent_string).split('; ') # all entries must have a Owner [%] syntax\n",
    "    percent_list = [float(i.rstrip('%'))/100. for i in re.findall('\\\\d+(?:\\\\.\\\\d+)?%', parent_string)]\n",
    "\n",
    "    if parent_list.__len__()!=percent_list.__len__():\n",
    "        if percent_list==[]:\n",
    "            percent_list = [1/parent_list.__len__() for i in parent_list]\n",
    "        else:\n",
    "            nmissing = parent_list.__len__()-percent_list.__len__()\n",
    "            # distribute nans evenly\n",
    "            total = numpy.nansum(percent_list)\n",
    "            leftover = 1-total\n",
    "            percent_list += [leftover/nmissing]*nmissing\n",
    "    for p_idx,parent in enumerate(parent_list):\n",
    "        #print(percent_list[p_idx])\n",
    "        #print(row.LengthMergedKm)\n",
    "        owner_parent_calculations_df = pandas.concat([owner_parent_calculations_df, \n",
    "                                                      pandas.DataFrame([{'Parent':parent, 'ProjectID':row.ProjectID, \n",
    "                                                                         'FractionOwnership':percent_list[p_idx],\n",
    "                                                                         'LengthMergedKm':row.LengthMergedKm}])])\n",
    "\n",
    "owner_parent_calculations_df['KmOwnership'] = owner_parent_calculations_df['FractionOwnership']*owner_parent_calculations_df['LengthMergedKm']"
   ]
  },
  {
   "cell_type": "raw",
   "id": "2ea6e8b8-57a1-4a84-85b8-98f6cafff8ea",
   "metadata": {},
   "source": [
    "owner_parent_calculations_df.loc[owner_parent_calculations_df.ProjectID=='P0151']"
   ]
  },
  {
   "cell_type": "raw",
   "id": "f8fd767d-37e5-45f2-acc2-34a4754235a3",
   "metadata": {},
   "source": [
    "op_temp = owner_parent_calculations_df.groupby(['ProjectID','LengthMergedKm'])['KmOwnership'].sum(min_count=0)#.sort_values(ascending=False)\n",
    "op_temp = op_temp.reset_index().set_index('ProjectID')\n",
    "(op_temp.KmOwnership/op_temp.LengthMergedKm).sort_values(ascending=False)"
   ]
  },
  {
   "cell_type": "code",
   "execution_count": 73,
   "id": "3fe42919-5f5d-4a4c-b442-d88485f31fe9",
   "metadata": {},
   "outputs": [
    {
     "data": {
      "text/plain": [
       "0     217.60\n",
       "0     217.60\n",
       "0    2111.46\n",
       "0       0.00\n",
       "0    1287.00\n",
       "      ...   \n",
       "0      74.10\n",
       "0     543.87\n",
       "0     432.72\n",
       "0    1153.00\n",
       "0       4.83\n",
       "Name: LengthMergedKm, Length: 5116, dtype: float64"
      ]
     },
     "execution_count": 73,
     "metadata": {},
     "output_type": "execute_result"
    }
   ],
   "source": [
    "owner_parent_calculations_df.LengthMergedKm.astype(float)"
   ]
  },
  {
   "cell_type": "markdown",
   "id": "8b0d67b6-2b30-4bfb-b548-3cde48ab5c91",
   "metadata": {},
   "source": [
    "# km by parent company, status"
   ]
  },
  {
   "cell_type": "code",
   "execution_count": 74,
   "id": "fc8c2b94-8848-4499-9113-13d171c70435",
   "metadata": {},
   "outputs": [
    {
     "name": "stderr",
     "output_type": "stream",
     "text": [
      "/var/folders/h5/nfk59_vx7gg_58myc9jfk7_40000gn/T/ipykernel_75750/2413215303.py:25: FutureWarning: The frame.append method is deprecated and will be removed from pandas in a future version. Use pandas.concat instead.\n",
      "  owners_km_by_status_df = owners_km_by_status_df.append(totals_row)\n"
     ]
    }
   ],
   "source": [
    "unique_owner_list = owner_parent_calculations_df.Parent.sort_values().unique().tolist()\n",
    "\n",
    "##################################################\n",
    "# create km count by owner, status\n",
    "##################################################\n",
    "owners_km_by_status_df = pandas.DataFrame(0.0, index=unique_owner_list, columns=status_list)\n",
    "\n",
    "for status in status_list:\n",
    "    \n",
    "    pipes_df_temporary = pipes_df_orig.loc[(pipes_df_orig.Status==status)&\n",
    "                                           (pipes_df_orig.Fuel=='Gas')]\n",
    "    op_temporary = owner_parent_calculations_df.loc[owner_parent_calculations_df.ProjectID.isin(pipes_df_temporary.ProjectID)]\n",
    "    op_sum = pandas.DataFrame(op_temporary.groupby('Parent', dropna=False)['KmOwnership'].sum(min_count=0))\n",
    "    owners_km_by_status_df.loc[:,status] = op_sum\n",
    "\n",
    "owners_km_by_status_df.index.name = 'Parent Company'\n",
    "owners_km_by_status_df['In Development (Proposed + Construction)'] = owners_km_by_status_df[['Proposed','Construction']].sum(axis=1, min_count=0)\n",
    "owners_km_by_status_df = owners_km_by_status_df[excel_status_list]\n",
    "\n",
    "# rearrange the order of the columns for output\n",
    "owners_km_by_status_df = owners_km_by_status_df[excel_status_list]\n",
    "\n",
    "totals_row = owners_km_by_status_df.sum(axis=0)\n",
    "totals_row.name = 'Total'\n",
    "owners_km_by_status_df = owners_km_by_status_df.append(totals_row)\n",
    "\n",
    "owners_km_by_status_df.replace(numpy.nan, 0, inplace=True)\n",
    "owners_km_by_status_df = owners_km_by_status_df.loc[~(owners_km_by_status_df==0).all(axis=1)]\n",
    "\n",
    "owners_km_by_status_df.to_excel(excel_writer, sheet_name='Pipeline km by company')"
   ]
  },
  {
   "cell_type": "code",
   "execution_count": 75,
   "id": "caaaab7c-ea2b-441d-8564-e8fa7feea4c0",
   "metadata": {},
   "outputs": [
    {
     "data": {
      "text/html": [
       "<div>\n",
       "<style scoped>\n",
       "    .dataframe tbody tr th:only-of-type {\n",
       "        vertical-align: middle;\n",
       "    }\n",
       "\n",
       "    .dataframe tbody tr th {\n",
       "        vertical-align: top;\n",
       "    }\n",
       "\n",
       "    .dataframe thead th {\n",
       "        text-align: right;\n",
       "    }\n",
       "</style>\n",
       "<table border=\"1\" class=\"dataframe\">\n",
       "  <thead>\n",
       "    <tr style=\"text-align: right;\">\n",
       "      <th></th>\n",
       "      <th>Proposed</th>\n",
       "      <th>Construction</th>\n",
       "      <th>In Development (Proposed + Construction)</th>\n",
       "      <th>Shelved</th>\n",
       "      <th>Cancelled</th>\n",
       "      <th>Operating</th>\n",
       "      <th>Idle</th>\n",
       "      <th>Mothballed</th>\n",
       "      <th>Retired</th>\n",
       "    </tr>\n",
       "    <tr>\n",
       "      <th>Parent Company</th>\n",
       "      <th></th>\n",
       "      <th></th>\n",
       "      <th></th>\n",
       "      <th></th>\n",
       "      <th></th>\n",
       "      <th></th>\n",
       "      <th></th>\n",
       "      <th></th>\n",
       "      <th></th>\n",
       "    </tr>\n",
       "  </thead>\n",
       "  <tbody>\n",
       "    <tr>\n",
       "      <th>珠江三角洲投资有限公司</th>\n",
       "      <td>0.000</td>\n",
       "      <td>0.0000</td>\n",
       "      <td>0.0000</td>\n",
       "      <td>0.0000</td>\n",
       "      <td>0.000</td>\n",
       "      <td>66.15000</td>\n",
       "      <td>0.0</td>\n",
       "      <td>0.00</td>\n",
       "      <td>0.00</td>\n",
       "    </tr>\n",
       "    <tr>\n",
       "      <th>辽河油田燃气集团公司</th>\n",
       "      <td>0.000</td>\n",
       "      <td>0.0000</td>\n",
       "      <td>0.0000</td>\n",
       "      <td>0.0000</td>\n",
       "      <td>0.000</td>\n",
       "      <td>168.00000</td>\n",
       "      <td>0.0</td>\n",
       "      <td>0.00</td>\n",
       "      <td>0.00</td>\n",
       "    </tr>\n",
       "    <tr>\n",
       "      <th>香港中华煤气（河北）有限公司</th>\n",
       "      <td>79.550</td>\n",
       "      <td>174.3240</td>\n",
       "      <td>253.8740</td>\n",
       "      <td>0.0000</td>\n",
       "      <td>0.000</td>\n",
       "      <td>199.09000</td>\n",
       "      <td>0.0</td>\n",
       "      <td>0.00</td>\n",
       "      <td>0.00</td>\n",
       "    </tr>\n",
       "    <tr>\n",
       "      <th>（香港）中国燃气控股有限公司</th>\n",
       "      <td>42.480</td>\n",
       "      <td>142.8910</td>\n",
       "      <td>185.3710</td>\n",
       "      <td>0.0000</td>\n",
       "      <td>115.394</td>\n",
       "      <td>50.96000</td>\n",
       "      <td>0.0</td>\n",
       "      <td>0.00</td>\n",
       "      <td>0.00</td>\n",
       "    </tr>\n",
       "    <tr>\n",
       "      <th>Total</th>\n",
       "      <td>152794.143</td>\n",
       "      <td>59552.9461</td>\n",
       "      <td>212347.0891</td>\n",
       "      <td>37685.4341</td>\n",
       "      <td>56825.430</td>\n",
       "      <td>969613.89574</td>\n",
       "      <td>331.0</td>\n",
       "      <td>9364.73</td>\n",
       "      <td>2721.58</td>\n",
       "    </tr>\n",
       "  </tbody>\n",
       "</table>\n",
       "</div>"
      ],
      "text/plain": [
       "                  Proposed  Construction  \\\n",
       "Parent Company                             \n",
       "珠江三角洲投资有限公司          0.000        0.0000   \n",
       "辽河油田燃气集团公司           0.000        0.0000   \n",
       "香港中华煤气（河北）有限公司      79.550      174.3240   \n",
       "（香港）中国燃气控股有限公司      42.480      142.8910   \n",
       "Total           152794.143    59552.9461   \n",
       "\n",
       "                In Development (Proposed + Construction)     Shelved  \\\n",
       "Parent Company                                                         \n",
       "珠江三角洲投资有限公司                                       0.0000      0.0000   \n",
       "辽河油田燃气集团公司                                        0.0000      0.0000   \n",
       "香港中华煤气（河北）有限公司                                  253.8740      0.0000   \n",
       "（香港）中国燃气控股有限公司                                  185.3710      0.0000   \n",
       "Total                                        212347.0891  37685.4341   \n",
       "\n",
       "                Cancelled     Operating   Idle  Mothballed  Retired  \n",
       "Parent Company                                                       \n",
       "珠江三角洲投资有限公司         0.000      66.15000    0.0        0.00     0.00  \n",
       "辽河油田燃气集团公司          0.000     168.00000    0.0        0.00     0.00  \n",
       "香港中华煤气（河北）有限公司      0.000     199.09000    0.0        0.00     0.00  \n",
       "（香港）中国燃气控股有限公司    115.394      50.96000    0.0        0.00     0.00  \n",
       "Total           56825.430  969613.89574  331.0     9364.73  2721.58  "
      ]
     },
     "execution_count": 75,
     "metadata": {},
     "output_type": "execute_result"
    }
   ],
   "source": [
    "owners_km_by_status_df.tail()"
   ]
  },
  {
   "cell_type": "markdown",
   "id": "b5c7bac3",
   "metadata": {},
   "source": [
    "# pipeline km by start year, type"
   ]
  },
  {
   "cell_type": "code",
   "execution_count": 76,
   "id": "ce1cc9f6",
   "metadata": {},
   "outputs": [],
   "source": [
    "pipes_started_df = pipes_df_touse.copy()\n",
    "#pipes_started_eu['StartYearLatest'].replace(numpy.nan,'',inplace=True)\n",
    "\n",
    "pipes_started_df = pipes_started_df[(pipes_started_df['Status'].isin(['Operating'])) &\n",
    "                              (pipes_started_df['Fuel']=='Gas')]\n",
    "pipes_started_df_sum = pipes_started_df.groupby('StartYearEarliest')['LengthMergedKm'].sum()"
   ]
  },
  {
   "cell_type": "code",
   "execution_count": 77,
   "id": "3088dfbc",
   "metadata": {},
   "outputs": [
    {
     "name": "stderr",
     "output_type": "stream",
     "text": [
      "/var/folders/h5/nfk59_vx7gg_58myc9jfk7_40000gn/T/ipykernel_75750/3035969754.py:9: FutureWarning: The frame.append method is deprecated and will be removed from pandas in a future version. Use pandas.concat instead.\n",
      "  km_by_start_year = km_by_start_year.append(totals_row)\n"
     ]
    }
   ],
   "source": [
    "km_by_start_year = pandas.DataFrame(index=list(range(1980,2023)), columns=['Gas pipeline km'])\n",
    "km_by_start_year.index.name = 'Start year'\n",
    "\n",
    "km_by_start_year['Gas pipeline km'] = pipes_started_df_sum\n",
    "km_by_start_year.replace(numpy.nan,0,inplace=True)\n",
    "\n",
    "totals_row = km_by_start_year.sum(axis=0)\n",
    "totals_row.name = 'Total'\n",
    "km_by_start_year = km_by_start_year.append(totals_row)\n",
    "\n",
    "km_by_start_year.to_excel(excel_writer, sheet_name='Pipeline km by start year')"
   ]
  },
  {
   "cell_type": "markdown",
   "id": "1bb2635d-b413-40b7-a4db-fefb227ee3d1",
   "metadata": {},
   "source": [
    "# save excel file"
   ]
  },
  {
   "cell_type": "code",
   "execution_count": 78,
   "id": "8e90ceda-d758-4e60-a9d1-8c931ea69334",
   "metadata": {},
   "outputs": [
    {
     "name": "stderr",
     "output_type": "stream",
     "text": [
      "/var/folders/h5/nfk59_vx7gg_58myc9jfk7_40000gn/T/ipykernel_75750/2638382022.py:1: FutureWarning: save is not part of the public API, usage can give unexpected results and will be removed in a future version\n",
      "  excel_writer.save()\n"
     ]
    }
   ],
   "source": [
    "excel_writer.save()"
   ]
  },
  {
   "cell_type": "code",
   "execution_count": null,
   "id": "bc6ea316-b32f-4a53-8409-7e651f43f8a7",
   "metadata": {},
   "outputs": [],
   "source": []
  }
 ],
 "metadata": {
  "kernelspec": {
   "display_name": "gem",
   "language": "python",
   "name": "gem"
  },
  "language_info": {
   "codemirror_mode": {
    "name": "ipython",
    "version": 3
   },
   "file_extension": ".py",
   "mimetype": "text/x-python",
   "name": "python",
   "nbconvert_exporter": "python",
   "pygments_lexer": "ipython3",
   "version": "3.9.13"
  }
 },
 "nbformat": 4,
 "nbformat_minor": 5
}
