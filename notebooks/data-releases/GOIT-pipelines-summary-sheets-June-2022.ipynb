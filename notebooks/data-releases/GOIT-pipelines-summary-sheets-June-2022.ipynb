{
 "cells": [
  {
   "cell_type": "markdown",
   "id": "61ba74ae-2b5e-4c18-b190-85d630799aaa",
   "metadata": {},
   "source": [
    "# Notes\n",
    "\n",
    "Code for producing GOIT pipelines summary stats, and for calculating landing page stats"
   ]
  },
  {
   "cell_type": "code",
   "execution_count": 1,
   "id": "24befb0b",
   "metadata": {},
   "outputs": [],
   "source": [
    "import pandas\n",
    "pandas.set_option(\"display.max_rows\", 50, \"display.max_columns\", 50)\n",
    "\n",
    "import numpy\n",
    "import pygsheets\n",
    "import datetime\n",
    "import re"
   ]
  },
  {
   "cell_type": "code",
   "execution_count": 2,
   "id": "e1804fa5-72c0-4020-8174-b4c288a822c3",
   "metadata": {},
   "outputs": [],
   "source": [
    "pandas.io.formats.excel.ExcelFormatter.header_style = None\n",
    "\n",
    "#fuel_type = 'Gas'\n",
    "fuel_type = 'Oil'\n",
    "#fuel_type = 'NGL'\n",
    "\n",
    "if fuel_type=='Gas':\n",
    "    excel_writer = pandas.ExcelWriter('GOIT-Summary-Sheets-Gas-'+str(datetime.date.today())+'.xlsx', engine='xlsxwriter')\n",
    "if fuel_type=='NGL':\n",
    "    excel_writer = pandas.ExcelWriter('GOIT-Summary-Sheets-NGL-'+str(datetime.date.today())+'.xlsx', engine='xlsxwriter')\n",
    "if fuel_type=='Oil':\n",
    "    excel_writer = pandas.ExcelWriter('GOIT-Summary-Sheets-Oil-'+str(datetime.date.today())+'.xlsx', engine='xlsxwriter')"
   ]
  },
  {
   "cell_type": "markdown",
   "id": "c8c5ca7a",
   "metadata": {},
   "source": [
    "## import data"
   ]
  },
  {
   "cell_type": "code",
   "execution_count": 3,
   "id": "a4185877",
   "metadata": {},
   "outputs": [],
   "source": [
    "credentials_directory = '/Users/baird/Dropbox/_google-api/'\n",
    "gc = pygsheets.authorize(client_secret=credentials_directory+'client_secret.json')\n",
    "#spreadsheet = gc.open_by_key('1foPLE6K-uqFlaYgLPAUxzeXfDO5wOOqE7tibNHeqTek')\n",
    "spreadsheet = gc.open_by_key('1IQ_g9PCr6pexDvEBoi5jboNfamJtPQ63ezxyq0qRsu0') # for June 2022\n",
    "\n",
    "gas_pipes = spreadsheet.worksheet('title', 'Gas pipelines').get_as_df(start='A2')\n",
    "oil_pipes = spreadsheet.worksheet('title', 'Oil/NGL pipelines').get_as_df(start='A2')\n",
    "\n",
    "gas_pipes = gas_pipes.drop('WKTFormat', axis=1) # delete WKTFormat column\n",
    "oil_pipes = oil_pipes.drop('WKTFormat', axis=1)\n",
    "pipes_df_orig = pandas.concat([oil_pipes, gas_pipes], ignore_index=True)\n",
    "\n",
    "#get other relevant sheets\n",
    "country_ratios_df = spreadsheet.worksheet('title', 'Country ratios by pipeline').get_as_df()\n",
    "owners_df_orig = spreadsheet.worksheet('title', 'Pipeline operators/owners (1/3)').get_as_df(start='A2')\n",
    "\n",
    "# remove empty cells for pipes, owners\n",
    "pipes_df_orig = pipes_df_orig[pipes_df_orig['PipelineName']!='']\n",
    "pipes_df_orig = pipes_df_orig[pipes_df_orig['Wiki']!='']\n",
    "owners_df_orig = owners_df_orig[owners_df_orig['ProjectID']!='']\n",
    "owners_df_orig = owners_df_orig[owners_df_orig['Wiki']!='']\n",
    "owners_df_orig = owners_df_orig[owners_df_orig.Status!='N/A']\n",
    "\n",
    "owners_df_orig.set_index('ProjectID', inplace=True)"
   ]
  },
  {
   "cell_type": "code",
   "execution_count": 4,
   "id": "a4e98b3d",
   "metadata": {},
   "outputs": [],
   "source": [
    "country_ratios_df.replace('--', numpy.nan, inplace=True)\n",
    "\n",
    "owners_df_orig.replace('',numpy.nan,inplace=True)\n",
    "owners_df_orig.replace('--',numpy.nan,inplace=True)\n",
    "\n",
    "\n",
    "pipes_df_orig.replace('--',numpy.nan,inplace=True)"
   ]
  },
  {
   "cell_type": "code",
   "execution_count": 5,
   "id": "e38efe9a",
   "metadata": {},
   "outputs": [],
   "source": [
    "region_df_orig = spreadsheet.worksheet('title', 'Region dictionary').get_as_df()"
   ]
  },
  {
   "cell_type": "code",
   "execution_count": 6,
   "id": "c68dd677",
   "metadata": {},
   "outputs": [],
   "source": [
    "region_df_eu = region_df_orig.loc[region_df_orig['EuropeanUnion']=='Yes']\n",
    "region_df_egt = region_df_orig.loc[region_df_orig['EuroGasTracker']=='Yes']\n",
    "region_df_europe = region_df_orig.loc[region_df_orig['Region']=='Europe']\n",
    "region_df_eu_uk = region_df_orig.loc[(region_df_orig['Region']=='Europe') | \n",
    "                                          (region_df_orig['Country'].isin(['United Kingdom','Israel']))]\n",
    "#region_df_global = region_df_orig.copy()"
   ]
  },
  {
   "cell_type": "code",
   "execution_count": 7,
   "id": "be0e261d",
   "metadata": {},
   "outputs": [],
   "source": [
    "region_df_touse = region_df_orig.copy()"
   ]
  },
  {
   "cell_type": "markdown",
   "id": "4951d5cc",
   "metadata": {},
   "source": [
    "### create country-specific dataframes for region, country_ratios_df, owners_df"
   ]
  },
  {
   "cell_type": "code",
   "execution_count": 8,
   "id": "e43c900c",
   "metadata": {},
   "outputs": [],
   "source": [
    "country_ratios_df_touse = country_ratios_df.copy()#.loc[country_ratios_df['Country'].str.contains(\n",
    "                                           # '|'.join(region_df_touse['Country'].tolist()))]\n",
    "\n",
    "owners_df_touse = owners_df_orig.copy()#.loc[owners_df_orig['Countries'].str.contains(\n",
    "                                        #    '|'.join(region_df_touse['Country'].tolist()))]\n",
    "\n",
    "pipes_df_touse = pipes_df_orig.copy()#loc[pipes_df_orig['Countries'].str.contains(\n",
    "                                    #        '|'.join(region_df_touse['Country'].tolist()))]"
   ]
  },
  {
   "cell_type": "markdown",
   "id": "84b0b032",
   "metadata": {},
   "source": [
    "### sum MergedKmByCountry and MergedKmByRegion"
   ]
  },
  {
   "cell_type": "code",
   "execution_count": 9,
   "id": "5aba6b0a",
   "metadata": {},
   "outputs": [],
   "source": [
    "status_list = ['Proposed', \n",
    "               'Construction', \n",
    "               'Shelved', \n",
    "               'Cancelled', \n",
    "               'Operating', \n",
    "               'Idle', \n",
    "               'Mothballed', \n",
    "               'Retired']\n",
    "country_list = sorted(list(set(country_ratios_df_touse['Country'])))\n",
    "region_list = sorted(list(set(country_ratios_df_touse['Region'])))"
   ]
  },
  {
   "cell_type": "code",
   "execution_count": 10,
   "id": "99122012",
   "metadata": {},
   "outputs": [],
   "source": [
    "excel_status_list = ['Proposed', \n",
    "                     'Construction', \n",
    "                     'In Development (Proposed + Construction)', \n",
    "                     'Shelved', \n",
    "                     'Cancelled', \n",
    "                     'Operating', \n",
    "                     'Idle', \n",
    "                     'Mothballed', \n",
    "                     'Retired']"
   ]
  },
  {
   "cell_type": "code",
   "execution_count": 11,
   "id": "e4a424de",
   "metadata": {},
   "outputs": [
    {
     "name": "stdout",
     "output_type": "stream",
     "text": [
      "===country-level calculations===\n",
      "Proposed\n",
      "Construction\n",
      "Shelved\n",
      "Cancelled\n",
      "Operating\n",
      "Idle\n",
      "Mothballed\n",
      "Retired\n",
      "===regional calculations===\n",
      "Proposed\n",
      "Construction\n",
      "Shelved\n",
      "Cancelled\n",
      "Operating\n",
      "Idle\n",
      "Mothballed\n",
      "Retired\n"
     ]
    }
   ],
   "source": [
    "country_ratios_df_subset = country_ratios_df_touse.copy()[country_ratios_df_touse['Fuel']==fuel_type]\n",
    "\n",
    "km_by_country = pandas.DataFrame(columns=status_list, index=country_list)\n",
    "km_by_region = pandas.DataFrame(columns=status_list, index=region_list)\n",
    "\n",
    "print('===country-level calculations===')\n",
    "for status in status_list:\n",
    "    print(status)\n",
    "    country_ratios_df_subset_status = country_ratios_df_subset[country_ratios_df_subset['Status']==status]\n",
    "    km_by_country[status] = country_ratios_df_subset_status.groupby('Country')['MergedKmByCountry'].sum()\n",
    "\n",
    "print('===regional calculations===')\n",
    "for status in status_list:\n",
    "    print(status)\n",
    "    country_ratios_df_subset_status = country_ratios_df_subset[country_ratios_df_subset['Status']==status]\n",
    "    km_by_region[status] = country_ratios_df_subset_status.groupby('Region')['MergedKmByCountry'].sum()\n",
    "\n",
    "# fille NaN with 0.0\n",
    "km_by_region = km_by_region.fillna(0)\n",
    "km_by_country = km_by_country.fillna(0)\n",
    "\n",
    "km_by_region['In Development (Proposed + Construction)'] = km_by_region[['Proposed','Construction']].sum(axis=1)\n",
    "km_by_country['In Development (Proposed + Construction)'] = km_by_country[['Proposed','Construction']].sum(axis=1)\n",
    "\n",
    "km_by_country = km_by_country[excel_status_list]\n",
    "km_by_region = km_by_region[excel_status_list]\n",
    "\n",
    "km_by_region.index.name = 'Region'\n",
    "km_by_country.index.name = 'Country'\n",
    "\n",
    "totals_row = km_by_region.sum(axis=0)\n",
    "totals_row.name = 'Total'\n",
    "km_by_region = km_by_region.append(totals_row)\n",
    "\n",
    "totals_row = km_by_country.sum(axis=0)\n",
    "totals_row.name = 'Total'\n",
    "km_by_country = km_by_country.append(totals_row)\n",
    "\n",
    "km_by_region.to_excel(excel_writer, 'Kilometers by region')\n",
    "km_by_country.to_excel(excel_writer, 'Kilometers by country')"
   ]
  },
  {
   "cell_type": "code",
   "execution_count": 12,
   "id": "def3ab89-24a2-42f8-b520-9973271ea14b",
   "metadata": {},
   "outputs": [
    {
     "data": {
      "text/html": [
       "<div>\n",
       "<style scoped>\n",
       "    .dataframe tbody tr th:only-of-type {\n",
       "        vertical-align: middle;\n",
       "    }\n",
       "\n",
       "    .dataframe tbody tr th {\n",
       "        vertical-align: top;\n",
       "    }\n",
       "\n",
       "    .dataframe thead th {\n",
       "        text-align: right;\n",
       "    }\n",
       "</style>\n",
       "<table border=\"1\" class=\"dataframe\">\n",
       "  <thead>\n",
       "    <tr style=\"text-align: right;\">\n",
       "      <th></th>\n",
       "      <th>Proposed</th>\n",
       "      <th>Construction</th>\n",
       "      <th>In Development (Proposed + Construction)</th>\n",
       "      <th>Shelved</th>\n",
       "      <th>Cancelled</th>\n",
       "      <th>Operating</th>\n",
       "      <th>Idle</th>\n",
       "      <th>Mothballed</th>\n",
       "      <th>Retired</th>\n",
       "    </tr>\n",
       "    <tr>\n",
       "      <th>Region</th>\n",
       "      <th></th>\n",
       "      <th></th>\n",
       "      <th></th>\n",
       "      <th></th>\n",
       "      <th></th>\n",
       "      <th></th>\n",
       "      <th></th>\n",
       "      <th></th>\n",
       "      <th></th>\n",
       "    </tr>\n",
       "  </thead>\n",
       "  <tbody>\n",
       "    <tr>\n",
       "      <th>Australia and New Zealand</th>\n",
       "      <td>0.00</td>\n",
       "      <td>0.00</td>\n",
       "      <td>0.00</td>\n",
       "      <td>0.00</td>\n",
       "      <td>0.00</td>\n",
       "      <td>1878.30</td>\n",
       "      <td>0.00</td>\n",
       "      <td>0.00</td>\n",
       "      <td>187.00</td>\n",
       "    </tr>\n",
       "    <tr>\n",
       "      <th>East Asia</th>\n",
       "      <td>1046.59</td>\n",
       "      <td>1486.08</td>\n",
       "      <td>2532.67</td>\n",
       "      <td>0.00</td>\n",
       "      <td>8477.06</td>\n",
       "      <td>26292.25</td>\n",
       "      <td>0.00</td>\n",
       "      <td>0.00</td>\n",
       "      <td>6825.55</td>\n",
       "    </tr>\n",
       "    <tr>\n",
       "      <th>Eurasia</th>\n",
       "      <td>2094.20</td>\n",
       "      <td>768.23</td>\n",
       "      <td>2862.43</td>\n",
       "      <td>0.00</td>\n",
       "      <td>2635.32</td>\n",
       "      <td>46616.13</td>\n",
       "      <td>0.00</td>\n",
       "      <td>52.00</td>\n",
       "      <td>618.00</td>\n",
       "    </tr>\n",
       "    <tr>\n",
       "      <th>Europe</th>\n",
       "      <td>799.90</td>\n",
       "      <td>207.00</td>\n",
       "      <td>1006.90</td>\n",
       "      <td>0.00</td>\n",
       "      <td>8232.21</td>\n",
       "      <td>27955.13</td>\n",
       "      <td>141.55</td>\n",
       "      <td>0.00</td>\n",
       "      <td>0.00</td>\n",
       "    </tr>\n",
       "    <tr>\n",
       "      <th>Latin America and the Caribbean</th>\n",
       "      <td>0.00</td>\n",
       "      <td>0.00</td>\n",
       "      <td>0.00</td>\n",
       "      <td>262.00</td>\n",
       "      <td>3730.84</td>\n",
       "      <td>13281.02</td>\n",
       "      <td>0.00</td>\n",
       "      <td>425.00</td>\n",
       "      <td>0.00</td>\n",
       "    </tr>\n",
       "    <tr>\n",
       "      <th>Middle East and North Africa</th>\n",
       "      <td>1816.74</td>\n",
       "      <td>1903.00</td>\n",
       "      <td>3719.74</td>\n",
       "      <td>0.00</td>\n",
       "      <td>3587.42</td>\n",
       "      <td>26810.56</td>\n",
       "      <td>0.00</td>\n",
       "      <td>2368.08</td>\n",
       "      <td>1214.51</td>\n",
       "    </tr>\n",
       "    <tr>\n",
       "      <th>North America</th>\n",
       "      <td>2913.14</td>\n",
       "      <td>1380.88</td>\n",
       "      <td>4294.02</td>\n",
       "      <td>8090.76</td>\n",
       "      <td>30867.84</td>\n",
       "      <td>126096.14</td>\n",
       "      <td>0.00</td>\n",
       "      <td>0.00</td>\n",
       "      <td>2698.42</td>\n",
       "    </tr>\n",
       "    <tr>\n",
       "      <th>SE Asia</th>\n",
       "      <td>240.49</td>\n",
       "      <td>715.50</td>\n",
       "      <td>955.99</td>\n",
       "      <td>306.00</td>\n",
       "      <td>0.00</td>\n",
       "      <td>2159.86</td>\n",
       "      <td>0.00</td>\n",
       "      <td>0.00</td>\n",
       "      <td>0.00</td>\n",
       "    </tr>\n",
       "    <tr>\n",
       "      <th>South Asia</th>\n",
       "      <td>1194.00</td>\n",
       "      <td>2316.00</td>\n",
       "      <td>3510.00</td>\n",
       "      <td>249.40</td>\n",
       "      <td>1692.10</td>\n",
       "      <td>9987.18</td>\n",
       "      <td>0.00</td>\n",
       "      <td>0.00</td>\n",
       "      <td>0.00</td>\n",
       "    </tr>\n",
       "    <tr>\n",
       "      <th>Sub-Saharan Africa</th>\n",
       "      <td>6497.81</td>\n",
       "      <td>1950.00</td>\n",
       "      <td>8447.81</td>\n",
       "      <td>0.00</td>\n",
       "      <td>2100.00</td>\n",
       "      <td>8932.05</td>\n",
       "      <td>0.00</td>\n",
       "      <td>0.00</td>\n",
       "      <td>0.00</td>\n",
       "    </tr>\n",
       "    <tr>\n",
       "      <th>Total</th>\n",
       "      <td>16602.87</td>\n",
       "      <td>10726.69</td>\n",
       "      <td>27329.56</td>\n",
       "      <td>8908.16</td>\n",
       "      <td>61322.79</td>\n",
       "      <td>290008.62</td>\n",
       "      <td>141.55</td>\n",
       "      <td>2845.08</td>\n",
       "      <td>11543.48</td>\n",
       "    </tr>\n",
       "  </tbody>\n",
       "</table>\n",
       "</div>"
      ],
      "text/plain": [
       "                                 Proposed  Construction  \\\n",
       "Region                                                    \n",
       "Australia and New Zealand            0.00          0.00   \n",
       "East Asia                         1046.59       1486.08   \n",
       "Eurasia                           2094.20        768.23   \n",
       "Europe                             799.90        207.00   \n",
       "Latin America and the Caribbean      0.00          0.00   \n",
       "Middle East and North Africa      1816.74       1903.00   \n",
       "North America                     2913.14       1380.88   \n",
       "SE Asia                            240.49        715.50   \n",
       "South Asia                        1194.00       2316.00   \n",
       "Sub-Saharan Africa                6497.81       1950.00   \n",
       "Total                            16602.87      10726.69   \n",
       "\n",
       "                                 In Development (Proposed + Construction)  \\\n",
       "Region                                                                      \n",
       "Australia and New Zealand                                            0.00   \n",
       "East Asia                                                         2532.67   \n",
       "Eurasia                                                           2862.43   \n",
       "Europe                                                            1006.90   \n",
       "Latin America and the Caribbean                                      0.00   \n",
       "Middle East and North Africa                                      3719.74   \n",
       "North America                                                     4294.02   \n",
       "SE Asia                                                            955.99   \n",
       "South Asia                                                        3510.00   \n",
       "Sub-Saharan Africa                                                8447.81   \n",
       "Total                                                            27329.56   \n",
       "\n",
       "                                 Shelved  Cancelled  Operating    Idle  \\\n",
       "Region                                                                   \n",
       "Australia and New Zealand           0.00       0.00    1878.30    0.00   \n",
       "East Asia                           0.00    8477.06   26292.25    0.00   \n",
       "Eurasia                             0.00    2635.32   46616.13    0.00   \n",
       "Europe                              0.00    8232.21   27955.13  141.55   \n",
       "Latin America and the Caribbean   262.00    3730.84   13281.02    0.00   \n",
       "Middle East and North Africa        0.00    3587.42   26810.56    0.00   \n",
       "North America                    8090.76   30867.84  126096.14    0.00   \n",
       "SE Asia                           306.00       0.00    2159.86    0.00   \n",
       "South Asia                        249.40    1692.10    9987.18    0.00   \n",
       "Sub-Saharan Africa                  0.00    2100.00    8932.05    0.00   \n",
       "Total                            8908.16   61322.79  290008.62  141.55   \n",
       "\n",
       "                                 Mothballed   Retired  \n",
       "Region                                                 \n",
       "Australia and New Zealand              0.00    187.00  \n",
       "East Asia                              0.00   6825.55  \n",
       "Eurasia                               52.00    618.00  \n",
       "Europe                                 0.00      0.00  \n",
       "Latin America and the Caribbean      425.00      0.00  \n",
       "Middle East and North Africa        2368.08   1214.51  \n",
       "North America                          0.00   2698.42  \n",
       "SE Asia                                0.00      0.00  \n",
       "South Asia                             0.00      0.00  \n",
       "Sub-Saharan Africa                     0.00      0.00  \n",
       "Total                               2845.08  11543.48  "
      ]
     },
     "execution_count": 12,
     "metadata": {},
     "output_type": "execute_result"
    }
   ],
   "source": [
    "km_by_region"
   ]
  },
  {
   "cell_type": "markdown",
   "id": "347f5c7c",
   "metadata": {},
   "source": [
    "## pipeline km by parent company (owner) and project status"
   ]
  },
  {
   "cell_type": "code",
   "execution_count": 13,
   "id": "32ccfb48-8e2f-4efb-be35-1fa6239139f1",
   "metadata": {},
   "outputs": [],
   "source": [
    "owner_parent_calculations_df = pandas.DataFrame()\n",
    "# needs country, km in each country columns as well\n",
    "\n",
    "for idx,row in country_ratios_df_subset.iterrows():\n",
    "    #print(row.ComboID)\n",
    "    parent_string = row.Parent\n",
    "    parent_list = re.sub(' \\[.*?\\]', '', parent_string).split('; ') # all entries must have a Owner [%] syntax\n",
    "    percent_list = [float(i.rstrip('%'))/100. for i in re.findall('\\\\d+(?:\\\\.\\\\d+)?%', parent_string)]\n",
    "\n",
    "    if parent_list.__len__()!=percent_list.__len__():\n",
    "        if percent_list==[]:\n",
    "            percent_list = [1/parent_list.__len__() for i in parent_list]\n",
    "        else:\n",
    "            nmissing = parent_list.__len__()-percent_list.__len__()\n",
    "            # distribute nans evenly\n",
    "            total = numpy.nansum(percent_list)\n",
    "            leftover = 1-total\n",
    "            percent_list += [leftover/nmissing]*nmissing\n",
    "    for p_idx,parent in enumerate(parent_list):\n",
    "        owner_parent_calculations_df = pandas.concat([owner_parent_calculations_df, \n",
    "                                                      pandas.DataFrame([{'Parent':parent, 'ProjectID':row.ProjectID, \n",
    "                                                                         'FractionOwnership':percent_list[p_idx],\n",
    "                                                                         'Country':row.Country,\n",
    "                                                                         'Status':row.Status,\n",
    "                                                                         'MergedKmByCountry':row.MergedKmByCountry}])])\n",
    "\n",
    "owner_parent_calculations_df['KmOwnership'] = owner_parent_calculations_df.FractionOwnership*owner_parent_calculations_df.MergedKmByCountry"
   ]
  },
  {
   "cell_type": "markdown",
   "id": "b5c7bac3",
   "metadata": {},
   "source": [
    "### pipeline km by start year, type"
   ]
  },
  {
   "cell_type": "code",
   "execution_count": 14,
   "id": "ce1cc9f6",
   "metadata": {},
   "outputs": [],
   "source": [
    "pipes_started = pipes_df_touse.copy()\n",
    "#pipes_started['StartYearLatest'].replace(numpy.nan,'',inplace=True)\n",
    "\n",
    "if fuel_type == 'Gas':\n",
    "    pipes_started = pipes_started[(pipes_started['Status'].isin(['Operating'])) &\n",
    "                              (pipes_started['Fuel']=='Gas')]\n",
    "if fuel_type == 'Oil':\n",
    "    pipes_started = pipes_started[(pipes_started['Status'].isin(['Operating'])) &\n",
    "                              (pipes_started['Fuel']=='Oil')]\n",
    "if fuel_type == 'NGL':\n",
    "    pipes_started = pipes_started[(pipes_started['Status'].isin(['Operating'])) &\n",
    "                              (pipes_started['Fuel']=='NGL')]\n",
    "\n",
    "pipes_started_sum = pipes_started.groupby('StartYearEarliest')['LengthMergedKm'].sum()"
   ]
  },
  {
   "cell_type": "code",
   "execution_count": 15,
   "id": "3088dfbc",
   "metadata": {},
   "outputs": [],
   "source": [
    "if fuel_type == 'Gas':\n",
    "    km_by_start_year = pandas.DataFrame(index=list(range(1980,2022)), columns=['Gas pipeline km'])\n",
    "    km_by_start_year.index.name = 'Start year'\n",
    "    km_by_start_year['Gas pipeline km'] = pipes_started_sum\n",
    "    km_by_start_year.replace(numpy.nan,0,inplace=True)\n",
    "\n",
    "if fuel_type == 'Oil':\n",
    "    km_by_start_year = pandas.DataFrame(index=list(range(1980,2022)), columns=['Oil pipeline km'])\n",
    "    km_by_start_year.index.name = 'Start year'\n",
    "    km_by_start_year['Oil pipeline km'] = pipes_started_sum\n",
    "    km_by_start_year.replace(numpy.nan,0,inplace=True)\n",
    "\n",
    "if fuel_type == 'NGL':\n",
    "    km_by_start_year = pandas.DataFrame(index=list(range(1980,2022)), columns=['NGL pipeline km'])\n",
    "    km_by_start_year.index.name = 'Start year'\n",
    "    km_by_start_year['NGL pipeline km'] = pipes_started_sum\n",
    "    km_by_start_year.replace(numpy.nan,0,inplace=True)\n",
    "\n",
    "totals_row = km_by_start_year.sum(axis=0)\n",
    "totals_row.name = 'Total'\n",
    "km_by_start_year = km_by_start_year.append(totals_row)\n",
    "\n",
    "km_by_start_year.to_excel(excel_writer, 'Kilometers by start year')"
   ]
  },
  {
   "cell_type": "markdown",
   "id": "116aee49-b451-47bd-bcc7-fc4a161d6075",
   "metadata": {},
   "source": [
    "## save excel file"
   ]
  },
  {
   "cell_type": "code",
   "execution_count": 16,
   "id": "34771081-df2d-487b-a021-31a9bad1dba1",
   "metadata": {},
   "outputs": [],
   "source": [
    "excel_writer.save()"
   ]
  },
  {
   "cell_type": "markdown",
   "id": "125aa652-71f0-4172-85de-7445a0f05355",
   "metadata": {},
   "source": [
    "## calculating stats for landing page"
   ]
  },
  {
   "cell_type": "code",
   "execution_count": 17,
   "id": "d6918403-66ae-436d-a746-2ace2f97d422",
   "metadata": {},
   "outputs": [
    {
     "name": "stdout",
     "output_type": "stream",
     "text": [
      "910 oil pipeline projects tracked\n",
      "402400.29 km tracked\n"
     ]
    }
   ],
   "source": [
    "# number of projects tracked in total\n",
    "print(pipes_df_orig.loc[pipes_df_orig['Fuel']=='Oil'].shape[0], 'oil pipeline projects tracked')\n",
    "print(pipes_df_orig.loc[pipes_df_orig['Fuel']=='Oil']['LengthMergedKm'].sum(), 'km tracked')"
   ]
  },
  {
   "cell_type": "code",
   "execution_count": 18,
   "id": "ffa13a31-719d-43d0-a74f-f331fb1336ef",
   "metadata": {},
   "outputs": [
    {
     "name": "stdout",
     "output_type": "stream",
     "text": [
      "61 NGL pipeline projects tracked\n",
      "29052.520000000008 km tracked\n"
     ]
    }
   ],
   "source": [
    "# number of projects tracked in total\n",
    "print(pipes_df_orig.loc[pipes_df_orig['Fuel']=='NGL'].shape[0], 'NGL pipeline projects tracked')\n",
    "print(pipes_df_orig.loc[pipes_df_orig['Fuel']=='NGL']['LengthMergedKm'].sum(), 'km tracked')"
   ]
  },
  {
   "cell_type": "code",
   "execution_count": 19,
   "id": "8d615ab2-9d2f-4261-8a67-d3101688591c",
   "metadata": {},
   "outputs": [
    {
     "name": "stderr",
     "output_type": "stream",
     "text": [
      "/Users/baird/miniconda3/envs/gem/lib/python3.9/site-packages/pandas/core/frame.py:5238: SettingWithCopyWarning: \n",
      "A value is trying to be set on a copy of a slice from a DataFrame\n",
      "\n",
      "See the caveats in the documentation: https://pandas.pydata.org/pandas-docs/stable/user_guide/indexing.html#returning-a-view-versus-a-copy\n",
      "  return super().replace(\n"
     ]
    }
   ],
   "source": [
    "pipes_df_oil = pipes_df_orig.loc[pipes_df_orig['Fuel']=='Oil']\n",
    "pipes_df_oil.replace('',numpy.nan,inplace=True)\n",
    "\n",
    "pipes_df_ngl = pipes_df_orig.loc[pipes_df_orig['Fuel']=='NGL']\n",
    "pipes_df_ngl.replace('',numpy.nan,inplace=True)"
   ]
  }
 ],
 "metadata": {
  "kernelspec": {
   "display_name": "gem",
   "language": "python",
   "name": "gem"
  },
  "language_info": {
   "codemirror_mode": {
    "name": "ipython",
    "version": 3
   },
   "file_extension": ".py",
   "mimetype": "text/x-python",
   "name": "python",
   "nbconvert_exporter": "python",
   "pygments_lexer": "ipython3",
   "version": "3.9.9"
  }
 },
 "nbformat": 4,
 "nbformat_minor": 5
}
