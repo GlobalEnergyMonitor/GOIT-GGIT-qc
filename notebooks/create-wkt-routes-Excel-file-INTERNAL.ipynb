{
 "cells": [
  {
   "cell_type": "markdown",
   "id": "b7020acc-90d7-42fa-9a41-d1bfccba4e6d",
   "metadata": {},
   "source": [
    "# this code does not append pipelines without routes (it skips them)"
   ]
  },
  {
   "cell_type": "code",
   "execution_count": 1,
   "id": "bece9d24",
   "metadata": {},
   "outputs": [],
   "source": [
    "import pygsheets # use 'pip install pygsheets'\n",
    "import numpy\n",
    "import datetime\n",
    "\n",
    "import pandas\n",
    "import geopandas\n",
    "#import geopandas.tools import overlay\n",
    "\n",
    "import shapely"
   ]
  },
  {
   "cell_type": "code",
   "execution_count": 2,
   "id": "3569adbe",
   "metadata": {},
   "outputs": [],
   "source": [
    "credentials_directory = '/Users/baird/Dropbox/_google-api/'\n",
    "gc = pygsheets.authorize(client_secret=credentials_directory+'client_secret.json')\n",
    "spreadsheet = gc.open_by_key('1foPLE6K-uqFlaYgLPAUxzeXfDO5wOOqE7tibNHeqTek')\n",
    "\n",
    "gas_pipes = spreadsheet.worksheet('title', 'Gas pipelines').get_as_df(start='A2')\n",
    "oil_pipes = spreadsheet.worksheet('title', 'Oil/NGL pipelines').get_as_df(start='A2')\n",
    "\n",
    "#gas_pipes.drop('WKTFormat', axis=1, inplace=True) # delete WKTFormat column\n",
    "#oil_pipes.drop('WKTFormat', axis=1, inplace=True)\n",
    "\n",
    "# delete columns that aren't the same in the sheets, to concatenate them...\n",
    "columns_not_in_oil = list(set(gas_pipes.columns)-set(oil_pipes.columns))\n",
    "columns_not_in_gas = list(set(oil_pipes.columns)-set(gas_pipes.columns))\n",
    "gas_pipes.drop(columns=columns_not_in_oil, axis=1, inplace=True)\n",
    "oil_pipes.drop(columns=columns_not_in_gas, axis=1, inplace=True)"
   ]
  },
  {
   "cell_type": "markdown",
   "id": "fecccde5-c841-4f9b-883d-41a17f248f9f",
   "metadata": {},
   "source": [
    "# define whether you want just oil, just gas, or both"
   ]
  },
  {
   "cell_type": "code",
   "execution_count": 3,
   "id": "987e5026-fd92-4c6e-973d-dd2dd34e600e",
   "metadata": {},
   "outputs": [],
   "source": [
    "#fuel_type = 'oil'\n",
    "#fuel_type = 'gas'\n",
    "fuel_type = 'oil-and-gas'\n",
    "\n",
    "if fuel_type=='oil':\n",
    "    pipes_orig = oil_pipes\n",
    "    #pipe.drop(column='CapacityBOEd', inplace=True)\n",
    "elif fuel_type=='gas':\n",
    "    pipes_orig = gas_pipes\n",
    "    #pipe.drop('CapacityBcm/y', inplace=True)\n",
    "elif fuel_type=='oil-and-gas':  \n",
    "    pipes_orig = pandas.concat([oil_pipes, gas_pipes], ignore_index=True)\n",
    "\n",
    "pipes_orig.replace('--', numpy.nan, inplace=True)"
   ]
  },
  {
   "cell_type": "code",
   "execution_count": 4,
   "id": "bdfad3e1",
   "metadata": {},
   "outputs": [],
   "source": [
    "# clean up column 'Route'\n",
    "pipes_orig['Route'] = pipes_orig['Route'].str.strip()\n",
    "\n",
    "# get rid of \"N/A\" and any empty routes (which would be empty rows)\n",
    "pipes_orig = pipes_orig[pipes_orig['Route']!='N/A']\n",
    "pipes_orig = pipes_orig[pipes_orig['Route']!='']\n",
    "pipes_orig = pipes_orig[pipes_orig['RouteAccuracy']!='no route']\n",
    "\n",
    "# possible missing route options\n",
    "missing_route_options = ['Unavailable',\n",
    "                         'Capacity expansion only',\n",
    "                         'Bidirectionality upgrade only',\n",
    "                         'Short route (< 100 km)']\n",
    "\n",
    "pipes_noroute_df = pipes_orig.copy()[pipes_orig['Route'].isin(missing_route_options)]\n",
    "pipes_withroute_df = pipes_orig.copy()[~pipes_orig['Route'].isin(missing_route_options)]"
   ]
  },
  {
   "cell_type": "code",
   "execution_count": 5,
   "id": "20ded46e",
   "metadata": {},
   "outputs": [],
   "source": [
    "def convert_gfit_to_linestring(coord_str, pipeline_name, segment_name):\n",
    "    '''\n",
    "    Takes string from GFIT column of coordinates for a single pipeline,\n",
    "    converts that string into Shapely LineString or MultiLinestring.\n",
    "    '''\n",
    "    #print(pipeline_name, segment_name)\n",
    "    \n",
    "    if ':' in coord_str and ';' not in coord_str:\n",
    "        # simple geometry; no branching\n",
    "        # create nested list of lists, separating on colons        \n",
    "        coord_list = coord_str.split(':')\n",
    "        coord_list_tuples = []\n",
    "        # non-branched pipeline (nested list with one level)\n",
    "        # convert nested list of lists to list of tuples\n",
    "        try:\n",
    "            for element in coord_list:\n",
    "                element_tuple = (float(element.split(',')[1]), \n",
    "                                 float(element.split(',')[0]))\n",
    "                coord_list_tuples.append(element_tuple)\n",
    "        except:\n",
    "            print(f\"Exception for {pipeline_name}; {segment_name}; element: {element}\") # for db\n",
    "        route_conv = shapely.geometry.LineString(coord_list_tuples)\n",
    "\n",
    "    elif ':' in coord_str and ';' in coord_str:\n",
    "        # create a nested list of lists, separating on semicolons\n",
    "        coord_list = coord_str.split(';')   \n",
    "        # create a second level of nesting, separating on colons\n",
    "        coord_list = [x.split(':') for x in coord_list]\n",
    "        # branched pipeline (nested list with two levels)\n",
    "        route_conv_list_all = []\n",
    "        \n",
    "        for nested_list in coord_list:\n",
    "            coord_list_tuples = []\n",
    "            # process element\n",
    "            try:\n",
    "                for element in nested_list:\n",
    "                    element_tuple = (float(element.split(',')[1]), \n",
    "                                     float(element.split(',')[0]))\n",
    "                    coord_list_tuples.append(element_tuple)\n",
    "            except:\n",
    "                print(f\"Exception for {pipeline_name}; segment {segment_name}; element: {element}\") # for db\n",
    "            # process coord_list_tuples\n",
    "            try:\n",
    "                route_conv_list = shapely.geometry.LineString(coord_list_tuples)\n",
    "                route_conv_list_all.append(route_conv_list)\n",
    "            except:\n",
    "                print(f\"Exception for {pipeline_name}; coord_list_tuples: {coord_list_tuples}\") # for db\n",
    "                pass\n",
    "        \n",
    "        route_conv = shapely.geometry.MultiLineString(route_conv_list_all)\n",
    "        \n",
    "    return route_conv"
   ]
  },
  {
   "cell_type": "code",
   "execution_count": 6,
   "id": "ce04fde6",
   "metadata": {},
   "outputs": [],
   "source": [
    "def convert_all_pipelines(df):\n",
    "    \"\"\"\n",
    "    Apply the conversion function to all pipelines in the dataframe.\n",
    "    \"\"\"\n",
    "    # create geometry column with empty strings\n",
    "    df['geometry'] = ''\n",
    "    \n",
    "    # filter to keep only pipelines with routes\n",
    "    mask_route = df['Route'].str.contains(',' or ':')\n",
    "    pipes_with_route = df.loc[mask_route]\n",
    "    \n",
    "    for row in pipes_with_route.index:\n",
    "        route_str = df.at[row, 'Route']\n",
    "        pipeline_name = df.at[row, 'PipelineName']\n",
    "        segment_name = df.at[row, 'SegmentName']\n",
    "        route_str_converted = convert_gfit_to_linestring(route_str, pipeline_name, segment_name)\n",
    "        df.at[row, 'geometry'] = route_str_converted\n",
    "    \n",
    "    return df"
   ]
  },
  {
   "cell_type": "code",
   "execution_count": 7,
   "id": "f2e97928",
   "metadata": {},
   "outputs": [],
   "source": [
    "# code to create a dataframe with WKT formatted geometry\n",
    "\n",
    "# (1) copy gas_pipelines, clean up\n",
    "to_convert = pipes_withroute_df.copy()#gas_pipes.copy()s)]\n",
    "\n",
    "# (2) convert all pipelines\n",
    "pipes_wkt_df = convert_all_pipelines(to_convert)\n",
    "pipes_wkt_df = pipes_wkt_df.reset_index(drop=True)\n",
    "\n",
    "# (3) store in a GeoDataFrame, attach a projection, transform to a different one\n",
    "#pipes_wkt_df['geometry'] = pipes_wkt_df['geometry'].apply(shapely.wkt.loads)\n",
    "pipes_wkt_gdf = geopandas.GeoDataFrame(pipes_wkt_df, geometry=pipes_wkt_df['geometry'])\n",
    "pipes_wkt_gdf = pipes_wkt_gdf.set_crs('epsg:4326')\n",
    "pipes_wkt_gdf_4087 = pipes_wkt_gdf.to_crs('epsg:4087')"
   ]
  },
  {
   "cell_type": "markdown",
   "id": "d83655af-0f9a-498c-b78d-5e0dda289114",
   "metadata": {},
   "source": [
    "# save geodataframe as Excel file with just ProjectID, geometry"
   ]
  },
  {
   "cell_type": "code",
   "execution_count": 8,
   "id": "1c05e7f3-ed6e-4231-9fca-ae2b4c2e5284",
   "metadata": {},
   "outputs": [
    {
     "data": {
      "text/html": [
       "<div>\n",
       "<style scoped>\n",
       "    .dataframe tbody tr th:only-of-type {\n",
       "        vertical-align: middle;\n",
       "    }\n",
       "\n",
       "    .dataframe tbody tr th {\n",
       "        vertical-align: top;\n",
       "    }\n",
       "\n",
       "    .dataframe thead th {\n",
       "        text-align: right;\n",
       "    }\n",
       "</style>\n",
       "<table border=\"1\" class=\"dataframe\">\n",
       "  <thead>\n",
       "    <tr style=\"text-align: right;\">\n",
       "      <th></th>\n",
       "      <th>ProjectID</th>\n",
       "      <th>geometry</th>\n",
       "    </tr>\n",
       "  </thead>\n",
       "  <tbody>\n",
       "    <tr>\n",
       "      <th>0</th>\n",
       "      <td>P0001</td>\n",
       "      <td>LINESTRING (-111.31072 52.66972, -109.13337 51...</td>\n",
       "    </tr>\n",
       "    <tr>\n",
       "      <th>1</th>\n",
       "      <td>P0002</td>\n",
       "      <td>LINESTRING (-113.34182 53.57294, -112.91198 53...</td>\n",
       "    </tr>\n",
       "    <tr>\n",
       "      <th>2</th>\n",
       "      <td>P0004</td>\n",
       "      <td>LINESTRING (-101.73614 48.31197, -102.26074 48...</td>\n",
       "    </tr>\n",
       "    <tr>\n",
       "      <th>3</th>\n",
       "      <td>P0005</td>\n",
       "      <td>LINESTRING (-113.20655 53.71175, -95.09766 45....</td>\n",
       "    </tr>\n",
       "    <tr>\n",
       "      <th>4</th>\n",
       "      <td>P0006</td>\n",
       "      <td>LINESTRING (-87.51366 41.58361, -90.13183 38.8...</td>\n",
       "    </tr>\n",
       "    <tr>\n",
       "      <th>...</th>\n",
       "      <td>...</td>\n",
       "      <td>...</td>\n",
       "    </tr>\n",
       "    <tr>\n",
       "      <th>3381</th>\n",
       "      <td>P4471</td>\n",
       "      <td>LINESTRING (-5.74881 41.50704, -6.28714 41.49059)</td>\n",
       "    </tr>\n",
       "    <tr>\n",
       "      <th>3382</th>\n",
       "      <td>P4473</td>\n",
       "      <td>LINESTRING (3.51253 50.35666, 4.14974 50.50188...</td>\n",
       "    </tr>\n",
       "    <tr>\n",
       "      <th>3383</th>\n",
       "      <td>P4474</td>\n",
       "      <td>LINESTRING (2.86316 42.46146, 2.96204 42.27070)</td>\n",
       "    </tr>\n",
       "    <tr>\n",
       "      <th>3384</th>\n",
       "      <td>P4475</td>\n",
       "      <td>LINESTRING (2.96204 42.27070, 2.60499 41.73596)</td>\n",
       "    </tr>\n",
       "    <tr>\n",
       "      <th>3385</th>\n",
       "      <td>P4476</td>\n",
       "      <td>LINESTRING (-6.28714 41.49059, -7.39676 40.63325)</td>\n",
       "    </tr>\n",
       "  </tbody>\n",
       "</table>\n",
       "<p>3386 rows × 2 columns</p>\n",
       "</div>"
      ],
      "text/plain": [
       "     ProjectID                                           geometry\n",
       "0        P0001  LINESTRING (-111.31072 52.66972, -109.13337 51...\n",
       "1        P0002  LINESTRING (-113.34182 53.57294, -112.91198 53...\n",
       "2        P0004  LINESTRING (-101.73614 48.31197, -102.26074 48...\n",
       "3        P0005  LINESTRING (-113.20655 53.71175, -95.09766 45....\n",
       "4        P0006  LINESTRING (-87.51366 41.58361, -90.13183 38.8...\n",
       "...        ...                                                ...\n",
       "3381     P4471  LINESTRING (-5.74881 41.50704, -6.28714 41.49059)\n",
       "3382     P4473  LINESTRING (3.51253 50.35666, 4.14974 50.50188...\n",
       "3383     P4474    LINESTRING (2.86316 42.46146, 2.96204 42.27070)\n",
       "3384     P4475    LINESTRING (2.96204 42.27070, 2.60499 41.73596)\n",
       "3385     P4476  LINESTRING (-6.28714 41.49059, -7.39676 40.63325)\n",
       "\n",
       "[3386 rows x 2 columns]"
      ]
     },
     "execution_count": 8,
     "metadata": {},
     "output_type": "execute_result"
    }
   ],
   "source": [
    "pipes_wkt_gdf[['ProjectID','geometry']]"
   ]
  },
  {
   "cell_type": "code",
   "execution_count": 9,
   "id": "bf8facf9-46ef-4812-a5c0-25507510debb",
   "metadata": {},
   "outputs": [
    {
     "name": "stdout",
     "output_type": "stream",
     "text": [
      "saved as oil-and-gas-routes-wkt-format-2022-11-07.xlsx\n"
     ]
    }
   ],
   "source": [
    "now_string = datetime.datetime.now().strftime('%Y-%m-%d')\n",
    "filename = fuel_type+'-routes-wkt-format-'+now_string+'.xlsx'\n",
    "pipes_wkt_gdf[['ProjectID','geometry']].to_excel(filename, index=False)\n",
    "print('saved as', filename)"
   ]
  },
  {
   "cell_type": "code",
   "execution_count": 10,
   "id": "0ce99ab2-0413-40d6-819d-3b7de96f68cc",
   "metadata": {},
   "outputs": [
    {
     "name": "stdout",
     "output_type": "stream",
     "text": [
      "saved as oil-and-gas-routes-wkt-format-2022-11-07.csv\n"
     ]
    }
   ],
   "source": [
    "now_string = datetime.datetime.now().strftime('%Y-%m-%d')\n",
    "filename = fuel_type+'-routes-wkt-format-'+now_string+'.csv'\n",
    "pipes_wkt_gdf[['ProjectID','geometry']].to_csv(filename, index=False)\n",
    "print('saved as', filename)"
   ]
  },
  {
   "cell_type": "code",
   "execution_count": null,
   "id": "d26d78d0-c550-4376-8f4f-6f93fd7eeb17",
   "metadata": {},
   "outputs": [],
   "source": []
  },
  {
   "cell_type": "code",
   "execution_count": null,
   "id": "81bfa98e-92b2-4f95-b034-24aa5fd58abd",
   "metadata": {},
   "outputs": [],
   "source": []
  },
  {
   "cell_type": "code",
   "execution_count": null,
   "id": "98039cba-4ca8-43e3-b1f4-599c0c9aa664",
   "metadata": {},
   "outputs": [],
   "source": []
  }
 ],
 "metadata": {
  "kernelspec": {
   "display_name": "gem",
   "language": "python",
   "name": "gem"
  },
  "language_info": {
   "codemirror_mode": {
    "name": "ipython",
    "version": 3
   },
   "file_extension": ".py",
   "mimetype": "text/x-python",
   "name": "python",
   "nbconvert_exporter": "python",
   "pygments_lexer": "ipython3",
   "version": "3.9.9"
  }
 },
 "nbformat": 4,
 "nbformat_minor": 5
}
