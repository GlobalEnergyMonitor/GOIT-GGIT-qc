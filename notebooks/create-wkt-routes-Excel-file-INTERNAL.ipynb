{
 "cells": [
  {
   "cell_type": "markdown",
   "id": "b7020acc-90d7-42fa-9a41-d1bfccba4e6d",
   "metadata": {},
   "source": [
    "# this code does not append pipelines without routes (it skips them)"
   ]
  },
  {
   "cell_type": "code",
   "execution_count": 19,
   "id": "bece9d24",
   "metadata": {
    "tags": []
   },
   "outputs": [],
   "source": [
    "import pygsheets # use 'pip install pygsheets'\n",
    "import numpy\n",
    "import datetime\n",
    "\n",
    "import pandas\n",
    "import geopandas\n",
    "#import geopandas.tools import overlay\n",
    "\n",
    "import shapely"
   ]
  },
  {
   "cell_type": "code",
   "execution_count": 20,
   "id": "3569adbe",
   "metadata": {
    "tags": []
   },
   "outputs": [],
   "source": [
    "credentials_directory = '/Users/baird/Dropbox/_google-api/'\n",
    "gc = pygsheets.authorize(client_secret=credentials_directory+'client_secret.json')\n",
    "spreadsheet = gc.open_by_key('1foPLE6K-uqFlaYgLPAUxzeXfDO5wOOqE7tibNHeqTek')\n",
    "\n",
    "gas_pipes = spreadsheet.worksheet('title', 'Gas pipelines').get_as_df(start='A2')\n",
    "oil_pipes = spreadsheet.worksheet('title', 'Oil/NGL pipelines').get_as_df(start='A2')\n",
    "\n",
    "#gas_pipes.drop('WKTFormat', axis=1, inplace=True) # delete WKTFormat column\n",
    "#oil_pipes.drop('WKTFormat', axis=1, inplace=True)\n",
    "\n",
    "# delete columns that aren't the same in the sheets, to concatenate them...\n",
    "columns_not_in_oil = list(set(gas_pipes.columns)-set(oil_pipes.columns))\n",
    "columns_not_in_gas = list(set(oil_pipes.columns)-set(gas_pipes.columns))\n",
    "gas_pipes.drop(columns=columns_not_in_oil, axis=1, inplace=True)\n",
    "oil_pipes.drop(columns=columns_not_in_gas, axis=1, inplace=True)"
   ]
  },
  {
   "cell_type": "markdown",
   "id": "fecccde5-c841-4f9b-883d-41a17f248f9f",
   "metadata": {},
   "source": [
    "# define whether you want just oil, just gas, or both"
   ]
  },
  {
   "cell_type": "code",
   "execution_count": 21,
   "id": "987e5026-fd92-4c6e-973d-dd2dd34e600e",
   "metadata": {
    "tags": []
   },
   "outputs": [],
   "source": [
    "#fuel_type = 'oil'\n",
    "#fuel_type = 'gas'\n",
    "fuel_type = 'oil-and-gas'\n",
    "\n",
    "if fuel_type=='oil':\n",
    "    pipes_orig = oil_pipes\n",
    "    #pipe.drop(column='CapacityBOEd', inplace=True)\n",
    "elif fuel_type=='gas':\n",
    "    pipes_orig = gas_pipes\n",
    "    #pipe.drop('CapacityBcm/y', inplace=True)\n",
    "elif fuel_type=='oil-and-gas':  \n",
    "    pipes_orig = pandas.concat([oil_pipes, gas_pipes], ignore_index=True)\n",
    "\n",
    "pipes_orig.replace('--', numpy.nan, inplace=True)"
   ]
  },
  {
   "cell_type": "code",
   "execution_count": 22,
   "id": "bdfad3e1",
   "metadata": {
    "tags": []
   },
   "outputs": [],
   "source": [
    "# clean up column 'Route'\n",
    "pipes_orig['Route'] = pipes_orig['Route'].str.strip()\n",
    "\n",
    "# get rid of \"N/A\" and any empty routes (which would be empty rows)\n",
    "pipes_orig = pipes_orig[pipes_orig['Route']!='N/A']\n",
    "pipes_orig = pipes_orig[pipes_orig['Route']!='']\n",
    "pipes_orig = pipes_orig[pipes_orig['RouteAccuracy']!='no route']\n",
    "\n",
    "# possible missing route options\n",
    "missing_route_options = ['Unavailable',\n",
    "                         'Capacity expansion only',\n",
    "                         'Bidirectionality upgrade only',\n",
    "                         'Short route (< 100 km)']\n",
    "\n",
    "pipes_noroute_df = pipes_orig.copy()[pipes_orig['Route'].isin(missing_route_options)]\n",
    "pipes_withroute_df = pipes_orig.copy()[~pipes_orig['Route'].isin(missing_route_options)]"
   ]
  },
  {
   "cell_type": "code",
   "execution_count": 23,
   "id": "20ded46e",
   "metadata": {
    "tags": []
   },
   "outputs": [],
   "source": [
    "def convert_gfit_to_linestring(coord_str, pipeline_name, segment_name):\n",
    "    '''\n",
    "    Takes string from GFIT column of coordinates for a single pipeline,\n",
    "    converts that string into Shapely LineString or MultiLinestring.\n",
    "    '''\n",
    "    #print(pipeline_name, segment_name)\n",
    "    \n",
    "    if ':' in coord_str and ';' not in coord_str:\n",
    "        # simple geometry; no branching\n",
    "        # create nested list of lists, separating on colons        \n",
    "        coord_list = coord_str.split(':')\n",
    "        coord_list_tuples = []\n",
    "        # non-branched pipeline (nested list with one level)\n",
    "        # convert nested list of lists to list of tuples\n",
    "        try:\n",
    "            for element in coord_list:\n",
    "                element_tuple = (float(element.split(',')[1]), \n",
    "                                 float(element.split(',')[0]))\n",
    "                coord_list_tuples.append(element_tuple)\n",
    "        except:\n",
    "            print(f\"Exception for {pipeline_name}; {segment_name}; element: {element}\") # for db\n",
    "        route_conv = shapely.geometry.LineString(coord_list_tuples)\n",
    "\n",
    "    elif ':' in coord_str and ';' in coord_str:\n",
    "        # create a nested list of lists, separating on semicolons\n",
    "        coord_list = coord_str.split(';')   \n",
    "        # create a second level of nesting, separating on colons\n",
    "        coord_list = [x.split(':') for x in coord_list]\n",
    "        # branched pipeline (nested list with two levels)\n",
    "        route_conv_list_all = []\n",
    "        \n",
    "        for nested_list in coord_list:\n",
    "            coord_list_tuples = []\n",
    "            # process element\n",
    "            try:\n",
    "                for element in nested_list:\n",
    "                    element_tuple = (float(element.split(',')[1]), \n",
    "                                     float(element.split(',')[0]))\n",
    "                    coord_list_tuples.append(element_tuple)\n",
    "            except:\n",
    "                print(f\"Exception for {pipeline_name}; segment {segment_name}; element: {element}\") # for db\n",
    "            # process coord_list_tuples\n",
    "            try:\n",
    "                route_conv_list = shapely.geometry.LineString(coord_list_tuples)\n",
    "                route_conv_list_all.append(route_conv_list)\n",
    "            except:\n",
    "                print(f\"Exception for {pipeline_name}; coord_list_tuples: {coord_list_tuples}\") # for db\n",
    "                pass\n",
    "        \n",
    "        route_conv = shapely.geometry.MultiLineString(route_conv_list_all)\n",
    "        \n",
    "    return route_conv"
   ]
  },
  {
   "cell_type": "code",
   "execution_count": 24,
   "id": "ce04fde6",
   "metadata": {
    "tags": []
   },
   "outputs": [],
   "source": [
    "def convert_all_pipelines(df):\n",
    "    \"\"\"\n",
    "    Apply the conversion function to all pipelines in the dataframe.\n",
    "    \"\"\"\n",
    "    # create geometry column with empty strings\n",
    "    df['geometry'] = ''\n",
    "    \n",
    "    # filter to keep only pipelines with routes\n",
    "    mask_route = df['Route'].str.contains(',' or ':')\n",
    "    pipes_with_route = df.loc[mask_route]\n",
    "    \n",
    "    for row in pipes_with_route.index:\n",
    "        route_str = df.at[row, 'Route']\n",
    "        pipeline_name = df.at[row, 'PipelineName']\n",
    "        segment_name = df.at[row, 'SegmentName']\n",
    "        route_str_converted = convert_gfit_to_linestring(route_str, pipeline_name, segment_name)\n",
    "        df.at[row, 'geometry'] = route_str_converted\n",
    "    \n",
    "    return df"
   ]
  },
  {
   "cell_type": "code",
   "execution_count": 25,
   "id": "f2e97928",
   "metadata": {
    "tags": []
   },
   "outputs": [],
   "source": [
    "# code to create a dataframe with WKT formatted geometry\n",
    "\n",
    "# (1) copy gas_pipelines, clean up\n",
    "to_convert = pipes_withroute_df.copy()#gas_pipes.copy()s)]\n",
    "\n",
    "# (2) convert all pipelines\n",
    "pipes_wkt_df = convert_all_pipelines(to_convert)\n",
    "pipes_wkt_df = pipes_wkt_df.reset_index(drop=True)\n",
    "\n",
    "# (3) store in a GeoDataFrame, attach a projection, transform to a different one\n",
    "#pipes_wkt_df['geometry'] = pipes_wkt_df['geometry'].apply(shapely.wkt.loads)\n",
    "pipes_wkt_gdf = geopandas.GeoDataFrame(pipes_wkt_df, geometry=pipes_wkt_df['geometry'])\n",
    "pipes_wkt_gdf = pipes_wkt_gdf.set_crs('epsg:4326')\n",
    "pipes_wkt_gdf_4087 = pipes_wkt_gdf.to_crs('epsg:4087')"
   ]
  },
  {
   "cell_type": "markdown",
   "id": "d83655af-0f9a-498c-b78d-5e0dda289114",
   "metadata": {},
   "source": [
    "# save geodataframe as Excel file with just ProjectID, geometry"
   ]
  },
  {
   "cell_type": "code",
   "execution_count": 26,
   "id": "1c05e7f3-ed6e-4231-9fca-ae2b4c2e5284",
   "metadata": {
    "tags": []
   },
   "outputs": [
    {
     "data": {
      "text/html": [
       "<div>\n",
       "<style scoped>\n",
       "    .dataframe tbody tr th:only-of-type {\n",
       "        vertical-align: middle;\n",
       "    }\n",
       "\n",
       "    .dataframe tbody tr th {\n",
       "        vertical-align: top;\n",
       "    }\n",
       "\n",
       "    .dataframe thead th {\n",
       "        text-align: right;\n",
       "    }\n",
       "</style>\n",
       "<table border=\"1\" class=\"dataframe\">\n",
       "  <thead>\n",
       "    <tr style=\"text-align: right;\">\n",
       "      <th></th>\n",
       "      <th>ProjectID</th>\n",
       "      <th>geometry</th>\n",
       "    </tr>\n",
       "  </thead>\n",
       "  <tbody>\n",
       "    <tr>\n",
       "      <th>0</th>\n",
       "      <td>P3210</td>\n",
       "      <td>LINESTRING (-102.12172 31.95284, -101.59546 31...</td>\n",
       "    </tr>\n",
       "    <tr>\n",
       "      <th>1</th>\n",
       "      <td>P1495</td>\n",
       "      <td>MULTILINESTRING ((85.06487 45.62948, 84.82499 ...</td>\n",
       "    </tr>\n",
       "    <tr>\n",
       "      <th>2</th>\n",
       "      <td>P2672</td>\n",
       "      <td>LINESTRING (-102.15200 31.97061, -101.13689 31...</td>\n",
       "    </tr>\n",
       "    <tr>\n",
       "      <th>3</th>\n",
       "      <td>P3165</td>\n",
       "      <td>LINESTRING (-96.64601 28.97849, -96.54925 28.6...</td>\n",
       "    </tr>\n",
       "    <tr>\n",
       "      <th>4</th>\n",
       "      <td>P3166</td>\n",
       "      <td>LINESTRING (-95.43374 28.94926, -95.03306 28.5...</td>\n",
       "    </tr>\n",
       "    <tr>\n",
       "      <th>...</th>\n",
       "      <td>...</td>\n",
       "      <td>...</td>\n",
       "    </tr>\n",
       "    <tr>\n",
       "      <th>3699</th>\n",
       "      <td>P5314</td>\n",
       "      <td>LINESTRING (112.18784 35.68862, 111.72024 35.7...</td>\n",
       "    </tr>\n",
       "    <tr>\n",
       "      <th>3700</th>\n",
       "      <td>P5315</td>\n",
       "      <td>LINESTRING (111.71690 35.73930, 111.37151 35.6...</td>\n",
       "    </tr>\n",
       "    <tr>\n",
       "      <th>3701</th>\n",
       "      <td>P5316</td>\n",
       "      <td>LINESTRING (116.86021 39.11826, 116.20927 39.0...</td>\n",
       "    </tr>\n",
       "    <tr>\n",
       "      <th>3702</th>\n",
       "      <td>p5317</td>\n",
       "      <td>LINESTRING (115.65608 39.02033, 115.47343 38.8...</td>\n",
       "    </tr>\n",
       "    <tr>\n",
       "      <th>3703</th>\n",
       "      <td>P5319</td>\n",
       "      <td>LINESTRING (113.13200 40.99400, 116.39750 39.9...</td>\n",
       "    </tr>\n",
       "  </tbody>\n",
       "</table>\n",
       "<p>3704 rows × 2 columns</p>\n",
       "</div>"
      ],
      "text/plain": [
       "     ProjectID                                           geometry\n",
       "0        P3210  LINESTRING (-102.12172 31.95284, -101.59546 31...\n",
       "1        P1495  MULTILINESTRING ((85.06487 45.62948, 84.82499 ...\n",
       "2        P2672  LINESTRING (-102.15200 31.97061, -101.13689 31...\n",
       "3        P3165  LINESTRING (-96.64601 28.97849, -96.54925 28.6...\n",
       "4        P3166  LINESTRING (-95.43374 28.94926, -95.03306 28.5...\n",
       "...        ...                                                ...\n",
       "3699     P5314  LINESTRING (112.18784 35.68862, 111.72024 35.7...\n",
       "3700     P5315  LINESTRING (111.71690 35.73930, 111.37151 35.6...\n",
       "3701     P5316  LINESTRING (116.86021 39.11826, 116.20927 39.0...\n",
       "3702     p5317  LINESTRING (115.65608 39.02033, 115.47343 38.8...\n",
       "3703     P5319  LINESTRING (113.13200 40.99400, 116.39750 39.9...\n",
       "\n",
       "[3704 rows x 2 columns]"
      ]
     },
     "execution_count": 26,
     "metadata": {},
     "output_type": "execute_result"
    }
   ],
   "source": [
    "pipes_wkt_gdf[['ProjectID','geometry']]"
   ]
  },
  {
   "cell_type": "code",
   "execution_count": 27,
   "id": "bf8facf9-46ef-4812-a5c0-25507510debb",
   "metadata": {
    "tags": []
   },
   "outputs": [
    {
     "name": "stdout",
     "output_type": "stream",
     "text": [
      "saved as oil-and-gas-routes-wkt-format-2023-04-20.xlsx\n"
     ]
    }
   ],
   "source": [
    "now_string = datetime.datetime.now().strftime('%Y-%m-%d')\n",
    "filename = fuel_type+'-routes-wkt-format-'+now_string+'.xlsx'\n",
    "pipes_wkt_gdf[['ProjectID','geometry']].to_excel(filename, index=False)\n",
    "print('saved as', filename)"
   ]
  },
  {
   "cell_type": "code",
   "execution_count": 28,
   "id": "0ce99ab2-0413-40d6-819d-3b7de96f68cc",
   "metadata": {
    "tags": []
   },
   "outputs": [
    {
     "name": "stdout",
     "output_type": "stream",
     "text": [
      "saved as oil-and-gas-routes-wkt-format-2023-04-20.csv\n"
     ]
    }
   ],
   "source": [
    "now_string = datetime.datetime.now().strftime('%Y-%m-%d')\n",
    "filename = fuel_type+'-routes-wkt-format-'+now_string+'.csv'\n",
    "pipes_wkt_gdf[['ProjectID','geometry']].to_csv(filename, index=False)\n",
    "print('saved as', filename)"
   ]
  },
  {
   "cell_type": "code",
   "execution_count": null,
   "id": "0145d62a-73a6-474e-bc72-dbf6dd7849cf",
   "metadata": {},
   "outputs": [],
   "source": []
  }
 ],
 "metadata": {
  "kernelspec": {
   "display_name": "Python 3 (ipykernel)",
   "language": "python",
   "name": "python3"
  },
  "language_info": {
   "codemirror_mode": {
    "name": "ipython",
    "version": 3
   },
   "file_extension": ".py",
   "mimetype": "text/x-python",
   "name": "python",
   "nbconvert_exporter": "python",
   "pygments_lexer": "ipython3",
   "version": "3.9.16"
  }
 },
 "nbformat": 4,
 "nbformat_minor": 5
}
