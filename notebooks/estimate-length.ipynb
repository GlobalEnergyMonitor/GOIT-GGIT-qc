{
 "cells": [
  {
   "cell_type": "markdown",
   "metadata": {},
   "source": [
    "# need to fill in any routes with BOTH missing (known) length AND route (so that we can have a guesstimate for all)"
   ]
  },
  {
   "cell_type": "markdown",
   "metadata": {
    "id": "L2-KMDysvtFf"
   },
   "source": [
    "# Import packages and data"
   ]
  },
  {
   "cell_type": "code",
   "execution_count": 1,
   "metadata": {
    "colab": {
     "base_uri": "https://localhost:8080/"
    },
    "id": "HeNH1Iqnvh4w",
    "outputId": "e3d879ff-80e6-4d9e-8db2-4e82617b82db"
   },
   "outputs": [],
   "source": [
    "# note that the order of points in GeoPandas is longitude, latitude \n",
    "# (opposite order from that of many data sets)\n",
    "\n",
    "import geopandas\n",
    "import shapely.geometry\n",
    "import shapely.ops\n",
    "import pyproj\n",
    "import pandas\n",
    "\n",
    "import time\n",
    "import numpy\n",
    "\n",
    "import pygsheets"
   ]
  },
  {
   "cell_type": "markdown",
   "metadata": {},
   "source": [
    "import EEZ file"
   ]
  },
  {
   "cell_type": "code",
   "execution_count": 2,
   "metadata": {},
   "outputs": [],
   "source": [
    "# from https://www.marineregions.org/downloads.php\n",
    "# in the section \"Marine and land zones: the union of world country boundaries and EEZ's\"\n",
    "eez_file = '/Users/baird/Dropbox/_gis-data/eez/EEZ_land_union_v2_201410/EEZ_land_v2_201410.shp'\n",
    "\n",
    "eez_and_land_boundaries_gdf = geopandas.read_file(eez_file)\n",
    "eez_and_land_boundaries_gdf = eez_and_land_boundaries_gdf.set_index('Country')\n",
    "#eez_4087 = eez_and_land_boundaries.to_crs('epsg:4087')"
   ]
  },
  {
   "cell_type": "markdown",
   "metadata": {},
   "source": [
    "### special cases for EEZs (Hong Kong, Macao...)"
   ]
  },
  {
   "cell_type": "markdown",
   "metadata": {},
   "source": [
    "import natural earth data file to pick out hong kong, macao"
   ]
  },
  {
   "cell_type": "code",
   "execution_count": 3,
   "metadata": {},
   "outputs": [],
   "source": [
    "nat_earth_file = '/Users/baird/Dropbox/_gis-data/_natural_earth_data/ne_10m_admin_0_countries/ne_10m_admin_0_countries.shp'\n",
    "nat_earth_gdf = geopandas.read_file(nat_earth_file)\n",
    "\n",
    "# pull out shapely geometry polygons and multipolygons\n",
    "china_geom = eez_and_land_boundaries_gdf.loc[eez_and_land_boundaries_gdf.index=='China']['geometry'].values[0]\n",
    "hk_geom = nat_earth_gdf.loc[nat_earth_gdf.ADMIN=='Hong Kong S.A.R.']['geometry'].values[0]\n",
    "macao_geom = nat_earth_gdf.loc[nat_earth_gdf.ADMIN=='Macao S.A.R']['geometry'].values[0]\n",
    "\n",
    "china_new_geom = china_geom - china_geom.intersection(hk_geom)\n",
    "china_new_geom = china_new_geom - china_new_geom.intersection(macao_geom)"
   ]
  },
  {
   "cell_type": "markdown",
   "metadata": {},
   "source": [
    "check that the new geometry is smaller in area"
   ]
  },
  {
   "cell_type": "raw",
   "metadata": {},
   "source": [
    "print(china_new_geom.area)\n",
    "print(china_geom.area)"
   ]
  },
  {
   "cell_type": "markdown",
   "metadata": {},
   "source": [
    "now replace the original china in EEZ file, and add Hong Kong, Macao"
   ]
  },
  {
   "cell_type": "code",
   "execution_count": 4,
   "metadata": {},
   "outputs": [],
   "source": [
    "empty_row_hk = geopandas.GeoDataFrame([[numpy.nan]*eez_and_land_boundaries_gdf.columns.size],\n",
    "                             columns=eez_and_land_boundaries_gdf.columns, index=['Hong Kong'])\n",
    "empty_row_hk['geometry'] = hk_geom\n",
    "\n",
    "empty_row_macao = geopandas.GeoDataFrame([[numpy.nan]*eez_and_land_boundaries_gdf.columns.size],\n",
    "                             columns=eez_and_land_boundaries_gdf.columns, index=['Macao'])\n",
    "empty_row_macao['geometry'] = macao_geom\n",
    "\n",
    "# add geometries to these rows\n",
    "eez_and_land_boundaries_gdf = eez_and_land_boundaries_gdf.append(empty_row_hk)\n",
    "eez_and_land_boundaries_gdf = eez_and_land_boundaries_gdf.append(empty_row_macao)\n",
    "# replace with new version of China\n",
    "eez_and_land_boundaries_gdf.loc[eez_and_land_boundaries_gdf.index=='China','geometry'] = china_new_geom"
   ]
  },
  {
   "cell_type": "markdown",
   "metadata": {},
   "source": [
    "now create a blob for all boundaries"
   ]
  },
  {
   "cell_type": "code",
   "execution_count": 5,
   "metadata": {
    "colab": {
     "base_uri": "https://localhost:8080/"
    },
    "id": "WNVzX3l3vn1Q",
    "outputId": "67ba2822-c008-4eab-fa3b-b5fc5319fe3f"
   },
   "outputs": [
    {
     "name": "stderr",
     "output_type": "stream",
     "text": [
      "/var/folders/h5/nfk59_vx7gg_58myc9jfk7_40000gn/T/ipykernel_3042/1801181543.py:6: ShapelyDeprecationWarning: The 'cascaded_union()' function is deprecated. Use 'unary_union()' instead.\n",
      "  world_eez_and_land_boundaries_gdf = shapely.ops.cascaded_union(eez_and_land_boundaries_gdf['geometry'])\n"
     ]
    },
    {
     "data": {
      "text/plain": [
       "shapely.geometry.multipolygon.MultiPolygon"
      ]
     },
     "execution_count": 5,
     "metadata": {},
     "output_type": "execute_result"
    }
   ],
   "source": [
    "# create one blob for all world land and EEZ boundaries, using Shapely function cascaded_union \n",
    "# whatever is left out is, presumably, international waters\n",
    "# this is used below to determine whether any parts of pipelines are in international waters\n",
    "\n",
    "if 'world_eez_and_land_boundaries_gdf' not in locals(): # only do this if it hasn't been done already\n",
    "    world_eez_and_land_boundaries_gdf = shapely.ops.cascaded_union(eez_and_land_boundaries_gdf['geometry'])\n",
    "\n",
    "#check type, should be multipolygon object\n",
    "type(world_eez_and_land_boundaries_gdf)"
   ]
  },
  {
   "cell_type": "markdown",
   "metadata": {
    "id": "qIzOuTpwv1G5"
   },
   "source": [
    "# Import and clean data"
   ]
  },
  {
   "cell_type": "code",
   "execution_count": 6,
   "metadata": {
    "id": "VXfggc9rv_Kx"
   },
   "outputs": [],
   "source": [
    "gc = pygsheets.authorize(service_account_env_var='GDRIVE_API_CREDENTIALS')\n",
    "spreadsheet = gc.open_by_key('1foPLE6K-uqFlaYgLPAUxzeXfDO5wOOqE7tibNHeqTek')\n",
    "\n",
    "gas_pipes = spreadsheet.worksheet('title', 'Gas pipelines').get_as_df(start='A2')\n",
    "oil_pipes = spreadsheet.worksheet('title', 'Oil/NGL pipelines').get_as_df(start='A2')\n",
    "\n",
    "# delete columns that aren't the same in the sheets, to concatenate them...\n",
    "columns_not_in_oil = list(set(gas_pipes.columns)-set(oil_pipes.columns))\n",
    "columns_not_in_gas = list(set(oil_pipes.columns)-set(gas_pipes.columns))\n",
    "#gas_pipes.drop(columns=columns_not_in_oil, axis=1, inplace=True)\n",
    "#oil_pipes.drop(columns=columns_not_in_gas, axis=1, inplace=True)"
   ]
  },
  {
   "cell_type": "code",
   "execution_count": 7,
   "metadata": {},
   "outputs": [],
   "source": [
    "region_df_orig = spreadsheet.worksheet('title', 'Region dictionary').get_as_df()"
   ]
  },
  {
   "cell_type": "markdown",
   "metadata": {},
   "source": [
    "## replace eez_and_land_boundaries_gdf country names with the ones we use in GGIT/GOIT, for consistency"
   ]
  },
  {
   "cell_type": "code",
   "execution_count": 8,
   "metadata": {},
   "outputs": [],
   "source": [
    "rename_eez_df = region_df_orig.copy()\n",
    "rename_eez_df = rename_eez_df[rename_eez_df['EEZNamesIfDifferent']!='']\n",
    "rename_eez_dict = dict(zip(rename_eez_df.EEZNamesIfDifferent, rename_eez_df.Country))\n",
    "eez_and_land_boundaries_gdf.rename(index=rename_eez_dict, inplace=True)"
   ]
  },
  {
   "cell_type": "markdown",
   "metadata": {},
   "source": [
    "## Specify Oil/NGL or Gas, concatenate if oil_and_gas"
   ]
  },
  {
   "cell_type": "code",
   "execution_count": 9,
   "metadata": {},
   "outputs": [],
   "source": [
    "#type = 'Oil'\n",
    "#type = 'Gas'\n",
    "type = 'Oil_and_Gas'\n",
    "\n",
    "if type=='Oil':\n",
    "    pipe = oil_pipes\n",
    "    #pipe.drop(column='CapacityBOEd', inplace=True)\n",
    "elif type=='Gas':\n",
    "    pipe = gas_pipes\n",
    "    #pipe.drop('CapacityBcm/y', inplace=True)\n",
    "elif type=='Oil_and_Gas':  \n",
    "    pipe_orig_df = pandas.concat([oil_pipes, gas_pipes], ignore_index=True)\n",
    "\n",
    "pipe_orig_df.replace('--', numpy.nan, inplace=True)"
   ]
  },
  {
   "cell_type": "code",
   "execution_count": 10,
   "metadata": {
    "colab": {
     "base_uri": "https://localhost:8080/"
    },
    "id": "yEGX5oPQwCAK",
    "outputId": "d6ff6cf9-c760-46ef-8f48-fc335f77efad"
   },
   "outputs": [],
   "source": [
    "# get pipeline list, import as df\n",
    "pipe_orig_df['PipelineName'] = pipe_orig_df['PipelineName'].str.strip()\n",
    "pipe_orig_df['SegmentName'] = pipe_orig_df['SegmentName'].str.strip()\n",
    "pipe_orig_df['ProjectID'] = pipe_orig_df['ProjectID'].str.strip()\n",
    "\n",
    "# clean up column 'Route'\n",
    "pipe_orig_df['Route'] = pipe_orig_df['Route'].str.strip()\n",
    "\n",
    "# get rid of \"N/A\" and any empty routes (which would be empty rows)\n",
    "pipe_orig_df = pipe_orig_df.loc[pipe_orig_df['Status']!='N/A']\n",
    "pipe_orig_df = pipe_orig_df.loc[pipe_orig_df['Wiki']!='']\n",
    "#pipe_orig = pipe_orig[pipe_orig['Route']!='']\n",
    "\n",
    "missing_route_options = ['Unavailable',\n",
    "                         'Capacity expansion only',\n",
    "                         'Bidirectionality upgrade only',\n",
    "                         'Short route (< 100 km)',\n",
    "                         '']\n",
    "\n",
    "pipes_noroute_df = pipe_orig_df.loc[pipe_orig_df['Route'].isin(missing_route_options)]\n",
    "pipes_noroute_df = pipes_noroute_df.loc[pipes_noroute_df['Wiki']!=''] # get rid of anything without a wiki page\n",
    "pipes_withroute_df = pipe_orig_df.loc[~pipe_orig_df['Route'].isin(missing_route_options)]"
   ]
  },
  {
   "cell_type": "markdown",
   "metadata": {
    "id": "uof2kkM3wI5T"
   },
   "source": [
    "# Length Calculation Functions"
   ]
  },
  {
   "cell_type": "markdown",
   "metadata": {},
   "source": [
    "## convert gfit to linestring"
   ]
  },
  {
   "cell_type": "code",
   "execution_count": 11,
   "metadata": {
    "id": "Uk1XCJpNwRJr"
   },
   "outputs": [],
   "source": [
    "def convert_gfit_to_linestring(coord_str, pipeline_name, segment_name, project_id, status, fuel, length):\n",
    "    '''\n",
    "    Takes string from GFIT column of coordinates for a single pipeline,\n",
    "    converts that string into Shapely LineString or MultiLinestring for processing.\n",
    "    '''\n",
    "\n",
    "    #print(pipeline_name, segment_name)\n",
    "    #print(coord_str)\n",
    "    if ':' in coord_str and ';' not in coord_str:\n",
    "        # simple geometry; no branching\n",
    "        # create nested list of lists, separating on colons        \n",
    "        coord_list = coord_str.split(':')\n",
    "        \n",
    "        coord_list_tuples = []\n",
    "        \n",
    "        # non-branched pipeline (nested list with one level)\n",
    "        # convert nested list of lists to list of tuples\n",
    "        for element in coord_list:\n",
    "            element_tuple = (float(element.split(',')[1]), \n",
    "                             float(element.split(',')[0]))\n",
    "            coord_list_tuples.append(element_tuple)\n",
    "            \n",
    "        pipeline = shapely.geometry.LineString(coord_list_tuples)\n",
    "\n",
    "    elif ':' in coord_str and ';' in coord_str:\n",
    "        # create a nested list of lists, separating on semicolons\n",
    "        coord_list = coord_str.split(';')\n",
    "        \n",
    "        # create a second level of nesting, separating on colons\n",
    "        coord_list = [x.split(':') for x in coord_list]\n",
    "        \n",
    "        # branched pipeline (nested list with two levels)\n",
    "        pipeline_ls_all = []\n",
    "        \n",
    "        for nested_list in coord_list:\n",
    "            coord_list_tuples = []\n",
    "            \n",
    "            for element in nested_list:\n",
    "                element_tuple = (float(element.split(',')[1]), \n",
    "                                 float(element.split(',')[0]))\n",
    "                coord_list_tuples.append(element_tuple)\n",
    "                \n",
    "            # process coord_list_tuples\n",
    "            try:\n",
    "                pipeline_ls = shapely.geometry.LineString(coord_list_tuples)\n",
    "                pipeline_ls_all.append(pipeline_ls)\n",
    "            except:\n",
    "                print(f\"Exception for coord_list_tuples: {coord_list_tuples}\") # for db\n",
    "                pass\n",
    "            \n",
    "        pipeline = shapely.geometry.MultiLineString(pipeline_ls_all)\n",
    "        \n",
    "    else:\n",
    "        # create empty MultiLineString; coordinates were missing or misformatted\n",
    "        pipeline = shapely.geometry.MultiLineString([])\n",
    "        \n",
    "        print(f'Missing or misformatted coordinates for {pipeline_name} - {segment_name}')\n",
    "        \n",
    "    return pipeline"
   ]
  },
  {
   "cell_type": "markdown",
   "metadata": {},
   "source": [
    "## pipeline total length and wiggle"
   ]
  },
  {
   "cell_type": "code",
   "execution_count": 12,
   "metadata": {
    "id": "oD5E1hlwwRPi"
   },
   "outputs": [],
   "source": [
    "def pipeline_total_length_and_wiggle(pipes_df):\n",
    "    '''\n",
    "    Iterate through each pipeline, calculating the total length and wiggle factor.\n",
    "    \n",
    "    Modifies the main df that was function argument, returning modified version.\n",
    "    '''\n",
    "    \n",
    "    mask_route_1 = pipes_df['Route'].str.contains(',')\n",
    "    mask_route_2 = pipes_df['Route'].str.contains(':')\n",
    "    pipes_with_route = pipes_df.loc[(mask_route_1) & (mask_route_2)]\n",
    "    \n",
    "    for row in pipes_with_route.index:\n",
    "        # get string with coordinates for route, convert to LineString (or MultiLineString)\n",
    "        pipeline_name = pipes_with_route.at[row, 'PipelineName']\n",
    "        segment_name = pipes_with_route.at[row, 'SegmentName']\n",
    "        project_id = pipes_with_route.at[row, 'ProjectID']\n",
    "        pipeline_str = pipes_with_route.at[row, 'Route']\n",
    "        status = pipes_with_route.at[row, 'Status']\n",
    "        fuel = pipes_with_route.at[row, 'Fuel']\n",
    "        length = pipes_with_route.at[row, 'LengthMergedKm']\n",
    "        pipeline_ls = convert_gfit_to_linestring(pipeline_str, pipeline_name, segment_name, \n",
    "                                                 project_id, status, fuel, length)\n",
    "\n",
    "        # calculate length of LineString (or MultiLineString)\n",
    "        geodetic_computation = pyproj.Geod(ellps=\"WGS84\")\n",
    "        length_calc = geodetic_computation.geometry_length(pipeline_ls)/1000 # units km\n",
    "\n",
    "        # get reported length of pipeline\n",
    "        length_report = pipes_with_route.at[row, 'LengthKnownKm']\n",
    "\n",
    "        #print(pipeline_name, segment_name)\n",
    "        \n",
    "    #    if pandas.notnull(length_report):\n",
    "    #        # calculate wiggle factor regardless of relationship,\n",
    "    #        # whether length_report is > or < length_calc\n",
    "    #        # if reported and calculated length both exist, calculate their ratio:\n",
    "        try:\n",
    "            wiggle_factor = length_report / length_calc\n",
    "            pipes_df.at[row, 'WiggleFactor'] = wiggle_factor\n",
    "        # if one doesn't exist, you get a TypeError when dividing; replace with\n",
    "        except TypeError:\n",
    "            print(pipeline_name, segment_name, project_id)\n",
    "            print(length_report, length_calc)\n",
    "            print('TypeError, WiggleFactor set to 1.0')\n",
    "            pipes_df.at[row, 'WiggleFactor'] = float(1)\n",
    "\n",
    "    #    else:\n",
    "    #        print('notnull)')\n",
    "    #        # there was no reported length; assign wiggle_factor = 1.0\n",
    "    #        pipes_df.at[row, 'WiggleFactor'] = float(1)\n",
    "\n",
    "    return(pipes_df)"
   ]
  },
  {
   "cell_type": "markdown",
   "metadata": {},
   "source": [
    "## pipeline within country"
   ]
  },
  {
   "cell_type": "code",
   "execution_count": 13,
   "metadata": {},
   "outputs": [
    {
     "data": {
      "text/html": [
       "<div>\n",
       "<style scoped>\n",
       "    .dataframe tbody tr th:only-of-type {\n",
       "        vertical-align: middle;\n",
       "    }\n",
       "\n",
       "    .dataframe tbody tr th {\n",
       "        vertical-align: top;\n",
       "    }\n",
       "\n",
       "    .dataframe thead th {\n",
       "        text-align: right;\n",
       "    }\n",
       "</style>\n",
       "<table border=\"1\" class=\"dataframe\">\n",
       "  <thead>\n",
       "    <tr style=\"text-align: right;\">\n",
       "      <th></th>\n",
       "      <th>OBJECTID</th>\n",
       "      <th>ISO_3digit</th>\n",
       "      <th>Changes</th>\n",
       "      <th>Shape_Leng</th>\n",
       "      <th>Shape_Area</th>\n",
       "      <th>geometry</th>\n",
       "    </tr>\n",
       "  </thead>\n",
       "  <tbody>\n",
       "    <tr>\n",
       "      <th>Hong Kong</th>\n",
       "      <td>NaN</td>\n",
       "      <td>NaN</td>\n",
       "      <td>NaN</td>\n",
       "      <td>NaN</td>\n",
       "      <td>NaN</td>\n",
       "      <td>MULTIPOLYGON (((114.22983 22.55581, 114.23471 ...</td>\n",
       "    </tr>\n",
       "  </tbody>\n",
       "</table>\n",
       "</div>"
      ],
      "text/plain": [
       "           OBJECTID ISO_3digit Changes  Shape_Leng  Shape_Area  \\\n",
       "Hong Kong       NaN        NaN     NaN         NaN         NaN   \n",
       "\n",
       "                                                    geometry  \n",
       "Hong Kong  MULTIPOLYGON (((114.22983 22.55581, 114.23471 ...  "
      ]
     },
     "execution_count": 13,
     "metadata": {},
     "output_type": "execute_result"
    }
   ],
   "source": [
    "eez_and_land_boundaries_gdf[eez_and_land_boundaries_gdf.index=='Hong Kong']"
   ]
  },
  {
   "cell_type": "code",
   "execution_count": 14,
   "metadata": {
    "id": "4mR8NK6AwRWZ"
   },
   "outputs": [],
   "source": [
    "def pipeline_within_country(pipeline_ls, \n",
    "                            pipeline_name, \n",
    "                            segment_name, \n",
    "                            project_id, \n",
    "                            results_by_country, \n",
    "                            status, \n",
    "                            fuel, \n",
    "                            length, \n",
    "                            remainders, \n",
    "                            international):\n",
    "    '''\n",
    "    Iterate through all countries, to see if the specified pipeline \n",
    "    is within each country (at least partially).\n",
    "    \n",
    "    If there is a portion within a given country, \n",
    "    saves the country name and length of pipeline to a df\n",
    "    '''\n",
    "    \n",
    "    pipeline_remainders = pipeline_ls # initialize\n",
    "    # will progressively remove pieces of the pipeline, \n",
    "    # as they intersect with each country's land mass\n",
    "    \n",
    "    geodetic_computation = pyproj.Geod(ellps=\"WGS84\") # initialize\n",
    "    \n",
    "    length_total = geodetic_computation.geometry_length(pipeline_ls)/1000 # units km\n",
    "    \n",
    "    for country in eez_and_land_boundaries_gdf.index:\n",
    "        \n",
    "        country_geom = eez_and_land_boundaries_gdf.loc[country, 'geometry']\n",
    "        \n",
    "        if country_geom.intersects(pipeline_ls)==True:\n",
    "            pipeline_intersection = pipeline_ls.intersection(country_geom)\n",
    "            pipeline_remainders = pipeline_remainders.difference(country_geom)\n",
    "            \n",
    "            length_per_country = geodetic_computation.geometry_length(pipeline_intersection)/1000 # units km\n",
    "            length_per_country_fract = length_per_country / length_total\n",
    "            \n",
    "            one_result = (\n",
    "                pipeline_name, \n",
    "                segment_name,\n",
    "                project_id,\n",
    "                country, \n",
    "                length_per_country, \n",
    "                length_per_country_fract,\n",
    "                status,\n",
    "                fuel,\n",
    "                length)\n",
    "            one_result_df = pandas.DataFrame(one_result).T\n",
    "            one_result_df.columns = ['pipeline_name', 'segment_name', 'project_id', 'country', \n",
    "                                     'length_per_country', 'length_per_country_fract', \n",
    "                                     'status', 'fuel', 'length']\n",
    "            \n",
    "            results_by_country = results_by_country.append(\n",
    "                pandas.DataFrame(one_result_df), \n",
    "                sort=False)\n",
    "            \n",
    "        else:\n",
    "            pass\n",
    "\n",
    "    results_by_country = results_by_country.reset_index(drop=True)\n",
    "        \n",
    "    if pipeline_remainders.is_empty==False:       \n",
    "        remainders_length = geodetic_computation.geometry_length(pipeline_remainders)/1000 # units km\n",
    "        \n",
    "        if remainders_length > 0.01: # units: km\n",
    "            remainders_tuple = (pipeline_name, remainders_length, pipeline_remainders)\n",
    "            remainders = pandas.DataFrame(remainders_tuple).T\n",
    "            remainders.columns = ['pipeline_name', 'segment_name', 'project_id', 'length', 'geometry']\n",
    "        \n",
    "            print(f\"for {pipeline_name}, pipeline_remainders.is_empty==False\") # for db\n",
    "            print(f\"remainders_length: {remainders_length}\") # for db\n",
    "        \n",
    "    else:\n",
    "#         print(f\"for {pipeline_name}, pipeline_remainders.is_empty is NOT False\") # for db\n",
    "        pass\n",
    "    \n",
    "    # alternative method: pipeline that's in international waters (not in world_eez_and_land_boundaries_gdf)\n",
    "    international_pipeline = pipeline_ls.difference(world_eez_and_land_boundaries_gdf)\n",
    "    if international_pipeline.is_empty==False:\n",
    "        international_length = geodetic_computation.geometry_length(international_pipeline)/1000 # units km\n",
    "        international_tuple = (pipeline_name, international_length, international_pipeline)\n",
    "        international = pandas.DataFrame(international_tuple).T\n",
    "        international.columns = ['pipeline_name', 'length', 'geometry']\n",
    "    else:\n",
    "        pass\n",
    "    \n",
    "    return results_by_country, remainders, international"
   ]
  },
  {
   "cell_type": "markdown",
   "metadata": {
    "id": "8xrZWW5mwdmv"
   },
   "source": [
    "# Apply functions to data"
   ]
  },
  {
   "cell_type": "code",
   "execution_count": 15,
   "metadata": {
    "colab": {
     "base_uri": "https://localhost:8080/"
    },
    "id": "WC2F2TOuwdGE",
    "outputId": "f8b031d1-0a23-49af-c716-895418362e20"
   },
   "outputs": [
    {
     "name": "stderr",
     "output_type": "stream",
     "text": [
      "/Users/baird/miniconda3/envs/gem/lib/python3.9/site-packages/geopandas/geodataframe.py:1350: UserWarning: Geometry column does not contain geometry.\n",
      "  warnings.warn(\"Geometry column does not contain geometry.\")\n"
     ]
    },
    {
     "name": "stdout",
     "output_type": "stream",
     "text": [
      "Exception for coord_list_tuples: [(-0.9540990052655393, 38.08500504384781)]\n"
     ]
    }
   ],
   "source": [
    "# this step requires that there be no non-geometry data in the \"Route\" column, \n",
    "# meaning no letters or extraneous symbols (ex: \";;\", \"::\", \"--\", etc.)\n",
    "pipe_gpd = geopandas.GeoDataFrame(pipes_withroute_df)\n",
    "pipe_gpd['geometry'] = ''\n",
    "for row in pipe_gpd.index:\n",
    "    linestring = convert_gfit_to_linestring(\n",
    "        str(pipe_gpd.at[row, 'Route']), \n",
    "        pipe_gpd.at[row, 'PipelineName'], \n",
    "        pipe_gpd.at[row, 'SegmentName'], \n",
    "        pipe_gpd.at[row, 'ProjectID'], \n",
    "        pipe_gpd.at[row, 'Status'], \n",
    "        pipe_gpd.at[row, 'Fuel'], \n",
    "        pipe_gpd.at[row, 'LengthMergedKm'])\n",
    "    pipe_gpd.at[row, 'geometry'] = linestring"
   ]
  },
  {
   "cell_type": "code",
   "execution_count": 16,
   "metadata": {
    "id": "nK1g6iA6wkeN",
    "scrolled": true,
    "tags": []
   },
   "outputs": [
    {
     "name": "stdout",
     "output_type": "stream",
     "text": [
      "Exception for coord_list_tuples: [(-0.9540990052655393, 38.08500504384781)]\n"
     ]
    }
   ],
   "source": [
    "# calculate length by country\n",
    "# get coord_str for each pipeline that has route coordinates\n",
    "# choose pipes_withroute_df to process\n",
    "#pipeline_df = pipe.copy()\n",
    "\n",
    "results_by_country = pandas.DataFrame(\n",
    "    columns=['pipeline_name', 'segment_name', 'project_id', 'country', 'length_per_country', 'status', 'fuel', 'length']\n",
    ")\n",
    "\n",
    "remainders = geopandas.GeoDataFrame()\n",
    "international = geopandas.GeoDataFrame()\n",
    "\n",
    "for sel_index in pipes_withroute_df.index:\n",
    "    pipeline_name = pipes_withroute_df.at[sel_index, 'PipelineName']\n",
    "    segment_name = pipes_withroute_df.at[sel_index, 'SegmentName']\n",
    "    project_id = pipes_withroute_df.at[sel_index, 'ProjectID']\n",
    "    \n",
    "    #print(pipeline_name, segment_name, project_id)\n",
    "    \n",
    "    status = pipes_withroute_df.at[sel_index, 'Status']\n",
    "    fuel = pipes_withroute_df.at[sel_index, 'Fuel']\n",
    "    length = pipes_withroute_df.at[sel_index, 'LengthKnownKm']\n",
    "    coord_str = str(pipes_withroute_df.at[sel_index, 'Route'])\n",
    "    \n",
    "    pipeline_ls = convert_gfit_to_linestring(coord_str, \n",
    "                                             pipeline_name, \n",
    "                                             segment_name, \n",
    "                                             project_id, \n",
    "                                             status, \n",
    "                                             fuel, \n",
    "                                             length)\n",
    "    \n",
    "    results_by_country, remainders, international = pipeline_within_country(\n",
    "        pipeline_ls, \n",
    "        pipeline_name, \n",
    "        segment_name, \n",
    "        project_id, \n",
    "        results_by_country, \n",
    "        status, \n",
    "        fuel, \n",
    "        length, \n",
    "        remainders, \n",
    "        international)"
   ]
  },
  {
   "cell_type": "markdown",
   "metadata": {},
   "source": [
    "# Now go through all pipelines that DON'T have a route and fill in missing length info"
   ]
  },
  {
   "cell_type": "code",
   "execution_count": 17,
   "metadata": {},
   "outputs": [],
   "source": [
    "results_by_country_noroute = pandas.DataFrame(\n",
    "    columns=['pipeline_name', 'segment_name', 'project_id', 'country', 'length_per_country', 'status', 'fuel', 'length']\n",
    ")\n",
    "\n",
    "for sel_index in pipes_noroute_df.index:\n",
    "\n",
    "    pipeline_name = pipes_noroute_df.at[sel_index, 'PipelineName']\n",
    "    segment_name = pipes_noroute_df.at[sel_index, 'SegmentName']\n",
    "    project_id = pipes_noroute_df.at[sel_index, 'ProjectID']\n",
    "    status = pipes_noroute_df.at[sel_index, 'Status']\n",
    "    fuel = pipes_noroute_df.at[sel_index, 'Fuel']\n",
    "    length = pipes_noroute_df.at[sel_index, 'LengthKnownKm']\n",
    "    coord_str = str(pipes_noroute_df.at[sel_index, 'Route'])\n",
    "    \n",
    "    #print(pipeline_name, segment_name, coord_str, length)\n",
    "    \n",
    "    ncountries = pipes_noroute_df.at[sel_index, 'NumberOfCountries']\n",
    "\n",
    "    # if it crosses into more than one country\n",
    "    if ncountries>1:\n",
    "\n",
    "        country_list = pipes_noroute_df.at[sel_index, 'Countries'].split(',')\n",
    "        country_list = [i.strip() for i in country_list]\n",
    "\n",
    "        for country in country_list:\n",
    "            length_per_country = length/country_list.__len__()\n",
    "            length_per_country_fract = 1/country_list.__len__()\n",
    "\n",
    "            one_result = (\n",
    "                pipeline_name, \n",
    "                segment_name,\n",
    "                project_id,\n",
    "                country, \n",
    "                length_per_country, \n",
    "                length_per_country_fract,\n",
    "                status,\n",
    "                fuel,\n",
    "                length)\n",
    "            one_result_df = pandas.DataFrame(one_result).T\n",
    "            one_result_df.columns = ['pipeline_name', 'segment_name', 'project_id', 'country', \n",
    "                                     'length_per_country', 'length_per_country_fract', \n",
    "                                     'status', 'fuel', 'length']\n",
    "\n",
    "            results_by_country_noroute = pandas.concat([results_by_country_noroute,\n",
    "            pandas.DataFrame(one_result_df)], axis=0,\n",
    "            sort=False)\n",
    "\n",
    "    else:\n",
    "        country = pipes_noroute_df.at[sel_index, 'Countries']\n",
    "\n",
    "        length_per_country = length\n",
    "        length_per_country_fract = 1.0\n",
    "\n",
    "        one_result = (\n",
    "            pipeline_name, \n",
    "            segment_name,\n",
    "            project_id,\n",
    "            country, \n",
    "            length_per_country, \n",
    "            length_per_country_fract,\n",
    "            status,\n",
    "            fuel,\n",
    "            length)\n",
    "        one_result_df = pandas.DataFrame(one_result).T\n",
    "        one_result_df.columns = ['pipeline_name', 'segment_name', 'project_id', 'country', \n",
    "                                 'length_per_country', 'length_per_country_fract', \n",
    "                                 'status', 'fuel', 'length']\n",
    "\n",
    "        results_by_country_noroute = pandas.concat([results_by_country_noroute,\n",
    "            pandas.DataFrame(one_result_df)], axis=0,\n",
    "            sort=False)"
   ]
  },
  {
   "cell_type": "raw",
   "metadata": {},
   "source": [
    "results_by_country_noroute = pandas.DataFrame(\n",
    "    columns=['pipeline_name', 'segment_name', 'project_id', 'country', 'length_per_country', 'status', 'fuel', 'length']\n",
    ")\n",
    "\n",
    "for sel_index in pipes_noroute_df.index:\n",
    "    \n",
    "    # skip if the length is a nan value\n",
    "    #if pandas.isnull(pipes_noroute_df.at[sel_index, 'LengthMergedKm']):\n",
    "        #print(pipes_noroute_df.ProjectID)\n",
    "        #pass\n",
    "        #continue\n",
    "    \n",
    "    # otherwise, get information\n",
    "    pipeline_name = pipes_noroute_df.at[sel_index, 'PipelineName']\n",
    "    segment_name = pipes_noroute_df.at[sel_index, 'SegmentName']\n",
    "    project_id = pipes_noroute_df.at[sel_index, 'ProjectID']\n",
    "    status = pipes_noroute_df.at[sel_index, 'Status']\n",
    "    fuel = pipes_noroute_df.at[sel_index, 'Fuel']\n",
    "    length = pipes_noroute_df.at[sel_index, 'LengthKnownKm']\n",
    "    coord_str = str(pipes_noroute_df.at[sel_index, 'Route'])\n",
    "\n",
    "    if coord_str=='' and :\n",
    "        length='--'#numpy.nan\n",
    "    \n",
    "    #then ask how many countries it passes through\n",
    "    ncountries = pipes_noroute_df.at[sel_index, 'NumberOfCountries']\n",
    "    #print(pipeline_name, segment_name)\n",
    "    #print(ncountries.type())\n",
    "\n",
    "    if ncountries>1:\n",
    "        #print('more than 1 country')\n",
    "        #print(length)\n",
    "\n",
    "        country_list = pipes_noroute_df.at[sel_index, 'Countries'].split(',')\n",
    "        country_list = [i.strip() for i in country_list]\n",
    "\n",
    "        for country in country_list:\n",
    "            if coord_str=='':\n",
    "                length_per_country = '--'\n",
    "                length_per_country_frac = '--'\n",
    "            else:\n",
    "                length_per_country = length/country_list.__len__()\n",
    "                length_per_country_fract = 1/country_list.__len__()\n",
    "            \n",
    "            #length_per_country = length/country_list.__len__()\n",
    "            #length_per_country_fract = 1/country_list.__len__()\n",
    "\n",
    "            one_result = (\n",
    "                pipeline_name, \n",
    "                segment_name,\n",
    "                project_id,\n",
    "                country, \n",
    "                length_per_country, \n",
    "                length_per_country_fract,\n",
    "                status,\n",
    "                fuel,\n",
    "                length)\n",
    "            one_result_df = pandas.DataFrame(one_result).T\n",
    "            one_result_df.columns = ['pipeline_name', 'segment_name', 'project_id', 'country', \n",
    "                                     'length_per_country', 'length_per_country_fract', \n",
    "                                     'status', 'fuel', 'length']\n",
    "\n",
    "            results_by_country_noroute = pandas.concat([results_by_country,\n",
    "            pandas.DataFrame(one_result_df)], axis=0,\n",
    "            sort=False)\n",
    "\n",
    "    else:\n",
    "        country = pipes_noroute_df.at[sel_index, 'Countries']\n",
    "\n",
    "        # if coord_str=='':\n",
    "        #     length_per_country = '--'\n",
    "        #     length_per_country_frac = '--'\n",
    "        # else:\n",
    "        length_per_country = length\n",
    "        length_per_country_fract = 1.0\n",
    "\n",
    "        one_result = (\n",
    "            pipeline_name, \n",
    "            segment_name,\n",
    "            project_id,\n",
    "            country, \n",
    "            length_per_country, \n",
    "            length_per_country_fract,\n",
    "            status,\n",
    "            fuel,\n",
    "            length)\n",
    "        one_result_df = pandas.DataFrame(one_result).T\n",
    "        one_result_df.columns = ['pipeline_name', 'segment_name', 'project_id', 'country', \n",
    "                                 'length_per_country', 'length_per_country_fract', \n",
    "                                 'status', 'fuel', 'length']\n",
    "\n",
    "        results_by_country_noroute = pandas.concat([results_by_country,\n",
    "            pandas.DataFrame(one_result_df)], axis=0,\n",
    "            sort=False)"
   ]
  },
  {
   "cell_type": "code",
   "execution_count": 31,
   "metadata": {},
   "outputs": [],
   "source": [
    "results_by_country_combined = pandas.concat([results_by_country,\n",
    "                                             results_by_country_noroute],\n",
    "                                            axis=0, sort=False)"
   ]
  },
  {
   "cell_type": "markdown",
   "metadata": {
    "id": "i3KbqGJ1wu9P"
   },
   "source": [
    "# Check Mean Wiggle Factor, & Outliers"
   ]
  },
  {
   "cell_type": "raw",
   "metadata": {
    "id": "_U-J5LkEw6Y5"
   },
   "source": [
    "calc_length = pipes_withroute_df['LengthKnownKm'] / pipes_withroute_df['WiggleFactor']\n",
    "wiggle_factor_weighted_mean = pipes_withroute_df['LengthKnownKm'].sum()/calc_length.sum()"
   ]
  },
  {
   "cell_type": "raw",
   "metadata": {
    "id": "98HfanMcw6fc"
   },
   "source": [
    "pipes_withroute_df.loc[pipes_withroute_df['WiggleFactor']<0.95][['PipelineName', 'SegmentName', 'ProjectID', 'WiggleFactor', 'LengthKnownKm']]"
   ]
  },
  {
   "cell_type": "markdown",
   "metadata": {
    "id": "iF0znQh2xEb6"
   },
   "source": [
    "# Clean and export results"
   ]
  },
  {
   "cell_type": "code",
   "execution_count": 32,
   "metadata": {
    "id": "poULH3cpxLHc"
   },
   "outputs": [],
   "source": [
    "# export length estimates by country and pipeline\n",
    "results_by_country_combined = results_by_country_combined[['pipeline_name','segment_name',\n",
    "                                                          'project_id', 'country', 'length_per_country', \n",
    "                                                           'length', 'length_per_country_fract']]\n",
    "results_by_country_combined.rename(columns={\n",
    "                                    'pipeline_name':'PipelineName',\n",
    "                                    'segment_name':'SegmentName',\n",
    "                                    'project_id':'ProjectID',\n",
    "                                    'country':'Country',\n",
    "                                    'length_per_country':'LengthEstimateKmByCountry',\n",
    "                                    'length':'LengthEstimateKm',\n",
    "                                    'length_per_country_fract':'LengthPerCountryFraction'}, inplace=True)\n",
    "\n",
    "results_by_country_combined.sort_values('ProjectID', inplace=True)\n",
    "# results_by_country['Country'].replace(\"Cote d'Ivoire\", \"Côte d'Ivoire\", inplace=True)\n",
    "# results_by_country['Country'].replace('Czech Republic', 'Czechia', inplace=True)\n",
    "# results_by_country['Country'].replace('Swaziland', 'Eswatini', inplace=True)\n",
    "# results_by_country['Country'].replace('Congo', 'Republic of Congo', inplace=True)\n",
    "# results_by_country['Country'].replace('Congo, DRC', 'DR Congo', inplace=True)\n",
    "# results_by_country['Country'].replace('Sudan', 'Republic of Sudan', inplace=True)\n",
    "# results_by_country['Country'].replace('Guinea', 'Republic of Guinea', inplace=True)\n",
    "# results_by_country['Country'].replace('Bosnia & Herzegovina', 'Bosnia and Herzegovina', inplace=True)\n",
    "# results_by_country['Country'].replace('Trinidad & Tobago', 'Trinidad and Tobago', inplace=True)\n",
    "\n",
    "results_by_country_combined.to_excel('Estimated_Length-Results_By_Country_'+type+'.xlsx')"
   ]
  },
  {
   "cell_type": "code",
   "execution_count": 33,
   "metadata": {},
   "outputs": [
    {
     "data": {
      "text/html": [
       "<div>\n",
       "<style scoped>\n",
       "    .dataframe tbody tr th:only-of-type {\n",
       "        vertical-align: middle;\n",
       "    }\n",
       "\n",
       "    .dataframe tbody tr th {\n",
       "        vertical-align: top;\n",
       "    }\n",
       "\n",
       "    .dataframe thead th {\n",
       "        text-align: right;\n",
       "    }\n",
       "</style>\n",
       "<table border=\"1\" class=\"dataframe\">\n",
       "  <thead>\n",
       "    <tr style=\"text-align: right;\">\n",
       "      <th></th>\n",
       "      <th>PipelineName</th>\n",
       "      <th>SegmentName</th>\n",
       "      <th>ProjectID</th>\n",
       "      <th>Country</th>\n",
       "      <th>LengthEstimateKmByCountry</th>\n",
       "      <th>LengthEstimateKm</th>\n",
       "      <th>LengthPerCountryFraction</th>\n",
       "    </tr>\n",
       "  </thead>\n",
       "  <tbody>\n",
       "    <tr>\n",
       "      <th>0</th>\n",
       "      <td>Alberta Clipper Oil Pipeline</td>\n",
       "      <td></td>\n",
       "      <td>P0001</td>\n",
       "      <td>Canada</td>\n",
       "      <td>1099.524365</td>\n",
       "      <td>1790.0</td>\n",
       "      <td>0.703393</td>\n",
       "    </tr>\n",
       "    <tr>\n",
       "      <th>1</th>\n",
       "      <td>Alberta Clipper Oil Pipeline</td>\n",
       "      <td></td>\n",
       "      <td>P0001</td>\n",
       "      <td>United States</td>\n",
       "      <td>463.648701</td>\n",
       "      <td>1790.0</td>\n",
       "      <td>0.296608</td>\n",
       "    </tr>\n",
       "    <tr>\n",
       "      <th>2</th>\n",
       "      <td>Athabasca Oil Pipeline</td>\n",
       "      <td></td>\n",
       "      <td>P0002</td>\n",
       "      <td>Canada</td>\n",
       "      <td>418.095904</td>\n",
       "      <td>542.35</td>\n",
       "      <td>1.0</td>\n",
       "    </tr>\n",
       "    <tr>\n",
       "      <th>3</th>\n",
       "      <td>Bakken Expansion Pipeline</td>\n",
       "      <td></td>\n",
       "      <td>P0004</td>\n",
       "      <td>Canada</td>\n",
       "      <td>155.333654</td>\n",
       "      <td>260.71</td>\n",
       "      <td>0.592423</td>\n",
       "    </tr>\n",
       "    <tr>\n",
       "      <th>4</th>\n",
       "      <td>Bakken Expansion Pipeline</td>\n",
       "      <td></td>\n",
       "      <td>P0004</td>\n",
       "      <td>United States</td>\n",
       "      <td>106.866868</td>\n",
       "      <td>260.71</td>\n",
       "      <td>0.407577</td>\n",
       "    </tr>\n",
       "    <tr>\n",
       "      <th>...</th>\n",
       "      <td>...</td>\n",
       "      <td>...</td>\n",
       "      <td>...</td>\n",
       "      <td>...</td>\n",
       "      <td>...</td>\n",
       "      <td>...</td>\n",
       "      <td>...</td>\n",
       "    </tr>\n",
       "    <tr>\n",
       "      <th>3900</th>\n",
       "      <td>Ilichevsk-Yerevan Gas Pipeline</td>\n",
       "      <td></td>\n",
       "      <td>P4271</td>\n",
       "      <td>Armenia</td>\n",
       "      <td>59.092131</td>\n",
       "      <td>86.6</td>\n",
       "      <td>0.729526</td>\n",
       "    </tr>\n",
       "    <tr>\n",
       "      <th>3901</th>\n",
       "      <td>Ilichevsk-Yerevan Gas Pipeline</td>\n",
       "      <td></td>\n",
       "      <td>P4271</td>\n",
       "      <td>Azerbaijan</td>\n",
       "      <td>21.908711</td>\n",
       "      <td>86.6</td>\n",
       "      <td>0.270476</td>\n",
       "    </tr>\n",
       "    <tr>\n",
       "      <th>3902</th>\n",
       "      <td>Yufutsu-Sapporo Gas Pipeline</td>\n",
       "      <td></td>\n",
       "      <td>P4272</td>\n",
       "      <td>Japan</td>\n",
       "      <td>43.007411</td>\n",
       "      <td>72.0</td>\n",
       "      <td>1.0</td>\n",
       "    </tr>\n",
       "    <tr>\n",
       "      <th>0</th>\n",
       "      <td>Shin Oak NGL Pipeline</td>\n",
       "      <td>Capacity Expansion</td>\n",
       "      <td>P4277</td>\n",
       "      <td>United States</td>\n",
       "      <td>NaN</td>\n",
       "      <td>NaN</td>\n",
       "      <td>1.0</td>\n",
       "    </tr>\n",
       "    <tr>\n",
       "      <th>3903</th>\n",
       "      <td>Yamburg-Tula Gas Pipeline</td>\n",
       "      <td>II</td>\n",
       "      <td>P4311</td>\n",
       "      <td>Russia</td>\n",
       "      <td>3040.592438</td>\n",
       "      <td>3113.0</td>\n",
       "      <td>1.0</td>\n",
       "    </tr>\n",
       "  </tbody>\n",
       "</table>\n",
       "<p>4387 rows × 7 columns</p>\n",
       "</div>"
      ],
      "text/plain": [
       "                        PipelineName         SegmentName ProjectID  \\\n",
       "0       Alberta Clipper Oil Pipeline                         P0001   \n",
       "1       Alberta Clipper Oil Pipeline                         P0001   \n",
       "2             Athabasca Oil Pipeline                         P0002   \n",
       "3          Bakken Expansion Pipeline                         P0004   \n",
       "4          Bakken Expansion Pipeline                         P0004   \n",
       "...                              ...                 ...       ...   \n",
       "3900  Ilichevsk-Yerevan Gas Pipeline                         P4271   \n",
       "3901  Ilichevsk-Yerevan Gas Pipeline                         P4271   \n",
       "3902    Yufutsu-Sapporo Gas Pipeline                         P4272   \n",
       "0              Shin Oak NGL Pipeline  Capacity Expansion     P4277   \n",
       "3903       Yamburg-Tula Gas Pipeline                  II     P4311   \n",
       "\n",
       "            Country LengthEstimateKmByCountry LengthEstimateKm  \\\n",
       "0            Canada               1099.524365           1790.0   \n",
       "1     United States                463.648701           1790.0   \n",
       "2            Canada                418.095904           542.35   \n",
       "3            Canada                155.333654           260.71   \n",
       "4     United States                106.866868           260.71   \n",
       "...             ...                       ...              ...   \n",
       "3900        Armenia                 59.092131             86.6   \n",
       "3901     Azerbaijan                 21.908711             86.6   \n",
       "3902          Japan                 43.007411             72.0   \n",
       "0     United States                       NaN              NaN   \n",
       "3903         Russia               3040.592438           3113.0   \n",
       "\n",
       "     LengthPerCountryFraction  \n",
       "0                    0.703393  \n",
       "1                    0.296608  \n",
       "2                         1.0  \n",
       "3                    0.592423  \n",
       "4                    0.407577  \n",
       "...                       ...  \n",
       "3900                 0.729526  \n",
       "3901                 0.270476  \n",
       "3902                      1.0  \n",
       "0                         1.0  \n",
       "3903                      1.0  \n",
       "\n",
       "[4387 rows x 7 columns]"
      ]
     },
     "execution_count": 33,
     "metadata": {},
     "output_type": "execute_result"
    }
   ],
   "source": [
    "results_by_country_combined"
   ]
  },
  {
   "cell_type": "markdown",
   "metadata": {},
   "source": [
    "## create the estmated length by each pipeline (has \"--\" where no route exists)"
   ]
  },
  {
   "cell_type": "code",
   "execution_count": 34,
   "metadata": {},
   "outputs": [],
   "source": [
    "results_by_pipeline_withroute = results_by_country.copy()[['project_id','length_per_country']]\n",
    "results_by_pipeline_withroute = pandas.DataFrame(results_by_country.groupby(\"project_id\")[\"length_per_country\"].sum())\n",
    "\n",
    "# then add in the missing route project_ids and set the length to '--'\n",
    "noroute_projectids = list(set(results_by_country_noroute['project_id']))\n",
    "\n",
    "results_by_pipeline_noroute = pandas.DataFrame({'length_per_country':['--']*noroute_projectids.__len__()},\n",
    "                                              index=noroute_projectids)\n",
    "results_by_pipeline_noroute.index.name = 'project_id'\n",
    "\n",
    "results_by_pipeline_combined = pandas.concat([results_by_pipeline_withroute,results_by_pipeline_noroute])\n",
    "results_by_pipeline_combined.sort_index(inplace=True)\n",
    "results_by_pipeline_combined.index.name = 'ProjectID'\n",
    "results_by_pipeline_combined.rename({'length_per_country':'LengthEstimateKmByCountry'})\n",
    "\n",
    "#results_by_pipeline_combined = results_by_country_noroute.copy()[['project_id','length_per_country']]\n",
    "results_by_pipeline_combined.to_excel('Estimated_Length-Results_By_Pipeline_'+type+'.xlsx')"
   ]
  },
  {
   "cell_type": "code",
   "execution_count": null,
   "metadata": {},
   "outputs": [],
   "source": []
  }
 ],
 "metadata": {
  "colab": {
   "collapsed_sections": [],
   "name": "Estimate Length.ipynb",
   "provenance": []
  },
  "kernelspec": {
   "display_name": "gem",
   "language": "python",
   "name": "gem"
  },
  "language_info": {
   "codemirror_mode": {
    "name": "ipython",
    "version": 3
   },
   "file_extension": ".py",
   "mimetype": "text/x-python",
   "name": "python",
   "nbconvert_exporter": "python",
   "pygments_lexer": "ipython3",
   "version": "3.9.9"
  }
 },
 "nbformat": 4,
 "nbformat_minor": 4
}
