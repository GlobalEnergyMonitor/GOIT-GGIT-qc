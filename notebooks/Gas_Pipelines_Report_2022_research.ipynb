{
 "cells": [
  {
   "cell_type": "code",
   "execution_count": 1,
   "id": "3b38c4c2",
   "metadata": {},
   "outputs": [],
   "source": [
    "import pandas\n",
    "pandas.set_option(\"display.max_rows\", 50, \"display.max_columns\", 50)\n",
    "\n",
    "import pygsheets\n",
    "import numpy\n",
    "import scipy\n",
    "\n",
    "import matplotlib.pyplot as mp\n",
    "import matplotlib.cm"
   ]
  },
  {
   "cell_type": "code",
   "execution_count": 2,
   "id": "7c4470f8",
   "metadata": {},
   "outputs": [],
   "source": [
    "# solarized colors\n",
    "solar_base03    = '#002b36' # darkest gray\n",
    "solar_base02    = '#073642'\n",
    "solar_base01    = '#586e75'\n",
    "solar_base00    = '#657b83'\n",
    "solar_base0     = '#839496' # light gray\n",
    "solar_base1     = '#93a1a1' # lightest gray\n",
    "solar_base2     = '#eee8d5' # dark white\n",
    "solar_base3     = '#fdf6e3' # light white\n",
    "solar_yellow    = '#b58900'\n",
    "solar_orange    = '#cb4b16'\n",
    "solar_red       = '#dc322f'\n",
    "solar_magenta   = '#d33682'\n",
    "solar_violet    = '#6c71c4'\n",
    "solar_blue      = '#268bd2'\n",
    "solar_cyan      = '#2aa198'\n",
    "solar_green     = '#859900'"
   ]
  },
  {
   "cell_type": "markdown",
   "id": "24f769c3",
   "metadata": {},
   "source": [
    "import Pipelines_Current dataset"
   ]
  },
  {
   "cell_type": "raw",
   "id": "398b390b",
   "metadata": {},
   "source": [
    "GasKmByCountry.xlsx\n",
    "GasKmByOwner.xlsx\n",
    "GasKmByRegion.xlsx\n",
    "NGLKmByCountry.xlsx\n",
    "NGLKmByOwner.xlsx\n",
    "NGLKmByRegion.xlsx\n",
    "OilKmByCountry.xlsx\n",
    "OilKmByOwner.xlsx\n",
    "OilKmByRegion.xlsx\n",
    "Estimated_Length-Results_By_Pipeline_Gas.xlsx\n",
    "Estimated_Length-Results_By_Pipeline_Oil_and_Gas.xlsx\n",
    "Estimated_Length-Results_By_Pipeline_Oil.xlsx\n",
    "Estimated_Length-Results_By_Country_Oil.xlsx\n",
    "Estimated_Length-Results_By_Country_Oil_and_Gas.xlsx\n",
    "Estimated_Length-Results_By_Country_Gas.xlsx"
   ]
  },
  {
   "cell_type": "markdown",
   "id": "cc821fdf-1db6-493d-bb96-16585cd8f53e",
   "metadata": {},
   "source": [
    "# import data"
   ]
  },
  {
   "cell_type": "code",
   "execution_count": 64,
   "id": "8910a9d3",
   "metadata": {},
   "outputs": [],
   "source": [
    "credentials_directory = '/Users/baird/Dropbox/_google-api/'\n",
    "gc = pygsheets.authorize(client_secret=credentials_directory+'client_secret.json')\n",
    "spreadsheet = gc.open_by_key('1foPLE6K-uqFlaYgLPAUxzeXfDO5wOOqE7tibNHeqTek')\n",
    "\n",
    "#spreadsheet[1] \"Gas Pipelines\" tab is the second index\n",
    "gas_pipes = spreadsheet[1].get_as_df(encoding='latin1')\n",
    "oil_pipes = spreadsheet[2].get_as_df(encoding='latin1')\n",
    "#owners = spreadsheet[2].get_as_df()\n",
    "\n",
    "gas_pipes = gas_pipes.drop('WKTFormat', axis=1) # delete WKTFormat column\n",
    "oil_pipes = oil_pipes.drop('WKTFormat', axis=1)\n",
    "pipes_df = pandas.concat([oil_pipes, gas_pipes], ignore_index=True)\n",
    "\n",
    "pipes_df = pipes_df[pipes_df['Status']!='N/A']\n",
    "\n",
    "#pipe = spreadsheet[1].get_as_df()\n",
    "#pipe = pipe.drop('WKTFormat', axis=1)\n",
    "\n",
    "#get other relevant sheets\n",
    "country_ratios = spreadsheet[5].get_as_df(encoding='latin1')\n",
    "owners_df = spreadsheet[3].get_as_df(encoding='latin1')\n",
    "owners_df.set_index('ProjectID', inplace=True)"
   ]
  },
  {
   "cell_type": "markdown",
   "id": "c03ad170",
   "metadata": {},
   "source": [
    "### replace \"--\" with NaN"
   ]
  },
  {
   "cell_type": "code",
   "execution_count": 65,
   "id": "53a9af81",
   "metadata": {},
   "outputs": [],
   "source": [
    "# replace -- entries with NaN\n",
    "pipes_df_orig_copy = pipes_df.copy() # for extending into further years?\n",
    "pipes_df = pipes_df.replace('--', numpy.nan)\n",
    "#pipes_df['StartYearLast'].replace('', numpy.nan, inplace=True)"
   ]
  },
  {
   "cell_type": "code",
   "execution_count": 66,
   "id": "96a2ab51",
   "metadata": {},
   "outputs": [],
   "source": [
    "country_ratios['StartYearLatest'].replace('--', numpy.nan, inplace=True)"
   ]
  },
  {
   "cell_type": "markdown",
   "id": "a28ad2a3",
   "metadata": {},
   "source": [
    "# km by country, km by region calculations"
   ]
  },
  {
   "cell_type": "code",
   "execution_count": 67,
   "id": "b69bb35e",
   "metadata": {},
   "outputs": [],
   "source": [
    "status_list = ['Proposed', 'Construction', 'Shelved', 'Cancelled', 'Operating', 'Idle', 'Mothballed', 'Retired']\n",
    "country_list = sorted(list(set(country_ratios['Country'])))\n",
    "region_list = sorted(list(set(country_ratios['Region'])))"
   ]
  },
  {
   "cell_type": "code",
   "execution_count": 68,
   "id": "0f861f96",
   "metadata": {},
   "outputs": [
    {
     "name": "stdout",
     "output_type": "stream",
     "text": [
      "===country-level calculations===\n",
      "Proposed\n",
      "Construction\n",
      "Shelved\n",
      "Cancelled\n",
      "Operating\n",
      "Idle\n",
      "Mothballed\n",
      "Retired\n",
      "===regional calculations===\n",
      "Proposed\n",
      "Construction\n",
      "Shelved\n",
      "Cancelled\n",
      "Operating\n",
      "Idle\n",
      "Mothballed\n",
      "Retired\n"
     ]
    }
   ],
   "source": [
    "country_ratios_gas = country_ratios[country_ratios['Fuel']=='Gas']\n",
    "\n",
    "km_by_country_df = pandas.DataFrame(columns=status_list, index=country_list)\n",
    "km_by_region_df = pandas.DataFrame(columns=status_list, index=region_list)\n",
    "\n",
    "print('===country-level calculations===')\n",
    "for status in status_list:\n",
    "    print(status)\n",
    "    country_ratios_gas_status = country_ratios_gas[country_ratios_gas['Status']==status]\n",
    "    km_by_country_df[status] = country_ratios_gas_status.groupby('Country')['MergedKmByCountry'].sum()\n",
    "\n",
    "print('===regional calculations===')\n",
    "for status in status_list:\n",
    "    print(status)\n",
    "    country_ratios_gas_status = country_ratios_gas[country_ratios_gas['Status']==status]\n",
    "    km_by_region_df[status] = country_ratios_gas_status.groupby('Region')['MergedKmByCountry'].sum()\n",
    "\n",
    "# fill NaN with 0.0\n",
    "km_by_region_df = km_by_region_df.fillna(0)\n",
    "km_by_country_df = km_by_country_df.fillna(0)"
   ]
  },
  {
   "cell_type": "code",
   "execution_count": 69,
   "id": "f27e1492-6919-456b-8519-a35e89c76f34",
   "metadata": {},
   "outputs": [],
   "source": [
    "km_by_region_df['Proposed+Construction'] = km_by_region_df[['Proposed','Construction']].sum(axis=1)\n",
    "km_by_region_df.sort_values(by='Proposed+Construction', inplace=True)\n",
    "km_by_region_df = km_by_region_df[['Proposed', 'Construction', 'Proposed+Construction', 'Shelved', 'Cancelled', 'Operating', 'Idle', 'Mothballed', 'Retired']]\n",
    "km_by_region_df.sort_values('Proposed+Construction', ascending=False, inplace=True)"
   ]
  },
  {
   "cell_type": "code",
   "execution_count": 70,
   "id": "38ef2764-c801-46f8-a82d-4803101a1f3b",
   "metadata": {},
   "outputs": [],
   "source": [
    "km_by_country_df['Proposed+Construction'] = km_by_country_df[['Proposed','Construction']].sum(axis=1)\n",
    "km_by_country_df.sort_values(by='Proposed+Construction', inplace=True)\n",
    "km_by_country_df = km_by_country_df[['Proposed', 'Construction', 'Proposed+Construction', 'Shelved', 'Cancelled', 'Operating', 'Idle', 'Mothballed', 'Retired']]\n",
    "km_by_country_df.sort_values('Proposed+Construction', ascending=False, inplace=True)"
   ]
  },
  {
   "cell_type": "markdown",
   "id": "15cab3a4-a85f-4813-8e3f-944747729946",
   "metadata": {},
   "source": [
    "## add Total row to km by country/region"
   ]
  },
  {
   "cell_type": "raw",
   "id": "7e73b537-02b9-4206-b45f-541ea2e9863f",
   "metadata": {},
   "source": [
    "if 'Total' not in km_by_country_df.index:\n",
    "    total_country = km_by_country_df.sum(axis=0)\n",
    "    total_country.name='Total'\n",
    "    km_by_country_df = km_by_country_df.append(total_country)\n",
    "\n",
    "if 'Total' not in km_by_region_df.index:\n",
    "    total_region = km_by_region_df.sum(axis=0)\n",
    "    total_region.name='Total'\n",
    "    km_by_region_df = km_by_region_df.append(total_region)\n",
    "\n",
    "#km_by_region_df.to_excel('GasKmByRegion.xlsx')\n",
    "#km_by_country_df.to_excel('GasKmByCountry.xlsx')"
   ]
  },
  {
   "cell_type": "code",
   "execution_count": 71,
   "id": "d0eb0e52-5fd7-4435-8840-10046f8d24a2",
   "metadata": {},
   "outputs": [
    {
     "data": {
      "text/html": [
       "<div>\n",
       "<style scoped>\n",
       "    .dataframe tbody tr th:only-of-type {\n",
       "        vertical-align: middle;\n",
       "    }\n",
       "\n",
       "    .dataframe tbody tr th {\n",
       "        vertical-align: top;\n",
       "    }\n",
       "\n",
       "    .dataframe thead th {\n",
       "        text-align: right;\n",
       "    }\n",
       "</style>\n",
       "<table border=\"1\" class=\"dataframe\">\n",
       "  <thead>\n",
       "    <tr style=\"text-align: right;\">\n",
       "      <th></th>\n",
       "      <th>Proposed</th>\n",
       "      <th>Construction</th>\n",
       "      <th>Proposed+Construction</th>\n",
       "      <th>Shelved</th>\n",
       "      <th>Cancelled</th>\n",
       "      <th>Operating</th>\n",
       "      <th>Idle</th>\n",
       "      <th>Mothballed</th>\n",
       "      <th>Retired</th>\n",
       "    </tr>\n",
       "  </thead>\n",
       "  <tbody>\n",
       "    <tr>\n",
       "      <th>East Asia</th>\n",
       "      <td>32425.36</td>\n",
       "      <td>26347.70</td>\n",
       "      <td>58773.06</td>\n",
       "      <td>1043.97</td>\n",
       "      <td>1044.13</td>\n",
       "      <td>92155.49</td>\n",
       "      <td>0.0</td>\n",
       "      <td>0.0</td>\n",
       "      <td>41.00</td>\n",
       "    </tr>\n",
       "    <tr>\n",
       "      <th>South Asia</th>\n",
       "      <td>4091.03</td>\n",
       "      <td>17859.66</td>\n",
       "      <td>21950.69</td>\n",
       "      <td>6017.71</td>\n",
       "      <td>6143.81</td>\n",
       "      <td>20585.75</td>\n",
       "      <td>0.0</td>\n",
       "      <td>0.0</td>\n",
       "      <td>35.00</td>\n",
       "    </tr>\n",
       "    <tr>\n",
       "      <th>Europe</th>\n",
       "      <td>14789.44</td>\n",
       "      <td>5387.64</td>\n",
       "      <td>20177.08</td>\n",
       "      <td>1273.96</td>\n",
       "      <td>15805.31</td>\n",
       "      <td>116510.27</td>\n",
       "      <td>0.0</td>\n",
       "      <td>0.0</td>\n",
       "      <td>1079.95</td>\n",
       "    </tr>\n",
       "    <tr>\n",
       "      <th>Sub-Saharan Africa</th>\n",
       "      <td>14048.02</td>\n",
       "      <td>5517.86</td>\n",
       "      <td>19565.88</td>\n",
       "      <td>1633.15</td>\n",
       "      <td>288.21</td>\n",
       "      <td>11753.94</td>\n",
       "      <td>0.0</td>\n",
       "      <td>0.0</td>\n",
       "      <td>0.00</td>\n",
       "    </tr>\n",
       "    <tr>\n",
       "      <th>Eurasia</th>\n",
       "      <td>11584.11</td>\n",
       "      <td>5088.02</td>\n",
       "      <td>16672.13</td>\n",
       "      <td>2671.80</td>\n",
       "      <td>6644.05</td>\n",
       "      <td>139772.95</td>\n",
       "      <td>0.0</td>\n",
       "      <td>193.0</td>\n",
       "      <td>2551.86</td>\n",
       "    </tr>\n",
       "    <tr>\n",
       "      <th>North America</th>\n",
       "      <td>8914.74</td>\n",
       "      <td>7707.02</td>\n",
       "      <td>16621.76</td>\n",
       "      <td>9611.09</td>\n",
       "      <td>12878.00</td>\n",
       "      <td>418274.98</td>\n",
       "      <td>516.0</td>\n",
       "      <td>0.0</td>\n",
       "      <td>0.00</td>\n",
       "    </tr>\n",
       "    <tr>\n",
       "      <th>Latin America and the Caribbean</th>\n",
       "      <td>12236.73</td>\n",
       "      <td>541.00</td>\n",
       "      <td>12777.73</td>\n",
       "      <td>3453.02</td>\n",
       "      <td>22161.34</td>\n",
       "      <td>43327.48</td>\n",
       "      <td>0.0</td>\n",
       "      <td>224.0</td>\n",
       "      <td>0.00</td>\n",
       "    </tr>\n",
       "    <tr>\n",
       "      <th>Australia and New Zealand</th>\n",
       "      <td>9161.09</td>\n",
       "      <td>580.00</td>\n",
       "      <td>9741.09</td>\n",
       "      <td>1102.00</td>\n",
       "      <td>6161.88</td>\n",
       "      <td>27316.05</td>\n",
       "      <td>0.0</td>\n",
       "      <td>0.0</td>\n",
       "      <td>0.00</td>\n",
       "    </tr>\n",
       "    <tr>\n",
       "      <th>Middle East and North Africa</th>\n",
       "      <td>4389.86</td>\n",
       "      <td>5014.25</td>\n",
       "      <td>9404.11</td>\n",
       "      <td>7178.74</td>\n",
       "      <td>3704.49</td>\n",
       "      <td>29580.86</td>\n",
       "      <td>1200.0</td>\n",
       "      <td>0.0</td>\n",
       "      <td>39.28</td>\n",
       "    </tr>\n",
       "    <tr>\n",
       "      <th>SE Asia</th>\n",
       "      <td>7056.44</td>\n",
       "      <td>1121.00</td>\n",
       "      <td>8177.44</td>\n",
       "      <td>2630.43</td>\n",
       "      <td>3013.62</td>\n",
       "      <td>15839.92</td>\n",
       "      <td>0.0</td>\n",
       "      <td>0.0</td>\n",
       "      <td>0.00</td>\n",
       "    </tr>\n",
       "  </tbody>\n",
       "</table>\n",
       "</div>"
      ],
      "text/plain": [
       "                                 Proposed  Construction  \\\n",
       "East Asia                        32425.36      26347.70   \n",
       "South Asia                        4091.03      17859.66   \n",
       "Europe                           14789.44       5387.64   \n",
       "Sub-Saharan Africa               14048.02       5517.86   \n",
       "Eurasia                          11584.11       5088.02   \n",
       "North America                     8914.74       7707.02   \n",
       "Latin America and the Caribbean  12236.73        541.00   \n",
       "Australia and New Zealand         9161.09        580.00   \n",
       "Middle East and North Africa      4389.86       5014.25   \n",
       "SE Asia                           7056.44       1121.00   \n",
       "\n",
       "                                 Proposed+Construction  Shelved  Cancelled  \\\n",
       "East Asia                                     58773.06  1043.97    1044.13   \n",
       "South Asia                                    21950.69  6017.71    6143.81   \n",
       "Europe                                        20177.08  1273.96   15805.31   \n",
       "Sub-Saharan Africa                            19565.88  1633.15     288.21   \n",
       "Eurasia                                       16672.13  2671.80    6644.05   \n",
       "North America                                 16621.76  9611.09   12878.00   \n",
       "Latin America and the Caribbean               12777.73  3453.02   22161.34   \n",
       "Australia and New Zealand                      9741.09  1102.00    6161.88   \n",
       "Middle East and North Africa                   9404.11  7178.74    3704.49   \n",
       "SE Asia                                        8177.44  2630.43    3013.62   \n",
       "\n",
       "                                 Operating    Idle  Mothballed  Retired  \n",
       "East Asia                         92155.49     0.0         0.0    41.00  \n",
       "South Asia                        20585.75     0.0         0.0    35.00  \n",
       "Europe                           116510.27     0.0         0.0  1079.95  \n",
       "Sub-Saharan Africa                11753.94     0.0         0.0     0.00  \n",
       "Eurasia                          139772.95     0.0       193.0  2551.86  \n",
       "North America                    418274.98   516.0         0.0     0.00  \n",
       "Latin America and the Caribbean   43327.48     0.0       224.0     0.00  \n",
       "Australia and New Zealand         27316.05     0.0         0.0     0.00  \n",
       "Middle East and North Africa      29580.86  1200.0         0.0    39.28  \n",
       "SE Asia                           15839.92     0.0         0.0     0.00  "
      ]
     },
     "execution_count": 71,
     "metadata": {},
     "output_type": "execute_result"
    }
   ],
   "source": [
    "km_by_region_df"
   ]
  },
  {
   "cell_type": "markdown",
   "id": "99fe358c",
   "metadata": {},
   "source": [
    "# numbers of pipes finished in a given year"
   ]
  },
  {
   "cell_type": "code",
   "execution_count": 72,
   "id": "198c9165",
   "metadata": {},
   "outputs": [],
   "source": [
    "pipes_started = pipes_df.copy()\n",
    "pipes_started['StartYearLatest'].replace(numpy.nan,'',inplace=True)\n",
    "pipes_started = pipes_started[(pipes_started['Status'].isin(['Operating'])) &\n",
    "                              (pipes_started['Fuel']=='Gas')]\n",
    "pipes_started_sum = pipes_started.groupby('StartYearLatest')['LengthMergedKm'].sum()"
   ]
  },
  {
   "cell_type": "code",
   "execution_count": 73,
   "id": "b944ca0c-f362-4d07-a142-78b1523e988d",
   "metadata": {},
   "outputs": [],
   "source": [
    "pipes_indev = pipes_df.copy()\n",
    "pipes_indev = pipes_indev[pipes_indev['Fuel']=='Gas']\n",
    "pipes_indev = pipes_indev.groupby('Status')['LengthMergedKm'].sum()"
   ]
  },
  {
   "cell_type": "code",
   "execution_count": 74,
   "id": "85db4fc0",
   "metadata": {},
   "outputs": [
    {
     "data": {
      "text/plain": [
       "Text(0.5, 1.0, 'gas pipelines (km) by start year')"
      ]
     },
     "execution_count": 74,
     "metadata": {},
     "output_type": "execute_result"
    },
    {
     "data": {
      "image/png": "[encoded data removed]",
      "text/plain": [
       "<Figure size 720x360 with 1 Axes>"
      ]
     },
     "metadata": {
      "needs_background": "light"
     },
     "output_type": "display_data"
    }
   ],
   "source": [
    "font_size = 14\n",
    "\n",
    "fig = mp.figure(figsize=(10,5))\n",
    "ax = fig.add_subplot(111)\n",
    "\n",
    "ax.bar(pipes_started_sum.index.values[:-1], pipes_started_sum.values[:-1],\n",
    "       color=solar_base03, edgecolor=solar_base03)\n",
    "ax.tick_params(labelsize=font_size)\n",
    "ax.set_xlabel('start year', size=font_size)\n",
    "ax.set_ylabel('km', size=font_size)\n",
    "\n",
    "ax.set_xlim(1999.5, 2021.5)\n",
    "ax.set_ylim(0, 30000)\n",
    "\n",
    "ax.xaxis.set_major_locator(matplotlib.ticker.MaxNLocator(integer=True))\n",
    "\n",
    "ax.set_title('gas pipelines (km) by start year', size=font_size)"
   ]
  },
  {
   "cell_type": "code",
   "execution_count": 75,
   "id": "9a0061ad",
   "metadata": {},
   "outputs": [
    {
     "data": {
      "text/plain": [
       "Text(0.5, 1.0, 'gas pipelines (km) by start year')"
      ]
     },
     "execution_count": 75,
     "metadata": {},
     "output_type": "execute_result"
    },
    {
     "data": {
      "image/png": "[encoded data removed]",
      "text/plain": [
       "<Figure size 720x360 with 1 Axes>"
      ]
     },
     "metadata": {
      "needs_background": "light"
     },
     "output_type": "display_data"
    }
   ],
   "source": [
    "font_size = 14\n",
    "\n",
    "fig = mp.figure(figsize=(10,5))\n",
    "ax = fig.add_subplot(111)\n",
    "\n",
    "ax.bar(pipes_started_sum.index.values[:-1], pipes_started_sum.values[:-1],\n",
    "       color=solar_base03, edgecolor=solar_base03)\n",
    "ax.tick_params(labelsize=font_size)\n",
    "ax.set_xlabel('start year', size=font_size)\n",
    "ax.set_ylabel('km', size=font_size)\n",
    "\n",
    "ax.set_xlim(1899.5, 2021.5)\n",
    "ax.set_ylim(0, 35000)\n",
    "\n",
    "ax.plot(pipes_started_sum.index.values[:-6], \n",
    "        pipes_started_sum.rolling(10, center=True).mean().values[:-6],\n",
    "       c=solar_orange, lw=5)\n",
    "\n",
    "ax.plot(pipes_started_sum.index.values[-7:-1], \n",
    "        pipes_started_sum.rolling(10, center=True, win_type='exponential').mean().values[-7:-1],\n",
    "       c=solar_orange, lw=5)\n",
    "\n",
    "# ax.plot(pipes_started_sum.index.values[-7:-3], pipes_started_sum.values[-7:-3],\n",
    "#        c=solar_orange, lw=5)\n",
    "\n",
    "ax.set_title('gas pipelines (km) by start year', size=font_size)"
   ]
  },
  {
   "cell_type": "code",
   "execution_count": 76,
   "id": "36e3c80c",
   "metadata": {},
   "outputs": [
    {
     "data": {
      "text/plain": [
       "Text(0.5, 1.0, 'gas pipelines (km) by start year')"
      ]
     },
     "execution_count": 76,
     "metadata": {},
     "output_type": "execute_result"
    },
    {
     "data": {
      "image/png": "[encoded data removed]",
      "text/plain": [
       "<Figure size 720x360 with 2 Axes>"
      ]
     },
     "metadata": {
      "needs_background": "light"
     },
     "output_type": "display_data"
    }
   ],
   "source": [
    "font_size = 14\n",
    "\n",
    "fig = mp.figure(figsize=(10,5))\n",
    "ax = fig.add_subplot(111)\n",
    "\n",
    "ax.bar(pipes_started_sum.index.values[:-1], pipes_started_sum.values[:-1],\n",
    "       color=solar_base03, edgecolor=solar_base03)\n",
    "ax.tick_params(labelsize=font_size)\n",
    "ax.set_xlabel('start year', size=font_size)\n",
    "ax.set_ylabel('km', size=font_size)\n",
    "\n",
    "ax.set_xlim(1995.5, 2021.5)\n",
    "ax.set_ylim(0, 40000)\n",
    "ax.xaxis.set_major_locator(matplotlib.ticker.MaxNLocator(integer=True))\n",
    "ax.set_xticks([1996]+list(range(2000,2022,3)))\n",
    "\n",
    "fig.tight_layout()\n",
    "ax_pos = ax.get_position()\n",
    "ax2 = fig.add_axes([0.666,0.66,0.3,0.27])\n",
    "\n",
    "ax2.bar(pipes_started_sum.index.values[:-1], pipes_started_sum.values[:-1],\n",
    "       color=solar_base03, edgecolor=solar_base03)\n",
    "ax2.tick_params(labelsize=font_size)\n",
    "#ax2.set_xlabel('start year', size=font_size)\n",
    "#ax2.set_ylabel('km', size=font_size)\n",
    "\n",
    "ax2.axvspan(2000,2021.5, alpha=0.5, color=solar_orange, zorder=0)\n",
    "\n",
    "ax2.set_xlim(1899.5, 2021.5)\n",
    "ax2.set_ylim(0, 35000)\n",
    "ax2.set_yticks([10000,20000,30000])\n",
    "\n",
    "ax.set_title('gas pipelines (km) by start year', size=font_size)"
   ]
  },
  {
   "cell_type": "markdown",
   "id": "0cd704f6-8d6b-4876-b1c2-f65f512a998d",
   "metadata": {},
   "source": [
    "## 2016 onward plots"
   ]
  },
  {
   "cell_type": "code",
   "execution_count": 77,
   "id": "f8146e37-43a2-44a2-9eee-a25583acbc17",
   "metadata": {},
   "outputs": [
    {
     "data": {
      "text/plain": [
       "Text(0.5, 1.0, 'gas pipelines (km) by start year')"
      ]
     },
     "execution_count": 77,
     "metadata": {},
     "output_type": "execute_result"
    },
    {
     "data": {
      "image/png": "[encoded data removed]",
      "text/plain": [
       "<Figure size 360x360 with 2 Axes>"
      ]
     },
     "metadata": {
      "needs_background": "light"
     },
     "output_type": "display_data"
    }
   ],
   "source": [
    "font_size = 14\n",
    "\n",
    "ytop = 125000\n",
    "\n",
    "fig = mp.figure(figsize=(5,5))\n",
    "ax = fig.add_subplot(111)\n",
    "\n",
    "axpos = ax.get_position()\n",
    "ax.bar(pipes_started_sum.index.values[:-1], pipes_started_sum.values[:-1],\n",
    "       color=solar_base03, edgecolor=solar_base03, label='Operating')\n",
    "ax.tick_params(labelsize=font_size)\n",
    "ax.set_xlabel('start year', size=font_size)\n",
    "ax.set_ylabel('km', size=font_size)\n",
    "\n",
    "ax.set_xlim(2015.5, 2021.5)\n",
    "ax.set_ylim(0, ytop)\n",
    "\n",
    "ax.xaxis.set_major_locator(matplotlib.ticker.MaxNLocator(integer=True))\n",
    "\n",
    "\n",
    "\n",
    "ax2 = fig.add_axes([axpos.x1+0.03, axpos.y0, 0.25*(axpos.x1-axpos.x0), axpos.y1-axpos.y0])\n",
    "ax2.set_ylim(0, ytop)\n",
    "ax2.set_xlim(0.25,3.75)\n",
    "ax2pos = ax2.get_position()\n",
    "\n",
    "xvals = [1,2,3]\n",
    "colors = [solar_yellow, solar_orange, '0.75']\n",
    "status = ['Proposed','Construction', 'Shelved']\n",
    "ax2_list = []\n",
    "for x,c,s in zip(xvals,colors,status):\n",
    "    ax2_list.append(ax2.bar(x, pipes_indev[s],\n",
    "             width=0.9, color=c, label=s))\n",
    "\n",
    "ax_h, ax_l = ax.get_legend_handles_labels()\n",
    "ax2_h, ax2_l = ax2.get_legend_handles_labels()\n",
    "\n",
    "ax2.set_yticklabels([])\n",
    "ax2.set_xticklabels([])\n",
    "ax2.set_xticks([])\n",
    "\n",
    "ax.legend(handles=ax_h+ax2_h, fontsize=font_size, frameon=False)\n",
    "\n",
    "\n",
    "ax.set_title('gas pipelines (km) by start year', size=font_size)"
   ]
  },
  {
   "cell_type": "markdown",
   "id": "551ea627",
   "metadata": {
    "tags": []
   },
   "source": [
    "## trend line calculation?"
   ]
  },
  {
   "cell_type": "code",
   "execution_count": null,
   "id": "9e166d12",
   "metadata": {},
   "outputs": [],
   "source": []
  },
  {
   "cell_type": "markdown",
   "id": "030b3d4e",
   "metadata": {},
   "source": [
    "## extend into future"
   ]
  },
  {
   "cell_type": "code",
   "execution_count": 78,
   "id": "530ea832",
   "metadata": {},
   "outputs": [],
   "source": [
    "pipes_indev_future = pipes_df.copy()[pipes_df['Fuel']=='Gas']\n",
    "pipes_indev_future['StartYearLatest'].replace(numpy.nan,'') # originally '--' became NaN\n",
    "\n",
    "# construction\n",
    "pipes_indev_future_const = pipes_indev_future.copy()[pipes_indev_future['Status'].isin(['Construction'])]\n",
    "pipes_indev_future_const['StartYearLatest'] = pipes_indev_future_const['StartYearLatest'].replace(numpy.nan,'')\n",
    "pipes_indev_future_const_sum = pipes_indev_future_const.groupby('StartYearLatest')['LengthMergedKm'].sum()\n",
    "\n",
    "# proposed\n",
    "pipes_indev_future_prop = pipes_indev_future.copy()[pipes_indev_future['Status'].isin(['Proposed'])]\n",
    "pipes_indev_future_prop['StartYearLatest'] = pipes_indev_future_prop['StartYearLatest'].replace(numpy.nan,'')\n",
    "pipes_indev_future_prop_sum = pipes_indev_future_prop.groupby('StartYearLatest')['LengthMergedKm'].sum()"
   ]
  },
  {
   "cell_type": "code",
   "execution_count": 79,
   "id": "1bbf66d9",
   "metadata": {},
   "outputs": [],
   "source": [
    "year_list_past_future = list(set(list(pipes_indev_future_const_sum.index)+\n",
    "                                 list(pipes_indev_future_prop_sum.index)+\n",
    "                                 list(pipes_started_sum.index)))\n",
    "# remove the empty string\n",
    "#year_list_past_future.remove('')\n",
    "\n",
    "past_future_sums_df = pandas.DataFrame(index=year_list_past_future, columns=['Operating','Construction','Proposed'])\n",
    "\n",
    "past_future_sums_df['Operating'] = pipes_started_sum\n",
    "past_future_sums_df['Construction'] = pipes_indev_future_const_sum\n",
    "past_future_sums_df['Proposed'] = pipes_indev_future_prop_sum\n",
    "#past_future_sums_df.replace(numpy.nan, 0, inplace=True)\n",
    "\n",
    "# distribute the remainder over the next N years\n",
    "\n",
    "nyears = 5\n",
    "construction_remainder = past_future_sums_df.loc['']['Construction']/nyears\n",
    "proposed_remainder = past_future_sums_df.loc['']['Proposed']/nyears\n",
    "\n",
    "# add to past_future_sums_df\n",
    "past_future_sums_df['Construction Remainder'] = numpy.nan\n",
    "past_future_sums_df['Proposed Remainder'] = numpy.nan\n",
    "\n",
    "past_future_sums_df['Construction Remainder'].loc[list(range(2022,2022+nyears))] = construction_remainder/nyears\n",
    "past_future_sums_df['Proposed Remainder'].loc[list(range(2022,2022+nyears))] = proposed_remainder/nyears"
   ]
  },
  {
   "cell_type": "code",
   "execution_count": 80,
   "id": "2b9471c9",
   "metadata": {},
   "outputs": [
    {
     "data": {
      "text/plain": [
       "<matplotlib.legend.Legend at 0x141f2d6d0>"
      ]
     },
     "execution_count": 80,
     "metadata": {},
     "output_type": "execute_result"
    },
    {
     "data": {
      "image/png": "[encoded data removed]",
      "text/plain": [
       "<Figure size 720x360 with 1 Axes>"
      ]
     },
     "metadata": {
      "needs_background": "light"
     },
     "output_type": "display_data"
    }
   ],
   "source": [
    "font_size = 14\n",
    "\n",
    "fig = mp.figure(figsize=(10,5))\n",
    "ax = fig.add_subplot(111)\n",
    "\n",
    "ax.bar(past_future_sums_df.index.values[1:], past_future_sums_df['Operating'].values[1:],\n",
    "       color=solar_base03, edgecolor=solar_base03, label='Operating')\n",
    "ax.tick_params(labelsize=font_size)\n",
    "ax.set_xlabel('start year', size=font_size)\n",
    "ax.set_ylabel('km', size=font_size)\n",
    "\n",
    "ax.bar(past_future_sums_df.index.values[1:], past_future_sums_df['Construction'].values[1:],\n",
    "       color=solar_orange, edgecolor=solar_orange, bottom=past_future_sums_df['Operating'].replace(numpy.nan,0).values[1:], \n",
    "       label='Construction')\n",
    "ax.tick_params(labelsize=font_size)\n",
    "ax.set_xlabel('start year', size=font_size)\n",
    "ax.set_ylabel('km', size=font_size)\n",
    "\n",
    "ax.bar(past_future_sums_df.index.values[1:], past_future_sums_df['Proposed'].values[1:],\n",
    "       color=solar_orange, edgecolor=solar_orange, alpha=0.5,\n",
    "       bottom=past_future_sums_df[['Operating','Construction']].sum(axis=1).values[1:],\n",
    "       label='Proposed')\n",
    "\n",
    "ax.bar(past_future_sums_df.index.values[1:], past_future_sums_df['Construction Remainder'].values[1:],\n",
    "       edgecolor=solar_orange, facecolor='None', alpha=1,\n",
    "       bottom=past_future_sums_df[['Operating','Construction','Proposed']].sum(axis=1).values[1:],\n",
    "       label='Construction remainder')\n",
    "\n",
    "ax.bar(past_future_sums_df.index.values[1:], past_future_sums_df['Proposed Remainder'].values[1:],\n",
    "       edgecolor=solar_orange, facecolor='None', alpha=1, linestyle='--',\n",
    "       bottom=past_future_sums_df[['Operating','Construction','Proposed','Construction Remainder']].sum(axis=1).values[1:],\n",
    "       label='Proposed remainder')\n",
    "\n",
    "ax.tick_params(labelsize=font_size)\n",
    "ax.set_xlabel('start year', size=font_size)\n",
    "ax.set_ylabel('km', size=font_size)\n",
    "\n",
    "ax.set_xlim(1995.5, 2046.5)\n",
    "ax.set_ylim(0, 40000)\n",
    "\n",
    "ax.set_title('gas pipelines (km) by start year', size=font_size)\n",
    "\n",
    "ax.legend(fontsize=font_size, frameon=False)"
   ]
  },
  {
   "cell_type": "code",
   "execution_count": 81,
   "id": "09ecf9e3",
   "metadata": {},
   "outputs": [
    {
     "data": {
      "text/plain": [
       "<matplotlib.legend.Legend at 0x140e25b50>"
      ]
     },
     "execution_count": 81,
     "metadata": {},
     "output_type": "execute_result"
    },
    {
     "data": {
      "image/png": "[encoded data removed]",
      "text/plain": [
       "<Figure size 720x360 with 1 Axes>"
      ]
     },
     "metadata": {
      "needs_background": "light"
     },
     "output_type": "display_data"
    }
   ],
   "source": [
    "font_size = 14\n",
    "\n",
    "fig = mp.figure(figsize=(10,5))\n",
    "ax = fig.add_subplot(111)\n",
    "\n",
    "ax.bar(past_future_sums_df.index.values[1:], past_future_sums_df['Operating'].values[1:],\n",
    "       color=solar_base03, edgecolor=solar_base03, label='Operating')\n",
    "ax.tick_params(labelsize=font_size)\n",
    "ax.set_xlabel('start year', size=font_size)\n",
    "ax.set_ylabel('km', size=font_size)\n",
    "\n",
    "ax.bar(past_future_sums_df.index.values[1:], past_future_sums_df['Construction'].values[1:],\n",
    "       color=solar_orange, edgecolor=solar_orange, bottom=past_future_sums_df['Operating'].replace(numpy.nan,0).values[1:], \n",
    "       label='Construction')\n",
    "ax.tick_params(labelsize=font_size)\n",
    "ax.set_xlabel('start year', size=font_size)\n",
    "ax.set_ylabel('km', size=font_size)\n",
    "\n",
    "ax.bar(past_future_sums_df.index.values[1:], past_future_sums_df['Proposed'].values[1:],\n",
    "       color=solar_orange, edgecolor=solar_orange, alpha=0.5,\n",
    "       bottom=past_future_sums_df[['Operating','Construction']].sum(axis=1).values[1:],\n",
    "       label='Proposed')\n",
    "\n",
    "ax.bar(past_future_sums_df.index.values[1:], past_future_sums_df['Construction Remainder'].values[1:],\n",
    "       edgecolor=solar_orange, facecolor='None', alpha=1,\n",
    "       bottom=past_future_sums_df[['Operating','Construction','Proposed']].sum(axis=1).values[1:],\n",
    "       label='Construction remainder')\n",
    "\n",
    "ax.bar(past_future_sums_df.index.values[1:], past_future_sums_df['Proposed Remainder'].values[1:],\n",
    "       edgecolor=solar_orange, facecolor='None', alpha=1, linestyle='--',\n",
    "       bottom=past_future_sums_df[['Operating','Construction','Proposed','Construction Remainder']].sum(axis=1).values[1:],\n",
    "       label='Proposed remainder')\n",
    "\n",
    "ax.tick_params(labelsize=font_size)\n",
    "ax.set_xlabel('start year', size=font_size)\n",
    "ax.set_ylabel('km', size=font_size)\n",
    "\n",
    "ax.set_xlim(1995.5, 2026.5)\n",
    "ax.set_ylim(0, 40000)\n",
    "\n",
    "ax.set_title('gas pipelines (km) by start year', size=font_size)\n",
    "\n",
    "ax.legend(fontsize=font_size, frameon=False, loc='upper center', ncol=2)"
   ]
  },
  {
   "cell_type": "markdown",
   "id": "11e2ab06",
   "metadata": {},
   "source": [
    "## regions list, country list"
   ]
  },
  {
   "cell_type": "code",
   "execution_count": 82,
   "id": "a67de70c",
   "metadata": {},
   "outputs": [],
   "source": [
    "regions_list = sorted(list(set(pipes_df['StartRegion'].dropna())))\n",
    "country_list = sorted(list(set(country_ratios['Country'])))"
   ]
  },
  {
   "cell_type": "markdown",
   "id": "358e0310",
   "metadata": {},
   "source": [
    "## regional pipelines started in given year"
   ]
  },
  {
   "cell_type": "code",
   "execution_count": 83,
   "id": "bc05d721",
   "metadata": {},
   "outputs": [],
   "source": [
    "years_array = numpy.arange( float(pipes_df['StartYearLatest'].min()), float(pipes_df['StartYearLatest'].max())+1)\n",
    "regions_startyear_sums_df = pandas.DataFrame(numpy.nan, index=years_array, columns=regions_list)"
   ]
  },
  {
   "cell_type": "code",
   "execution_count": 84,
   "id": "b1fca66b",
   "metadata": {},
   "outputs": [],
   "source": [
    "#pipes_started = pipes_df.copy()[(pipes_df['Status'].isin(['Operating'])) & pipes_df['Fuel']=='Gas']\n",
    "#pipes_started_sum = pipes_started.groupby('StartYearLatest')['LengthMergedKm'].sum()\n",
    "\n",
    "for region in regions_list:\n",
    "    pipes_started = pipes_df.copy()[(pipes_df['Status'].isin(['Operating','Retired','Idle'])) & \n",
    "                                    (pipes_df['Fuel']=='Gas')]\n",
    "    pipes_started = pipes_started[pipes_started['StartRegion']==region]\n",
    "    pipes_started_sum = pipes_started.groupby('StartYearLatest')['LengthMergedKm'].sum()\n",
    "    \n",
    "    regions_startyear_sums_df[region] = pipes_started_sum"
   ]
  },
  {
   "cell_type": "code",
   "execution_count": 85,
   "id": "e4a6cdd8",
   "metadata": {},
   "outputs": [
    {
     "data": {
      "text/plain": [
       "Text(48.0, 0.5, 'km')"
      ]
     },
     "execution_count": 85,
     "metadata": {},
     "output_type": "execute_result"
    },
    {
     "data": {
      "image/png": "[encoded data removed]",
      "text/plain": [
       "<Figure size 720x720 with 10 Axes>"
      ]
     },
     "metadata": {
      "needs_background": "light"
     },
     "output_type": "display_data"
    }
   ],
   "source": [
    "font_size = 14\n",
    "\n",
    "fig = mp.figure(figsize=(10,10))#, constrained_layout=True)\n",
    "\n",
    "ax_list = []\n",
    "\n",
    "# plot the regional trends\n",
    "for idx,region in enumerate(regions_list):\n",
    "    ax = fig.add_subplot(5,2,idx+1)\n",
    "    \n",
    "    ax_list.append(ax)\n",
    "    ax.bar(regions_startyear_sums_df.index.values[:-1], regions_startyear_sums_df[region].values[:-1],\n",
    "           color=solar_base03, edgecolor=solar_base03)\n",
    "    #ax.tick_params(labelsize=font_size)\n",
    "    #ax.set_xlabel('start year', size=font_size)\n",
    "    #ax.set_ylabel('km', size=font_size)\n",
    "\n",
    "    ax.set_xlim(1995.5, 2021.5)\n",
    "    ax.set_ylim(0, numpy.nanmean(regions_startyear_sums_df[region].values[:-1])*3)\n",
    "\n",
    "    ax.text(x=0.98, y=0.95, s=region, transform=ax.transAxes, c=solar_red, size=12, ha='right', va='top')\n",
    "    ax.tick_params(labelsize=font_size)\n",
    "\n",
    "#ax.set_title('gas pipelines (km) by start year', size=font_size)\n",
    "fig.tight_layout()\n",
    "\n",
    "ax5 = ax_list[4]\n",
    "ax5.set_ylabel('km', fontsize=font_size)"
   ]
  },
  {
   "cell_type": "raw",
   "id": "bf05c10e",
   "metadata": {},
   "source": [
    "font_size = 14\n",
    "\n",
    "fig = mp.figure(figsize=(10,10))#, constrained_layout=True)\n",
    "\n",
    "ax_list = []\n",
    "\n",
    "fig_spec = fig.add_gridspec(ncols=4, nrows=5, width_ratios=[2,1,2,1], height_ratios=[1,1,1,1,1])\n",
    "row_indices = [0,0,1,1,2,2,3,3,4,4]\n",
    "col_indices = [0,2,0,2,0,2,0,2,0,2]\n",
    "\n",
    "# plot the regional trends\n",
    "for idx,region in enumerate(regions_list):\n",
    "    row_idx = row_indices[idx]\n",
    "    col_idx = col_indices[idx]\n",
    "    print(row_idx,col_idx)\n",
    "    ax = fig.add_subplot(fig_spec[row_idx,col_idx])\n",
    "    \n",
    "    #ax_list.append(ax)\n",
    "    ax.bar(regions_startyear_sums_df.index.values[:-1], regions_startyear_sums_df[region].values[:-1],\n",
    "           color=solar_base03, edgecolor=solar_base03)\n",
    "    #ax.tick_params(labelsize=font_size)\n",
    "    #ax.set_xlabel('start year', size=font_size)\n",
    "    #ax.set_ylabel('km', size=font_size)\n",
    "\n",
    "    ax.set_xlim(1995.5, 2021.5)\n",
    "    ax.set_ylim(0, numpy.nanmean(regions_startyear_sums_df[region].values[:-1])*3)\n",
    "\n",
    "    ax.text(x=0.98, y=0.95, s=region, transform=ax.transAxes, c=solar_red, size=12, ha='right', va='top')\n",
    "    ax.tick_params(labelsize=font_size)\n",
    "\n",
    "row_indices = [0,0,1,1,2,2,3,3,4,4]\n",
    "col_indices = [1,3,1,3,1,3,1,3,1,3]\n",
    "for idx,region in enumerate(regions_list):\n",
    "    row_idx = row_indices[idx]\n",
    "    col_idx = col_indices[idx]\n",
    "    print(row_idx,col_idx)\n",
    "    ax = fig.add_subplot(fig_spec[row_idx,col_idx])\n",
    "    \n",
    "    ax.bar(regions_startyear_sums_df.index.values[:-1], regions_startyear_sums_df[region].values[:-1],\n",
    "           color=solar_base03, edgecolor=solar_base03)\n",
    "\n",
    "    ax.set_xlim(1995.5, 2021.5)\n",
    "    ax.set_ylim(0, numpy.nanmean(regions_startyear_sums_df[region].values[:-1])*3)\n",
    "\n",
    "    ax.text(x=0.98, y=0.95, s=region, transform=ax.transAxes, c=solar_red, size=12, ha='right', va='top')\n",
    "    ax.tick_params(labelsize=font_size)\n",
    "\n",
    "# now plot the other stuff\n",
    "\n",
    "#ax.set_title('gas pipelines (km) by start year', size=font_size)\n",
    "fig.tight_layout()\n",
    "\n",
    "#ax5 = ax_list[4]\n",
    "#ax5.set_ylabel('km', fontsize=font_size)"
   ]
  },
  {
   "cell_type": "markdown",
   "id": "d69ad750",
   "metadata": {
    "tags": []
   },
   "source": [
    "# calculate km by country, region"
   ]
  },
  {
   "cell_type": "raw",
   "id": "d0f29bfc-9d55-42ec-8241-ca3bef7f941f",
   "metadata": {},
   "source": [
    "km_by_region_df = pandas.DataFrame(0, index=region_list, columns=status_list)\n",
    "km_by_country_df = pandas.DataFrame(0, index=country_list, columns=status_list)\n",
    "\n",
    "country_ratios_gas = country_ratios[country_ratios['Fuel']=='Gas']\n",
    "\n",
    "for status in status_list:\n",
    "    country_ratios_gas_subset = country_ratios_gas[country_ratios_gas['Status']==status]\n",
    "    km_by_region_df[status] = country_ratios_gas_subset.groupby('Region')['MergedKmByCountry'].sum()\n",
    "    km_by_country_df[status] = country_ratios_gas_subset.groupby('Country')['MergedKmByCountry'].sum()"
   ]
  },
  {
   "cell_type": "markdown",
   "id": "51439e0e",
   "metadata": {},
   "source": [
    "## plot regional Proposed and Construction bar plots"
   ]
  },
  {
   "cell_type": "code",
   "execution_count": 86,
   "id": "1bf1a630",
   "metadata": {},
   "outputs": [
    {
     "data": {
      "text/plain": [
       "<matplotlib.legend.Legend at 0x143d8c880>"
      ]
     },
     "execution_count": 86,
     "metadata": {},
     "output_type": "execute_result"
    },
    {
     "data": {
      "image/png": "[encoded data removed]",
      "text/plain": [
       "<Figure size 576x360 with 1 Axes>"
      ]
     },
     "metadata": {
      "needs_background": "light"
     },
     "output_type": "display_data"
    }
   ],
   "source": [
    "font_size = 14\n",
    "fig = mp.figure(figsize=(8,5))\n",
    "\n",
    "nbars = region_list.__len__()\n",
    "region_order = km_by_region_df.index[:nbars][::-1]\n",
    "ax = fig.add_subplot(111)\n",
    "ax.barh(numpy.arange(nbars), \n",
    "        km_by_region_df.loc[region_order]['Proposed'].values, facecolor='#b58900', label='Proposed')\n",
    "        \n",
    "ax.barh(numpy.arange(nbars), \n",
    "        km_by_region_df.loc[region_order]['Construction'].values, \n",
    "        left=km_by_region_df.loc[region_order]['Proposed'].values, facecolor='#cb4b16', label='Construction')\n",
    "        \n",
    "ax.barh(numpy.arange(nbars), \n",
    "        km_by_region_df.loc[region_order]['Shelved'].values, \n",
    "        left=km_by_region_df.loc[region_order]['Proposed+Construction'].values, facecolor='0.75', label='Shelved')\n",
    "        \n",
    "ax.barh(numpy.arange(nbars), \n",
    "        km_by_region_df['Cancelled'].values, \n",
    "        left=km_by_region_df.loc[region_order][['Proposed','Construction','Shelved']].sum(axis=1).values, facecolor='0.9', label='Cancelled')\n",
    "\n",
    "ax.set_yticks(numpy.arange(nbars))\n",
    "ax.set_yticklabels(km_by_region_df.loc[region_order].index)\n",
    "ax.tick_params(labelsize=font_size)\n",
    "\n",
    "ax.set_xlabel('km of gas pipeline', size=font_size)\n",
    "\n",
    "ax.legend(fontsize=font_size, frameon=False)"
   ]
  },
  {
   "cell_type": "markdown",
   "id": "51b0d74c",
   "metadata": {
    "tags": []
   },
   "source": [
    "# Russia, India, China plots"
   ]
  },
  {
   "cell_type": "code",
   "execution_count": 87,
   "id": "032aed89",
   "metadata": {},
   "outputs": [],
   "source": [
    "pipes_started = pipes_df[(pipes_df['Status'].isin(['Operating'])) & (pipes_df['Fuel']=='Gas')]\n",
    "pipes_started_sum_rus = pipes_started[pipes_started['Countries'].str.contains('Russia')].groupby('StartYear1')['LengthMergedKm'].sum()\n",
    "pipes_started_sum_chi = pipes_started[pipes_started['Countries'].str.contains('China')].groupby('StartYear1')['LengthMergedKm'].sum()\n",
    "pipes_started_sum_ind = pipes_started[pipes_started['Countries'].str.contains('India')].groupby('StartYear1')['LengthMergedKm'].sum()\n",
    "pipes_started_sum_usa = pipes_started[pipes_started['Countries'].str.contains('USA')].groupby('StartYear1')['LengthMergedKm'].sum()\n",
    "pipes_started_sum_aus = pipes_started[pipes_started['Countries'].str.contains('Australia')].groupby('StartYear1')['LengthMergedKm'].sum()\n",
    "pipes_started_sum_bra = pipes_started[pipes_started['Countries'].str.contains('Brazil')].groupby('StartYear1')['LengthMergedKm'].sum()\n"
   ]
  },
  {
   "cell_type": "code",
   "execution_count": 88,
   "id": "f34537b8",
   "metadata": {},
   "outputs": [],
   "source": [
    "start_year = 1950\n",
    "end_year = 2021\n",
    "window_length = end_year-start_year+1"
   ]
  },
  {
   "cell_type": "markdown",
   "id": "bae51489-7712-4074-a1d2-75eacb9f1265",
   "metadata": {},
   "source": [
    "### China"
   ]
  },
  {
   "cell_type": "code",
   "execution_count": 185,
   "id": "200e7b33",
   "metadata": {},
   "outputs": [
    {
     "data": {
      "text/plain": [
       "<matplotlib.legend.Legend at 0x1475649a0>"
      ]
     },
     "execution_count": 185,
     "metadata": {},
     "output_type": "execute_result"
    },
    {
     "data": {
      "image/png": "[encoded data removed]",
      "text/plain": [
       "<Figure size 360x360 with 2 Axes>"
      ]
     },
     "metadata": {
      "needs_background": "light"
     },
     "output_type": "display_data"
    }
   ],
   "source": [
    "font_size = 14\n",
    "ytop = 32500\n",
    "\n",
    "fig = mp.figure(figsize=(5,5))\n",
    "ax = fig.add_subplot(111)\n",
    "\n",
    "ax.bar(pipes_started_sum_chi.index[:-1], pipes_started_sum_chi.values[:-1],\n",
    "       color='0.2', edgecolor='0.2', label='Operating')\n",
    "ax_h, ax_l = ax.get_legend_handles_labels()\n",
    "\n",
    "ax.tick_params(labelsize=font_size)\n",
    "ax.set_xlabel('start year', size=font_size)\n",
    "ax.set_ylabel('km', size=font_size)\n",
    "\n",
    "ax.set_xlim(2015.5, 2021.5)\n",
    "ax.set_ylim(0, ytop)\n",
    "\n",
    "#ax.axhline(pipes_started_sum_chi.sum()/window_length, zorder=0, ls='--', c=solar_base1)\n",
    "ax.text(s=\"{:,.0f}\".format(pipes_started_sum_chi.sum())+\" km total\\noperating\", x=0.02, y=0.95, \n",
    "        ha='left', va='top', transform=ax.transAxes, fontsize=font_size)\n",
    "\n",
    "ax.set_title('gas pipelines (km) by start year - China', size=font_size)\n",
    "axpos = ax.get_position()\n",
    "ax2 = fig.add_axes([axpos.x1+0.03, axpos.y0, 0.25*(axpos.x1-axpos.x0), axpos.y1-axpos.y0])\n",
    "ax2.set_ylim(0, ytop)\n",
    "ax2.set_xlim(0.25,3.75)\n",
    "\n",
    "xvals = [1,2,3]\n",
    "colors = [solar_yellow, solar_orange, '0.75']\n",
    "status = ['Proposed','Construction', 'Shelved']\n",
    "ax2_list = []\n",
    "for x,c,s in zip(xvals,colors,status):\n",
    "    ax2_list.append(ax2.bar(x, km_by_country_df.loc['China'][s],\n",
    "             width=0.9, color=c, label=s))\n",
    "\n",
    "ax2_h, ax2_l = ax2.get_legend_handles_labels()\n",
    "\n",
    "ax2.set_yticklabels([])\n",
    "ax2.set_xticklabels([])\n",
    "ax2.set_xticks([])\n",
    "\n",
    "ax.legend(handles=ax_h+ax2_h, fontsize=font_size, frameon=False)"
   ]
  },
  {
   "cell_type": "markdown",
   "id": "f6a01e45-a954-4833-8884-b537018debcb",
   "metadata": {},
   "source": [
    "### India"
   ]
  },
  {
   "cell_type": "code",
   "execution_count": 186,
   "id": "dd3f3bb1",
   "metadata": {},
   "outputs": [
    {
     "data": {
      "text/plain": [
       "<matplotlib.legend.Legend at 0x14765ca90>"
      ]
     },
     "execution_count": 186,
     "metadata": {},
     "output_type": "execute_result"
    },
    {
     "data": {
      "image/png": "[encoded data removed]",
      "text/plain": [
       "<Figure size 360x360 with 2 Axes>"
      ]
     },
     "metadata": {
      "needs_background": "light"
     },
     "output_type": "display_data"
    }
   ],
   "source": [
    "font_size = 14\n",
    "ytop = 17500\n",
    "\n",
    "fig = mp.figure(figsize=(5,5))\n",
    "ax = fig.add_subplot(111)\n",
    "\n",
    "ax.bar(pipes_started_sum_ind.index[:-1], pipes_started_sum_ind.values[:-1],\n",
    "       color='0.2', edgecolor='0.2', label='Operating')\n",
    "ax_h, ax_l = ax.get_legend_handles_labels()\n",
    "\n",
    "ax.tick_params(labelsize=font_size)\n",
    "ax.set_xlabel('start year', size=font_size)\n",
    "ax.set_ylabel('km', size=font_size)\n",
    "\n",
    "ax.set_xlim(2015.5, 2021.5)\n",
    "ax.set_ylim(0, ytop)\n",
    "\n",
    "#ax.axhline(pipes_started_sum_ind.sum()/window_length, zorder=0, ls='--', c=solar_base1)\n",
    "ax.text(s=\"{:,.0f}\".format(pipes_started_sum_ind.sum())+\" km total\\noperating\", x=0.02, y=0.95, \n",
    "        ha='left', va='top', transform=ax.transAxes, fontsize=font_size)\n",
    "\n",
    "ax.set_title('gas pipelines (km) by start year - India', size=font_size)\n",
    "axpos = ax.get_position()\n",
    "ax2 = fig.add_axes([axpos.x1+0.03, axpos.y0, 0.25*(axpos.x1-axpos.x0), axpos.y1-axpos.y0])\n",
    "ax2.set_ylim(0, ytop)\n",
    "ax2.set_xlim(0.25,3.75)\n",
    "\n",
    "xvals = [1,2,3]\n",
    "colors = [solar_yellow, solar_orange, '0.75']\n",
    "status = ['Proposed','Construction', 'Shelved']\n",
    "ax2_list = []\n",
    "for x,c,s in zip(xvals,colors,status):\n",
    "    ax2_list.append(ax2.bar(x, km_by_country_df.loc['India'][s],\n",
    "             width=0.9, color=c, label=s))\n",
    "\n",
    "ax2_h, ax2_l = ax2.get_legend_handles_labels()\n",
    "\n",
    "ax2.set_yticklabels([])\n",
    "ax2.set_xticklabels([])\n",
    "ax2.set_xticks([])\n",
    "\n",
    "ax.legend(handles=ax_h+ax2_h, fontsize=font_size, frameon=False)"
   ]
  },
  {
   "cell_type": "markdown",
   "id": "e42575d8-5c5f-4c50-9d33-c9040a16c4c6",
   "metadata": {},
   "source": [
    "### USA"
   ]
  },
  {
   "cell_type": "code",
   "execution_count": 187,
   "id": "dca4f42f",
   "metadata": {},
   "outputs": [
    {
     "data": {
      "text/plain": [
       "<matplotlib.legend.Legend at 0x1477998b0>"
      ]
     },
     "execution_count": 187,
     "metadata": {},
     "output_type": "execute_result"
    },
    {
     "data": {
      "image/png": "[encoded data removed]",
      "text/plain": [
       "<Figure size 360x360 with 2 Axes>"
      ]
     },
     "metadata": {
      "needs_background": "light"
     },
     "output_type": "display_data"
    }
   ],
   "source": [
    "font_size = 14\n",
    "ytop = 10000\n",
    "\n",
    "fig = mp.figure(figsize=(5,5))\n",
    "ax = fig.add_subplot(111)\n",
    "\n",
    "ax.bar(pipes_started_sum_usa.index[:-1], pipes_started_sum_usa.values[:-1],\n",
    "       color='0.2', edgecolor='0.2', label='Operating')\n",
    "ax_h, ax_l = ax.get_legend_handles_labels()\n",
    "\n",
    "ax.tick_params(labelsize=font_size)\n",
    "ax.set_xlabel('start year', size=font_size)\n",
    "ax.set_ylabel('km', size=font_size)\n",
    "\n",
    "ax.set_xlim(2015.5, 2021.5)\n",
    "ax.set_ylim(0, ytop)\n",
    "\n",
    "#ax.axhline(pipes_started_sum_usa.sum()/window_length, zorder=0, ls='--', c=solar_base1)\n",
    "ax.text(s=\"{:,.0f}\".format(pipes_started_sum_usa.sum())+\" km total\\noperating\", x=0.02, y=0.95, \n",
    "        ha='left', va='top', transform=ax.transAxes, fontsize=font_size)\n",
    "\n",
    "ax.set_title('gas pipelines (km) by start year - USA', size=font_size)\n",
    "axpos = ax.get_position()\n",
    "ax2 = fig.add_axes([axpos.x1+0.03, axpos.y0, 0.25*(axpos.x1-axpos.x0), axpos.y1-axpos.y0])\n",
    "ax2.set_ylim(0, ytop)\n",
    "ax2.set_xlim(0.25,3.75)\n",
    "\n",
    "xvals = [1,2,3]\n",
    "colors = [solar_yellow, solar_orange, '0.75']\n",
    "status = ['Proposed','Construction', 'Shelved']\n",
    "ax2_list = []\n",
    "for x,c,s in zip(xvals,colors,status):\n",
    "    ax2_list.append(ax2.bar(x, km_by_country_df.loc['USA'][s],\n",
    "             width=0.9, color=c, label=s))\n",
    "\n",
    "ax2_h, ax2_l = ax2.get_legend_handles_labels()\n",
    "\n",
    "ax2.set_yticklabels([])\n",
    "ax2.set_xticklabels([])\n",
    "ax2.set_xticks([])\n",
    "\n",
    "ax.legend(handles=ax_h+ax2_h, fontsize=font_size, frameon=False)"
   ]
  },
  {
   "cell_type": "markdown",
   "id": "0e1dd6ba",
   "metadata": {},
   "source": [
    "### Russia"
   ]
  },
  {
   "cell_type": "code",
   "execution_count": 188,
   "id": "30fb2047",
   "metadata": {},
   "outputs": [
    {
     "data": {
      "text/plain": [
       "<matplotlib.legend.Legend at 0x1478cf9a0>"
      ]
     },
     "execution_count": 188,
     "metadata": {},
     "output_type": "execute_result"
    },
    {
     "data": {
      "image/png": "[encoded data removed]",
      "text/plain": [
       "<Figure size 360x360 with 2 Axes>"
      ]
     },
     "metadata": {
      "needs_background": "light"
     },
     "output_type": "display_data"
    }
   ],
   "source": [
    "font_size = 14\n",
    "ytop = 10000\n",
    "\n",
    "fig = mp.figure(figsize=(5,5))\n",
    "ax = fig.add_subplot(111)\n",
    "\n",
    "ax.bar(pipes_started_sum_rus.index[:-1], pipes_started_sum_rus.values[:-1],\n",
    "       color='0.2', edgecolor='0.2', label='Operating')\n",
    "ax_h, ax_l = ax.get_legend_handles_labels()\n",
    "\n",
    "ax.tick_params(labelsize=font_size)\n",
    "ax.set_xlabel('start year', size=font_size)\n",
    "ax.set_ylabel('km', size=font_size)\n",
    "\n",
    "ax.set_xlim(2015.5, 2021.5)\n",
    "ax.set_ylim(0, ytop)\n",
    "\n",
    "#ax.axhline(pipes_started_sum_rus.sum()/window_length, zorder=0, ls='--', c=solar_base1)\n",
    "ax.text(s=\"{:,.0f}\".format(pipes_started_sum_rus.sum())+\" km total\\noperating\", x=0.02, y=0.95, \n",
    "        ha='left', va='top', transform=ax.transAxes, fontsize=font_size)\n",
    "\n",
    "ax.set_title('gas pipelines (km) by start year - Russia', size=font_size)\n",
    "axpos = ax.get_position()\n",
    "ax2 = fig.add_axes([axpos.x1+0.03, axpos.y0, 0.25*(axpos.x1-axpos.x0), axpos.y1-axpos.y0])\n",
    "ax2.set_ylim(0, ytop)\n",
    "ax2.set_xlim(0.25,3.75)\n",
    "\n",
    "xvals = [1,2,3]\n",
    "colors = [solar_yellow, solar_orange, '0.75']\n",
    "status = ['Proposed','Construction', 'Shelved']\n",
    "ax2_list = []\n",
    "for x,c,s in zip(xvals,colors,status):\n",
    "    ax2_list.append(ax2.bar(x, km_by_country_df.loc['Russia'][s],\n",
    "             width=0.9, color=c, label=s))\n",
    "\n",
    "ax2_h, ax2_l = ax2.get_legend_handles_labels()\n",
    "\n",
    "ax2.set_yticklabels([])\n",
    "ax2.set_xticklabels([])\n",
    "ax2.set_xticks([])\n",
    "\n",
    "ax.legend(handles=ax_h+ax2_h, fontsize=font_size, frameon=False)"
   ]
  },
  {
   "cell_type": "markdown",
   "id": "f334c2aa",
   "metadata": {},
   "source": [
    "### Australia"
   ]
  },
  {
   "cell_type": "code",
   "execution_count": 189,
   "id": "12b37e40",
   "metadata": {},
   "outputs": [
    {
     "data": {
      "text/plain": [
       "<matplotlib.legend.Legend at 0x1479d33d0>"
      ]
     },
     "execution_count": 189,
     "metadata": {},
     "output_type": "execute_result"
    },
    {
     "data": {
      "image/png": "[encoded data removed]",
      "text/plain": [
       "<Figure size 360x360 with 2 Axes>"
      ]
     },
     "metadata": {
      "needs_background": "light"
     },
     "output_type": "display_data"
    }
   ],
   "source": [
    "font_size = 14\n",
    "ytop = 10000\n",
    "\n",
    "fig = mp.figure(figsize=(5,5))\n",
    "ax = fig.add_subplot(111)\n",
    "\n",
    "ax.bar(pipes_started_sum_aus.index[:-1], pipes_started_sum_aus.values[:-1],\n",
    "       color='0.2', edgecolor='0.2', label='Operating')\n",
    "ax_h, ax_l = ax.get_legend_handles_labels()\n",
    "\n",
    "ax.tick_params(labelsize=font_size)\n",
    "ax.set_xlabel('start year', size=font_size)\n",
    "ax.set_ylabel('km', size=font_size)\n",
    "\n",
    "ax.set_xlim(2015.5, 2021.5)\n",
    "ax.set_ylim(0, ytop)\n",
    "\n",
    "#ax.axhline(pipes_started_sum_aus.sum()/window_length, zorder=0, ls='--', c=solar_base1)\n",
    "ax.text(s=\"{:,.0f}\".format(pipes_started_sum_aus.sum())+\" km total\\noperating\", x=0.02, y=0.95, \n",
    "        ha='left', va='top', transform=ax.transAxes, fontsize=font_size)\n",
    "\n",
    "ax.set_title('gas pipelines (km) by start year - Australia', size=font_size)\n",
    "axpos = ax.get_position()\n",
    "ax2 = fig.add_axes([axpos.x1+0.03, axpos.y0, 0.25*(axpos.x1-axpos.x0), axpos.y1-axpos.y0])\n",
    "ax2.set_ylim(0, ytop)\n",
    "ax2.set_xlim(0.25,3.75)\n",
    "\n",
    "xvals = [1,2,3]\n",
    "colors = [solar_yellow, solar_orange, '0.75']\n",
    "status = ['Proposed','Construction', 'Shelved']\n",
    "ax2_list = []\n",
    "for x,c,s in zip(xvals,colors,status):\n",
    "    ax2_list.append(ax2.bar(x, km_by_country_df.loc['Australia'][s],\n",
    "             width=0.9, color=c, label=s))\n",
    "\n",
    "ax2_h, ax2_l = ax2.get_legend_handles_labels()\n",
    "\n",
    "ax2.set_yticklabels([])\n",
    "ax2.set_xticklabels([])\n",
    "ax2.set_xticks([])\n",
    "\n",
    "ax.legend(handles=ax_h+ax2_h, fontsize=font_size, frameon=False)"
   ]
  },
  {
   "cell_type": "markdown",
   "id": "50aa57be",
   "metadata": {},
   "source": [
    "### Brazil"
   ]
  },
  {
   "cell_type": "code",
   "execution_count": 190,
   "id": "d462574d",
   "metadata": {},
   "outputs": [
    {
     "data": {
      "text/plain": [
       "<matplotlib.legend.Legend at 0x147aaf550>"
      ]
     },
     "execution_count": 190,
     "metadata": {},
     "output_type": "execute_result"
    },
    {
     "data": {
      "image/png": "[encoded data removed]",
      "text/plain": [
       "<Figure size 360x360 with 2 Axes>"
      ]
     },
     "metadata": {
      "needs_background": "light"
     },
     "output_type": "display_data"
    }
   ],
   "source": [
    "font_size = 14\n",
    "ytop = 9000\n",
    "\n",
    "fig = mp.figure(figsize=(5,5))\n",
    "ax = fig.add_subplot(111)\n",
    "\n",
    "ax.bar(pipes_started_sum_bra.index[:-1], pipes_started_sum_bra.values[:-1],\n",
    "       color='0.2', edgecolor='0.2', label='Operating')\n",
    "ax_h, ax_l = ax.get_legend_handles_labels()\n",
    "\n",
    "ax.tick_params(labelsize=font_size)\n",
    "ax.set_xlabel('start year', size=font_size)\n",
    "ax.set_ylabel('km', size=font_size)\n",
    "\n",
    "ax.set_xlim(2015.5, 2021.5)\n",
    "ax.set_ylim(0, ytop)\n",
    "\n",
    "#ax.axhline(pipes_started_sum_bra.sum()/window_length, zorder=0, ls='--', c=solar_base1)\n",
    "ax.text(s=\"{:,.0f}\".format(pipes_started_sum_bra.sum())+\" km total\\noperating\", x=0.02, y=0.95, \n",
    "        ha='left', va='top', transform=ax.transAxes, fontsize=font_size)\n",
    "\n",
    "ax.set_title('gas pipelines (km) by start year - Brazil', size=font_size)\n",
    "axpos = ax.get_position()\n",
    "ax2 = fig.add_axes([axpos.x1+0.03, axpos.y0, 0.25*(axpos.x1-axpos.x0), axpos.y1-axpos.y0])\n",
    "ax2.set_ylim(0, ytop)\n",
    "ax2.set_xlim(0.25,3.75)\n",
    "\n",
    "xvals = [1,2,3]\n",
    "colors = [solar_yellow, solar_orange, '0.75']\n",
    "status = ['Proposed','Construction', 'Shelved']\n",
    "ax2_list = []\n",
    "for x,c,s in zip(xvals,colors,status):\n",
    "    ax2_list.append(ax2.bar(x, km_by_country_df.loc['Brazil'][s],\n",
    "             width=0.9, color=c, label=s))\n",
    "\n",
    "ax2_h, ax2_l = ax2.get_legend_handles_labels()\n",
    "\n",
    "ax2.set_yticklabels([])\n",
    "ax2.set_xticklabels([])\n",
    "ax2.set_xticks([])\n",
    "\n",
    "ax.legend(handles=ax_h+ax2_h, fontsize=font_size, frameon=False)"
   ]
  },
  {
   "cell_type": "markdown",
   "id": "712acc4e",
   "metadata": {},
   "source": [
    "# top 20 countries proposed+construction"
   ]
  },
  {
   "cell_type": "code",
   "execution_count": 169,
   "id": "3cdebc59",
   "metadata": {},
   "outputs": [
    {
     "data": {
      "image/png": "[encoded data removed]",
      "text/plain": [
       "<Figure size 576x576 with 1 Axes>"
      ]
     },
     "metadata": {
      "needs_background": "light"
     },
     "output_type": "display_data"
    }
   ],
   "source": [
    "font_size = 14\n",
    "fig = mp.figure(figsize=(8,8))\n",
    "nbars=20\n",
    "\n",
    "country_order = km_by_country_df.index[:nbars][::-1]\n",
    "\n",
    "ax = fig.add_subplot(111)\n",
    "\n",
    "ax.barh(numpy.arange(nbars), \n",
    "        km_by_country_df.loc[country_order]['Construction'].values, \n",
    "        facecolor=solar_orange, \n",
    "        label='Construction')\n",
    "\n",
    "ax.barh(numpy.arange(nbars), \n",
    "        km_by_country_df.loc[country_order]['Proposed'].values, \n",
    "        left=km_by_country_df.loc[country_order]['Construction'].values, \n",
    "        facecolor=solar_yellow, \n",
    "        label='Proposed')\n",
    "\n",
    "ax.barh(numpy.arange(nbars), \n",
    "        km_by_country_df.loc[country_order]['Shelved'].values, \n",
    "        left=km_by_country_df.loc[country_order][['Proposed','Construction']].sum(axis=1).values, \n",
    "        facecolor='0.75', \n",
    "        label='Shelved')\n",
    "\n",
    "ax.barh(numpy.arange(nbars), \n",
    "        km_by_country_df.loc[country_order]['Cancelled'].values, \n",
    "        left=km_by_country_df.loc[country_order][['Proposed','Construction','Shelved']].sum(axis=1).values, \n",
    "        facecolor='0.9', \n",
    "        label='Cancelled')\n",
    "\n",
    "ax.set_yticks(numpy.arange(nbars))\n",
    "ax.set_yticklabels(km_by_country_df.index[:nbars][::-1])\n",
    "ax.tick_params(labelsize=font_size)\n",
    "ax.set_xlim(0,60000)\n",
    "ax.set_ylim(-.75,19.75)\n",
    "ax.set_xlabel('km of gas pipeline', size=font_size)\n",
    "\n",
    "ax.legend(fontsize=font_size, frameon=False, loc='lower right')\n",
    "\n",
    "ax.spines['right'].set_visible(False)\n",
    "ax.spines['top'].set_visible(False)\n",
    "\n",
    "mp.savefig('saved-figures/Gas-Pipelines-Report-2022_top-20-countries.pdf', bbox_inches='tight', transparent=True)\n"
   ]
  },
  {
   "cell_type": "code",
   "execution_count": 96,
   "id": "3906d28f",
   "metadata": {},
   "outputs": [
    {
     "data": {
      "text/plain": [
       "3.0518165539120448"
      ]
     },
     "execution_count": 96,
     "metadata": {},
     "output_type": "execute_result"
    }
   ],
   "source": [
    "# ratio of China to India\n",
    "km_by_country_df.loc['China']['Proposed+Construction']/km_by_country_df.loc['India']['Proposed+Construction']"
   ]
  },
  {
   "cell_type": "markdown",
   "id": "fb98d85a",
   "metadata": {},
   "source": [
    "# cost estimates (pipeline cost per km)"
   ]
  },
  {
   "cell_type": "markdown",
   "id": "ff21443c",
   "metadata": {},
   "source": [
    "## looking for cost outliers"
   ]
  },
  {
   "cell_type": "code",
   "execution_count": 97,
   "id": "21afc38f",
   "metadata": {},
   "outputs": [],
   "source": [
    "outliers_projectids = ['P2509','P0173','P1297','P0174','P3188','P2551']"
   ]
  },
  {
   "cell_type": "code",
   "execution_count": 98,
   "id": "2dcd457f",
   "metadata": {},
   "outputs": [],
   "source": [
    "#pipes_cost_outliers_df = pipes_df[(pipes_df['Fuel']=='Gas') & (pipes_df['Countries'].str.contains('India'))]\n",
    "pipes_cost_outliers_df = pipes_df[(pipes_df['Fuel']=='Gas')]\n",
    "pipes_cost_outliers_df = pipes_cost_outliers_df[~pipes_cost_outliers_df.ProjectID.isin(outliers_projectids)]"
   ]
  },
  {
   "cell_type": "raw",
   "id": "8a6a04c5-3005-490e-9742-5789b2bf2bcd",
   "metadata": {},
   "source": [
    "pipes_cost_outliers_df.sort_values(by='CostUSDPerKm', ascending=False)"
   ]
  },
  {
   "cell_type": "raw",
   "id": "a1bae3c0",
   "metadata": {},
   "source": [
    "mp.scatter(pipes_cost_outliers_df['CostUSDPerKm'],pipes_cost_outliers_df['CostUSDPerKm'])"
   ]
  },
  {
   "cell_type": "markdown",
   "id": "5a53b0f7",
   "metadata": {},
   "source": [
    "## global costs - remove outliers"
   ]
  },
  {
   "cell_type": "code",
   "execution_count": 99,
   "id": "894b682f",
   "metadata": {},
   "outputs": [],
   "source": [
    "# pull out only pipelines that have a KNOWN length AND a cost\n",
    "pipes_gas_length_cost_df = pipes_df[(pipes_df['Fuel']=='Gas') & \n",
    "                                    (pipes_df['LengthKnownKm'].notna()) & \n",
    "                                    (pipes_df['CostMergedUSD'].notna()) \n",
    "                                   ]\n",
    "pipes_gas_length_cost_df = pipes_gas_length_cost_df[~pipes_gas_length_cost_df.ProjectID.isin(outliers_projectids)]"
   ]
  },
  {
   "cell_type": "markdown",
   "id": "a60996ff-c763-46a6-8576-cffa78c2fcbb",
   "metadata": {},
   "source": [
    "### global mean value"
   ]
  },
  {
   "cell_type": "code",
   "execution_count": 100,
   "id": "a36c8c61",
   "metadata": {},
   "outputs": [
    {
     "data": {
      "text/plain": [
       "2980277.205379136"
      ]
     },
     "execution_count": 100,
     "metadata": {},
     "output_type": "execute_result"
    }
   ],
   "source": [
    "pipes_gas_length_cost_df['CostMergedUSD'].mean()/pipes_gas_length_cost_df['LengthKnownKm'].mean()"
   ]
  },
  {
   "cell_type": "code",
   "execution_count": 101,
   "id": "96f55c50",
   "metadata": {},
   "outputs": [
    {
     "name": "stdout",
     "output_type": "stream",
     "text": [
      "Australia and New Zealand\n",
      "East Asia\n",
      "Eurasia\n",
      "Europe\n",
      "Latin America and the Caribbean\n",
      "Middle East and North Africa\n",
      "North America\n",
      "SE Asia\n",
      "South Asia\n",
      "Sub-Saharan Africa\n"
     ]
    }
   ],
   "source": [
    "pipes_gas_costs_region_df = pandas.DataFrame(0, index=region_list, columns=['CostUSDPerKm','NumberOfCosts','NumberOfLengths'])\n",
    "\n",
    "for region in region_list:\n",
    "    print(region)\n",
    "    region_subset = pipes_gas_length_cost_df[pipes_gas_length_cost_df['StartRegion']==region]\n",
    "    pipes_gas_costs_region_df.loc[region]['CostUSDPerKm'] = region_subset['CostMergedUSD'].mean()/region_subset['LengthKnownKm'].mean()\n",
    "    pipes_gas_costs_region_df.loc[region]['NumberOfCosts'] = region_subset[~region_subset['CostMergedUSD'].isnull()]['CostMergedUSD'].count()\n",
    "    pipes_gas_costs_region_df.loc[region]['NumberOfLengths'] = region_subset[~region_subset['LengthKnownKm'].isnull()]['LengthKnownKm'].count()\n",
    "    "
   ]
  },
  {
   "cell_type": "markdown",
   "id": "2ee2cb86",
   "metadata": {},
   "source": [
    "## regional cost breakdown"
   ]
  },
  {
   "cell_type": "code",
   "execution_count": 102,
   "id": "4a53b352",
   "metadata": {},
   "outputs": [
    {
     "data": {
      "text/html": [
       "<div>\n",
       "<style scoped>\n",
       "    .dataframe tbody tr th:only-of-type {\n",
       "        vertical-align: middle;\n",
       "    }\n",
       "\n",
       "    .dataframe tbody tr th {\n",
       "        vertical-align: top;\n",
       "    }\n",
       "\n",
       "    .dataframe thead th {\n",
       "        text-align: right;\n",
       "    }\n",
       "</style>\n",
       "<table border=\"1\" class=\"dataframe\">\n",
       "  <thead>\n",
       "    <tr style=\"text-align: right;\">\n",
       "      <th></th>\n",
       "      <th>CostUSDPerKm</th>\n",
       "      <th>NumberOfCosts</th>\n",
       "      <th>NumberOfLengths</th>\n",
       "    </tr>\n",
       "  </thead>\n",
       "  <tbody>\n",
       "    <tr>\n",
       "      <th>Australia and New Zealand</th>\n",
       "      <td>1310330</td>\n",
       "      <td>10</td>\n",
       "      <td>10</td>\n",
       "    </tr>\n",
       "    <tr>\n",
       "      <th>East Asia</th>\n",
       "      <td>1305235</td>\n",
       "      <td>59</td>\n",
       "      <td>59</td>\n",
       "    </tr>\n",
       "    <tr>\n",
       "      <th>Eurasia</th>\n",
       "      <td>4321143</td>\n",
       "      <td>17</td>\n",
       "      <td>17</td>\n",
       "    </tr>\n",
       "    <tr>\n",
       "      <th>Europe</th>\n",
       "      <td>2865836</td>\n",
       "      <td>75</td>\n",
       "      <td>75</td>\n",
       "    </tr>\n",
       "    <tr>\n",
       "      <th>Latin America and the Caribbean</th>\n",
       "      <td>1649314</td>\n",
       "      <td>24</td>\n",
       "      <td>24</td>\n",
       "    </tr>\n",
       "    <tr>\n",
       "      <th>Middle East and North Africa</th>\n",
       "      <td>2632225</td>\n",
       "      <td>11</td>\n",
       "      <td>11</td>\n",
       "    </tr>\n",
       "    <tr>\n",
       "      <th>North America</th>\n",
       "      <td>5047659</td>\n",
       "      <td>158</td>\n",
       "      <td>158</td>\n",
       "    </tr>\n",
       "    <tr>\n",
       "      <th>SE Asia</th>\n",
       "      <td>1728994</td>\n",
       "      <td>8</td>\n",
       "      <td>8</td>\n",
       "    </tr>\n",
       "    <tr>\n",
       "      <th>South Asia</th>\n",
       "      <td>882338</td>\n",
       "      <td>17</td>\n",
       "      <td>17</td>\n",
       "    </tr>\n",
       "    <tr>\n",
       "      <th>Sub-Saharan Africa</th>\n",
       "      <td>3601625</td>\n",
       "      <td>6</td>\n",
       "      <td>6</td>\n",
       "    </tr>\n",
       "  </tbody>\n",
       "</table>\n",
       "</div>"
      ],
      "text/plain": [
       "                                 CostUSDPerKm  NumberOfCosts  NumberOfLengths\n",
       "Australia and New Zealand             1310330             10               10\n",
       "East Asia                             1305235             59               59\n",
       "Eurasia                               4321143             17               17\n",
       "Europe                                2865836             75               75\n",
       "Latin America and the Caribbean       1649314             24               24\n",
       "Middle East and North Africa          2632225             11               11\n",
       "North America                         5047659            158              158\n",
       "SE Asia                               1728994              8                8\n",
       "South Asia                             882338             17               17\n",
       "Sub-Saharan Africa                    3601625              6                6"
      ]
     },
     "execution_count": 102,
     "metadata": {},
     "output_type": "execute_result"
    }
   ],
   "source": [
    "pipes_gas_costs_region_df"
   ]
  },
  {
   "cell_type": "markdown",
   "id": "4a9152b3",
   "metadata": {},
   "source": [
    "## for India, USA, China, Indonesia"
   ]
  },
  {
   "cell_type": "code",
   "execution_count": 103,
   "id": "2c01f7b5",
   "metadata": {},
   "outputs": [
    {
     "name": "stdout",
     "output_type": "stream",
     "text": [
      "India\n",
      "722174.6637899941\n",
      "Indonesia\n",
      "835137.5332741791\n",
      "China\n",
      "1293421.710564462\n",
      "USA\n",
      "4863572.775730859\n"
     ]
    }
   ],
   "source": [
    "print(\"India\")\n",
    "country_subset = pipes_gas_length_cost_df[pipes_gas_length_cost_df['Countries'].str.contains('India')]\n",
    "print(country_subset['CostMergedUSD'].mean()/country_subset['LengthKnownKm'].mean())\n",
    "print(\"Indonesia\")\n",
    "country_subset = pipes_gas_length_cost_df[pipes_gas_length_cost_df['Countries'].str.contains('Indonesia')]\n",
    "print(country_subset['CostMergedUSD'].mean()/country_subset['LengthKnownKm'].mean())\n",
    "print(\"China\")\n",
    "country_subset = pipes_gas_length_cost_df[pipes_gas_length_cost_df['Countries'].str.contains('China')]\n",
    "print(country_subset['CostMergedUSD'].mean()/country_subset['LengthKnownKm'].mean())\n",
    "print(\"USA\")\n",
    "country_subset = pipes_gas_length_cost_df[pipes_gas_length_cost_df['Countries'].str.contains('USA')]\n",
    "print(country_subset['CostMergedUSD'].mean()/country_subset['LengthKnownKm'].mean())"
   ]
  },
  {
   "cell_type": "markdown",
   "id": "c41fda91",
   "metadata": {},
   "source": [
    "## stranded asset calculations"
   ]
  },
  {
   "cell_type": "code",
   "execution_count": 104,
   "id": "df30b04e",
   "metadata": {},
   "outputs": [
    {
     "data": {
      "text/html": [
       "<div>\n",
       "<style scoped>\n",
       "    .dataframe tbody tr th:only-of-type {\n",
       "        vertical-align: middle;\n",
       "    }\n",
       "\n",
       "    .dataframe tbody tr th {\n",
       "        vertical-align: top;\n",
       "    }\n",
       "\n",
       "    .dataframe thead th {\n",
       "        text-align: right;\n",
       "    }\n",
       "</style>\n",
       "<table border=\"1\" class=\"dataframe\">\n",
       "  <thead>\n",
       "    <tr style=\"text-align: right;\">\n",
       "      <th></th>\n",
       "      <th>Proposed</th>\n",
       "      <th>Construction</th>\n",
       "      <th>Proposed+Construction</th>\n",
       "      <th>Shelved</th>\n",
       "      <th>Cancelled</th>\n",
       "      <th>Operating</th>\n",
       "      <th>Idle</th>\n",
       "      <th>Mothballed</th>\n",
       "      <th>Retired</th>\n",
       "    </tr>\n",
       "  </thead>\n",
       "  <tbody>\n",
       "    <tr>\n",
       "      <th>Australia and New Zealand</th>\n",
       "      <td>12.00</td>\n",
       "      <td>0.76</td>\n",
       "      <td>12.76</td>\n",
       "      <td>1.44</td>\n",
       "      <td>8.07</td>\n",
       "      <td>35.79</td>\n",
       "      <td>0.00</td>\n",
       "      <td>0.00</td>\n",
       "      <td>0.00</td>\n",
       "    </tr>\n",
       "    <tr>\n",
       "      <th>East Asia</th>\n",
       "      <td>42.32</td>\n",
       "      <td>34.39</td>\n",
       "      <td>76.71</td>\n",
       "      <td>1.36</td>\n",
       "      <td>1.36</td>\n",
       "      <td>120.28</td>\n",
       "      <td>0.00</td>\n",
       "      <td>0.00</td>\n",
       "      <td>0.05</td>\n",
       "    </tr>\n",
       "    <tr>\n",
       "      <th>Eurasia</th>\n",
       "      <td>50.06</td>\n",
       "      <td>21.99</td>\n",
       "      <td>72.04</td>\n",
       "      <td>11.55</td>\n",
       "      <td>28.71</td>\n",
       "      <td>603.98</td>\n",
       "      <td>0.00</td>\n",
       "      <td>0.83</td>\n",
       "      <td>11.03</td>\n",
       "    </tr>\n",
       "    <tr>\n",
       "      <th>Europe</th>\n",
       "      <td>42.38</td>\n",
       "      <td>15.44</td>\n",
       "      <td>57.82</td>\n",
       "      <td>3.65</td>\n",
       "      <td>45.30</td>\n",
       "      <td>333.90</td>\n",
       "      <td>0.00</td>\n",
       "      <td>0.00</td>\n",
       "      <td>3.09</td>\n",
       "    </tr>\n",
       "    <tr>\n",
       "      <th>Latin America and the Caribbean</th>\n",
       "      <td>20.18</td>\n",
       "      <td>0.89</td>\n",
       "      <td>21.07</td>\n",
       "      <td>5.70</td>\n",
       "      <td>36.55</td>\n",
       "      <td>71.46</td>\n",
       "      <td>0.00</td>\n",
       "      <td>0.37</td>\n",
       "      <td>0.00</td>\n",
       "    </tr>\n",
       "    <tr>\n",
       "      <th>Middle East and North Africa</th>\n",
       "      <td>11.56</td>\n",
       "      <td>13.20</td>\n",
       "      <td>24.75</td>\n",
       "      <td>18.90</td>\n",
       "      <td>9.75</td>\n",
       "      <td>77.86</td>\n",
       "      <td>3.16</td>\n",
       "      <td>0.00</td>\n",
       "      <td>0.10</td>\n",
       "    </tr>\n",
       "    <tr>\n",
       "      <th>North America</th>\n",
       "      <td>45.00</td>\n",
       "      <td>38.90</td>\n",
       "      <td>83.90</td>\n",
       "      <td>48.51</td>\n",
       "      <td>65.00</td>\n",
       "      <td>2,111.31</td>\n",
       "      <td>2.60</td>\n",
       "      <td>0.00</td>\n",
       "      <td>0.00</td>\n",
       "    </tr>\n",
       "    <tr>\n",
       "      <th>SE Asia</th>\n",
       "      <td>12.20</td>\n",
       "      <td>1.94</td>\n",
       "      <td>14.14</td>\n",
       "      <td>4.55</td>\n",
       "      <td>5.21</td>\n",
       "      <td>27.39</td>\n",
       "      <td>0.00</td>\n",
       "      <td>0.00</td>\n",
       "      <td>0.00</td>\n",
       "    </tr>\n",
       "    <tr>\n",
       "      <th>South Asia</th>\n",
       "      <td>3.61</td>\n",
       "      <td>15.76</td>\n",
       "      <td>19.37</td>\n",
       "      <td>5.31</td>\n",
       "      <td>5.42</td>\n",
       "      <td>18.16</td>\n",
       "      <td>0.00</td>\n",
       "      <td>0.00</td>\n",
       "      <td>0.03</td>\n",
       "    </tr>\n",
       "    <tr>\n",
       "      <th>Sub-Saharan Africa</th>\n",
       "      <td>50.60</td>\n",
       "      <td>19.87</td>\n",
       "      <td>70.47</td>\n",
       "      <td>5.88</td>\n",
       "      <td>1.04</td>\n",
       "      <td>42.33</td>\n",
       "      <td>0.00</td>\n",
       "      <td>0.00</td>\n",
       "      <td>0.00</td>\n",
       "    </tr>\n",
       "    <tr>\n",
       "      <th>Total</th>\n",
       "      <td>289.91</td>\n",
       "      <td>163.14</td>\n",
       "      <td>453.05</td>\n",
       "      <td>106.85</td>\n",
       "      <td>206.42</td>\n",
       "      <td>3,442.47</td>\n",
       "      <td>5.76</td>\n",
       "      <td>1.20</td>\n",
       "      <td>14.31</td>\n",
       "    </tr>\n",
       "  </tbody>\n",
       "</table>\n",
       "</div>"
      ],
      "text/plain": [
       "                                 Proposed  Construction  \\\n",
       "Australia and New Zealand           12.00          0.76   \n",
       "East Asia                           42.32         34.39   \n",
       "Eurasia                             50.06         21.99   \n",
       "Europe                              42.38         15.44   \n",
       "Latin America and the Caribbean     20.18          0.89   \n",
       "Middle East and North Africa        11.56         13.20   \n",
       "North America                       45.00         38.90   \n",
       "SE Asia                             12.20          1.94   \n",
       "South Asia                           3.61         15.76   \n",
       "Sub-Saharan Africa                  50.60         19.87   \n",
       "Total                              289.91        163.14   \n",
       "\n",
       "                                 Proposed+Construction  Shelved  Cancelled  \\\n",
       "Australia and New Zealand                        12.76     1.44       8.07   \n",
       "East Asia                                        76.71     1.36       1.36   \n",
       "Eurasia                                          72.04    11.55      28.71   \n",
       "Europe                                           57.82     3.65      45.30   \n",
       "Latin America and the Caribbean                  21.07     5.70      36.55   \n",
       "Middle East and North Africa                     24.75    18.90       9.75   \n",
       "North America                                    83.90    48.51      65.00   \n",
       "SE Asia                                          14.14     4.55       5.21   \n",
       "South Asia                                       19.37     5.31       5.42   \n",
       "Sub-Saharan Africa                               70.47     5.88       1.04   \n",
       "Total                                           453.05   106.85     206.42   \n",
       "\n",
       "                                 Operating  Idle  Mothballed  Retired  \n",
       "Australia and New Zealand            35.79  0.00        0.00     0.00  \n",
       "East Asia                           120.28  0.00        0.00     0.05  \n",
       "Eurasia                             603.98  0.00        0.83    11.03  \n",
       "Europe                              333.90  0.00        0.00     3.09  \n",
       "Latin America and the Caribbean      71.46  0.00        0.37     0.00  \n",
       "Middle East and North Africa         77.86  3.16        0.00     0.10  \n",
       "North America                     2,111.31  2.60        0.00     0.00  \n",
       "SE Asia                              27.39  0.00        0.00     0.00  \n",
       "South Asia                           18.16  0.00        0.00     0.03  \n",
       "Sub-Saharan Africa                   42.33  0.00        0.00     0.00  \n",
       "Total                             3,442.47  5.76        1.20    14.31  "
      ]
     },
     "execution_count": 104,
     "metadata": {},
     "output_type": "execute_result"
    }
   ],
   "source": [
    "pandas.options.display.float_format = '{:,.2f}'.format\n",
    "#km_by_region_df.sort_index(inplace=True)\n",
    "#indices_without_total = list(km_by_region_df.index)\n",
    "#if 'Total' in indices_without_total:\n",
    "#    indices_without_total.remove('Total')\n",
    "\n",
    "capex_estimates_df = km_by_region_df.loc[region_list].multiply(pipes_gas_costs_region_df['CostUSDPerKm'].values, axis=0) / 1e9\n",
    "\n",
    "total = capex_estimates_df.sum(axis=0)\n",
    "total.name='Total'\n",
    "capex_estimates_df = capex_estimates_df.append(total)\n",
    "\n",
    "capex_estimates_df"
   ]
  },
  {
   "cell_type": "markdown",
   "id": "a2bac5e7-471e-48a2-8985-0225d1e26b3f",
   "metadata": {},
   "source": [
    "## pie chart for stranded assets"
   ]
  },
  {
   "cell_type": "code",
   "execution_count": 113,
   "id": "d3e8f742-a160-40e3-ac76-7fa768c72606",
   "metadata": {},
   "outputs": [
    {
     "data": {
      "text/html": [
       "<div>\n",
       "<style scoped>\n",
       "    .dataframe tbody tr th:only-of-type {\n",
       "        vertical-align: middle;\n",
       "    }\n",
       "\n",
       "    .dataframe tbody tr th {\n",
       "        vertical-align: top;\n",
       "    }\n",
       "\n",
       "    .dataframe thead th {\n",
       "        text-align: right;\n",
       "    }\n",
       "</style>\n",
       "<table border=\"1\" class=\"dataframe\">\n",
       "  <thead>\n",
       "    <tr style=\"text-align: right;\">\n",
       "      <th></th>\n",
       "      <th>Proposed</th>\n",
       "      <th>Construction</th>\n",
       "      <th>Proposed+Construction</th>\n",
       "      <th>Shelved</th>\n",
       "      <th>Cancelled</th>\n",
       "      <th>Operating</th>\n",
       "      <th>Idle</th>\n",
       "      <th>Mothballed</th>\n",
       "      <th>Retired</th>\n",
       "    </tr>\n",
       "  </thead>\n",
       "  <tbody>\n",
       "    <tr>\n",
       "      <th>North America</th>\n",
       "      <td>45.00</td>\n",
       "      <td>38.90</td>\n",
       "      <td>83.90</td>\n",
       "      <td>48.51</td>\n",
       "      <td>65.00</td>\n",
       "      <td>2,111.31</td>\n",
       "      <td>2.60</td>\n",
       "      <td>0.00</td>\n",
       "      <td>0.00</td>\n",
       "    </tr>\n",
       "    <tr>\n",
       "      <th>East Asia</th>\n",
       "      <td>42.32</td>\n",
       "      <td>34.39</td>\n",
       "      <td>76.71</td>\n",
       "      <td>1.36</td>\n",
       "      <td>1.36</td>\n",
       "      <td>120.28</td>\n",
       "      <td>0.00</td>\n",
       "      <td>0.00</td>\n",
       "      <td>0.05</td>\n",
       "    </tr>\n",
       "    <tr>\n",
       "      <th>Eurasia</th>\n",
       "      <td>50.06</td>\n",
       "      <td>21.99</td>\n",
       "      <td>72.04</td>\n",
       "      <td>11.55</td>\n",
       "      <td>28.71</td>\n",
       "      <td>603.98</td>\n",
       "      <td>0.00</td>\n",
       "      <td>0.83</td>\n",
       "      <td>11.03</td>\n",
       "    </tr>\n",
       "    <tr>\n",
       "      <th>Sub-Saharan Africa</th>\n",
       "      <td>50.60</td>\n",
       "      <td>19.87</td>\n",
       "      <td>70.47</td>\n",
       "      <td>5.88</td>\n",
       "      <td>1.04</td>\n",
       "      <td>42.33</td>\n",
       "      <td>0.00</td>\n",
       "      <td>0.00</td>\n",
       "      <td>0.00</td>\n",
       "    </tr>\n",
       "    <tr>\n",
       "      <th>Europe</th>\n",
       "      <td>42.38</td>\n",
       "      <td>15.44</td>\n",
       "      <td>57.82</td>\n",
       "      <td>3.65</td>\n",
       "      <td>45.30</td>\n",
       "      <td>333.90</td>\n",
       "      <td>0.00</td>\n",
       "      <td>0.00</td>\n",
       "      <td>3.09</td>\n",
       "    </tr>\n",
       "    <tr>\n",
       "      <th>Middle East and North Africa</th>\n",
       "      <td>11.56</td>\n",
       "      <td>13.20</td>\n",
       "      <td>24.75</td>\n",
       "      <td>18.90</td>\n",
       "      <td>9.75</td>\n",
       "      <td>77.86</td>\n",
       "      <td>3.16</td>\n",
       "      <td>0.00</td>\n",
       "      <td>0.10</td>\n",
       "    </tr>\n",
       "    <tr>\n",
       "      <th>Latin America and the Caribbean</th>\n",
       "      <td>20.18</td>\n",
       "      <td>0.89</td>\n",
       "      <td>21.07</td>\n",
       "      <td>5.70</td>\n",
       "      <td>36.55</td>\n",
       "      <td>71.46</td>\n",
       "      <td>0.00</td>\n",
       "      <td>0.37</td>\n",
       "      <td>0.00</td>\n",
       "    </tr>\n",
       "    <tr>\n",
       "      <th>South Asia</th>\n",
       "      <td>3.61</td>\n",
       "      <td>15.76</td>\n",
       "      <td>19.37</td>\n",
       "      <td>5.31</td>\n",
       "      <td>5.42</td>\n",
       "      <td>18.16</td>\n",
       "      <td>0.00</td>\n",
       "      <td>0.00</td>\n",
       "      <td>0.03</td>\n",
       "    </tr>\n",
       "    <tr>\n",
       "      <th>SE Asia</th>\n",
       "      <td>12.20</td>\n",
       "      <td>1.94</td>\n",
       "      <td>14.14</td>\n",
       "      <td>4.55</td>\n",
       "      <td>5.21</td>\n",
       "      <td>27.39</td>\n",
       "      <td>0.00</td>\n",
       "      <td>0.00</td>\n",
       "      <td>0.00</td>\n",
       "    </tr>\n",
       "    <tr>\n",
       "      <th>Australia and New Zealand</th>\n",
       "      <td>12.00</td>\n",
       "      <td>0.76</td>\n",
       "      <td>12.76</td>\n",
       "      <td>1.44</td>\n",
       "      <td>8.07</td>\n",
       "      <td>35.79</td>\n",
       "      <td>0.00</td>\n",
       "      <td>0.00</td>\n",
       "      <td>0.00</td>\n",
       "    </tr>\n",
       "  </tbody>\n",
       "</table>\n",
       "</div>"
      ],
      "text/plain": [
       "                                 Proposed  Construction  \\\n",
       "North America                       45.00         38.90   \n",
       "East Asia                           42.32         34.39   \n",
       "Eurasia                             50.06         21.99   \n",
       "Sub-Saharan Africa                  50.60         19.87   \n",
       "Europe                              42.38         15.44   \n",
       "Middle East and North Africa        11.56         13.20   \n",
       "Latin America and the Caribbean     20.18          0.89   \n",
       "South Asia                           3.61         15.76   \n",
       "SE Asia                             12.20          1.94   \n",
       "Australia and New Zealand           12.00          0.76   \n",
       "\n",
       "                                 Proposed+Construction  Shelved  Cancelled  \\\n",
       "North America                                    83.90    48.51      65.00   \n",
       "East Asia                                        76.71     1.36       1.36   \n",
       "Eurasia                                          72.04    11.55      28.71   \n",
       "Sub-Saharan Africa                               70.47     5.88       1.04   \n",
       "Europe                                           57.82     3.65      45.30   \n",
       "Middle East and North Africa                     24.75    18.90       9.75   \n",
       "Latin America and the Caribbean                  21.07     5.70      36.55   \n",
       "South Asia                                       19.37     5.31       5.42   \n",
       "SE Asia                                          14.14     4.55       5.21   \n",
       "Australia and New Zealand                        12.76     1.44       8.07   \n",
       "\n",
       "                                 Operating  Idle  Mothballed  Retired  \n",
       "North America                     2,111.31  2.60        0.00     0.00  \n",
       "East Asia                           120.28  0.00        0.00     0.05  \n",
       "Eurasia                             603.98  0.00        0.83    11.03  \n",
       "Sub-Saharan Africa                   42.33  0.00        0.00     0.00  \n",
       "Europe                              333.90  0.00        0.00     3.09  \n",
       "Middle East and North Africa         77.86  3.16        0.00     0.10  \n",
       "Latin America and the Caribbean      71.46  0.00        0.37     0.00  \n",
       "South Asia                           18.16  0.00        0.00     0.03  \n",
       "SE Asia                              27.39  0.00        0.00     0.00  \n",
       "Australia and New Zealand            35.79  0.00        0.00     0.00  "
      ]
     },
     "execution_count": 113,
     "metadata": {},
     "output_type": "execute_result"
    }
   ],
   "source": [
    "capex_estimates_df.sort_values('Proposed+Construction', ascending=False)[1:]"
   ]
  },
  {
   "cell_type": "code",
   "execution_count": 168,
   "id": "158cc00b-f49a-4436-8190-ca743d67a9df",
   "metadata": {},
   "outputs": [
    {
     "data": {
      "image/png": "[encoded data removed]",
      "text/plain": [
       "<Figure size 432x432 with 1 Axes>"
      ]
     },
     "metadata": {},
     "output_type": "display_data"
    }
   ],
   "source": [
    "font_size=14\n",
    "\n",
    "fig = mp.figure(figsize=(6,6))\n",
    "ax = fig.add_subplot(111)\n",
    "cmap = mp.get_cmap('Reds')\n",
    "\n",
    "pie_vals = capex_estimates_df.sort_values('Proposed+Construction', ascending=False)['Proposed+Construction'][1:]\n",
    "pie_labels = capex_estimates_df.sort_values('Proposed+Construction', ascending=False).index[1:]\n",
    "pie_labels_dollars = capex_estimates_df.sort_values('Proposed+Construction', ascending=False)['Proposed+Construction'].apply(lambda x: f'\\nUS${x:.2f} billion')[1:]\n",
    "\n",
    "pie_labels = [i+j for i,j in zip(pie_labels, pie_labels_dollars)]\n",
    "\n",
    "ax.pie(pie_vals, \n",
    "       labels=pie_labels,\n",
    "       colors=cmap(numpy.linspace(0,1,pie_vals.size))[::-1] )\n",
    "\n",
    "ax.tick_params(labelsize=font_size)\n",
    "\n",
    "fig.tight_layout()\n",
    "\n",
    "mp.savefig('saved-figures/Gas-Pipelines-Report-2022_pie-graph.pdf', bbox_inches='tight', transparent=True)\n"
   ]
  },
  {
   "cell_type": "code",
   "execution_count": 140,
   "id": "d4d1ea54-5de2-49e7-b79a-e7f8201026f6",
   "metadata": {},
   "outputs": [
    {
     "data": {
      "text/plain": [
       "North America                     83.90\n",
       "East Asia                         76.71\n",
       "Eurasia                           72.04\n",
       "Sub-Saharan Africa                70.47\n",
       "Europe                            57.82\n",
       "Middle East and North Africa      24.75\n",
       "Latin America and the Caribbean   21.07\n",
       "South Asia                        19.37\n",
       "SE Asia                           14.14\n",
       "Australia and New Zealand         12.76\n",
       "Name: Proposed+Construction, dtype: float64"
      ]
     },
     "execution_count": 140,
     "metadata": {},
     "output_type": "execute_result"
    }
   ],
   "source": [
    "pie_vals"
   ]
  },
  {
   "cell_type": "code",
   "execution_count": 154,
   "id": "5c295ea4-3ff5-42f3-bf40-4ed4ab2c50fd",
   "metadata": {},
   "outputs": [
    {
     "data": {
      "text/plain": [
       "North America                      US$83.90 b.\n",
       "East Asia                          US$76.71 b.\n",
       "Eurasia                            US$72.04 b.\n",
       "Sub-Saharan Africa                 US$70.47 b.\n",
       "Europe                             US$57.82 b.\n",
       "Middle East and North Africa       US$24.75 b.\n",
       "Latin America and the Caribbean    US$21.07 b.\n",
       "South Asia                         US$19.37 b.\n",
       "SE Asia                            US$14.14 b.\n",
       "Australia and New Zealand          US$12.76 b.\n",
       "Name: Proposed+Construction, dtype: object"
      ]
     },
     "execution_count": 154,
     "metadata": {},
     "output_type": "execute_result"
    }
   ],
   "source": [
    "capex_estimates_df.sort_values('Proposed+Construction', ascending=False)['Proposed+Construction'].apply(lambda x: f'US${x:.2f} billion')[1:]"
   ]
  },
  {
   "cell_type": "code",
   "execution_count": 142,
   "id": "59d3d564-5f4f-41f0-b918-ade8e27508a9",
   "metadata": {},
   "outputs": [
    {
     "ename": "KeyError",
     "evalue": "'Proposed+Construction'",
     "output_type": "error",
     "traceback": [
      "\u001b[0;31m---------------------------------------------------------------------------\u001b[0m",
      "\u001b[0;31mKeyError\u001b[0m                                  Traceback (most recent call last)",
      "\u001b[0;32m~/miniconda3/envs/gem/lib/python3.9/site-packages/pandas/core/indexes/base.py\u001b[0m in \u001b[0;36mget_loc\u001b[0;34m(self, key, method, tolerance)\u001b[0m\n\u001b[1;32m   3360\u001b[0m             \u001b[0;32mtry\u001b[0m\u001b[0;34m:\u001b[0m\u001b[0;34m\u001b[0m\u001b[0;34m\u001b[0m\u001b[0m\n\u001b[0;32m-> 3361\u001b[0;31m                 \u001b[0;32mreturn\u001b[0m \u001b[0mself\u001b[0m\u001b[0;34m.\u001b[0m\u001b[0m_engine\u001b[0m\u001b[0;34m.\u001b[0m\u001b[0mget_loc\u001b[0m\u001b[0;34m(\u001b[0m\u001b[0mcasted_key\u001b[0m\u001b[0;34m)\u001b[0m\u001b[0;34m\u001b[0m\u001b[0;34m\u001b[0m\u001b[0m\n\u001b[0m\u001b[1;32m   3362\u001b[0m             \u001b[0;32mexcept\u001b[0m \u001b[0mKeyError\u001b[0m \u001b[0;32mas\u001b[0m \u001b[0merr\u001b[0m\u001b[0;34m:\u001b[0m\u001b[0;34m\u001b[0m\u001b[0;34m\u001b[0m\u001b[0m\n",
      "\u001b[0;32m~/miniconda3/envs/gem/lib/python3.9/site-packages/pandas/_libs/index.pyx\u001b[0m in \u001b[0;36mpandas._libs.index.IndexEngine.get_loc\u001b[0;34m()\u001b[0m\n",
      "\u001b[0;32m~/miniconda3/envs/gem/lib/python3.9/site-packages/pandas/_libs/index.pyx\u001b[0m in \u001b[0;36mpandas._libs.index.IndexEngine.get_loc\u001b[0;34m()\u001b[0m\n",
      "\u001b[0;32mpandas/_libs/hashtable_class_helper.pxi\u001b[0m in \u001b[0;36mpandas._libs.hashtable.PyObjectHashTable.get_item\u001b[0;34m()\u001b[0m\n",
      "\u001b[0;32mpandas/_libs/hashtable_class_helper.pxi\u001b[0m in \u001b[0;36mpandas._libs.hashtable.PyObjectHashTable.get_item\u001b[0;34m()\u001b[0m\n",
      "\u001b[0;31mKeyError\u001b[0m: 'Proposed+Construction'",
      "\nThe above exception was the direct cause of the following exception:\n",
      "\u001b[0;31mKeyError\u001b[0m                                  Traceback (most recent call last)",
      "\u001b[0;32m/var/folders/h5/nfk59_vx7gg_58myc9jfk7_40000gn/T/ipykernel_44197/2486796302.py\u001b[0m in \u001b[0;36m<module>\u001b[0;34m\u001b[0m\n\u001b[0;32m----> 1\u001b[0;31m \u001b[0mpie_vals\u001b[0m\u001b[0;34m[\u001b[0m\u001b[0;34m'Proposed+Construction'\u001b[0m\u001b[0;34m]\u001b[0m\u001b[0;34m.\u001b[0m\u001b[0mapply\u001b[0m\u001b[0;34m(\u001b[0m\u001b[0;32mlambda\u001b[0m \u001b[0mx\u001b[0m\u001b[0;34m:\u001b[0m \u001b[0;34mf'{x:2d}'\u001b[0m\u001b[0;34m)\u001b[0m\u001b[0;34m\u001b[0m\u001b[0;34m\u001b[0m\u001b[0m\n\u001b[0m",
      "\u001b[0;32m~/miniconda3/envs/gem/lib/python3.9/site-packages/pandas/core/series.py\u001b[0m in \u001b[0;36m__getitem__\u001b[0;34m(self, key)\u001b[0m\n\u001b[1;32m    940\u001b[0m \u001b[0;34m\u001b[0m\u001b[0m\n\u001b[1;32m    941\u001b[0m         \u001b[0;32melif\u001b[0m \u001b[0mkey_is_scalar\u001b[0m\u001b[0;34m:\u001b[0m\u001b[0;34m\u001b[0m\u001b[0;34m\u001b[0m\u001b[0m\n\u001b[0;32m--> 942\u001b[0;31m             \u001b[0;32mreturn\u001b[0m \u001b[0mself\u001b[0m\u001b[0;34m.\u001b[0m\u001b[0m_get_value\u001b[0m\u001b[0;34m(\u001b[0m\u001b[0mkey\u001b[0m\u001b[0;34m)\u001b[0m\u001b[0;34m\u001b[0m\u001b[0;34m\u001b[0m\u001b[0m\n\u001b[0m\u001b[1;32m    943\u001b[0m \u001b[0;34m\u001b[0m\u001b[0m\n\u001b[1;32m    944\u001b[0m         \u001b[0;32mif\u001b[0m \u001b[0mis_hashable\u001b[0m\u001b[0;34m(\u001b[0m\u001b[0mkey\u001b[0m\u001b[0;34m)\u001b[0m\u001b[0;34m:\u001b[0m\u001b[0;34m\u001b[0m\u001b[0;34m\u001b[0m\u001b[0m\n",
      "\u001b[0;32m~/miniconda3/envs/gem/lib/python3.9/site-packages/pandas/core/series.py\u001b[0m in \u001b[0;36m_get_value\u001b[0;34m(self, label, takeable)\u001b[0m\n\u001b[1;32m   1049\u001b[0m \u001b[0;34m\u001b[0m\u001b[0m\n\u001b[1;32m   1050\u001b[0m         \u001b[0;31m# Similar to Index.get_value, but we do not fall back to positional\u001b[0m\u001b[0;34m\u001b[0m\u001b[0;34m\u001b[0m\u001b[0;34m\u001b[0m\u001b[0m\n\u001b[0;32m-> 1051\u001b[0;31m         \u001b[0mloc\u001b[0m \u001b[0;34m=\u001b[0m \u001b[0mself\u001b[0m\u001b[0;34m.\u001b[0m\u001b[0mindex\u001b[0m\u001b[0;34m.\u001b[0m\u001b[0mget_loc\u001b[0m\u001b[0;34m(\u001b[0m\u001b[0mlabel\u001b[0m\u001b[0;34m)\u001b[0m\u001b[0;34m\u001b[0m\u001b[0;34m\u001b[0m\u001b[0m\n\u001b[0m\u001b[1;32m   1052\u001b[0m         \u001b[0;32mreturn\u001b[0m \u001b[0mself\u001b[0m\u001b[0;34m.\u001b[0m\u001b[0mindex\u001b[0m\u001b[0;34m.\u001b[0m\u001b[0m_get_values_for_loc\u001b[0m\u001b[0;34m(\u001b[0m\u001b[0mself\u001b[0m\u001b[0;34m,\u001b[0m \u001b[0mloc\u001b[0m\u001b[0;34m,\u001b[0m \u001b[0mlabel\u001b[0m\u001b[0;34m)\u001b[0m\u001b[0;34m\u001b[0m\u001b[0;34m\u001b[0m\u001b[0m\n\u001b[1;32m   1053\u001b[0m \u001b[0;34m\u001b[0m\u001b[0m\n",
      "\u001b[0;32m~/miniconda3/envs/gem/lib/python3.9/site-packages/pandas/core/indexes/base.py\u001b[0m in \u001b[0;36mget_loc\u001b[0;34m(self, key, method, tolerance)\u001b[0m\n\u001b[1;32m   3361\u001b[0m                 \u001b[0;32mreturn\u001b[0m \u001b[0mself\u001b[0m\u001b[0;34m.\u001b[0m\u001b[0m_engine\u001b[0m\u001b[0;34m.\u001b[0m\u001b[0mget_loc\u001b[0m\u001b[0;34m(\u001b[0m\u001b[0mcasted_key\u001b[0m\u001b[0;34m)\u001b[0m\u001b[0;34m\u001b[0m\u001b[0;34m\u001b[0m\u001b[0m\n\u001b[1;32m   3362\u001b[0m             \u001b[0;32mexcept\u001b[0m \u001b[0mKeyError\u001b[0m \u001b[0;32mas\u001b[0m \u001b[0merr\u001b[0m\u001b[0;34m:\u001b[0m\u001b[0;34m\u001b[0m\u001b[0;34m\u001b[0m\u001b[0m\n\u001b[0;32m-> 3363\u001b[0;31m                 \u001b[0;32mraise\u001b[0m \u001b[0mKeyError\u001b[0m\u001b[0;34m(\u001b[0m\u001b[0mkey\u001b[0m\u001b[0;34m)\u001b[0m \u001b[0;32mfrom\u001b[0m \u001b[0merr\u001b[0m\u001b[0;34m\u001b[0m\u001b[0;34m\u001b[0m\u001b[0m\n\u001b[0m\u001b[1;32m   3364\u001b[0m \u001b[0;34m\u001b[0m\u001b[0m\n\u001b[1;32m   3365\u001b[0m         \u001b[0;32mif\u001b[0m \u001b[0mis_scalar\u001b[0m\u001b[0;34m(\u001b[0m\u001b[0mkey\u001b[0m\u001b[0;34m)\u001b[0m \u001b[0;32mand\u001b[0m \u001b[0misna\u001b[0m\u001b[0;34m(\u001b[0m\u001b[0mkey\u001b[0m\u001b[0;34m)\u001b[0m \u001b[0;32mand\u001b[0m \u001b[0;32mnot\u001b[0m \u001b[0mself\u001b[0m\u001b[0;34m.\u001b[0m\u001b[0mhasnans\u001b[0m\u001b[0;34m:\u001b[0m\u001b[0;34m\u001b[0m\u001b[0;34m\u001b[0m\u001b[0m\n",
      "\u001b[0;31mKeyError\u001b[0m: 'Proposed+Construction'"
     ]
    }
   ],
   "source": [
    "pie_vals['Proposed+Construction'].apply(lambda x: f'{x:2d}')"
   ]
  },
  {
   "cell_type": "code",
   "execution_count": 125,
   "id": "793a8251-7565-4002-ab4d-3a28d9cca21c",
   "metadata": {},
   "outputs": [
    {
     "data": {
      "text/plain": [
       "North America                     83.90\n",
       "East Asia                         76.71\n",
       "Eurasia                           72.04\n",
       "Sub-Saharan Africa                70.47\n",
       "Europe                            57.82\n",
       "Middle East and North Africa      24.75\n",
       "Latin America and the Caribbean   21.07\n",
       "South Asia                        19.37\n",
       "SE Asia                           14.14\n",
       "Australia and New Zealand         12.76\n",
       "Name: Proposed+Construction, dtype: float64"
      ]
     },
     "execution_count": 125,
     "metadata": {},
     "output_type": "execute_result"
    }
   ],
   "source": [
    "capex_estimates_df.sort_values('Proposed+Construction', ascending=False)['Proposed+Construction'][1:]"
   ]
  },
  {
   "cell_type": "code",
   "execution_count": 124,
   "id": "569b655e-34ee-4c76-b605-08f536bdf1d2",
   "metadata": {},
   "outputs": [
    {
     "data": {
      "text/plain": [
       "Index(['North America', 'East Asia', 'Eurasia', 'Sub-Saharan Africa', 'Europe',\n",
       "       'Middle East and North Africa', 'Latin America and the Caribbean',\n",
       "       'South Asia', 'SE Asia', 'Australia and New Zealand'],\n",
       "      dtype='object')"
      ]
     },
     "execution_count": 124,
     "metadata": {},
     "output_type": "execute_result"
    }
   ],
   "source": [
    "capex_estimates_df.sort_values('Proposed+Construction', ascending=False).index[1:]"
   ]
  },
  {
   "cell_type": "code",
   "execution_count": 120,
   "id": "e034498d-a550-464b-9e0f-c40d60011e65",
   "metadata": {},
   "outputs": [
    {
     "data": {
      "text/plain": [
       "10"
      ]
     },
     "execution_count": 120,
     "metadata": {},
     "output_type": "execute_result"
    }
   ],
   "source": [
    "region_list.__len__()"
   ]
  },
  {
   "cell_type": "code",
   "execution_count": 118,
   "id": "80ed0c44-c98a-4b39-bcb4-494e56812813",
   "metadata": {},
   "outputs": [],
   "source": [
    "cmap = mp.get_cmap('magma')\n",
    "\n",
    "#print('Default number of colors in the lookup table:', len(cmap.colors)) # default: 256 colors\n",
    "#print('First color:', cmap.colors[0])\n",
    "#print('Last color:', cmap.colors[-1])\n",
    "#print('10 equally spaced colors:', cmap(np.linspace(0, 1, 10)))"
   ]
  },
  {
   "cell_type": "markdown",
   "id": "f5661b98-75a1-42ca-819d-ee2fa8ea2b76",
   "metadata": {},
   "source": [
    "### amount already being constructed"
   ]
  },
  {
   "cell_type": "code",
   "execution_count": null,
   "id": "741c91e9-dcdb-4332-beac-27f1cb8ca014",
   "metadata": {},
   "outputs": [],
   "source": [
    "#km\n",
    "km_by_country_total = km_by_country_df.sum(axis=0)\n",
    "km_by_country_total['Construction']/km_by_country_total['Proposed+Construction']"
   ]
  },
  {
   "cell_type": "code",
   "execution_count": null,
   "id": "f358b56a-22ef-4323-824b-ecf9ef20202c",
   "metadata": {},
   "outputs": [],
   "source": [
    "total['Construction']/total['Proposed+Construction']"
   ]
  },
  {
   "cell_type": "markdown",
   "id": "401b414a",
   "metadata": {},
   "source": [
    "## ownership research"
   ]
  },
  {
   "cell_type": "code",
   "execution_count": null,
   "id": "edfb6d75-d3a0-4ba4-aac9-acb4f7f271b8",
   "metadata": {},
   "outputs": [],
   "source": []
  },
  {
   "cell_type": "code",
   "execution_count": null,
   "id": "159b901a-7ac5-4244-b8e2-717ffe5e26a9",
   "metadata": {},
   "outputs": [],
   "source": []
  },
  {
   "cell_type": "markdown",
   "id": "1980f5ce",
   "metadata": {},
   "source": [
    "# numbers for report"
   ]
  },
  {
   "cell_type": "code",
   "execution_count": null,
   "id": "75452ad0-615e-4b4d-89d5-4891d71902d2",
   "metadata": {},
   "outputs": [],
   "source": [
    "# km of gas pipelines globally in development\n",
    "pipes_df_calc = pipes_df.copy()\n",
    "pipes_df_calc.replace('--',numpy.nan,inplace=True)\n",
    "pipes_df_calc[(pipes_df_calc['Status'].isin(['Proposed','Construction'])) &\n",
    "        (pipes_df_calc['Fuel']=='Gas')]['LengthMergedKm'].sum()"
   ]
  },
  {
   "cell_type": "code",
   "execution_count": null,
   "id": "06e0be20-2354-41c1-9838-53e0fa458e9b",
   "metadata": {},
   "outputs": [],
   "source": [
    "regional_km_sums_df = pandas.DataFrame(index=region_list, columns=status_list)\n",
    "\n",
    "for status in status_list:\n",
    "    regional_km_sums_df[status] = pipes_df_calc[(pipes_df_calc['Fuel']=='Gas') &\n",
    "                                                (pipes_df_calc['Status']==status)].groupby('StartRegion')['LengthMergedKm'].sum()\n",
    "\n",
    "regional_km_sums_df['P+C'] = regional_km_sums_df[['Proposed','Construction']].sum(axis=1)\n",
    "total_row = regional_km_sums_df.sum(axis=0)\n",
    "total_row.name = 'Total'\n",
    "regional_km_sums_df.append(total_row)"
   ]
  },
  {
   "cell_type": "code",
   "execution_count": null,
   "id": "89eafd49-31c5-40c5-b053-f437cd08d2f2",
   "metadata": {},
   "outputs": [],
   "source": [
    "pipes_df_calc[pipes_df_calc['Fuel']=='Gas']['LengthMergedKm'].sum()"
   ]
  },
  {
   "cell_type": "markdown",
   "id": "db6f746e",
   "metadata": {},
   "source": [
    "## country shares analysis"
   ]
  },
  {
   "cell_type": "code",
   "execution_count": null,
   "id": "636ea038",
   "metadata": {},
   "outputs": [],
   "source": [
    "country_ratios[(country_ratios['Status'].isin(['Proposed','Construction'])) &\n",
    "               (country_ratios['Fuel']=='Gas')]['MergedKmByCountry'].sum()"
   ]
  },
  {
   "cell_type": "markdown",
   "id": "6280f21d-4f6c-43aa-923b-f50dc67babc2",
   "metadata": {},
   "source": [
    "### China's percent of total"
   ]
  },
  {
   "cell_type": "code",
   "execution_count": null,
   "id": "2f0f6b5d",
   "metadata": {},
   "outputs": [],
   "source": [
    "km_by_country_df.loc['China']['Proposed+Construction']/km_by_country_df['Proposed+Construction'].sum(axis=0)"
   ]
  },
  {
   "cell_type": "code",
   "execution_count": null,
   "id": "06253a3e-d11b-45fd-bfaa-2b21e681f4c3",
   "metadata": {},
   "outputs": [],
   "source": [
    "km_by_country_df[:6]['Proposed+Construction'].sum(axis=0)/km_by_country_df['Proposed+Construction'].sum(axis=0)"
   ]
  },
  {
   "cell_type": "code",
   "execution_count": null,
   "id": "4814a993",
   "metadata": {},
   "outputs": [],
   "source": [
    "km_by_country_df[:20]['Proposed+Construction'].sum(axis=0)/km_by_country_df['Proposed+Construction'].sum(axis=0)"
   ]
  },
  {
   "cell_type": "markdown",
   "id": "c49e1d1f-3d0c-460a-a858-c2077a4d1a18",
   "metadata": {},
   "source": [
    "## number of delayed km from 2021 to 2022"
   ]
  },
  {
   "cell_type": "code",
   "execution_count": null,
   "id": "10e50b4f-6186-450e-88ae-b019c6db7677",
   "metadata": {},
   "outputs": [],
   "source": [
    "pipes_delays_df = pipes_df.copy()\n",
    "pipes_delays_df = pipes_delays_df[(pipes_delays_df['Fuel']=='Gas') &\n",
    "                                  (pipes_delays_df['Delayed']=='Yes') &\n",
    "                                   (pipes_delays_df['StartYearLatest']==2022)]\n",
    "\n",
    "pipes_delays_df.groupby('Status')['LengthMergedKm'].sum()"
   ]
  },
  {
   "cell_type": "code",
   "execution_count": null,
   "id": "255a1e69-e087-490d-9b42-5743a57be092",
   "metadata": {},
   "outputs": [],
   "source": [
    "pipes_delays_df = pipes_df.copy()\n",
    "pipes_delays_df = pipes_delays_df[(pipes_delays_df['Fuel']=='Gas') &\n",
    "                                  (pipes_delays_df['Delayed']=='Yes') &\n",
    "                                   (pipes_delays_df['StartYearLatest']==2022) &\n",
    "                                   (pipes_delays_df['DelayType']=='Presumed')]\n",
    "\n",
    "pipes_delays_df.groupby('Status')['LengthMergedKm'].sum()"
   ]
  },
  {
   "cell_type": "code",
   "execution_count": null,
   "id": "4bc3265d-0737-48cc-bc18-38198ce480e3",
   "metadata": {},
   "outputs": [],
   "source": []
  }
 ],
 "metadata": {
  "kernelspec": {
   "display_name": "gem",
   "language": "python",
   "name": "gem"
  },
  "language_info": {
   "codemirror_mode": {
    "name": "ipython",
    "version": 3
   },
   "file_extension": ".py",
   "mimetype": "text/x-python",
   "name": "python",
   "nbconvert_exporter": "python",
   "pygments_lexer": "ipython3",
   "version": "3.9.6"
  }
 },
 "nbformat": 4,
 "nbformat_minor": 5
}
