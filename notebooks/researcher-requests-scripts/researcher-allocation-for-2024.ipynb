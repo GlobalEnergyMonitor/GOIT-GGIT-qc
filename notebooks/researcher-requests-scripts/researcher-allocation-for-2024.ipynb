{
 "cells": [
  {
   "cell_type": "markdown",
   "id": "1a6ca556-68e5-422c-9089-9bb689b5d588",
   "metadata": {},
   "source": [
    "# code for calculating researcher needs"
   ]
  },
  {
   "cell_type": "code",
   "execution_count": 1,
   "id": "cf50b2b9-4476-4856-b22e-67a415811257",
   "metadata": {},
   "outputs": [],
   "source": [
    "import pandas\n",
    "import pygsheets\n",
    "import numpy"
   ]
  },
  {
   "cell_type": "code",
   "execution_count": 4,
   "id": "7480e85e-d14a-40a8-b29b-3697ebba5111",
   "metadata": {},
   "outputs": [],
   "source": [
    "gc = pygsheets.authorize(service_account_env_var='GDRIVE_API_CREDENTIALS')\n",
    "spreadsheet = gc.open_by_key('1foPLE6K-uqFlaYgLPAUxzeXfDO5wOOqE7tibNHeqTek')\n",
    "\n",
    "#spreadsheet[1] \"Gas Pipelines\" tab is the second index\n",
    "gas_pipes = spreadsheet.worksheet('title','Gas pipelines').get_as_df(start='A3')\n",
    "oil_pipes = spreadsheet.worksheet('title', 'Oil/NGL pipelines').get_as_df(start='A3')\n",
    "\n",
    "pipes_df_orig = pandas.concat([oil_pipes, gas_pipes], ignore_index=True)\n",
    "\n",
    "#get country ratios sheet\n",
    "country_ratios_df = spreadsheet.worksheet('title', 'Country ratios by pipeline').get_as_df()"
   ]
  },
  {
   "cell_type": "code",
   "execution_count": 5,
   "id": "d9c1a309-ec8b-406a-8b41-6cae4ef5b482",
   "metadata": {},
   "outputs": [],
   "source": [
    "# replace -- entries with NaN\n",
    "pipes_df_orig = pipes_df_orig.replace('--', numpy.nan)\n",
    "pipes_df_orig = pipes_df_orig[pipes_df_orig['PipelineName']!='']\n",
    "#pipes_df_orig = pipes_df_orig[pipes_df_orig['Wiki']!='']\n",
    "#country_ratios_df.replace('--', numpy.nan, inplace=True)"
   ]
  },
  {
   "cell_type": "code",
   "execution_count": 6,
   "id": "f929653e-ec0a-4721-9dc2-f22865dceb5a",
   "metadata": {},
   "outputs": [],
   "source": [
    "status_list = ['Proposed', 'Construction', 'Shelved', 'Cancelled', \n",
    "               'Operating', 'Idle', 'Mothballed', 'Retired']\n",
    "country_list = sorted(list(set(country_ratios_df['Country'])))\n",
    "region_list = sorted(list(set(country_ratios_df['Region'])))"
   ]
  },
  {
   "cell_type": "markdown",
   "id": "8a6af0e5-8a3b-4c8a-97a2-bb78fa59a797",
   "metadata": {},
   "source": [
    "## how many oil pipelines per region?"
   ]
  },
  {
   "cell_type": "code",
   "execution_count": 7,
   "id": "40db4f9a-d8c9-4726-9428-5830ef329fbb",
   "metadata": {},
   "outputs": [
    {
     "data": {
      "text/plain": [
       "(1266, 106)"
      ]
     },
     "execution_count": 7,
     "metadata": {},
     "output_type": "execute_result"
    }
   ],
   "source": [
    "pipes_df_orig.loc[pipes_df_orig.Fuel.isin(['Oil','NGL'])].shape"
   ]
  },
  {
   "cell_type": "raw",
   "id": "ada4132b-152a-49a2-b671-1b8539913e8f",
   "metadata": {},
   "source": [
    "pandas.to_datetime(pipes_df_orig.LastUpdated, )"
   ]
  },
  {
   "cell_type": "raw",
   "id": "5e63b2be-a8a3-4c31-bb3b-7fa57f4f629b",
   "metadata": {},
   "source": [
    "for status in status_list:\n",
    "    pipes_df_orig.loc[(pipes_df_orig.Fuel.isin(['Oil','NGL']))&\n",
    "                      (pipes_df_orig.Status.isin([status]))]"
   ]
  },
  {
   "cell_type": "code",
   "execution_count": 8,
   "id": "ac4d8ffe-d108-4389-8fa5-294670fcae09",
   "metadata": {},
   "outputs": [
    {
     "data": {
      "text/html": [
       "<div>\n",
       "<style scoped>\n",
       "    .dataframe tbody tr th:only-of-type {\n",
       "        vertical-align: middle;\n",
       "    }\n",
       "\n",
       "    .dataframe tbody tr th {\n",
       "        vertical-align: top;\n",
       "    }\n",
       "\n",
       "    .dataframe thead th {\n",
       "        text-align: right;\n",
       "    }\n",
       "</style>\n",
       "<table border=\"1\" class=\"dataframe\">\n",
       "  <thead>\n",
       "    <tr style=\"text-align: right;\">\n",
       "      <th></th>\n",
       "      <th>Status</th>\n",
       "      <th>Cancelled</th>\n",
       "      <th>Construction</th>\n",
       "      <th>Idle</th>\n",
       "      <th>Mothballed</th>\n",
       "      <th>N/A</th>\n",
       "      <th>Operating</th>\n",
       "      <th>Proposed</th>\n",
       "      <th>Retired</th>\n",
       "      <th>Shelved</th>\n",
       "    </tr>\n",
       "    <tr>\n",
       "      <th></th>\n",
       "      <th>StartSubRegion</th>\n",
       "      <th></th>\n",
       "      <th></th>\n",
       "      <th></th>\n",
       "      <th></th>\n",
       "      <th></th>\n",
       "      <th></th>\n",
       "      <th></th>\n",
       "      <th></th>\n",
       "      <th></th>\n",
       "    </tr>\n",
       "  </thead>\n",
       "  <tbody>\n",
       "    <tr>\n",
       "      <th rowspan=\"15\" valign=\"top\">ProjectID</th>\n",
       "      <th>Australia and New Zealand</th>\n",
       "      <td>12.0</td>\n",
       "      <td>1.0</td>\n",
       "      <td>0.0</td>\n",
       "      <td>0.0</td>\n",
       "      <td>2.0</td>\n",
       "      <td>95.0</td>\n",
       "      <td>24.0</td>\n",
       "      <td>0.0</td>\n",
       "      <td>11.0</td>\n",
       "    </tr>\n",
       "    <tr>\n",
       "      <th>Central Asia</th>\n",
       "      <td>2.0</td>\n",
       "      <td>5.0</td>\n",
       "      <td>0.0</td>\n",
       "      <td>0.0</td>\n",
       "      <td>0.0</td>\n",
       "      <td>43.0</td>\n",
       "      <td>9.0</td>\n",
       "      <td>0.0</td>\n",
       "      <td>0.0</td>\n",
       "    </tr>\n",
       "    <tr>\n",
       "      <th>Eastern Asia</th>\n",
       "      <td>10.0</td>\n",
       "      <td>149.0</td>\n",
       "      <td>0.0</td>\n",
       "      <td>0.0</td>\n",
       "      <td>1.0</td>\n",
       "      <td>572.0</td>\n",
       "      <td>237.0</td>\n",
       "      <td>2.0</td>\n",
       "      <td>4.0</td>\n",
       "    </tr>\n",
       "    <tr>\n",
       "      <th>Eastern Europe</th>\n",
       "      <td>11.0</td>\n",
       "      <td>20.0</td>\n",
       "      <td>1.0</td>\n",
       "      <td>5.0</td>\n",
       "      <td>0.0</td>\n",
       "      <td>281.0</td>\n",
       "      <td>101.0</td>\n",
       "      <td>3.0</td>\n",
       "      <td>6.0</td>\n",
       "    </tr>\n",
       "    <tr>\n",
       "      <th>Latin America and the Caribbean</th>\n",
       "      <td>6.0</td>\n",
       "      <td>8.0</td>\n",
       "      <td>1.0</td>\n",
       "      <td>1.0</td>\n",
       "      <td>0.0</td>\n",
       "      <td>100.0</td>\n",
       "      <td>39.0</td>\n",
       "      <td>0.0</td>\n",
       "      <td>8.0</td>\n",
       "    </tr>\n",
       "    <tr>\n",
       "      <th>Melanesia</th>\n",
       "      <td>2.0</td>\n",
       "      <td>0.0</td>\n",
       "      <td>0.0</td>\n",
       "      <td>0.0</td>\n",
       "      <td>0.0</td>\n",
       "      <td>1.0</td>\n",
       "      <td>1.0</td>\n",
       "      <td>0.0</td>\n",
       "      <td>1.0</td>\n",
       "    </tr>\n",
       "    <tr>\n",
       "      <th>Northern Africa</th>\n",
       "      <td>3.0</td>\n",
       "      <td>2.0</td>\n",
       "      <td>0.0</td>\n",
       "      <td>1.0</td>\n",
       "      <td>0.0</td>\n",
       "      <td>84.0</td>\n",
       "      <td>1.0</td>\n",
       "      <td>0.0</td>\n",
       "      <td>2.0</td>\n",
       "    </tr>\n",
       "    <tr>\n",
       "      <th>Northern America</th>\n",
       "      <td>64.0</td>\n",
       "      <td>23.0</td>\n",
       "      <td>1.0</td>\n",
       "      <td>0.0</td>\n",
       "      <td>1.0</td>\n",
       "      <td>293.0</td>\n",
       "      <td>81.0</td>\n",
       "      <td>0.0</td>\n",
       "      <td>17.0</td>\n",
       "    </tr>\n",
       "    <tr>\n",
       "      <th>Northern Europe</th>\n",
       "      <td>1.0</td>\n",
       "      <td>2.0</td>\n",
       "      <td>0.0</td>\n",
       "      <td>0.0</td>\n",
       "      <td>0.0</td>\n",
       "      <td>96.0</td>\n",
       "      <td>30.0</td>\n",
       "      <td>2.0</td>\n",
       "      <td>2.0</td>\n",
       "    </tr>\n",
       "    <tr>\n",
       "      <th>South-eastern Asia</th>\n",
       "      <td>11.0</td>\n",
       "      <td>6.0</td>\n",
       "      <td>0.0</td>\n",
       "      <td>0.0</td>\n",
       "      <td>0.0</td>\n",
       "      <td>82.0</td>\n",
       "      <td>13.0</td>\n",
       "      <td>0.0</td>\n",
       "      <td>12.0</td>\n",
       "    </tr>\n",
       "    <tr>\n",
       "      <th>Southern Asia</th>\n",
       "      <td>8.0</td>\n",
       "      <td>27.0</td>\n",
       "      <td>0.0</td>\n",
       "      <td>0.0</td>\n",
       "      <td>0.0</td>\n",
       "      <td>170.0</td>\n",
       "      <td>20.0</td>\n",
       "      <td>1.0</td>\n",
       "      <td>8.0</td>\n",
       "    </tr>\n",
       "    <tr>\n",
       "      <th>Southern Europe</th>\n",
       "      <td>6.0</td>\n",
       "      <td>6.0</td>\n",
       "      <td>0.0</td>\n",
       "      <td>0.0</td>\n",
       "      <td>0.0</td>\n",
       "      <td>226.0</td>\n",
       "      <td>74.0</td>\n",
       "      <td>0.0</td>\n",
       "      <td>9.0</td>\n",
       "    </tr>\n",
       "    <tr>\n",
       "      <th>Sub-Saharan Africa</th>\n",
       "      <td>2.0</td>\n",
       "      <td>3.0</td>\n",
       "      <td>0.0</td>\n",
       "      <td>0.0</td>\n",
       "      <td>0.0</td>\n",
       "      <td>39.0</td>\n",
       "      <td>20.0</td>\n",
       "      <td>0.0</td>\n",
       "      <td>2.0</td>\n",
       "    </tr>\n",
       "    <tr>\n",
       "      <th>Western Asia</th>\n",
       "      <td>4.0</td>\n",
       "      <td>14.0</td>\n",
       "      <td>0.0</td>\n",
       "      <td>0.0</td>\n",
       "      <td>0.0</td>\n",
       "      <td>204.0</td>\n",
       "      <td>22.0</td>\n",
       "      <td>1.0</td>\n",
       "      <td>4.0</td>\n",
       "    </tr>\n",
       "    <tr>\n",
       "      <th>Western Europe</th>\n",
       "      <td>2.0</td>\n",
       "      <td>2.0</td>\n",
       "      <td>0.0</td>\n",
       "      <td>0.0</td>\n",
       "      <td>0.0</td>\n",
       "      <td>195.0</td>\n",
       "      <td>61.0</td>\n",
       "      <td>0.0</td>\n",
       "      <td>1.0</td>\n",
       "    </tr>\n",
       "  </tbody>\n",
       "</table>\n",
       "</div>"
      ],
      "text/plain": [
       "Status                                     Cancelled  Construction  Idle  \\\n",
       "          StartSubRegion                                                   \n",
       "ProjectID Australia and New Zealand             12.0           1.0   0.0   \n",
       "          Central Asia                           2.0           5.0   0.0   \n",
       "          Eastern Asia                          10.0         149.0   0.0   \n",
       "          Eastern Europe                        11.0          20.0   1.0   \n",
       "          Latin America and the Caribbean        6.0           8.0   1.0   \n",
       "          Melanesia                              2.0           0.0   0.0   \n",
       "          Northern Africa                        3.0           2.0   0.0   \n",
       "          Northern America                      64.0          23.0   1.0   \n",
       "          Northern Europe                        1.0           2.0   0.0   \n",
       "          South-eastern Asia                    11.0           6.0   0.0   \n",
       "          Southern Asia                          8.0          27.0   0.0   \n",
       "          Southern Europe                        6.0           6.0   0.0   \n",
       "          Sub-Saharan Africa                     2.0           3.0   0.0   \n",
       "          Western Asia                           4.0          14.0   0.0   \n",
       "          Western Europe                         2.0           2.0   0.0   \n",
       "\n",
       "Status                                     Mothballed  N/A  Operating  \\\n",
       "          StartSubRegion                                                \n",
       "ProjectID Australia and New Zealand               0.0  2.0       95.0   \n",
       "          Central Asia                            0.0  0.0       43.0   \n",
       "          Eastern Asia                            0.0  1.0      572.0   \n",
       "          Eastern Europe                          5.0  0.0      281.0   \n",
       "          Latin America and the Caribbean         1.0  0.0      100.0   \n",
       "          Melanesia                               0.0  0.0        1.0   \n",
       "          Northern Africa                         1.0  0.0       84.0   \n",
       "          Northern America                        0.0  1.0      293.0   \n",
       "          Northern Europe                         0.0  0.0       96.0   \n",
       "          South-eastern Asia                      0.0  0.0       82.0   \n",
       "          Southern Asia                           0.0  0.0      170.0   \n",
       "          Southern Europe                         0.0  0.0      226.0   \n",
       "          Sub-Saharan Africa                      0.0  0.0       39.0   \n",
       "          Western Asia                            0.0  0.0      204.0   \n",
       "          Western Europe                          0.0  0.0      195.0   \n",
       "\n",
       "Status                                     Proposed  Retired  Shelved  \n",
       "          StartSubRegion                                               \n",
       "ProjectID Australia and New Zealand            24.0      0.0     11.0  \n",
       "          Central Asia                          9.0      0.0      0.0  \n",
       "          Eastern Asia                        237.0      2.0      4.0  \n",
       "          Eastern Europe                      101.0      3.0      6.0  \n",
       "          Latin America and the Caribbean      39.0      0.0      8.0  \n",
       "          Melanesia                             1.0      0.0      1.0  \n",
       "          Northern Africa                       1.0      0.0      2.0  \n",
       "          Northern America                     81.0      0.0     17.0  \n",
       "          Northern Europe                      30.0      2.0      2.0  \n",
       "          South-eastern Asia                   13.0      0.0     12.0  \n",
       "          Southern Asia                        20.0      1.0      8.0  \n",
       "          Southern Europe                      74.0      0.0      9.0  \n",
       "          Sub-Saharan Africa                   20.0      0.0      2.0  \n",
       "          Western Asia                         22.0      1.0      4.0  \n",
       "          Western Europe                       61.0      0.0      1.0  "
      ]
     },
     "execution_count": 8,
     "metadata": {},
     "output_type": "execute_result"
    }
   ],
   "source": [
    "#projectid_count_df = pandas.DataFrame(pipes_df_orig.loc[pipes_df_orig.Fuel.isin(['Oil','NGL'])].groupby(['Status','StartSubRegion'])['ProjectID'].count())\n",
    "projectid_count_df = pandas.DataFrame(pipes_df_orig.loc[pipes_df_orig.Fuel.isin(['Gas','Hydrogen'])].groupby(['Status','StartSubRegion'])['ProjectID'].count())\n",
    "\n",
    "projectid_count_df.unstack().transpose().replace(numpy.nan,0)"
   ]
  },
  {
   "cell_type": "code",
   "execution_count": 9,
   "id": "a397d325-0a27-46e3-8dc6-f7d1b597aba5",
   "metadata": {},
   "outputs": [
    {
     "data": {
      "text/html": [
       "<div>\n",
       "<style scoped>\n",
       "    .dataframe tbody tr th:only-of-type {\n",
       "        vertical-align: middle;\n",
       "    }\n",
       "\n",
       "    .dataframe tbody tr th {\n",
       "        vertical-align: top;\n",
       "    }\n",
       "\n",
       "    .dataframe thead th {\n",
       "        text-align: right;\n",
       "    }\n",
       "</style>\n",
       "<table border=\"1\" class=\"dataframe\">\n",
       "  <thead>\n",
       "    <tr style=\"text-align: right;\">\n",
       "      <th></th>\n",
       "      <th>Status</th>\n",
       "      <th>Cancelled</th>\n",
       "      <th>Construction</th>\n",
       "      <th>Idle</th>\n",
       "      <th>Mothballed</th>\n",
       "      <th>Operating</th>\n",
       "      <th>Proposed</th>\n",
       "      <th>Retired</th>\n",
       "      <th>Shelved</th>\n",
       "    </tr>\n",
       "    <tr>\n",
       "      <th></th>\n",
       "      <th>StartSubRegion</th>\n",
       "      <th></th>\n",
       "      <th></th>\n",
       "      <th></th>\n",
       "      <th></th>\n",
       "      <th></th>\n",
       "      <th></th>\n",
       "      <th></th>\n",
       "      <th></th>\n",
       "    </tr>\n",
       "  </thead>\n",
       "  <tbody>\n",
       "    <tr>\n",
       "      <th rowspan=\"16\" valign=\"top\">ProjectID</th>\n",
       "      <th></th>\n",
       "      <td>0.0</td>\n",
       "      <td>0.0</td>\n",
       "      <td>0.0</td>\n",
       "      <td>0.0</td>\n",
       "      <td>1.0</td>\n",
       "      <td>0.0</td>\n",
       "      <td>0.0</td>\n",
       "      <td>0.0</td>\n",
       "    </tr>\n",
       "    <tr>\n",
       "      <th>Australia and New Zealand</th>\n",
       "      <td>0.0</td>\n",
       "      <td>0.0</td>\n",
       "      <td>0.0</td>\n",
       "      <td>0.0</td>\n",
       "      <td>12.0</td>\n",
       "      <td>0.0</td>\n",
       "      <td>1.0</td>\n",
       "      <td>0.0</td>\n",
       "    </tr>\n",
       "    <tr>\n",
       "      <th>Central Asia</th>\n",
       "      <td>2.0</td>\n",
       "      <td>0.0</td>\n",
       "      <td>0.0</td>\n",
       "      <td>2.0</td>\n",
       "      <td>12.0</td>\n",
       "      <td>0.0</td>\n",
       "      <td>0.0</td>\n",
       "      <td>1.0</td>\n",
       "    </tr>\n",
       "    <tr>\n",
       "      <th>Eastern Asia</th>\n",
       "      <td>4.0</td>\n",
       "      <td>5.0</td>\n",
       "      <td>1.0</td>\n",
       "      <td>0.0</td>\n",
       "      <td>137.0</td>\n",
       "      <td>23.0</td>\n",
       "      <td>22.0</td>\n",
       "      <td>0.0</td>\n",
       "    </tr>\n",
       "    <tr>\n",
       "      <th>Eastern Europe</th>\n",
       "      <td>9.0</td>\n",
       "      <td>4.0</td>\n",
       "      <td>3.0</td>\n",
       "      <td>3.0</td>\n",
       "      <td>105.0</td>\n",
       "      <td>11.0</td>\n",
       "      <td>3.0</td>\n",
       "      <td>0.0</td>\n",
       "    </tr>\n",
       "    <tr>\n",
       "      <th>Latin America and the Caribbean</th>\n",
       "      <td>3.0</td>\n",
       "      <td>1.0</td>\n",
       "      <td>0.0</td>\n",
       "      <td>1.0</td>\n",
       "      <td>124.0</td>\n",
       "      <td>3.0</td>\n",
       "      <td>0.0</td>\n",
       "      <td>1.0</td>\n",
       "    </tr>\n",
       "    <tr>\n",
       "      <th>Melanesia</th>\n",
       "      <td>0.0</td>\n",
       "      <td>0.0</td>\n",
       "      <td>0.0</td>\n",
       "      <td>0.0</td>\n",
       "      <td>1.0</td>\n",
       "      <td>0.0</td>\n",
       "      <td>0.0</td>\n",
       "      <td>0.0</td>\n",
       "    </tr>\n",
       "    <tr>\n",
       "      <th>Northern Africa</th>\n",
       "      <td>1.0</td>\n",
       "      <td>1.0</td>\n",
       "      <td>0.0</td>\n",
       "      <td>0.0</td>\n",
       "      <td>60.0</td>\n",
       "      <td>2.0</td>\n",
       "      <td>0.0</td>\n",
       "      <td>1.0</td>\n",
       "    </tr>\n",
       "    <tr>\n",
       "      <th>Northern America</th>\n",
       "      <td>45.0</td>\n",
       "      <td>6.0</td>\n",
       "      <td>0.0</td>\n",
       "      <td>0.0</td>\n",
       "      <td>294.0</td>\n",
       "      <td>28.0</td>\n",
       "      <td>4.0</td>\n",
       "      <td>9.0</td>\n",
       "    </tr>\n",
       "    <tr>\n",
       "      <th>Northern Europe</th>\n",
       "      <td>0.0</td>\n",
       "      <td>0.0</td>\n",
       "      <td>0.0</td>\n",
       "      <td>0.0</td>\n",
       "      <td>19.0</td>\n",
       "      <td>0.0</td>\n",
       "      <td>0.0</td>\n",
       "      <td>0.0</td>\n",
       "    </tr>\n",
       "    <tr>\n",
       "      <th>South-eastern Asia</th>\n",
       "      <td>1.0</td>\n",
       "      <td>1.0</td>\n",
       "      <td>0.0</td>\n",
       "      <td>0.0</td>\n",
       "      <td>13.0</td>\n",
       "      <td>1.0</td>\n",
       "      <td>0.0</td>\n",
       "      <td>0.0</td>\n",
       "    </tr>\n",
       "    <tr>\n",
       "      <th>Southern Asia</th>\n",
       "      <td>3.0</td>\n",
       "      <td>15.0</td>\n",
       "      <td>0.0</td>\n",
       "      <td>0.0</td>\n",
       "      <td>54.0</td>\n",
       "      <td>3.0</td>\n",
       "      <td>0.0</td>\n",
       "      <td>0.0</td>\n",
       "    </tr>\n",
       "    <tr>\n",
       "      <th>Southern Europe</th>\n",
       "      <td>1.0</td>\n",
       "      <td>0.0</td>\n",
       "      <td>1.0</td>\n",
       "      <td>0.0</td>\n",
       "      <td>5.0</td>\n",
       "      <td>4.0</td>\n",
       "      <td>0.0</td>\n",
       "      <td>0.0</td>\n",
       "    </tr>\n",
       "    <tr>\n",
       "      <th>Sub-Saharan Africa</th>\n",
       "      <td>2.0</td>\n",
       "      <td>1.0</td>\n",
       "      <td>0.0</td>\n",
       "      <td>0.0</td>\n",
       "      <td>35.0</td>\n",
       "      <td>5.0</td>\n",
       "      <td>0.0</td>\n",
       "      <td>0.0</td>\n",
       "    </tr>\n",
       "    <tr>\n",
       "      <th>Western Asia</th>\n",
       "      <td>7.0</td>\n",
       "      <td>6.0</td>\n",
       "      <td>2.0</td>\n",
       "      <td>4.0</td>\n",
       "      <td>101.0</td>\n",
       "      <td>10.0</td>\n",
       "      <td>3.0</td>\n",
       "      <td>3.0</td>\n",
       "    </tr>\n",
       "    <tr>\n",
       "      <th>Western Europe</th>\n",
       "      <td>2.0</td>\n",
       "      <td>0.0</td>\n",
       "      <td>1.0</td>\n",
       "      <td>0.0</td>\n",
       "      <td>16.0</td>\n",
       "      <td>0.0</td>\n",
       "      <td>0.0</td>\n",
       "      <td>0.0</td>\n",
       "    </tr>\n",
       "  </tbody>\n",
       "</table>\n",
       "</div>"
      ],
      "text/plain": [
       "Status                                     Cancelled  Construction  Idle  \\\n",
       "          StartSubRegion                                                   \n",
       "ProjectID                                        0.0           0.0   0.0   \n",
       "          Australia and New Zealand              0.0           0.0   0.0   \n",
       "          Central Asia                           2.0           0.0   0.0   \n",
       "          Eastern Asia                           4.0           5.0   1.0   \n",
       "          Eastern Europe                         9.0           4.0   3.0   \n",
       "          Latin America and the Caribbean        3.0           1.0   0.0   \n",
       "          Melanesia                              0.0           0.0   0.0   \n",
       "          Northern Africa                        1.0           1.0   0.0   \n",
       "          Northern America                      45.0           6.0   0.0   \n",
       "          Northern Europe                        0.0           0.0   0.0   \n",
       "          South-eastern Asia                     1.0           1.0   0.0   \n",
       "          Southern Asia                          3.0          15.0   0.0   \n",
       "          Southern Europe                        1.0           0.0   1.0   \n",
       "          Sub-Saharan Africa                     2.0           1.0   0.0   \n",
       "          Western Asia                           7.0           6.0   2.0   \n",
       "          Western Europe                         2.0           0.0   1.0   \n",
       "\n",
       "Status                                     Mothballed  Operating  Proposed  \\\n",
       "          StartSubRegion                                                     \n",
       "ProjectID                                         0.0        1.0       0.0   \n",
       "          Australia and New Zealand               0.0       12.0       0.0   \n",
       "          Central Asia                            2.0       12.0       0.0   \n",
       "          Eastern Asia                            0.0      137.0      23.0   \n",
       "          Eastern Europe                          3.0      105.0      11.0   \n",
       "          Latin America and the Caribbean         1.0      124.0       3.0   \n",
       "          Melanesia                               0.0        1.0       0.0   \n",
       "          Northern Africa                         0.0       60.0       2.0   \n",
       "          Northern America                        0.0      294.0      28.0   \n",
       "          Northern Europe                         0.0       19.0       0.0   \n",
       "          South-eastern Asia                      0.0       13.0       1.0   \n",
       "          Southern Asia                           0.0       54.0       3.0   \n",
       "          Southern Europe                         0.0        5.0       4.0   \n",
       "          Sub-Saharan Africa                      0.0       35.0       5.0   \n",
       "          Western Asia                            4.0      101.0      10.0   \n",
       "          Western Europe                          0.0       16.0       0.0   \n",
       "\n",
       "Status                                     Retired  Shelved  \n",
       "          StartSubRegion                                     \n",
       "ProjectID                                      0.0      0.0  \n",
       "          Australia and New Zealand            1.0      0.0  \n",
       "          Central Asia                         0.0      1.0  \n",
       "          Eastern Asia                        22.0      0.0  \n",
       "          Eastern Europe                       3.0      0.0  \n",
       "          Latin America and the Caribbean      0.0      1.0  \n",
       "          Melanesia                            0.0      0.0  \n",
       "          Northern Africa                      0.0      1.0  \n",
       "          Northern America                     4.0      9.0  \n",
       "          Northern Europe                      0.0      0.0  \n",
       "          South-eastern Asia                   0.0      0.0  \n",
       "          Southern Asia                        0.0      0.0  \n",
       "          Southern Europe                      0.0      0.0  \n",
       "          Sub-Saharan Africa                   0.0      0.0  \n",
       "          Western Asia                         3.0      3.0  \n",
       "          Western Europe                       0.0      0.0  "
      ]
     },
     "execution_count": 9,
     "metadata": {},
     "output_type": "execute_result"
    }
   ],
   "source": [
    "#projectid_count_df = pandas.DataFrame(pipes_df_orig.loc[pipes_df_orig.Fuel.isin(['Oil','NGL'])].groupby(['Status','StartSubRegion'])['ProjectID'].count())\n",
    "projectid_count_df = pandas.DataFrame(pipes_df_orig.loc[pipes_df_orig.Fuel.isin(['Oil','NGL'])].groupby(['Status','StartSubRegion'])['ProjectID'].count())\n",
    "\n",
    "projectid_count_df.unstack().transpose().replace(numpy.nan,0)"
   ]
  },
  {
   "cell_type": "markdown",
   "id": "8e3e10d1-36ba-4dca-8daf-a6d67c314f1f",
   "metadata": {},
   "source": [
    "## print all unique country names"
   ]
  },
  {
   "cell_type": "code",
   "execution_count": 19,
   "id": "835f1099-c70b-402a-a3fe-7a068db9dffa",
   "metadata": {},
   "outputs": [],
   "source": [
    "countries_list = pipes_df_orig.loc[pipes_df_orig.Fuel.isin(['Oil','NGL'])].Countries.str.split(', ').tolist()\n",
    "countries_list_flat = sorted(list(set([item for items in countries_list for item in items])))"
   ]
  },
  {
   "cell_type": "code",
   "execution_count": 21,
   "id": "8e3e2f55-489c-409d-a9b8-140cffc242b3",
   "metadata": {},
   "outputs": [
    {
     "name": "stdout",
     "output_type": "stream",
     "text": [
      "Afghanistan\n",
      "Albania\n",
      "Algeria\n",
      "Angola\n",
      "Argentina\n",
      "Australia\n",
      "Austria\n",
      "Azerbaijan\n",
      "Bahrain\n",
      "Bangladesh\n",
      "Belarus\n",
      "Belgium\n",
      "Benin\n",
      "Bolivia\n",
      "Bosnia and Herzegovina\n",
      "Brazil\n",
      "Brunei\n",
      "Bulgaria\n",
      "Cambodia\n",
      "Cameroon\n",
      "Canada\n",
      "Chad\n",
      "Chile\n",
      "China\n",
      "Colombia\n",
      "Croatia\n",
      "Cuba\n",
      "Czech Republic\n",
      "Denmark\n",
      "Ecuador\n",
      "Egypt\n",
      "Ethiopia\n",
      "France\n",
      "Gabon\n",
      "Georgia\n",
      "Germany\n",
      "Greece\n",
      "Guatemala\n",
      "Hungary\n",
      "Iceland\n",
      "India\n",
      "Indonesia\n",
      "Iran\n",
      "Iraq\n",
      "Israel\n",
      "Italy\n",
      "Japan\n",
      "Jordan\n",
      "Kazakhstan\n",
      "Kenya\n",
      "Kuwait\n",
      "Laos\n",
      "Latvia\n",
      "Lebanon\n",
      "Libya\n",
      "Lithuania\n",
      "Luxembourg\n",
      "Mexico\n",
      "Myanmar\n",
      "Netherlands\n",
      "New Zealand\n",
      "Niger\n",
      "Nigeria\n",
      "North Korea\n",
      "North Macedonia\n",
      "Norway\n",
      "Oman\n",
      "Pakistan\n",
      "Palestine\n",
      "Panama\n",
      "Papua New Guinea\n",
      "Peru\n",
      "Philippines\n",
      "Poland\n",
      "Portugal\n",
      "Qatar\n",
      "Republic of Sudan\n",
      "Republic of the Congo\n",
      "Romania\n",
      "Russia\n",
      "Saudi Arabia\n",
      "Serbia\n",
      "Slovakia\n",
      "Slovenia\n",
      "South Africa\n",
      "South Sudan\n",
      "Spain\n",
      "Sri Lanka\n",
      "Switzerland\n",
      "Syria\n",
      "Tanzania\n",
      "Thailand\n",
      "Trinidad and Tobago\n",
      "Tunisia\n",
      "Turkey \n",
      "Turkmenistan\n",
      "Türkiye\n",
      "Uganda\n",
      "Ukraine\n",
      "United Arab Emirates\n",
      "United Kingdom\n",
      "United States\n",
      "Uruguay\n",
      "Uzbekistan\n",
      "Venezuela\n",
      "Vietnam\n",
      "Yemen\n",
      "Zambia\n"
     ]
    }
   ],
   "source": [
    "for i in countries_list_flat:\n",
    "    print(i)"
   ]
  },
  {
   "cell_type": "markdown",
   "id": "10939184-73f7-4f00-a2f0-4e003f8901bf",
   "metadata": {},
   "source": [
    "## country-specific calculations"
   ]
  },
  {
   "cell_type": "markdown",
   "id": "865d081d-2fc4-4bb9-a286-bf38f48eba1c",
   "metadata": {},
   "source": [
    "### for Nagwa or Arabic language expert"
   ]
  },
  {
   "cell_type": "code",
   "execution_count": 98,
   "id": "0aa77122-987c-4645-8981-3907548ef3e9",
   "metadata": {},
   "outputs": [],
   "source": [
    "arabic_speaking_countries = ['Algeria', \n",
    "                             'Bahrain', \n",
    "                           'Chad', \n",
    "                           'Comoros', \n",
    "                           'Djibouti', \n",
    "                           'Egypt', \n",
    "                           'Iraq', \n",
    "                           'Jordan', \n",
    "                           'Kuwait', \n",
    "                           'Lebanon', \n",
    "                           'Libya', \n",
    "                           'Mauritania', \n",
    "                           'Morocco', \n",
    "                           'Oman', \n",
    "                           'Qatar', \n",
    "                           'Saudi Arabia', \n",
    "                           'Somalia', \n",
    "                           'Sudan', \n",
    "                           'Syria', \n",
    "                           'Tunisia', \n",
    "                           'United Arab Emirates', \n",
    "                           'Yemen']"
   ]
  },
  {
   "cell_type": "code",
   "execution_count": 99,
   "id": "14553229-2829-40c3-a0e8-6e519bcab715",
   "metadata": {},
   "outputs": [
    {
     "data": {
      "text/plain": [
       "(262, 105)"
      ]
     },
     "execution_count": 99,
     "metadata": {},
     "output_type": "execute_result"
    }
   ],
   "source": [
    "pipes_df_orig.loc[(pipes_df_orig.Fuel.isin(['Gas','Hydrogen']))&\n",
    "                  (pipes_df_orig.StartCountry.isin(arabic_speaking_countries))].shape"
   ]
  },
  {
   "cell_type": "code",
   "execution_count": 100,
   "id": "0c7442de-5ff9-4267-a787-96b3ec933bcb",
   "metadata": {},
   "outputs": [
    {
     "data": {
      "text/plain": [
       "(189, 105)"
      ]
     },
     "execution_count": 100,
     "metadata": {},
     "output_type": "execute_result"
    }
   ],
   "source": [
    "pipes_df_orig.loc[(pipes_df_orig.Fuel.isin(['Oil','NGL']))&\n",
    "                  (pipes_df_orig.StartCountry.isin(arabic_speaking_countries))].shape"
   ]
  },
  {
   "cell_type": "code",
   "execution_count": 101,
   "id": "1d68f75b-3a15-4a1a-b31f-e44b381896e1",
   "metadata": {},
   "outputs": [
    {
     "data": {
      "text/plain": [
       "(27, 105)"
      ]
     },
     "execution_count": 101,
     "metadata": {},
     "output_type": "execute_result"
    }
   ],
   "source": [
    "pipes_df_orig.loc[(pipes_df_orig.Fuel.isin(['Gas','Hydrogen']))&\n",
    "                  (pipes_df_orig.StartCountry.isin(arabic_speaking_countries))&\n",
    "                  (pipes_df_orig.Status.isin(['Proposed','Construction','Shelved']))].shape"
   ]
  },
  {
   "cell_type": "code",
   "execution_count": 102,
   "id": "74107e45-73d3-4dda-8c1a-f99adc26f04c",
   "metadata": {},
   "outputs": [
    {
     "data": {
      "text/plain": [
       "(23, 105)"
      ]
     },
     "execution_count": 102,
     "metadata": {},
     "output_type": "execute_result"
    }
   ],
   "source": [
    "pipes_df_orig.loc[(pipes_df_orig.Fuel.isin(['Oil','NGL']))&\n",
    "                  (pipes_df_orig.StartCountry.isin(arabic_speaking_countries))&\n",
    "                  (pipes_df_orig.Status.isin(['Proposed','Construction','Shelved']))].shape"
   ]
  },
  {
   "cell_type": "markdown",
   "id": "ebdab98c-97e8-4a10-a02e-d3d115f1d904",
   "metadata": {},
   "source": [
    "### Russian speaking countries"
   ]
  },
  {
   "cell_type": "code",
   "execution_count": 103,
   "id": "cd1c30e7-a96d-48fd-ae9e-d3c773134ce6",
   "metadata": {},
   "outputs": [],
   "source": [
    "russian_speaking_countries = ['Russia', \n",
    "                              'Belarus', \n",
    "                              'Kyrgyzstan',\n",
    "                              'Kazakhstan', \n",
    "                              'Ukraine', \n",
    "                              'Azerbaijan', \n",
    "                              'Estonia', \n",
    "                              'Georgia', \n",
    "                              'Latvia', \n",
    "                              'Lithuania', \n",
    "                              'Moldova', \n",
    "                              'Tajikistan', \n",
    "                              'Turkmenistan', \n",
    "                              'Uzbekistan']"
   ]
  },
  {
   "cell_type": "code",
   "execution_count": 104,
   "id": "0e5e51e7-b45b-4d85-b630-144d55d672d9",
   "metadata": {},
   "outputs": [
    {
     "data": {
      "text/plain": [
       "(387, 105)"
      ]
     },
     "execution_count": 104,
     "metadata": {},
     "output_type": "execute_result"
    }
   ],
   "source": [
    "pipes_df_orig.loc[(pipes_df_orig.Fuel.isin(['Gas','Hydrogen']))&\n",
    "                  (pipes_df_orig.StartCountry.isin(russian_speaking_countries))].shape"
   ]
  },
  {
   "cell_type": "code",
   "execution_count": 105,
   "id": "b6ebd3cd-d28a-4497-b33b-c0d8679e5731",
   "metadata": {},
   "outputs": [
    {
     "data": {
      "text/plain": [
       "(145, 105)"
      ]
     },
     "execution_count": 105,
     "metadata": {},
     "output_type": "execute_result"
    }
   ],
   "source": [
    "pipes_df_orig.loc[(pipes_df_orig.Fuel.isin(['Oil','NGL']))&\n",
    "                  (pipes_df_orig.StartCountry.isin(russian_speaking_countries))].shape"
   ]
  },
  {
   "cell_type": "code",
   "execution_count": 106,
   "id": "587a40e3-596e-488e-90e2-92ea28c4844d",
   "metadata": {},
   "outputs": [
    {
     "data": {
      "text/plain": [
       "(107, 105)"
      ]
     },
     "execution_count": 106,
     "metadata": {},
     "output_type": "execute_result"
    }
   ],
   "source": [
    "pipes_df_orig.loc[(pipes_df_orig.Fuel.isin(['Gas','Hydrogen']))&\n",
    "                  (pipes_df_orig.StartCountry.isin(russian_speaking_countries))&\n",
    "                  (pipes_df_orig.Status.isin(['Proposed','Construction','Shelved']))].shape"
   ]
  },
  {
   "cell_type": "code",
   "execution_count": 107,
   "id": "61047e37-5d1d-445e-8454-dce42f6b63ef",
   "metadata": {},
   "outputs": [
    {
     "data": {
      "text/plain": [
       "(12, 105)"
      ]
     },
     "execution_count": 107,
     "metadata": {},
     "output_type": "execute_result"
    }
   ],
   "source": [
    "pipes_df_orig.loc[(pipes_df_orig.Fuel.isin(['Oil','NGL']))&\n",
    "                  (pipes_df_orig.StartCountry.isin(russian_speaking_countries))&\n",
    "                  (pipes_df_orig.Status.isin(['Proposed','Construction','Shelved']))].shape"
   ]
  },
  {
   "cell_type": "code",
   "execution_count": 108,
   "id": "0d14ce01-fba6-48bd-aa94-08ca28dc6fd5",
   "metadata": {},
   "outputs": [],
   "source": [
    "# asia_gas_tracker_countries = [ \\\n",
    "#                                 'Bangladesh',\n",
    "#                                 'Brunei',\n",
    "#                                 'Cambodia',\n",
    "#                                 #'China',\n",
    "#                                 #'Hong Kong',\n",
    "#                                 'India',\n",
    "#                                 'Indonesia',\n",
    "#                                 'Japan',\n",
    "#                                 #'Macao',\n",
    "#                                 'Malaysia',\n",
    "#                                 'Myanmar',\n",
    "#                                 'Pakistan',\n",
    "#                                 'Philippines',\n",
    "#                                 'Singapore',\n",
    "#                                 'South Korea',\n",
    "#                                 'Sri Lanka',\n",
    "#                                 'Taiwan',\n",
    "#                                 'Thailand',\n",
    "#                                 'Vietnam'\n",
    "#                              ]\n",
    "\n",
    "# below updated Sep 2023\n",
    "asia_gas_tracker_countries = [ \\\n",
    "'Afghanistan',\n",
    "'Bangladesh',\n",
    "'Bhutan',\n",
    "'Brunei',\n",
    "'Cambodia',\n",
    "#'China',\n",
    "#'Hong Kong',\n",
    "'India',\n",
    "'Indonesia',\n",
    "'Iran',\n",
    "'Japan',\n",
    "'Laos',\n",
    "#'Macao',\n",
    "'Malaysia',\n",
    "'Mongolia',\n",
    "'Myanmar',\n",
    "'Nepal',\n",
    "'North Korea',\n",
    "'Pakistan',\n",
    "'Philippines',\n",
    "'Singapore',\n",
    "'South Korea',\n",
    "'Sri Lanka',\n",
    "'Taiwan',\n",
    "'Thailand',\n",
    "'Timor-Leste',\n",
    "'Vietnam'\n",
    "]"
   ]
  },
  {
   "cell_type": "code",
   "execution_count": 109,
   "id": "00f53081-ba57-45a0-8a47-ddf9eab3b76c",
   "metadata": {},
   "outputs": [
    {
     "data": {
      "text/plain": [
       "(466, 105)"
      ]
     },
     "execution_count": 109,
     "metadata": {},
     "output_type": "execute_result"
    }
   ],
   "source": [
    "pipes_df_orig.loc[(pipes_df_orig.Fuel.isin(['Gas','Hydrogen']))&\n",
    "                  (pipes_df_orig.StartCountry.isin(asia_gas_tracker_countries))].shape"
   ]
  },
  {
   "cell_type": "code",
   "execution_count": 110,
   "id": "6382f5ac-83ba-43af-8bb3-eea25a9809f9",
   "metadata": {},
   "outputs": [
    {
     "data": {
      "text/plain": [
       "(92, 105)"
      ]
     },
     "execution_count": 110,
     "metadata": {},
     "output_type": "execute_result"
    }
   ],
   "source": [
    "pipes_df_orig.loc[(pipes_df_orig.Fuel.isin(['Oil','NGL']))&\n",
    "                  (pipes_df_orig.StartCountry.isin(asia_gas_tracker_countries))].shape"
   ]
  },
  {
   "cell_type": "code",
   "execution_count": 111,
   "id": "2e923d2c-8b39-416f-8c12-7296899042c3",
   "metadata": {},
   "outputs": [
    {
     "data": {
      "text/plain": [
       "(92, 105)"
      ]
     },
     "execution_count": 111,
     "metadata": {},
     "output_type": "execute_result"
    }
   ],
   "source": [
    "pipes_df_orig.loc[(pipes_df_orig.Fuel.isin(['Gas','Hydrogen']))&\n",
    "                  (pipes_df_orig.StartCountry.isin(asia_gas_tracker_countries))&\n",
    "                  (pipes_df_orig.Status.isin(['Proposed','Construction','Shelved']))].shape"
   ]
  },
  {
   "cell_type": "code",
   "execution_count": 112,
   "id": "967c9765-8e41-4dd8-9f65-936573326289",
   "metadata": {},
   "outputs": [
    {
     "data": {
      "text/plain": [
       "(20, 105)"
      ]
     },
     "execution_count": 112,
     "metadata": {},
     "output_type": "execute_result"
    }
   ],
   "source": [
    "pipes_df_orig.loc[(pipes_df_orig.Fuel.isin(['Oil','NGL']))&\n",
    "                  (pipes_df_orig.StartCountry.isin(asia_gas_tracker_countries))&\n",
    "                  (pipes_df_orig.Status.isin(['Proposed','Construction','Shelved']))].shape"
   ]
  },
  {
   "cell_type": "markdown",
   "id": "80b760db-8a34-4eaf-804c-6c7ed2e29305",
   "metadata": {},
   "source": [
    "### China/Taiwan/Hong Kong/Macao"
   ]
  },
  {
   "cell_type": "code",
   "execution_count": 113,
   "id": "97d2c400-a4f1-444e-b5c2-31332ba20226",
   "metadata": {},
   "outputs": [
    {
     "data": {
      "text/plain": [
       "(852, 105)"
      ]
     },
     "execution_count": 113,
     "metadata": {},
     "output_type": "execute_result"
    }
   ],
   "source": [
    "pipes_df_orig.loc[(pipes_df_orig.Fuel.isin(['Gas', 'Hydrogen']))&\n",
    "                  (pipes_df_orig.StartCountry.isin(['China','Taiwan','Hong Kong','Macao']))].shape"
   ]
  },
  {
   "cell_type": "code",
   "execution_count": 114,
   "id": "224bced5-c49e-422b-994d-676ea393cba9",
   "metadata": {},
   "outputs": [
    {
     "data": {
      "text/plain": [
       "(191, 105)"
      ]
     },
     "execution_count": 114,
     "metadata": {},
     "output_type": "execute_result"
    }
   ],
   "source": [
    "pipes_df_orig.loc[(pipes_df_orig.Fuel.isin(['Oil','NGL']))&\n",
    "                  (pipes_df_orig.StartCountry.isin(['China','Taiwan','Hong Kong','Macao']))].shape"
   ]
  },
  {
   "cell_type": "code",
   "execution_count": 115,
   "id": "eb65f794-e59d-4eae-b90e-156054f34d9b",
   "metadata": {},
   "outputs": [
    {
     "data": {
      "text/plain": [
       "(386, 105)"
      ]
     },
     "execution_count": 115,
     "metadata": {},
     "output_type": "execute_result"
    }
   ],
   "source": [
    "pipes_df_orig.loc[(pipes_df_orig.Fuel.isin(['Gas','Hydrogen']))&\n",
    "                  (pipes_df_orig.StartCountry.isin(['China','Taiwan','Hong Kong','Macao']))&\n",
    "                  (pipes_df_orig.Status.isin(['Proposed','Construction','Shelved']))].shape"
   ]
  },
  {
   "cell_type": "code",
   "execution_count": 116,
   "id": "b84fc9d6-2bfa-49e2-92fd-e6d61e33159e",
   "metadata": {},
   "outputs": [
    {
     "data": {
      "text/plain": [
       "(28, 105)"
      ]
     },
     "execution_count": 116,
     "metadata": {},
     "output_type": "execute_result"
    }
   ],
   "source": [
    "pipes_df_orig.loc[(pipes_df_orig.Fuel.isin(['Oil','NGL']))&\n",
    "                  (pipes_df_orig.StartCountry.isin(['China','Taiwan','Hong Kong','Macao']))&\n",
    "                  (pipes_df_orig.Status.isin(['Proposed','Construction','Shelved']))].shape"
   ]
  }
 ],
 "metadata": {
  "kernelspec": {
   "display_name": "Python 3 (ipykernel)",
   "language": "python",
   "name": "python3"
  },
  "language_info": {
   "codemirror_mode": {
    "name": "ipython",
    "version": 3
   },
   "file_extension": ".py",
   "mimetype": "text/x-python",
   "name": "python",
   "nbconvert_exporter": "python",
   "pygments_lexer": "ipython3",
   "version": "3.11.6"
  }
 },
 "nbformat": 4,
 "nbformat_minor": 5
}
