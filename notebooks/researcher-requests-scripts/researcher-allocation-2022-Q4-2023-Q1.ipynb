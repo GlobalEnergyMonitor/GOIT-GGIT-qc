{
 "cells": [
  {
   "cell_type": "markdown",
   "id": "1a6ca556-68e5-422c-9089-9bb689b5d588",
   "metadata": {},
   "source": [
    "# code for calculating researcher needs"
   ]
  },
  {
   "cell_type": "code",
   "execution_count": 36,
   "id": "cf50b2b9-4476-4856-b22e-67a415811257",
   "metadata": {},
   "outputs": [],
   "source": [
    "import pandas\n",
    "import pygsheets\n",
    "import numpy"
   ]
  },
  {
   "cell_type": "code",
   "execution_count": 37,
   "id": "7480e85e-d14a-40a8-b29b-3697ebba5111",
   "metadata": {},
   "outputs": [],
   "source": [
    "credentials_directory = '/Users/baird/Dropbox/_google-api/'\n",
    "gc = pygsheets.authorize(client_secret=credentials_directory+'client_secret.json')\n",
    "spreadsheet = gc.open_by_key('1foPLE6K-uqFlaYgLPAUxzeXfDO5wOOqE7tibNHeqTek')\n",
    "\n",
    "#spreadsheet[1] \"Gas Pipelines\" tab is the second index\n",
    "gas_pipes = spreadsheet.worksheet('title','Gas pipelines').get_as_df(start='A2')\n",
    "oil_pipes = spreadsheet.worksheet('title', 'Oil/NGL pipelines').get_as_df(start='A2')\n",
    "\n",
    "pipes_df_orig = pandas.concat([oil_pipes, gas_pipes], ignore_index=True)\n",
    "\n",
    "#get country ratios sheet\n",
    "country_ratios_df = spreadsheet.worksheet('title', 'Country ratios by pipeline').get_as_df()"
   ]
  },
  {
   "cell_type": "code",
   "execution_count": 38,
   "id": "d9c1a309-ec8b-406a-8b41-6cae4ef5b482",
   "metadata": {},
   "outputs": [],
   "source": [
    "# replace -- entries with NaN\n",
    "pipes_df_orig = pipes_df_orig.replace('--', numpy.nan)\n",
    "pipes_df_orig = pipes_df_orig[pipes_df_orig['PipelineName']!='']\n",
    "#pipes_df_orig = pipes_df_orig[pipes_df_orig['Wiki']!='']\n",
    "#country_ratios_df.replace('--', numpy.nan, inplace=True)"
   ]
  },
  {
   "cell_type": "code",
   "execution_count": 39,
   "id": "f929653e-ec0a-4721-9dc2-f22865dceb5a",
   "metadata": {},
   "outputs": [],
   "source": [
    "status_list = ['Proposed', 'Construction', 'Shelved', 'Cancelled', \n",
    "               'Operating', 'Idle', 'Mothballed', 'Retired']\n",
    "country_list = sorted(list(set(country_ratios_df['Country'])))\n",
    "region_list = sorted(list(set(country_ratios_df['Region'])))"
   ]
  },
  {
   "cell_type": "markdown",
   "id": "8a6af0e5-8a3b-4c8a-97a2-bb78fa59a797",
   "metadata": {},
   "source": [
    "## how many oil pipelines per region?"
   ]
  },
  {
   "cell_type": "code",
   "execution_count": 40,
   "id": "40db4f9a-d8c9-4726-9428-5830ef329fbb",
   "metadata": {},
   "outputs": [
    {
     "data": {
      "text/plain": [
       "(979, 88)"
      ]
     },
     "execution_count": 40,
     "metadata": {},
     "output_type": "execute_result"
    }
   ],
   "source": [
    "pipes_df_orig.loc[pipes_df_orig.Fuel.isin(['Oil','NGL'])].shape"
   ]
  },
  {
   "cell_type": "raw",
   "id": "ada4132b-152a-49a2-b671-1b8539913e8f",
   "metadata": {},
   "source": [
    "pandas.to_datetime(pipes_df_orig.LastUpdated, )"
   ]
  },
  {
   "cell_type": "raw",
   "id": "5e63b2be-a8a3-4c31-bb3b-7fa57f4f629b",
   "metadata": {},
   "source": [
    "for status in status_list:\n",
    "    pipes_df_orig.loc[(pipes_df_orig.Fuel.isin(['Oil','NGL']))&\n",
    "                      (pipes_df_orig.Status.isin([status]))]"
   ]
  },
  {
   "cell_type": "code",
   "execution_count": 57,
   "id": "73a5fa0f-7edc-45b8-a1ed-49068248a435",
   "metadata": {},
   "outputs": [],
   "source": [
    "projectid_count_df = pandas.DataFrame(pipes_df_orig.loc[pipes_df_orig.Fuel.isin(['Oil','NGL'])].groupby(['Status','StartRegion'])['ProjectID'].count())"
   ]
  },
  {
   "cell_type": "code",
   "execution_count": 54,
   "id": "1f496993-171a-401b-8873-e3f61bc056e6",
   "metadata": {},
   "outputs": [
    {
     "data": {
      "text/html": [
       "<div>\n",
       "<style scoped>\n",
       "    .dataframe tbody tr th:only-of-type {\n",
       "        vertical-align: middle;\n",
       "    }\n",
       "\n",
       "    .dataframe tbody tr th {\n",
       "        vertical-align: top;\n",
       "    }\n",
       "\n",
       "    .dataframe thead th {\n",
       "        text-align: right;\n",
       "    }\n",
       "</style>\n",
       "<table border=\"1\" class=\"dataframe\">\n",
       "  <thead>\n",
       "    <tr style=\"text-align: right;\">\n",
       "      <th></th>\n",
       "      <th>Status</th>\n",
       "      <th>Cancelled</th>\n",
       "      <th>Construction</th>\n",
       "      <th>Idle</th>\n",
       "      <th>Mothballed</th>\n",
       "      <th>Operating</th>\n",
       "      <th>Proposed</th>\n",
       "      <th>Retired</th>\n",
       "      <th>Shelved</th>\n",
       "    </tr>\n",
       "    <tr>\n",
       "      <th></th>\n",
       "      <th>StartRegion</th>\n",
       "      <th></th>\n",
       "      <th></th>\n",
       "      <th></th>\n",
       "      <th></th>\n",
       "      <th></th>\n",
       "      <th></th>\n",
       "      <th></th>\n",
       "      <th></th>\n",
       "    </tr>\n",
       "  </thead>\n",
       "  <tbody>\n",
       "    <tr>\n",
       "      <th rowspan=\"10\" valign=\"top\">ProjectID</th>\n",
       "      <th>Australia and New Zealand</th>\n",
       "      <td>0.0</td>\n",
       "      <td>0.0</td>\n",
       "      <td>0.0</td>\n",
       "      <td>0.0</td>\n",
       "      <td>12.0</td>\n",
       "      <td>0.0</td>\n",
       "      <td>1.0</td>\n",
       "      <td>0.0</td>\n",
       "    </tr>\n",
       "    <tr>\n",
       "      <th>East Asia</th>\n",
       "      <td>4.0</td>\n",
       "      <td>8.0</td>\n",
       "      <td>0.0</td>\n",
       "      <td>0.0</td>\n",
       "      <td>108.0</td>\n",
       "      <td>11.0</td>\n",
       "      <td>20.0</td>\n",
       "      <td>0.0</td>\n",
       "    </tr>\n",
       "    <tr>\n",
       "      <th>Eurasia</th>\n",
       "      <td>7.0</td>\n",
       "      <td>5.0</td>\n",
       "      <td>0.0</td>\n",
       "      <td>1.0</td>\n",
       "      <td>76.0</td>\n",
       "      <td>5.0</td>\n",
       "      <td>1.0</td>\n",
       "      <td>0.0</td>\n",
       "    </tr>\n",
       "    <tr>\n",
       "      <th>Europe</th>\n",
       "      <td>11.0</td>\n",
       "      <td>1.0</td>\n",
       "      <td>2.0</td>\n",
       "      <td>0.0</td>\n",
       "      <td>34.0</td>\n",
       "      <td>3.0</td>\n",
       "      <td>0.0</td>\n",
       "      <td>0.0</td>\n",
       "    </tr>\n",
       "    <tr>\n",
       "      <th>Latin America and the Caribbean</th>\n",
       "      <td>2.0</td>\n",
       "      <td>0.0</td>\n",
       "      <td>0.0</td>\n",
       "      <td>1.0</td>\n",
       "      <td>53.0</td>\n",
       "      <td>3.0</td>\n",
       "      <td>0.0</td>\n",
       "      <td>2.0</td>\n",
       "    </tr>\n",
       "    <tr>\n",
       "      <th>Middle East and North Africa</th>\n",
       "      <td>8.0</td>\n",
       "      <td>10.0</td>\n",
       "      <td>0.0</td>\n",
       "      <td>2.0</td>\n",
       "      <td>126.0</td>\n",
       "      <td>2.0</td>\n",
       "      <td>1.0</td>\n",
       "      <td>1.0</td>\n",
       "    </tr>\n",
       "    <tr>\n",
       "      <th>North America</th>\n",
       "      <td>43.0</td>\n",
       "      <td>8.0</td>\n",
       "      <td>0.0</td>\n",
       "      <td>0.0</td>\n",
       "      <td>287.0</td>\n",
       "      <td>27.0</td>\n",
       "      <td>2.0</td>\n",
       "      <td>10.0</td>\n",
       "    </tr>\n",
       "    <tr>\n",
       "      <th>SE Asia</th>\n",
       "      <td>0.0</td>\n",
       "      <td>1.0</td>\n",
       "      <td>0.0</td>\n",
       "      <td>0.0</td>\n",
       "      <td>15.0</td>\n",
       "      <td>2.0</td>\n",
       "      <td>0.0</td>\n",
       "      <td>1.0</td>\n",
       "    </tr>\n",
       "    <tr>\n",
       "      <th>South Asia</th>\n",
       "      <td>2.0</td>\n",
       "      <td>4.0</td>\n",
       "      <td>0.0</td>\n",
       "      <td>0.0</td>\n",
       "      <td>9.0</td>\n",
       "      <td>1.0</td>\n",
       "      <td>0.0</td>\n",
       "      <td>1.0</td>\n",
       "    </tr>\n",
       "    <tr>\n",
       "      <th>Sub-Saharan Africa</th>\n",
       "      <td>1.0</td>\n",
       "      <td>1.0</td>\n",
       "      <td>0.0</td>\n",
       "      <td>0.0</td>\n",
       "      <td>35.0</td>\n",
       "      <td>3.0</td>\n",
       "      <td>0.0</td>\n",
       "      <td>1.0</td>\n",
       "    </tr>\n",
       "  </tbody>\n",
       "</table>\n",
       "</div>"
      ],
      "text/plain": [
       "Status                                     Cancelled  Construction  Idle  \\\n",
       "          StartRegion                                                      \n",
       "ProjectID Australia and New Zealand              0.0           0.0   0.0   \n",
       "          East Asia                              4.0           8.0   0.0   \n",
       "          Eurasia                                7.0           5.0   0.0   \n",
       "          Europe                                11.0           1.0   2.0   \n",
       "          Latin America and the Caribbean        2.0           0.0   0.0   \n",
       "          Middle East and North Africa           8.0          10.0   0.0   \n",
       "          North America                         43.0           8.0   0.0   \n",
       "          SE Asia                                0.0           1.0   0.0   \n",
       "          South Asia                             2.0           4.0   0.0   \n",
       "          Sub-Saharan Africa                     1.0           1.0   0.0   \n",
       "\n",
       "Status                                     Mothballed  Operating  Proposed  \\\n",
       "          StartRegion                                                        \n",
       "ProjectID Australia and New Zealand               0.0       12.0       0.0   \n",
       "          East Asia                               0.0      108.0      11.0   \n",
       "          Eurasia                                 1.0       76.0       5.0   \n",
       "          Europe                                  0.0       34.0       3.0   \n",
       "          Latin America and the Caribbean         1.0       53.0       3.0   \n",
       "          Middle East and North Africa            2.0      126.0       2.0   \n",
       "          North America                           0.0      287.0      27.0   \n",
       "          SE Asia                                 0.0       15.0       2.0   \n",
       "          South Asia                              0.0        9.0       1.0   \n",
       "          Sub-Saharan Africa                      0.0       35.0       3.0   \n",
       "\n",
       "Status                                     Retired  Shelved  \n",
       "          StartRegion                                        \n",
       "ProjectID Australia and New Zealand            1.0      0.0  \n",
       "          East Asia                           20.0      0.0  \n",
       "          Eurasia                              1.0      0.0  \n",
       "          Europe                               0.0      0.0  \n",
       "          Latin America and the Caribbean      0.0      2.0  \n",
       "          Middle East and North Africa         1.0      1.0  \n",
       "          North America                        2.0     10.0  \n",
       "          SE Asia                              0.0      1.0  \n",
       "          South Asia                           0.0      1.0  \n",
       "          Sub-Saharan Africa                   0.0      1.0  "
      ]
     },
     "execution_count": 54,
     "metadata": {},
     "output_type": "execute_result"
    }
   ],
   "source": [
    "projectid_count_df.unstack().transpose().replace(numpy.nan,0)"
   ]
  },
  {
   "cell_type": "markdown",
   "id": "10939184-73f7-4f00-a2f0-4e003f8901bf",
   "metadata": {},
   "source": [
    "## country-specific calculations"
   ]
  },
  {
   "cell_type": "markdown",
   "id": "865d081d-2fc4-4bb9-a286-bf38f48eba1c",
   "metadata": {},
   "source": [
    "### for Nagwa or Arabic language expert"
   ]
  },
  {
   "cell_type": "code",
   "execution_count": 61,
   "id": "0aa77122-987c-4645-8981-3907548ef3e9",
   "metadata": {},
   "outputs": [],
   "source": [
    "arabic_speaking_countries = ['Algeria', \n",
    "                             'Bahrain', \n",
    "                           'Chad', \n",
    "                           'Comoros', \n",
    "                           'Djibouti', \n",
    "                           'Egypt', \n",
    "                           'Iraq', \n",
    "                           'Jordan', \n",
    "                           'Kuwait', \n",
    "                           'Lebanon', \n",
    "                           'Libya', \n",
    "                           'Mauritania', \n",
    "                           'Morocco', \n",
    "                           'Oman', \n",
    "                           'Qatar', \n",
    "                           'Saudi Arabia', \n",
    "                           'Somalia', \n",
    "                           'Sudan', \n",
    "                           'Syria', \n",
    "                           'Tunisia', \n",
    "                           'United Arab Emirates', \n",
    "                           'Yemen']"
   ]
  },
  {
   "cell_type": "code",
   "execution_count": 62,
   "id": "0c7442de-5ff9-4267-a787-96b3ec933bcb",
   "metadata": {},
   "outputs": [
    {
     "data": {
      "text/plain": [
       "(141, 88)"
      ]
     },
     "execution_count": 62,
     "metadata": {},
     "output_type": "execute_result"
    }
   ],
   "source": [
    "pipes_df_orig.loc[(pipes_df_orig.Fuel.isin(['Oil','NGL']))&\n",
    "                  (pipes_df_orig.StartCountry.isin(arabic_speaking_countries))].shape"
   ]
  },
  {
   "cell_type": "code",
   "execution_count": 72,
   "id": "74107e45-73d3-4dda-8c1a-f99adc26f04c",
   "metadata": {},
   "outputs": [
    {
     "data": {
      "text/plain": [
       "(7, 88)"
      ]
     },
     "execution_count": 72,
     "metadata": {},
     "output_type": "execute_result"
    }
   ],
   "source": [
    "pipes_df_orig.loc[(pipes_df_orig.Fuel.isin(['Oil','NGL']))&\n",
    "                  (pipes_df_orig.StartCountry.isin(arabic_speaking_countries))&\n",
    "                  (pipes_df_orig.Status.isin(['Proposed','Construction']))].shape"
   ]
  },
  {
   "cell_type": "markdown",
   "id": "ebdab98c-97e8-4a10-a02e-d3d115f1d904",
   "metadata": {},
   "source": [
    "### Russian speaking countries"
   ]
  },
  {
   "cell_type": "code",
   "execution_count": 63,
   "id": "cd1c30e7-a96d-48fd-ae9e-d3c773134ce6",
   "metadata": {},
   "outputs": [],
   "source": [
    "russian_speaking_countries = ['Russia', \n",
    "                              'Belarus', \n",
    "                              'Kyrgyzstan',\n",
    "                              'Kazakhstan', \n",
    "                              'Ukraine', \n",
    "                              'Azerbaijan', \n",
    "                              'Estonia', \n",
    "                              'Georgia', \n",
    "                              'Latvia', \n",
    "                              'Lithuania', \n",
    "                              'Moldova', \n",
    "                              'Tajikistan', \n",
    "                              'Turkmenistan', \n",
    "                              'Uzbekistan']"
   ]
  },
  {
   "cell_type": "code",
   "execution_count": 64,
   "id": "b6ebd3cd-d28a-4497-b33b-c0d8679e5731",
   "metadata": {},
   "outputs": [
    {
     "data": {
      "text/plain": [
       "(100, 88)"
      ]
     },
     "execution_count": 64,
     "metadata": {},
     "output_type": "execute_result"
    }
   ],
   "source": [
    "pipes_df_orig.loc[(pipes_df_orig.Fuel.isin(['Oil','NGL']))&\n",
    "                  (pipes_df_orig.StartCountry.isin(russian_speaking_countries))].shape"
   ]
  },
  {
   "cell_type": "code",
   "execution_count": 70,
   "id": "61047e37-5d1d-445e-8454-dce42f6b63ef",
   "metadata": {},
   "outputs": [
    {
     "data": {
      "text/plain": [
       "(12, 88)"
      ]
     },
     "execution_count": 70,
     "metadata": {},
     "output_type": "execute_result"
    }
   ],
   "source": [
    "pipes_df_orig.loc[(pipes_df_orig.Fuel.isin(['Oil','NGL']))&\n",
    "                  (pipes_df_orig.StartCountry.isin(russian_speaking_countries))&\n",
    "                  (pipes_df_orig.Status.isin(['Proposed','Construction']))].shape"
   ]
  },
  {
   "cell_type": "code",
   "execution_count": 68,
   "id": "0d14ce01-fba6-48bd-aa94-08ca28dc6fd5",
   "metadata": {},
   "outputs": [],
   "source": [
    "asia_gas_tracker_countries = [ \\\n",
    "                                'Bangladesh',\n",
    "                                'Brunei',\n",
    "                                'Cambodia',\n",
    "                                #'China',\n",
    "                                #'Hong Kong',\n",
    "                                'India',\n",
    "                                'Indonesia',\n",
    "                                'Japan',\n",
    "                                #'Macao',\n",
    "                                'Malaysia',\n",
    "                                'Myanmar',\n",
    "                                'Pakistan',\n",
    "                                'Philippines',\n",
    "                                'Singapore',\n",
    "                                'South Korea',\n",
    "                                'Sri Lanka',\n",
    "                                'Taiwan',\n",
    "                                'Thailand',\n",
    "                                'Vietnam'\n",
    "                             ]"
   ]
  },
  {
   "cell_type": "code",
   "execution_count": 69,
   "id": "6382f5ac-83ba-43af-8bb3-eea25a9809f9",
   "metadata": {},
   "outputs": [
    {
     "data": {
      "text/plain": [
       "(38, 88)"
      ]
     },
     "execution_count": 69,
     "metadata": {},
     "output_type": "execute_result"
    }
   ],
   "source": [
    "pipes_df_orig.loc[(pipes_df_orig.Fuel.isin(['Oil','NGL']))&\n",
    "                  (pipes_df_orig.StartCountry.isin(asia_gas_tracker_countries))].shape"
   ]
  },
  {
   "cell_type": "code",
   "execution_count": 73,
   "id": "967c9765-8e41-4dd8-9f65-936573326289",
   "metadata": {},
   "outputs": [
    {
     "data": {
      "text/plain": [
       "(8, 88)"
      ]
     },
     "execution_count": 73,
     "metadata": {},
     "output_type": "execute_result"
    }
   ],
   "source": [
    "pipes_df_orig.loc[(pipes_df_orig.Fuel.isin(['Oil','NGL']))&\n",
    "                  (pipes_df_orig.StartCountry.isin(asia_gas_tracker_countries))&\n",
    "                  (pipes_df_orig.Status.isin(['Proposed','Construction']))].shape"
   ]
  },
  {
   "cell_type": "markdown",
   "id": "80b760db-8a34-4eaf-804c-6c7ed2e29305",
   "metadata": {},
   "source": [
    "### China/Taiwan/Hong Kong/Macao"
   ]
  },
  {
   "cell_type": "code",
   "execution_count": 74,
   "id": "224bced5-c49e-422b-994d-676ea393cba9",
   "metadata": {},
   "outputs": [
    {
     "data": {
      "text/plain": [
       "(148, 88)"
      ]
     },
     "execution_count": 74,
     "metadata": {},
     "output_type": "execute_result"
    }
   ],
   "source": [
    "pipes_df_orig.loc[(pipes_df_orig.Fuel.isin(['Oil','NGL']))&\n",
    "                  (pipes_df_orig.StartCountry.isin(['China','Taiwan','Hong Kong','Macao']))].shape"
   ]
  },
  {
   "cell_type": "code",
   "execution_count": 75,
   "id": "b84fc9d6-2bfa-49e2-92fd-e6d61e33159e",
   "metadata": {},
   "outputs": [
    {
     "data": {
      "text/plain": [
       "(19, 88)"
      ]
     },
     "execution_count": 75,
     "metadata": {},
     "output_type": "execute_result"
    }
   ],
   "source": [
    "pipes_df_orig.loc[(pipes_df_orig.Fuel.isin(['Oil','NGL']))&\n",
    "                  (pipes_df_orig.StartCountry.isin(['China','Taiwan','Hong Kong','Macao']))&\n",
    "                  (pipes_df_orig.Status.isin(['Proposed','Construction']))].shape"
   ]
  }
 ],
 "metadata": {
  "kernelspec": {
   "display_name": "Python 3 (ipykernel)",
   "language": "python",
   "name": "python3"
  },
  "language_info": {
   "codemirror_mode": {
    "name": "ipython",
    "version": 3
   },
   "file_extension": ".py",
   "mimetype": "text/x-python",
   "name": "python",
   "nbconvert_exporter": "python",
   "pygments_lexer": "ipython3",
   "version": "3.11.0"
  }
 },
 "nbformat": 4,
 "nbformat_minor": 5
}
