{
 "cells": [
  {
   "cell_type": "markdown",
   "id": "1a6ca556-68e5-422c-9089-9bb689b5d588",
   "metadata": {},
   "source": [
    "# code for calculating researcher needs"
   ]
  },
  {
   "cell_type": "code",
   "execution_count": 30,
   "id": "cf50b2b9-4476-4856-b22e-67a415811257",
   "metadata": {},
   "outputs": [],
   "source": [
    "import pandas\n",
    "import pygsheets\n",
    "import numpy"
   ]
  },
  {
   "cell_type": "code",
   "execution_count": 81,
   "id": "7480e85e-d14a-40a8-b29b-3697ebba5111",
   "metadata": {},
   "outputs": [
    {
     "name": "stderr",
     "output_type": "stream",
     "text": [
      "/var/folders/fl/t07mc8053p33mn6mdmvp45580000gn/T/ipykernel_37269/766882344.py:8: FutureWarning: Downcasting behavior in `replace` is deprecated and will be removed in a future version. To retain the old behavior, explicitly call `result.infer_objects(copy=False)`. To opt-in to the future behavior, set `pd.set_option('future.no_silent_downcasting', True)`\n",
      "  gas_pipes = gas_pipes.replace('--', numpy.nan)\n"
     ]
    }
   ],
   "source": [
    "gc = pygsheets.authorize(service_account_env_var='GDRIVE_API_CREDENTIALS')\n",
    "spreadsheet = gc.open_by_key('1foPLE6K-uqFlaYgLPAUxzeXfDO5wOOqE7tibNHeqTek')\n",
    "\n",
    "#spreadsheet[1] \"Gas Pipelines\" tab is the second index\n",
    "gas_pipes = spreadsheet.worksheet('title','Gas pipelines').get_as_df(start='A3')\n",
    "oil_pipes = spreadsheet.worksheet('title', 'Oil/NGL pipelines').get_as_df(start='A3')\n",
    "\n",
    "gas_pipes = gas_pipes.replace('--', numpy.nan)\n",
    "gas_pipes = gas_pipes[gas_pipes['PipelineName']!='']\n",
    "\n",
    "gas_pipes = gas_pipes.replace('--', numpy.nan)\n",
    "gas_pipes = gas_pipes[gas_pipes['PipelineName']!='']\n",
    "\n",
    "pipes_df_orig = pandas.concat([oil_pipes, gas_pipes], ignore_index=True)\n",
    "\n",
    "#get country ratios sheet\n",
    "country_ratios_df = spreadsheet.worksheet('title', 'Country ratios by pipeline').get_as_df()"
   ]
  },
  {
   "cell_type": "code",
   "execution_count": 82,
   "id": "f929653e-ec0a-4721-9dc2-f22865dceb5a",
   "metadata": {},
   "outputs": [],
   "source": [
    "status_list = ['proposed', 'construction', 'shelved', 'cancelled', \n",
    "               'operating', 'idle', 'mothballed', 'retired']\n",
    "country_list = sorted(list(set(country_ratios_df['Country'])))\n",
    "region_list = sorted(list(set(country_ratios_df['Region'])))"
   ]
  },
  {
   "cell_type": "markdown",
   "id": "8a6af0e5-8a3b-4c8a-97a2-bb78fa59a797",
   "metadata": {},
   "source": [
    "## how many oil pipelines per region?"
   ]
  },
  {
   "cell_type": "code",
   "execution_count": 88,
   "id": "ac4d8ffe-d108-4389-8fa5-294670fcae09",
   "metadata": {},
   "outputs": [
    {
     "data": {
      "text/html": [
       "<div>\n",
       "<style scoped>\n",
       "    .dataframe tbody tr th:only-of-type {\n",
       "        vertical-align: middle;\n",
       "    }\n",
       "\n",
       "    .dataframe tbody tr th {\n",
       "        vertical-align: top;\n",
       "    }\n",
       "\n",
       "    .dataframe thead th {\n",
       "        text-align: right;\n",
       "    }\n",
       "</style>\n",
       "<table border=\"1\" class=\"dataframe\">\n",
       "  <thead>\n",
       "    <tr style=\"text-align: right;\">\n",
       "      <th>Status</th>\n",
       "      <th></th>\n",
       "      <th>N/A</th>\n",
       "      <th>cancelled</th>\n",
       "      <th>construction</th>\n",
       "      <th>idle</th>\n",
       "      <th>mothballed</th>\n",
       "      <th>operating</th>\n",
       "      <th>proposed</th>\n",
       "      <th>retired</th>\n",
       "      <th>shelved</th>\n",
       "    </tr>\n",
       "    <tr>\n",
       "      <th>StartSubRegion</th>\n",
       "      <th></th>\n",
       "      <th></th>\n",
       "      <th></th>\n",
       "      <th></th>\n",
       "      <th></th>\n",
       "      <th></th>\n",
       "      <th></th>\n",
       "      <th></th>\n",
       "      <th></th>\n",
       "      <th></th>\n",
       "    </tr>\n",
       "  </thead>\n",
       "  <tbody>\n",
       "    <tr>\n",
       "      <th>--</th>\n",
       "      <td>11.0</td>\n",
       "      <td>0.0</td>\n",
       "      <td>0.0</td>\n",
       "      <td>0.0</td>\n",
       "      <td>0.0</td>\n",
       "      <td>0.0</td>\n",
       "      <td>0.0</td>\n",
       "      <td>1.0</td>\n",
       "      <td>0.0</td>\n",
       "      <td>0.0</td>\n",
       "    </tr>\n",
       "    <tr>\n",
       "      <th>Australia and New Zealand</th>\n",
       "      <td>0.0</td>\n",
       "      <td>0.0</td>\n",
       "      <td>0.0</td>\n",
       "      <td>0.0</td>\n",
       "      <td>0.0</td>\n",
       "      <td>0.0</td>\n",
       "      <td>14.0</td>\n",
       "      <td>0.0</td>\n",
       "      <td>1.0</td>\n",
       "      <td>0.0</td>\n",
       "    </tr>\n",
       "    <tr>\n",
       "      <th>Central Asia</th>\n",
       "      <td>0.0</td>\n",
       "      <td>0.0</td>\n",
       "      <td>3.0</td>\n",
       "      <td>0.0</td>\n",
       "      <td>0.0</td>\n",
       "      <td>2.0</td>\n",
       "      <td>33.0</td>\n",
       "      <td>1.0</td>\n",
       "      <td>0.0</td>\n",
       "      <td>0.0</td>\n",
       "    </tr>\n",
       "    <tr>\n",
       "      <th>Eastern Asia</th>\n",
       "      <td>0.0</td>\n",
       "      <td>1.0</td>\n",
       "      <td>4.0</td>\n",
       "      <td>15.0</td>\n",
       "      <td>1.0</td>\n",
       "      <td>0.0</td>\n",
       "      <td>208.0</td>\n",
       "      <td>58.0</td>\n",
       "      <td>25.0</td>\n",
       "      <td>2.0</td>\n",
       "    </tr>\n",
       "    <tr>\n",
       "      <th>Eastern Europe</th>\n",
       "      <td>0.0</td>\n",
       "      <td>0.0</td>\n",
       "      <td>9.0</td>\n",
       "      <td>6.0</td>\n",
       "      <td>9.0</td>\n",
       "      <td>4.0</td>\n",
       "      <td>135.0</td>\n",
       "      <td>14.0</td>\n",
       "      <td>3.0</td>\n",
       "      <td>0.0</td>\n",
       "    </tr>\n",
       "    <tr>\n",
       "      <th>Latin America and the Caribbean</th>\n",
       "      <td>0.0</td>\n",
       "      <td>0.0</td>\n",
       "      <td>3.0</td>\n",
       "      <td>2.0</td>\n",
       "      <td>1.0</td>\n",
       "      <td>0.0</td>\n",
       "      <td>158.0</td>\n",
       "      <td>4.0</td>\n",
       "      <td>0.0</td>\n",
       "      <td>0.0</td>\n",
       "    </tr>\n",
       "    <tr>\n",
       "      <th>Melanesia</th>\n",
       "      <td>0.0</td>\n",
       "      <td>0.0</td>\n",
       "      <td>0.0</td>\n",
       "      <td>0.0</td>\n",
       "      <td>0.0</td>\n",
       "      <td>0.0</td>\n",
       "      <td>1.0</td>\n",
       "      <td>0.0</td>\n",
       "      <td>0.0</td>\n",
       "      <td>0.0</td>\n",
       "    </tr>\n",
       "    <tr>\n",
       "      <th>Northern Africa</th>\n",
       "      <td>0.0</td>\n",
       "      <td>0.0</td>\n",
       "      <td>1.0</td>\n",
       "      <td>1.0</td>\n",
       "      <td>0.0</td>\n",
       "      <td>0.0</td>\n",
       "      <td>67.0</td>\n",
       "      <td>5.0</td>\n",
       "      <td>0.0</td>\n",
       "      <td>1.0</td>\n",
       "    </tr>\n",
       "    <tr>\n",
       "      <th>Northern America</th>\n",
       "      <td>0.0</td>\n",
       "      <td>1.0</td>\n",
       "      <td>52.0</td>\n",
       "      <td>9.0</td>\n",
       "      <td>0.0</td>\n",
       "      <td>0.0</td>\n",
       "      <td>367.0</td>\n",
       "      <td>19.0</td>\n",
       "      <td>4.0</td>\n",
       "      <td>7.0</td>\n",
       "    </tr>\n",
       "    <tr>\n",
       "      <th>Northern Europe</th>\n",
       "      <td>0.0</td>\n",
       "      <td>0.0</td>\n",
       "      <td>0.0</td>\n",
       "      <td>0.0</td>\n",
       "      <td>1.0</td>\n",
       "      <td>0.0</td>\n",
       "      <td>23.0</td>\n",
       "      <td>0.0</td>\n",
       "      <td>0.0</td>\n",
       "      <td>0.0</td>\n",
       "    </tr>\n",
       "    <tr>\n",
       "      <th>South-eastern Asia</th>\n",
       "      <td>0.0</td>\n",
       "      <td>0.0</td>\n",
       "      <td>1.0</td>\n",
       "      <td>0.0</td>\n",
       "      <td>0.0</td>\n",
       "      <td>0.0</td>\n",
       "      <td>13.0</td>\n",
       "      <td>1.0</td>\n",
       "      <td>0.0</td>\n",
       "      <td>0.0</td>\n",
       "    </tr>\n",
       "    <tr>\n",
       "      <th>Southern Asia</th>\n",
       "      <td>0.0</td>\n",
       "      <td>0.0</td>\n",
       "      <td>3.0</td>\n",
       "      <td>22.0</td>\n",
       "      <td>0.0</td>\n",
       "      <td>0.0</td>\n",
       "      <td>102.0</td>\n",
       "      <td>2.0</td>\n",
       "      <td>0.0</td>\n",
       "      <td>0.0</td>\n",
       "    </tr>\n",
       "    <tr>\n",
       "      <th>Southern Europe</th>\n",
       "      <td>0.0</td>\n",
       "      <td>0.0</td>\n",
       "      <td>1.0</td>\n",
       "      <td>0.0</td>\n",
       "      <td>1.0</td>\n",
       "      <td>1.0</td>\n",
       "      <td>10.0</td>\n",
       "      <td>2.0</td>\n",
       "      <td>1.0</td>\n",
       "      <td>2.0</td>\n",
       "    </tr>\n",
       "    <tr>\n",
       "      <th>Sub-Saharan Africa</th>\n",
       "      <td>0.0</td>\n",
       "      <td>0.0</td>\n",
       "      <td>2.0</td>\n",
       "      <td>1.0</td>\n",
       "      <td>0.0</td>\n",
       "      <td>0.0</td>\n",
       "      <td>35.0</td>\n",
       "      <td>5.0</td>\n",
       "      <td>0.0</td>\n",
       "      <td>0.0</td>\n",
       "    </tr>\n",
       "    <tr>\n",
       "      <th>Western Asia</th>\n",
       "      <td>0.0</td>\n",
       "      <td>0.0</td>\n",
       "      <td>5.0</td>\n",
       "      <td>14.0</td>\n",
       "      <td>2.0</td>\n",
       "      <td>4.0</td>\n",
       "      <td>163.0</td>\n",
       "      <td>15.0</td>\n",
       "      <td>3.0</td>\n",
       "      <td>3.0</td>\n",
       "    </tr>\n",
       "    <tr>\n",
       "      <th>Western Europe</th>\n",
       "      <td>0.0</td>\n",
       "      <td>0.0</td>\n",
       "      <td>2.0</td>\n",
       "      <td>0.0</td>\n",
       "      <td>1.0</td>\n",
       "      <td>0.0</td>\n",
       "      <td>24.0</td>\n",
       "      <td>1.0</td>\n",
       "      <td>0.0</td>\n",
       "      <td>0.0</td>\n",
       "    </tr>\n",
       "  </tbody>\n",
       "</table>\n",
       "</div>"
      ],
      "text/plain": [
       "Status                                 N/A  cancelled  construction  idle  \\\n",
       "StartSubRegion                                                              \n",
       "--                               11.0  0.0        0.0           0.0   0.0   \n",
       "Australia and New Zealand         0.0  0.0        0.0           0.0   0.0   \n",
       "Central Asia                      0.0  0.0        3.0           0.0   0.0   \n",
       "Eastern Asia                      0.0  1.0        4.0          15.0   1.0   \n",
       "Eastern Europe                    0.0  0.0        9.0           6.0   9.0   \n",
       "Latin America and the Caribbean   0.0  0.0        3.0           2.0   1.0   \n",
       "Melanesia                         0.0  0.0        0.0           0.0   0.0   \n",
       "Northern Africa                   0.0  0.0        1.0           1.0   0.0   \n",
       "Northern America                  0.0  1.0       52.0           9.0   0.0   \n",
       "Northern Europe                   0.0  0.0        0.0           0.0   1.0   \n",
       "South-eastern Asia                0.0  0.0        1.0           0.0   0.0   \n",
       "Southern Asia                     0.0  0.0        3.0          22.0   0.0   \n",
       "Southern Europe                   0.0  0.0        1.0           0.0   1.0   \n",
       "Sub-Saharan Africa                0.0  0.0        2.0           1.0   0.0   \n",
       "Western Asia                      0.0  0.0        5.0          14.0   2.0   \n",
       "Western Europe                    0.0  0.0        2.0           0.0   1.0   \n",
       "\n",
       "Status                           mothballed  operating  proposed  retired  \\\n",
       "StartSubRegion                                                              \n",
       "--                                      0.0        0.0       1.0      0.0   \n",
       "Australia and New Zealand               0.0       14.0       0.0      1.0   \n",
       "Central Asia                            2.0       33.0       1.0      0.0   \n",
       "Eastern Asia                            0.0      208.0      58.0     25.0   \n",
       "Eastern Europe                          4.0      135.0      14.0      3.0   \n",
       "Latin America and the Caribbean         0.0      158.0       4.0      0.0   \n",
       "Melanesia                               0.0        1.0       0.0      0.0   \n",
       "Northern Africa                         0.0       67.0       5.0      0.0   \n",
       "Northern America                        0.0      367.0      19.0      4.0   \n",
       "Northern Europe                         0.0       23.0       0.0      0.0   \n",
       "South-eastern Asia                      0.0       13.0       1.0      0.0   \n",
       "Southern Asia                           0.0      102.0       2.0      0.0   \n",
       "Southern Europe                         1.0       10.0       2.0      1.0   \n",
       "Sub-Saharan Africa                      0.0       35.0       5.0      0.0   \n",
       "Western Asia                            4.0      163.0      15.0      3.0   \n",
       "Western Europe                          0.0       24.0       1.0      0.0   \n",
       "\n",
       "Status                           shelved  \n",
       "StartSubRegion                            \n",
       "--                                   0.0  \n",
       "Australia and New Zealand            0.0  \n",
       "Central Asia                         0.0  \n",
       "Eastern Asia                         2.0  \n",
       "Eastern Europe                       0.0  \n",
       "Latin America and the Caribbean      0.0  \n",
       "Melanesia                            0.0  \n",
       "Northern Africa                      1.0  \n",
       "Northern America                     7.0  \n",
       "Northern Europe                      0.0  \n",
       "South-eastern Asia                   0.0  \n",
       "Southern Asia                        0.0  \n",
       "Southern Europe                      2.0  \n",
       "Sub-Saharan Africa                   0.0  \n",
       "Western Asia                         3.0  \n",
       "Western Europe                       0.0  "
      ]
     },
     "execution_count": 88,
     "metadata": {},
     "output_type": "execute_result"
    }
   ],
   "source": [
    "projectid_count_df = oil_pipes.groupby(['Status','StartSubRegion'])['ProjectID'].count()\n",
    "#projectid_count_df = pandas.DataFrame(pipes_df_orig.loc[pipes_df_orig.Fuel.isin(['Gas','Hydrogen'])].groupby(['Status','StartSubRegion'])['ProjectID'].count())\n",
    "\n",
    "projectid_count_df.unstack().transpose().replace(numpy.nan,0)"
   ]
  },
  {
   "cell_type": "markdown",
   "id": "8d4961ef-eea3-45e7-9c72-b910f45746ee",
   "metadata": {},
   "source": [
    "## how many gas pipelines per region"
   ]
  },
  {
   "cell_type": "code",
   "execution_count": 109,
   "id": "a290d704-bc8c-4833-ad46-e7d884afefa9",
   "metadata": {},
   "outputs": [
    {
     "data": {
      "text/html": [
       "<div>\n",
       "<style scoped>\n",
       "    .dataframe tbody tr th:only-of-type {\n",
       "        vertical-align: middle;\n",
       "    }\n",
       "\n",
       "    .dataframe tbody tr th {\n",
       "        vertical-align: top;\n",
       "    }\n",
       "\n",
       "    .dataframe thead th {\n",
       "        text-align: right;\n",
       "    }\n",
       "</style>\n",
       "<table border=\"1\" class=\"dataframe\">\n",
       "  <thead>\n",
       "    <tr style=\"text-align: right;\">\n",
       "      <th>Status</th>\n",
       "      <th></th>\n",
       "      <th>N/A</th>\n",
       "      <th>cancelled</th>\n",
       "      <th>construction</th>\n",
       "      <th>idle</th>\n",
       "      <th>mothballed</th>\n",
       "      <th>operating</th>\n",
       "      <th>proposed</th>\n",
       "      <th>retired</th>\n",
       "      <th>shelved</th>\n",
       "    </tr>\n",
       "    <tr>\n",
       "      <th>StartSubRegion</th>\n",
       "      <th></th>\n",
       "      <th></th>\n",
       "      <th></th>\n",
       "      <th></th>\n",
       "      <th></th>\n",
       "      <th></th>\n",
       "      <th></th>\n",
       "      <th></th>\n",
       "      <th></th>\n",
       "      <th></th>\n",
       "    </tr>\n",
       "  </thead>\n",
       "  <tbody>\n",
       "    <tr>\n",
       "      <th>Australia and New Zealand</th>\n",
       "      <td>0.0</td>\n",
       "      <td>2.0</td>\n",
       "      <td>12.0</td>\n",
       "      <td>1.0</td>\n",
       "      <td>0.0</td>\n",
       "      <td>0.0</td>\n",
       "      <td>95.0</td>\n",
       "      <td>24.0</td>\n",
       "      <td>0.0</td>\n",
       "      <td>11.0</td>\n",
       "    </tr>\n",
       "    <tr>\n",
       "      <th>Central Asia</th>\n",
       "      <td>0.0</td>\n",
       "      <td>0.0</td>\n",
       "      <td>2.0</td>\n",
       "      <td>4.0</td>\n",
       "      <td>0.0</td>\n",
       "      <td>0.0</td>\n",
       "      <td>46.0</td>\n",
       "      <td>11.0</td>\n",
       "      <td>0.0</td>\n",
       "      <td>1.0</td>\n",
       "    </tr>\n",
       "    <tr>\n",
       "      <th>Eastern Asia</th>\n",
       "      <td>0.0</td>\n",
       "      <td>0.0</td>\n",
       "      <td>12.0</td>\n",
       "      <td>128.0</td>\n",
       "      <td>0.0</td>\n",
       "      <td>1.0</td>\n",
       "      <td>614.0</td>\n",
       "      <td>235.0</td>\n",
       "      <td>3.0</td>\n",
       "      <td>11.0</td>\n",
       "    </tr>\n",
       "    <tr>\n",
       "      <th>Eastern Europe</th>\n",
       "      <td>0.0</td>\n",
       "      <td>0.0</td>\n",
       "      <td>13.0</td>\n",
       "      <td>24.0</td>\n",
       "      <td>1.0</td>\n",
       "      <td>5.0</td>\n",
       "      <td>292.0</td>\n",
       "      <td>116.0</td>\n",
       "      <td>4.0</td>\n",
       "      <td>6.0</td>\n",
       "    </tr>\n",
       "    <tr>\n",
       "      <th>Latin America and the Caribbean</th>\n",
       "      <td>0.0</td>\n",
       "      <td>0.0</td>\n",
       "      <td>12.0</td>\n",
       "      <td>9.0</td>\n",
       "      <td>1.0</td>\n",
       "      <td>1.0</td>\n",
       "      <td>103.0</td>\n",
       "      <td>30.0</td>\n",
       "      <td>0.0</td>\n",
       "      <td>11.0</td>\n",
       "    </tr>\n",
       "    <tr>\n",
       "      <th>Melanesia</th>\n",
       "      <td>0.0</td>\n",
       "      <td>0.0</td>\n",
       "      <td>2.0</td>\n",
       "      <td>0.0</td>\n",
       "      <td>0.0</td>\n",
       "      <td>0.0</td>\n",
       "      <td>1.0</td>\n",
       "      <td>2.0</td>\n",
       "      <td>0.0</td>\n",
       "      <td>1.0</td>\n",
       "    </tr>\n",
       "    <tr>\n",
       "      <th>Northern Africa</th>\n",
       "      <td>0.0</td>\n",
       "      <td>0.0</td>\n",
       "      <td>1.0</td>\n",
       "      <td>11.0</td>\n",
       "      <td>0.0</td>\n",
       "      <td>1.0</td>\n",
       "      <td>166.0</td>\n",
       "      <td>2.0</td>\n",
       "      <td>0.0</td>\n",
       "      <td>1.0</td>\n",
       "    </tr>\n",
       "    <tr>\n",
       "      <th>Northern America</th>\n",
       "      <td>1.0</td>\n",
       "      <td>1.0</td>\n",
       "      <td>66.0</td>\n",
       "      <td>24.0</td>\n",
       "      <td>2.0</td>\n",
       "      <td>0.0</td>\n",
       "      <td>301.0</td>\n",
       "      <td>77.0</td>\n",
       "      <td>0.0</td>\n",
       "      <td>18.0</td>\n",
       "    </tr>\n",
       "    <tr>\n",
       "      <th>Northern Europe</th>\n",
       "      <td>0.0</td>\n",
       "      <td>0.0</td>\n",
       "      <td>1.0</td>\n",
       "      <td>2.0</td>\n",
       "      <td>0.0</td>\n",
       "      <td>0.0</td>\n",
       "      <td>96.0</td>\n",
       "      <td>25.0</td>\n",
       "      <td>2.0</td>\n",
       "      <td>2.0</td>\n",
       "    </tr>\n",
       "    <tr>\n",
       "      <th>South-eastern Asia</th>\n",
       "      <td>0.0</td>\n",
       "      <td>0.0</td>\n",
       "      <td>11.0</td>\n",
       "      <td>6.0</td>\n",
       "      <td>0.0</td>\n",
       "      <td>0.0</td>\n",
       "      <td>82.0</td>\n",
       "      <td>13.0</td>\n",
       "      <td>0.0</td>\n",
       "      <td>12.0</td>\n",
       "    </tr>\n",
       "    <tr>\n",
       "      <th>Southern Asia</th>\n",
       "      <td>0.0</td>\n",
       "      <td>0.0</td>\n",
       "      <td>12.0</td>\n",
       "      <td>26.0</td>\n",
       "      <td>0.0</td>\n",
       "      <td>0.0</td>\n",
       "      <td>171.0</td>\n",
       "      <td>17.0</td>\n",
       "      <td>1.0</td>\n",
       "      <td>9.0</td>\n",
       "    </tr>\n",
       "    <tr>\n",
       "      <th>Southern Europe</th>\n",
       "      <td>0.0</td>\n",
       "      <td>0.0</td>\n",
       "      <td>6.0</td>\n",
       "      <td>5.0</td>\n",
       "      <td>0.0</td>\n",
       "      <td>0.0</td>\n",
       "      <td>228.0</td>\n",
       "      <td>75.0</td>\n",
       "      <td>0.0</td>\n",
       "      <td>7.0</td>\n",
       "    </tr>\n",
       "    <tr>\n",
       "      <th>Sub-Saharan Africa</th>\n",
       "      <td>0.0</td>\n",
       "      <td>0.0</td>\n",
       "      <td>2.0</td>\n",
       "      <td>3.0</td>\n",
       "      <td>0.0</td>\n",
       "      <td>0.0</td>\n",
       "      <td>39.0</td>\n",
       "      <td>20.0</td>\n",
       "      <td>0.0</td>\n",
       "      <td>2.0</td>\n",
       "    </tr>\n",
       "    <tr>\n",
       "      <th>Western Asia</th>\n",
       "      <td>0.0</td>\n",
       "      <td>0.0</td>\n",
       "      <td>5.0</td>\n",
       "      <td>34.0</td>\n",
       "      <td>0.0</td>\n",
       "      <td>0.0</td>\n",
       "      <td>211.0</td>\n",
       "      <td>21.0</td>\n",
       "      <td>1.0</td>\n",
       "      <td>6.0</td>\n",
       "    </tr>\n",
       "    <tr>\n",
       "      <th>Western Europe</th>\n",
       "      <td>1.0</td>\n",
       "      <td>0.0</td>\n",
       "      <td>2.0</td>\n",
       "      <td>3.0</td>\n",
       "      <td>0.0</td>\n",
       "      <td>0.0</td>\n",
       "      <td>194.0</td>\n",
       "      <td>107.0</td>\n",
       "      <td>0.0</td>\n",
       "      <td>0.0</td>\n",
       "    </tr>\n",
       "  </tbody>\n",
       "</table>\n",
       "</div>"
      ],
      "text/plain": [
       "Status                                N/A  cancelled  construction  idle  \\\n",
       "StartSubRegion                                                             \n",
       "Australia and New Zealand        0.0  2.0       12.0           1.0   0.0   \n",
       "Central Asia                     0.0  0.0        2.0           4.0   0.0   \n",
       "Eastern Asia                     0.0  0.0       12.0         128.0   0.0   \n",
       "Eastern Europe                   0.0  0.0       13.0          24.0   1.0   \n",
       "Latin America and the Caribbean  0.0  0.0       12.0           9.0   1.0   \n",
       "Melanesia                        0.0  0.0        2.0           0.0   0.0   \n",
       "Northern Africa                  0.0  0.0        1.0          11.0   0.0   \n",
       "Northern America                 1.0  1.0       66.0          24.0   2.0   \n",
       "Northern Europe                  0.0  0.0        1.0           2.0   0.0   \n",
       "South-eastern Asia               0.0  0.0       11.0           6.0   0.0   \n",
       "Southern Asia                    0.0  0.0       12.0          26.0   0.0   \n",
       "Southern Europe                  0.0  0.0        6.0           5.0   0.0   \n",
       "Sub-Saharan Africa               0.0  0.0        2.0           3.0   0.0   \n",
       "Western Asia                     0.0  0.0        5.0          34.0   0.0   \n",
       "Western Europe                   1.0  0.0        2.0           3.0   0.0   \n",
       "\n",
       "Status                           mothballed  operating  proposed  retired  \\\n",
       "StartSubRegion                                                              \n",
       "Australia and New Zealand               0.0       95.0      24.0      0.0   \n",
       "Central Asia                            0.0       46.0      11.0      0.0   \n",
       "Eastern Asia                            1.0      614.0     235.0      3.0   \n",
       "Eastern Europe                          5.0      292.0     116.0      4.0   \n",
       "Latin America and the Caribbean         1.0      103.0      30.0      0.0   \n",
       "Melanesia                               0.0        1.0       2.0      0.0   \n",
       "Northern Africa                         1.0      166.0       2.0      0.0   \n",
       "Northern America                        0.0      301.0      77.0      0.0   \n",
       "Northern Europe                         0.0       96.0      25.0      2.0   \n",
       "South-eastern Asia                      0.0       82.0      13.0      0.0   \n",
       "Southern Asia                           0.0      171.0      17.0      1.0   \n",
       "Southern Europe                         0.0      228.0      75.0      0.0   \n",
       "Sub-Saharan Africa                      0.0       39.0      20.0      0.0   \n",
       "Western Asia                            0.0      211.0      21.0      1.0   \n",
       "Western Europe                          0.0      194.0     107.0      0.0   \n",
       "\n",
       "Status                           shelved  \n",
       "StartSubRegion                            \n",
       "Australia and New Zealand           11.0  \n",
       "Central Asia                         1.0  \n",
       "Eastern Asia                        11.0  \n",
       "Eastern Europe                       6.0  \n",
       "Latin America and the Caribbean     11.0  \n",
       "Melanesia                            1.0  \n",
       "Northern Africa                      1.0  \n",
       "Northern America                    18.0  \n",
       "Northern Europe                      2.0  \n",
       "South-eastern Asia                  12.0  \n",
       "Southern Asia                        9.0  \n",
       "Southern Europe                      7.0  \n",
       "Sub-Saharan Africa                   2.0  \n",
       "Western Asia                         6.0  \n",
       "Western Europe                       0.0  "
      ]
     },
     "execution_count": 109,
     "metadata": {},
     "output_type": "execute_result"
    }
   ],
   "source": [
    "projectid_count_df = gas_pipes.groupby(['Status','StartSubRegion'])['ProjectID'].count()\n",
    "\n",
    "projectid_count_df.unstack().transpose().replace(numpy.nan,0)"
   ]
  },
  {
   "cell_type": "markdown",
   "id": "8e3e10d1-36ba-4dca-8daf-a6d67c314f1f",
   "metadata": {},
   "source": [
    "## print all unique country names"
   ]
  },
  {
   "cell_type": "code",
   "execution_count": 110,
   "id": "835f1099-c70b-402a-a3fe-7a068db9dffa",
   "metadata": {},
   "outputs": [],
   "source": [
    "countries_list = pipes_df_orig.Countries.str.split(', ').tolist()\n",
    "countries_list_flat = sorted(list(set([item for items in countries_list for item in items])))"
   ]
  },
  {
   "cell_type": "code",
   "execution_count": 111,
   "id": "8e3e2f55-489c-409d-a9b8-140cffc242b3",
   "metadata": {},
   "outputs": [
    {
     "name": "stdout",
     "output_type": "stream",
     "text": [
      "\n",
      " Iraq\n",
      "Afghanistan\n",
      "Albania\n",
      "Algeria\n",
      "Angola\n",
      "Argentina\n",
      "Armenia\n",
      "Australia\n",
      "Austria\n",
      "Azerbaijan\n",
      "Bahrain\n",
      "Bangladesh\n",
      "Barbados\n",
      "Belarus\n",
      "Belgium\n",
      "Benin\n",
      "Bolivia\n",
      "Bosnia and Herzegovina\n",
      "Brazil\n",
      "Brazil \n",
      "Brunei\n",
      "Bulgaria\n",
      "Cambodia\n",
      "Cameroon\n",
      "Canada\n",
      "Chad\n",
      "Chile\n",
      "China\n",
      "Coartia\n",
      "Colombia\n",
      "Croatia\n",
      "Cuba\n",
      "Cyprus\n",
      "Czech Republic\n",
      "Côte d'Ivoire\n",
      "Denmark\n",
      "Djibouti\n",
      "Dominican Republic\n",
      "Ecuador\n",
      "Egypt\n",
      "El Salvador\n",
      "Equatorial Guinea\n",
      "Estonia\n",
      "Ethiopia\n",
      "Finland\n",
      "France\n",
      "Gabon\n",
      "Georgia\n",
      "Germany\n",
      "Ghana\n",
      "Greece\n",
      "Grenada\n",
      "Guadeloupe\n",
      "Guatemala\n",
      "Guinea\n",
      "Guinea-Bissau\n",
      "Guyana\n",
      "Honduras\n",
      "Hong Kong\n",
      "Hungary\n",
      "Iceland\n",
      "India\n",
      "Indonesia\n",
      "Iran\n",
      "Iraq\n",
      "Ireland\n",
      "Israel\n",
      "Italy\n",
      "Italy \n",
      "Japan\n",
      "Joint Petroleum Development Area\n",
      "Jordan\n",
      "Kazakhstan\n",
      "Kazkahstan\n",
      "Kazkakhstan\n",
      "Kenya\n",
      "Kosovo\n",
      "Kuwait\n",
      "Kyrgyzstan\n",
      "Laos\n",
      "Latvia\n",
      "Lebanon\n",
      "Liberia\n",
      "Libya\n",
      "Lithuania\n",
      "Luxembourg\n",
      "Malaysia\n",
      "Malta\n",
      "Martinique\n",
      "Mauritania\n",
      "Mexico\n",
      "Moldova\n",
      "Mongolia\n",
      "Montenegro\n",
      "Morocco\n",
      "Mozambique\n",
      "Myanmar\n",
      "Namibia\n",
      "Nepal\n",
      "Netherlands\n",
      "New Zealand\n",
      "Niger\n",
      "Nigeria\n",
      "North Korea\n",
      "North Macedonia\n",
      "Norway\n",
      "Oman\n",
      "Oman \n",
      "Pakistan\n",
      "Palestine\n",
      "Panama\n",
      "Papua New Guinea\n",
      "Paraguay\n",
      "Peru\n",
      "Philippines\n",
      "Poland\n",
      "Portugal\n",
      "Qatar\n",
      "Qatar \n",
      "Republic of the Congo\n",
      "Romania\n",
      "Russia\n",
      "Saudi Arabia\n",
      "Saudi Arabia \n",
      "Senegal\n",
      "Serbia\n",
      "Sierra Leone\n",
      "Singapore\n",
      "Slovakia\n",
      "Slovenia\n",
      "South Africa\n",
      "South Korea\n",
      "South Sudan\n",
      "Spain\n",
      "Sri Lanka\n",
      "Sudan\n",
      "Sweden\n",
      "Switzerland\n",
      "Syria\n",
      "Taiwan\n",
      "Tajikistan\n",
      "Tanzania\n",
      "Thailand\n",
      "The Gambia\n",
      "Timor-Leste\n",
      "Togo\n",
      "Trinidad and Tobago\n",
      "Tunisia\n",
      "Turkmenistan\n",
      "Türkiye\n",
      "Uganda\n",
      "Ukraine\n",
      "United Arab Emirates\n",
      "United Kingdom\n",
      "United States\n",
      "United States \n",
      "Uruguay\n",
      "Uzbekistan\n",
      "Venezuela\n",
      "Vietnam\n",
      "Yemen\n",
      "Zambia\n"
     ]
    }
   ],
   "source": [
    "for i in countries_list_flat:\n",
    "    print(i)"
   ]
  },
  {
   "cell_type": "markdown",
   "id": "10939184-73f7-4f00-a2f0-4e003f8901bf",
   "metadata": {},
   "source": [
    "## country-specific calculations"
   ]
  },
  {
   "cell_type": "markdown",
   "id": "865d081d-2fc4-4bb9-a286-bf38f48eba1c",
   "metadata": {},
   "source": [
    "### for Nagwa or Arabic language expert"
   ]
  },
  {
   "cell_type": "code",
   "execution_count": 112,
   "id": "0aa77122-987c-4645-8981-3907548ef3e9",
   "metadata": {},
   "outputs": [],
   "source": [
    "arabic_speaking_countries = ['Algeria', \n",
    "                             'Bahrain', \n",
    "                           'Chad', \n",
    "                           'Comoros', \n",
    "                           'Djibouti', \n",
    "                           'Egypt', \n",
    "                           'Iraq', \n",
    "                           'Jordan', \n",
    "                           'Kuwait', \n",
    "                           'Lebanon', \n",
    "                           'Libya', \n",
    "                           'Mauritania', \n",
    "                           'Morocco', \n",
    "                           'Oman', \n",
    "                           'Qatar', \n",
    "                           'Saudi Arabia', \n",
    "                           'Somalia', \n",
    "                           'Sudan', \n",
    "                           'Syria', \n",
    "                           'Tunisia', \n",
    "                           'United Arab Emirates', \n",
    "                           'Yemen']"
   ]
  },
  {
   "cell_type": "markdown",
   "id": "ca4a22e8-ad01-4bd8-b47e-888984e8d6b4",
   "metadata": {},
   "source": [
    "## Russian speaking countries"
   ]
  },
  {
   "cell_type": "code",
   "execution_count": 113,
   "id": "74846a95-6edf-4db6-a623-b366261b7f78",
   "metadata": {},
   "outputs": [],
   "source": [
    "russian_speaking_countries = ['Russia', \n",
    "                              'Belarus', \n",
    "                              'Kyrgyzstan',\n",
    "                              'Kazakhstan', \n",
    "                              'Ukraine', \n",
    "                              'Azerbaijan', \n",
    "                              'Estonia', \n",
    "                              'Georgia', \n",
    "                              'Latvia', \n",
    "                              'Lithuania', \n",
    "                              'Moldova', \n",
    "                              'Tajikistan', \n",
    "                              'Turkmenistan', \n",
    "                              'Uzbekistan']"
   ]
  },
  {
   "cell_type": "markdown",
   "id": "5ca5acf6-1a6f-4470-be6b-9533a26f51ff",
   "metadata": {},
   "source": [
    "## Asia gas tracker\n",
    "\n",
    "Warda has done AGT countries plus Canada and Japan at times"
   ]
  },
  {
   "cell_type": "code",
   "execution_count": 114,
   "id": "03c52bef-a4f2-473e-af04-768081eb00be",
   "metadata": {},
   "outputs": [],
   "source": [
    "# asia_gas_tracker_countries = [ \\\n",
    "#                                 'Bangladesh',\n",
    "#                                 'Brunei',\n",
    "#                                 'Cambodia',\n",
    "#                                 #'China',\n",
    "#                                 #'Hong Kong',\n",
    "#                                 'India',\n",
    "#                                 'Indonesia',\n",
    "#                                 'Japan',\n",
    "#                                 #'Macao',\n",
    "#                                 'Malaysia',\n",
    "#                                 'Myanmar',\n",
    "#                                 'Pakistan',\n",
    "#                                 'Philippines',\n",
    "#                                 'Singapore',\n",
    "#                                 'South Korea',\n",
    "#                                 'Sri Lanka',\n",
    "#                                 'Taiwan',\n",
    "#                                 'Thailand',\n",
    "#                                 'Vietnam'\n",
    "#                              ]\n",
    "\n",
    "# below updated Sep 2023\n",
    "asia_gas_tracker_countries = [ \\\n",
    "'Afghanistan',\n",
    "'Bangladesh',\n",
    "'Bhutan',\n",
    "'Brunei',\n",
    "'Cambodia',\n",
    "#'China',\n",
    "#'Hong Kong',\n",
    "'India',\n",
    "'Indonesia',\n",
    "'Iran',\n",
    "'Japan',\n",
    "'Laos',\n",
    "#'Macao',\n",
    "'Malaysia',\n",
    "'Mongolia',\n",
    "'Myanmar',\n",
    "'Nepal',\n",
    "'North Korea',\n",
    "'Pakistan',\n",
    "'Philippines',\n",
    "'Singapore',\n",
    "'South Korea',\n",
    "'Sri Lanka',\n",
    "'Taiwan',\n",
    "'Thailand',\n",
    "'Timor-Leste',\n",
    "'Vietnam'\n",
    "] + ['Japan']"
   ]
  },
  {
   "cell_type": "markdown",
   "id": "c6b845fd-3b15-4d8e-8766-430d041d11a4",
   "metadata": {},
   "source": [
    "## for oil"
   ]
  },
  {
   "cell_type": "markdown",
   "id": "cff025ee-cb1e-460a-b1b4-107ba416f95b",
   "metadata": {},
   "source": [
    "## arabic"
   ]
  },
  {
   "cell_type": "code",
   "execution_count": 115,
   "id": "14553229-2829-40c3-a0e8-6e519bcab715",
   "metadata": {},
   "outputs": [
    {
     "data": {
      "text/plain": [
       "(261, 107)"
      ]
     },
     "execution_count": 115,
     "metadata": {},
     "output_type": "execute_result"
    }
   ],
   "source": [
    "oil_pipes.loc[(oil_pipes.StartCountry.isin(arabic_speaking_countries))].shape"
   ]
  },
  {
   "cell_type": "code",
   "execution_count": 116,
   "id": "74107e45-73d3-4dda-8c1a-f99adc26f04c",
   "metadata": {},
   "outputs": [
    {
     "data": {
      "text/plain": [
       "(38, 107)"
      ]
     },
     "execution_count": 116,
     "metadata": {},
     "output_type": "execute_result"
    }
   ],
   "source": [
    "oil_pipes.loc[(oil_pipes.StartCountry.isin(arabic_speaking_countries))&\n",
    "                  (oil_pipes.Status.isin(['proposed','construction','shelved']))].shape"
   ]
  },
  {
   "cell_type": "markdown",
   "id": "ebdab98c-97e8-4a10-a02e-d3d115f1d904",
   "metadata": {},
   "source": [
    "### Russian speaking countries"
   ]
  },
  {
   "cell_type": "code",
   "execution_count": 117,
   "id": "0e5e51e7-b45b-4d85-b630-144d55d672d9",
   "metadata": {},
   "outputs": [
    {
     "data": {
      "text/plain": [
       "(223, 107)"
      ]
     },
     "execution_count": 117,
     "metadata": {},
     "output_type": "execute_result"
    }
   ],
   "source": [
    "oil_pipes.loc[(oil_pipes.StartCountry.isin(russian_speaking_countries))].shape"
   ]
  },
  {
   "cell_type": "code",
   "execution_count": 118,
   "id": "61047e37-5d1d-445e-8454-dce42f6b63ef",
   "metadata": {},
   "outputs": [
    {
     "data": {
      "text/plain": [
       "(18, 107)"
      ]
     },
     "execution_count": 118,
     "metadata": {},
     "output_type": "execute_result"
    }
   ],
   "source": [
    "oil_pipes.loc[(oil_pipes.StartCountry.isin(russian_speaking_countries))&\n",
    "                  (oil_pipes.Status.isin(['proposed','construction','shelved']))].shape"
   ]
  },
  {
   "cell_type": "markdown",
   "id": "bd087bdd-5bfb-4234-ba5d-2f93baa0337b",
   "metadata": {},
   "source": [
    "## asia gas tracker"
   ]
  },
  {
   "cell_type": "code",
   "execution_count": 119,
   "id": "00f53081-ba57-45a0-8a47-ddf9eab3b76c",
   "metadata": {},
   "outputs": [
    {
     "data": {
      "text/plain": [
       "(147, 107)"
      ]
     },
     "execution_count": 119,
     "metadata": {},
     "output_type": "execute_result"
    }
   ],
   "source": [
    "oil_pipes.loc[(oil_pipes.StartCountry.isin(asia_gas_tracker_countries))].shape"
   ]
  },
  {
   "cell_type": "code",
   "execution_count": 120,
   "id": "967c9765-8e41-4dd8-9f65-936573326289",
   "metadata": {},
   "outputs": [
    {
     "data": {
      "text/plain": [
       "(25, 107)"
      ]
     },
     "execution_count": 120,
     "metadata": {},
     "output_type": "execute_result"
    }
   ],
   "source": [
    "oil_pipes.loc[(oil_pipes.StartCountry.isin(asia_gas_tracker_countries))&\n",
    "                  (oil_pipes.Status.isin(['proposed','construction','shelved']))].shape"
   ]
  },
  {
   "cell_type": "markdown",
   "id": "80b760db-8a34-4eaf-804c-6c7ed2e29305",
   "metadata": {},
   "source": [
    "### China/Taiwan/Hong Kong/Macao"
   ]
  },
  {
   "cell_type": "code",
   "execution_count": 121,
   "id": "97d2c400-a4f1-444e-b5c2-31332ba20226",
   "metadata": {},
   "outputs": [
    {
     "data": {
      "text/plain": [
       "(311, 107)"
      ]
     },
     "execution_count": 121,
     "metadata": {},
     "output_type": "execute_result"
    }
   ],
   "source": [
    "oil_pipes.loc[(oil_pipes.StartCountry.isin(['China','Taiwan','Hong Kong','Macao']))].shape"
   ]
  },
  {
   "cell_type": "code",
   "execution_count": 122,
   "id": "eb65f794-e59d-4eae-b90e-156054f34d9b",
   "metadata": {},
   "outputs": [
    {
     "data": {
      "text/plain": [
       "(75, 107)"
      ]
     },
     "execution_count": 122,
     "metadata": {},
     "output_type": "execute_result"
    }
   ],
   "source": [
    "oil_pipes.loc[(oil_pipes.StartCountry.isin(['China','Taiwan','Hong Kong','Macao']))&\n",
    "                  (oil_pipes.Status.isin(['proposed','construction','shelved']))].shape"
   ]
  },
  {
   "cell_type": "markdown",
   "id": "88bfacde-7a97-4d02-9216-f8ebff2bdcfc",
   "metadata": {},
   "source": [
    "# for gas"
   ]
  },
  {
   "cell_type": "code",
   "execution_count": 123,
   "id": "98e20f5d-a0cd-4d8d-8e8a-c10f706b8a1f",
   "metadata": {},
   "outputs": [
    {
     "data": {
      "text/plain": [
       "(391, 137)"
      ]
     },
     "execution_count": 123,
     "metadata": {},
     "output_type": "execute_result"
    }
   ],
   "source": [
    "gas_pipes.loc[(gas_pipes.StartCountry.isin(arabic_speaking_countries))].shape"
   ]
  },
  {
   "cell_type": "code",
   "execution_count": 124,
   "id": "4dc185fc-057e-42da-b7c4-73da37a97968",
   "metadata": {},
   "outputs": [
    {
     "data": {
      "text/plain": [
       "(56, 137)"
      ]
     },
     "execution_count": 124,
     "metadata": {},
     "output_type": "execute_result"
    }
   ],
   "source": [
    "gas_pipes.loc[(gas_pipes.StartCountry.isin(arabic_speaking_countries))&\n",
    "                  (gas_pipes.Status.isin(['proposed','construction','shelved']))].shape"
   ]
  },
  {
   "cell_type": "markdown",
   "id": "4579254e-831a-4e98-85e9-9c6e4ae11b9e",
   "metadata": {},
   "source": [
    "### Russian speaking countries"
   ]
  },
  {
   "cell_type": "code",
   "execution_count": 125,
   "id": "5ba9b3a5-fb05-4e59-a228-0168a0187b2b",
   "metadata": {},
   "outputs": [
    {
     "data": {
      "text/plain": [
       "(405, 137)"
      ]
     },
     "execution_count": 125,
     "metadata": {},
     "output_type": "execute_result"
    }
   ],
   "source": [
    "gas_pipes.loc[(gas_pipes.StartCountry.isin(russian_speaking_countries))].shape"
   ]
  },
  {
   "cell_type": "code",
   "execution_count": 126,
   "id": "75c2a1fe-66dc-4e88-a8d6-a055138a9646",
   "metadata": {},
   "outputs": [
    {
     "data": {
      "text/plain": [
       "(109, 137)"
      ]
     },
     "execution_count": 126,
     "metadata": {},
     "output_type": "execute_result"
    }
   ],
   "source": [
    "gas_pipes.loc[(gas_pipes.StartCountry.isin(russian_speaking_countries))&\n",
    "                  (gas_pipes.Status.isin(['proposed','construction','shelved']))].shape"
   ]
  },
  {
   "cell_type": "markdown",
   "id": "093ae6f1-9602-418b-a6ff-e27215cfd98f",
   "metadata": {},
   "source": [
    "## asia gas tracker"
   ]
  },
  {
   "cell_type": "code",
   "execution_count": 127,
   "id": "79b3a28c-14cd-4def-ba31-721b0a0e52f2",
   "metadata": {},
   "outputs": [
    {
     "data": {
      "text/plain": [
       "(484, 137)"
      ]
     },
     "execution_count": 127,
     "metadata": {},
     "output_type": "execute_result"
    }
   ],
   "source": [
    "gas_pipes.loc[(gas_pipes.StartCountry.isin(asia_gas_tracker_countries))].shape"
   ]
  },
  {
   "cell_type": "code",
   "execution_count": 128,
   "id": "76a10b95-86c1-48e7-b388-3e16aae494d5",
   "metadata": {},
   "outputs": [
    {
     "data": {
      "text/plain": [
       "(88, 137)"
      ]
     },
     "execution_count": 128,
     "metadata": {},
     "output_type": "execute_result"
    }
   ],
   "source": [
    "gas_pipes.loc[(gas_pipes.StartCountry.isin(asia_gas_tracker_countries))&\n",
    "                  (gas_pipes.Status.isin(['proposed','construction','shelved']))].shape"
   ]
  },
  {
   "cell_type": "markdown",
   "id": "64ea665d-5e5c-42d1-9258-fe40e6d69d98",
   "metadata": {},
   "source": [
    "### China/Taiwan/Hong Kong/Macao"
   ]
  },
  {
   "cell_type": "code",
   "execution_count": 129,
   "id": "84a94a76-a21a-4864-a754-c0da24c01a78",
   "metadata": {},
   "outputs": [
    {
     "data": {
      "text/plain": [
       "(886, 137)"
      ]
     },
     "execution_count": 129,
     "metadata": {},
     "output_type": "execute_result"
    }
   ],
   "source": [
    "gas_pipes.loc[(gas_pipes.StartCountry.isin(['China','Taiwan','Hong Kong','Macao']))].shape"
   ]
  },
  {
   "cell_type": "code",
   "execution_count": 130,
   "id": "cecafb28-4de9-4ac1-99ee-07b5722a44d0",
   "metadata": {},
   "outputs": [
    {
     "data": {
      "text/plain": [
       "(372, 137)"
      ]
     },
     "execution_count": 130,
     "metadata": {},
     "output_type": "execute_result"
    }
   ],
   "source": [
    "gas_pipes.loc[(gas_pipes.StartCountry.isin(['China','Taiwan','Hong Kong','Macao']))&\n",
    "                  (gas_pipes.Status.isin(['proposed','construction','shelved']))].shape"
   ]
  },
  {
   "cell_type": "code",
   "execution_count": null,
   "id": "502ea834-bd00-4f41-8efd-d9c6ba7ac3b1",
   "metadata": {},
   "outputs": [],
   "source": []
  }
 ],
 "metadata": {
  "kernelspec": {
   "display_name": "Python 3 (ipykernel)",
   "language": "python",
   "name": "python3"
  },
  "language_info": {
   "codemirror_mode": {
    "name": "ipython",
    "version": 3
   },
   "file_extension": ".py",
   "mimetype": "text/x-python",
   "name": "python",
   "nbconvert_exporter": "python",
   "pygments_lexer": "ipython3",
   "version": "3.11.9"
  }
 },
 "nbformat": 4,
 "nbformat_minor": 5
}
