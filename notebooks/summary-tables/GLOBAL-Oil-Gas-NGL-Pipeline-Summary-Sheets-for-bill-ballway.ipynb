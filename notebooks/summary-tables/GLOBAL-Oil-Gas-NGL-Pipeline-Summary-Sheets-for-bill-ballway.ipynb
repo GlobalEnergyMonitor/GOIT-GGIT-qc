{
 "cells": [
  {
   "cell_type": "code",
   "execution_count": 16,
   "id": "24befb0b",
   "metadata": {
    "tags": []
   },
   "outputs": [],
   "source": [
    "import pandas\n",
    "import numpy\n",
    "import pygsheets\n",
    "import datetime\n",
    "import re\n",
    "import pytz"
   ]
  },
  {
   "cell_type": "code",
   "execution_count": 76,
   "id": "e1804fa5-72c0-4020-8174-b4c288a822c3",
   "metadata": {
    "tags": []
   },
   "outputs": [],
   "source": [
    "#fuel_type = 'Gas'; file_key = '1foPLE6K-uqFlaYgLPAUxzeXfDO5wOOqE7tibNHeqTek' # dec 2022 ggit file\n",
    "fuel_type = 'Oil'; file_key = '1foPLE6K-uqFlaYgLPAUxzeXfDO5wOOqE7tibNHeqTek' # may 2023 goit file\n",
    "#fuel_type = 'NGL'; file_key = '1foPLE6K-uqFlaYgLPAUxzeXfDO5wOOqE7tibNHeqTek' # may 2023 goit file\n",
    "\n",
    "# define the excel file to save tables in\n",
    "current_time = datetime.datetime.now(pytz.timezone('US/Eastern')).strftime(\"%Y-%m-%d_T%H%M%S\")\n",
    "excel_writer = pandas.ExcelWriter('Global-'+fuel_type+'-Pipelines-SummarySheets-Bill-Ballway-'+current_time+'.xlsx')"
   ]
  },
  {
   "cell_type": "code",
   "execution_count": 77,
   "id": "a4185877",
   "metadata": {
    "tags": []
   },
   "outputs": [],
   "source": [
    "credentials_directory = '/Users/baird/Dropbox/_google-api/'\n",
    "gc = pygsheets.authorize(service_account_env_var='GDRIVE_API_CREDENTIALS')\n",
    "#spreadsheet = gc.open_by_key('1foPLE6K-uqFlaYgLPAUxzeXfDO5wOOqE7tibNHeqTek')\n",
    "spreadsheet = gc.open_by_key(file_key)\n",
    "\n",
    "gas_pipes = spreadsheet.worksheet('title', 'Gas pipelines').get_as_df(start='A2')\n",
    "oil_pipes = spreadsheet.worksheet('title', 'Oil/NGL pipelines').get_as_df(start='A2')\n",
    "\n",
    "pipes_df = pandas.concat([oil_pipes, gas_pipes], ignore_index=True)\n",
    "\n",
    "#get other relevant sheets\n",
    "country_ratios_df = spreadsheet.worksheet('title', 'Country ratios by pipeline').get_as_df()\n",
    "owners_df = spreadsheet.worksheet('title', 'Pipeline operators/owners (1/3)').get_as_df(start='A2')\n",
    "parents_df = spreadsheet.worksheet('title', 'Parent metadata (3/3)').get_as_df(start='A2')\n",
    "\n",
    "# remove empty cells for pipes, owners\n",
    "pipes_df = pipes_df[pipes_df['PipelineName']!='']\n",
    "owners_df = owners_df[owners_df['Wiki']!='']\n",
    "owners_df.set_index('ProjectID', inplace=True)"
   ]
  },
  {
   "cell_type": "code",
   "execution_count": 78,
   "id": "a4e98b3d",
   "metadata": {
    "tags": []
   },
   "outputs": [],
   "source": [
    "country_ratios_df.replace('--', numpy.nan, inplace=True)\n",
    "owners_df.replace('',numpy.nan,inplace=True)\n",
    "owners_df.replace('--',numpy.nan,inplace=True)\n",
    "pipes_df.replace('--',numpy.nan,inplace=True)"
   ]
  },
  {
   "cell_type": "code",
   "execution_count": 79,
   "id": "c68dd677",
   "metadata": {
    "tags": []
   },
   "outputs": [],
   "source": [
    "region_df_orig = spreadsheet.worksheet('title', 'Country dictionary').get_as_df(start='A2')\n",
    "region_df_orig.replace('--',numpy.nan,inplace=True)\n",
    "region_df_orig.dropna(axis=0, how='any', inplace=True)\n",
    "\n",
    "region_df_touse = region_df_orig.copy()"
   ]
  },
  {
   "cell_type": "markdown",
   "id": "4951d5cc",
   "metadata": {},
   "source": [
    "### create region-specific dataframes for region, country_ratios_df, owners_df"
   ]
  },
  {
   "cell_type": "code",
   "execution_count": 80,
   "id": "e43c900c",
   "metadata": {
    "tags": []
   },
   "outputs": [],
   "source": [
    "country_ratios_df_touse = country_ratios_df.loc[country_ratios_df['Country'].isin(\n",
    "                                            region_df_touse['Country'].tolist())]\n",
    "\n",
    "owners_df_touse = owners_df.loc[\n",
    "    ~owners_df['Countries'].apply(\n",
    "        lambda x: set(x.split(', ')).isdisjoint(set(region_df_touse['Country'].tolist()))\n",
    "    )]\n",
    "\n",
    "pipes_df_touse = pipes_df.loc[\n",
    "    ~pipes_df['Countries'].apply(\n",
    "        lambda x: set(x.split(', ')).isdisjoint(set(region_df_touse['Country'].tolist()))\n",
    "    )]"
   ]
  },
  {
   "cell_type": "code",
   "execution_count": 81,
   "id": "e06f4e0e-9f51-4ea3-9fd5-14b28bbe6934",
   "metadata": {
    "tags": []
   },
   "outputs": [
    {
     "name": "stdout",
     "output_type": "stream",
     "text": [
      "Oil\n"
     ]
    }
   ],
   "source": [
    "pipes_df_touse = pipes_df_touse.loc[pipes_df_touse.Fuel==fuel_type]\n",
    "print(fuel_type)"
   ]
  },
  {
   "cell_type": "markdown",
   "id": "84b0b032",
   "metadata": {},
   "source": [
    "### sum MergedKmByCountry and MergedKmByRegion"
   ]
  },
  {
   "cell_type": "code",
   "execution_count": 82,
   "id": "5aba6b0a",
   "metadata": {
    "tags": []
   },
   "outputs": [],
   "source": [
    "status_list = ['Proposed', \n",
    "               'Construction', \n",
    "               'Shelved', \n",
    "               'Cancelled', \n",
    "               'Operating', \n",
    "               'Idle', \n",
    "               'Mothballed', \n",
    "               'Retired']\n",
    "country_list = sorted(set(region_df_touse.Country.to_list())) #sorted(list(set(country_ratios_df_touse['Country'])))\n",
    "region_list = sorted(set(region_df_touse.Region.tolist())) #sorted(list(set(country_ratios_df_touse['Region'])))"
   ]
  },
  {
   "cell_type": "code",
   "execution_count": 83,
   "id": "99122012",
   "metadata": {
    "tags": []
   },
   "outputs": [],
   "source": [
    "excel_status_list = ['Proposed', \n",
    "                     'Construction', \n",
    "                     'In Development (Proposed + Construction)', \n",
    "                     'Shelved', \n",
    "                     'Cancelled', \n",
    "                     'Operating', \n",
    "                     'Idle', \n",
    "                     'Mothballed', \n",
    "                     'Retired']\n",
    "excel_status_list_with_countries = ['ParentHQCountry', 'Country']+excel_status_list\n",
    "excel_status_list_with_hq = ['ParentHQCountry']+excel_status_list"
   ]
  },
  {
   "cell_type": "code",
   "execution_count": 84,
   "id": "e4a424de",
   "metadata": {
    "tags": []
   },
   "outputs": [
    {
     "name": "stdout",
     "output_type": "stream",
     "text": [
      "===country-level calculations===\n",
      "Proposed\n",
      "Construction\n",
      "Shelved\n",
      "Cancelled\n",
      "Operating\n",
      "Idle\n",
      "Mothballed\n",
      "Retired\n",
      "===regional calculations===\n",
      "Proposed\n",
      "Construction\n",
      "Shelved\n",
      "Cancelled\n",
      "Operating\n",
      "Idle\n",
      "Mothballed\n",
      "Retired\n"
     ]
    }
   ],
   "source": [
    "country_ratios_df_subset = country_ratios_df_touse.copy()[country_ratios_df_touse['Fuel']==fuel_type]\n",
    "\n",
    "km_by_country = pandas.DataFrame(columns=status_list, index=country_list)\n",
    "km_by_region = pandas.DataFrame(columns=status_list, index=region_list)\n",
    "\n",
    "print('===country-level calculations===')\n",
    "for status in status_list:\n",
    "    print(status)\n",
    "    country_ratios_df_subset_status = country_ratios_df_subset[country_ratios_df_subset['Status']==status]\n",
    "    km_by_country[status] = country_ratios_df_subset_status.groupby('Country')['MergedKmByCountry'].sum()\n",
    "\n",
    "print('===regional calculations===')\n",
    "for status in status_list:\n",
    "    print(status)\n",
    "    country_ratios_df_subset_status = country_ratios_df_subset[country_ratios_df_subset['Status']==status]\n",
    "    km_by_region[status] = country_ratios_df_subset_status.groupby('Region')['MergedKmByCountry'].sum()\n",
    "\n",
    "# fille NaN with 0.0\n",
    "km_by_region = km_by_region.fillna(0)\n",
    "km_by_country = km_by_country.fillna(0)\n",
    "\n",
    "km_by_region['In Development (Proposed + Construction)'] = km_by_region[['Proposed','Construction']].sum(axis=1)\n",
    "km_by_country['In Development (Proposed + Construction)'] = km_by_country[['Proposed','Construction']].sum(axis=1)\n",
    "\n",
    "km_by_country = km_by_country[excel_status_list]\n",
    "km_by_region = km_by_region[excel_status_list]\n",
    "\n",
    "km_by_region.index.name = 'Region'\n",
    "km_by_country.index.name = 'Country'\n",
    "\n",
    "totals_row = km_by_region.sum(axis=0)\n",
    "km_by_region.loc['Total'] = totals_row\n",
    "\n",
    "totals_row = km_by_country.sum(axis=0)\n",
    "km_by_country.loc['Total'] = totals_row\n",
    "\n",
    "km_by_country = km_by_country.loc[~(km_by_country==0).all(axis=1)]\n",
    "\n",
    "km_by_region.replace(0,'',inplace=True)\n",
    "km_by_country.replace(0,'',inplace=True)\n",
    "\n",
    "km_by_region.to_excel(excel_writer, 'Kilometers by region')\n",
    "km_by_country.to_excel(excel_writer, 'Kilometers by country')"
   ]
  },
  {
   "cell_type": "code",
   "execution_count": 85,
   "id": "abf63ca3-b279-41e8-80a2-7c6d3826b6a6",
   "metadata": {
    "scrolled": true,
    "tags": []
   },
   "outputs": [
    {
     "name": "stderr",
     "output_type": "stream",
     "text": [
      "/var/folders/fl/t07mc8053p33mn6mdmvp45580000gn/T/ipykernel_67105/3845926328.py:28: RuntimeWarning: invalid value encountered in scalar divide\n",
      "  fraction_in_region = country_ratios_df_temp_region.MergedKmByCountry.sum()/country_ratios_df_temp.MergedKmByCountry.sum()\n"
     ]
    }
   ],
   "source": [
    "owner_parent_calculations_df = pandas.DataFrame()\n",
    "parents_list = parents_df.Parent.tolist()\n",
    "\n",
    "for idx,row in pipes_df_touse.iterrows():\n",
    "    parent_string = row.Parent\n",
    "    #print(parent_string)\n",
    "    parent_list = re.sub(' \\[.*?\\]', '', parent_string).split('; ') # all entries must have a Owner [%] syntax\n",
    "    percent_list = [float(i.rstrip('%'))/100. for i in re.findall('\\\\d+(?:\\\\.\\\\d+)?%', parent_string)]\n",
    "\n",
    "    if parent_list.__len__()!=percent_list.__len__():\n",
    "        if percent_list==[]:\n",
    "            percent_list = [1/parent_list.__len__() for i in parent_list]\n",
    "        else:\n",
    "            nmissing = parent_list.__len__()-percent_list.__len__()\n",
    "            # distribute nans evenly\n",
    "            total = numpy.nansum(percent_list)\n",
    "            leftover = 1-total\n",
    "            percent_list += [leftover/nmissing]*nmissing\n",
    "\n",
    "    # how many countries is this pipeline in?\n",
    "    country_ratios_df_temp = country_ratios_df.loc[country_ratios_df.ProjectID==row.ProjectID]\n",
    "    #print(country_ratios_df_temp)\n",
    "    country_ratios_df_temp_region = country_ratios_df.loc[(country_ratios_df.ProjectID==row.ProjectID)&\n",
    "                                                          (country_ratios_df.Country.isin(region_df_touse.Country.tolist()))]\n",
    "    \n",
    "    # fraction of this pipeline that is within the regional countries we care about\n",
    "    # this will be 1.0 when you're doing global calculations...\n",
    "    fraction_in_region = country_ratios_df_temp_region.MergedKmByCountry.sum()/country_ratios_df_temp.MergedKmByCountry.sum()\n",
    "    \n",
    "    for p_idx,parent in enumerate(parent_list):\n",
    "        \n",
    "        if parent in parents_list:\n",
    "            parent_hq_country = parents_df.loc[parents_df.Parent==parent]['ParentHQCountry'].values[0]\n",
    "        else:\n",
    "            parent_hq_country = 'Unknown'\n",
    "        \n",
    "        for country in country_ratios_df_temp_region.Country.tolist():\n",
    "            merged_km_by_country = country_ratios_df.loc[(country_ratios_df.ProjectID==row.ProjectID)&\n",
    "                                                         (country_ratios_df.Country==country),'MergedKmByCountry'].values[0]\n",
    "            owner_parent_calculations_df = pandas.concat([owner_parent_calculations_df, \n",
    "                                                          pandas.DataFrame([{'Parent':parent, 'ProjectID':row.ProjectID, \n",
    "                                                                             'FractionOwnership':percent_list[p_idx],\n",
    "                                                                             'LengthMergedKm':row.LengthMergedKm,\n",
    "                                                                             'FractionInRegion':fraction_in_region,\n",
    "                                                                             'MergedKmByCountry':merged_km_by_country,\n",
    "                                                                             'ParentHQCountry':parent_hq_country,\n",
    "                                                                             'Country':country,\n",
    "                                                                             'Status':row.Status,\n",
    "                                                                             'KmOwnershipInCountry':percent_list[p_idx]*merged_km_by_country}])])\n",
    "\n",
    "owner_parent_calculations_df['KmOwnership'] = owner_parent_calculations_df['FractionOwnership']*owner_parent_calculations_df['LengthMergedKm']\n",
    "owner_parent_calculations_df['KmOwnershipInRegion'] = owner_parent_calculations_df['FractionOwnership']*owner_parent_calculations_df['LengthMergedKm']*owner_parent_calculations_df['FractionInRegion']\n",
    "\n"
   ]
  },
  {
   "cell_type": "markdown",
   "id": "68080df2-07f6-4b20-8437-5c976acbf117",
   "metadata": {},
   "source": [
    "### version that lists individual countries pipelines run in"
   ]
  },
  {
   "cell_type": "raw",
   "id": "9bbc29eb-a90d-4316-8276-53b315a730d0",
   "metadata": {
    "tags": []
   },
   "source": [
    "owners_km_by_status_df = owner_parent_calculations_df.groupby(['Parent','ParentHQCountry','Country','Status'])[['KmOwnershipInCountry']].sum()\n",
    "\n",
    "owners_km_by_status_df = owner_parent_calculations_df.groupby(['Parent','ParentHQCountry','Country','Status']).agg(\n",
    "    {'KmOwnershipInCountry':['sum']}).unstack().droplevel(axis=1, level=[0,1])\n",
    "\n",
    "owners_km_by_status_df = owners_km_by_status_df.reindex(columns=status_list) # adds any missing status columns\n",
    "owners_km_by_status_df = owners_km_by_status_df.reset_index().set_index('Parent')\n",
    "#owners_km_by_status_df = owners_km_by_status_df.reset_index()\n",
    "owners_km_by_status_df.columns.name = None\n",
    "\n",
    "owners_km_by_status_df['In Development (Proposed + Construction)'] = \\\n",
    "    owners_km_by_status_df[['Construction','Proposed']].sum(min_count=1, axis=1)\n",
    "\n",
    "# rearrange the order of the columns for output\n",
    "owners_km_by_status_df = owners_km_by_status_df[excel_status_list_with_countries]\n",
    "\n",
    "totals_row = owners_km_by_status_df.sum(axis=0, min_count=0)\n",
    "owners_km_by_status_df.loc['Total'] = totals_row\n",
    "owners_km_by_status_df.loc['Total','Country'] = ''\n",
    "owners_km_by_status_df.loc['Total','ParentHQCountry'] = ''\n",
    "\n",
    "owners_km_by_status_df.index.name = 'Owner'\n",
    "owners_km_by_status_df.rename(columns={'Country':'Pipeline Country',\n",
    "                                       'ParentHQCountry':'Owner Headquarters Country'},\n",
    "                             inplace=True)\n",
    "\n",
    "owners_km_by_status_df = owners_km_by_status_df.replace(numpy.nan, '')\n",
    "owners_km_by_status_df = owners_km_by_status_df.replace(0, '')\n",
    "\n",
    "\n",
    "\n",
    "owners_km_by_status_df.to_excel(excel_writer, sheet_name='Pipeline km by company, country')"
   ]
  },
  {
   "cell_type": "markdown",
   "id": "da5602dc-56ec-470f-b0b7-8b10ae9c5b63",
   "metadata": {},
   "source": [
    "### version that doesn't list country that pipelines are in..."
   ]
  },
  {
   "cell_type": "code",
   "execution_count": 86,
   "id": "74f08b9a-54e8-4b92-b01b-de5fad6bb57f",
   "metadata": {
    "tags": []
   },
   "outputs": [],
   "source": [
    "owners_km_by_status_df = owner_parent_calculations_df.groupby(['Parent','ParentHQCountry','Status'])[['KmOwnershipInCountry']].sum()\n",
    "\n",
    "owners_km_by_status_df = owner_parent_calculations_df.groupby(['Parent','ParentHQCountry','Status']).agg(\n",
    "    {'KmOwnershipInCountry':['sum']}).unstack().droplevel(axis=1, level=[0,1])\n",
    "\n",
    "owners_km_by_status_df = owners_km_by_status_df.reindex(columns=status_list) # adds any missing status columns\n",
    "owners_km_by_status_df = owners_km_by_status_df.reset_index().set_index('Parent')\n",
    "#owners_km_by_status_df = owners_km_by_status_df.reset_index()\n",
    "owners_km_by_status_df.columns.name = None\n",
    "\n",
    "owners_km_by_status_df['In Development (Proposed + Construction)'] = \\\n",
    "    owners_km_by_status_df[['Construction','Proposed']].sum(min_count=1, axis=1)\n",
    "\n",
    "# rearrange the order of the columns for output\n",
    "owners_km_by_status_df = owners_km_by_status_df[excel_status_list_with_hq]\n",
    "\n",
    "totals_row = owners_km_by_status_df.sum(axis=0, min_count=0)\n",
    "owners_km_by_status_df.loc['Total'] = totals_row\n",
    "owners_km_by_status_df.loc['Total','Country'] = ''\n",
    "owners_km_by_status_df.loc['Total','ParentHQCountry'] = ''\n",
    "\n",
    "owners_km_by_status_df.index.name = 'Owner'\n",
    "owners_km_by_status_df.rename(columns={#'Country':'Pipeline Country',\n",
    "                                       'ParentHQCountry':'Owner Headquarters Country'},\n",
    "                             inplace=True)\n",
    "\n",
    "owners_km_by_status_df = owners_km_by_status_df.replace(numpy.nan, '')\n",
    "owners_km_by_status_df = owners_km_by_status_df.replace(0, '')\n",
    "\n",
    "\n",
    "\n",
    "owners_km_by_status_df.to_excel(excel_writer, sheet_name='Pipeline km by company, country')"
   ]
  },
  {
   "cell_type": "markdown",
   "id": "b5c7bac3",
   "metadata": {},
   "source": [
    "### pipeline km by start year, typeexcel_status_list_with_hq"
   ]
  },
  {
   "cell_type": "code",
   "execution_count": 87,
   "id": "ce1cc9f6",
   "metadata": {
    "tags": []
   },
   "outputs": [],
   "source": [
    "pipes_started_df = pipes_df_touse.copy()\n",
    "#pipes_started_eu['StartYearLatest'].replace(numpy.nan,'',inplace=True)\n",
    "\n",
    "pipes_started_df = pipes_started_df[(pipes_started_df['Status'].isin(['Operating'])) &\n",
    "                              (pipes_started_df['Fuel']==fuel_type)]\n",
    "pipes_started_df_sum = pipes_started_df.groupby('StartYearEarliest')['LengthMergedKm'].sum()"
   ]
  },
  {
   "cell_type": "code",
   "execution_count": 88,
   "id": "3088dfbc",
   "metadata": {
    "tags": []
   },
   "outputs": [],
   "source": [
    "km_by_start_year = pandas.DataFrame(index=list(range(1980,2023)), columns=['Pipeline km'])\n",
    "km_by_start_year.index.name = 'Start year'\n",
    "\n",
    "km_by_start_year['Pipeline km'] = pipes_started_df_sum\n",
    "km_by_start_year.replace(numpy.nan,0,inplace=True)\n",
    "\n",
    "totals_row = km_by_start_year.sum(axis=0)\n",
    "km_by_start_year.loc['Total'] = totals_row\n",
    "\n",
    "km_by_start_year.replace(0,'',inplace=True)\n",
    "\n",
    "km_by_start_year.to_excel(excel_writer, 'Kilometers by start year')"
   ]
  },
  {
   "cell_type": "markdown",
   "id": "3df168b7-105a-41c2-b10d-0c2a433abd70",
   "metadata": {},
   "source": [
    "### for Bill Ballway (email in June 2023)"
   ]
  },
  {
   "cell_type": "code",
   "execution_count": 89,
   "id": "aa5b3f45-1ee6-449d-8996-c490f6a06afb",
   "metadata": {
    "tags": []
   },
   "outputs": [],
   "source": [
    "pipes_started_df_ratios = country_ratios_df[(country_ratios_df['Status'].isin(['Operating'])) &\n",
    "                              (country_ratios_df['Fuel']==fuel_type)]\n",
    "\n",
    "pipes_started_df_sum_with_country = pandas.DataFrame(index=range(int(pipes_started_df_ratios.StartYearEarliest.min()),\n",
    "                                                                 int(pipes_started_df_ratios.StartYearEarliest.max())+1),\n",
    "                                                     columns=sorted(pipes_started_df_ratios.Country.unique()))\n",
    "\n",
    "for country in pipes_started_df_sum_with_country.columns:\n",
    "    df_subset = pipes_started_df_ratios.loc[(pipes_started_df_ratios.Country==country)]\n",
    "    pipes_started_df_sum_with_country.loc[:,country] = df_subset.groupby('StartYearEarliest')['MergedKmByCountry'].sum()\n",
    "\n",
    "totals_row = pipes_started_df_sum_with_country.sum(axis=0)\n",
    "pipes_started_df_sum_with_country.loc['Total'] = totals_row\n",
    "pipes_started_df_sum_with_country.replace(numpy.nan,'',inplace=True)\n",
    "\n",
    "pipes_started_df_sum_with_country.to_excel(excel_writer, 'Km by start year, country')"
   ]
  },
  {
   "cell_type": "code",
   "execution_count": 90,
   "id": "e30a83b7-7926-4085-89c1-017302a346d6",
   "metadata": {
    "tags": []
   },
   "outputs": [],
   "source": [
    "km_by_start_year_country = pandas.DataFrame(index=list(range(1980,2023)), columns=['Pipeline km'])\n",
    "km_by_start_year_country.index.name = 'Start year'\n",
    "\n",
    "km_by_start_year_country['Pipeline km'] = pipes_started_df_sum\n",
    "km_by_start_year_country.replace(numpy.nan,0,inplace=True)\n",
    "\n",
    "totals_row = km_by_start_year.sum(axis=0)\n",
    "km_by_start_year.loc['Total'] = totals_row\n",
    "\n",
    "km_by_start_year.replace(0,'',inplace=True)\n",
    "\n",
    "km_by_start_year.to_excel(excel_writer, 'Km by start year')"
   ]
  },
  {
   "cell_type": "markdown",
   "id": "116aee49-b451-47bd-bcc7-fc4a161d6075",
   "metadata": {},
   "source": [
    "## save excel file"
   ]
  },
  {
   "cell_type": "code",
   "execution_count": 91,
   "id": "34771081-df2d-487b-a021-31a9bad1dba1",
   "metadata": {
    "tags": []
   },
   "outputs": [],
   "source": [
    "excel_writer.close()"
   ]
  },
  {
   "cell_type": "code",
   "execution_count": null,
   "id": "fff19d23-cd26-4071-bde1-bcd1d790c857",
   "metadata": {},
   "outputs": [],
   "source": []
  }
 ],
 "metadata": {
  "kernelspec": {
   "display_name": "Python 3 (ipykernel)",
   "language": "python",
   "name": "python3"
  },
  "language_info": {
   "codemirror_mode": {
    "name": "ipython",
    "version": 3
   },
   "file_extension": ".py",
   "mimetype": "text/x-python",
   "name": "python",
   "nbconvert_exporter": "python",
   "pygments_lexer": "ipython3",
   "version": "3.10.11"
  }
 },
 "nbformat": 4,
 "nbformat_minor": 5
}
