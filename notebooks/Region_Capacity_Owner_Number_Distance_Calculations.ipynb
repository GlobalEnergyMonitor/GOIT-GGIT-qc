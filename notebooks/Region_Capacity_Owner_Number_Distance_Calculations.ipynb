{
 "cells": [
  {
   "cell_type": "code",
   "execution_count": 1,
   "id": "24befb0b",
   "metadata": {},
   "outputs": [],
   "source": [
    "import pandas\n",
    "pandas.set_option(\"display.max_rows\", 50, \"display.max_columns\", 50)\n",
    "\n",
    "import numpy\n",
    "import pygsheets"
   ]
  },
  {
   "cell_type": "markdown",
   "id": "c8c5ca7a",
   "metadata": {},
   "source": [
    "import Pipelines_Current dataset"
   ]
  },
  {
   "cell_type": "code",
   "execution_count": 2,
   "id": "a4185877",
   "metadata": {},
   "outputs": [],
   "source": [
    "credentials_directory = '/Users/baird/Dropbox/_google-api/'\n",
    "gc = pygsheets.authorize(client_secret=credentials_directory+'client_secret.json')\n",
    "spreadsheet = gc.open_by_key('1foPLE6K-uqFlaYgLPAUxzeXfDO5wOOqE7tibNHeqTek')\n",
    "\n",
    "#spreadsheet[1] \"Gas Pipelines\" tab is the second index\n",
    "gas_pipes = spreadsheet[1].get_as_df(encoding='latin1')\n",
    "oil_pipes = spreadsheet[2].get_as_df(encoding='latin1')\n",
    "#owners = spreadsheet[2].get_as_df()\n",
    "\n",
    "gas_pipes = gas_pipes.drop('WKTFormat', axis=1) # delete WKTFormat column\n",
    "oil_pipes = oil_pipes.drop('WKTFormat', axis=1)\n",
    "pipes_df = pandas.concat([oil_pipes, gas_pipes], ignore_index=True)\n",
    "\n",
    "#pipe = spreadsheet[1].get_as_df()\n",
    "#pipe = pipe.drop('WKTFormat', axis=1)\n",
    "\n",
    "#get other relevant sheets\n",
    "country_ratios = spreadsheet[5].get_as_df(encoding='latin1')\n",
    "owners_df_orig = spreadsheet[3].get_as_df(encoding='latin1')\n",
    "owners_df_orig.set_index('ProjectID', inplace=True)"
   ]
  },
  {
   "cell_type": "code",
   "execution_count": 3,
   "id": "8deb9480",
   "metadata": {},
   "outputs": [],
   "source": [
    "country_ratios.replace('--', numpy.nan, inplace=True)\n",
    "\n",
    "owners_df_orig.replace('',numpy.nan,inplace=True)\n",
    "owners_df_orig.replace('--',numpy.nan,inplace=True)"
   ]
  },
  {
   "cell_type": "code",
   "execution_count": 4,
   "id": "46945d64",
   "metadata": {},
   "outputs": [],
   "source": [
    "# get a set list of all owners\n",
    "owner_column_list = ['Owner1', \n",
    "                     'Owner2', \n",
    "                     'Owner3', \n",
    "                     'Owner4', \n",
    "                     'Owner5', \n",
    "                     'Owner6', \n",
    "                     'Owner7', \n",
    "                     'Owner8', \n",
    "                     'Owner9', \n",
    "                     'Owner10', \n",
    "                     'Owner11']\n",
    "\n",
    "percent_column_list = ['Percent1', \n",
    "                       'Percent2', \n",
    "                       'Percent3', \n",
    "                       'Percent4', \n",
    "                       'Percent5', \n",
    "                       'Percent6', \n",
    "                       'Percent7', \n",
    "                       'Percent8', \n",
    "                       'Percent9', \n",
    "                       'Percent10', \n",
    "                       'Percent11']\n",
    "\n",
    "owner_id_list = ['ID1', \n",
    "                 'ID2', \n",
    "                 'ID3', \n",
    "                 'ID4', \n",
    "                 'ID5', \n",
    "                 'ID6', \n",
    "                 'ID7', \n",
    "                 'ID8', \n",
    "                 'ID9', \n",
    "                 'ID10', \n",
    "                 'ID11']"
   ]
  },
  {
   "cell_type": "markdown",
   "id": "6be2064b",
   "metadata": {},
   "source": [
    "### sum MergedKmByCountry and MergedKmByRegion"
   ]
  },
  {
   "cell_type": "code",
   "execution_count": 5,
   "id": "752aa61c",
   "metadata": {},
   "outputs": [],
   "source": [
    "status_list = ['Proposed', \n",
    "               'Construction', \n",
    "               'Shelved', \n",
    "               'Cancelled', \n",
    "               'Operating', \n",
    "               'Idle', \n",
    "               'Mothballed', \n",
    "               'Retired']\n",
    "country_list = sorted(list(set(country_ratios['Country'])))\n",
    "region_list = sorted(list(set(country_ratios['Region'])))"
   ]
  },
  {
   "cell_type": "code",
   "execution_count": 6,
   "id": "5af6c683",
   "metadata": {},
   "outputs": [],
   "source": [
    "excel_status_list = ['Proposed', \n",
    "                     'Construction', \n",
    "                     'In Development (Proposed + Construction)', \n",
    "                     'Shelved', \n",
    "                     'Cancelled', \n",
    "                     'Operating', \n",
    "                     'Idle', \n",
    "                     'Mothballed', \n",
    "                     'Retired']"
   ]
  },
  {
   "cell_type": "code",
   "execution_count": 7,
   "id": "5da92596",
   "metadata": {},
   "outputs": [
    {
     "name": "stdout",
     "output_type": "stream",
     "text": [
      "===country-level calculations===\n",
      "Proposed\n",
      "Construction\n",
      "Shelved\n",
      "Cancelled\n",
      "Operating\n",
      "Idle\n",
      "Mothballed\n",
      "Retired\n",
      "===regional calculations===\n",
      "Proposed\n",
      "Construction\n",
      "Shelved\n",
      "Cancelled\n",
      "Operating\n",
      "Idle\n",
      "Mothballed\n",
      "Retired\n"
     ]
    }
   ],
   "source": [
    "fuel_type = 'Gas'\n",
    "#fuel_type = 'Oil'\n",
    "#fuel_type = 'NGL'\n",
    "\n",
    "country_ratios_subset = country_ratios[country_ratios['Fuel']==fuel_type]\n",
    "\n",
    "km_by_country = pandas.DataFrame(columns=status_list, index=country_list)\n",
    "km_by_region = pandas.DataFrame(columns=status_list, index=region_list)\n",
    "\n",
    "print('===country-level calculations===')\n",
    "for status in status_list:\n",
    "    print(status)\n",
    "    country_ratios_subset_status = country_ratios_subset[country_ratios_subset['Status']==status]\n",
    "    km_by_country[status] = country_ratios_subset_status.groupby('Country')['MergedKmByCountry'].sum()\n",
    "\n",
    "print('===regional calculations===')\n",
    "for status in status_list:\n",
    "    print(status)\n",
    "    country_ratios_subset_status = country_ratios_subset[country_ratios_subset['Status']==status]\n",
    "    km_by_region[status] = country_ratios_subset_status.groupby('Region')['MergedKmByCountry'].sum()\n",
    "\n",
    "# fille NaN with 0.0\n",
    "km_by_region = km_by_region.fillna(0)\n",
    "km_by_country = km_by_country.fillna(0)\n",
    "\n",
    "km_by_region['In Development (Proposed + Construction)'] = km_by_region[['Proposed','Construction']].sum(axis=1)\n",
    "km_by_country['In Development (Proposed + Construction)'] = km_by_country[['Proposed','Construction']].sum(axis=1)\n",
    "\n",
    "km_by_country = km_by_country[excel_status_list]\n",
    "km_by_region = km_by_region[excel_status_list]\n",
    "\n",
    "km_by_region.index.name = 'Region'\n",
    "km_by_country.index.name = 'Country'\n",
    "\n",
    "km_by_region.to_excel(fuel_type+'KmByRegionAndStatus.xlsx')\n",
    "km_by_country.to_excel(fuel_type+'KmByCountryAndStatus.xlsx')"
   ]
  },
  {
   "cell_type": "markdown",
   "id": "34223450",
   "metadata": {},
   "source": [
    "### create an excel file with all unique owners, not specific to fuel type"
   ]
  },
  {
   "cell_type": "code",
   "execution_count": 8,
   "id": "8264c62d",
   "metadata": {},
   "outputs": [],
   "source": [
    "owner_list = []\n",
    "for column in owner_column_list:\n",
    "    owner_list+=list(owners_df_orig[column])\n",
    "owner_list = list(set(owner_list))\n",
    "# remove empty (no owner)\n",
    "owner_list.remove(numpy.nan)\n",
    "unique_owner_list = sorted(owner_list)\n",
    "\n",
    "#pandas.Series(unique_owner_list).to_excel('AllFuels'+'UniqueOwnersList.xlsx')"
   ]
  },
  {
   "cell_type": "markdown",
   "id": "347f5c7c",
   "metadata": {},
   "source": [
    "## pipeline km by parent company (owner) and project status"
   ]
  },
  {
   "cell_type": "code",
   "execution_count": 9,
   "id": "b684ee70",
   "metadata": {},
   "outputs": [],
   "source": [
    "fuel_type = 'Gas'\n",
    "#fuel_type = 'Oil'\n",
    "#fuel_type = 'NGL'\n",
    "\n",
    "owners_df_subset = owners_df_orig.copy()[owners_df_orig['Fuel']==fuel_type]\n",
    "\n",
    "##################################################\n",
    "\n",
    "owner_list_subset = []\n",
    "for column in owner_column_list:\n",
    "    owner_list_subset+=list(owners_df_subset[column])\n",
    "owner_list_subset = list(set(owner_list_subset))\n",
    "# remove empty (no owner)\n",
    "owner_list_subset.remove(numpy.nan)\n",
    "unique_owner_list_subset = sorted(owner_list_subset)\n",
    "\n",
    "##################################################\n",
    "# convert percents to fractions\n",
    "##################################################\n",
    "owners_df_fractions = owners_df_subset.copy()\n",
    "\n",
    "for col in percent_column_list:\n",
    "    owners_df_fractions[col] = owners_df_fractions[col].apply(lambda x: numpy.nan if x in [numpy.nan] \n",
    "                                          else x[:-1]).astype(float)/100\n",
    "#df['col'] = df['col'].apply(lambda x: np.nan if x in ['-'] else x[:-1]).astype(float)/100\n",
    "\n",
    "##################################################\n",
    "# create km count by owner, status\n",
    "##################################################\n",
    "no_owner_info_count = 0\n",
    "owners_km_by_status_df = pandas.DataFrame(0, index=unique_owner_list_subset, columns=status_list)\n",
    "\n",
    "for status in status_list:\n",
    "    \n",
    "    owners_df_temporary = owners_df_fractions.copy()[owners_df_fractions['Status']==status]\n",
    "    \n",
    "    for idx,row in owners_df_temporary.iterrows():\n",
    "        \n",
    "        ### how many owners are there?\n",
    "        row_owners = list(row[owner_column_list])\n",
    "        row_owners = [i for i in row_owners if str(i)!='nan']\n",
    "        n_owners = row_owners.__len__()\n",
    "        row_fractions = list(row[percent_column_list])\n",
    "        row_fractions = [i for i in row_fractions if str(i)!='nan']\n",
    "\n",
    "        ### if there are no owners listed, continue to next loop iteration\n",
    "        if n_owners==0:\n",
    "            no_owner_info_count+=1\n",
    "            continue # doesn't complete the rest of the ifs\n",
    "\n",
    "        ### now if row fractions is an empty list, create equal fractions list instead\n",
    "        if row_fractions==[]:\n",
    "            row_fractions = [1/n_owners]*n_owners\n",
    "\n",
    "        pipe_length = row['LengthMergedKm']\n",
    "        owner_km_fractions = numpy.array(row_fractions)*pipe_length\n",
    "\n",
    "        for owner_idx in range(n_owners):\n",
    "            owners_km_by_status_df.loc[row_owners[owner_idx]][status]+=owner_km_fractions[owner_idx]\n",
    "\n",
    "owners_km_by_status_df.index.name = 'Parent Company'\n",
    "owners_km_by_status_df['In Development (Proposed + Construction)'] = owners_km_by_status_df[['Proposed','Construction']].sum(axis=1)\n",
    "owners_km_by_status_df = owners_km_by_status_df[excel_status_list]\n",
    "\n",
    "# rearrange the order of the columns for output\n",
    "owners_km_by_status_df = owners_km_by_status_df[excel_status_list]\n",
    "owners_km_by_status_df.to_excel(fuel_type+'KmByOwnerAndStatus.xlsx')\n",
    "\n",
    "owners_km_by_status_df_sorted = owners_km_by_status_df.sort_values('In Development (Proposed + Construction)', ascending=False)\n",
    "owners_km_by_status_df_sorted.to_excel(fuel_type+'KmByOwnerAndStatus-SortedDescending.xlsx')"
   ]
  },
  {
   "cell_type": "markdown",
   "id": "63492c74-f3c6-4c03-8dc3-05a1183b0737",
   "metadata": {},
   "source": [
    "### number of developers globally"
   ]
  },
  {
   "cell_type": "code",
   "execution_count": 15,
   "id": "e31fc7a2-8e75-4c10-b778-74af5ef92ea6",
   "metadata": {},
   "outputs": [
    {
     "data": {
      "text/plain": [
       "(250, 9)"
      ]
     },
     "execution_count": 15,
     "metadata": {},
     "output_type": "execute_result"
    }
   ],
   "source": [
    "owners_km_by_status_df_sorted[\n",
    "    owners_km_by_status_df_sorted['In Development (Proposed + Construction)']!=0].shape"
   ]
  },
  {
   "cell_type": "code",
   "execution_count": 18,
   "id": "37fe7d67-42ab-47f4-a2d2-8f5986724e02",
   "metadata": {},
   "outputs": [
    {
     "data": {
      "text/plain": [
       "0.5781152397644505"
      ]
     },
     "execution_count": 18,
     "metadata": {},
     "output_type": "execute_result"
    }
   ],
   "source": [
    "owners_km_by_status_df_sorted[:20]['In Development (Proposed + Construction)'].sum() / owners_km_by_status_df_sorted['In Development (Proposed + Construction)'].sum()"
   ]
  },
  {
   "cell_type": "code",
   "execution_count": 19,
   "id": "383a4982-2b0c-4283-b7c3-4efc8c297e1e",
   "metadata": {},
   "outputs": [
    {
     "data": {
      "text/plain": [
       "0.33798691256648333"
      ]
     },
     "execution_count": 19,
     "metadata": {},
     "output_type": "execute_result"
    }
   ],
   "source": [
    "owners_km_by_status_df_sorted[:6]['In Development (Proposed + Construction)'].sum() / owners_km_by_status_df_sorted['In Development (Proposed + Construction)'].sum()"
   ]
  },
  {
   "cell_type": "code",
   "execution_count": null,
   "id": "2e7f43bf-0aa4-4383-9b56-989070ab5f89",
   "metadata": {},
   "outputs": [],
   "source": []
  }
 ],
 "metadata": {
  "kernelspec": {
   "display_name": "gem",
   "language": "python",
   "name": "gem"
  },
  "language_info": {
   "codemirror_mode": {
    "name": "ipython",
    "version": 3
   },
   "file_extension": ".py",
   "mimetype": "text/x-python",
   "name": "python",
   "nbconvert_exporter": "python",
   "pygments_lexer": "ipython3",
   "version": "3.9.6"
  }
 },
 "nbformat": 4,
 "nbformat_minor": 5
}
