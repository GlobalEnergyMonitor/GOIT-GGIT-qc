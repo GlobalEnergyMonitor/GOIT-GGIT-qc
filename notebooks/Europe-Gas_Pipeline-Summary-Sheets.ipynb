{
 "cells": [
  {
   "cell_type": "code",
   "execution_count": 25,
   "id": "24befb0b",
   "metadata": {},
   "outputs": [],
   "source": [
    "import pandas\n",
    "pandas.set_option(\"display.max_rows\", 50, \"display.max_columns\", 50)\n",
    "\n",
    "import numpy\n",
    "import pygsheets"
   ]
  },
  {
   "cell_type": "markdown",
   "id": "c8c5ca7a",
   "metadata": {},
   "source": [
    "import Pipelines_Current dataset"
   ]
  },
  {
   "cell_type": "code",
   "execution_count": 26,
   "id": "a4185877",
   "metadata": {},
   "outputs": [],
   "source": [
    "credentials_directory = '/Users/baird/Dropbox/_google-api/'\n",
    "gc = pygsheets.authorize(client_secret=credentials_directory+'client_secret.json')\n",
    "spreadsheet = gc.open_by_key('1foPLE6K-uqFlaYgLPAUxzeXfDO5wOOqE7tibNHeqTek')\n",
    "\n",
    "#spreadsheet[1] \"Gas Pipelines\" tab is the second index\n",
    "gas_pipes = spreadsheet[1].get_as_df(encoding='latin1')\n",
    "oil_pipes = spreadsheet[2].get_as_df(encoding='latin1')\n",
    "#owners = spreadsheet[2].get_as_df()\n",
    "\n",
    "gas_pipes = gas_pipes.drop('WKTFormat', axis=1) # delete WKTFormat column\n",
    "oil_pipes = oil_pipes.drop('WKTFormat', axis=1)\n",
    "pipes_df_orig = pandas.concat([oil_pipes, gas_pipes], ignore_index=True)\n",
    "\n",
    "#pipe = spreadsheet[1].get_as_df()\n",
    "#pipe = pipe.drop('WKTFormat', axis=1)\n",
    "\n",
    "#get other relevant sheets\n",
    "country_ratios_df = spreadsheet[5].get_as_df(encoding='latin1')\n",
    "owners_df_orig = spreadsheet[3].get_as_df(encoding='latin1')\n",
    "owners_df_orig.set_index('ProjectID', inplace=True)"
   ]
  },
  {
   "cell_type": "code",
   "execution_count": 27,
   "id": "a4e98b3d",
   "metadata": {},
   "outputs": [],
   "source": [
    "country_ratios_df.replace('--', numpy.nan, inplace=True)\n",
    "\n",
    "owners_df_orig.replace('',numpy.nan,inplace=True)\n",
    "owners_df_orig.replace('--',numpy.nan,inplace=True)\n",
    "\n",
    "pipes_df_orig.replace('--',numpy.nan,inplace=True)"
   ]
  },
  {
   "cell_type": "code",
   "execution_count": 28,
   "id": "e38efe9a",
   "metadata": {},
   "outputs": [],
   "source": [
    "region_df_orig = spreadsheet[4].get_as_df(encoding='latin1')"
   ]
  },
  {
   "cell_type": "code",
   "execution_count": 29,
   "id": "c68dd677",
   "metadata": {},
   "outputs": [],
   "source": [
    "region_df_eu = region_df_orig.copy()[region_df_orig['EuropeanUnion']=='Yes']\n",
    "region_df_egt = region_df_orig.copy()[region_df_orig['EuroGasTracker']=='Yes']\n",
    "region_df_europe = region_df_orig.copy()[region_df_orig['Region']=='Europe']\n",
    "region_df_eu_uk = region_df_orig.copy()[(region_df_orig['Region']=='Europe') | \n",
    "                                          (region_df_orig['Country'].isin(['United Kingdom','Israel']))]"
   ]
  },
  {
   "cell_type": "code",
   "execution_count": 30,
   "id": "be0e261d",
   "metadata": {},
   "outputs": [],
   "source": [
    "region_df_touse = region_df_egt.copy()"
   ]
  },
  {
   "cell_type": "markdown",
   "id": "4951d5cc",
   "metadata": {},
   "source": [
    "### create EU-specific dataframes for region, country_ratios_df, owners_df"
   ]
  },
  {
   "cell_type": "raw",
   "id": "7c17bf42",
   "metadata": {},
   "source": [
    "country_ratios_df_touse = country_ratios_df.copy()[country_ratios_df['Country'].str.contains(\n",
    "                                            '|'.join(region_df_touse['Country'].tolist()))]\n",
    "\n",
    "owners_df_touse = owners_df_orig.copy()[owners_df_orig['Countries'].str.contains(\n",
    "                                            '|'.join(region_df_touse['Country'].tolist()))]\n",
    "\n",
    "pipes_df_touse = pipes_df_orig.copy()[pipes_df_orig['Countries'].str.contains(\n",
    "                                            '|'.join(region_df_touse['Country'].tolist()))]"
   ]
  },
  {
   "cell_type": "code",
   "execution_count": 24,
   "id": "e43c900c",
   "metadata": {},
   "outputs": [
    {
     "ename": "ValueError",
     "evalue": "Cannot mask with non-boolean array containing NA / NaN values",
     "output_type": "error",
     "traceback": [
      "\u001b[0;31m---------------------------------------------------------------------------\u001b[0m",
      "\u001b[0;31mValueError\u001b[0m                                Traceback (most recent call last)",
      "\u001b[0;32m/var/folders/h5/nfk59_vx7gg_58myc9jfk7_40000gn/T/ipykernel_88251/2012859466.py\u001b[0m in \u001b[0;36m<module>\u001b[0;34m\u001b[0m\n\u001b[1;32m      2\u001b[0m                                             '|'.join(region_df_touse['Country'].tolist()))]\n\u001b[1;32m      3\u001b[0m \u001b[0;34m\u001b[0m\u001b[0m\n\u001b[0;32m----> 4\u001b[0;31m owners_df_touse = owners_df_orig.copy()[owners_df_orig['Countries'].str.contains(\n\u001b[0m\u001b[1;32m      5\u001b[0m                                             '|'.join(region_df_touse['Country'].tolist()))]\n\u001b[1;32m      6\u001b[0m \u001b[0;34m\u001b[0m\u001b[0m\n",
      "\u001b[0;32m~/miniconda3/envs/gem/lib/python3.9/site-packages/pandas/core/frame.py\u001b[0m in \u001b[0;36m__getitem__\u001b[0;34m(self, key)\u001b[0m\n\u001b[1;32m   3443\u001b[0m \u001b[0;34m\u001b[0m\u001b[0m\n\u001b[1;32m   3444\u001b[0m         \u001b[0;31m# Do we have a (boolean) 1d indexer?\u001b[0m\u001b[0;34m\u001b[0m\u001b[0;34m\u001b[0m\u001b[0;34m\u001b[0m\u001b[0m\n\u001b[0;32m-> 3445\u001b[0;31m         \u001b[0;32mif\u001b[0m \u001b[0mcom\u001b[0m\u001b[0;34m.\u001b[0m\u001b[0mis_bool_indexer\u001b[0m\u001b[0;34m(\u001b[0m\u001b[0mkey\u001b[0m\u001b[0;34m)\u001b[0m\u001b[0;34m:\u001b[0m\u001b[0;34m\u001b[0m\u001b[0;34m\u001b[0m\u001b[0m\n\u001b[0m\u001b[1;32m   3446\u001b[0m             \u001b[0;32mreturn\u001b[0m \u001b[0mself\u001b[0m\u001b[0;34m.\u001b[0m\u001b[0m_getitem_bool_array\u001b[0m\u001b[0;34m(\u001b[0m\u001b[0mkey\u001b[0m\u001b[0;34m)\u001b[0m\u001b[0;34m\u001b[0m\u001b[0;34m\u001b[0m\u001b[0m\n\u001b[1;32m   3447\u001b[0m \u001b[0;34m\u001b[0m\u001b[0m\n",
      "\u001b[0;32m~/miniconda3/envs/gem/lib/python3.9/site-packages/pandas/core/common.py\u001b[0m in \u001b[0;36mis_bool_indexer\u001b[0;34m(key)\u001b[0m\n\u001b[1;32m    137\u001b[0m                     \u001b[0;31m# Don't raise on e.g. [\"A\", \"B\", np.nan], see\u001b[0m\u001b[0;34m\u001b[0m\u001b[0;34m\u001b[0m\u001b[0;34m\u001b[0m\u001b[0m\n\u001b[1;32m    138\u001b[0m                     \u001b[0;31m#  test_loc_getitem_list_of_labels_categoricalindex_with_na\u001b[0m\u001b[0;34m\u001b[0m\u001b[0;34m\u001b[0m\u001b[0;34m\u001b[0m\u001b[0m\n\u001b[0;32m--> 139\u001b[0;31m                     \u001b[0;32mraise\u001b[0m \u001b[0mValueError\u001b[0m\u001b[0;34m(\u001b[0m\u001b[0mna_msg\u001b[0m\u001b[0;34m)\u001b[0m\u001b[0;34m\u001b[0m\u001b[0;34m\u001b[0m\u001b[0m\n\u001b[0m\u001b[1;32m    140\u001b[0m                 \u001b[0;32mreturn\u001b[0m \u001b[0;32mFalse\u001b[0m\u001b[0;34m\u001b[0m\u001b[0;34m\u001b[0m\u001b[0m\n\u001b[1;32m    141\u001b[0m             \u001b[0;32mreturn\u001b[0m \u001b[0;32mTrue\u001b[0m\u001b[0;34m\u001b[0m\u001b[0;34m\u001b[0m\u001b[0m\n",
      "\u001b[0;31mValueError\u001b[0m: Cannot mask with non-boolean array containing NA / NaN values"
     ]
    }
   ],
   "source": [
    "country_ratios_df_touse = country_ratios_df.copy()[country_ratios_df['Country'].str.contains(\n",
    "                                            '|'.join(region_df_touse['Country'].tolist()))]\n",
    "\n",
    "owners_df_touse = owners_df_orig.copy()[owners_df_orig['Countries'].str.contains(\n",
    "                                            '|'.join(region_df_touse['Country'].tolist()))]\n",
    "\n",
    "pipes_df_touse = pipes_df_orig.copy()[pipes_df_orig['Countries'].str.contains(\n",
    "                                            '|'.join(region_df_touse['Country'].tolist()))]"
   ]
  },
  {
   "cell_type": "markdown",
   "id": "67716f54",
   "metadata": {},
   "source": [
    "### set up info to analyze Owners tab"
   ]
  },
  {
   "cell_type": "code",
   "execution_count": null,
   "id": "d2678986",
   "metadata": {},
   "outputs": [],
   "source": [
    "# get a set list of all owners\n",
    "owner_column_list = ['Owner1', \n",
    "                     'Owner2', \n",
    "                     'Owner3', \n",
    "                     'Owner4', \n",
    "                     'Owner5', \n",
    "                     'Owner6', \n",
    "                     'Owner7', \n",
    "                     'Owner8', \n",
    "                     'Owner9', \n",
    "                     'Owner10', \n",
    "                     'Owner11']\n",
    "\n",
    "percent_column_list = ['Percent1', \n",
    "                       'Percent2', \n",
    "                       'Percent3', \n",
    "                       'Percent4', \n",
    "                       'Percent5', \n",
    "                       'Percent6', \n",
    "                       'Percent7', \n",
    "                       'Percent8', \n",
    "                       'Percent9', \n",
    "                       'Percent10', \n",
    "                       'Percent11']\n",
    "\n",
    "owner_id_list = ['ID1', \n",
    "                 'ID2', \n",
    "                 'ID3', \n",
    "                 'ID4', \n",
    "                 'ID5', \n",
    "                 'ID6', \n",
    "                 'ID7', \n",
    "                 'ID8', \n",
    "                 'ID9', \n",
    "                 'ID10', \n",
    "                 'ID11']"
   ]
  },
  {
   "cell_type": "markdown",
   "id": "84b0b032",
   "metadata": {},
   "source": [
    "### sum MergedKmByCountry and MergedKmByRegion"
   ]
  },
  {
   "cell_type": "code",
   "execution_count": null,
   "id": "5aba6b0a",
   "metadata": {},
   "outputs": [],
   "source": [
    "status_list = ['Proposed', \n",
    "               'Construction', \n",
    "               'Shelved', \n",
    "               'Cancelled', \n",
    "               'Operating', \n",
    "               'Idle', \n",
    "               'Mothballed', \n",
    "               'Retired']\n",
    "country_list = sorted(list(set(country_ratios_df_touse['Country'])))\n",
    "region_list = sorted(list(set(country_ratios_df_touse['Region'])))"
   ]
  },
  {
   "cell_type": "code",
   "execution_count": null,
   "id": "99122012",
   "metadata": {},
   "outputs": [],
   "source": [
    "excel_status_list = ['Proposed', \n",
    "                     'Construction', \n",
    "                     'In Development (Proposed + Construction)', \n",
    "                     'Shelved', \n",
    "                     'Cancelled', \n",
    "                     'Operating', \n",
    "                     'Idle', \n",
    "                     'Mothballed', \n",
    "                     'Retired']"
   ]
  },
  {
   "cell_type": "code",
   "execution_count": null,
   "id": "e4a424de",
   "metadata": {},
   "outputs": [],
   "source": [
    "fuel_type = 'Gas'\n",
    "#fuel_type = 'Oil'\n",
    "#fuel_type = 'NGL'\n",
    "\n",
    "country_ratios_df_subset = country_ratios_df_touse.copy()[country_ratios_df_touse['Fuel']==fuel_type]\n",
    "\n",
    "km_by_country = pandas.DataFrame(columns=status_list, index=country_list)\n",
    "km_by_region = pandas.DataFrame(columns=status_list, index=region_list)\n",
    "\n",
    "print('===country-level calculations===')\n",
    "for status in status_list:\n",
    "    print(status)\n",
    "    country_ratios_df_subset_status = country_ratios_df_subset[country_ratios_df_subset['Status']==status]\n",
    "    km_by_country[status] = country_ratios_df_subset_status.groupby('Country')['MergedKmByCountry'].sum()\n",
    "\n",
    "print('===regional calculations===')\n",
    "for status in status_list:\n",
    "    print(status)\n",
    "    country_ratios_df_subset_status = country_ratios_df_subset[country_ratios_df_subset['Status']==status]\n",
    "    km_by_region[status] = country_ratios_df_subset_status.groupby('Region')['MergedKmByCountry'].sum()\n",
    "\n",
    "# fille NaN with 0.0\n",
    "km_by_region = km_by_region.fillna(0)\n",
    "km_by_country = km_by_country.fillna(0)\n",
    "\n",
    "km_by_region['In Development (Proposed + Construction)'] = km_by_region[['Proposed','Construction']].sum(axis=1)\n",
    "km_by_country['In Development (Proposed + Construction)'] = km_by_country[['Proposed','Construction']].sum(axis=1)\n",
    "\n",
    "km_by_country = km_by_country[excel_status_list]\n",
    "km_by_region = km_by_region[excel_status_list]\n",
    "\n",
    "km_by_region.index.name = 'Region'\n",
    "km_by_country.index.name = 'Country'\n",
    "\n",
    "totals_row = km_by_region.sum(axis=0)\n",
    "totals_row.name = 'Total'\n",
    "km_by_region = km_by_region.append(totals_row)\n",
    "\n",
    "totals_row = km_by_country.sum(axis=0)\n",
    "totals_row.name = 'Total'\n",
    "km_by_country = km_by_country.append(totals_row)\n",
    "\n",
    "km_by_region.to_excel('EuroGas'+'KmByRegionAndStatus.xlsx')\n",
    "km_by_country.to_excel('EuroGas'+'KmByCountryAndStatus.xlsx')"
   ]
  },
  {
   "cell_type": "markdown",
   "id": "723b011c",
   "metadata": {},
   "source": [
    "### create an excel file with all unique owners, not specific to fuel type"
   ]
  },
  {
   "cell_type": "code",
   "execution_count": null,
   "id": "64369de0",
   "metadata": {},
   "outputs": [],
   "source": [
    "owner_list = []\n",
    "for column in owner_column_list:\n",
    "    owner_list+=list(owners_df_orig[column])\n",
    "owner_list = list(set(owner_list))\n",
    "# remove empty (no owner)\n",
    "owner_list.remove(numpy.nan)\n",
    "unique_owner_list = sorted(owner_list)\n",
    "\n",
    "#pandas.Series(unique_owner_list).to_excel('AllFuels'+'UniqueOwnersList.xlsx')"
   ]
  },
  {
   "cell_type": "markdown",
   "id": "347f5c7c",
   "metadata": {},
   "source": [
    "## pipeline km by parent company (owner) and project status"
   ]
  },
  {
   "cell_type": "code",
   "execution_count": null,
   "id": "400d612a",
   "metadata": {},
   "outputs": [],
   "source": [
    "fuel_type = 'Gas'\n",
    "#fuel_type = 'Oil'\n",
    "#fuel_type = 'NGL'\n",
    "\n",
    "owners_df_subset = owners_df_touse.copy()[owners_df_touse['Fuel']==fuel_type]\n",
    "\n",
    "##################################################\n",
    "\n",
    "owner_list_subset = []\n",
    "for column in owner_column_list:\n",
    "    owner_list_subset+=list(owners_df_subset[column])\n",
    "owner_list_subset = list(set(owner_list_subset))\n",
    "# remove empty (no owner)\n",
    "owner_list_subset.remove(numpy.nan)\n",
    "unique_owner_list_subset = sorted(owner_list_subset)\n",
    "\n",
    "##################################################\n",
    "# convert percents to fractions\n",
    "##################################################\n",
    "owners_df_fractions = owners_df_subset.copy()\n",
    "\n",
    "for col in percent_column_list:\n",
    "    owners_df_fractions[col] = owners_df_fractions[col].apply(lambda x: numpy.nan if x in [numpy.nan] \n",
    "                                          else x[:-1]).astype(float)/100\n",
    "#df['col'] = df['col'].apply(lambda x: np.nan if x in ['-'] else x[:-1]).astype(float)/100\n",
    "\n",
    "##################################################\n",
    "# create km count by owner, status\n",
    "##################################################\n",
    "no_owner_info_count = 0\n",
    "owners_km_by_status_df = pandas.DataFrame(0, index=unique_owner_list_subset, columns=status_list)\n",
    "\n",
    "for status in status_list:\n",
    "    \n",
    "    owners_df_temporary = owners_df_fractions.copy()[owners_df_fractions['Status']==status]\n",
    "    \n",
    "    for idx,row in owners_df_temporary.iterrows():\n",
    "        \n",
    "        ### how many owners are there?\n",
    "        row_owners = list(row[owner_column_list])\n",
    "        row_owners = [i for i in row_owners if str(i)!='nan']\n",
    "        n_owners = row_owners.__len__()\n",
    "        row_fractions = list(row[percent_column_list])\n",
    "        row_fractions = [i for i in row_fractions if str(i)!='nan']\n",
    "\n",
    "        ### if there are no owners listed, continue to next loop iteration\n",
    "        if n_owners==0:\n",
    "            no_owner_info_count+=1\n",
    "            continue # doesn't complete the rest of the ifs\n",
    "\n",
    "        ### now if row fractions is an empty list, create equal fractions list instead\n",
    "        if row_fractions==[]:\n",
    "            row_fractions = [1/n_owners]*n_owners\n",
    "\n",
    "        pipe_length = row['LengthMergedKm']\n",
    "        owner_km_fractions = numpy.array(row_fractions)*pipe_length\n",
    "\n",
    "        for owner_idx in range(n_owners):\n",
    "            owners_km_by_status_df.loc[row_owners[owner_idx]][status]+=owner_km_fractions[owner_idx]\n",
    "\n",
    "owners_km_by_status_df.index.name = 'Parent Company'\n",
    "owners_km_by_status_df['In Development (Proposed + Construction)'] = owners_km_by_status_df[['Proposed','Construction']].sum(axis=1)\n",
    "owners_km_by_status_df = owners_km_by_status_df[excel_status_list]\n",
    "\n",
    "# rearrange the order of the columns for output\n",
    "owners_km_by_status_df = owners_km_by_status_df[excel_status_list]\n",
    "\n",
    "totals_row = owners_km_by_status_df.sum(axis=0)\n",
    "totals_row.name = 'Total'\n",
    "owners_km_by_status_df = owners_km_by_status_df.append(totals_row)\n",
    "\n",
    "owners_km_by_status_df.to_excel('EuroGas'+'KmByOwnerAndStatus.xlsx')"
   ]
  },
  {
   "cell_type": "markdown",
   "id": "b5c7bac3",
   "metadata": {},
   "source": [
    "### pipeline km by start year, type"
   ]
  },
  {
   "cell_type": "code",
   "execution_count": null,
   "id": "ce1cc9f6",
   "metadata": {},
   "outputs": [],
   "source": [
    "pipes_started_eu = pipes_df_touse.copy()\n",
    "#pipes_started_eu['StartYearLatest'].replace(numpy.nan,'',inplace=True)\n",
    "\n",
    "pipes_started_eu = pipes_started_eu[(pipes_started_eu['Status'].isin(['Operating'])) &\n",
    "                              (pipes_started_eu['Fuel']=='Gas')]\n",
    "pipes_started_eu_sum = pipes_started_eu.groupby('StartYearLatest')['LengthMergedKm'].sum()"
   ]
  },
  {
   "cell_type": "code",
   "execution_count": null,
   "id": "3088dfbc",
   "metadata": {},
   "outputs": [],
   "source": [
    "km_by_start_year = pandas.DataFrame(index=list(range(1980,2022)), columns=['Gas pipeline km'])\n",
    "km_by_start_year.index.name = 'Start year'\n",
    "\n",
    "km_by_start_year['Gas pipeline km'] = pipes_started_eu_sum\n",
    "km_by_start_year.replace(numpy.nan,0,inplace=True)\n",
    "\n",
    "totals_row = km_by_start_year.sum(axis=0)\n",
    "totals_row.name = 'Total'\n",
    "km_by_start_year = km_by_start_year.append(totals_row)\n",
    "\n",
    "km_by_start_year.to_excel('EuroGas'+'KmByStartYear.xlsx')"
   ]
  },
  {
   "cell_type": "code",
   "execution_count": null,
   "id": "4a7db309",
   "metadata": {},
   "outputs": [],
   "source": []
  }
 ],
 "metadata": {
  "kernelspec": {
   "display_name": "gem",
   "language": "python",
   "name": "gem"
  },
  "language_info": {
   "codemirror_mode": {
    "name": "ipython",
    "version": 3
   },
   "file_extension": ".py",
   "mimetype": "text/x-python",
   "name": "python",
   "nbconvert_exporter": "python",
   "pygments_lexer": "ipython3",
   "version": "3.9.6"
  }
 },
 "nbformat": 4,
 "nbformat_minor": 5
}
