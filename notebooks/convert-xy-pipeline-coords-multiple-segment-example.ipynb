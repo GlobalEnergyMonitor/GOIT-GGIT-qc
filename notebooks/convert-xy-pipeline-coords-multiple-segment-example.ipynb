{
 "cells": [
  {
   "cell_type": "markdown",
   "id": "81866880-e78e-4cc8-9d72-6c3fc41f4f58",
   "metadata": {},
   "source": [
    "# import a csv file made in QGIS, and convert to Google Maps-enabled coords for wiki pages"
   ]
  },
  {
   "cell_type": "code",
   "execution_count": 2,
   "id": "bece9d24",
   "metadata": {},
   "outputs": [],
   "source": [
    "import pandas"
   ]
  },
  {
   "cell_type": "code",
   "execution_count": 3,
   "id": "dd75a353",
   "metadata": {},
   "outputs": [],
   "source": [
    "#coords_csv = pandas.read_csv('/Users/baird/Dropbox/_gem-docs/projects/gfit-pipelines/mapping/australia/australia-route-fixing-bassgas.csv')\n",
    "#coords_csv = pandas.read_csv('/Users/baird/Dropbox/_gem-docs/projects/gfit-pipelines/mapping/australia/australia-route-fixing.csv')\n",
    "#coords_csv = pandas.read_csv('/Users/baird/Dropbox/_gem-docs/projects/gfit-pipelines/mapping/australia/australia-route-fixing-darling-downs.csv')\n",
    "#coords_csv = pandas.read_csv('/Users/baird/Dropbox/_gem-docs/report-gas-pipelines-2022/figures-and-mapping/from-scott/mountaineer-pipeline.csv')\n",
    "#coords_csv = pandas.read_csv('/Users/baird/Dropbox/_gem-docs/projects/pipelines/mapping/2022-oil/tazama/tazama-pipeline.csv')\n",
    "#coords_csv = pandas.read_csv('/Users/baird/Dropbox/_gem-docs/projects/pipelines/mapping/2022-oil/report-mapping/willow-pipeline.csv')\n",
    "#coords_csv = pandas.read_csv('/Users/baird/Dropbox/_gem-docs/projects/pipelines/mapping/fixing-vts/new-vts.csv')\n",
    "coords_csv = pandas.read_csv('/Users/baird/Dropbox/_gem-docs/projects/pipelines/mapping/2022-gas/nigeria-morocco/nigeria-morocco-wags-elps.csv')"
   ]
  },
  {
   "cell_type": "markdown",
   "id": "0209d557",
   "metadata": {},
   "source": [
    "* look at the csv file to understand how it's organized\n",
    "* ultimately each x,y pair should look like:  x1,y1 : x2,y2 : x3,y3 : ..."
   ]
  },
  {
   "cell_type": "code",
   "execution_count": 4,
   "id": "d4101573",
   "metadata": {},
   "outputs": [
    {
     "data": {
      "text/html": [
       "<div>\n",
       "<style scoped>\n",
       "    .dataframe tbody tr th:only-of-type {\n",
       "        vertical-align: middle;\n",
       "    }\n",
       "\n",
       "    .dataframe tbody tr th {\n",
       "        vertical-align: top;\n",
       "    }\n",
       "\n",
       "    .dataframe thead th {\n",
       "        text-align: right;\n",
       "    }\n",
       "</style>\n",
       "<table border=\"1\" class=\"dataframe\">\n",
       "  <thead>\n",
       "    <tr style=\"text-align: right;\">\n",
       "      <th></th>\n",
       "      <th>id</th>\n",
       "      <th>name</th>\n",
       "      <th>vertex_index</th>\n",
       "      <th>vertex_part</th>\n",
       "      <th>vertex_part_index</th>\n",
       "      <th>distance</th>\n",
       "      <th>angle</th>\n",
       "      <th>lon</th>\n",
       "      <th>lat</th>\n",
       "    </tr>\n",
       "  </thead>\n",
       "  <tbody>\n",
       "    <tr>\n",
       "      <th>0</th>\n",
       "      <td>NaN</td>\n",
       "      <td>elps1</td>\n",
       "      <td>0</td>\n",
       "      <td>0</td>\n",
       "      <td>0</td>\n",
       "      <td>0.000000</td>\n",
       "      <td>4.622061</td>\n",
       "      <td>6.254675</td>\n",
       "      <td>4.977061</td>\n",
       "    </tr>\n",
       "    <tr>\n",
       "      <th>1</th>\n",
       "      <td>NaN</td>\n",
       "      <td>elps1</td>\n",
       "      <td>1</td>\n",
       "      <td>0</td>\n",
       "      <td>1</td>\n",
       "      <td>0.227909</td>\n",
       "      <td>0.684367</td>\n",
       "      <td>6.273040</td>\n",
       "      <td>5.204229</td>\n",
       "    </tr>\n",
       "    <tr>\n",
       "      <th>2</th>\n",
       "      <td>NaN</td>\n",
       "      <td>elps1</td>\n",
       "      <td>2</td>\n",
       "      <td>0</td>\n",
       "      <td>2</td>\n",
       "      <td>0.322430</td>\n",
       "      <td>342.496874</td>\n",
       "      <td>6.267676</td>\n",
       "      <td>5.298598</td>\n",
       "    </tr>\n",
       "    <tr>\n",
       "      <th>3</th>\n",
       "      <td>NaN</td>\n",
       "      <td>elps1</td>\n",
       "      <td>3</td>\n",
       "      <td>0</td>\n",
       "      <td>3</td>\n",
       "      <td>0.369876</td>\n",
       "      <td>315.519031</td>\n",
       "      <td>6.242708</td>\n",
       "      <td>5.338941</td>\n",
       "    </tr>\n",
       "    <tr>\n",
       "      <th>4</th>\n",
       "      <td>NaN</td>\n",
       "      <td>elps1</td>\n",
       "      <td>4</td>\n",
       "      <td>0</td>\n",
       "      <td>4</td>\n",
       "      <td>0.434096</td>\n",
       "      <td>297.660300</td>\n",
       "      <td>6.188721</td>\n",
       "      <td>5.373722</td>\n",
       "    </tr>\n",
       "    <tr>\n",
       "      <th>...</th>\n",
       "      <td>...</td>\n",
       "      <td>...</td>\n",
       "      <td>...</td>\n",
       "      <td>...</td>\n",
       "      <td>...</td>\n",
       "      <td>...</td>\n",
       "      <td>...</td>\n",
       "      <td>...</td>\n",
       "      <td>...</td>\n",
       "    </tr>\n",
       "    <tr>\n",
       "      <th>252</th>\n",
       "      <td>NaN</td>\n",
       "      <td>old-wag</td>\n",
       "      <td>1</td>\n",
       "      <td>0</td>\n",
       "      <td>1</td>\n",
       "      <td>0.932782</td>\n",
       "      <td>59.984370</td>\n",
       "      <td>3.947117</td>\n",
       "      <td>7.371173</td>\n",
       "    </tr>\n",
       "    <tr>\n",
       "      <th>253</th>\n",
       "      <td>NaN</td>\n",
       "      <td>old-wag</td>\n",
       "      <td>2</td>\n",
       "      <td>0</td>\n",
       "      <td>2</td>\n",
       "      <td>1.522817</td>\n",
       "      <td>92.169884</td>\n",
       "      <td>4.515616</td>\n",
       "      <td>7.529129</td>\n",
       "    </tr>\n",
       "    <tr>\n",
       "      <th>254</th>\n",
       "      <td>NaN</td>\n",
       "      <td>old-wag</td>\n",
       "      <td>3</td>\n",
       "      <td>0</td>\n",
       "      <td>3</td>\n",
       "      <td>2.244111</td>\n",
       "      <td>112.670607</td>\n",
       "      <td>5.193979</td>\n",
       "      <td>7.283999</td>\n",
       "    </tr>\n",
       "    <tr>\n",
       "      <th>255</th>\n",
       "      <td>NaN</td>\n",
       "      <td>old-wag</td>\n",
       "      <td>4</td>\n",
       "      <td>0</td>\n",
       "      <td>4</td>\n",
       "      <td>2.750989</td>\n",
       "      <td>145.384234</td>\n",
       "      <td>5.651580</td>\n",
       "      <td>7.065993</td>\n",
       "    </tr>\n",
       "    <tr>\n",
       "      <th>256</th>\n",
       "      <td>NaN</td>\n",
       "      <td>old-wag</td>\n",
       "      <td>5</td>\n",
       "      <td>0</td>\n",
       "      <td>5</td>\n",
       "      <td>4.267588</td>\n",
       "      <td>175.294839</td>\n",
       "      <td>5.775984</td>\n",
       "      <td>5.554505</td>\n",
       "    </tr>\n",
       "  </tbody>\n",
       "</table>\n",
       "<p>257 rows × 9 columns</p>\n",
       "</div>"
      ],
      "text/plain": [
       "     id     name  vertex_index  vertex_part  vertex_part_index  distance  \\\n",
       "0   NaN    elps1             0            0                  0  0.000000   \n",
       "1   NaN    elps1             1            0                  1  0.227909   \n",
       "2   NaN    elps1             2            0                  2  0.322430   \n",
       "3   NaN    elps1             3            0                  3  0.369876   \n",
       "4   NaN    elps1             4            0                  4  0.434096   \n",
       "..   ..      ...           ...          ...                ...       ...   \n",
       "252 NaN  old-wag             1            0                  1  0.932782   \n",
       "253 NaN  old-wag             2            0                  2  1.522817   \n",
       "254 NaN  old-wag             3            0                  3  2.244111   \n",
       "255 NaN  old-wag             4            0                  4  2.750989   \n",
       "256 NaN  old-wag             5            0                  5  4.267588   \n",
       "\n",
       "          angle       lon       lat  \n",
       "0      4.622061  6.254675  4.977061  \n",
       "1      0.684367  6.273040  5.204229  \n",
       "2    342.496874  6.267676  5.298598  \n",
       "3    315.519031  6.242708  5.338941  \n",
       "4    297.660300  6.188721  5.373722  \n",
       "..          ...       ...       ...  \n",
       "252   59.984370  3.947117  7.371173  \n",
       "253   92.169884  4.515616  7.529129  \n",
       "254  112.670607  5.193979  7.283999  \n",
       "255  145.384234  5.651580  7.065993  \n",
       "256  175.294839  5.775984  5.554505  \n",
       "\n",
       "[257 rows x 9 columns]"
      ]
     },
     "execution_count": 4,
     "metadata": {},
     "output_type": "execute_result"
    }
   ],
   "source": [
    "coords_csv"
   ]
  },
  {
   "cell_type": "markdown",
   "id": "b7606163",
   "metadata": {},
   "source": [
    "* create a list of pipeline names that match up exactly with the csv file; this is something you'll edit yourself\n",
    "\n",
    "* _aside: to pull out all the rows where the Name column matches \"Example Pipeline 1\", use the syntax below:_\n",
    "\n",
    "* now loop through each ```pipeline_name``` in this list and do the appropriate reformatting, and store that in ```list_of_formatted_coords```"
   ]
  },
  {
   "cell_type": "markdown",
   "id": "10f0323f",
   "metadata": {},
   "source": [
    "### if from the EIA dataset, the pipelines don't have individual names\n",
    "\n",
    "in QGIS, select the given pipeline(s), then Vector > Collect geometries, then add $x $y (lon, lat) and export as a csv file; then you'll use the \"vertex_part\" label as the pipeline name"
   ]
  },
  {
   "cell_type": "raw",
   "id": "977407a9-29b2-4942-bcd4-f1bd1df34d86",
   "metadata": {},
   "source": [
    "#list_of_pipelines = [\"Tioga to Emerson Pipeline\"]\n",
    "list_of_pipelines = list(set(coords_csv['vertex_part']))\n",
    "print(list_of_pipelines)"
   ]
  },
  {
   "cell_type": "raw",
   "id": "bff8549a-2348-4e29-bc45-172c1d993cc6",
   "metadata": {},
   "source": [
    "list_of_formatted_coords = []\n",
    "for pipeline_name in list_of_pipelines:\n",
    "    # pull out all rows matching pipeline_name\n",
    "    pipeline_specific_dataframe = coords_csv.loc[coords_csv['vertex_part']==pipeline_name]\n",
    "    # then change y,x coords into strings\n",
    "    pipeline_specific_dataframe[['lat','lon']].astype(str)\n",
    "    # join those strings with a comma\n",
    "    joined_strings_dataframe = pipeline_specific_dataframe[['lat', 'lon']].astype(str).apply(lambda x: ', '.join(x), axis=1)\n",
    "    # add the colon\n",
    "    joined_strings_with_colon = joined_strings_dataframe.str.cat(sep=':')\n",
    "    # store this in a list\n",
    "    list_of_formatted_coords.append(joined_strings_with_colon)"
   ]
  },
  {
   "cell_type": "raw",
   "id": "e9a9dcbd-8d09-4a53-ad7c-fdee530cb1c9",
   "metadata": {},
   "source": [
    "' ; '.join(list_of_formatted_coords)"
   ]
  },
  {
   "cell_type": "raw",
   "id": "7b9848fd-8475-4fcb-924c-2e622672aa25",
   "metadata": {},
   "source": [
    "' ; '.join(list_of_formatted_coords).__len__()"
   ]
  },
  {
   "cell_type": "markdown",
   "id": "e74be6ed",
   "metadata": {},
   "source": [
    "### if normal separate segments"
   ]
  },
  {
   "cell_type": "code",
   "execution_count": 5,
   "id": "41e5cc4d-9496-4316-adb1-18101f2eab22",
   "metadata": {},
   "outputs": [],
   "source": [
    "segment_name = 'name'\n",
    "#segment_name = 'PipelineName'\n",
    "#segment_name = 'LINE_NO'\n",
    "#segment_name = 'OBJECTID'"
   ]
  },
  {
   "cell_type": "code",
   "execution_count": 6,
   "id": "14d74689",
   "metadata": {},
   "outputs": [
    {
     "name": "stdout",
     "output_type": "stream",
     "text": [
      "['elps1', 'elps2', 'nm1', 'nm10', 'nm11', 'nm2', 'nm3', 'nm4', 'nm5', 'nm6', 'nm7', 'nm8', 'nm9', 'old-wag', 'wag1', 'wag2', 'wag3', 'wag4']\n"
     ]
    }
   ],
   "source": [
    "#list_of_pipelines = [\"Tioga to Emerson Pipeline\"]\n",
    "list_of_pipelines = list(sorted(set(coords_csv[segment_name])))\n",
    "#list_of_pipelines = list(set(coords_csv['PipelineName']))\n",
    "#print(list_of_pipelines)\n",
    "print(sorted(list(list_of_pipelines)))"
   ]
  },
  {
   "cell_type": "code",
   "execution_count": 7,
   "id": "07c5501b",
   "metadata": {},
   "outputs": [],
   "source": [
    "list_of_formatted_coords = []\n",
    "for pipeline_name in list_of_pipelines:\n",
    "    # pull out all rows matching pipeline_name\n",
    "#    pipeline_specific_dataframe = coords_csv.loc[coords_csv['PipelineName']==pipeline_name]\n",
    "    pipeline_specific_dataframe = coords_csv.loc[coords_csv[segment_name]==pipeline_name]\n",
    "    # then change y,x coords into strings\n",
    "    pipeline_specific_dataframe[['lat','lon']].astype(str)\n",
    "    # join those strings with a comma\n",
    "    joined_strings_dataframe = pipeline_specific_dataframe[['lat', 'lon']].astype(str).apply(lambda x: ','.join(x), axis=1)\n",
    "    # add the colon\n",
    "    joined_strings_with_colon = joined_strings_dataframe.str.cat(sep=':')\n",
    "    # store this in a list\n",
    "    list_of_formatted_coords.append(joined_strings_with_colon)"
   ]
  },
  {
   "cell_type": "code",
   "execution_count": 8,
   "id": "76027c9e-da40-4d52-bc1e-a98fb3fdad30",
   "metadata": {},
   "outputs": [
    {
     "data": {
      "text/plain": [
       "5073"
      ]
     },
     "execution_count": 8,
     "metadata": {},
     "output_type": "execute_result"
    }
   ],
   "source": [
    "' ; '.join(list_of_formatted_coords).__len__()"
   ]
  },
  {
   "cell_type": "raw",
   "id": "ea5d4b7b-5800-4db0-b0de-930201b20e0d",
   "metadata": {
    "tags": []
   },
   "source": [
    "for index,pipeline_name in enumerate(list_of_pipelines):\n",
    "\n",
    "    print(pipeline_name, '--', list_of_formatted_coords[index])\n",
    "    print()"
   ]
  },
  {
   "cell_type": "code",
   "execution_count": 9,
   "id": "9d18f645-9af8-4fee-8b24-d8b3eb8239d2",
   "metadata": {},
   "outputs": [
    {
     "name": "stdout",
     "output_type": "stream",
     "text": [
      ";\n",
      "4.977061,6.254675:5.204229,6.27304:5.298598,6.267676:5.338941,6.242708:5.373722,6.188721:5.421146,6.074395:5.490695,5.925137:5.574694,5.713047:5.723966,5.702651:5.869837,5.691923:6.038785,5.682982:6.184572,5.674042:6.304512,5.662376:6.372065,5.64219:6.409197,5.594219:6.461813,5.51664:6.506787,5.390909:6.591727,5.164592:6.661666,4.96845:6.723636,4.757489:6.731595,4.636519:6.731595,4.410202:6.706622,3.982714:6.704664,3.704414:6.704664,3.490649:6.717337,3.281849\n",
      ";\n",
      "5.574694,5.713047:5.582602,5.673737:5.603801,5.620485:5.637112,5.559626:5.668908,5.427259:5.667394,5.317713:5.641655,5.238596:5.611385,5.201265\n",
      ";\n",
      "4.135867,-1.449023:4.014729,-1.911063:3.892177,-2.254852:3.817065,-2.549708:3.773246,-2.976308:3.769251,-3.463418:3.877895,-3.967016:3.959369,-4.457004:4.000103,-4.715609:3.986525,-5.123932:3.972947,-5.505034:3.932212,-5.668363:3.823575,-6.049465:3.728506,-6.376123:3.660594,-6.702782:3.592676,-7.070273:3.565508,-7.505818:3.565508,-7.954973:3.565508,-8.376907:3.647011,-8.812452:3.809994,-9.179943:4.176592,-9.901314:4.407326,-10.350469:4.624423,-10.677128:4.760074,-10.922122:5.261746,-11.684325:5.586942,-12.133481:5.911957,-12.569025:6.196188,-12.909295:6.53436,-13.317618:6.845276,-13.603444:7.196502,-13.916492:7.426003,-14.107043:7.763287,-14.365647:8.086826,-14.515366:8.423569,-14.678695:8.827273,-14.882857:9.270837,-15.087018:9.83456,-15.345623:9.968641,-15.413677:10.129464,-15.631449:10.31699,-15.849222:10.544549,-16.121437:10.825419,-16.393653:11.065956,-16.625036:11.252904,-16.856419:11.45307,-17.006138:11.852976,-17.360018:12.079332,-17.591401:12.358682,-17.822784:12.531465,-17.999724:12.889949,-18.163053:13.075629,-18.231107:13.473042,-18.28555:13.803716,-18.326383:14.186711,-18.353604:14.661252,-18.353604:14.924445,-18.339993:15.318629,-18.326383:15.829957,-18.190275:16.287744,-18.054167:16.73143,-17.93167:17.26509,-17.809173:17.797211,-17.713898:18.237283,-17.673065:18.585962,-17.659455:18.972548,-17.727509:19.37108,-17.822784:19.730208,-17.945281:20.024605,-18.067778:20.343977,-18.149443:20.497042,-18.203886:20.955318,-18.28555:21.399522,-18.28555:21.918162,-18.299161:22.283871,-18.27194:22.610938,-18.149443:23.012415,-17.958892:23.475137,-17.645844:23.898915,-17.360018:24.370911,-17.019748:24.630999,-16.815587:24.902894,-16.570593:25.223452,-16.284767:25.444884,-16.16227:25.714971,-16.026162:25.897117,-15.952923:26.057833,-15.876443:26.253305,-15.726725:26.606761,-15.372845:26.971259,-15.018965:27.370848,-14.637863:27.66849,-14.275246:27.781907,-14.124835:27.875511,-13.974424:28.021613,-13.725941:28.20169,-13.412893:28.620688,-12.814019:28.942779,-12.419307:29.251997,-12.065427:29.41545,-11.913236:29.583958,-11.779601:29.844022,-11.616271:30.10341,-11.480163:30.303382,-11.41211:30.434154,-11.384012:30.666987,-11.384888:31.110836,-11.384888:31.564217,-11.344056:31.881697,-11.269133:32.100431,-11.202078:32.57416,-11.009946:32.881856,-10.845983:33.139366,-10.690739:33.324602,-10.522338:33.479612,-10.34735:33.620177,-10.152293:33.729997,-9.955757:33.933507,-9.601877:34.113998,-9.247997:34.327832,-8.907727:34.585955,-8.553847:34.787408,-8.295242:34.99952,-8.036638:35.244438,-7.805255:35.621496,-7.519428:35.985772,-7.342488:36.150798,-7.274434:36.348373,-7.138327:36.479812,-6.961387:36.567314,-6.743614:36.611028,-6.607507:36.632876,-6.362513:36.643798,-6.158351\n",
      ";\n",
      "4.760074,-10.922122:5.139754,-10.71796:5.397266,-10.54102:5.600488,-10.391302:5.970238,-10.119235\n",
      ";\n",
      "3.932212,-5.668363:4.258036,-5.763639:4.570155,-5.804471:4.868576,-5.845303:5.180421,-5.858914\n",
      ";\n",
      "34.327832,-8.907727:33.922214,-8.540236:33.684707,-8.295242:33.514656,-8.104692:33.401794,-7.988628\n",
      ";\n",
      "28.021613,-13.725941:27.852954,-13.595403:27.716054,-13.476768:27.578981,-13.316869:27.487505,-13.172445\n",
      ";\n",
      "20.497042,-18.203886:20.483919,-17.848872:20.483919,-17.586356:20.529453,-17.314117:20.602278,-17.119661:20.738732,-16.915482:20.911397,-16.711303\n",
      ";\n",
      "14.186711,-18.353604:14.186711,-18.026946:14.199906,-17.645844:14.213101,-17.346407:14.308285,-16.876591\n",
      ";\n",
      "13.075629,-18.231107:13.168417,-17.795562:13.221422,-17.455293:13.28854,-17.022433:13.316926,-16.662689\n",
      ";\n",
      "11.45307,-17.006138:11.559768,-16.543371:11.679755,-16.271156:11.746391,-15.99894:11.839656,-15.699503\n",
      ";\n",
      "9.968641,-15.413677:10.19645,-14.978132:10.357159,-14.610641:10.424097,-14.460923\n",
      ";\n",
      "7.426003,-14.107043:7.817228,-13.52178:8.005965,-13.195121:8.170045,-12.870791\n",
      ";\n",
      "6.717337,3.281849:7.371173,3.947117:7.529129,4.515616:7.283999,5.193979:7.065993,5.65158:5.554505,5.775984\n",
      ";\n",
      "6.717337,3.281849:6.455027,3.384082:5.397266,3.750292:5.2753,3.750292:5.193976,3.655017:5.099084,3.423634:4.99062,3.096975:4.963501,2.892813:4.90926,2.566155:4.855014,2.280329:4.814327,2.035335:4.787201,1.831173:4.758622,1.633316:4.719381,1.436461:4.624423,1.041748:4.543019,0.647036:4.476409,0.249911:4.434467,0.007329:4.366614,-0.400994:4.298754,-0.714042:4.135867,-1.449023:4.132529,-1.509054:4.155311,-1.567791:4.191111,-1.613475:4.249689,-1.646107:4.31477,-1.665686:4.916667,-1.766667\n",
      ";\n",
      "4.963501,2.892813:6.366667,2.433333\n",
      ";\n",
      "4.758622,1.633316:6.131944,1.222778\n",
      ";\n",
      "4.476409,0.249911:5.666667,0.0\n"
     ]
    }
   ],
   "source": [
    "for index,pipeline_name in enumerate(list_of_pipelines):\n",
    "    print(';'); print(list_of_formatted_coords[index])"
   ]
  },
  {
   "cell_type": "markdown",
   "id": "00c81eb9-3ae4-496b-be40-e3421a5683aa",
   "metadata": {},
   "source": [
    " "
   ]
  },
  {
   "cell_type": "markdown",
   "id": "a61720a2-e414-4112-923a-a23d233673e3",
   "metadata": {},
   "source": [
    " "
   ]
  },
  {
   "cell_type": "markdown",
   "id": "5ea9fab6-d778-495c-a0b8-b896aa74ae77",
   "metadata": {},
   "source": [
    " "
   ]
  },
  {
   "cell_type": "markdown",
   "id": "a4254d81",
   "metadata": {},
   "source": [
    "### if it's a big network AND segments are not separated, you gotta deal with the \"vertex_part\" info"
   ]
  },
  {
   "cell_type": "code",
   "execution_count": 22,
   "id": "7867c692",
   "metadata": {},
   "outputs": [],
   "source": [
    "#list_of_pipelines = ['elps1', 'elps2']\n",
    "list_of_pipelines = ['nm1', 'nm2', 'nm3', 'nm4', 'nm5', 'nm6', 'nm7', 'nm8', 'nm9', 'nm10', 'nm11']\n",
    "#list_of_pipelines = ['wag1', 'wag2', 'wag3', 'wag4']\n",
    "\n",
    "\n"
   ]
  },
  {
   "cell_type": "code",
   "execution_count": 23,
   "id": "3a07c754",
   "metadata": {},
   "outputs": [],
   "source": [
    "list_of_formatted_coords = []\n",
    "\n",
    "for pipeline_name in list_of_pipelines: \n",
    "    list_of_vertex_parts = list(set(coords_csv[coords_csv[segment_name]==pipeline_name]['vertex_part']))\n",
    "    \n",
    "    for vertex_part in list_of_vertex_parts:\n",
    "        # pull out all rows matching pipeline_name\n",
    "        pipeline_specific_dataframe = coords_csv.loc[(coords_csv[segment_name]==pipeline_name)&(coords_csv['vertex_part']==vertex_part)]\n",
    "        # then change y,x coords into strings\n",
    "        pipeline_specific_dataframe[['lat','lon']].astype(str)\n",
    "        # join those strings with a comma\n",
    "        joined_strings_dataframe = pipeline_specific_dataframe[['lat', 'lon']].astype(str).apply(lambda x: ', '.join(x), axis=1)\n",
    "        # add the colon\n",
    "        joined_strings_with_colon = joined_strings_dataframe.str.cat(sep=':')\n",
    "        # store this in a list\n",
    "        list_of_formatted_coords.append(joined_strings_with_colon)"
   ]
  },
  {
   "cell_type": "markdown",
   "id": "830e6281",
   "metadata": {},
   "source": [
    "* finally, write some code to spit out the information in the format you want"
   ]
  },
  {
   "cell_type": "code",
   "execution_count": 24,
   "id": "f9a2fd46",
   "metadata": {},
   "outputs": [
    {
     "data": {
      "text/plain": [
       "11"
      ]
     },
     "execution_count": 24,
     "metadata": {},
     "output_type": "execute_result"
    }
   ],
   "source": [
    "len(list_of_formatted_coords)"
   ]
  },
  {
   "cell_type": "code",
   "execution_count": 25,
   "id": "e5aa0820",
   "metadata": {},
   "outputs": [
    {
     "name": "stdout",
     "output_type": "stream",
     "text": [
      "4.135867, -1.449023:4.014729, -1.911063:3.892177, -2.254852:3.817065, -2.549708:3.773246, -2.976308:3.769251, -3.463418:3.877895, -3.967016:3.959369, -4.457004:4.000103, -4.715609:3.986525, -5.123932:3.972947, -5.505034:3.932212, -5.668363:3.823575, -6.049465:3.728506, -6.376123:3.660594, -6.702782:3.592676, -7.070273:3.565508, -7.505818:3.565508, -7.954973:3.565508, -8.376907:3.647011, -8.812452:3.809994, -9.179943:4.176592, -9.901314:4.407326, -10.350469:4.624423, -10.677128:4.760074, -10.922122:5.261746, -11.684325:5.586942, -12.133481:5.911957, -12.569025:6.196188, -12.909295:6.53436, -13.317618:6.845276, -13.603444:7.196502, -13.916492:7.426003, -14.107043:7.763287, -14.365647:8.086826, -14.515366:8.423569, -14.678695:8.827273, -14.882857:9.270837, -15.087018:9.83456, -15.345623:9.968641, -15.413677:10.129464, -15.631449:10.31699, -15.849222:10.544549, -16.121437:10.825419, -16.393653:11.065956, -16.625036:11.252904, -16.856419:11.45307, -17.006138:11.852976, -17.360018:12.079332, -17.591401:12.358682, -17.822784:12.531465, -17.999724:12.889949, -18.163053:13.075629, -18.231107:13.473042, -18.28555:13.803716, -18.326383:14.186711, -18.353604:14.661252, -18.353604:14.924445, -18.339993:15.318629, -18.326383:15.829957, -18.190275:16.287744, -18.054167:16.73143, -17.93167:17.26509, -17.809173:17.797211, -17.713898:18.237283, -17.673065:18.585962, -17.659455:18.972548, -17.727509:19.37108, -17.822784:19.730208, -17.945281:20.024605, -18.067778:20.343977, -18.149443:20.497042, -18.203886:20.955318, -18.28555:21.399522, -18.28555:21.918162, -18.299161:22.283871, -18.27194:22.610938, -18.149443:23.012415, -17.958892:23.475137, -17.645844:23.898915, -17.360018:24.370911, -17.019748:24.630999, -16.815587:24.902894, -16.570593:25.223452, -16.284767:25.444884, -16.16227:25.714971, -16.026162:25.897117, -15.952923:26.057833, -15.876443:26.253305, -15.726725:26.606761, -15.372845:26.971259, -15.018965:27.370848, -14.637863:27.66849, -14.275246:27.781907, -14.124835:27.875511, -13.974424:28.021613, -13.725941:28.20169, -13.412893:28.620688, -12.814019:28.942779, -12.419307:29.251997, -12.065427:29.41545, -11.913236:29.583958, -11.779601:29.844022, -11.616271:30.10341, -11.480163:30.303382, -11.41211:30.434154, -11.384012:30.666987, -11.384888:31.110836, -11.384888:31.564217, -11.344056:31.881697, -11.269133:32.100431, -11.202078:32.57416, -11.009946:32.881856, -10.845983:33.139366, -10.690739:33.324602, -10.522338:33.479612, -10.34735:33.620177, -10.152293:33.729997, -9.955757:33.933507, -9.601877:34.113998, -9.247997:34.327832, -8.907727:34.585955, -8.553847:34.787408, -8.295242:34.99952, -8.036638:35.244438, -7.805255:35.621496, -7.519428:35.985772, -7.342488:36.150798, -7.274434:36.348373, -7.138327:36.479812, -6.961387:36.567314, -6.743614:36.611028, -6.607507:36.632876, -6.362513:36.643798, -6.158351\n",
      ";\n",
      "34.327832, -8.907727:33.922214, -8.540236:33.684707, -8.295242:33.514656, -8.104692:33.401794, -7.988628\n",
      ";\n",
      "28.021613, -13.725941:27.852954, -13.595403:27.716054, -13.476768:27.578981, -13.316869:27.487505, -13.172445\n",
      ";\n",
      "20.497042, -18.203886:20.483919, -17.848872:20.483919, -17.586356:20.529453, -17.314117:20.602278, -17.119661:20.738732, -16.915482:20.911397, -16.711303\n",
      ";\n",
      "14.186711, -18.353604:14.186711, -18.026946:14.199906, -17.645844:14.213101, -17.346407:14.308285, -16.876591\n",
      ";\n",
      "13.075629, -18.231107:13.168417, -17.795562:13.221422, -17.455293:13.28854, -17.022433:13.316926, -16.662689\n",
      ";\n",
      "11.45307, -17.006138:11.559768, -16.543371:11.679755, -16.271156:11.746391, -15.99894:11.839656, -15.699503\n",
      ";\n",
      "9.968641, -15.413677:10.19645, -14.978132:10.357159, -14.610641:10.424097, -14.460923\n",
      ";\n",
      "7.426003, -14.107043:7.817228, -13.52178:8.005965, -13.195121:8.170045, -12.870791\n",
      ";\n",
      "4.760074, -10.922122:5.139754, -10.71796:5.397266, -10.54102:5.600488, -10.391302:5.970238, -10.119235\n",
      ";\n",
      "3.932212, -5.668363:4.258036, -5.763639:4.570155, -5.804471:4.868576, -5.845303:5.180421, -5.858914\n",
      ";\n"
     ]
    }
   ],
   "source": [
    "for i in list_of_formatted_coords:\n",
    "    print(i)\n",
    "    print(';')"
   ]
  },
  {
   "cell_type": "code",
   "execution_count": null,
   "id": "5210f7f4",
   "metadata": {},
   "outputs": [],
   "source": []
  }
 ],
 "metadata": {
  "kernelspec": {
   "display_name": "gem",
   "language": "python",
   "name": "gem"
  },
  "language_info": {
   "codemirror_mode": {
    "name": "ipython",
    "version": 3
   },
   "file_extension": ".py",
   "mimetype": "text/x-python",
   "name": "python",
   "nbconvert_exporter": "python",
   "pygments_lexer": "ipython3",
   "version": "3.9.9"
  }
 },
 "nbformat": 4,
 "nbformat_minor": 5
}
