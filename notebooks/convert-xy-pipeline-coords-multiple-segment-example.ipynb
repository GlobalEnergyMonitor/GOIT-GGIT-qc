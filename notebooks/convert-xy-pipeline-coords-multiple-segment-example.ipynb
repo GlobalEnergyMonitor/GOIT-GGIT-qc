{
 "cells": [
  {
   "cell_type": "markdown",
   "id": "81866880-e78e-4cc8-9d72-6c3fc41f4f58",
   "metadata": {},
   "source": [
    "# import a csv file made in QGIS, and convert to Google Maps-enabled coords for wiki pages"
   ]
  },
  {
   "cell_type": "code",
   "execution_count": 2,
   "id": "bece9d24",
   "metadata": {},
   "outputs": [],
   "source": [
    "import pandas"
   ]
  },
  {
   "cell_type": "code",
   "execution_count": 3,
   "id": "dd75a353",
   "metadata": {},
   "outputs": [],
   "source": [
    "#coords_csv = pandas.read_csv('/Users/baird/Dropbox/_gem-docs/projects/gfit-pipelines/mapping/australia/australia-route-fixing-bassgas.csv')\n",
    "#coords_csv = pandas.read_csv('/Users/baird/Dropbox/_gem-docs/projects/gfit-pipelines/mapping/australia/australia-route-fixing.csv')\n",
    "#coords_csv = pandas.read_csv('/Users/baird/Dropbox/_gem-docs/projects/gfit-pipelines/mapping/australia/australia-route-fixing-darling-downs.csv')\n",
    "#coords_csv = pandas.read_csv('/Users/baird/Dropbox/_gem-docs/report-gas-pipelines-2022/figures-and-mapping/from-scott/mountaineer-pipeline.csv')\n",
    "#coords_csv = pandas.read_csv('/Users/baird/Dropbox/_gem-docs/projects/pipelines/mapping/2022-oil/tazama/tazama-pipeline.csv')\n",
    "#coords_csv = pandas.read_csv('/Users/baird/Dropbox/_gem-docs/projects/pipelines/mapping/2022-oil/report-mapping/willow-pipeline.csv')\n",
    "#coords_csv = pandas.read_csv('/Users/baird/Dropbox/_gem-docs/projects/pipelines/mapping/fixing-vts/new-vts.csv')\n",
    "#coords_csv = pandas.read_csv('/Users/baird/Dropbox/_gem-docs/projects/pipelines/mapping/2022-gas/nigeria-morocco/nigeria-morocco-wags-elps.csv')\n",
    "coords_csv = pandas.read_csv('/Users/baird/Dropbox/_gem-docs/projects/pipelines/mapping/2022-gas/hydrogen/fluxys-hydrogen-connector.csv')"
   ]
  },
  {
   "cell_type": "markdown",
   "id": "0209d557",
   "metadata": {},
   "source": [
    "* look at the csv file to understand how it's organized\n",
    "* ultimately each x,y pair should look like:  x1,y1 : x2,y2 : x3,y3 : ..."
   ]
  },
  {
   "cell_type": "code",
   "execution_count": 4,
   "id": "d4101573",
   "metadata": {},
   "outputs": [
    {
     "data": {
      "text/html": [
       "<div>\n",
       "<style scoped>\n",
       "    .dataframe tbody tr th:only-of-type {\n",
       "        vertical-align: middle;\n",
       "    }\n",
       "\n",
       "    .dataframe tbody tr th {\n",
       "        vertical-align: top;\n",
       "    }\n",
       "\n",
       "    .dataframe thead th {\n",
       "        text-align: right;\n",
       "    }\n",
       "</style>\n",
       "<table border=\"1\" class=\"dataframe\">\n",
       "  <thead>\n",
       "    <tr style=\"text-align: right;\">\n",
       "      <th></th>\n",
       "      <th>id</th>\n",
       "      <th>name</th>\n",
       "      <th>vertex_index</th>\n",
       "      <th>vertex_part</th>\n",
       "      <th>vertex_part_index</th>\n",
       "      <th>distance</th>\n",
       "      <th>angle</th>\n",
       "      <th>lon</th>\n",
       "      <th>lat</th>\n",
       "    </tr>\n",
       "  </thead>\n",
       "  <tbody>\n",
       "    <tr>\n",
       "      <th>0</th>\n",
       "      <td>NaN</td>\n",
       "      <td>hydrogen-fluxys</td>\n",
       "      <td>0</td>\n",
       "      <td>0</td>\n",
       "      <td>0</td>\n",
       "      <td>0.000000</td>\n",
       "      <td>8.457181</td>\n",
       "      <td>3.760226</td>\n",
       "      <td>51.077952</td>\n",
       "    </tr>\n",
       "    <tr>\n",
       "      <th>1</th>\n",
       "      <td>NaN</td>\n",
       "      <td>hydrogen-fluxys</td>\n",
       "      <td>1</td>\n",
       "      <td>0</td>\n",
       "      <td>1</td>\n",
       "      <td>0.043330</td>\n",
       "      <td>33.850563</td>\n",
       "      <td>3.766599</td>\n",
       "      <td>51.120810</td>\n",
       "    </tr>\n",
       "    <tr>\n",
       "      <th>2</th>\n",
       "      <td>NaN</td>\n",
       "      <td>hydrogen-fluxys</td>\n",
       "      <td>2</td>\n",
       "      <td>0</td>\n",
       "      <td>2</td>\n",
       "      <td>0.167978</td>\n",
       "      <td>68.882078</td>\n",
       "      <td>3.873715</td>\n",
       "      <td>51.184554</td>\n",
       "    </tr>\n",
       "    <tr>\n",
       "      <th>3</th>\n",
       "      <td>NaN</td>\n",
       "      <td>hydrogen-fluxys</td>\n",
       "      <td>3</td>\n",
       "      <td>0</td>\n",
       "      <td>3</td>\n",
       "      <td>0.371170</td>\n",
       "      <td>83.340380</td>\n",
       "      <td>4.072842</td>\n",
       "      <td>51.224993</td>\n",
       "    </tr>\n",
       "    <tr>\n",
       "      <th>4</th>\n",
       "      <td>NaN</td>\n",
       "      <td>hydrogen-fluxys</td>\n",
       "      <td>4</td>\n",
       "      <td>0</td>\n",
       "      <td>4</td>\n",
       "      <td>0.424756</td>\n",
       "      <td>85.273533</td>\n",
       "      <td>4.126401</td>\n",
       "      <td>51.226713</td>\n",
       "    </tr>\n",
       "    <tr>\n",
       "      <th>5</th>\n",
       "      <td>NaN</td>\n",
       "      <td>hydrogen-fluxys</td>\n",
       "      <td>5</td>\n",
       "      <td>0</td>\n",
       "      <td>5</td>\n",
       "      <td>0.548066</td>\n",
       "      <td>87.521787</td>\n",
       "      <td>4.248624</td>\n",
       "      <td>51.243051</td>\n",
       "    </tr>\n",
       "    <tr>\n",
       "      <th>6</th>\n",
       "      <td>NaN</td>\n",
       "      <td>hydrogen-fluxys</td>\n",
       "      <td>6</td>\n",
       "      <td>0</td>\n",
       "      <td>6</td>\n",
       "      <td>0.802266</td>\n",
       "      <td>96.294585</td>\n",
       "      <td>4.502551</td>\n",
       "      <td>51.231266</td>\n",
       "    </tr>\n",
       "    <tr>\n",
       "      <th>7</th>\n",
       "      <td>NaN</td>\n",
       "      <td>hydrogen-fluxys</td>\n",
       "      <td>7</td>\n",
       "      <td>0</td>\n",
       "      <td>7</td>\n",
       "      <td>1.123269</td>\n",
       "      <td>102.993455</td>\n",
       "      <td>4.818743</td>\n",
       "      <td>51.175900</td>\n",
       "    </tr>\n",
       "    <tr>\n",
       "      <th>8</th>\n",
       "      <td>NaN</td>\n",
       "      <td>hydrogen-fluxys</td>\n",
       "      <td>8</td>\n",
       "      <td>0</td>\n",
       "      <td>8</td>\n",
       "      <td>1.259375</td>\n",
       "      <td>105.494313</td>\n",
       "      <td>4.949541</td>\n",
       "      <td>51.138258</td>\n",
       "    </tr>\n",
       "    <tr>\n",
       "      <th>9</th>\n",
       "      <td>NaN</td>\n",
       "      <td>hydrogen-fluxys</td>\n",
       "      <td>9</td>\n",
       "      <td>0</td>\n",
       "      <td>9</td>\n",
       "      <td>1.324355</td>\n",
       "      <td>103.800463</td>\n",
       "      <td>5.012326</td>\n",
       "      <td>51.121513</td>\n",
       "    </tr>\n",
       "    <tr>\n",
       "      <th>10</th>\n",
       "      <td>NaN</td>\n",
       "      <td>hydrogen-fluxys</td>\n",
       "      <td>10</td>\n",
       "      <td>0</td>\n",
       "      <td>10</td>\n",
       "      <td>1.389511</td>\n",
       "      <td>100.456100</td>\n",
       "      <td>5.075896</td>\n",
       "      <td>51.107225</td>\n",
       "    </tr>\n",
       "    <tr>\n",
       "      <th>11</th>\n",
       "      <td>NaN</td>\n",
       "      <td>hydrogen-fluxys</td>\n",
       "      <td>11</td>\n",
       "      <td>0</td>\n",
       "      <td>11</td>\n",
       "      <td>1.451366</td>\n",
       "      <td>107.580533</td>\n",
       "      <td>5.137111</td>\n",
       "      <td>51.098355</td>\n",
       "    </tr>\n",
       "    <tr>\n",
       "      <th>12</th>\n",
       "      <td>NaN</td>\n",
       "      <td>hydrogen-fluxys</td>\n",
       "      <td>12</td>\n",
       "      <td>0</td>\n",
       "      <td>12</td>\n",
       "      <td>1.538502</td>\n",
       "      <td>120.579035</td>\n",
       "      <td>5.214808</td>\n",
       "      <td>51.058910</td>\n",
       "    </tr>\n",
       "    <tr>\n",
       "      <th>13</th>\n",
       "      <td>NaN</td>\n",
       "      <td>hydrogen-fluxys</td>\n",
       "      <td>13</td>\n",
       "      <td>0</td>\n",
       "      <td>13</td>\n",
       "      <td>2.085294</td>\n",
       "      <td>110.551914</td>\n",
       "      <td>5.666823</td>\n",
       "      <td>50.751235</td>\n",
       "    </tr>\n",
       "    <tr>\n",
       "      <th>14</th>\n",
       "      <td>NaN</td>\n",
       "      <td>hydrogen-fluxys</td>\n",
       "      <td>14</td>\n",
       "      <td>0</td>\n",
       "      <td>14</td>\n",
       "      <td>2.143034</td>\n",
       "      <td>96.861723</td>\n",
       "      <td>5.724149</td>\n",
       "      <td>50.744336</td>\n",
       "    </tr>\n",
       "  </tbody>\n",
       "</table>\n",
       "</div>"
      ],
      "text/plain": [
       "    id             name  vertex_index  vertex_part  vertex_part_index  \\\n",
       "0  NaN  hydrogen-fluxys             0            0                  0   \n",
       "1  NaN  hydrogen-fluxys             1            0                  1   \n",
       "2  NaN  hydrogen-fluxys             2            0                  2   \n",
       "3  NaN  hydrogen-fluxys             3            0                  3   \n",
       "4  NaN  hydrogen-fluxys             4            0                  4   \n",
       "5  NaN  hydrogen-fluxys             5            0                  5   \n",
       "6  NaN  hydrogen-fluxys             6            0                  6   \n",
       "7  NaN  hydrogen-fluxys             7            0                  7   \n",
       "8  NaN  hydrogen-fluxys             8            0                  8   \n",
       "9  NaN  hydrogen-fluxys             9            0                  9   \n",
       "10 NaN  hydrogen-fluxys            10            0                 10   \n",
       "11 NaN  hydrogen-fluxys            11            0                 11   \n",
       "12 NaN  hydrogen-fluxys            12            0                 12   \n",
       "13 NaN  hydrogen-fluxys            13            0                 13   \n",
       "14 NaN  hydrogen-fluxys            14            0                 14   \n",
       "\n",
       "    distance       angle       lon        lat  \n",
       "0   0.000000    8.457181  3.760226  51.077952  \n",
       "1   0.043330   33.850563  3.766599  51.120810  \n",
       "2   0.167978   68.882078  3.873715  51.184554  \n",
       "3   0.371170   83.340380  4.072842  51.224993  \n",
       "4   0.424756   85.273533  4.126401  51.226713  \n",
       "5   0.548066   87.521787  4.248624  51.243051  \n",
       "6   0.802266   96.294585  4.502551  51.231266  \n",
       "7   1.123269  102.993455  4.818743  51.175900  \n",
       "8   1.259375  105.494313  4.949541  51.138258  \n",
       "9   1.324355  103.800463  5.012326  51.121513  \n",
       "10  1.389511  100.456100  5.075896  51.107225  \n",
       "11  1.451366  107.580533  5.137111  51.098355  \n",
       "12  1.538502  120.579035  5.214808  51.058910  \n",
       "13  2.085294  110.551914  5.666823  50.751235  \n",
       "14  2.143034   96.861723  5.724149  50.744336  "
      ]
     },
     "execution_count": 4,
     "metadata": {},
     "output_type": "execute_result"
    }
   ],
   "source": [
    "coords_csv"
   ]
  },
  {
   "cell_type": "markdown",
   "id": "b7606163",
   "metadata": {},
   "source": [
    "* create a list of pipeline names that match up exactly with the csv file; this is something you'll edit yourself\n",
    "\n",
    "* _aside: to pull out all the rows where the Name column matches \"Example Pipeline 1\", use the syntax below:_\n",
    "\n",
    "* now loop through each ```pipeline_name``` in this list and do the appropriate reformatting, and store that in ```list_of_formatted_coords```"
   ]
  },
  {
   "cell_type": "markdown",
   "id": "10f0323f",
   "metadata": {},
   "source": [
    "### if from the EIA dataset, the pipelines don't have individual names\n",
    "\n",
    "in QGIS, select the given pipeline(s), then Vector > Collect geometries, then add $x $y (lon, lat) and export as a csv file; then you'll use the \"vertex_part\" label as the pipeline name"
   ]
  },
  {
   "cell_type": "raw",
   "id": "977407a9-29b2-4942-bcd4-f1bd1df34d86",
   "metadata": {},
   "source": [
    "#list_of_pipelines = [\"Tioga to Emerson Pipeline\"]\n",
    "list_of_pipelines = list(set(coords_csv['vertex_part']))\n",
    "print(list_of_pipelines)"
   ]
  },
  {
   "cell_type": "raw",
   "id": "bff8549a-2348-4e29-bc45-172c1d993cc6",
   "metadata": {},
   "source": [
    "list_of_formatted_coords = []\n",
    "for pipeline_name in list_of_pipelines:\n",
    "    # pull out all rows matching pipeline_name\n",
    "    pipeline_specific_dataframe = coords_csv.loc[coords_csv['vertex_part']==pipeline_name]\n",
    "    # then change y,x coords into strings\n",
    "    pipeline_specific_dataframe[['lat','lon']].astype(str)\n",
    "    # join those strings with a comma\n",
    "    joined_strings_dataframe = pipeline_specific_dataframe[['lat', 'lon']].astype(str).apply(lambda x: ', '.join(x), axis=1)\n",
    "    # add the colon\n",
    "    joined_strings_with_colon = joined_strings_dataframe.str.cat(sep=':')\n",
    "    # store this in a list\n",
    "    list_of_formatted_coords.append(joined_strings_with_colon)"
   ]
  },
  {
   "cell_type": "raw",
   "id": "e9a9dcbd-8d09-4a53-ad7c-fdee530cb1c9",
   "metadata": {},
   "source": [
    "' ; '.join(list_of_formatted_coords)"
   ]
  },
  {
   "cell_type": "raw",
   "id": "7b9848fd-8475-4fcb-924c-2e622672aa25",
   "metadata": {},
   "source": [
    "' ; '.join(list_of_formatted_coords).__len__()"
   ]
  },
  {
   "cell_type": "markdown",
   "id": "e74be6ed",
   "metadata": {},
   "source": [
    "### if normal separate segments"
   ]
  },
  {
   "cell_type": "code",
   "execution_count": 5,
   "id": "41e5cc4d-9496-4316-adb1-18101f2eab22",
   "metadata": {},
   "outputs": [],
   "source": [
    "segment_name = 'name'\n",
    "#segment_name = 'PipelineName'\n",
    "#segment_name = 'LINE_NO'\n",
    "#segment_name = 'OBJECTID'"
   ]
  },
  {
   "cell_type": "code",
   "execution_count": 6,
   "id": "14d74689",
   "metadata": {},
   "outputs": [
    {
     "name": "stdout",
     "output_type": "stream",
     "text": [
      "['hydrogen-fluxys']\n"
     ]
    }
   ],
   "source": [
    "#list_of_pipelines = [\"Tioga to Emerson Pipeline\"]\n",
    "list_of_pipelines = list(sorted(set(coords_csv[segment_name])))\n",
    "#list_of_pipelines = list(set(coords_csv['PipelineName']))\n",
    "#print(list_of_pipelines)\n",
    "print(sorted(list(list_of_pipelines)))"
   ]
  },
  {
   "cell_type": "code",
   "execution_count": 7,
   "id": "07c5501b",
   "metadata": {},
   "outputs": [],
   "source": [
    "list_of_formatted_coords = []\n",
    "for pipeline_name in list_of_pipelines:\n",
    "    # pull out all rows matching pipeline_name\n",
    "#    pipeline_specific_dataframe = coords_csv.loc[coords_csv['PipelineName']==pipeline_name]\n",
    "    pipeline_specific_dataframe = coords_csv.loc[coords_csv[segment_name]==pipeline_name]\n",
    "    # then change y,x coords into strings\n",
    "    pipeline_specific_dataframe[['lat','lon']].astype(str)\n",
    "    # join those strings with a comma\n",
    "    joined_strings_dataframe = pipeline_specific_dataframe[['lat', 'lon']].astype(str).apply(lambda x: ','.join(x), axis=1)\n",
    "    # add the colon\n",
    "    joined_strings_with_colon = joined_strings_dataframe.str.cat(sep=':')\n",
    "    # store this in a list\n",
    "    list_of_formatted_coords.append(joined_strings_with_colon)"
   ]
  },
  {
   "cell_type": "code",
   "execution_count": 8,
   "id": "76027c9e-da40-4d52-bc1e-a98fb3fdad30",
   "metadata": {},
   "outputs": [
    {
     "data": {
      "text/plain": [
       "280"
      ]
     },
     "execution_count": 8,
     "metadata": {},
     "output_type": "execute_result"
    }
   ],
   "source": [
    "' ; '.join(list_of_formatted_coords).__len__()"
   ]
  },
  {
   "cell_type": "raw",
   "id": "ea5d4b7b-5800-4db0-b0de-930201b20e0d",
   "metadata": {
    "tags": []
   },
   "source": [
    "for index,pipeline_name in enumerate(list_of_pipelines):\n",
    "\n",
    "    print(pipeline_name, '--', list_of_formatted_coords[index])\n",
    "    print()"
   ]
  },
  {
   "cell_type": "code",
   "execution_count": 9,
   "id": "9d18f645-9af8-4fee-8b24-d8b3eb8239d2",
   "metadata": {},
   "outputs": [
    {
     "name": "stdout",
     "output_type": "stream",
     "text": [
      ";\n",
      "51.077952,3.760226:51.12081,3.766599:51.184554,3.873715:51.224993,4.072842:51.226713,4.126401:51.243051,4.248624:51.231266,4.502551:51.1759,4.818743:51.138258,4.949541:51.121513,5.012326:51.107225,5.075896:51.098355,5.137111:51.05891,5.214808:50.751235,5.666823:50.744336,5.724149\n"
     ]
    }
   ],
   "source": [
    "for index,pipeline_name in enumerate(list_of_pipelines):\n",
    "    print(';'); print(list_of_formatted_coords[index])"
   ]
  },
  {
   "cell_type": "markdown",
   "id": "00c81eb9-3ae4-496b-be40-e3421a5683aa",
   "metadata": {},
   "source": [
    " "
   ]
  },
  {
   "cell_type": "markdown",
   "id": "a61720a2-e414-4112-923a-a23d233673e3",
   "metadata": {},
   "source": [
    " "
   ]
  },
  {
   "cell_type": "markdown",
   "id": "5ea9fab6-d778-495c-a0b8-b896aa74ae77",
   "metadata": {},
   "source": [
    " "
   ]
  },
  {
   "cell_type": "markdown",
   "id": "a4254d81",
   "metadata": {},
   "source": [
    "### if it's a big network AND segments are not separated, you gotta deal with the \"vertex_part\" info"
   ]
  },
  {
   "cell_type": "code",
   "execution_count": 22,
   "id": "7867c692",
   "metadata": {},
   "outputs": [],
   "source": [
    "#list_of_pipelines = ['elps1', 'elps2']\n",
    "list_of_pipelines = ['nm1', 'nm2', 'nm3', 'nm4', 'nm5', 'nm6', 'nm7', 'nm8', 'nm9', 'nm10', 'nm11']\n",
    "#list_of_pipelines = ['wag1', 'wag2', 'wag3', 'wag4']\n",
    "\n",
    "\n"
   ]
  },
  {
   "cell_type": "code",
   "execution_count": 23,
   "id": "3a07c754",
   "metadata": {},
   "outputs": [],
   "source": [
    "list_of_formatted_coords = []\n",
    "\n",
    "for pipeline_name in list_of_pipelines: \n",
    "    list_of_vertex_parts = list(set(coords_csv[coords_csv[segment_name]==pipeline_name]['vertex_part']))\n",
    "    \n",
    "    for vertex_part in list_of_vertex_parts:\n",
    "        # pull out all rows matching pipeline_name\n",
    "        pipeline_specific_dataframe = coords_csv.loc[(coords_csv[segment_name]==pipeline_name)&(coords_csv['vertex_part']==vertex_part)]\n",
    "        # then change y,x coords into strings\n",
    "        pipeline_specific_dataframe[['lat','lon']].astype(str)\n",
    "        # join those strings with a comma\n",
    "        joined_strings_dataframe = pipeline_specific_dataframe[['lat', 'lon']].astype(str).apply(lambda x: ', '.join(x), axis=1)\n",
    "        # add the colon\n",
    "        joined_strings_with_colon = joined_strings_dataframe.str.cat(sep=':')\n",
    "        # store this in a list\n",
    "        list_of_formatted_coords.append(joined_strings_with_colon)"
   ]
  },
  {
   "cell_type": "markdown",
   "id": "830e6281",
   "metadata": {},
   "source": [
    "* finally, write some code to spit out the information in the format you want"
   ]
  },
  {
   "cell_type": "code",
   "execution_count": 24,
   "id": "f9a2fd46",
   "metadata": {},
   "outputs": [
    {
     "data": {
      "text/plain": [
       "11"
      ]
     },
     "execution_count": 24,
     "metadata": {},
     "output_type": "execute_result"
    }
   ],
   "source": [
    "len(list_of_formatted_coords)"
   ]
  },
  {
   "cell_type": "code",
   "execution_count": 25,
   "id": "e5aa0820",
   "metadata": {},
   "outputs": [
    {
     "name": "stdout",
     "output_type": "stream",
     "text": [
      "4.135867, -1.449023:4.014729, -1.911063:3.892177, -2.254852:3.817065, -2.549708:3.773246, -2.976308:3.769251, -3.463418:3.877895, -3.967016:3.959369, -4.457004:4.000103, -4.715609:3.986525, -5.123932:3.972947, -5.505034:3.932212, -5.668363:3.823575, -6.049465:3.728506, -6.376123:3.660594, -6.702782:3.592676, -7.070273:3.565508, -7.505818:3.565508, -7.954973:3.565508, -8.376907:3.647011, -8.812452:3.809994, -9.179943:4.176592, -9.901314:4.407326, -10.350469:4.624423, -10.677128:4.760074, -10.922122:5.261746, -11.684325:5.586942, -12.133481:5.911957, -12.569025:6.196188, -12.909295:6.53436, -13.317618:6.845276, -13.603444:7.196502, -13.916492:7.426003, -14.107043:7.763287, -14.365647:8.086826, -14.515366:8.423569, -14.678695:8.827273, -14.882857:9.270837, -15.087018:9.83456, -15.345623:9.968641, -15.413677:10.129464, -15.631449:10.31699, -15.849222:10.544549, -16.121437:10.825419, -16.393653:11.065956, -16.625036:11.252904, -16.856419:11.45307, -17.006138:11.852976, -17.360018:12.079332, -17.591401:12.358682, -17.822784:12.531465, -17.999724:12.889949, -18.163053:13.075629, -18.231107:13.473042, -18.28555:13.803716, -18.326383:14.186711, -18.353604:14.661252, -18.353604:14.924445, -18.339993:15.318629, -18.326383:15.829957, -18.190275:16.287744, -18.054167:16.73143, -17.93167:17.26509, -17.809173:17.797211, -17.713898:18.237283, -17.673065:18.585962, -17.659455:18.972548, -17.727509:19.37108, -17.822784:19.730208, -17.945281:20.024605, -18.067778:20.343977, -18.149443:20.497042, -18.203886:20.955318, -18.28555:21.399522, -18.28555:21.918162, -18.299161:22.283871, -18.27194:22.610938, -18.149443:23.012415, -17.958892:23.475137, -17.645844:23.898915, -17.360018:24.370911, -17.019748:24.630999, -16.815587:24.902894, -16.570593:25.223452, -16.284767:25.444884, -16.16227:25.714971, -16.026162:25.897117, -15.952923:26.057833, -15.876443:26.253305, -15.726725:26.606761, -15.372845:26.971259, -15.018965:27.370848, -14.637863:27.66849, -14.275246:27.781907, -14.124835:27.875511, -13.974424:28.021613, -13.725941:28.20169, -13.412893:28.620688, -12.814019:28.942779, -12.419307:29.251997, -12.065427:29.41545, -11.913236:29.583958, -11.779601:29.844022, -11.616271:30.10341, -11.480163:30.303382, -11.41211:30.434154, -11.384012:30.666987, -11.384888:31.110836, -11.384888:31.564217, -11.344056:31.881697, -11.269133:32.100431, -11.202078:32.57416, -11.009946:32.881856, -10.845983:33.139366, -10.690739:33.324602, -10.522338:33.479612, -10.34735:33.620177, -10.152293:33.729997, -9.955757:33.933507, -9.601877:34.113998, -9.247997:34.327832, -8.907727:34.585955, -8.553847:34.787408, -8.295242:34.99952, -8.036638:35.244438, -7.805255:35.621496, -7.519428:35.985772, -7.342488:36.150798, -7.274434:36.348373, -7.138327:36.479812, -6.961387:36.567314, -6.743614:36.611028, -6.607507:36.632876, -6.362513:36.643798, -6.158351\n",
      ";\n",
      "34.327832, -8.907727:33.922214, -8.540236:33.684707, -8.295242:33.514656, -8.104692:33.401794, -7.988628\n",
      ";\n",
      "28.021613, -13.725941:27.852954, -13.595403:27.716054, -13.476768:27.578981, -13.316869:27.487505, -13.172445\n",
      ";\n",
      "20.497042, -18.203886:20.483919, -17.848872:20.483919, -17.586356:20.529453, -17.314117:20.602278, -17.119661:20.738732, -16.915482:20.911397, -16.711303\n",
      ";\n",
      "14.186711, -18.353604:14.186711, -18.026946:14.199906, -17.645844:14.213101, -17.346407:14.308285, -16.876591\n",
      ";\n",
      "13.075629, -18.231107:13.168417, -17.795562:13.221422, -17.455293:13.28854, -17.022433:13.316926, -16.662689\n",
      ";\n",
      "11.45307, -17.006138:11.559768, -16.543371:11.679755, -16.271156:11.746391, -15.99894:11.839656, -15.699503\n",
      ";\n",
      "9.968641, -15.413677:10.19645, -14.978132:10.357159, -14.610641:10.424097, -14.460923\n",
      ";\n",
      "7.426003, -14.107043:7.817228, -13.52178:8.005965, -13.195121:8.170045, -12.870791\n",
      ";\n",
      "4.760074, -10.922122:5.139754, -10.71796:5.397266, -10.54102:5.600488, -10.391302:5.970238, -10.119235\n",
      ";\n",
      "3.932212, -5.668363:4.258036, -5.763639:4.570155, -5.804471:4.868576, -5.845303:5.180421, -5.858914\n",
      ";\n"
     ]
    }
   ],
   "source": [
    "for i in list_of_formatted_coords:\n",
    "    print(i)\n",
    "    print(';')"
   ]
  },
  {
   "cell_type": "code",
   "execution_count": null,
   "id": "5210f7f4",
   "metadata": {},
   "outputs": [],
   "source": []
  }
 ],
 "metadata": {
  "kernelspec": {
   "display_name": "gem",
   "language": "python",
   "name": "gem"
  },
  "language_info": {
   "codemirror_mode": {
    "name": "ipython",
    "version": 3
   },
   "file_extension": ".py",
   "mimetype": "text/x-python",
   "name": "python",
   "nbconvert_exporter": "python",
   "pygments_lexer": "ipython3",
   "version": "3.9.13"
  }
 },
 "nbformat": 4,
 "nbformat_minor": 5
}
