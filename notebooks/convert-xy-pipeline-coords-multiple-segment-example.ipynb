{
 "cells": [
  {
   "cell_type": "code",
   "execution_count": 1,
   "id": "bece9d24",
   "metadata": {},
   "outputs": [],
   "source": [
    "import pandas"
   ]
  },
  {
   "cell_type": "code",
   "execution_count": 2,
   "id": "dd75a353",
   "metadata": {},
   "outputs": [],
   "source": [
    "#coords_csv = pandas.read_csv('tioga-emerson.csv')\n",
    "#coords_csv = pandas.read_csv('/Users/baird/Dropbox/_gem-docs/projects/gfit-pipelines/mapping/china/Henan/Henan QGIS files/henan-vertices-updated.csv')\n",
    "#coords_csv = pandas.read_csv('/Users/baird/Dropbox/_gem-docs/projects/gfit-pipelines/mapping/china/huizhou-lng-terminal/pipeline-route-trace.csv')\n",
    "#coords_csv = pandas.read_csv('/Users/baird/Dropbox/_gem-docs/projects/gfit-pipelines/mapping/usa/north-bakken/north-bakken-route-trace.csv')\n",
    "#coords_csv = pandas.read_csv('/Users/baird/Dropbox/_gem-docs/projects/gfit-pipelines/mapping/usa/improving-usa-routes/georeference-images/carolina-gas-transmission-route.csv')\n",
    "#coords_csv = pandas.read_csv('/Users/baird/Dropbox/_gem-docs/projects/gfit-pipelines/mapping/usa/improving-usa-routes/eastern-gas-transmission-collected.csv')\n",
    "#coords_csv = pandas.read_csv('/Users/baird/Dropbox/_gem-docs/projects/gfit-pipelines/mapping/usa/improving-usa-routes/georeference-images/port-arthur-pipeline.csv')\n",
    "#coords_csv = pandas.read_csv('/Users/baird/Dropbox/_gem-docs/projects/gfit-pipelines/mapping/europe/georeferenced-images/goleniow-route.csv')\n",
    "#coords_csv = pandas.read_csv('/Users/baird/Dropbox/_gem-docs/projects/gfit-pipelines/mapping/usa/improving-usa-routes/florida-gas-transmission-co.csv')\n",
    "#coords_csv = pandas.read_csv('/Users/baird/Dropbox/_gem-docs/projects/gfit-pipelines/mapping/australia/csv-files/wgp.csv')\n",
    "#coords_csv = pandas.read_csv('/Users/baird/Dropbox/_gem-docs/projects/gfit-pipelines/mapping/australia/csv-files/central-west-pipeline.csv')\n",
    "#coords_csv = pandas.read_csv('/Users/baird/Dropbox/_gem-docs/projects/gfit-pipelines/mapping/australia/csv-files/central-ranges-pipeline.csv')\n",
    "#coords_csv = pandas.read_csv('/Users/baird/Dropbox/_gem-docs/projects/gfit-pipelines/mapping/usa/improving-usa-routes/csv-files/anr-pipeline-simplified.csv')\n",
    "#coords_csv = pandas.read_csv('/Users/baird/Dropbox/_gem-docs/projects/gfit-pipelines/mapping/usa/improving-usa-routes/csv-files/enable-gas-transmission-simplified-007.csv')\n",
    "#coords_csv = pandas.read_csv('/Users/baird/Dropbox/_gem-docs/projects/gfit-pipelines/mapping/usa/improving-usa-routes/csv-files/atmos-texas-simlified002.csv')\n",
    "#coords_csv = pandas.read_csv('/Users/baird/Dropbox/_gem-docs/projects/gfit-pipelines/mapping/australia/csv-files/vic-trans-system-001.csv')\n",
    "#coords_csv = pandas.read_csv('/Users/baird/Dropbox/_gem-docs/projects/gfit-pipelines/mapping/russia/power-of-siberia-1.csv')\n",
    "#coords_csv = pandas.read_csv('/Users/baird/Dropbox/_gem-docs/projects/gfit-pipelines/mapping/canada/ngtl-vertices-simplified.csv')\n",
    "#coords_csv = pandas.read_csv('/Users/baird/Dropbox/_gem-docs/projects/gfit-pipelines/mapping/australia/australia-route-fixing-gympie.csv')\n",
    "#coords_csv = pandas.read_csv('/Users/baird/Dropbox/_gem-docs/projects/gfit-pipelines/mapping/israel/israel-egypt-pipelines.csv')\n",
    "#coords_csv = pandas.read_csv('/Users/baird/Dropbox/_gem-docs/projects/gfit-pipelines/mapping/australia/australia-route-fixing-bassgas.csv')\n",
    "#coords_csv = pandas.read_csv('/Users/baird/Dropbox/_gem-docs/projects/gfit-pipelines/mapping/australia/australia-route-fixing.csv')\n",
    "#coords_csv = pandas.read_csv('/Users/baird/Dropbox/_gem-docs/projects/gfit-pipelines/mapping/australia/australia-route-fixing-darling-downs.csv')\n",
    "#coords_csv = pandas.read_csv('/Users/baird/Dropbox/_gem-docs/report-gas-pipelines-2022/figures-and-mapping/from-scott/mountaineer-pipeline.csv')\n",
    "coords_csv = pandas.read_csv('/Users/baird/Dropbox/_gem-docs/projects/pipelines/mapping/2022-oil/tazama/tazama-pipeline.csv')"
   ]
  },
  {
   "cell_type": "markdown",
   "id": "0209d557",
   "metadata": {},
   "source": [
    "* look at the csv file to understand how it's organized\n",
    "* ultimately each x,y pair should look like:  x1,y1 : x2,y2 : x3,y3 : ..."
   ]
  },
  {
   "cell_type": "code",
   "execution_count": 3,
   "id": "d4101573",
   "metadata": {},
   "outputs": [
    {
     "data": {
      "text/html": [
       "<div>\n",
       "<style scoped>\n",
       "    .dataframe tbody tr th:only-of-type {\n",
       "        vertical-align: middle;\n",
       "    }\n",
       "\n",
       "    .dataframe tbody tr th {\n",
       "        vertical-align: top;\n",
       "    }\n",
       "\n",
       "    .dataframe thead th {\n",
       "        text-align: right;\n",
       "    }\n",
       "</style>\n",
       "<table border=\"1\" class=\"dataframe\">\n",
       "  <thead>\n",
       "    <tr style=\"text-align: right;\">\n",
       "      <th></th>\n",
       "      <th>id</th>\n",
       "      <th>name</th>\n",
       "      <th>vertex_index</th>\n",
       "      <th>vertex_part</th>\n",
       "      <th>vertex_part_index</th>\n",
       "      <th>distance</th>\n",
       "      <th>angle</th>\n",
       "      <th>lon</th>\n",
       "      <th>lat</th>\n",
       "    </tr>\n",
       "  </thead>\n",
       "  <tbody>\n",
       "    <tr>\n",
       "      <th>0</th>\n",
       "      <td>NaN</td>\n",
       "      <td>tazama-pipeline</td>\n",
       "      <td>0</td>\n",
       "      <td>0</td>\n",
       "      <td>0</td>\n",
       "      <td>0.000000</td>\n",
       "      <td>267.601579</td>\n",
       "      <td>38.750936</td>\n",
       "      <td>-6.638323</td>\n",
       "    </tr>\n",
       "    <tr>\n",
       "      <th>1</th>\n",
       "      <td>NaN</td>\n",
       "      <td>tazama-pipeline</td>\n",
       "      <td>1</td>\n",
       "      <td>0</td>\n",
       "      <td>1</td>\n",
       "      <td>0.751461</td>\n",
       "      <td>267.982501</td>\n",
       "      <td>38.000134</td>\n",
       "      <td>-6.669771</td>\n",
       "    </tr>\n",
       "    <tr>\n",
       "      <th>2</th>\n",
       "      <td>NaN</td>\n",
       "      <td>tazama-pipeline</td>\n",
       "      <td>2</td>\n",
       "      <td>0</td>\n",
       "      <td>2</td>\n",
       "      <td>1.164374</td>\n",
       "      <td>267.954696</td>\n",
       "      <td>37.587390</td>\n",
       "      <td>-6.681563</td>\n",
       "    </tr>\n",
       "    <tr>\n",
       "      <th>3</th>\n",
       "      <td>NaN</td>\n",
       "      <td>tazama-pipeline</td>\n",
       "      <td>3</td>\n",
       "      <td>0</td>\n",
       "      <td>3</td>\n",
       "      <td>1.439789</td>\n",
       "      <td>263.005674</td>\n",
       "      <td>37.312226</td>\n",
       "      <td>-6.693356</td>\n",
       "    </tr>\n",
       "    <tr>\n",
       "      <th>4</th>\n",
       "      <td>NaN</td>\n",
       "      <td>tazama-pipeline</td>\n",
       "      <td>4</td>\n",
       "      <td>0</td>\n",
       "      <td>4</td>\n",
       "      <td>1.636374</td>\n",
       "      <td>263.152150</td>\n",
       "      <td>37.119612</td>\n",
       "      <td>-6.732665</td>\n",
       "    </tr>\n",
       "    <tr>\n",
       "      <th>...</th>\n",
       "      <td>...</td>\n",
       "      <td>...</td>\n",
       "      <td>...</td>\n",
       "      <td>...</td>\n",
       "      <td>...</td>\n",
       "      <td>...</td>\n",
       "      <td>...</td>\n",
       "      <td>...</td>\n",
       "      <td>...</td>\n",
       "    </tr>\n",
       "    <tr>\n",
       "      <th>96</th>\n",
       "      <td>NaN</td>\n",
       "      <td>tazama-pipeline</td>\n",
       "      <td>96</td>\n",
       "      <td>0</td>\n",
       "      <td>96</td>\n",
       "      <td>13.627539</td>\n",
       "      <td>288.702678</td>\n",
       "      <td>28.842394</td>\n",
       "      <td>-13.717866</td>\n",
       "    </tr>\n",
       "    <tr>\n",
       "      <th>97</th>\n",
       "      <td>NaN</td>\n",
       "      <td>tazama-pipeline</td>\n",
       "      <td>97</td>\n",
       "      <td>0</td>\n",
       "      <td>97</td>\n",
       "      <td>13.700859</td>\n",
       "      <td>290.292593</td>\n",
       "      <td>28.773056</td>\n",
       "      <td>-13.694031</td>\n",
       "    </tr>\n",
       "    <tr>\n",
       "      <th>98</th>\n",
       "      <td>NaN</td>\n",
       "      <td>tazama-pipeline</td>\n",
       "      <td>98</td>\n",
       "      <td>0</td>\n",
       "      <td>98</td>\n",
       "      <td>13.824385</td>\n",
       "      <td>293.349186</td>\n",
       "      <td>28.658216</td>\n",
       "      <td>-13.648529</td>\n",
       "    </tr>\n",
       "    <tr>\n",
       "      <th>99</th>\n",
       "      <td>NaN</td>\n",
       "      <td>tazama-pipeline</td>\n",
       "      <td>99</td>\n",
       "      <td>0</td>\n",
       "      <td>99</td>\n",
       "      <td>13.936829</td>\n",
       "      <td>294.638401</td>\n",
       "      <td>28.556376</td>\n",
       "      <td>-13.600859</td>\n",
       "    </tr>\n",
       "    <tr>\n",
       "      <th>100</th>\n",
       "      <td>NaN</td>\n",
       "      <td>tazama-pipeline</td>\n",
       "      <td>100</td>\n",
       "      <td>0</td>\n",
       "      <td>100</td>\n",
       "      <td>14.100734</td>\n",
       "      <td>294.193209</td>\n",
       "      <td>28.406867</td>\n",
       "      <td>-13.533688</td>\n",
       "    </tr>\n",
       "  </tbody>\n",
       "</table>\n",
       "<p>101 rows × 9 columns</p>\n",
       "</div>"
      ],
      "text/plain": [
       "     id             name  vertex_index  vertex_part  vertex_part_index  \\\n",
       "0   NaN  tazama-pipeline             0            0                  0   \n",
       "1   NaN  tazama-pipeline             1            0                  1   \n",
       "2   NaN  tazama-pipeline             2            0                  2   \n",
       "3   NaN  tazama-pipeline             3            0                  3   \n",
       "4   NaN  tazama-pipeline             4            0                  4   \n",
       "..   ..              ...           ...          ...                ...   \n",
       "96  NaN  tazama-pipeline            96            0                 96   \n",
       "97  NaN  tazama-pipeline            97            0                 97   \n",
       "98  NaN  tazama-pipeline            98            0                 98   \n",
       "99  NaN  tazama-pipeline            99            0                 99   \n",
       "100 NaN  tazama-pipeline           100            0                100   \n",
       "\n",
       "      distance       angle        lon        lat  \n",
       "0     0.000000  267.601579  38.750936  -6.638323  \n",
       "1     0.751461  267.982501  38.000134  -6.669771  \n",
       "2     1.164374  267.954696  37.587390  -6.681563  \n",
       "3     1.439789  263.005674  37.312226  -6.693356  \n",
       "4     1.636374  263.152150  37.119612  -6.732665  \n",
       "..         ...         ...        ...        ...  \n",
       "96   13.627539  288.702678  28.842394 -13.717866  \n",
       "97   13.700859  290.292593  28.773056 -13.694031  \n",
       "98   13.824385  293.349186  28.658216 -13.648529  \n",
       "99   13.936829  294.638401  28.556376 -13.600859  \n",
       "100  14.100734  294.193209  28.406867 -13.533688  \n",
       "\n",
       "[101 rows x 9 columns]"
      ]
     },
     "execution_count": 3,
     "metadata": {},
     "output_type": "execute_result"
    }
   ],
   "source": [
    "coords_csv"
   ]
  },
  {
   "cell_type": "markdown",
   "id": "b7606163",
   "metadata": {},
   "source": [
    "* create a list of pipeline names that match up exactly with the csv file; this is something you'll edit yourself\n",
    "\n",
    "* _aside: to pull out all the rows where the Name column matches \"Example Pipeline 1\", use the syntax below:_\n",
    "\n",
    "* now loop through each ```pipeline_name``` in this list and do the appropriate reformatting, and store that in ```list_of_formatted_coords```"
   ]
  },
  {
   "cell_type": "markdown",
   "id": "10f0323f",
   "metadata": {},
   "source": [
    "### if from the EIA dataset, the pipelines don't have individual names\n",
    "\n",
    "in QGIS, select the given pipeline(s), then Vector > Collect geometries, then add $x $y (lon, lat) and export as a csv file; then you'll use the \"vertex_part\" label as the pipeline name"
   ]
  },
  {
   "cell_type": "raw",
   "id": "977407a9-29b2-4942-bcd4-f1bd1df34d86",
   "metadata": {},
   "source": [
    "#list_of_pipelines = [\"Tioga to Emerson Pipeline\"]\n",
    "list_of_pipelines = list(set(coords_csv['vertex_part']))\n",
    "print(list_of_pipelines)"
   ]
  },
  {
   "cell_type": "raw",
   "id": "bff8549a-2348-4e29-bc45-172c1d993cc6",
   "metadata": {},
   "source": [
    "list_of_formatted_coords = []\n",
    "for pipeline_name in list_of_pipelines:\n",
    "    # pull out all rows matching pipeline_name\n",
    "    pipeline_specific_dataframe = coords_csv.loc[coords_csv['vertex_part']==pipeline_name]\n",
    "    # then change y,x coords into strings\n",
    "    pipeline_specific_dataframe[['lat','lon']].astype(str)\n",
    "    # join those strings with a comma\n",
    "    joined_strings_dataframe = pipeline_specific_dataframe[['lat', 'lon']].astype(str).apply(lambda x: ', '.join(x), axis=1)\n",
    "    # add the colon\n",
    "    joined_strings_with_colon = joined_strings_dataframe.str.cat(sep=':')\n",
    "    # store this in a list\n",
    "    list_of_formatted_coords.append(joined_strings_with_colon)"
   ]
  },
  {
   "cell_type": "raw",
   "id": "e9a9dcbd-8d09-4a53-ad7c-fdee530cb1c9",
   "metadata": {},
   "source": [
    "' ; '.join(list_of_formatted_coords)"
   ]
  },
  {
   "cell_type": "raw",
   "id": "7b9848fd-8475-4fcb-924c-2e622672aa25",
   "metadata": {},
   "source": [
    "' ; '.join(list_of_formatted_coords).__len__()"
   ]
  },
  {
   "cell_type": "markdown",
   "id": "e74be6ed",
   "metadata": {},
   "source": [
    "### if normal separate segments"
   ]
  },
  {
   "cell_type": "code",
   "execution_count": 4,
   "id": "41e5cc4d-9496-4316-adb1-18101f2eab22",
   "metadata": {},
   "outputs": [],
   "source": [
    "segment_name = 'name'\n",
    "#segment_name = 'PipelineName'\n",
    "#segment_name = 'LINE_NO'\n",
    "#segment_name = 'OBJECTID'"
   ]
  },
  {
   "cell_type": "code",
   "execution_count": 5,
   "id": "14d74689",
   "metadata": {},
   "outputs": [
    {
     "name": "stdout",
     "output_type": "stream",
     "text": [
      "['tazama-pipeline']\n",
      "['tazama-pipeline']\n"
     ]
    }
   ],
   "source": [
    "#list_of_pipelines = [\"Tioga to Emerson Pipeline\"]\n",
    "list_of_pipelines = list(sorted(set(coords_csv[segment_name])))\n",
    "#list_of_pipelines = list(set(coords_csv['PipelineName']))\n",
    "print(list_of_pipelines)\n",
    "print(sorted(list(list_of_pipelines)))"
   ]
  },
  {
   "cell_type": "code",
   "execution_count": 6,
   "id": "07c5501b",
   "metadata": {},
   "outputs": [],
   "source": [
    "list_of_formatted_coords = []\n",
    "for pipeline_name in list_of_pipelines:\n",
    "    # pull out all rows matching pipeline_name\n",
    "#    pipeline_specific_dataframe = coords_csv.loc[coords_csv['PipelineName']==pipeline_name]\n",
    "    pipeline_specific_dataframe = coords_csv.loc[coords_csv[segment_name]==pipeline_name]\n",
    "    # then change y,x coords into strings\n",
    "    pipeline_specific_dataframe[['lat','lon']].astype(str)\n",
    "    # join those strings with a comma\n",
    "    joined_strings_dataframe = pipeline_specific_dataframe[['lat', 'lon']].astype(str).apply(lambda x: ','.join(x), axis=1)\n",
    "    # add the colon\n",
    "    joined_strings_with_colon = joined_strings_dataframe.str.cat(sep=':')\n",
    "    # store this in a list\n",
    "    list_of_formatted_coords.append(joined_strings_with_colon)"
   ]
  },
  {
   "cell_type": "code",
   "execution_count": 7,
   "id": "76027c9e-da40-4d52-bc1e-a98fb3fdad30",
   "metadata": {},
   "outputs": [
    {
     "data": {
      "text/plain": [
       "2049"
      ]
     },
     "execution_count": 7,
     "metadata": {},
     "output_type": "execute_result"
    }
   ],
   "source": [
    "' ; '.join(list_of_formatted_coords).__len__()"
   ]
  },
  {
   "cell_type": "code",
   "execution_count": 8,
   "id": "a65dfcf6",
   "metadata": {
    "scrolled": true,
    "tags": []
   },
   "outputs": [
    {
     "name": "stdout",
     "output_type": "stream",
     "text": [
      "tazama-pipeline -- -6.638323,38.750936:-6.669771,38.000134:-6.681563,37.58739:-6.693356,37.312226:-6.732665,37.119612:-6.740527,36.911274:-6.740527,36.742246:-6.720872,36.494599:-6.693356,36.321639:-6.681563,36.15261:-6.673702,36.042545:-6.673702,35.908895:-6.689425,35.865655:-6.720872,35.834207:-6.768043,35.794898:-6.854523,35.739866:-6.988174,35.66911:-7.125755,35.594422:-7.204373,35.562975:-7.27513,35.531528:-7.416642,35.468634:-7.499191,35.421463:-7.534569,35.401808:-7.644634,35.331052:-7.790078,35.228849:-7.93159,35.122714:-8.096688,34.989064:-8.222477,34.863275:-8.269648,34.80038:-8.328611,34.721762:-8.371851,34.643144:-8.395437,34.540941:-8.407229,34.415152:-8.41116,34.27757:-8.419022,34.108542:-8.422953,34.022062:-8.426884,33.963098:-8.450469,33.908066:-8.477985,33.849102:-8.517294,33.794069:-8.580189,33.727244:-8.674531,33.628972:-8.764941,33.542492:-8.854631,33.440616:-8.890599,33.392659:-8.942553,33.320723:-8.994506,33.224809:-9.086424,33.064953:-9.194327,32.905096:-9.258269,32.797193:-9.362176,32.673304:-9.474076,32.541422:-9.637929,32.393555:-9.741836,32.301637:-9.8937,32.205723:-10.053556,32.113805:-10.173449,32.045866:-10.293341,31.981924:-10.449202,31.913985:-10.521137,31.878017:-10.704972,31.734146:-10.808879,31.666207:-10.980725,31.554307:-11.084632,31.494361:-11.161045,31.459886:-11.234716,31.42305:-11.30622,31.405716:-11.392892,31.390548:-11.483898,31.36888:-11.598738,31.353712:-11.74608,31.329878:-11.824085,31.321211:-11.884755,31.306043:-11.949759,31.284375:-12.025597,31.256207:-12.211942,31.180369:-12.380952,31.100197:-12.482791,31.035193:-12.755808,30.848849:-12.931319,30.682005:-13.265006,30.376487:-13.453517,30.172808:-13.551023,30.057967:-13.670197,29.917125:-13.713533,29.841288:-13.750368,29.754616:-13.767703,29.715613:-13.778537,29.676611:-13.785037,29.633275:-13.785037,29.587772:-13.787204,29.516268:-13.785037,29.403594:-13.77637,29.206416:-13.763369,29.06124:-13.741701,28.924732:-13.733034,28.887896:-13.717866,28.842394:-13.694031,28.773056:-13.648529,28.658216:-13.600859,28.556376:-13.533688,28.406867\n",
      "\n"
     ]
    }
   ],
   "source": [
    "for index,pipeline_name in enumerate(list_of_pipelines):\n",
    "    if 'mountaineer' in pipeline_name:\n",
    "        print(pipeline_name, '--', list_of_formatted_coords[index])\n",
    "        print()\n",
    "\n",
    "    print(pipeline_name, '--', list_of_formatted_coords[index])\n",
    "    print()"
   ]
  },
  {
   "cell_type": "code",
   "execution_count": 9,
   "id": "1a930db4",
   "metadata": {},
   "outputs": [
    {
     "name": "stdout",
     "output_type": "stream",
     "text": [
      ";\n",
      "-6.638323,38.750936:-6.669771,38.000134:-6.681563,37.58739:-6.693356,37.312226:-6.732665,37.119612:-6.740527,36.911274:-6.740527,36.742246:-6.720872,36.494599:-6.693356,36.321639:-6.681563,36.15261:-6.673702,36.042545:-6.673702,35.908895:-6.689425,35.865655:-6.720872,35.834207:-6.768043,35.794898:-6.854523,35.739866:-6.988174,35.66911:-7.125755,35.594422:-7.204373,35.562975:-7.27513,35.531528:-7.416642,35.468634:-7.499191,35.421463:-7.534569,35.401808:-7.644634,35.331052:-7.790078,35.228849:-7.93159,35.122714:-8.096688,34.989064:-8.222477,34.863275:-8.269648,34.80038:-8.328611,34.721762:-8.371851,34.643144:-8.395437,34.540941:-8.407229,34.415152:-8.41116,34.27757:-8.419022,34.108542:-8.422953,34.022062:-8.426884,33.963098:-8.450469,33.908066:-8.477985,33.849102:-8.517294,33.794069:-8.580189,33.727244:-8.674531,33.628972:-8.764941,33.542492:-8.854631,33.440616:-8.890599,33.392659:-8.942553,33.320723:-8.994506,33.224809:-9.086424,33.064953:-9.194327,32.905096:-9.258269,32.797193:-9.362176,32.673304:-9.474076,32.541422:-9.637929,32.393555:-9.741836,32.301637:-9.8937,32.205723:-10.053556,32.113805:-10.173449,32.045866:-10.293341,31.981924:-10.449202,31.913985:-10.521137,31.878017:-10.704972,31.734146:-10.808879,31.666207:-10.980725,31.554307:-11.084632,31.494361:-11.161045,31.459886:-11.234716,31.42305:-11.30622,31.405716:-11.392892,31.390548:-11.483898,31.36888:-11.598738,31.353712:-11.74608,31.329878:-11.824085,31.321211:-11.884755,31.306043:-11.949759,31.284375:-12.025597,31.256207:-12.211942,31.180369:-12.380952,31.100197:-12.482791,31.035193:-12.755808,30.848849:-12.931319,30.682005:-13.265006,30.376487:-13.453517,30.172808:-13.551023,30.057967:-13.670197,29.917125:-13.713533,29.841288:-13.750368,29.754616:-13.767703,29.715613:-13.778537,29.676611:-13.785037,29.633275:-13.785037,29.587772:-13.787204,29.516268:-13.785037,29.403594:-13.77637,29.206416:-13.763369,29.06124:-13.741701,28.924732:-13.733034,28.887896:-13.717866,28.842394:-13.694031,28.773056:-13.648529,28.658216:-13.600859,28.556376:-13.533688,28.406867\n"
     ]
    }
   ],
   "source": [
    "for index,pipeline_name in enumerate(list_of_pipelines):\n",
    "    print(';'); print(list_of_formatted_coords[index])"
   ]
  },
  {
   "cell_type": "markdown",
   "id": "00c81eb9-3ae4-496b-be40-e3421a5683aa",
   "metadata": {},
   "source": [
    " "
   ]
  },
  {
   "cell_type": "markdown",
   "id": "a61720a2-e414-4112-923a-a23d233673e3",
   "metadata": {},
   "source": [
    " "
   ]
  },
  {
   "cell_type": "markdown",
   "id": "5ea9fab6-d778-495c-a0b8-b896aa74ae77",
   "metadata": {},
   "source": [
    " "
   ]
  },
  {
   "cell_type": "markdown",
   "id": "a4254d81",
   "metadata": {},
   "source": [
    "### if it's a big network AND segments are not separated, you gotta deal with the \"vertex_part\" info"
   ]
  },
  {
   "cell_type": "code",
   "execution_count": 21,
   "id": "7867c692",
   "metadata": {},
   "outputs": [],
   "source": [
    "list_of_pipelines = [\"CNGC's Inter-Provincial Gas Pipeline Network\"]"
   ]
  },
  {
   "cell_type": "code",
   "execution_count": 32,
   "id": "3a07c754",
   "metadata": {},
   "outputs": [],
   "source": [
    "list_of_formatted_coords = []\n",
    "\n",
    "for pipeline_name in list_of_pipelines: \n",
    "    list_of_vertex_parts = list(set(coords_csv[coords_csv['PipelineName']==pipeline_name]['vertex_part']))\n",
    "    \n",
    "    for vertex_part in list_of_vertex_parts:\n",
    "        # pull out all rows matching pipeline_name\n",
    "        pipeline_specific_dataframe = coords_csv.loc[(coords_csv['PipelineName']==pipeline_name)&(coords_csv['vertex_part']==vertex_part)]\n",
    "        # then change y,x coords into strings\n",
    "        pipeline_specific_dataframe[['lat','lon']].astype(str)\n",
    "        # join those strings with a comma\n",
    "        joined_strings_dataframe = pipeline_specific_dataframe[['lat', 'lon']].astype(str).apply(lambda x: ', '.join(x), axis=1)\n",
    "        # add the colon\n",
    "        joined_strings_with_colon = joined_strings_dataframe.str.cat(sep=':')\n",
    "        # store this in a list\n",
    "        list_of_formatted_coords.append(joined_strings_with_colon)"
   ]
  },
  {
   "cell_type": "markdown",
   "id": "830e6281",
   "metadata": {},
   "source": [
    "* finally, write some code to spit out the information in the format you want"
   ]
  },
  {
   "cell_type": "code",
   "execution_count": 12,
   "id": "f9a2fd46",
   "metadata": {},
   "outputs": [
    {
     "data": {
      "text/plain": [
       "242"
      ]
     },
     "execution_count": 12,
     "metadata": {},
     "output_type": "execute_result"
    }
   ],
   "source": [
    "len(list_of_formatted_coords)"
   ]
  },
  {
   "cell_type": "code",
   "execution_count": 34,
   "id": "e5aa0820",
   "metadata": {},
   "outputs": [
    {
     "name": "stdout",
     "output_type": "stream",
     "text": [
      "11.038248, 103.796843:11.080021, 103.877933:11.168483, 103.99834:11.202885, 104.076972:11.217629, 104.12366:11.286432, 104.221951:11.340492, 104.315328:11.360151, 104.344815:11.387181, 104.386589:11.419125, 104.418533:11.438783, 104.462764:11.473185, 104.541397:11.480557, 104.615115:11.502672, 104.654432:11.566562, 104.676547:11.659938, 104.683919:11.755772, 104.737979:11.819661, 104.750265:11.854063, 104.715863:11.898294, 104.708492:11.972012, 104.720778:12.035901, 104.72815:12.121905, 104.696205:12.171051, 104.654432:12.205453, 104.651974:12.242312, 104.669175:12.259513, 104.661803:12.276714, 104.632316:12.274256, 104.590542:12.311116, 104.56597:12.333231, 104.53894:12.362718, 104.504538:12.379919, 104.477508:12.42415, 104.45785:12.465924, 104.443106:12.475753, 104.354644:12.507697, 104.285841:12.53227, 104.212122:12.53227, 104.0696:12.53227, 103.931993:12.542099, 103.890219:12.5593, 103.858275:12.571587, 103.818959:12.652677, 103.708381:12.674792, 103.629748:12.709194, 103.548658:12.723938, 103.487227:12.785986, 103.429143:12.860742, 103.375318:12.94746, 103.345415:13.001284, 103.306542:13.052119, 103.270659:13.085012, 103.228795:13.102953, 103.207863:13.108934, 103.154039:13.111924, 103.130117:13.141827, 103.118156:13.156778, 103.112175:13.237515, 103.097224:13.29433, 103.070311:13.393008, 103.013497:13.455804, 103.010506:13.536541, 103.013497:13.572424, 102.971633:13.596346, 102.980604:13.617278, 103.022467:13.626249, 103.136097:13.611297, 103.276639:13.605317, 103.324484:13.593356, 103.360367:13.593356, 103.40223:13.515609, 103.599587:13.470755, 103.677334:13.422911, 103.755081:13.393008, 103.796945:13.366096, 103.841799:13.357125, 103.922536:13.351145, 104.003273:13.279378, 104.081019:13.228544, 104.158766:13.222564, 104.197639:13.17771, 104.251464:13.147807, 104.296318:13.108934, 104.365094:13.089501, 104.406719:13.051313, 104.456529:13.039691, 104.469811:13.039691, 104.494716:12.999843, 104.51298:12.827169, 104.654108:12.817207, 104.752067:12.788981, 104.805198:12.800603, 104.876592:12.739171, 104.888214:12.666117, 104.906478:12.659475, 104.964589:12.624608, 104.994475:12.559856, 105.057568:12.544913, 105.099076:12.503404, 105.11734:12.468538, 105.114019:12.407105, 105.075831:12.335711, 105.104057:12.295863, 105.123981:12.199564, 105.12066:12.163037, 105.114019:12.118208, 105.074171:12.104926, 105.064209:12.060097, 105.07085\n",
      ";\n",
      "11.038062, 103.796981:11.017407, 103.680699:10.962963, 103.683101:10.93414, 103.699114:10.894908, 103.699114:10.868486, 103.709523:10.870888, 103.803999:10.706953, 103.805855:10.735793, 103.76548:10.745887, 103.71501:10.705511, 103.674635:10.699743, 103.64147:10.725699, 103.595327:10.734351, 103.554951:10.718489, 103.536206:10.665136, 103.530438:10.63918, 103.527554:10.60033, 103.581697:10.609943, 103.611738:10.589515, 103.632166:10.583507, 103.677828:10.58591, 103.755935:10.69278, 103.803448:10.70674, 103.805882\n",
      ";\n",
      "10.706744, 103.805878:10.706744, 103.805888:10.706761, 103.805919:10.706737, 103.805928:10.712625, 103.854298:10.718857, 103.871126:10.700783, 103.888577:10.650301, 103.897302:10.612283, 103.913506:10.566163, 103.999514:10.558061, 104.073056:10.582991, 104.156571:10.612906, 104.20643:10.553075, 104.283712:10.532508, 104.353515:10.555568, 104.434536:10.603524, 104.513246:10.702239, 104.5686:10.732683, 104.596277:10.776967, 104.647941:10.828631, 104.683922:10.904282, 104.712521:10.98639, 104.745734:11.046357, 104.757727:11.121086, 104.773411:11.169059, 104.776179:11.229026, 104.799243:11.262239, 104.817694:11.300064, 104.848139:11.358987, 104.869349:11.432531, 104.865478:11.441562, 104.905475:11.459626, 104.924829:11.539903, 104.929643:11.558559, 104.940667:11.564425, 104.954871:11.558771, 104.964058:11.557217, 104.969004:11.554955, 104.982007:11.553825, 105.006882:11.532907, 105.079527:11.528385, 105.086876:11.521601, 105.089137:11.516372, 105.094084:11.502662, 105.125177:11.488529, 105.149486:11.483158, 105.156412:11.471145, 105.168425:11.454185, 105.193582:11.447401, 105.205737:11.4409, 105.2251:11.436975, 105.234275:11.420867, 105.244723:11.413248, 105.245376:11.404324, 105.250383:11.400623, 105.255172:11.394189, 105.259232:11.342179, 105.275343:11.326067, 105.281562:11.308541, 105.284106:11.286918, 105.28453:11.26487, 105.287357:11.260929, 105.302868:11.224803, 105.340285:11.195127, 105.36609:11.175774, 105.411248:11.171903, 105.435763:11.157798, 105.472974:11.155649, 105.574703:11.152783, 105.638463:11.118396, 105.710103:11.091889, 105.784608:11.08186, 105.81613:11.080427, 105.846218:11.040335, 105.915062:11.042271, 106.055895:11.048562, 106.075738:11.050014, 106.094128:11.05679, 106.130426\n",
      ";\n",
      "11.502676, 104.654421:11.514413, 104.743689:11.52789, 104.772966:11.528354, 104.860797:11.51906, 104.88171:11.51999, 104.911451:11.558559, 104.940667\n",
      ";\n",
      "11.558559, 104.940667:11.662659, 104.86424:11.69492, 104.828292:11.745615, 104.824605:11.810137, 104.802484:11.828572, 104.79511:11.825609, 104.744315\n",
      ";\n",
      "11.82857, 104.795111:11.848977, 104.831505:11.886935, 104.889902:11.921243, 104.92932:11.949712, 104.93808:12.008109, 104.940999:12.033657, 104.966548:12.048986, 104.993557:12.057016, 105.033705:12.060044, 105.070922:12.059424, 105.358942:12.04381, 105.389491:11.999683, 105.452626:11.972528, 105.47435:11.958951, 105.49268:11.960308, 105.530697:11.918387, 105.575825:11.922515, 105.637737:11.840882, 105.764314:11.820629, 105.835452:11.788315, 105.890576:11.775959, 105.925742:11.791166, 106.005578:11.806373, 106.035991:11.810175, 106.084463:11.849142, 106.130083:11.847241, 106.156695:11.829183, 106.194712:11.831084, 106.23463:11.855795, 106.266944:11.885258, 106.285953:11.919473, 106.32492:11.942284, 106.349631:11.986003, 106.352482:12.021169, 106.376243:12.09055, 106.385747:12.146625, 106.41521:12.200799, 106.418061:12.292827, 106.389098:12.301666, 106.367:12.307558, 106.321332:12.298719, 106.294816:12.360592, 106.232943:12.419518, 106.216738:12.443089, 106.196114:12.484337, 106.137188:12.494649, 106.065003:12.503488, 106.037013:12.538844, 106.020808:12.708257, 106.025228:12.724461, 106.042906:12.731827, 106.079735:12.755398, 106.118037:12.809904, 106.150446:12.84968, 106.162231:12.867357, 106.172544:12.889455, 106.181383:12.92923, 106.165178:12.958693, 106.156339:13.114848, 106.154866:13.170828, 106.122456:13.241731, 106.113246:13.263053, 106.089416:13.334543, 106.089416:13.360881, 106.07562:13.429863, 106.063077:13.486302, 105.991587:13.495082, 105.97152:13.541487, 105.966503:13.569942, 105.933708:13.616347, 105.911133:13.625127, 105.898591:13.67655, 105.889811:13.692854, 105.847168:13.725464, 105.817067:13.726718, 105.758119:13.735497, 105.724255:13.770615, 105.613885:13.785666, 105.541141:13.770615, 105.418228:13.764344, 105.390635:13.778141, 105.325416:13.785666, 105.289044:13.817021, 105.253926:13.814513, 105.173657:13.806987, 105.08837:13.850885, 105.030677:13.852139, 104.986779\n",
      ";\n",
      "13.45064, 106.036816:13.438745, 106.096793:13.441168, 106.110722:13.412098, 106.175523:13.389691, 106.211255:13.41876, 106.263943:13.45328, 106.293618:13.539883, 106.357208:13.555629, 106.392334:13.575615, 106.429276:13.610135, 106.474697:13.599234, 106.514668:13.58591, 106.535865:13.589544, 106.589764:13.545334, 106.663044:13.540489, 106.67879:13.570374, 106.735965:13.57786, 106.792111:13.595078, 106.820558:13.609302, 106.86248:13.644486, 106.901408:13.673682, 106.928358:13.708118, 106.944827:13.75004, 106.960548\n",
      ";\n",
      "12.161244, 106.41597:12.161813, 106.466997:12.120649, 106.509299:12.120015, 106.588831:12.130354, 106.612095:12.1322, 106.698505:12.126292, 106.729893:12.111521, 106.753157:12.106351, 106.76165:12.110961, 106.813699:12.114603, 106.829724:12.108775, 106.854491:12.118245, 106.861046:12.14374, 106.852305:12.177976, 106.844293:12.280684, 106.965211:12.318562, 107.016929:12.320019, 107.073746:12.311277, 107.092685:12.312006, 107.103612:12.325117, 107.118909:12.326574, 107.137848:12.344057, 107.151688:12.348427, 107.193208:12.344785, 107.208505:12.337501, 107.226716:12.346242, 107.236914:12.343328, 107.264594:12.341871, 107.276977:12.392861, 107.270421:12.419084, 107.234728:12.46279, 107.212876\n",
      ";\n",
      "11.038139, 103.796896:11.088786, 103.775397:11.089369, 103.763152:11.135433, 103.760237:11.145346, 103.743327:11.146512, 103.702511:11.178582, 103.650616:11.176833, 103.628459:11.164005, 103.611549:11.184996, 103.578896:11.185579, 103.543911:11.203655, 103.484436:11.17307, 103.450107:11.175228, 103.381775:11.183859, 103.370267:11.221262, 103.36667:11.264418, 103.322075:11.308294, 103.312725:11.35723, 103.265104:11.404702, 103.226983:11.498927, 103.218351:11.539926, 103.221948:11.558627, 103.223386:11.577329, 103.210439:11.578048, 103.191738:11.567259, 103.168002:11.561504, 103.111898:11.577329, 103.082408:11.580206, 103.053637:11.61617, 103.011919\n",
      ";\n",
      "13.572431, 102.971359:13.62009, 102.954218:13.768524, 102.956058:13.796113, 102.964334:13.815425, 102.982267:13.883017, 103.002959:13.910605, 103.015373:13.967162, 103.040203:14.001648, 103.063653:14.025098, 103.069171:14.063722, 103.078827:14.091311, 103.132625:14.09269, 103.198838:14.116393, 103.225488:14.116393, 103.247232:14.157551, 103.291496:14.162987, 103.372258:14.180071, 103.394002:14.180071, 103.406427:14.16687, 103.444478:14.166093, 103.470105:14.177742, 103.522134\n",
      ";\n",
      "13.57246, 102.971453:13.580501, 102.870448:13.590277, 102.816141:13.605483, 102.767264:13.615258, 102.737937:13.615258, 102.702094:13.631551, 102.664079\n",
      ";\n",
      "13.102941, 103.207945:13.067184, 103.157608:13.043156, 103.123969:13.022825, 103.095875:13.021716, 103.08072:12.977276, 103.047519:12.958672, 103.043142:12.884801, 102.958327:12.850976, 102.915118:12.842265, 102.773556:12.835731, 102.720198:12.805241, 102.686441:12.81613, 102.661395:12.832464, 102.637439:12.848798, 102.601504:12.858599, 102.586258:12.864733, 102.508312\n",
      ";\n"
     ]
    }
   ],
   "source": [
    "for i in list_of_formatted_coords:\n",
    "    print(i)\n",
    "    print(';')"
   ]
  },
  {
   "cell_type": "code",
   "execution_count": null,
   "id": "5210f7f4",
   "metadata": {},
   "outputs": [],
   "source": []
  }
 ],
 "metadata": {
  "kernelspec": {
   "display_name": "gem",
   "language": "python",
   "name": "gem"
  },
  "language_info": {
   "codemirror_mode": {
    "name": "ipython",
    "version": 3
   },
   "file_extension": ".py",
   "mimetype": "text/x-python",
   "name": "python",
   "nbconvert_exporter": "python",
   "pygments_lexer": "ipython3",
   "version": "3.9.9"
  }
 },
 "nbformat": 4,
 "nbformat_minor": 5
}
