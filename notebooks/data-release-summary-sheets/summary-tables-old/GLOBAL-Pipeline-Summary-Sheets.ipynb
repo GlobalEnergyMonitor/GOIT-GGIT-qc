{
 "cells": [
  {
   "cell_type": "code",
   "execution_count": 7,
   "id": "24befb0b",
   "metadata": {
    "tags": []
   },
   "outputs": [],
   "source": [
    "import pandas\n",
    "import numpy\n",
    "import pygsheets\n",
    "import datetime\n",
    "import re\n",
    "import pytz"
   ]
  },
  {
   "cell_type": "code",
   "execution_count": 10,
   "id": "e1804fa5-72c0-4020-8174-b4c288a822c3",
   "metadata": {
    "tags": []
   },
   "outputs": [],
   "source": [
    "#fuel_type = 'Gas'; file_key = '1LuTFPdSx5QmzNyc-mjjfM1GelPZ586yC-UXNAhnybJ4' # dec 2022 ggit file\n",
    "#fuel_type = 'Oil'; file_key = '1l_OzcGukwm4gUAymFj2nQ_sCHdZpiCK6tBo6VzvKCRk' # may 2023 goit file\n",
    "#fuel_type = 'NGL'; file_key = '1l_OzcGukwm4gUAymFj2nQ_sCHdZpiCK6tBo6VzvKCRk' # may 2023 goit file\n",
    "fuel_type = 'Gas'; file_key = '1TKVxKAvEDyKU-5_MAzDavVRAc6jT0FSK7xwQfJJ56ms' # dec 2023 ggit file\n",
    "#fuel_type = 'Gas'; file_key = '1foPLE6K-uqFlaYgLPAUxzeXfDO5wOOqE7tibNHeqTek' # CURRENT file\n",
    "\n",
    "# define the excel file to save tables in\n",
    "current_time = datetime.datetime.now(pytz.timezone('US/Eastern')).strftime(\"%Y-%m-%d_T%H%M%S\")\n",
    "excel_writer = pandas.ExcelWriter('Global-'+fuel_type+'-Pipelines-SummarySheets-'+current_time+'.xlsx')"
   ]
  },
  {
   "cell_type": "code",
   "execution_count": 12,
   "id": "a4185877",
   "metadata": {
    "tags": []
   },
   "outputs": [],
   "source": [
    "credentials_directory = '/Users/baird/Dropbox/_google-api/'\n",
    "gc = pygsheets.authorize(service_account_env_var='GDRIVE_API_CREDENTIALS')\n",
    "#spreadsheet = gc.open_by_key('1foPLE6K-uqFlaYgLPAUxzeXfDO5wOOqE7tibNHeqTek')\n",
    "spreadsheet = gc.open_by_key(file_key)\n",
    "\n",
    "gas_pipes = spreadsheet.worksheet('title', 'Gas pipelines').get_as_df(start='A3')\n",
    "oil_pipes = spreadsheet.worksheet('title', 'Oil/NGL pipelines').get_as_df(start='A3')\n",
    "\n",
    "pipes_df = pandas.concat([oil_pipes, gas_pipes], ignore_index=True)\n",
    "\n",
    "#get other relevant sheets\n",
    "country_ratios_df = spreadsheet.worksheet('title', 'Country ratios by pipeline').get_as_df()\n",
    "owners_df = spreadsheet.worksheet('title', 'Pipeline operators/owners (1/3)').get_as_df(start='A2')\n",
    "parents_df = spreadsheet.worksheet('title', 'Parent metadata (3/3)').get_as_df(start='A2')\n",
    "\n",
    "# remove empty cells for pipes, owners\n",
    "pipes_df = pipes_df[pipes_df['PipelineName']!='']\n",
    "owners_df = owners_df[owners_df['Wiki']!='']\n",
    "owners_df.set_index('ProjectID', inplace=True)"
   ]
  },
  {
   "cell_type": "code",
   "execution_count": 13,
   "id": "a4e98b3d",
   "metadata": {
    "tags": []
   },
   "outputs": [],
   "source": [
    "country_ratios_df.replace('--', numpy.nan, inplace=True)\n",
    "owners_df.replace('',numpy.nan,inplace=True)\n",
    "owners_df.replace('--',numpy.nan,inplace=True)\n",
    "pipes_df.replace('--',numpy.nan,inplace=True)"
   ]
  },
  {
   "cell_type": "code",
   "execution_count": 14,
   "id": "c68dd677",
   "metadata": {
    "tags": []
   },
   "outputs": [],
   "source": [
    "region_df_orig = spreadsheet.worksheet('title', 'Country dictionary').get_as_df(start='A2')\n",
    "region_df_orig.replace('--',numpy.nan,inplace=True)\n",
    "region_df_orig.dropna(axis=0, how='any', inplace=True)\n",
    "\n",
    "region_df_touse = region_df_orig.copy()"
   ]
  },
  {
   "cell_type": "markdown",
   "id": "4951d5cc",
   "metadata": {},
   "source": [
    "### create region-specific dataframes for region, country_ratios_df, owners_df"
   ]
  },
  {
   "cell_type": "code",
   "execution_count": 15,
   "id": "e43c900c",
   "metadata": {
    "tags": []
   },
   "outputs": [
    {
     "ename": "AttributeError",
     "evalue": "'float' object has no attribute 'split'",
     "output_type": "error",
     "traceback": [
      "\u001b[0;31m---------------------------------------------------------------------------\u001b[0m",
      "\u001b[0;31mAttributeError\u001b[0m                            Traceback (most recent call last)",
      "Cell \u001b[0;32mIn[15], line 5\u001b[0m\n\u001b[1;32m      1\u001b[0m country_ratios_df_touse \u001b[38;5;241m=\u001b[39m country_ratios_df\u001b[38;5;241m.\u001b[39mloc[country_ratios_df[\u001b[38;5;124m'\u001b[39m\u001b[38;5;124mCountry\u001b[39m\u001b[38;5;124m'\u001b[39m]\u001b[38;5;241m.\u001b[39misin(\n\u001b[1;32m      2\u001b[0m                                             region_df_touse[\u001b[38;5;124m'\u001b[39m\u001b[38;5;124mCountry\u001b[39m\u001b[38;5;124m'\u001b[39m]\u001b[38;5;241m.\u001b[39mtolist())]\n\u001b[1;32m      4\u001b[0m owners_df_touse \u001b[38;5;241m=\u001b[39m owners_df\u001b[38;5;241m.\u001b[39mloc[\n\u001b[0;32m----> 5\u001b[0m     \u001b[38;5;241m~\u001b[39m\u001b[43mowners_df\u001b[49m\u001b[43m[\u001b[49m\u001b[38;5;124;43m'\u001b[39;49m\u001b[38;5;124;43mCountries\u001b[39;49m\u001b[38;5;124;43m'\u001b[39;49m\u001b[43m]\u001b[49m\u001b[38;5;241;43m.\u001b[39;49m\u001b[43mapply\u001b[49m\u001b[43m(\u001b[49m\n\u001b[1;32m      6\u001b[0m \u001b[43m        \u001b[49m\u001b[38;5;28;43;01mlambda\u001b[39;49;00m\u001b[43m \u001b[49m\u001b[43mx\u001b[49m\u001b[43m:\u001b[49m\u001b[43m \u001b[49m\u001b[38;5;28;43mset\u001b[39;49m\u001b[43m(\u001b[49m\u001b[43mx\u001b[49m\u001b[38;5;241;43m.\u001b[39;49m\u001b[43msplit\u001b[49m\u001b[43m(\u001b[49m\u001b[38;5;124;43m'\u001b[39;49m\u001b[38;5;124;43m, \u001b[39;49m\u001b[38;5;124;43m'\u001b[39;49m\u001b[43m)\u001b[49m\u001b[43m)\u001b[49m\u001b[38;5;241;43m.\u001b[39;49m\u001b[43misdisjoint\u001b[49m\u001b[43m(\u001b[49m\u001b[38;5;28;43mset\u001b[39;49m\u001b[43m(\u001b[49m\u001b[43mregion_df_touse\u001b[49m\u001b[43m[\u001b[49m\u001b[38;5;124;43m'\u001b[39;49m\u001b[38;5;124;43mCountry\u001b[39;49m\u001b[38;5;124;43m'\u001b[39;49m\u001b[43m]\u001b[49m\u001b[38;5;241;43m.\u001b[39;49m\u001b[43mtolist\u001b[49m\u001b[43m(\u001b[49m\u001b[43m)\u001b[49m\u001b[43m)\u001b[49m\u001b[43m)\u001b[49m\n\u001b[1;32m      7\u001b[0m \u001b[43m    \u001b[49m\u001b[43m)\u001b[49m]\n\u001b[1;32m      9\u001b[0m pipes_df_touse \u001b[38;5;241m=\u001b[39m pipes_df\u001b[38;5;241m.\u001b[39mloc[\n\u001b[1;32m     10\u001b[0m     \u001b[38;5;241m~\u001b[39mpipes_df[\u001b[38;5;124m'\u001b[39m\u001b[38;5;124mCountries\u001b[39m\u001b[38;5;124m'\u001b[39m]\u001b[38;5;241m.\u001b[39mapply(\n\u001b[1;32m     11\u001b[0m         \u001b[38;5;28;01mlambda\u001b[39;00m x: \u001b[38;5;28mset\u001b[39m(x\u001b[38;5;241m.\u001b[39msplit(\u001b[38;5;124m'\u001b[39m\u001b[38;5;124m, \u001b[39m\u001b[38;5;124m'\u001b[39m))\u001b[38;5;241m.\u001b[39misdisjoint(\u001b[38;5;28mset\u001b[39m(region_df_touse[\u001b[38;5;124m'\u001b[39m\u001b[38;5;124mCountry\u001b[39m\u001b[38;5;124m'\u001b[39m]\u001b[38;5;241m.\u001b[39mtolist()))\n\u001b[1;32m     12\u001b[0m     )]\n",
      "File \u001b[0;32m~/miniconda3/envs/gem/lib/python3.11/site-packages/pandas/core/series.py:4760\u001b[0m, in \u001b[0;36mSeries.apply\u001b[0;34m(self, func, convert_dtype, args, by_row, **kwargs)\u001b[0m\n\u001b[1;32m   4625\u001b[0m \u001b[38;5;28;01mdef\u001b[39;00m \u001b[38;5;21mapply\u001b[39m(\n\u001b[1;32m   4626\u001b[0m     \u001b[38;5;28mself\u001b[39m,\n\u001b[1;32m   4627\u001b[0m     func: AggFuncType,\n\u001b[0;32m   (...)\u001b[0m\n\u001b[1;32m   4632\u001b[0m     \u001b[38;5;241m*\u001b[39m\u001b[38;5;241m*\u001b[39mkwargs,\n\u001b[1;32m   4633\u001b[0m ) \u001b[38;5;241m-\u001b[39m\u001b[38;5;241m>\u001b[39m DataFrame \u001b[38;5;241m|\u001b[39m Series:\n\u001b[1;32m   4634\u001b[0m \u001b[38;5;250m    \u001b[39m\u001b[38;5;124;03m\"\"\"\u001b[39;00m\n\u001b[1;32m   4635\u001b[0m \u001b[38;5;124;03m    Invoke function on values of Series.\u001b[39;00m\n\u001b[1;32m   4636\u001b[0m \n\u001b[0;32m   (...)\u001b[0m\n\u001b[1;32m   4751\u001b[0m \u001b[38;5;124;03m    dtype: float64\u001b[39;00m\n\u001b[1;32m   4752\u001b[0m \u001b[38;5;124;03m    \"\"\"\u001b[39;00m\n\u001b[1;32m   4753\u001b[0m     \u001b[38;5;28;01mreturn\u001b[39;00m \u001b[43mSeriesApply\u001b[49m\u001b[43m(\u001b[49m\n\u001b[1;32m   4754\u001b[0m \u001b[43m        \u001b[49m\u001b[38;5;28;43mself\u001b[39;49m\u001b[43m,\u001b[49m\n\u001b[1;32m   4755\u001b[0m \u001b[43m        \u001b[49m\u001b[43mfunc\u001b[49m\u001b[43m,\u001b[49m\n\u001b[1;32m   4756\u001b[0m \u001b[43m        \u001b[49m\u001b[43mconvert_dtype\u001b[49m\u001b[38;5;241;43m=\u001b[39;49m\u001b[43mconvert_dtype\u001b[49m\u001b[43m,\u001b[49m\n\u001b[1;32m   4757\u001b[0m \u001b[43m        \u001b[49m\u001b[43mby_row\u001b[49m\u001b[38;5;241;43m=\u001b[39;49m\u001b[43mby_row\u001b[49m\u001b[43m,\u001b[49m\n\u001b[1;32m   4758\u001b[0m \u001b[43m        \u001b[49m\u001b[43margs\u001b[49m\u001b[38;5;241;43m=\u001b[39;49m\u001b[43margs\u001b[49m\u001b[43m,\u001b[49m\n\u001b[1;32m   4759\u001b[0m \u001b[43m        \u001b[49m\u001b[43mkwargs\u001b[49m\u001b[38;5;241;43m=\u001b[39;49m\u001b[43mkwargs\u001b[49m\u001b[43m,\u001b[49m\n\u001b[0;32m-> 4760\u001b[0m \u001b[43m    \u001b[49m\u001b[43m)\u001b[49m\u001b[38;5;241;43m.\u001b[39;49m\u001b[43mapply\u001b[49m\u001b[43m(\u001b[49m\u001b[43m)\u001b[49m\n",
      "File \u001b[0;32m~/miniconda3/envs/gem/lib/python3.11/site-packages/pandas/core/apply.py:1207\u001b[0m, in \u001b[0;36mSeriesApply.apply\u001b[0;34m(self)\u001b[0m\n\u001b[1;32m   1204\u001b[0m     \u001b[38;5;28;01mreturn\u001b[39;00m \u001b[38;5;28mself\u001b[39m\u001b[38;5;241m.\u001b[39mapply_compat()\n\u001b[1;32m   1206\u001b[0m \u001b[38;5;66;03m# self.func is Callable\u001b[39;00m\n\u001b[0;32m-> 1207\u001b[0m \u001b[38;5;28;01mreturn\u001b[39;00m \u001b[38;5;28;43mself\u001b[39;49m\u001b[38;5;241;43m.\u001b[39;49m\u001b[43mapply_standard\u001b[49m\u001b[43m(\u001b[49m\u001b[43m)\u001b[49m\n",
      "File \u001b[0;32m~/miniconda3/envs/gem/lib/python3.11/site-packages/pandas/core/apply.py:1287\u001b[0m, in \u001b[0;36mSeriesApply.apply_standard\u001b[0;34m(self)\u001b[0m\n\u001b[1;32m   1281\u001b[0m \u001b[38;5;66;03m# row-wise access\u001b[39;00m\n\u001b[1;32m   1282\u001b[0m \u001b[38;5;66;03m# apply doesn't have a `na_action` keyword and for backward compat reasons\u001b[39;00m\n\u001b[1;32m   1283\u001b[0m \u001b[38;5;66;03m# we need to give `na_action=\"ignore\"` for categorical data.\u001b[39;00m\n\u001b[1;32m   1284\u001b[0m \u001b[38;5;66;03m# TODO: remove the `na_action=\"ignore\"` when that default has been changed in\u001b[39;00m\n\u001b[1;32m   1285\u001b[0m \u001b[38;5;66;03m#  Categorical (GH51645).\u001b[39;00m\n\u001b[1;32m   1286\u001b[0m action \u001b[38;5;241m=\u001b[39m \u001b[38;5;124m\"\u001b[39m\u001b[38;5;124mignore\u001b[39m\u001b[38;5;124m\"\u001b[39m \u001b[38;5;28;01mif\u001b[39;00m \u001b[38;5;28misinstance\u001b[39m(obj\u001b[38;5;241m.\u001b[39mdtype, CategoricalDtype) \u001b[38;5;28;01melse\u001b[39;00m \u001b[38;5;28;01mNone\u001b[39;00m\n\u001b[0;32m-> 1287\u001b[0m mapped \u001b[38;5;241m=\u001b[39m \u001b[43mobj\u001b[49m\u001b[38;5;241;43m.\u001b[39;49m\u001b[43m_map_values\u001b[49m\u001b[43m(\u001b[49m\n\u001b[1;32m   1288\u001b[0m \u001b[43m    \u001b[49m\u001b[43mmapper\u001b[49m\u001b[38;5;241;43m=\u001b[39;49m\u001b[43mcurried\u001b[49m\u001b[43m,\u001b[49m\u001b[43m \u001b[49m\u001b[43mna_action\u001b[49m\u001b[38;5;241;43m=\u001b[39;49m\u001b[43maction\u001b[49m\u001b[43m,\u001b[49m\u001b[43m \u001b[49m\u001b[43mconvert\u001b[49m\u001b[38;5;241;43m=\u001b[39;49m\u001b[38;5;28;43mself\u001b[39;49m\u001b[38;5;241;43m.\u001b[39;49m\u001b[43mconvert_dtype\u001b[49m\n\u001b[1;32m   1289\u001b[0m \u001b[43m\u001b[49m\u001b[43m)\u001b[49m\n\u001b[1;32m   1291\u001b[0m \u001b[38;5;28;01mif\u001b[39;00m \u001b[38;5;28mlen\u001b[39m(mapped) \u001b[38;5;129;01mand\u001b[39;00m \u001b[38;5;28misinstance\u001b[39m(mapped[\u001b[38;5;241m0\u001b[39m], ABCSeries):\n\u001b[1;32m   1292\u001b[0m     \u001b[38;5;66;03m# GH#43986 Need to do list(mapped) in order to get treated as nested\u001b[39;00m\n\u001b[1;32m   1293\u001b[0m     \u001b[38;5;66;03m#  See also GH#25959 regarding EA support\u001b[39;00m\n\u001b[1;32m   1294\u001b[0m     \u001b[38;5;28;01mreturn\u001b[39;00m obj\u001b[38;5;241m.\u001b[39m_constructor_expanddim(\u001b[38;5;28mlist\u001b[39m(mapped), index\u001b[38;5;241m=\u001b[39mobj\u001b[38;5;241m.\u001b[39mindex)\n",
      "File \u001b[0;32m~/miniconda3/envs/gem/lib/python3.11/site-packages/pandas/core/base.py:921\u001b[0m, in \u001b[0;36mIndexOpsMixin._map_values\u001b[0;34m(self, mapper, na_action, convert)\u001b[0m\n\u001b[1;32m    918\u001b[0m \u001b[38;5;28;01mif\u001b[39;00m \u001b[38;5;28misinstance\u001b[39m(arr, ExtensionArray):\n\u001b[1;32m    919\u001b[0m     \u001b[38;5;28;01mreturn\u001b[39;00m arr\u001b[38;5;241m.\u001b[39mmap(mapper, na_action\u001b[38;5;241m=\u001b[39mna_action)\n\u001b[0;32m--> 921\u001b[0m \u001b[38;5;28;01mreturn\u001b[39;00m \u001b[43malgorithms\u001b[49m\u001b[38;5;241;43m.\u001b[39;49m\u001b[43mmap_array\u001b[49m\u001b[43m(\u001b[49m\u001b[43marr\u001b[49m\u001b[43m,\u001b[49m\u001b[43m \u001b[49m\u001b[43mmapper\u001b[49m\u001b[43m,\u001b[49m\u001b[43m \u001b[49m\u001b[43mna_action\u001b[49m\u001b[38;5;241;43m=\u001b[39;49m\u001b[43mna_action\u001b[49m\u001b[43m,\u001b[49m\u001b[43m \u001b[49m\u001b[43mconvert\u001b[49m\u001b[38;5;241;43m=\u001b[39;49m\u001b[43mconvert\u001b[49m\u001b[43m)\u001b[49m\n",
      "File \u001b[0;32m~/miniconda3/envs/gem/lib/python3.11/site-packages/pandas/core/algorithms.py:1814\u001b[0m, in \u001b[0;36mmap_array\u001b[0;34m(arr, mapper, na_action, convert)\u001b[0m\n\u001b[1;32m   1812\u001b[0m values \u001b[38;5;241m=\u001b[39m arr\u001b[38;5;241m.\u001b[39mastype(\u001b[38;5;28mobject\u001b[39m, copy\u001b[38;5;241m=\u001b[39m\u001b[38;5;28;01mFalse\u001b[39;00m)\n\u001b[1;32m   1813\u001b[0m \u001b[38;5;28;01mif\u001b[39;00m na_action \u001b[38;5;129;01mis\u001b[39;00m \u001b[38;5;28;01mNone\u001b[39;00m:\n\u001b[0;32m-> 1814\u001b[0m     \u001b[38;5;28;01mreturn\u001b[39;00m \u001b[43mlib\u001b[49m\u001b[38;5;241;43m.\u001b[39;49m\u001b[43mmap_infer\u001b[49m\u001b[43m(\u001b[49m\u001b[43mvalues\u001b[49m\u001b[43m,\u001b[49m\u001b[43m \u001b[49m\u001b[43mmapper\u001b[49m\u001b[43m,\u001b[49m\u001b[43m \u001b[49m\u001b[43mconvert\u001b[49m\u001b[38;5;241;43m=\u001b[39;49m\u001b[43mconvert\u001b[49m\u001b[43m)\u001b[49m\n\u001b[1;32m   1815\u001b[0m \u001b[38;5;28;01melse\u001b[39;00m:\n\u001b[1;32m   1816\u001b[0m     \u001b[38;5;28;01mreturn\u001b[39;00m lib\u001b[38;5;241m.\u001b[39mmap_infer_mask(\n\u001b[1;32m   1817\u001b[0m         values, mapper, mask\u001b[38;5;241m=\u001b[39misna(values)\u001b[38;5;241m.\u001b[39mview(np\u001b[38;5;241m.\u001b[39muint8), convert\u001b[38;5;241m=\u001b[39mconvert\n\u001b[1;32m   1818\u001b[0m     )\n",
      "File \u001b[0;32mlib.pyx:2917\u001b[0m, in \u001b[0;36mpandas._libs.lib.map_infer\u001b[0;34m()\u001b[0m\n",
      "Cell \u001b[0;32mIn[15], line 6\u001b[0m, in \u001b[0;36m<lambda>\u001b[0;34m(x)\u001b[0m\n\u001b[1;32m      1\u001b[0m country_ratios_df_touse \u001b[38;5;241m=\u001b[39m country_ratios_df\u001b[38;5;241m.\u001b[39mloc[country_ratios_df[\u001b[38;5;124m'\u001b[39m\u001b[38;5;124mCountry\u001b[39m\u001b[38;5;124m'\u001b[39m]\u001b[38;5;241m.\u001b[39misin(\n\u001b[1;32m      2\u001b[0m                                             region_df_touse[\u001b[38;5;124m'\u001b[39m\u001b[38;5;124mCountry\u001b[39m\u001b[38;5;124m'\u001b[39m]\u001b[38;5;241m.\u001b[39mtolist())]\n\u001b[1;32m      4\u001b[0m owners_df_touse \u001b[38;5;241m=\u001b[39m owners_df\u001b[38;5;241m.\u001b[39mloc[\n\u001b[1;32m      5\u001b[0m     \u001b[38;5;241m~\u001b[39mowners_df[\u001b[38;5;124m'\u001b[39m\u001b[38;5;124mCountries\u001b[39m\u001b[38;5;124m'\u001b[39m]\u001b[38;5;241m.\u001b[39mapply(\n\u001b[0;32m----> 6\u001b[0m         \u001b[38;5;28;01mlambda\u001b[39;00m x: \u001b[38;5;28mset\u001b[39m(\u001b[43mx\u001b[49m\u001b[38;5;241;43m.\u001b[39;49m\u001b[43msplit\u001b[49m(\u001b[38;5;124m'\u001b[39m\u001b[38;5;124m, \u001b[39m\u001b[38;5;124m'\u001b[39m))\u001b[38;5;241m.\u001b[39misdisjoint(\u001b[38;5;28mset\u001b[39m(region_df_touse[\u001b[38;5;124m'\u001b[39m\u001b[38;5;124mCountry\u001b[39m\u001b[38;5;124m'\u001b[39m]\u001b[38;5;241m.\u001b[39mtolist()))\n\u001b[1;32m      7\u001b[0m     )]\n\u001b[1;32m      9\u001b[0m pipes_df_touse \u001b[38;5;241m=\u001b[39m pipes_df\u001b[38;5;241m.\u001b[39mloc[\n\u001b[1;32m     10\u001b[0m     \u001b[38;5;241m~\u001b[39mpipes_df[\u001b[38;5;124m'\u001b[39m\u001b[38;5;124mCountries\u001b[39m\u001b[38;5;124m'\u001b[39m]\u001b[38;5;241m.\u001b[39mapply(\n\u001b[1;32m     11\u001b[0m         \u001b[38;5;28;01mlambda\u001b[39;00m x: \u001b[38;5;28mset\u001b[39m(x\u001b[38;5;241m.\u001b[39msplit(\u001b[38;5;124m'\u001b[39m\u001b[38;5;124m, \u001b[39m\u001b[38;5;124m'\u001b[39m))\u001b[38;5;241m.\u001b[39misdisjoint(\u001b[38;5;28mset\u001b[39m(region_df_touse[\u001b[38;5;124m'\u001b[39m\u001b[38;5;124mCountry\u001b[39m\u001b[38;5;124m'\u001b[39m]\u001b[38;5;241m.\u001b[39mtolist()))\n\u001b[1;32m     12\u001b[0m     )]\n",
      "\u001b[0;31mAttributeError\u001b[0m: 'float' object has no attribute 'split'"
     ]
    }
   ],
   "source": [
    "country_ratios_df_touse = country_ratios_df.loc[country_ratios_df['Country'].isin(\n",
    "                                            region_df_touse['Country'].tolist())]\n",
    "\n",
    "owners_df_touse = owners_df.loc[\n",
    "    ~owners_df['Countries'].apply(\n",
    "        lambda x: set(x.split(', ')).isdisjoint(set(region_df_touse['Country'].tolist()))\n",
    "    )]\n",
    "\n",
    "pipes_df_touse = pipes_df.loc[\n",
    "    ~pipes_df['Countries'].apply(\n",
    "        lambda x: set(x.split(', ')).isdisjoint(set(region_df_touse['Country'].tolist()))\n",
    "    )]"
   ]
  },
  {
   "cell_type": "code",
   "execution_count": null,
   "id": "e06f4e0e-9f51-4ea3-9fd5-14b28bbe6934",
   "metadata": {
    "tags": []
   },
   "outputs": [],
   "source": [
    "pipes_df_touse = pipes_df_touse.loc[pipes_df_touse.Fuel==fuel_type]\n",
    "print(fuel_type)"
   ]
  },
  {
   "cell_type": "markdown",
   "id": "84b0b032",
   "metadata": {},
   "source": [
    "### sum MergedKmByCountry and MergedKmByRegion"
   ]
  },
  {
   "cell_type": "code",
   "execution_count": null,
   "id": "5aba6b0a",
   "metadata": {
    "tags": []
   },
   "outputs": [],
   "source": [
    "status_list = ['Proposed', \n",
    "               'Construction', \n",
    "               'Shelved', \n",
    "               'Cancelled', \n",
    "               'Operating', \n",
    "               'Idle', \n",
    "               'Mothballed', \n",
    "               'Retired']\n",
    "country_list = sorted(set(region_df_touse.Country.to_list())) #sorted(list(set(country_ratios_df_touse['Country'])))\n",
    "region_list = sorted(set(region_df_touse.Region.tolist())) #sorted(list(set(country_ratios_df_touse['Region'])))"
   ]
  },
  {
   "cell_type": "code",
   "execution_count": null,
   "id": "99122012",
   "metadata": {
    "tags": []
   },
   "outputs": [],
   "source": [
    "excel_status_list = ['Proposed', \n",
    "                     'Construction', \n",
    "                     'In Development (Proposed + Construction)', \n",
    "                     'Shelved', \n",
    "                     'Cancelled', \n",
    "                     'Operating', \n",
    "                     'Idle', \n",
    "                     'Mothballed', \n",
    "                     'Retired']\n",
    "excel_status_list_with_countries = ['ParentHQCountry', 'Country']+excel_status_list\n",
    "excel_status_list_with_hq = ['ParentHQCountry']+excel_status_list"
   ]
  },
  {
   "cell_type": "code",
   "execution_count": null,
   "id": "e4a424de",
   "metadata": {
    "tags": []
   },
   "outputs": [],
   "source": [
    "country_ratios_df_subset = country_ratios_df_touse.copy()[country_ratios_df_touse['Fuel']==fuel_type]\n",
    "\n",
    "km_by_country = pandas.DataFrame(columns=status_list, index=country_list)\n",
    "km_by_region = pandas.DataFrame(columns=status_list, index=region_list)\n",
    "\n",
    "print('===country-level calculations===')\n",
    "for status in status_list:\n",
    "    print(status)\n",
    "    country_ratios_df_subset_status = country_ratios_df_subset[country_ratios_df_subset['Status']==status]\n",
    "    km_by_country[status] = country_ratios_df_subset_status.groupby('Country')['MergedKmByCountry'].sum()\n",
    "\n",
    "print('===regional calculations===')\n",
    "for status in status_list:\n",
    "    print(status)\n",
    "    country_ratios_df_subset_status = country_ratios_df_subset[country_ratios_df_subset['Status']==status]\n",
    "    km_by_region[status] = country_ratios_df_subset_status.groupby('Region')['MergedKmByCountry'].sum()\n",
    "\n",
    "# fille NaN with 0.0\n",
    "km_by_region = km_by_region.fillna(0)\n",
    "km_by_country = km_by_country.fillna(0)\n",
    "\n",
    "km_by_region['In Development (Proposed + Construction)'] = km_by_region[['Proposed','Construction']].sum(axis=1)\n",
    "km_by_country['In Development (Proposed + Construction)'] = km_by_country[['Proposed','Construction']].sum(axis=1)\n",
    "\n",
    "km_by_country = km_by_country[excel_status_list]\n",
    "km_by_region = km_by_region[excel_status_list]\n",
    "\n",
    "km_by_region.index.name = 'Region'\n",
    "km_by_country.index.name = 'Country'\n",
    "\n",
    "totals_row = km_by_region.sum(axis=0)\n",
    "km_by_region.loc['Total'] = totals_row\n",
    "\n",
    "totals_row = km_by_country.sum(axis=0)\n",
    "km_by_country.loc['Total'] = totals_row\n",
    "\n",
    "km_by_country = km_by_country.loc[~(km_by_country==0).all(axis=1)]\n",
    "km_by_region = km_by_region.loc[~(km_by_region==0).all(axis=1)]\n",
    "\n",
    "km_by_region.replace(0,'',inplace=True)\n",
    "km_by_country.replace(0,'',inplace=True)\n",
    "\n",
    "km_by_region.to_excel(excel_writer, 'Kilometers by region')\n",
    "km_by_country.to_excel(excel_writer, 'Kilometers by country')"
   ]
  },
  {
   "cell_type": "code",
   "execution_count": null,
   "id": "abf63ca3-b279-41e8-80a2-7c6d3826b6a6",
   "metadata": {
    "scrolled": true,
    "tags": []
   },
   "outputs": [],
   "source": [
    "owner_parent_calculations_df = pandas.DataFrame()\n",
    "parents_list = parents_df.Parent.tolist()\n",
    "\n",
    "for idx,row in pipes_df_touse.iterrows():\n",
    "    parent_string = row.Parent\n",
    "    #print(parent_string)\n",
    "    parent_list = re.sub(' \\[.*?\\]', '', parent_string).split('; ') # all entries must have a Owner [%] syntax\n",
    "    percent_list = [float(i.rstrip('%'))/100. for i in re.findall('\\\\d+(?:\\\\.\\\\d+)?%', parent_string)]\n",
    "\n",
    "    if parent_list.__len__()!=percent_list.__len__():\n",
    "        if percent_list==[]:\n",
    "            percent_list = [1/parent_list.__len__() for i in parent_list]\n",
    "        else:\n",
    "            nmissing = parent_list.__len__()-percent_list.__len__()\n",
    "            # distribute nans evenly\n",
    "            total = numpy.nansum(percent_list)\n",
    "            leftover = 1-total\n",
    "            percent_list += [leftover/nmissing]*nmissing\n",
    "\n",
    "    # how many countries is this pipeline in?\n",
    "    country_ratios_df_temp = country_ratios_df.loc[country_ratios_df.ProjectID==row.ProjectID]\n",
    "    #print(country_ratios_df_temp)\n",
    "    country_ratios_df_temp_region = country_ratios_df.loc[(country_ratios_df.ProjectID==row.ProjectID)&\n",
    "                                                          (country_ratios_df.Country.isin(region_df_touse.Country.tolist()))]\n",
    "    \n",
    "    # fraction of this pipeline that is within the regional countries we care about\n",
    "    # this will be 1.0 when you're doing global calculations...\n",
    "    fraction_in_region = country_ratios_df_temp_region.MergedKmByCountry.sum()/country_ratios_df_temp.MergedKmByCountry.sum()\n",
    "    \n",
    "    for p_idx,parent in enumerate(parent_list):\n",
    "        \n",
    "        if parent in parents_list:\n",
    "            parent_hq_country = parents_df.loc[parents_df.Parent==parent]['ParentHQCountry'].values[0]\n",
    "        else:\n",
    "            parent_hq_country = 'Unknown'\n",
    "        \n",
    "        for country in country_ratios_df_temp_region.Country.tolist():\n",
    "            merged_km_by_country = country_ratios_df.loc[(country_ratios_df.ProjectID==row.ProjectID)&\n",
    "                                                         (country_ratios_df.Country==country),'MergedKmByCountry'].values[0]\n",
    "            owner_parent_calculations_df = pandas.concat([owner_parent_calculations_df, \n",
    "                                                          pandas.DataFrame([{'Parent':parent, 'ProjectID':row.ProjectID, \n",
    "                                                                             'FractionOwnership':percent_list[p_idx],\n",
    "                                                                             'LengthMergedKm':row.LengthMergedKm,\n",
    "                                                                             'FractionInRegion':fraction_in_region,\n",
    "                                                                             'MergedKmByCountry':merged_km_by_country,\n",
    "                                                                             'ParentHQCountry':parent_hq_country,\n",
    "                                                                             'Country':country,\n",
    "                                                                             'Status':row.Status,\n",
    "                                                                             'KmOwnershipInCountry':percent_list[p_idx]*merged_km_by_country}])])\n",
    "\n",
    "owner_parent_calculations_df['KmOwnership'] = owner_parent_calculations_df['FractionOwnership']*owner_parent_calculations_df['LengthMergedKm']\n",
    "owner_parent_calculations_df['KmOwnershipInRegion'] = owner_parent_calculations_df['FractionOwnership']*owner_parent_calculations_df['LengthMergedKm']*owner_parent_calculations_df['FractionInRegion']\n",
    "\n"
   ]
  },
  {
   "cell_type": "markdown",
   "id": "68080df2-07f6-4b20-8437-5c976acbf117",
   "metadata": {},
   "source": [
    "### version that lists individual countries pipelines run in"
   ]
  },
  {
   "cell_type": "raw",
   "id": "9bbc29eb-a90d-4316-8276-53b315a730d0",
   "metadata": {
    "tags": []
   },
   "source": [
    "owners_km_by_status_df = owner_parent_calculations_df.groupby(['Parent','ParentHQCountry','Country','Status'])[['KmOwnershipInCountry']].sum()\n",
    "\n",
    "owners_km_by_status_df = owner_parent_calculations_df.groupby(['Parent','ParentHQCountry','Country','Status']).agg(\n",
    "    {'KmOwnershipInCountry':['sum']}).unstack().droplevel(axis=1, level=[0,1])\n",
    "\n",
    "owners_km_by_status_df = owners_km_by_status_df.reindex(columns=status_list) # adds any missing status columns\n",
    "owners_km_by_status_df = owners_km_by_status_df.reset_index().set_index('Parent')\n",
    "#owners_km_by_status_df = owners_km_by_status_df.reset_index()\n",
    "owners_km_by_status_df.columns.name = None\n",
    "\n",
    "owners_km_by_status_df['In Development (Proposed + Construction)'] = \\\n",
    "    owners_km_by_status_df[['Construction','Proposed']].sum(min_count=1, axis=1)\n",
    "\n",
    "# rearrange the order of the columns for output\n",
    "owners_km_by_status_df = owners_km_by_status_df[excel_status_list_with_countries]\n",
    "\n",
    "totals_row = owners_km_by_status_df.sum(axis=0, min_count=0)\n",
    "owners_km_by_status_df.loc['Total'] = totals_row\n",
    "owners_km_by_status_df.loc['Total','Country'] = ''\n",
    "owners_km_by_status_df.loc['Total','ParentHQCountry'] = ''\n",
    "\n",
    "owners_km_by_status_df.index.name = 'Owner'\n",
    "owners_km_by_status_df.rename(columns={'Country':'Pipeline Country',\n",
    "                                       'ParentHQCountry':'Owner Headquarters Country'},\n",
    "                             inplace=True)\n",
    "\n",
    "owners_km_by_status_df = owners_km_by_status_df.replace(numpy.nan, '')\n",
    "owners_km_by_status_df = owners_km_by_status_df.replace(0, '')\n",
    "\n",
    "\n",
    "\n",
    "owners_km_by_status_df.to_excel(excel_writer, sheet_name='Pipeline km by company, country')"
   ]
  },
  {
   "cell_type": "markdown",
   "id": "da5602dc-56ec-470f-b0b7-8b10ae9c5b63",
   "metadata": {},
   "source": [
    "### version that doesn't list country that pipelines are in..."
   ]
  },
  {
   "cell_type": "code",
   "execution_count": null,
   "id": "74f08b9a-54e8-4b92-b01b-de5fad6bb57f",
   "metadata": {
    "tags": []
   },
   "outputs": [],
   "source": [
    "owners_km_by_status_df = owner_parent_calculations_df.groupby(['Parent','ParentHQCountry','Status'])[['KmOwnershipInCountry']].sum()\n",
    "\n",
    "owners_km_by_status_df = owner_parent_calculations_df.groupby(['Parent','ParentHQCountry','Status']).agg(\n",
    "    {'KmOwnershipInCountry':['sum']}).unstack().droplevel(axis=1, level=[0,1])\n",
    "\n",
    "owners_km_by_status_df = owners_km_by_status_df.reindex(columns=status_list) # adds any missing status columns\n",
    "owners_km_by_status_df = owners_km_by_status_df.reset_index().set_index('Parent')\n",
    "#owners_km_by_status_df = owners_km_by_status_df.reset_index()\n",
    "owners_km_by_status_df.columns.name = None\n",
    "\n",
    "owners_km_by_status_df['In Development (Proposed + Construction)'] = \\\n",
    "    owners_km_by_status_df[['Construction','Proposed']].sum(min_count=1, axis=1)\n",
    "\n",
    "# rearrange the order of the columns for output\n",
    "owners_km_by_status_df = owners_km_by_status_df[excel_status_list_with_hq]\n",
    "\n",
    "totals_row = owners_km_by_status_df.sum(axis=0, min_count=0)\n",
    "owners_km_by_status_df.loc['Total'] = totals_row\n",
    "owners_km_by_status_df.loc['Total','Country'] = ''\n",
    "owners_km_by_status_df.loc['Total','ParentHQCountry'] = ''\n",
    "\n",
    "owners_km_by_status_df.index.name = 'Owner'\n",
    "owners_km_by_status_df.rename(columns={#'Country':'Pipeline Country',\n",
    "                                       'ParentHQCountry':'Owner Headquarters Country'},\n",
    "                             inplace=True)\n",
    "\n",
    "owners_km_by_status_df = owners_km_by_status_df.replace(numpy.nan, '')\n",
    "owners_km_by_status_df = owners_km_by_status_df.replace(0, '')\n",
    "\n",
    "\n",
    "\n",
    "owners_km_by_status_df.to_excel(excel_writer, sheet_name='Pipeline km by company, country')"
   ]
  },
  {
   "cell_type": "markdown",
   "id": "b5c7bac3",
   "metadata": {},
   "source": [
    "### pipeline km by start year, typeexcel_status_list_with_hq"
   ]
  },
  {
   "cell_type": "code",
   "execution_count": null,
   "id": "ce1cc9f6",
   "metadata": {
    "tags": []
   },
   "outputs": [],
   "source": [
    "pipes_started_df = pipes_df_touse.copy()\n",
    "#pipes_started_eu['StartYearLatest'].replace(numpy.nan,'',inplace=True)\n",
    "\n",
    "pipes_started_df = pipes_started_df[(pipes_started_df['Status'].isin(['Operating'])) &\n",
    "                              (pipes_started_df['Fuel']==fuel_type)]\n",
    "pipes_started_df_sum = pipes_started_df.groupby('StartYearEarliest')['LengthMergedKm'].sum()"
   ]
  },
  {
   "cell_type": "code",
   "execution_count": null,
   "id": "3088dfbc",
   "metadata": {
    "tags": []
   },
   "outputs": [],
   "source": [
    "km_by_start_year = pandas.DataFrame(index=list(range(1980,2023)), columns=['Pipeline km'])\n",
    "km_by_start_year.index.name = 'Start year'\n",
    "\n",
    "km_by_start_year['Pipeline km'] = pipes_started_df_sum\n",
    "km_by_start_year.replace(numpy.nan,0,inplace=True)\n",
    "\n",
    "totals_row = km_by_start_year.sum(axis=0)\n",
    "km_by_start_year.loc['Total'] = totals_row\n",
    "\n",
    "km_by_start_year.replace(0,'',inplace=True)\n",
    "\n",
    "km_by_start_year.to_excel(excel_writer, 'Kilometers by start year')"
   ]
  },
  {
   "cell_type": "markdown",
   "id": "116aee49-b451-47bd-bcc7-fc4a161d6075",
   "metadata": {},
   "source": [
    "## save excel file"
   ]
  },
  {
   "cell_type": "code",
   "execution_count": null,
   "id": "34771081-df2d-487b-a021-31a9bad1dba1",
   "metadata": {
    "tags": []
   },
   "outputs": [],
   "source": [
    "excel_writer.close()"
   ]
  },
  {
   "cell_type": "code",
   "execution_count": null,
   "id": "c5b2af9f-1065-4117-856e-5abb62b366a1",
   "metadata": {},
   "outputs": [],
   "source": []
  },
  {
   "cell_type": "code",
   "execution_count": null,
   "id": "4b97df81-9803-4ddd-b25e-99c0488a72e0",
   "metadata": {},
   "outputs": [],
   "source": []
  }
 ],
 "metadata": {
  "kernelspec": {
   "display_name": "Python 3 (ipykernel)",
   "language": "python",
   "name": "python3"
  },
  "language_info": {
   "codemirror_mode": {
    "name": "ipython",
    "version": 3
   },
   "file_extension": ".py",
   "mimetype": "text/x-python",
   "name": "python",
   "nbconvert_exporter": "python",
   "pygments_lexer": "ipython3",
   "version": "3.11.6"
  }
 },
 "nbformat": 4,
 "nbformat_minor": 5
}
