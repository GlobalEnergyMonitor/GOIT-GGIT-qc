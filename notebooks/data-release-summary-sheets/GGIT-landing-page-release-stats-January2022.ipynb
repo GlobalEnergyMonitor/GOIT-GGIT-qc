{
 "cells": [
  {
   "cell_type": "code",
   "execution_count": 83,
   "id": "24befb0b",
   "metadata": {},
   "outputs": [],
   "source": [
    "import pandas\n",
    "\n",
    "import numpy\n",
    "import pygsheets"
   ]
  },
  {
   "cell_type": "markdown",
   "id": "c8c5ca7a",
   "metadata": {},
   "source": [
    "import Pipelines_Current dataset"
   ]
  },
  {
   "cell_type": "code",
   "execution_count": 84,
   "id": "a4185877",
   "metadata": {},
   "outputs": [],
   "source": [
    "credentials_directory = '/Users/baird/Dropbox/_google-api/'\n",
    "gc = pygsheets.authorize(client_secret=credentials_directory+'client_secret.json')\n",
    "#spreadsheet = gc.open_by_key('1foPLE6K-uqFlaYgLPAUxzeXfDO5wOOqE7tibNHeqTek')\n",
    "spreadsheet = gc.open_by_key('18od3L-Uy-N0K0mnUIaeBWLVmZKeaLnjG9rOVSOjSSy4')\n",
    "\n",
    "#spreadsheet[1] \"Gas Pipelines\" tab is the second index\n",
    "gas_pipes = spreadsheet[1].get_as_df(encoding='latin1')\n",
    "oil_pipes = spreadsheet[2].get_as_df(encoding='latin1')\n",
    "#owners = spreadsheet[2].get_as_df()\n",
    "\n",
    "#gas_pipes = gas_pipes.drop('WKTFormat', axis=1) # delete WKTFormat column\n",
    "#oil_pipes = oil_pipes.drop('WKTFormat', axis=1)\n",
    "#pipes_df_orig = pandas.concat([oil_pipes, gas_pipes], ignore_index=True)\n",
    "pipes_df_orig = gas_pipes.copy()\n",
    "\n",
    "#pipe = spreadsheet[1].get_as_df()\n",
    "#pipe = pipe.drop('WKTFormat', axis=1)\n",
    "\n",
    "#get other relevant sheets\n",
    "country_ratios_df = spreadsheet[5].get_as_df(encoding='latin1')\n",
    "owners_df_orig = spreadsheet[3].get_as_df(encoding='latin1')\n",
    "owners_df_orig.set_index('ProjectID', inplace=True)\n",
    "\n",
    "# remove empty cells for pipes, owners\n",
    "pipes_df_orig = pipes_df_orig[pipes_df_orig['PipelineName']!='']\n",
    "pipes_df_orig = pipes_df_orig[pipes_df_orig['Route']!='N/A']\n",
    "owners_df_orig = owners_df_orig[owners_df_orig.index!='']"
   ]
  },
  {
   "cell_type": "code",
   "execution_count": 85,
   "id": "5ece501b-e272-48b4-8ec7-00d4e32915e9",
   "metadata": {},
   "outputs": [],
   "source": [
    "pipes_df_orig.replace('--', numpy.nan, inplace=True)\n",
    "pipes_df_orig.replace('', numpy.nan, inplace=True)"
   ]
  },
  {
   "cell_type": "raw",
   "id": "b0ca9030-80ce-4fe9-81d2-377f1cf32996",
   "metadata": {},
   "source": [
    "Variable\n",
    "Gas Pipelines\n",
    "Country\n",
    "0 (0%)\n",
    "Fuel\n",
    "0 (0%)\n",
    "Project Status\n",
    "0 (0%)\n",
    "Region\n",
    "0 (0%)\n",
    "Estimated Length\n",
    "24 (1.9%)\n",
    "Known Length\n",
    "182 (14.1%)\n",
    "Owner\n",
    "316 (24.5%)\n",
    "Capacity\n",
    "591 (45.9%)\n",
    "Start Year\n",
    "584 (45.3%)"
   ]
  },
  {
   "cell_type": "code",
   "execution_count": 88,
   "id": "219d831b-9fe3-46d4-b5f7-a6486867b82c",
   "metadata": {},
   "outputs": [],
   "source": [
    "variables_to_check = ['StartCountry',\n",
    "                      'EndCountry',\n",
    "                      'Fuel',\n",
    "                      'Status',\n",
    "                      'StartRegion',\n",
    "                      'EndRegion',\n",
    "                      'LengthEstimateKm',\n",
    "                      'LengthKnownKm',\n",
    "                      'Parent',\n",
    "                      'Capacity',\n",
    "                      'StartYearEarliest']\n",
    "\n",
    "variables_pretty = ['Start country',\n",
    "                      'End country',\n",
    "                      'Fuel',\n",
    "                      'Project status',\n",
    "                      'Start region',\n",
    "                      'End region',\n",
    "                      'Estimated length',\n",
    "                      'Known length',\n",
    "                      'Owner',\n",
    "                      'Capacity',\n",
    "                      'Start year']"
   ]
  },
  {
   "cell_type": "markdown",
   "id": "19b50d2d-ab18-496a-b1a9-570c9f9224a4",
   "metadata": {},
   "source": [
    "## how many projects total?"
   ]
  },
  {
   "cell_type": "code",
   "execution_count": 89,
   "id": "3c1ab712-6ee2-4c33-b16d-91bdea5fc086",
   "metadata": {},
   "outputs": [
    {
     "name": "stdout",
     "output_type": "stream",
     "text": [
      "Start country\t\t1 (0.0%)\n",
      "End country\t\t0 (0.0%)\n",
      "Fuel\t\t0 (0.0%)\n",
      "Project status\t\t0 (0.0%)\n",
      "Start region\t\t1 (0.0%)\n",
      "End region\t\t0 (0.0%)\n",
      "Estimated length\t\t16 (0.7%)\n",
      "Known length\t\t499 (25.5%)\n",
      "Owner\t\t391 (18.9%)\n",
      "Capacity\t\t1038 (73.3%)\n",
      "Start year\t\t965 (64.8%)\n"
     ]
    }
   ],
   "source": [
    "for var,var_pretty in zip(variables_to_check,variables_pretty):\n",
    "    print(var_pretty+'\\t\\t'+str(pipes_df_orig[var].isna().sum()), \n",
    "          '('+'{:.1f}'.format(pipes_df_orig[var].isna().sum()/pipes_df_orig[var].count()*100.)+'%)')"
   ]
  },
  {
   "cell_type": "markdown",
   "id": "0c1cb0d4-23f2-4c34-8a8a-88450e7eccf9",
   "metadata": {},
   "source": [
    "# terminals"
   ]
  },
  {
   "cell_type": "code",
   "execution_count": 90,
   "id": "cb74a355-be64-4f30-9fdc-32804e34c024",
   "metadata": {},
   "outputs": [],
   "source": [
    "credentials_directory = '/Users/baird/Dropbox/_google-api/'\n",
    "gc = pygsheets.authorize(client_secret=credentials_directory+'client_secret.json')\n",
    "spreadsheet = gc.open_by_key('1tcS6Wd-Wp-LTDpLzFgJY_RSNDnbyubW3J_9HKIAys4A')\n",
    "\n",
    "#spreadsheet[1] \"Gas Pipelines\" tab is the second index\n",
    "terms_df_orig = spreadsheet[1].get_as_df(encoding='latin1')\n",
    "terms_df_orig = terms_df_orig[terms_df_orig['ComboID']!=''] # remove empty rows\n",
    "terms_df_orig.replace('--', numpy.nan, inplace=True)"
   ]
  },
  {
   "cell_type": "markdown",
   "id": "573736c6-efb2-41e3-8cfb-4a8b0d0787ec",
   "metadata": {},
   "source": [
    "## stats"
   ]
  },
  {
   "cell_type": "code",
   "execution_count": 91,
   "id": "b404effb-f089-4ecd-b46d-5bb143e355b4",
   "metadata": {},
   "outputs": [
    {
     "data": {
      "text/plain": [
       "(1104, 64)"
      ]
     },
     "execution_count": 91,
     "metadata": {},
     "output_type": "execute_result"
    }
   ],
   "source": [
    "terms_df_orig.shape"
   ]
  },
  {
   "cell_type": "code",
   "execution_count": 92,
   "id": "d74eeabc-e39b-4539-a5b1-8333dc8ffbdb",
   "metadata": {},
   "outputs": [
    {
     "data": {
      "text/plain": [
       "561"
      ]
     },
     "execution_count": 92,
     "metadata": {},
     "output_type": "execute_result"
    }
   ],
   "source": [
    "sum(terms_df_orig['Facility']=='Import')"
   ]
  },
  {
   "cell_type": "code",
   "execution_count": 93,
   "id": "1d3de8b5-87ec-4ed6-98c1-834e9c6961c7",
   "metadata": {},
   "outputs": [
    {
     "data": {
      "text/plain": [
       "543"
      ]
     },
     "execution_count": 93,
     "metadata": {},
     "output_type": "execute_result"
    }
   ],
   "source": [
    "sum(terms_df_orig['Facility']=='Export')"
   ]
  },
  {
   "cell_type": "raw",
   "id": "65eeb5ec-45be-43d6-86d4-5d36ea8b52c2",
   "metadata": {},
   "source": [
    "terms_df_orig[(terms_df_orig['Facility']!='Import')&\n",
    "               (terms_df_orig['Facility']!='Export')]"
   ]
  },
  {
   "cell_type": "markdown",
   "id": "8d158869-8e0b-42eb-b007-5d08cb673a6d",
   "metadata": {},
   "source": [
    "## percentages"
   ]
  },
  {
   "cell_type": "code",
   "execution_count": 97,
   "id": "8f6302af-80a2-4e64-bf88-eac3d6f67bbc",
   "metadata": {},
   "outputs": [],
   "source": [
    "variables_to_check = ['Country',\n",
    "                      'Facility',\n",
    "                      'Status',\n",
    "                      'Region',\n",
    "                      'Parent',\n",
    "                      'Capacity',\n",
    "                      'StartYearEarliest']\n",
    "\n",
    "variables_pretty = ['Country',\n",
    "                    'Facility type',\n",
    "                    'Project status',\n",
    "                    'Region',\n",
    "                    'Owner',\n",
    "                    'Capacity',\n",
    "                    'Start year']"
   ]
  },
  {
   "cell_type": "code",
   "execution_count": 98,
   "id": "c9ed669a-5080-4de5-a34e-52056fad1884",
   "metadata": {},
   "outputs": [],
   "source": [
    "import_df = terms_df_orig[terms_df_orig['Facility']=='Import']\n",
    "export_df = terms_df_orig[terms_df_orig['Facility']=='Export']"
   ]
  },
  {
   "cell_type": "code",
   "execution_count": 99,
   "id": "38d6783f-c69b-427f-aece-98fd3344bfc0",
   "metadata": {},
   "outputs": [
    {
     "name": "stdout",
     "output_type": "stream",
     "text": [
      "Country\t\t0 (0.0%) \t\t 0 (0.0%)\n",
      "Facility type\t\t0 (0.0%) \t\t 0 (0.0%)\n",
      "Project status\t\t0 (0.0%) \t\t 0 (0.0%)\n",
      "Region\t\t0 (0.0%) \t\t 0 (0.0%)\n",
      "Owner\t\t22 (4.1%) \t\t 5 (0.9%)\n",
      "Capacity\t\t0 (0.0%) \t\t 0 (0.0%)\n",
      "Start year\t\t189 (50.8%) \t\t 143 (35.8%)\n"
     ]
    }
   ],
   "source": [
    "for var,var_pretty in zip(variables_to_check,variables_pretty):\n",
    "    print(var_pretty+'\\t\\t'+str(import_df[var].isna().sum()), \n",
    "          '('+'{:.1f}'.format(import_df[var].isna().sum()/import_df[var].count()*100.)+'%)',\n",
    "         '\\t\\t',\n",
    "         str(export_df[var].isna().sum()), \n",
    "          '('+'{:.1f}'.format(export_df[var].isna().sum()/export_df[var].count()*100.)+'%)')"
   ]
  }
 ],
 "metadata": {
  "kernelspec": {
   "display_name": "gem",
   "language": "python",
   "name": "gem"
  },
  "language_info": {
   "codemirror_mode": {
    "name": "ipython",
    "version": 3
   },
   "file_extension": ".py",
   "mimetype": "text/x-python",
   "name": "python",
   "nbconvert_exporter": "python",
   "pygments_lexer": "ipython3",
   "version": "3.9.9"
  }
 },
 "nbformat": 4,
 "nbformat_minor": 5
}
