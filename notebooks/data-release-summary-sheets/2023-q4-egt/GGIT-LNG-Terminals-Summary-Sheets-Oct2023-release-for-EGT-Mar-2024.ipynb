{
 "cells": [
  {
   "cell_type": "code",
   "execution_count": 8,
   "id": "24befb0b",
   "metadata": {
    "tags": []
   },
   "outputs": [],
   "source": [
    "import pandas\n",
    "import numpy\n",
    "import pygsheets\n",
    "import datetime\n",
    "import pytz\n",
    "import re"
   ]
  },
  {
   "cell_type": "code",
   "execution_count": 9,
   "id": "ae44956f-e552-4988-91af-3d8b313dbe6b",
   "metadata": {
    "tags": []
   },
   "outputs": [],
   "source": [
    "# define the excel file to save tables in\n",
    "current_time = datetime.datetime.now(pytz.timezone('US/Eastern')).strftime(\"%Y-%m-%d_T%H%M%S\")"
   ]
  },
  {
   "cell_type": "code",
   "execution_count": 39,
   "id": "a4185877",
   "metadata": {
    "tags": []
   },
   "outputs": [],
   "source": [
    "gc = pygsheets.authorize(service_account_env_var='GDRIVE_API_CREDENTIALS')\n",
    "spreadsheet = gc.open_by_key('1tcS6Wd-Wp-LTDpLzFgJY_RSNDnbyubW3J_9HKIAys4A')\n",
    "#spreadsheet = gc.open_by_key('1MrghwBeCz8Tzgua7CWGg_KoXKVZsV7r0kHMYHYqnNTg') # July 2022 terminals version\n",
    "#spreadsheet = gc.open_by_key('1FVuw76YU-jmAzfSWJ2ixwBQB_wXEK9aGCa4Q6OCOUzY') # July 2022 with May 2023 updates for Asia gas tracker\n",
    "\n",
    "terms_df_orig = spreadsheet.worksheet('title', 'Terminals').get_as_df(start='A3')\n",
    "\n",
    "# drop any empty/imcomplete rows (those without a wiki page)\n",
    "terms_df_orig = terms_df_orig.loc[terms_df_orig.Wiki != '']\n",
    "\n",
    "#get other relevant sheets\n",
    "owners_df_orig = spreadsheet.worksheet('title', 'Terminal operators/owners (1/3)').get_as_df(start='A2')\n",
    "owners_df_orig.set_index('ComboID', inplace=True)\n",
    "\n",
    "parent_metadata_df = spreadsheet.worksheet('title', 'Parent metadata (3/3)').get_as_df(start='A2')\n",
    "parent_metadata_df.set_index('Parent', inplace=True)"
   ]
  },
  {
   "cell_type": "code",
   "execution_count": 40,
   "id": "4b8ccd2f",
   "metadata": {
    "tags": []
   },
   "outputs": [],
   "source": [
    "terms_df_orig.replace('--', numpy.nan, inplace=True)"
   ]
  },
  {
   "cell_type": "code",
   "execution_count": 41,
   "id": "4527dc75",
   "metadata": {
    "tags": []
   },
   "outputs": [],
   "source": [
    "region_df_orig = spreadsheet.worksheet('title', 'Country dictionary').get_as_df(start='A2')\n",
    "#region_df_agt = region_df_orig.loc[region_df_orig['AsiaGasTracker']=='Yes']\n",
    "\n",
    "region_name = 'Global'; region_df_touse = region_df_orig.copy()\n",
    "#region_name = 'AsiaGasTracker'; region_df_touse = region_df_orig.loc[region_df_orig.AsiaGasTracker=='Yes']\n",
    "#region_name = 'EuroGasTracker'; region_df_touse = region_df_orig.loc[region_df_orig.EuroGasTracker=='Yes']\n",
    "#region_name = 'AfricaGasTracker'; region_df_touse = region_df_orig.loc[region_df_orig.AfricaGasTracker=='Yes']\n",
    "#region_df_agt.copy()"
   ]
  },
  {
   "cell_type": "markdown",
   "id": "be182602-650c-4e77-87cd-655d5d1c9f1a",
   "metadata": {},
   "source": [
    "## name the output file based on region"
   ]
  },
  {
   "cell_type": "code",
   "execution_count": 42,
   "id": "61b0ac9a-b9aa-4cfa-a517-251ba0842cb3",
   "metadata": {},
   "outputs": [],
   "source": [
    "excel_writer = pandas.ExcelWriter(region_name+'-LNG-Terminals-SummarySheets-'+current_time+'.xlsx')"
   ]
  },
  {
   "cell_type": "code",
   "execution_count": 43,
   "id": "8922012d-4279-4f82-af18-ad78da5a9875",
   "metadata": {},
   "outputs": [
    {
     "data": {
      "text/plain": [
       "MultiIndex([(  'Africa',                 'Northern Africa'),\n",
       "            (  'Africa',              'Sub-Saharan Africa'),\n",
       "            ('Americas', 'Latin America and the Caribbean'),\n",
       "            ('Americas',                'Northern America'),\n",
       "            (    'Asia',                    'Central Asia'),\n",
       "            (    'Asia',                    'Eastern Asia'),\n",
       "            (    'Asia',              'South-eastern Asia'),\n",
       "            (    'Asia',                   'Southern Asia'),\n",
       "            (    'Asia',                    'Western Asia'),\n",
       "            (  'Europe',                  'Eastern Europe'),\n",
       "            (  'Europe',                 'Northern Europe'),\n",
       "            (  'Europe',                 'Southern Europe'),\n",
       "            (  'Europe',                  'Western Europe'),\n",
       "            ( 'Oceania',       'Australia and New Zealand'),\n",
       "            ( 'Oceania',                       'Melanesia'),\n",
       "            ( 'Oceania',                      'Micronesia'),\n",
       "            ( 'Oceania',                       'Polynesia')],\n",
       "           names=['Region', 'SubRegion'])"
      ]
     },
     "execution_count": 43,
     "metadata": {},
     "output_type": "execute_result"
    }
   ],
   "source": [
    "region_df_touse_cleaned = region_df_touse.loc[(region_df_touse.Region!='--')&\n",
    "                                            (region_df_touse.SubRegion!='--')]\n",
    "multiindex_region_subregion = region_df_touse_cleaned.groupby(['Region','SubRegion'])['Country'].count().index\n",
    "multiindex_region_subregion"
   ]
  },
  {
   "cell_type": "markdown",
   "id": "bef25f8e",
   "metadata": {},
   "source": [
    "### create specific dataframes for region, country_ratios, owners_df"
   ]
  },
  {
   "cell_type": "code",
   "execution_count": 44,
   "id": "86f5a6e3-ce32-433f-9cf3-3f4091d4bef9",
   "metadata": {
    "tags": []
   },
   "outputs": [],
   "source": [
    "owners_df_touse = owners_df_orig.loc[owners_df_orig['Country'].isin(region_df_touse['Country'].tolist())]\n",
    "terms_df_touse = terms_df_orig.loc[terms_df_orig['Country'].isin(region_df_touse['Country'].tolist())]"
   ]
  },
  {
   "cell_type": "code",
   "execution_count": 45,
   "id": "3a6a5a10",
   "metadata": {
    "tags": []
   },
   "outputs": [],
   "source": [
    "status_list = ['Proposed', \n",
    "               'Construction', \n",
    "               'Shelved', \n",
    "               'Cancelled', \n",
    "               'Operating', \n",
    "               'Idle', \n",
    "               'Mothballed', \n",
    "               'Retired']\n",
    "country_list = sorted(set(region_df_touse['Country'].tolist()))\n",
    "region_list = sorted(set(region_df_touse['Region'].tolist()))\n",
    "subregion_list = sorted(set(region_df_touse['SubRegion'].tolist()))"
   ]
  },
  {
   "cell_type": "code",
   "execution_count": 46,
   "id": "00d19702",
   "metadata": {
    "tags": []
   },
   "outputs": [],
   "source": [
    "excel_status_list = ['Proposed', \n",
    "                     'Construction', \n",
    "                     'In Development (Proposed + Construction)', \n",
    "                     'Shelved', \n",
    "                     'Cancelled', \n",
    "                     'Operating', \n",
    "                     'Idle', \n",
    "                     'Mothballed', \n",
    "                     'Retired']\n",
    "excel_status_list_with_countries = ['Country']+excel_status_list"
   ]
  },
  {
   "cell_type": "code",
   "execution_count": 47,
   "id": "c90904c9-efc6-4142-9de7-ee21ade3f50d",
   "metadata": {},
   "outputs": [],
   "source": [
    "# regions - subregions\n",
    "#############################\n",
    "# Africa - Sub-Saharan Africa\n",
    "# Africa - Northern Africa\n",
    "# Americas - Latin America and the Caribbean\n",
    "# Americas - North America\n",
    "# Asia - Southern Asia\n",
    "# Asia - Western Asia\n",
    "# Asia - South-eastern Asia\n",
    "# Asia - East Asia\n",
    "# Asia - Central Asia\n",
    "# Europe - Southern Europe\n",
    "# Europe - Eastern Europe\n",
    "# Europe - Western Europe\n",
    "# Europe - Northern Europe\n",
    "# Oceania\t- Polynesia\n",
    "# Oceania\t- Australia and New Zealand\n",
    "# Oceania\t- Melanesia\n",
    "# Oceania\t- Micronesia"
   ]
  },
  {
   "cell_type": "markdown",
   "id": "84b0b032",
   "metadata": {},
   "source": [
    "### no. export projects by country/region, project status"
   ]
  },
  {
   "cell_type": "code",
   "execution_count": 48,
   "id": "cd7a0a24",
   "metadata": {
    "tags": []
   },
   "outputs": [
    {
     "name": "stdout",
     "output_type": "stream",
     "text": [
      "===country-level calculations===\n",
      "Proposed\n",
      "Construction\n",
      "Shelved\n",
      "Cancelled\n",
      "Operating\n",
      "Idle\n",
      "Mothballed\n",
      "Retired\n",
      "===country-level calculations===\n",
      "Proposed\n",
      "Construction\n",
      "Shelved\n",
      "Cancelled\n",
      "Operating\n",
      "Idle\n",
      "Mothballed\n",
      "Retired\n"
     ]
    }
   ],
   "source": [
    "terms_df_subset = terms_df_touse.copy()[(terms_df_touse['FacilityType']=='Export') & (terms_df_touse['Fuel']=='LNG')]\n",
    "\n",
    "nprojects_by_country = pandas.DataFrame(0, columns=status_list, index=country_list)\n",
    "nprojects_by_region = pandas.DataFrame(0, columns=status_list, index=multiindex_region_subregion)\n",
    "\n",
    "print('===country-level calculations===')\n",
    "for status in status_list:\n",
    "    print(status)\n",
    "    terms_df_subset_status = terms_df_subset.copy()[terms_df_subset['Status']==status]\n",
    "    nprojects_by_country[status] = terms_df_subset_status.groupby('Country').size()\n",
    "\n",
    "print('===country-level calculations===')\n",
    "for status in status_list:\n",
    "    print(status)\n",
    "    terms_df_subset_status = terms_df_subset.copy()[terms_df_subset['Status']==status]\n",
    "    nprojects_by_region[status] = terms_df_subset_status.groupby(['Region','SubRegion']).size()\n",
    "\n",
    "# fille NaN with 0.0\n",
    "nprojects_by_region = nprojects_by_region.fillna(0)\n",
    "nprojects_by_country = nprojects_by_country.fillna(0)\n",
    "\n",
    "nprojects_by_region['In Development (Proposed + Construction)'] = nprojects_by_region[['Proposed','Construction']].sum(axis=1)\n",
    "nprojects_by_country['In Development (Proposed + Construction)'] = nprojects_by_country[['Proposed','Construction']].sum(axis=1)\n",
    "\n",
    "nprojects_by_country = nprojects_by_country[excel_status_list]\n",
    "nprojects_by_region = nprojects_by_region[excel_status_list]\n",
    "\n",
    "nprojects_by_region.index.names = ['Region','Subregion']\n",
    "nprojects_by_country.index.name = 'Country'\n",
    "\n",
    "nprojects_by_region.loc['Total',:] = nprojects_by_region.sum(axis=0).values\n",
    "nprojects_by_country.loc['Total',:] = nprojects_by_country.sum(axis=0).values\n",
    "\n",
    "#nprojects_by_region = nprojects_by_region.loc[~(nprojects_by_region==0).all(axis=1)]\n",
    "nprojects_by_country = nprojects_by_country.loc[~(nprojects_by_country==0).all(axis=1)]\n",
    "\n",
    "nprojects_by_region.replace(0,'',inplace=True)\n",
    "nprojects_by_country.replace(0,'',inplace=True)\n",
    "\n",
    "nprojects_by_region.to_excel(excel_writer, sheet_name='LNG export projects by region')#, index=False)\n",
    "nprojects_by_country.to_excel(excel_writer, sheet_name='LNG export projects by country')#, index=False)"
   ]
  },
  {
   "cell_type": "markdown",
   "id": "d64b3a05",
   "metadata": {},
   "source": [
    "### no. import projects by country/region, project status"
   ]
  },
  {
   "cell_type": "code",
   "execution_count": 49,
   "id": "10192904",
   "metadata": {
    "tags": []
   },
   "outputs": [
    {
     "name": "stdout",
     "output_type": "stream",
     "text": [
      "===country-level calculations===\n",
      "Proposed\n",
      "Construction\n",
      "Shelved\n",
      "Cancelled\n",
      "Operating\n",
      "Idle\n",
      "Mothballed\n",
      "Retired\n",
      "===country-level calculations===\n",
      "Proposed\n",
      "Construction\n",
      "Shelved\n",
      "Cancelled\n",
      "Operating\n",
      "Idle\n",
      "Mothballed\n",
      "Retired\n"
     ]
    }
   ],
   "source": [
    "terms_df_subset = terms_df_touse.copy()[(terms_df_touse['FacilityType']=='Import') & (terms_df_touse['Fuel']=='LNG')]\n",
    "\n",
    "nprojects_by_country = pandas.DataFrame(0, columns=status_list, index=country_list)\n",
    "nprojects_by_region = pandas.DataFrame(0, columns=status_list, index=multiindex_region_subregion)\n",
    "\n",
    "print('===country-level calculations===')\n",
    "for status in status_list:\n",
    "    print(status)\n",
    "    terms_df_subset_status = terms_df_subset.copy()[terms_df_subset['Status']==status]\n",
    "    nprojects_by_country[status] = terms_df_subset_status.groupby('Country').size()\n",
    "\n",
    "print('===country-level calculations===')\n",
    "for status in status_list:\n",
    "    print(status)\n",
    "    terms_df_subset_status = terms_df_subset.copy()[terms_df_subset['Status']==status]\n",
    "    nprojects_by_region[status] = terms_df_subset_status.groupby(['Region','SubRegion']).size()\n",
    "\n",
    "# fille NaN with 0.0\n",
    "nprojects_by_region = nprojects_by_region.fillna(0)\n",
    "nprojects_by_country = nprojects_by_country.fillna(0)\n",
    "\n",
    "nprojects_by_region['In Development (Proposed + Construction)'] = nprojects_by_region[['Proposed','Construction']].sum(axis=1)\n",
    "nprojects_by_country['In Development (Proposed + Construction)'] = nprojects_by_country[['Proposed','Construction']].sum(axis=1)\n",
    "\n",
    "nprojects_by_country = nprojects_by_country[excel_status_list]\n",
    "nprojects_by_region = nprojects_by_region[excel_status_list]\n",
    "\n",
    "nprojects_by_region.index.names = ['Region','Subregion']\n",
    "nprojects_by_country.index.name = 'Country'\n",
    "\n",
    "nprojects_by_region.loc['Total',:] = nprojects_by_region.sum(axis=0).values\n",
    "nprojects_by_country.loc['Total',:] = nprojects_by_country.sum(axis=0).values\n",
    "\n",
    "#nprojects_by_region = nprojects_by_region.loc[~(nprojects_by_region==0).all(axis=1)]\n",
    "nprojects_by_country = nprojects_by_country.loc[~(nprojects_by_country==0).all(axis=1)]\n",
    "\n",
    "nprojects_by_region.replace(0,'',inplace=True)\n",
    "nprojects_by_country.replace(0,'',inplace=True)\n",
    "\n",
    "nprojects_by_region.to_excel(excel_writer, sheet_name='LNG import projects by region')#, index=False)\n",
    "nprojects_by_country.to_excel(excel_writer, sheet_name='LNG import projects by country')#, index=False)"
   ]
  },
  {
   "cell_type": "markdown",
   "id": "4991b0f7",
   "metadata": {},
   "source": [
    "### capacity (mtpa) of import projects by country/region, project status"
   ]
  },
  {
   "cell_type": "code",
   "execution_count": 50,
   "id": "b9c86827",
   "metadata": {
    "tags": []
   },
   "outputs": [
    {
     "name": "stdout",
     "output_type": "stream",
     "text": [
      "===country-level calculations===\n",
      "Proposed\n",
      "Construction\n",
      "Shelved\n",
      "Cancelled\n",
      "Operating\n",
      "Idle\n",
      "Mothballed\n",
      "Retired\n",
      "===country-level calculations===\n",
      "Proposed\n",
      "Construction\n",
      "Shelved\n",
      "Cancelled\n",
      "Operating\n",
      "Idle\n",
      "Mothballed\n",
      "Retired\n"
     ]
    }
   ],
   "source": [
    "terms_df_subset = terms_df_touse.copy()[(terms_df_touse['FacilityType']=='Import') & (terms_df_touse['Fuel']=='LNG')]\n",
    "\n",
    "cap_by_country = pandas.DataFrame(0, columns=status_list, index=country_list)\n",
    "cap_by_region = pandas.DataFrame(0, columns=status_list, index=multiindex_region_subregion)\n",
    "\n",
    "print('===country-level calculations===')\n",
    "for status in status_list:\n",
    "    print(status)\n",
    "    terms_df_subset_status = terms_df_subset.copy()[terms_df_subset['Status']==status]\n",
    "    cap_by_country[status] = terms_df_subset_status.groupby('Country')['CapacityInMtpa'].sum()\n",
    "\n",
    "print('===country-level calculations===')\n",
    "for status in status_list:\n",
    "    print(status)\n",
    "    terms_df_subset_status = terms_df_subset.copy()[terms_df_subset['Status']==status]\n",
    "    cap_by_region[status] = terms_df_subset_status.groupby(['Region','SubRegion'])['CapacityInMtpa'].sum()\n",
    "\n",
    "#fille NaN with 0.0\n",
    "cap_by_region = cap_by_region.fillna(0)\n",
    "cap_by_country = cap_by_country.fillna(0)\n",
    "\n",
    "cap_by_region['In Development (Proposed + Construction)'] = cap_by_region[['Proposed','Construction']].sum(axis=1)\n",
    "cap_by_country['In Development (Proposed + Construction)'] = cap_by_country[['Proposed','Construction']].sum(axis=1)\n",
    "\n",
    "cap_by_country = cap_by_country[excel_status_list]\n",
    "cap_by_region = cap_by_region[excel_status_list]\n",
    "\n",
    "cap_by_region.index.names = ['Region','Subregion']\n",
    "cap_by_country.index.name = 'Country'\n",
    "\n",
    "cap_by_region.loc['Total',:] = cap_by_region.sum(axis=0).values\n",
    "cap_by_country.loc['Total',:] = cap_by_country.sum(axis=0).values\n",
    "\n",
    "#cap_by_region = cap_by_region.loc[~(cap_by_region==0).all(axis=1)]\n",
    "cap_by_country = cap_by_country.loc[~(cap_by_country==0).all(axis=1)]\n",
    "\n",
    "cap_by_region.replace(0,'',inplace=True)\n",
    "cap_by_country.replace(0,'',inplace=True)\n",
    "\n",
    "cap_by_region.to_excel(excel_writer, 'LNG import capacity by region')\n",
    "cap_by_country.to_excel(excel_writer, 'LNG import capacity by country')"
   ]
  },
  {
   "cell_type": "markdown",
   "id": "1f468ea6",
   "metadata": {},
   "source": [
    "### capacity (mtpa) of export projects by country/region, project status"
   ]
  },
  {
   "cell_type": "code",
   "execution_count": 51,
   "id": "68176611",
   "metadata": {
    "tags": []
   },
   "outputs": [
    {
     "name": "stdout",
     "output_type": "stream",
     "text": [
      "===country-level calculations===\n",
      "Proposed\n",
      "Construction\n",
      "Shelved\n",
      "Cancelled\n",
      "Operating\n",
      "Idle\n",
      "Mothballed\n",
      "Retired\n",
      "===country-level calculations===\n",
      "Proposed\n",
      "Construction\n",
      "Shelved\n",
      "Cancelled\n",
      "Operating\n",
      "Idle\n",
      "Mothballed\n",
      "Retired\n"
     ]
    }
   ],
   "source": [
    "terms_df_subset = terms_df_touse.copy()[(terms_df_touse['FacilityType']=='Export') & (terms_df_touse['Fuel']=='LNG')]\n",
    "\n",
    "cap_by_country = pandas.DataFrame(0, columns=status_list, index=country_list)\n",
    "cap_by_region = pandas.DataFrame(0, columns=status_list, index=multiindex_region_subregion)\n",
    "\n",
    "print('===country-level calculations===')\n",
    "for status in status_list:\n",
    "    print(status)\n",
    "    terms_df_subset_status = terms_df_subset.copy()[terms_df_subset['Status']==status]\n",
    "    cap_by_country[status] = terms_df_subset_status.groupby('Country')['CapacityInMtpa'].sum()\n",
    "\n",
    "print('===country-level calculations===')\n",
    "for status in status_list:\n",
    "    print(status)\n",
    "    terms_df_subset_status = terms_df_subset.copy()[terms_df_subset['Status']==status]\n",
    "    cap_by_region[status] = terms_df_subset_status.groupby(['Region','SubRegion'])['CapacityInMtpa'].sum()\n",
    "\n",
    "#fille NaN with 0.0\n",
    "cap_by_region = cap_by_region.fillna(0)\n",
    "cap_by_country = cap_by_country.fillna(0)\n",
    "\n",
    "cap_by_region['In Development (Proposed + Construction)'] = cap_by_region[['Proposed','Construction']].sum(axis=1)\n",
    "cap_by_country['In Development (Proposed + Construction)'] = cap_by_country[['Proposed','Construction']].sum(axis=1)\n",
    "\n",
    "cap_by_country = cap_by_country[excel_status_list]\n",
    "cap_by_region = cap_by_region[excel_status_list]\n",
    "\n",
    "cap_by_region.index.names = ['Region','Subregion']\n",
    "cap_by_country.index.name = 'Country'\n",
    "\n",
    "cap_by_region.loc['Total',:] = cap_by_region.sum(axis=0).values\n",
    "cap_by_country.loc['Total',:] = cap_by_country.sum(axis=0).values\n",
    "\n",
    "#cap_by_region = cap_by_region.loc[~(cap_by_region==0).all(axis=1)]\n",
    "cap_by_country = cap_by_country.loc[~(cap_by_country==0).all(axis=1)]\n",
    "\n",
    "cap_by_region.replace(0,'',inplace=True)\n",
    "cap_by_country.replace(0,'',inplace=True)\n",
    "\n",
    "cap_by_region.to_excel(excel_writer, 'LNG export capacity by region')\n",
    "cap_by_country.to_excel(excel_writer, 'LNG export capacity by country')"
   ]
  },
  {
   "cell_type": "markdown",
   "id": "523e6211",
   "metadata": {},
   "source": [
    "## owner analysis"
   ]
  },
  {
   "cell_type": "code",
   "execution_count": 52,
   "id": "e0c74401-6348-4d07-8e2d-2d3205126925",
   "metadata": {
    "tags": []
   },
   "outputs": [
    {
     "name": "stdout",
     "output_type": "stream",
     "text": [
      "CHINA NATIONAL FRIEND INDUSTRY CORPORATION 85%, COSCO Gas Co., Ltd 15%  doesn't exist as a parent\n",
      "KUNLUN ENERGY COMPANY LIMITED 100%  doesn't exist as a parent\n",
      "Guangdong Jovo Energy Group Co., Ltd. 80.00%, Dongguan Jiufeng Energy Co., Ltd. 20.00%  doesn't exist as a parent\n",
      "CNOOC Gas and Electricity Group Co., Ltd. 33%, Pearl River Delta Investment Co., Ltd. 15%, Guangdong Investment Co., Ltd. 15%, Shenzhen Gas Group Co., Ltd. 10%, Guangzhou Development Gas Investment Co., Ltd. 6%, Guangdong Energy Group Natural Gas Co., Ltd. 6%, Shenzhen Energy and Gas Investment Holding Co., Ltd. 4%,Hong Kong Electric (Gas) Co., Ltd. 3%, Ganghua Investment Co.,Ltd. 3%, Dongguan Xin'ao Gas Co., Ltd.2.5%, Foshan Huahaoneng Energy Investment Co., Ltd. 2.5%  doesn't exist as a parent\n",
      "CNOOC Gas and Electricity Group Co., Ltd. 30.00%, Guangzhou Development Gas Investment Co., Ltd. 25.00%, Guangdong Energy Group Natural Gas Co., Ltd. 25.00%, Guangdong Yue-Hong Kong Energy Development Co., Ltd. 8.00%, Jiangmen Urban Construction Group Co., Ltd. 3.00%, Zhuhai Special Economic Zone Electric Power Development Group Co., Ltd. 3.00%, Zhongshan Xingzhong Energy Development Co., Ltd. 3.00%, Foshan Huatuoneng Energy Investment Co., Ltd. 3.00%.  doesn't exist as a parent\n",
      "Kunlun Energy Co., Ltd.   doesn't exist as a parent\n",
      "Zhongxing Tianheng Energy Technology (Beijing) Co., Ltd.55%, Chaozhou Huafeng Group Co., Ltd. 45%  doesn't exist as a parent\n",
      "Huaying Investment Holding Group Co., Ltd. 95.73%, Ningbo Huaying Dingxing Equity Investment Partnership (Limited Partnership) 3.30%, Zhuhai Huachang Investment Co., Ltd. 0.97%.  doesn't exist as a parent\n",
      "Guangdong Energy Group Natural Gas Co., Ltd. 35.1%, Guangdong Jovo Energy Group Co., Ltd. 30%, Foran Energy Group Co., Ltd. 19.9%, Taishan Dawan Enterprise Management Co., Ltd. 10%, Jiangmen Urban Construction Investment Group Co., Ltd. 5%  doesn't exist as a parent\n",
      "Ningxia Hanas LNG Co., Ltd.  doesn't exist as a parent\n",
      "Macau Natural Gas Co., Ltd.  doesn't exist as a parent\n",
      "Guangdong Eenrgy Group Co.,Ltd.  doesn't exist as a parent\n",
      "Guangdong Energy Group Natural Gas Co., Ltd. 51%, Shantou Sailuo Energy Co., Ltd. 41%, Shantou Yuexin Asset Investment Co., Ltd. 8%  doesn't exist as a parent\n",
      "Pacific Energy Co., Ltd. 50%, Guangdong Energy Group Natural Gas Co., Ltd. 50%  doesn't exist as a parent\n",
      "Guangzhou Development Gas Investment Co., Ltd. 51%, GCL LNG (Maoming) Co., Ltd. 48%, Maoming Port Group Co., Ltd. 1%  doesn't exist as a parent\n",
      "China National Petroleum Corporation (CNPC).  doesn't exist as a parent\n",
      "Beijing Jingneng Oil & Gas Resources Development Co., Ltd. 51%, Tangshan Caofeidian Development & Investment Group Co., Ltd. 49%  doesn't exist as a parent\n",
      "CLP Power Hong Kong Limited (CLP Power) 49%, Hongkong Electric Co., Ltd. 30%, China Southern Power Grid International (HK) Co., Limited.  doesn't exist as a parent\n",
      "Yueyang Junshan District Urban Construction Investment Co., Ltd  doesn't exist as a parent\n",
      "Qingdao Zhongtian Energy Group Co., Ltd. 50.03%, Yingtan Tianbo Hongsheng Investment Center (Limited Partnership) 19.98%, Zhang Yang 12.99%, Huaxin Century Investment Group Co., Ltd. 10.01%, Wuxi Harbor Energy Co., Ltd. 6.99%.  doesn't exist as a parent\n",
      "Jiangsu Xingqi Investment Co., Ltd. 80.00%, Jiangsu Yangkou Port Construction and Development Group Co., Ltd. 20.00%.  doesn't exist as a parent\n",
      "Ningxia Hanas Natural Gas Group Co., Ltd.  doesn't exist as a parent\n",
      "Jiangsu Guoxin Group Co., Ltd. 51% Zhenhua Petroleum Holdings Co., Ltd. 34%, Jiangsu Yangkou Port Co., Ltd. 5%.  doesn't exist as a parent\n",
      "Jiangxi Natural Gas Group Co., Ltd. 54%, Sinopec Natural Gas Co., Ltd. 46%.  doesn't exist as a parent\n",
      "Taiwan Electric Power Company  doesn't exist as a parent\n",
      "Baichuan Energy Co., 60%, Huludao Steel Pipe Industry Co., Ltd. 40%  doesn't exist as a parent\n",
      "CCCC Urban and Rural Energy Co., Ltd. 75%, Sheneng (Yingkou) LNG Co., Ltd. 25%  doesn't exist as a parent\n",
      "Petronas [80.00%]; Government of Sarawak [10.00%]; Mitsubishi [10.00%]\n",
      "['Petronas', 'Government of Sarawak', 'Mitsubishi']\n",
      "['Petronas', 'Government of Sarawak', 'Mitsubishi']\n",
      "['Petronas', 'Government of Sarawak', 'Mitsubishi']\n",
      "Petronas [80.00%]; Government of Sarawak [10.00%]; Mitsubishi [10.00%]\n",
      "['Petronas', 'Government of Sarawak', 'Mitsubishi']\n",
      "['Petronas', 'Government of Sarawak', 'Mitsubishi']\n",
      "['Petronas', 'Government of Sarawak', 'Mitsubishi']\n",
      "Petronas [80.00%]; Government of Sarawak [10.00%]; Mitsubishi [10.00%]\n",
      "['Petronas', 'Government of Sarawak', 'Mitsubishi']\n",
      "['Petronas', 'Government of Sarawak', 'Mitsubishi']\n",
      "['Petronas', 'Government of Sarawak', 'Mitsubishi']\n",
      "China Urban and Rural Construction Development Co., Ltd., (中国城乡控股集团有限公司) 34.8%, Shandong Port Group Co., Ltd, (山东省港口集团有限公司) 15%, Shandong petroleum & gas joint stock co.,Ltd.,(山东石油天然气股份有限公司) 10.2%, GCL-Poly Oil and Gas (Yantai) Holdings Co., Ltd.保利协鑫石油天然气（烟台）控股有限公司 21%, Yantai Yindu Industry Co.,Ltd (烟台银都实业有限公司) 19%.  doesn't exist as a parent\n",
      "National Oil and Gas Pipeline Group Co., Ltd. 60% , Nanshan Group Co., Ltd. 40%  doesn't exist as a parent\n",
      "China Petrochemical Corporation 50%, Shandong Getai Investment Co., Ltd. 30%,  Yantai Port Co., Ltd. 20%  doesn't exist as a parent\n",
      "China Huadian Corporation  doesn't exist as a parent\n",
      "Shenergy Company Limited 50%, Shanghai Gas (Group) Co., Ltd. 50%  doesn't exist as a parent\n",
      "China Petroleum and Chemical Corporation Limited 98%, Tianjin Economic and Technological Development Area State-owned Assets Management Co., Ltd 2%  doesn't exist as a parent\n",
      "National Oil and Gas Pipeline Group Co., Ltd. 46%, Tianjin Port (Group) Co., Ltd. 40%, Tianjin State-owned Capital Investment and Operation Co., Ltd. 9%, Tianjin Hengrongda Technology Co., Ltd. 5%.  doesn't exist as a parent\n",
      "Formosa Plastics Corp.(FPC), Nan-Ta Plastics Corp.(NPC), Formosa Chemical-Fiber Corp.(FCFC) and Formosa Petrochemical Corp.(FPCC)  doesn't exist as a parent\n",
      "Shenergy Group 60%, Zhejiang Natural Gas Group 20%, CNOOC Gas & Power Group 20%  doesn't exist as a parent\n",
      "CNOOC Gas and Electricity Group Co., Ltd. 40%, Zhejiang Energy and Natural Gas Group Co., Ltd. 40%, Ningbo Development Investment Group Co., Ltd. 20%.  doesn't exist as a parent\n",
      "ENN Natural Gas Co., Ltd.  doesn't exist as a parent\n",
      "Huafeng Group Co., Ltd.  doesn't exist as a parent\n",
      "Jiaxing Chengran Equity Investment Partnership (Limited Partnership) 40%, Tibet Runjue Electric Energy Co., Ltd. 30%, Tibet Jimano Energy Co., Ltd. 30%.  doesn't exist as a parent\n",
      "Maoyi Industrial (Shanghai) Co., Ltd. 81.58%, China Trade Investment (Beijing) International Trade Co., Ltd. 18.05%, Beijing Zilianzi Trading Co., Ltd. 0.37%  doesn't exist as a parent\n"
     ]
    }
   ],
   "source": [
    "# this cell takes the terminals data set (call it \"terms_df_all\", here we're using the indev terminals subset)\n",
    "# and loops throw every row, breaks up the parent and % ownership strings,\n",
    "# and outputs a dataframe owner_parent_calculations_df that has a bunch of different useful info related\n",
    "# to parent shares, capacity, etc.\n",
    "owner_parent_calculations_df = pandas.DataFrame() # empty df for storing owner/parent stuff\n",
    "\n",
    "for idx,row in terms_df_touse.loc[terms_df_touse.Fuel=='LNG'].iterrows():\n",
    "    parent_string = row.Parent #.values[0]\n",
    "    if row.TerminalID=='T0292':\n",
    "        print(parent_string)\n",
    "\n",
    "    # the two lines below go through the parent entries in the sheet and split them,\n",
    "    # recording the percents and parents in separate lists, to be dealt with later\n",
    "    parent_list = re.sub(' \\[.*?\\]', '', parent_string).split('; ') # all entries must have an \"Owner [%]\" syntax, so [unknown %] is included\n",
    "    percent_list = [float(i.rstrip('%'))/100. for i in re.findall('\\\\d+(?:\\\\.\\\\d+)?%', parent_string)]\n",
    "\n",
    "    # if there are fewer recorded percents than number of parents\n",
    "    if parent_list.__len__()!=percent_list.__len__():\n",
    "        # if there are no percents, make them all equal\n",
    "        \n",
    "        if percent_list==[]:\n",
    "            percent_list = [1/parent_list.__len__() for i in parent_list]\n",
    "        # otherwise, get the difference and distribute the remainder equally among remaining parents\n",
    "        else:\n",
    "            #print(row.ComboID)\n",
    "            nmissing = parent_list.__len__()-percent_list.__len__()\n",
    "            # distribute nans evenly\n",
    "            total = numpy.nansum(percent_list)\n",
    "            leftover = 1-total\n",
    "            percent_list += [leftover/nmissing]*nmissing\n",
    "            #print(numpy.array(percent_list).sum())\n",
    "\n",
    "    # now go through each parent and associated percent ownership\n",
    "    # and store it alongside the project's name along with capacity, status, region, etc.\n",
    "    # this is stored inside the big dataframe owner_parent_calculations_df\n",
    "    for p_idx,parent in enumerate(parent_list):\n",
    "        if row.TerminalID=='T0292':\n",
    "            print(parent_list)\n",
    "        # this if statement should not really be used\n",
    "        if parent not in parent_metadata_df.index.to_list():\n",
    "            print(parent, \" doesn't exist as a parent\")\n",
    "            parent_metadata_df.loc[parent,'ParentHQCountry']='unknown'\n",
    "        owner_parent_calculations_df = pandas.concat([owner_parent_calculations_df, \n",
    "                                                      pandas.DataFrame([{'Parent':parent, 'ComboID':row.ComboID,\n",
    "                                                                         'TerminalID':row.TerminalID,\n",
    "                                                                         'FractionOwnership':percent_list[p_idx],\n",
    "                                                                         'PercentString':'{:.2f}%'.format(percent_list[p_idx]*100),\n",
    "                                                                         'ParentHQCountry':parent_metadata_df.loc[parent_metadata_df.index==parent]['ParentHQCountry'].values[0],\n",
    "                                                                         'ParentHQRegion':parent_metadata_df.loc[parent_metadata_df.index==parent]['ParentHQRegion'].values[0],\n",
    "                                                                         'TerminalCountry':row.Country,\n",
    "                                                                         'TerminalRegion':row.Region,\n",
    "                                                                         'Status':row.Status,\n",
    "                                                                         'FacilityType':row['FacilityType'],\n",
    "                                                                         'CapacityInMtpa':row.CapacityInMtpa,\n",
    "                                                                         'ProjectWiki':row.Wiki,\n",
    "                                                                         'ProjectName':row.TerminalName+' '+str(row.UnitName)}])])\n",
    "\n",
    "owner_parent_calculations_df.reset_index(drop=True, inplace=True)\n",
    "owner_parent_calculations_df['CapacityOwnedInMtpa'] = owner_parent_calculations_df.FractionOwnership*owner_parent_calculations_df.CapacityInMtpa\n",
    "owner_parent_calculations_df['ParentCapacityString'] = owner_parent_calculations_df.Parent + ' (' + owner_parent_calculations_df.CapacityOwnedInMtpa.round(1).astype(str).replace('nan','unknown') + ' mtpa)'"
   ]
  },
  {
   "cell_type": "raw",
   "id": "c6b75941-2b7a-4a9a-a346-8b017b1063b2",
   "metadata": {},
   "source": [
    "owner_parent_calculations_df.loc[owner_parent_calculations_df.TerminalID=='T0292'].groupby(\n",
    "    ['Parent','ParentHQCountry','ComboID','Status']).agg({'Status':['count']}).unstack().droplevel(axis=1, level=[0,1])"
   ]
  },
  {
   "cell_type": "markdown",
   "id": "2e486d57-86e8-499a-a483-847bf29fec83",
   "metadata": {},
   "source": [
    "### nprojects export by parent company, project status"
   ]
  },
  {
   "cell_type": "raw",
   "id": "16ed3602-45af-4cd1-ac7c-63788d6cb747",
   "metadata": {},
   "source": [
    "# owners_nprojects_by_status_df = \\\n",
    "#     owner_parent_calculations_df.loc[owner_parent_calculations_df['FacilityType']=='Export'].groupby(\n",
    "#     ['Parent','ParentHQCountry','Status']).agg({'Status':['count']}).unstack().droplevel(axis=1, level=[0,1])\n",
    "\n",
    "owners_nprojects_by_status_df = \\\n",
    "    owner_parent_calculations_df.loc[owner_parent_calculations_df['FacilityType']=='Export'].groupby(\n",
    "    ['Parent','ParentHQCountry','Status'])[['FractionOwnership']].sum().unstack().droplevel(axis=1, level=[0])\n",
    "#.agg({'Status':['count']}).unstack().droplevel(axis=1, level=[0,1])\n",
    "\n",
    "# owners_nprojects_by_status_df.loc['Total',:] = owners_nprojects_by_status_df.sum(axis=0, min_count=0).values\n",
    "#owners_nprojects_by_status_df.loc['Total','Country'] = ''\n",
    "owners_nprojects_by_status_df"
   ]
  },
  {
   "cell_type": "code",
   "execution_count": 53,
   "id": "185fe852-9b27-4231-b430-22a02f44afb5",
   "metadata": {
    "tags": []
   },
   "outputs": [],
   "source": [
    "owners_nprojects_by_status_df = \\\n",
    "    owner_parent_calculations_df.loc[owner_parent_calculations_df['FacilityType']=='Export'].groupby(\n",
    "    ['Parent','ParentHQCountry','Status'])[['FractionOwnership']].sum().unstack().droplevel(axis=1, level=[0])\n",
    "\n",
    "owners_nprojects_by_status_df = owners_nprojects_by_status_df.reindex(columns=status_list)\n",
    "owners_nprojects_by_status_df = owners_nprojects_by_status_df.reset_index().set_index('Parent')\n",
    "owners_nprojects_by_status_df.columns.name = None\n",
    "\n",
    "owners_nprojects_by_status_df['In Development (Proposed + Construction)'] = owners_nprojects_by_status_df[['Proposed','Construction']].sum(axis=1)\n",
    "\n",
    "owners_nprojects_by_status_df = owners_nprojects_by_status_df.rename(columns={'Parent':'Parent Company',\n",
    "                                                                          'ParentHQCountry':'Country'})\n",
    "# rearrange the order of the columns for output\n",
    "owners_nprojects_by_status_df = owners_nprojects_by_status_df[excel_status_list_with_countries]\n",
    "\n",
    "# totals_row = owners_nprojects_by_status_df.sum(axis=0, min_count=0)\n",
    "# totals_row.name = 'Total'\n",
    "# owners_nprojects_by_status_df = owners_nprojects_by_status_df.append(totals_row)\n",
    "owners_nprojects_by_status_df.loc['Total',:] = owners_nprojects_by_status_df.sum(axis=0, min_count=0).values\n",
    "owners_nprojects_by_status_df.loc['Total','Country'] = ''\n",
    "\n",
    "owners_nprojects_by_status_df = owners_nprojects_by_status_df.replace(numpy.nan, '')\n",
    "owners_nprojects_by_status_df = owners_nprojects_by_status_df.replace(0, '')\n",
    "\n",
    "owners_nprojects_by_status_df.to_excel(excel_writer, 'LNG export projects by owner')"
   ]
  },
  {
   "cell_type": "markdown",
   "id": "9d062da1",
   "metadata": {},
   "source": [
    "### nprojects import by parent company, project status"
   ]
  },
  {
   "cell_type": "code",
   "execution_count": 54,
   "id": "a5152e27-89d0-4536-82d2-51e8accc925c",
   "metadata": {
    "tags": []
   },
   "outputs": [],
   "source": [
    "owners_nprojects_by_status_df = \\\n",
    "    owner_parent_calculations_df.loc[owner_parent_calculations_df['FacilityType']=='Import'].groupby(\n",
    "    ['Parent','ParentHQCountry','Status'])[['FractionOwnership']].sum().unstack().droplevel(axis=1, level=[0])\n",
    "\n",
    "owners_nprojects_by_status_df = owners_nprojects_by_status_df.reindex(columns=status_list)\n",
    "owners_nprojects_by_status_df = owners_nprojects_by_status_df.reset_index().set_index('Parent')\n",
    "owners_nprojects_by_status_df.columns.name = None\n",
    "\n",
    "owners_nprojects_by_status_df['In Development (Proposed + Construction)'] = owners_nprojects_by_status_df[['Proposed','Construction']].sum(axis=1)\n",
    "\n",
    "owners_nprojects_by_status_df = owners_nprojects_by_status_df.rename(columns={'Parent':'Parent Company',\n",
    "                                                                          'ParentHQCountry':'Country'})\n",
    "# rearrange the order of the columns for output\n",
    "owners_nprojects_by_status_df = owners_nprojects_by_status_df[excel_status_list_with_countries]\n",
    "\n",
    "# totals_row = owners_nprojects_by_status_df.sum(axis=0, min_count=0)\n",
    "# totals_row.name = 'Total'\n",
    "# owners_nprojects_by_status_df = owners_nprojects_by_status_df.append(totals_row)\n",
    "owners_nprojects_by_status_df.loc['Total',:] = owners_nprojects_by_status_df.sum(axis=0, min_count=0).values\n",
    "owners_nprojects_by_status_df.loc['Total','Country'] = ''\n",
    "\n",
    "owners_nprojects_by_status_df = owners_nprojects_by_status_df.replace(numpy.nan, '')\n",
    "owners_nprojects_by_status_df = owners_nprojects_by_status_df.replace(0, '')\n",
    "\n",
    "owners_nprojects_by_status_df.to_excel(excel_writer, 'LNG import projects by owner')"
   ]
  },
  {
   "cell_type": "markdown",
   "id": "eaf257f5",
   "metadata": {},
   "source": [
    "### capacity export by parent company, project status"
   ]
  },
  {
   "cell_type": "code",
   "execution_count": 55,
   "id": "190e14a6-980a-4ef6-ae1b-145c44c74a62",
   "metadata": {
    "tags": []
   },
   "outputs": [],
   "source": [
    "owners_capacity_by_status_df = \\\n",
    "    owner_parent_calculations_df.loc[owner_parent_calculations_df['FacilityType']=='Export'].groupby(\n",
    "    ['Parent','ParentHQCountry','Status']).agg({'CapacityOwnedInMtpa':['sum']}).unstack().droplevel(axis=1, level=[0,1])\n",
    "\n",
    "owners_capacity_by_status_df = owners_capacity_by_status_df.reindex(columns=status_list)\n",
    "owners_capacity_by_status_df = owners_capacity_by_status_df.reset_index().set_index('Parent')\n",
    "owners_capacity_by_status_df.columns.name = None\n",
    "\n",
    "owners_capacity_by_status_df['In Development (Proposed + Construction)'] = owners_capacity_by_status_df[['Proposed','Construction']].sum(axis=1)\n",
    "\n",
    "owners_capacity_by_status_df = owners_capacity_by_status_df.rename(columns={'Parent':'Parent Company',\n",
    "                                                                          'ParentHQCountry':'Country'})\n",
    "# rearrange the order of the columns for output\n",
    "owners_capacity_by_status_df = owners_capacity_by_status_df[excel_status_list_with_countries]\n",
    "\n",
    "# totals_row = owners_capacity_by_status_df.sum(axis=0, min_count=0)\n",
    "# totals_row.name = 'Total'\n",
    "# owners_capacity_by_status_df = owners_capacity_by_status_df.append(totals_row)\n",
    "owners_capacity_by_status_df.loc['Total',:] = owners_capacity_by_status_df.sum(axis=0, min_count=0).values\n",
    "owners_capacity_by_status_df.loc['Total','Country'] = ''\n",
    "\n",
    "owners_capacity_by_status_df = owners_capacity_by_status_df.replace(numpy.nan, '')\n",
    "owners_capacity_by_status_df = owners_capacity_by_status_df.replace(0, '')\n",
    "\n",
    "owners_capacity_by_status_df.to_excel(excel_writer, 'LNG export capacity by owner')"
   ]
  },
  {
   "cell_type": "markdown",
   "id": "ac6ec1d8",
   "metadata": {},
   "source": [
    "### capacity import by parent company, project status"
   ]
  },
  {
   "cell_type": "code",
   "execution_count": 56,
   "id": "5b8cfe75",
   "metadata": {},
   "outputs": [],
   "source": [
    "owners_capacity_by_status_df = \\\n",
    "    owner_parent_calculations_df.loc[owner_parent_calculations_df['FacilityType']=='Import'].groupby(\n",
    "    ['Parent','ParentHQCountry','Status']).agg({'CapacityOwnedInMtpa':['sum']}).unstack().droplevel(axis=1, level=[0,1])\n",
    "\n",
    "owners_capacity_by_status_df = owners_capacity_by_status_df.reindex(columns=status_list)\n",
    "owners_capacity_by_status_df = owners_capacity_by_status_df.reset_index().set_index('Parent')\n",
    "owners_capacity_by_status_df.columns.name = None\n",
    "\n",
    "owners_capacity_by_status_df['In Development (Proposed + Construction)'] = owners_capacity_by_status_df[['Proposed','Construction']].sum(axis=1)\n",
    "\n",
    "owners_capacity_by_status_df = owners_capacity_by_status_df.rename(columns={'Parent':'Parent Company',\n",
    "                                                                          'ParentHQCountry':'Country'})\n",
    "# rearrange the order of the columns for output\n",
    "owners_capacity_by_status_df = owners_capacity_by_status_df[excel_status_list_with_countries]\n",
    "\n",
    "# totals_row = owners_capacity_by_status_df.sum(axis=0, min_count=0)\n",
    "# totals_row.name = 'Total'\n",
    "# owners_capacity_by_status_df = owners_capacity_by_status_df.append(totals_row)\n",
    "owners_capacity_by_status_df.loc['Total',:] = owners_capacity_by_status_df.sum(axis=0, min_count=0).values\n",
    "owners_capacity_by_status_df.loc['Total','Country'] = ''\n",
    "\n",
    "owners_capacity_by_status_df = owners_capacity_by_status_df.replace(numpy.nan, '')\n",
    "owners_capacity_by_status_df = owners_capacity_by_status_df.replace(0, '')\n",
    "\n",
    "owners_capacity_by_status_df.to_excel(excel_writer, 'LNG import capacity by owner')"
   ]
  },
  {
   "cell_type": "markdown",
   "id": "041572d7",
   "metadata": {},
   "source": [
    "### no. of operating terminals by start year, facility type (1980–2023)"
   ]
  },
  {
   "cell_type": "code",
   "execution_count": 57,
   "id": "22d0fc86",
   "metadata": {},
   "outputs": [],
   "source": [
    "year_indices = list(range(1980,2024))\n",
    "\n",
    "terms_by_start_year_df = pandas.DataFrame(0.0, index=year_indices, columns=['Import terminals', 'Export terminals'])\n",
    "\n",
    "terms_started_df = terms_df_touse[(terms_df_touse['Status'].isin(['Operating'])) &\n",
    "                              (terms_df_touse['Fuel']=='LNG') & (terms_df_touse['FacilityType']=='Import')]\n",
    "terms_by_start_year_df['Import terminals'] = terms_started_df.groupby('StartYearEarliest').size()\n",
    "\n",
    "terms_started_df = terms_df_touse[(terms_df_touse['Status'].isin(['Operating'])) &\n",
    "                              (terms_df_touse['Fuel']=='LNG') & (terms_df_touse['FacilityType']=='Export')]\n",
    "terms_by_start_year_df['Export terminals'] = terms_started_df.groupby('StartYearEarliest').size()\n",
    "\n",
    "terms_by_start_year_df.index.name = 'Start year'\n",
    "\n",
    "terms_by_start_year_df.loc['Total',:] = terms_by_start_year_df.sum(axis=0).values\n",
    "\n",
    "terms_by_start_year_df.replace(numpy.nan,'',inplace=True)\n",
    "\n",
    "terms_by_start_year_df.to_excel(excel_writer, 'LNG projects by start year')"
   ]
  },
  {
   "cell_type": "markdown",
   "id": "cfbb8b08",
   "metadata": {},
   "source": [
    "### capacity of operating terminals by start year, facility type (1980–2021)"
   ]
  },
  {
   "cell_type": "code",
   "execution_count": 58,
   "id": "99aef37b",
   "metadata": {},
   "outputs": [],
   "source": [
    "year_indices = list(range(1980,2024))\n",
    "\n",
    "capacity_by_start_year_df = pandas.DataFrame(0.0, index=year_indices, columns=['Import terminals', 'Export terminals'])\n",
    "\n",
    "terms_started_df = terms_df_touse.loc[(terms_df_touse['Status'].isin(['Operating'])) &\n",
    "                                      (terms_df_touse['Fuel']=='LNG') & \n",
    "                                      (terms_df_touse['FacilityType']=='Import')]\n",
    "capacity_by_start_year_df['Import terminals'] = terms_started_df.groupby('StartYearEarliest')['CapacityInMtpa'].sum()\n",
    "\n",
    "terms_started_df = terms_df_touse.loc[(terms_df_touse['Status'].isin(['Operating'])) &\n",
    "                                      (terms_df_touse['Fuel']=='LNG') & \n",
    "                                      (terms_df_touse['FacilityType']=='Export')]\n",
    "capacity_by_start_year_df['Export terminals'] = terms_started_df.groupby('StartYearEarliest')['CapacityInMtpa'].sum(min_count=0)\n",
    "\n",
    "capacity_by_start_year_df.loc['Total',:] = capacity_by_start_year_df.sum(axis=0).values\n",
    "\n",
    "capacity_by_start_year_df.index.name = 'Start year'\n",
    "capacity_by_start_year_df.replace(numpy.nan,'',inplace=True)\n",
    "\n",
    "# totals_row = capacity_by_start_year_df.sum(axis=0)\n",
    "# totals_row.name = 'Total'\n",
    "# capacity_by_start_year_df = capacity_by_start_year_df.append(totals_row)\n",
    "\n",
    "capacity_by_start_year_df.to_excel(excel_writer, 'LNG capacity by start year')"
   ]
  },
  {
   "cell_type": "markdown",
   "id": "8b0e0211-e0f5-4017-af57-cd8f7db9f852",
   "metadata": {},
   "source": [
    "# cost info"
   ]
  },
  {
   "cell_type": "code",
   "execution_count": null,
   "id": "f3dd9a41-42df-4659-83bc-cf1d5893f4ff",
   "metadata": {},
   "outputs": [],
   "source": []
  },
  {
   "cell_type": "code",
   "execution_count": null,
   "id": "4fc93b46-999e-46e4-953b-fb5960053c45",
   "metadata": {},
   "outputs": [],
   "source": []
  },
  {
   "cell_type": "code",
   "execution_count": null,
   "id": "9b4ea62d-0ea3-493b-aa50-a18a2c80868b",
   "metadata": {},
   "outputs": [],
   "source": []
  },
  {
   "cell_type": "code",
   "execution_count": null,
   "id": "a8a4d3fa-64e5-4e78-829c-dad43783eaaf",
   "metadata": {},
   "outputs": [],
   "source": []
  },
  {
   "cell_type": "code",
   "execution_count": null,
   "id": "c4c7470b-0a0e-4a8b-9b86-074c73a8e8b7",
   "metadata": {},
   "outputs": [],
   "source": []
  },
  {
   "cell_type": "markdown",
   "id": "f0f7040c-9f5f-47ae-b9d9-f764ac12fb00",
   "metadata": {},
   "source": [
    "# save excel file"
   ]
  },
  {
   "cell_type": "code",
   "execution_count": 59,
   "id": "d1d4070d-1166-476f-b769-bfd6b5845d49",
   "metadata": {},
   "outputs": [],
   "source": [
    "excel_writer.close()"
   ]
  },
  {
   "cell_type": "code",
   "execution_count": 60,
   "id": "7d25b18d-c7d9-45f2-8360-d54a9ddb2802",
   "metadata": {},
   "outputs": [
    {
     "name": "stdout",
     "output_type": "stream",
     "text": [
      "2024-03-04_T114647\n"
     ]
    }
   ],
   "source": [
    "print(current_time)"
   ]
  },
  {
   "cell_type": "code",
   "execution_count": null,
   "id": "613895ea-ce53-4758-99c0-c2bfe177a600",
   "metadata": {},
   "outputs": [],
   "source": []
  },
  {
   "cell_type": "markdown",
   "id": "71b9da17-e7cf-4877-b178-e3b7c8c27d28",
   "metadata": {},
   "source": [
    "# stats"
   ]
  },
  {
   "cell_type": "code",
   "execution_count": 202,
   "id": "861f985b-1933-4b51-9bd3-c460cbe2aeb1",
   "metadata": {},
   "outputs": [
    {
     "name": "stdout",
     "output_type": "stream",
     "text": [
      "151 LNG terminal projects tracked\n",
      "556.4099999999999 mtpa tracked\n"
     ]
    }
   ],
   "source": [
    "# number of projects tracked in total\n",
    "print(terms_df_touse.shape[0], 'LNG terminal projects tracked')\n",
    "print(terms_df_touse['CapacityInMtpa'].sum(), 'mtpa tracked')"
   ]
  },
  {
   "cell_type": "markdown",
   "id": "570045cc-52f5-41fc-b49b-d1354d35d223",
   "metadata": {},
   "source": [
    "## operating LNG terminals"
   ]
  },
  {
   "cell_type": "code",
   "execution_count": 203,
   "id": "2c13abc9-89e9-4340-bd37-6410c45f335e",
   "metadata": {},
   "outputs": [
    {
     "name": "stdout",
     "output_type": "stream",
     "text": [
      "56 operating LNG terminal projects tracked\n"
     ]
    }
   ],
   "source": [
    "print(terms_df_touse.loc[terms_df_touse.Status=='Operating'].shape[0], 'operating LNG terminal projects tracked')"
   ]
  },
  {
   "cell_type": "markdown",
   "id": "9947b976-56ae-4d55-aafc-b6983a619d39",
   "metadata": {},
   "source": [
    "## in dev LNG terminals"
   ]
  },
  {
   "cell_type": "code",
   "execution_count": 204,
   "id": "bf363531-1b6a-4b5e-873d-0634e0d39b1c",
   "metadata": {},
   "outputs": [
    {
     "name": "stdout",
     "output_type": "stream",
     "text": [
      "54 in dev LNG terminal projects tracked\n"
     ]
    }
   ],
   "source": [
    "print(terms_df_touse.loc[terms_df_touse.Status.isin(['Proposed','Construction'])].shape[0], 'in dev LNG terminal projects tracked')"
   ]
  },
  {
   "cell_type": "code",
   "execution_count": 205,
   "id": "f263cdbc-17f3-420a-b752-ea2a124ed9de",
   "metadata": {},
   "outputs": [
    {
     "name": "stdout",
     "output_type": "stream",
     "text": [
      "187.22 in dev mtpa tracked\n"
     ]
    }
   ],
   "source": [
    "print(terms_df_touse.loc[terms_df_touse.Status.isin(['Proposed','Construction'])].CapacityInMtpa.sum(), 'in dev mtpa tracked')"
   ]
  },
  {
   "cell_type": "code",
   "execution_count": null,
   "id": "12d1dd20-96cd-480a-bfda-c838f96b5443",
   "metadata": {},
   "outputs": [],
   "source": []
  },
  {
   "cell_type": "code",
   "execution_count": null,
   "id": "67ab2976-82ec-4eb4-955f-a0f0783fa86e",
   "metadata": {},
   "outputs": [],
   "source": []
  },
  {
   "cell_type": "code",
   "execution_count": null,
   "id": "60558c7b-9892-4bd8-babd-98a7039da8f7",
   "metadata": {},
   "outputs": [],
   "source": []
  }
 ],
 "metadata": {
  "kernelspec": {
   "display_name": "Python 3 (ipykernel)",
   "language": "python",
   "name": "python3"
  },
  "language_info": {
   "codemirror_mode": {
    "name": "ipython",
    "version": 3
   },
   "file_extension": ".py",
   "mimetype": "text/x-python",
   "name": "python",
   "nbconvert_exporter": "python",
   "pygments_lexer": "ipython3",
   "version": "3.11.6"
  }
 },
 "nbformat": 4,
 "nbformat_minor": 5
}
