{
 "cells": [
  {
   "cell_type": "code",
   "execution_count": 41,
   "id": "bece9d24",
   "metadata": {},
   "outputs": [],
   "source": [
    "import pygsheets # use 'pip install pygsheets'\n",
    "import numpy\n",
    "import datetime\n",
    "\n",
    "import pandas\n",
    "import geopandas\n",
    "from geopandas.tools import overlay\n",
    "\n",
    "pandas.set_option('display.max_rows', 3000)\n",
    "\n",
    "import shapely"
   ]
  },
  {
   "cell_type": "code",
   "execution_count": 27,
   "id": "5d036889",
   "metadata": {},
   "outputs": [
    {
     "data": {
      "text/plain": [
       "'0.9.0'"
      ]
     },
     "execution_count": 27,
     "metadata": {},
     "output_type": "execute_result"
    }
   ],
   "source": [
    "geopandas.__version__"
   ]
  },
  {
   "cell_type": "code",
   "execution_count": 28,
   "id": "3569adbe",
   "metadata": {},
   "outputs": [],
   "source": [
    "credentials_directory = '/Users/baird/Dropbox/_google-api/'\n",
    "gc = pygsheets.authorize(client_secret=credentials_directory+'client_secret.json')\n",
    "\n",
    "spreadsheet = gc.open_by_key('1foPLE6K-uqFlaYgLPAUxzeXfDO5wOOqE7tibNHeqTek')\n",
    "#spreadsheet[1] \"Gas Pipelines\" tab is the second index\n",
    "gas_pipes = spreadsheet[1].get_as_df()\n",
    "oil_pipes = spreadsheet[3].get_as_df()\n",
    "owners = spreadsheet[2].get_as_df()\n",
    "\n",
    "gas_pipes = gas_pipes.drop('WKTFormat', axis=1) # delete WKTFormat column\n",
    "#oil_pipes = oil_pipes.drop('WKTFormat', axis=1)"
   ]
  },
  {
   "cell_type": "code",
   "execution_count": 53,
   "id": "bdfad3e1",
   "metadata": {},
   "outputs": [],
   "source": [
    "status_in_dev = ['proposed', 'construction', 'shelved', 'operating', 'mothballed', 'cancelled', 'retired', 'idle']\n",
    "no_route_options = [\n",
    "    'Unavailable', \n",
    "    'Capacity expansion only', \n",
    "    'Bidirectionality upgrade only',\n",
    "    'Short route to add later', \n",
    "    'N/A',\n",
    "    ''\n",
    "]\n",
    "\n",
    "# filter for the statuses above in the status_in_dev list (modify as desired)\n",
    "gas_pipes = gas_pipes[gas_pipes['Status'].str.lower().isin(status_in_dev)]"
   ]
  },
  {
   "cell_type": "raw",
   "id": "abc3da14",
   "metadata": {},
   "source": [
    "oil_pipes = oil_pipes.dropna(subset=['ProjectID'])\n",
    "\n",
    "# exclude oil rows with \"don't add\" for ProjectID\n",
    "oil_pipes = oil_pipes[oil_pipes['ProjectID']!=\"don't add\"]"
   ]
  },
  {
   "cell_type": "code",
   "execution_count": 54,
   "id": "20ded46e",
   "metadata": {},
   "outputs": [],
   "source": [
    "def convert_gfit_to_linestring(coord_str, pipeline_name):\n",
    "    '''\n",
    "    Takes string from GFIT column of coordinates for a single pipeline,\n",
    "    converts that string into Shapely LineString or MultiLinestring.\n",
    "    '''\n",
    "    #print(coord_str, pipeline_name)\n",
    "    if ':' in coord_str and ';' not in coord_str:\n",
    "        # simple geometry; no branching\n",
    "        # create nested list of lists, separating on colons        \n",
    "        coord_list = coord_str.split(':')\n",
    "        coord_list_tuples = []\n",
    "        # non-branched pipeline (nested list with one level)\n",
    "        # convert nested list of lists to list of tuples\n",
    "        try:\n",
    "            for element in coord_list:\n",
    "                element_tuple = (float(element.split(',')[1]), \n",
    "                                 float(element.split(',')[0]))\n",
    "                coord_list_tuples.append(element_tuple)\n",
    "        except:\n",
    "            print(f\"Exception for {pipeline_name}; element: {element}\") # for db\n",
    "        route_conv = shapely.geometry.LineString(coord_list_tuples)\n",
    "\n",
    "    elif ':' in coord_str and ';' in coord_str:\n",
    "        # create a nested list of lists, separating on semicolons\n",
    "        coord_list = coord_str.split(';')   \n",
    "        # create a second level of nesting, separating on colons\n",
    "        coord_list = [x.split(':') for x in coord_list]\n",
    "        # branched pipeline (nested list with two levels)\n",
    "        route_conv_list_all = []\n",
    "        \n",
    "        for nested_list in coord_list:\n",
    "            coord_list_tuples = []\n",
    "            # process element\n",
    "            try:\n",
    "                for element in nested_list:\n",
    "                    element_tuple = (float(element.split(',')[1]), \n",
    "                                     float(element.split(',')[0]))\n",
    "                    coord_list_tuples.append(element_tuple)\n",
    "            except:\n",
    "                print(f\"Exception for {pipeline_name}; element: {element}\") # for db\n",
    "            # process coord_list_tuples\n",
    "            try:\n",
    "                route_conv_list = shapely.geometry.LineString(coord_list_tuples)\n",
    "                route_conv_list_all.append(route_conv_list)\n",
    "            except:\n",
    "                print(f\"Exception for {pipeline_name}; coord_list_tuples: {coord_list_tuples}\") # for db\n",
    "                pass\n",
    "            \n",
    "        route_conv = shapely.geometry.MultiLineString(route_conv_list_all)\n",
    "        \n",
    "    return route_conv"
   ]
  },
  {
   "cell_type": "code",
   "execution_count": 55,
   "id": "ce04fde6",
   "metadata": {},
   "outputs": [],
   "source": [
    "def convert_all_pipelines(df):\n",
    "    \"\"\"\n",
    "    Apply the conversion function to all pipelines in the dataframe.\n",
    "    \"\"\"\n",
    "    # create geometry column with empty strings\n",
    "    df['geometry'] = ''\n",
    "    \n",
    "    # filter to keep only pipelines with routes\n",
    "    mask_route = df['Route'].str.contains(',' or ':')\n",
    "    pipes_with_route = df.loc[mask_route]\n",
    "    \n",
    "    for row in pipes_with_route.index:\n",
    "        route_str = df.at[row, 'Route']\n",
    "        pipeline_name = df.at[row, 'PipelineName']\n",
    "        route_str_converted = convert_gfit_to_linestring(route_str, pipeline_name)\n",
    "        df.at[row, 'geometry'] = route_str_converted\n",
    "        \n",
    "#         print(df.at[row,'ProjectID'])\n",
    "#         print(pipeline_name)\n",
    "#         print(route_str_converted)\n",
    "#         print(type(route_str_converted))\n",
    "#         print()\n",
    "        \n",
    "    return df"
   ]
  },
  {
   "cell_type": "code",
   "execution_count": 56,
   "id": "4c06ca6f",
   "metadata": {},
   "outputs": [
    {
     "data": {
      "text/plain": [
       "''"
      ]
     },
     "execution_count": 56,
     "metadata": {},
     "output_type": "execute_result"
    }
   ],
   "source": [
    "gas_pipes_wkt.iloc[2227]['geometry']"
   ]
  },
  {
   "cell_type": "code",
   "execution_count": 57,
   "id": "f2e97928",
   "metadata": {},
   "outputs": [],
   "source": [
    "# code to create a dataframe with WKT formatted geometry\n",
    "\n",
    "# (1) copy gas_pipelines, clean up\n",
    "to_convert = gas_pipes.copy()\n",
    "#to_convert = to_convert.dropna(subset=['Route'])\n",
    "to_convert = to_convert[~to_convert['Route'].isin(no_route_options)]\n",
    "\n",
    "# also keep the not converted ones separate\n",
    "not_converted = gas_pipes.copy()\n",
    "not_converted = not_converted[not_converted['Route'].isin(no_route_options)]\n",
    "# add a dummy column so that the dimensions match with converted wkt pipelines\n",
    "not_converted['geometry'] = ''\n",
    "not_converted['geometry'] = [shapely.geometry.MultiLineString()]*not_converted.shape[0]\n",
    "not_converted.reset_index(drop=True)\n",
    "not_converted_gdf = geopandas.GeoDataFrame(not_converted, geometry=not_converted['geometry'])\n",
    "\n",
    "# (2) convert all pipelines\n",
    "gas_pipes_wkt = convert_all_pipelines(to_convert)\n",
    "gas_pipes_wkt = gas_pipes_wkt.reset_index(drop=True)\n",
    "\n",
    "# (3) store in a GeoDataFrame, attach a projection, transform to a different one\n",
    "gas_pipes_wkt_gdf = geopandas.GeoDataFrame(gas_pipes_wkt, geometry=gas_pipes_wkt['geometry'])\n",
    "gas_pipes_wkt_gdf = gas_pipes_wkt_gdf.set_crs('epsg:4326')\n",
    "gas_pipes_wkt_gdf_4087 = gas_pipes_wkt_gdf.to_crs('epsg:4087')"
   ]
  },
  {
   "cell_type": "markdown",
   "id": "5f50465f",
   "metadata": {},
   "source": [
    "now concatenate the \"no route options\" back onto it to have the full dataset for export"
   ]
  },
  {
   "cell_type": "code",
   "execution_count": 58,
   "id": "ac5a5f10",
   "metadata": {},
   "outputs": [],
   "source": [
    "all_gas_pipes = pandas.concat([gas_pipes_wkt_gdf, not_converted_gdf])\n",
    "all_gas_pipes = all_gas_pipes.reset_index(drop=True)"
   ]
  },
  {
   "cell_type": "markdown",
   "id": "c45d61f0",
   "metadata": {},
   "source": [
    "create geojson file for those who are requesting it\n",
    "\n",
    "columns in distributed dataset are:\n",
    "\n",
    "ProjectID\t\n",
    "Fuel\t\n",
    "StartCountry\t\n",
    "EndCountry\t\n",
    "Countries\t\n",
    "Wiki\t\n",
    "Name\t\n",
    "OtherNames\t\n",
    "Owner\t\n",
    "Status\t \n",
    "CostUSD \t\n",
    "StartYear1\t\n",
    "StartYear2\t\n",
    "StartYear3\t\n",
    "RetiredYear\t\n",
    "Capacity\t\n",
    "CapacityUnit\t\n",
    "CapacityBOEd\t\n",
    "KnownKm\t\n",
    "EstimateKm\t\n",
    "MergedKm\t\n",
    "Lengthmi\t\n",
    "Diameter (inch)\t\n",
    "Source\t\n",
    "StartLocation\t\n",
    "StartPrefecture/District\t\n",
    "StartState/Province\t\n",
    "StartRegion\t\n",
    "EndLocation\t\n",
    "EndPrefecture/District\t\n",
    "EndState/Province\t\n",
    "EndRegion\t\n",
    "Expansions\t\n",
    "Mainline\t\n",
    "Route"
   ]
  },
  {
   "cell_type": "code",
   "execution_count": 63,
   "id": "1dba3889",
   "metadata": {},
   "outputs": [],
   "source": [
    "# equivalent-ish columns for GeoJSON file:\n",
    "output_columns = [\n",
    "'ProjectID',\n",
    "'Fuel',\n",
    "'StartCountry',\n",
    "'EndCountry',\n",
    "'Countries',\n",
    "'Wiki',\n",
    "'PipelineName',\n",
    "'SegmentName',\n",
    "'OtherNames',\n",
    "'Owner',\n",
    "'Status',\n",
    "'CostMergedUSD',\n",
    "'StartYear1',\n",
    "'StartYear2',\n",
    "'StartYear3',\n",
    "'StopYear',\n",
    "'Capacity',\n",
    "'CapacityUnits',\n",
    "'CapacityBOEd',\n",
    "'LengthKnownKm',\n",
    "'LengthEstimateKm',\n",
    "'LengthMergedKm',\n",
    "'Diameter',\n",
    "'DiameterUnits',\n",
    "'Source',\n",
    "'StartLocation',\n",
    "'StartPrefecture/District',\n",
    "'StartState/Province',\n",
    "'StartCountry',\n",
    "'StartRegion',\n",
    "'EndLocation',\n",
    "'EndPrefecture/District',\n",
    "'EndState/Province',\n",
    "'EndCountry',\n",
    "'EndRegion',\n",
    "'Route',\n",
    "'geometry'\n",
    "]"
   ]
  },
  {
   "cell_type": "code",
   "execution_count": 64,
   "id": "f3bc7625",
   "metadata": {},
   "outputs": [],
   "source": [
    "all_gas_pipes_to_save = all_gas_pipes[output_columns]\n",
    "all_gas_pipes_to_save_gdf = geopandas.GeoDataFrame(all_gas_pipes_to_save, geometry=all_gas_pipes_to_save['geometry'])"
   ]
  },
  {
   "cell_type": "markdown",
   "id": "28839a66",
   "metadata": {},
   "source": [
    "save as GeoJSON file"
   ]
  },
  {
   "cell_type": "code",
   "execution_count": 65,
   "id": "597cae88",
   "metadata": {},
   "outputs": [
    {
     "name": "stdout",
     "output_type": "stream",
     "text": [
      "saved as GEM_Gas_Pipelines_intermediate_dataset_2021-11-23.geojson\n"
     ]
    }
   ],
   "source": [
    "now_string = datetime.datetime.now().strftime('%Y-%m-%d')\n",
    "filename = 'GEM_Gas_Pipelines_intermediate_dataset_'+now_string+'.geojson'\n",
    "all_gas_pipes_to_save_gdf.to_file(filename, driver='GeoJSON')\n",
    "print('saved as', filename)"
   ]
  },
  {
   "cell_type": "markdown",
   "id": "7f3df157",
   "metadata": {},
   "source": [
    "save as shapefile"
   ]
  },
  {
   "cell_type": "code",
   "execution_count": 66,
   "id": "36b2947c",
   "metadata": {},
   "outputs": [
    {
     "name": "stdout",
     "output_type": "stream",
     "text": [
      "saved as GEM_Gas_Pipelines_intermediate_dataset_2021-11-23.shp\n"
     ]
    }
   ],
   "source": [
    "now_string = datetime.datetime.now().strftime('%Y-%m-%d')\n",
    "filename = 'GEM_Gas_Pipelines_intermediate_dataset_'+now_string+'.shp'\n",
    "all_gas_pipes_to_save_gdf.to_file(filename, driver='GeoJSON')\n",
    "print('saved as', filename)"
   ]
  },
  {
   "cell_type": "code",
   "execution_count": null,
   "id": "6c61c20d",
   "metadata": {},
   "outputs": [],
   "source": []
  }
 ],
 "metadata": {
  "kernelspec": {
   "display_name": "gem",
   "language": "python",
   "name": "gem"
  },
  "language_info": {
   "codemirror_mode": {
    "name": "ipython",
    "version": 3
   },
   "file_extension": ".py",
   "mimetype": "text/x-python",
   "name": "python",
   "nbconvert_exporter": "python",
   "pygments_lexer": "ipython3",
   "version": "3.9.6"
  }
 },
 "nbformat": 4,
 "nbformat_minor": 5
}
