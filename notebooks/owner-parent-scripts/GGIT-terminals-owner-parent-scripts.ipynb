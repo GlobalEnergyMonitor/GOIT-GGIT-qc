{
 "cells": [
  {
   "cell_type": "markdown",
   "metadata": {},
   "source": [
    "# owner-parent string formatting code\n",
    "\n",
    "NOTE: owner/parent research is incomplete; presume all owners are parents if we haven't updated them yet"
   ]
  },
  {
   "cell_type": "code",
   "execution_count": 1,
   "metadata": {
    "tags": []
   },
   "outputs": [],
   "source": [
    "import pandas\n",
    "import pygsheets\n",
    "import datetime\n",
    "import numpy\n",
    "import xarray"
   ]
  },
  {
   "cell_type": "code",
   "execution_count": 32,
   "metadata": {
    "tags": []
   },
   "outputs": [
    {
     "name": "stderr",
     "output_type": "stream",
     "text": [
      "/Users/baird/mambaforge/envs/gem/lib/python3.9/site-packages/pygsheets/worksheet.py:1554: UserWarning: At least one column name in the data frame is an empty string. If this is a concern, please specify include_tailing_empty=False and/or ensure that each column containing data has a name.\n",
      "  warnings.warn('At least one column name in the data frame is an empty string. If this is a concern, please specify include_tailing_empty=False and/or ensure that each column containing data has a name.')\n"
     ]
    }
   ],
   "source": [
    "gc = pygsheets.authorize(service_account_env_var='GDRIVE_API_CREDENTIALS')\n",
    "spreadsheet = gc.open_by_key('1tcS6Wd-Wp-LTDpLzFgJY_RSNDnbyubW3J_9HKIAys4A')\n",
    "#spreadsheet = gc.open_by_key('129b9YeQn7uAIsMgyB5uleT2QZXYxjD_UetnqwVyoRaI')\n",
    "\n",
    "#spreadsheet[1] \"Gas Pipelines\" tab is the second index\n",
    "terms_df_orig = spreadsheet.worksheet('title', 'Terminals').get_as_df(start='A2')\n",
    "terms_df_orig.replace('--',numpy.nan,inplace=True)"
   ]
  },
  {
   "cell_type": "code",
   "execution_count": 33,
   "metadata": {
    "tags": []
   },
   "outputs": [],
   "source": [
    "owners_df_orig = spreadsheet.worksheet('title', 'Terminal operators/owners (1/3)').get_as_df(start='A2')\n",
    "owners_df_orig = owners_df_orig.loc[owners_df_orig.ComboID!='']\n",
    "owners_df_orig = owners_df_orig.loc[owners_df_orig.Wiki!='']\n",
    "owners_df = owners_df_orig.replace('',numpy.nan)\n",
    "\n",
    "owner_parent_links_df = spreadsheet.worksheet('title', 'Owner–parent relationships (2/3)').get_as_df()\n",
    "# only keep the owners with a checked relationship\n",
    "owner_parent_links_df = owner_parent_links_df.loc[owner_parent_links_df['Parent–Owner Relationship Checked?']=='yes']\n",
    "owner_parent_links_df.replace('',numpy.nan,inplace=True)\n",
    "\n",
    "parents_df = spreadsheet.worksheet('title', 'Parent metadata (3/3)').get_as_df(start='A2')\n",
    "parents_df = parents_df.loc[parents_df.Parent!='']\n",
    "\n",
    "owners_df.set_index('ComboID', inplace=True)\n",
    "owner_parent_links_df.set_index('Owner', inplace=True)\n",
    "parents_df.set_index('Parent', inplace=True)\n",
    "\n",
    "# ****************************************\n",
    "\n",
    "## create list of owner and parent column names\n",
    "owner_pct_col_names = []\n",
    "owner_col_names = []\n",
    "\n",
    "parent_pct_col_names = []\n",
    "parent_col_names = []\n",
    "\n",
    "for num in range(1,10+1):\n",
    "    owner_pct_col = f'Owner{num}%'\n",
    "    owner_pct_col_names.append(owner_pct_col)\n",
    "    \n",
    "    owner_col = f'Owner{num}'\n",
    "    owner_col_names.append(owner_col)\n",
    "    \n",
    "    parent_pct_col = f'Parent{num}%'\n",
    "    parent_pct_col_names.append(parent_pct_col)\n",
    "    \n",
    "    parent_col = f'Parent{num}'\n",
    "    parent_col_names.append(parent_col)\n",
    "\n",
    "# ****************************************\n",
    "# FOR CHINA\n",
    "qcc_owners_df = owners_df.loc[(owners_df.Country=='China')&(~owners_df['QCCOwner(业主单位)'].isnull())]\n",
    "owners_df.loc[qcc_owners_df.index,'Owner1'] = qcc_owners_df['QCCOwner(业主单位)']\n",
    "owners_df.loc[qcc_owners_df.index,'Owner1%'] = '100.00%'\n",
    "\n",
    "qcc_df_temporary = pandas.DataFrame({'Parent1':qcc_owners_df['QCCOwner(业主单位)'].unique(), 'Parent1%':'100.00%', \n",
    "                                    'Parent-Owner Relationship Checked?':'yes'}, index=qcc_owners_df['QCCOwner(业主单位)'].unique())\n",
    "owner_parent_links_df = pandas.concat([owner_parent_links_df, qcc_df_temporary])\n",
    "\n",
    "qcc_df_temporary = pandas.DataFrame({'ParentHQCountry':'China'}, index=qcc_owners_df['QCCOwner(业主单位)'].unique())\n",
    "parents_df = pandas.concat([parents_df, qcc_df_temporary])\n",
    "\n",
    "# ****************************************\n",
    "## fill in missing parent info by borrowing owner info\n",
    "owners_FULL_set = owners_df[owner_col_names].stack().dropna().unique().tolist() # from owners_df\n",
    "owners_researched_set = list(set(owner_parent_links_df.index.to_list()))#+['Unknown'] # only existing owners, plus 'Unknown'\n",
    "owners_diff = list(set(owners_FULL_set)-set(owners_researched_set))\n",
    "owners_diff.append('Unknown')\n",
    "\n",
    "# update owner_parent_links_df with these extra owners\n",
    "owner_parent_links_df = pandas.concat([owner_parent_links_df, pandas.DataFrame(index=owners_diff, columns=owner_parent_links_df.columns)])\n",
    "owner_parent_links_df['Parent1'].loc[owners_diff] = owners_diff\n",
    "owner_parent_links_df['Parent1%'].loc[owners_diff] = '100.00%'\n",
    "\n",
    "# ****************************************\n",
    "# update parents_df with these as well\n",
    "# note countries will be unknkown...\n",
    "parents_set = list(set(parents_df.index.to_list()))\n",
    "parents_diff = list(set(owners_diff)-set(parents_set))\n",
    "#parents_diff.append('Unknown')\n",
    "parents_df = pandas.concat([parents_df, pandas.DataFrame(numpy.nan, index=parents_diff, columns=parents_df.columns)])\n",
    "parents_df.replace(numpy.nan, 'Unknown', inplace=True)"
   ]
  },
  {
   "cell_type": "code",
   "execution_count": 34,
   "metadata": {
    "tags": []
   },
   "outputs": [],
   "source": [
    "comboid_list = list(set(owners_df.index.to_list()))"
   ]
  },
  {
   "cell_type": "markdown",
   "metadata": {},
   "source": [
    "# make dictionary to house parent info"
   ]
  },
  {
   "cell_type": "code",
   "execution_count": 35,
   "metadata": {
    "tags": []
   },
   "outputs": [],
   "source": [
    "po_dict = {}\n",
    "\n",
    "# iterate through owners_df\n",
    "# store in the big po_dict\n",
    "\n",
    "for combo_id,row in list(owners_df.iterrows()):\n",
    "    po_dict[combo_id] = {}\n",
    "    \n",
    "    owner_list_drop_nans = row[owner_col_names].dropna().tolist()\n",
    "    owner_pct_vals = list(row[owner_pct_col_names].str.strip('%').astype('float').array/100.)[:owner_list_drop_nans.__len__()]\n",
    "    \n",
    "    # now go through the owner list, if it's empty create an uknown\n",
    "    # if not empty, for each owner:\n",
    "    #    save its percent ownership (make sure it's nan if it doesn't exist)\n",
    "    #    save its list of parents (EVERY OWNER has a parent in the database)\n",
    "    #    save the list of parent ownership (make sure it's a list of nans that is same length as list of parents)\n",
    "    \n",
    "    if owner_list_drop_nans==[]:\n",
    "        owner='Unknown'\n",
    "        parent='Unknown'\n",
    "        owner_list = [owner] #+ [numpy.nan]*(owner_col_names.__len__()-1)\n",
    "        parent_list = [parent] #+ [numpy.nan]*(parent_col_names.__len__()-1)\n",
    "        owner_pct_vals = [numpy.nan]#*owner_pct_col_names.__len__()\n",
    "        parent_pct_vals = [numpy.nan]#*parent_pct_col_names.__len__()\n",
    "        \n",
    "        # if there are no owners/parents, make them Unknown/Unknown\n",
    "        po_dict[combo_id]['owner_parent_links'] = {}\n",
    "        po_dict[combo_id]['owner_list'] = owner_list\n",
    "        po_dict[combo_id]['owner_pct_vals'] = owner_pct_vals\n",
    "        po_dict[combo_id]['owner_parent_links'][owner] = {}\n",
    "        po_dict[combo_id]['owner_parent_links'][owner]['owner_pct_val'] = owner_pct_vals[0] # record the specific fraction val of the owner\n",
    "        \n",
    "        po_dict[combo_id]['owner_parent_links'][owner]['parent_list'] = parent_list\n",
    "        po_dict[combo_id]['owner_parent_links'][owner]['parent_pct_vals'] = parent_pct_vals\n",
    "        po_dict[combo_id]['owner_parent_links'][owner]['parent_hq_country_list'] = ['Unknown']\n",
    "    \n",
    "    else:\n",
    "        po_dict[combo_id]['owner_parent_links'] = {}\n",
    "        \n",
    "        for o_idx,owner in enumerate(owner_list_drop_nans):\n",
    "            parent_list_drop_nans = owner_parent_links_df.loc[owner][parent_col_names].squeeze().dropna().tolist()\n",
    "            parent_pct_vals = list(owner_parent_links_df.loc[owner][parent_pct_col_names].str.strip('%').astype('float').array/100.)[:parent_list_drop_nans.__len__()] # only as long as parent_list\n",
    "\n",
    "            po_dict[combo_id]['owner_list'] = owner_list_drop_nans\n",
    "            po_dict[combo_id]['owner_pct_vals'] = owner_pct_vals\n",
    "            \n",
    "            po_dict[combo_id]['owner_parent_links'][owner] = {}\n",
    "            po_dict[combo_id]['owner_parent_links'][owner]['owner_pct_val'] = owner_pct_vals[o_idx]\n",
    "            \n",
    "            po_dict[combo_id]['owner_parent_links'][owner]['parent_list'] = parent_list_drop_nans\n",
    "            po_dict[combo_id]['owner_parent_links'][owner]['parent_pct_vals'] = parent_pct_vals\n",
    "            \n",
    "            try:\n",
    "                po_dict[combo_id]['owner_parent_links'][owner]['parent_hq_country_list'] = parents_df.loc[parent_list_drop_nans].ParentHQCountry.tolist()\n",
    "            except KeyError:\n",
    "                po_dict[combo_id]['owner_parent_links'][owner]['parent_hq_country_list'] = ['Not yet recorded']\n",
    "            "
   ]
  },
  {
   "cell_type": "code",
   "execution_count": 36,
   "metadata": {
    "tags": []
   },
   "outputs": [],
   "source": [
    "pid_list = list(po_dict.keys())\n",
    "\n",
    "owner_parent_strings_df = pandas.DataFrame(index=pid_list, columns=[#'OwnerList','ParentList',\n",
    "                                                                    'OwnerString','ParentString','ParentHQCountry'])\n",
    "#                                                                    'OwnerPercentsArrayWithNans','ParentPercentsArrayWithNans',\n",
    "#                                                                    'OwnerPercentsArray','ParentPercentsArray',\n",
    "#                                                                    'ParentOwnrshpArray'])"
   ]
  },
  {
   "cell_type": "code",
   "execution_count": 37,
   "metadata": {
    "tags": []
   },
   "outputs": [],
   "source": [
    "for combo_id in comboid_list:\n",
    "    \n",
    "    # get list of owners\n",
    "    owner_list = po_dict[combo_id]['owner_list']#.keys()\n",
    "    owner_pct_vals = po_dict[combo_id]['owner_pct_vals']\n",
    "    all_parents_list = []\n",
    "    all_parents_normalized_pct_vals = []\n",
    "    all_parents_hq_country_list = []\n",
    "    \n",
    "    for owner in owner_list:\n",
    "        owner_pct_val = [ po_dict[combo_id]['owner_parent_links'][owner]['owner_pct_val'] ]\n",
    "        parent_list = po_dict[combo_id]['owner_parent_links'][owner]['parent_list']\n",
    "        parent_hq_country_list = po_dict[combo_id]['owner_parent_links'][owner]['parent_hq_country_list']\n",
    "        \n",
    "        parent_pct_vals = numpy.array(po_dict[combo_id]['owner_parent_links'][owner]['parent_pct_vals'])\n",
    "        \n",
    "        parent_normalized_pct_vals = list(parent_pct_vals * owner_pct_val)\n",
    "        \n",
    "        all_parents_list += parent_list\n",
    "        all_parents_normalized_pct_vals += parent_normalized_pct_vals\n",
    "        all_parents_hq_country_list += parent_hq_country_list\n",
    "    \n",
    "    #print(all_parents_normalized_pct_vals)\n",
    "    #print(all_parents_hq_country_list)\n",
    "    \n",
    "    owner_frac_df = pandas.DataFrame({'Owners':owner_list,'OwnerFractions':owner_pct_vals})#.dropna(how='all') # drop nan rows   \n",
    "    parent_frac_df = pandas.DataFrame({'Parents':all_parents_list,\n",
    "                                       'ParentFractions':all_parents_normalized_pct_vals,\n",
    "                                       'ParentHQCountries':all_parents_hq_country_list})\n",
    "    #parent_hq_country_df = pandas.DataFrame({'Parents':all_parents_list,\n",
    "    #                                         'ParentFractions':all_parents_normalized_pct_vals})#.dropna(how='all') # drop nan rows\n",
    "    \n",
    "    # sum any of the same owners/parents\n",
    "    owner_frac_df = pandas.DataFrame(owner_frac_df.groupby(by=['Owners'], dropna=False)['OwnerFractions'].sum(min_count=1))\n",
    "    parent_frac_df = pandas.DataFrame(parent_frac_df.groupby(by=['Parents'], dropna=False)['ParentFractions'].sum(min_count=1))\n",
    "    #parent_hq_country_df = pandas.DataFrame(parent_frac_df.groupby(by=['Parents'], dropna=False)['ParentFractions','ParentHQCountry'].sum(min_count=1))\n",
    "    \n",
    "    owner_frac_df.sort_values('OwnerFractions', ascending=False, inplace=True)\n",
    "    parent_frac_df.sort_values('ParentFractions', ascending=False, inplace=True)\n",
    "    \n",
    "    try:\n",
    "        parent_hq_country_list = [parents_df.loc[p].ParentHQCountry for p in parent_frac_df.index.tolist()]\n",
    "    except KeyError:\n",
    "        parent_hq_country_list = []\n",
    "        for p in parent_frac_df.index.tolist():\n",
    "            try:\n",
    "                parent_hq_country_list += [parents_df.loc[p].ParentHQCountry]\n",
    "            except KeyError:\n",
    "                parent_hq_country_list += ['Not yet recorded']\n",
    "\n",
    "    parent_formatted_string = ('; ').join(list(parent_frac_df.index + (parent_frac_df['ParentFractions']*100).map(' [{:,.2f}%]'.format)))\n",
    "    owner_formatted_string = ('; ').join(list(owner_frac_df.index + (owner_frac_df['OwnerFractions']*100).map(' [{:,.2f}%]'.format)))\n",
    "    parent_hq_country_formatted_string = ('; ').join(parent_hq_country_list)\n",
    "\n",
    "    parent_formatted_string = parent_formatted_string.replace('nan%', 'unknown %')\n",
    "    owner_formatted_string = owner_formatted_string.replace('nan%', 'unknown %')\n",
    "    \n",
    "    owner_parent_strings_df.loc[combo_id,'OwnerString'] = owner_formatted_string\n",
    "    owner_parent_strings_df.loc[combo_id,'ParentString'] = parent_formatted_string\n",
    "    owner_parent_strings_df.loc[combo_id,'ParentHQCountry'] = parent_hq_country_formatted_string\n",
    "    \n",
    "    owner_parent_strings_df.replace('','--',inplace=True)"
   ]
  },
  {
   "cell_type": "code",
   "execution_count": 38,
   "metadata": {
    "tags": []
   },
   "outputs": [],
   "source": [
    "now_string = datetime.datetime.now().strftime('%Y-%m-%d')\n",
    "owner_parent_strings_df[['OwnerString','ParentString','ParentHQCountry']].to_excel('GEM-terminals-owner-parent-strings-'+now_string+'.xlsx')\n",
    "#owner_parent_strings_df.to_excel('GEM-terminals-owner-parent-strings-'+now_string+'.xlsx')"
   ]
  }
 ],
 "metadata": {
  "interpreter": {
   "hash": "59914d4cdf2882751604edf3f1dd6385ce640077546f95a91cf3fdd2be269e3e"
  },
  "kernelspec": {
   "display_name": "Python 3 (ipykernel)",
   "language": "python",
   "name": "python3"
  },
  "language_info": {
   "codemirror_mode": {
    "name": "ipython",
    "version": 3
   },
   "file_extension": ".py",
   "mimetype": "text/x-python",
   "name": "python",
   "nbconvert_exporter": "python",
   "pygments_lexer": "ipython3",
   "version": "3.9.16"
  },
  "metadata": {
   "interpreter": {
    "hash": "59914d4cdf2882751604edf3f1dd6385ce640077546f95a91cf3fdd2be269e3e"
   }
  }
 },
 "nbformat": 4,
 "nbformat_minor": 4
}
