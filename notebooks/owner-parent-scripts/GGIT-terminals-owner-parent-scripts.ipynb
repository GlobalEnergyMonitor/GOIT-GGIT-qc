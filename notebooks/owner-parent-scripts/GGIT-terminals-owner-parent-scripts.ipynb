{
 "cells": [
  {
   "cell_type": "markdown",
   "metadata": {},
   "source": [
    "# owner-parent string formatting code\n",
    "\n",
    "NOTE: owner/parent research is incomplete; presume all owners are parents if we haven't updated them yet"
   ]
  },
  {
   "cell_type": "code",
   "execution_count": 1,
   "metadata": {},
   "outputs": [],
   "source": [
    "import pandas\n",
    "import pygsheets\n",
    "import datetime\n",
    "import numpy\n",
    "import xarray"
   ]
  },
  {
   "cell_type": "code",
   "execution_count": 3,
   "metadata": {},
   "outputs": [],
   "source": [
    "credentials_directory = '/Users/baird/Dropbox/_google-api/'\n",
    "gc = pygsheets.authorize(client_secret=credentials_directory+'client_secret.json')\n",
    "#spreadsheet = gc.open_by_key('1tcS6Wd-Wp-LTDpLzFgJY_RSNDnbyubW3J_9HKIAys4A')\n",
    "spreadsheet = gc.open_by_key('129b9YeQn7uAIsMgyB5uleT2QZXYxjD_UetnqwVyoRaI')\n",
    "\n",
    "#spreadsheet[1] \"Gas Pipelines\" tab is the second index\n",
    "terms_df_orig = spreadsheet.worksheet('title', 'Terminals').get_as_df(start='A2')\n",
    "terms_df_orig.replace('--',numpy.nan,inplace=True)"
   ]
  },
  {
   "cell_type": "code",
   "execution_count": 4,
   "metadata": {},
   "outputs": [],
   "source": [
    "owners_df_orig = spreadsheet.worksheet('title', 'Terminal operators/owners (1/3)').get_as_df(start='A2')\n",
    "owners_df_orig = owners_df_orig.loc[owners_df_orig.ComboID!='']\n",
    "owners_df_orig = owners_df_orig.loc[owners_df_orig.Wiki!='']\n",
    "owners_df = owners_df_orig.replace('',numpy.nan)\n",
    "\n",
    "owner_parent_links_df = spreadsheet.worksheet('title', 'Owner–parent relationships (2/3)').get_as_df()\n",
    "# only keep the owners with a checked relationship\n",
    "owner_parent_links_df = owner_parent_links_df.loc[owner_parent_links_df['Parent–Owner Relationship Checked?']=='yes']\n",
    "owner_parent_links_df.replace('',numpy.nan,inplace=True)\n",
    "\n",
    "parents_df = spreadsheet.worksheet('title', 'Parent metadata (3/3)').get_as_df(start='A2')\n",
    "parents_df = parents_df.loc[parents_df.Parent!='']\n",
    "\n",
    "\n",
    "owners_df.set_index('ComboID', inplace=True)\n",
    "owner_parent_links_df.set_index('Owner', inplace=True)\n",
    "parents_df.set_index('Parent', inplace=True)\n",
    "\n",
    "# ****************************************\n",
    "\n",
    "## create list of owner and parent column names\n",
    "owner_pct_col_names = []\n",
    "owner_col_names = []\n",
    "\n",
    "parent_pct_col_names = []\n",
    "parent_col_names = []\n",
    "\n",
    "for num in range(1,10+1):\n",
    "    owner_pct_col = f'Owner{num}%'\n",
    "    owner_pct_col_names.append(owner_pct_col)\n",
    "    \n",
    "    owner_col = f'Owner{num}'\n",
    "    owner_col_names.append(owner_col)\n",
    "    \n",
    "    parent_pct_col = f'Parent{num}%'\n",
    "    parent_pct_col_names.append(parent_pct_col)\n",
    "    \n",
    "    parent_col = f'Parent{num}'\n",
    "    parent_col_names.append(parent_col)\n",
    "\n",
    "# ****************************************\n",
    "# FOR CHINA\n",
    "qcc_owners_df = owners_df.loc[(owners_df.Country=='China')&(~owners_df['QCCOwner(业主单位)'].isnull())]\n",
    "owners_df.loc[qcc_owners_df.index,'Owner1'] = qcc_owners_df['QCCOwner(业主单位)']\n",
    "owners_df.loc[qcc_owners_df.index,'Owner1%'] = '100.00%'\n",
    "\n",
    "qcc_df_temporary = pandas.DataFrame({'Parent1':qcc_owners_df['QCCOwner(业主单位)'].unique(), 'Parent1%':'100.00%', \n",
    "                                    'Parent-Owner Relationship Checked?':'yes'}, index=qcc_owners_df['QCCOwner(业主单位)'].unique())\n",
    "owner_parent_links_df = pandas.concat([owner_parent_links_df, qcc_df_temporary])\n",
    "\n",
    "qcc_df_temporary = pandas.DataFrame({'ParentHQCountry':'China'}, index=qcc_owners_df['QCCOwner(业主单位)'].unique())\n",
    "parents_df = pandas.concat([parents_df, qcc_df_temporary])\n",
    "\n",
    "# ****************************************\n",
    "## fill in missing parent info by borrowing owner info\n",
    "owners_FULL_set = owners_df[owner_col_names].stack().dropna().unique().tolist() # from owners_df\n",
    "owners_researched_set = list(set(owner_parent_links_df.index.to_list()))#+['Unknown'] # only existing owners, plus 'Unknown'\n",
    "owners_diff = list(set(owners_FULL_set)-set(owners_researched_set))\n",
    "owners_diff.append('Unknown')\n",
    "\n",
    "# update owner_parent_links_df with these extra owners\n",
    "owner_parent_links_df = pandas.concat([owner_parent_links_df, pandas.DataFrame(index=owners_diff, columns=owner_parent_links_df.columns)])\n",
    "owner_parent_links_df['Parent1'].loc[owners_diff] = owners_diff\n",
    "owner_parent_links_df['Parent1%'].loc[owners_diff] = '100.00%'\n",
    "\n",
    "# ****************************************\n",
    "# update parents_df with these as well\n",
    "# note countries will be unknkown...\n",
    "parents_set = list(set(parents_df.index.to_list()))\n",
    "parents_diff = list(set(owners_diff)-set(parents_set))\n",
    "parents_diff.append('Unknown')\n",
    "parents_df = pandas.concat([parents_df, pandas.DataFrame(numpy.nan, index=parents_diff, columns=parents_df.columns)])"
   ]
  },
  {
   "cell_type": "code",
   "execution_count": 5,
   "metadata": {},
   "outputs": [],
   "source": [
    "comboid_set = list(set(owners_df.index.to_list()))"
   ]
  },
  {
   "cell_type": "markdown",
   "metadata": {},
   "source": [
    "## make a giant xarray Dataset to house the parent-owner-combo_id information"
   ]
  },
  {
   "cell_type": "code",
   "execution_count": 6,
   "metadata": {},
   "outputs": [],
   "source": [
    "parents_da = xarray.DataArray(data=parents_df.index.unique().tolist())#owner_parent_links_df\n",
    "owners_da = xarray.DataArray(data=owner_parent_links_df.index.unique().tolist())\n",
    "comboid_da = xarray.DataArray(data=comboid_set)"
   ]
  },
  {
   "cell_type": "code",
   "execution_count": 7,
   "metadata": {},
   "outputs": [],
   "source": [
    "owner_fraction = numpy.empty((parents_da.size, owners_da.size, comboid_da.size), float)\n",
    "parent_fraction = numpy.empty((parents_da.size, owners_da.size, comboid_da.size), float)\n",
    "parent_country = numpy.empty((parents_da.size, owners_da.size, comboid_da.size), str)\n",
    "capacity_in_mtpa = numpy.empty((parents_da.size, owners_da.size, comboid_da.size), float)\n",
    "owner_parent_tf = numpy.empty((parents_da.size, owners_da.size, comboid_da.size), bool)\n",
    "\n",
    "owner_fraction[:] = numpy.nan\n",
    "parent_fraction[:] = numpy.nan\n",
    "parent_country[:] = numpy.nan\n",
    "capacity_in_mtpa[:] = numpy.nan\n",
    "\n",
    "owners_not_accounted_for = []\n",
    "\n",
    "poc_ds = xarray.Dataset(data_vars = dict(\n",
    "                                OwnerFraction=(['Parent','Owner','ComboID'], owner_fraction),\n",
    "                                ParentFraction=(['Parent','Owner','ComboID'], parent_fraction),\n",
    "                                ParentCountry=(['Parent','Owner','ComboID'], parent_country),\n",
    "                                CapacityInMtpa=(['Parent','Owner','ComboID'], capacity_in_mtpa),\n",
    "                                OwnerParentTF=(['Parent','Owner','ComboID'], owner_parent_tf)),\n",
    "               coords = dict(\n",
    "                   Parent=(['Parent'], parents_da.values),\n",
    "                   Owner=(['Owner'], owners_da.values),\n",
    "                   ComboID=(['ComboID'], comboid_da.values)))"
   ]
  },
  {
   "cell_type": "markdown",
   "metadata": {},
   "source": [
    "## fill in the Dataset"
   ]
  },
  {
   "cell_type": "code",
   "execution_count": 8,
   "metadata": {},
   "outputs": [],
   "source": [
    "# iterate through owners_df\n",
    "for combo_id,row in owners_df.iterrows():\n",
    "    owner_list = row[owner_col_names].dropna().tolist()\n",
    "    owner_pct_vals = row[owner_pct_col_names].str.strip('%').astype('float').array/100.\n",
    "\n",
    "    # SKIP ANYTHING THAT ISN'T IN THE PARENTS METADATA TAB:\n",
    "    #if set(owner_list).issubset(owners_set)==False:\n",
    "    #    owners_not_accounted_for+=owner_list\n",
    "    #    continue # loops to the next \n",
    "\n",
    "    # if no owner or parent info, skip but record other stuff\n",
    "    if owner_list==[]:\n",
    "        owner='Unknown'\n",
    "        parent='Unknown'\n",
    "        poc_ds['ParentFraction'].loc[dict(Parent=parent, Owner=owner, ComboID=combo_id)] = numpy.nan\n",
    "        poc_ds['OwnerParentTF'].loc[dict(Parent=parent, Owner=owner, ComboID=combo_id)] = True\n",
    "        poc_ds['CapacityInMtpa'].loc[dict(Parent=parent, Owner=owner, ComboID=combo_id)] = terms_df_orig.loc[terms_df_orig.ComboID==combo_id]['CapacityInMtpa'].values[0]\n",
    "        poc_ds['ParentCountry'].loc[dict(Parent=parent, Owner=owner, ComboID=combo_id)] = terms_df_orig.loc[terms_df_orig.ComboID==combo_id]['Country'].values[0]\n",
    "    \n",
    "    else:\n",
    "        for o_idx,owner in enumerate(owner_list):\n",
    "            parent_list = owner_parent_links_df.loc[owner][parent_col_names].squeeze().dropna().tolist()\n",
    "            parent_pct_vals = owner_parent_links_df.loc[owner][parent_pct_col_names].str.strip('%').astype('float').array/100.\n",
    "            #if owner not in owners_set:\n",
    "            #    owners_not_accounted_for.append(owner)\n",
    "            #    continue\n",
    "            for p_idx,parent in enumerate(parent_list):\n",
    "                poc_ds['CapacityInMtpa'].loc[dict(Parent=parent, Owner=owner, ComboID=combo_id)] = terms_df_orig.loc[terms_df_orig.ComboID==combo_id]['CapacityInMtpa'].values[0]\n",
    "                poc_ds['OwnerFraction'].loc[dict(Parent=parent, Owner=owner, ComboID=combo_id)] = owner_pct_vals[o_idx]\n",
    "                poc_ds['ParentFraction'].loc[dict(Parent=parent, Owner=owner, ComboID=combo_id)] = parent_pct_vals[p_idx]\n",
    "                poc_ds['ParentCountry'].loc[dict(Parent=parent, Owner=owner, ComboID=combo_id)] = parents_df.loc[parent]['ParentHQCountry']\n",
    "                poc_ds['OwnerParentTF'].loc[dict(Parent=parent, Owner=owner, ComboID=combo_id)] = True"
   ]
  },
  {
   "cell_type": "markdown",
   "metadata": {},
   "source": [
    "## placeholder dataframe to eventually fill in strings"
   ]
  },
  {
   "cell_type": "code",
   "execution_count": 9,
   "metadata": {},
   "outputs": [],
   "source": [
    "owner_parent_strings_df = pandas.DataFrame(index=comboid_da.values, columns=['OwnerList','ParentList',\n",
    "                                                                    'OwnerString','ParentString'])\n",
    "#                                                                    'OwnerPercentsArrayWithNans','ParentPercentsArrayWithNans',\n",
    "#                                                                    'OwnerPercentsArray','ParentPercentsArray',\n",
    "#                                                                    'ParentOwnrshpArray'])"
   ]
  },
  {
   "cell_type": "markdown",
   "metadata": {},
   "source": [
    "## manipulate huge dataset and fill in dataframe strings"
   ]
  },
  {
   "cell_type": "code",
   "execution_count": 10,
   "metadata": {},
   "outputs": [],
   "source": [
    "for combo_id in comboid_da.values:\n",
    "    parent_indices, owner_indices = numpy.where(poc_ds['OwnerParentTF'].loc[dict(ComboID=combo_id)].values == True)\n",
    "    parent_indices = list(parent_indices)\n",
    "    owner_indices = list(owner_indices)\n",
    "    parent_indices_unique = list(set(parent_indices))\n",
    "    owner_indices_unique = list(set(owner_indices))\n",
    "    \n",
    "    owner_list_repeats = list(owners_da[owner_indices].values)\n",
    "    parent_list_repeats = list(parents_da[parent_indices].values)\n",
    "    \n",
    "    owner_fractions_list_repeats = poc_ds['OwnerFraction'].loc[dict(ComboID=combo_id)].values[parent_indices, owner_indices]\n",
    "    parent_fractions_list_repeats = poc_ds['ParentFraction'].loc[dict(ComboID=combo_id)].values[parent_indices, owner_indices]\n",
    "    \n",
    "    parent_fractions_list_repeats = parent_fractions_list_repeats * owner_fractions_list_repeats\n",
    "    \n",
    "    owner_frac_df = pandas.DataFrame({'Owners':owner_list_repeats,'OwnerFractions':owner_fractions_list_repeats})\n",
    "    parent_frac_df = pandas.DataFrame({'Parents':parent_list_repeats,'ParentFractions':parent_fractions_list_repeats})\n",
    "    \n",
    "    owner_frac_df = pandas.DataFrame(owner_frac_df.groupby(by=['Owners'], dropna=False)['OwnerFractions'].sum(min_count=1))\n",
    "    parent_frac_df = pandas.DataFrame(parent_frac_df.groupby(by=['Parents'], dropna=False)['ParentFractions'].sum(min_count=1))\n",
    "\n",
    "    owner_frac_df.sort_values('OwnerFractions', ascending=False, inplace=True)\n",
    "    parent_frac_df.sort_values('ParentFractions', ascending=False, inplace=True)\n",
    "\n",
    "    parent_formatted_string = ('; ').join(list(parent_frac_df.index + (parent_frac_df['ParentFractions']*100).map(' [{:,.2f}%]'.format)))\n",
    "    owner_formatted_string = ('; ').join(list(owner_frac_df.index + (owner_frac_df['OwnerFractions']*100).map(' [{:,.2f}%]'.format)))\n",
    "\n",
    "    parent_formatted_string = parent_formatted_string.replace('nan%', 'unknown %')\n",
    "    owner_formatted_string = owner_formatted_string.replace('nan%', 'unknown %')\n",
    "    \n",
    "    owner_parent_strings_df.loc[combo_id,'OwnerString'] = owner_formatted_string\n",
    "    owner_parent_strings_df.loc[combo_id,'ParentString'] = parent_formatted_string\n",
    "    owner_parent_strings_df.loc[combo_id,'OwnerList'] = list(owner_frac_df.index)\n",
    "    owner_parent_strings_df.loc[combo_id,'ParentList'] = list(parent_frac_df.index)\n",
    "    \n",
    "    owner_parent_strings_df.replace('','--',inplace=True)"
   ]
  },
  {
   "cell_type": "markdown",
   "metadata": {},
   "source": [
    "# write out data as Excel file"
   ]
  },
  {
   "cell_type": "code",
   "execution_count": 11,
   "metadata": {},
   "outputs": [],
   "source": [
    "now_string = datetime.datetime.now().strftime('%Y-%m-%d')\n",
    "owner_parent_strings_df[['OwnerString','ParentString','OwnerList','ParentList']].to_excel('GEM-terminals-owner-parent-strings-'+now_string+'.xlsx')\n",
    "#owner_parent_strings_df.to_excel('GEM-terminals-owner-parent-strings-'+now_string+'.xlsx')"
   ]
  },
  {
   "cell_type": "code",
   "execution_count": null,
   "metadata": {},
   "outputs": [],
   "source": []
  }
 ],
 "metadata": {
  "interpreter": {
   "hash": "59914d4cdf2882751604edf3f1dd6385ce640077546f95a91cf3fdd2be269e3e"
  },
  "kernelspec": {
   "display_name": "Python 3 (ipykernel)",
   "language": "python",
   "name": "python3"
  },
  "language_info": {
   "codemirror_mode": {
    "name": "ipython",
    "version": 3
   },
   "file_extension": ".py",
   "mimetype": "text/x-python",
   "name": "python",
   "nbconvert_exporter": "python",
   "pygments_lexer": "ipython3",
   "version": "3.9.9"
  },
  "metadata": {
   "interpreter": {
    "hash": "59914d4cdf2882751604edf3f1dd6385ce640077546f95a91cf3fdd2be269e3e"
   }
  }
 },
 "nbformat": 4,
 "nbformat_minor": 4
}
