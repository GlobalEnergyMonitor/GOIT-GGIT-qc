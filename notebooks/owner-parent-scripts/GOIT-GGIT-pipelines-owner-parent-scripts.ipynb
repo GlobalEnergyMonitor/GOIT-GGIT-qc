{
 "cells": [
  {
   "cell_type": "markdown",
   "metadata": {},
   "source": [
    "# owner-parent string formatting code\n",
    "\n",
    "NOTE: owner/parent research is incomplete; presume all owners are parents if we haven't updated them yet"
   ]
  },
  {
   "cell_type": "code",
   "execution_count": 1,
   "metadata": {},
   "outputs": [],
   "source": [
    "import pandas\n",
    "import pygsheets\n",
    "import datetime\n",
    "import numpy\n",
    "import xarray"
   ]
  },
  {
   "cell_type": "code",
   "execution_count": 2,
   "metadata": {},
   "outputs": [],
   "source": [
    "#fuel_type = 'Gas'\n",
    "#fuel_type = 'Oil'\n",
    "fuel_type = 'Oil-and-Gas'\n",
    "\n",
    "credentials_directory = '/Users/baird/Dropbox/_google-api/'\n",
    "gc = pygsheets.authorize(client_secret=credentials_directory+'client_secret.json')\n",
    "\n",
    "spreadsheet = gc.open_by_key('1foPLE6K-uqFlaYgLPAUxzeXfDO5wOOqE7tibNHeqTek')\n",
    "gas_pipes = spreadsheet.worksheet('title', 'Gas pipelines').get_as_df(start='A2')\n",
    "oil_pipes = spreadsheet.worksheet('title', 'Oil/NGL pipelines').get_as_df(start='A2')\n",
    "\n",
    "pipes_dict_df = spreadsheet.worksheet('title', 'Data dictionary').get_as_df()\n",
    "\n",
    "if fuel_type == 'Gas':\n",
    "    pipes_df_orig = gas_pipes.copy() #pandas.concat([oil_pipes, gas_pipes], ignore_index=True)\n",
    "if fuel_type == 'Oil':\n",
    "    pipes_df_orig = oil_pipes.copy()\n",
    "if fuel_type == 'Oil-and-Gas':\n",
    "    pipes_df_orig = pandas.concat([oil_pipes, gas_pipes], ignore_index=True)\n",
    "\n",
    "pipes_df_orig = pipes_df_orig.loc[pipes_df_orig.Wiki!='']\n",
    "pipes_df_orig.replace('--', numpy.nan, inplace=True)"
   ]
  },
  {
   "cell_type": "code",
   "execution_count": 3,
   "metadata": {},
   "outputs": [],
   "source": [
    "owners_df_orig = spreadsheet.worksheet('title', 'Pipeline operators/owners (1/3)').get_as_df(start='A2')\n",
    "owners_df_orig = owners_df_orig.loc[owners_df_orig.ProjectID!='']\n",
    "owners_df_orig = owners_df_orig.loc[owners_df_orig.Wiki!='']\n",
    "owners_df = owners_df_orig.replace('',numpy.nan)\n",
    "\n",
    "owner_parent_links_df = spreadsheet.worksheet('title', 'Owner–parent relationships (2/3)').get_as_df(start='A2')\n",
    "# only keep the owners with a checked relationship\n",
    "owner_parent_links_df = owner_parent_links_df.loc[owner_parent_links_df['Parent–Owner Relationship Checked?']=='yes']\n",
    "owner_parent_links_df.replace('',numpy.nan,inplace=True)\n",
    "\n",
    "parents_df = spreadsheet.worksheet('title', 'Parent metadata (3/3)').get_as_df(start='A2')\n",
    "parents_df = parents_df.loc[parents_df.Parent!='']\n",
    "\n",
    "owners_df.set_index('ProjectID', inplace=True)\n",
    "owner_parent_links_df.set_index('Owner', inplace=True)\n",
    "parents_df.set_index('Parent', inplace=True)\n",
    "\n",
    "# ****************************************\n",
    "\n",
    "## create list of owner and parent column names\n",
    "owner_pct_col_names = []\n",
    "owner_col_names = []\n",
    "\n",
    "parent_pct_col_names = []\n",
    "parent_col_names = []\n",
    "\n",
    "for num in range(1,11+1):\n",
    "    owner_pct_col = f'Owner{num}%'\n",
    "    owner_pct_col_names.append(owner_pct_col)\n",
    "    \n",
    "    owner_col = f'Owner{num}'\n",
    "    owner_col_names.append(owner_col)\n",
    "    \n",
    "    parent_pct_col = f'Parent{num}%'\n",
    "    parent_pct_col_names.append(parent_pct_col)\n",
    "    \n",
    "    parent_col = f'Parent{num}'\n",
    "    parent_col_names.append(parent_col)\n",
    "\n",
    "# ****************************************\n",
    "## fill in missing parent info by borrowing owner info\n",
    "owners_FULL_set = owners_df[owner_col_names].stack().dropna().unique().tolist() # from owners_df\n",
    "owners_researched_set = list(set(owner_parent_links_df.index.to_list()))#+['Unknown'] # only existing owners, plus 'Unknown'\n",
    "owners_diff = list(set(owners_FULL_set)-set(owners_researched_set))\n",
    "owners_diff.append('Unknown')\n",
    "\n",
    "# update owner_parent_links_df with these extra owners\n",
    "owner_parent_links_df = pandas.concat([owner_parent_links_df, pandas.DataFrame(index=owners_diff, columns=owner_parent_links_df.columns)])\n",
    "owner_parent_links_df['Parent1'].loc[owners_diff] = owners_diff\n",
    "owner_parent_links_df['Parent1%'].loc[owners_diff] = '100.00%'\n",
    "\n",
    "# ****************************************\n",
    "# update parents_df with these as well\n",
    "# note countries will be unknkown...\n",
    "parents_set = list(set(parents_df.index.to_list()))\n",
    "parents_diff = list(set(owners_diff)-set(parents_set))\n",
    "parents_diff.append('Unknown')\n",
    "parents_df = pandas.concat([parents_df, pandas.DataFrame(numpy.nan, index=parents_diff, columns=parents_df.columns)])"
   ]
  },
  {
   "cell_type": "code",
   "execution_count": 4,
   "metadata": {},
   "outputs": [],
   "source": [
    "projectid_set = list(set(owners_df.index.to_list()))"
   ]
  },
  {
   "cell_type": "markdown",
   "metadata": {},
   "source": [
    "## make a giant xarray Dataset to house the parent-owner-project_id information"
   ]
  },
  {
   "cell_type": "code",
   "execution_count": 5,
   "metadata": {},
   "outputs": [],
   "source": [
    "parents_da = xarray.DataArray(data=parents_df.index.unique().tolist())#owner_parent_links_df\n",
    "owners_da = xarray.DataArray(data=owner_parent_links_df.index.unique().tolist())\n",
    "projectid_da = xarray.DataArray(data=projectid_set)"
   ]
  },
  {
   "cell_type": "code",
   "execution_count": 6,
   "metadata": {},
   "outputs": [],
   "source": [
    "owner_fraction = numpy.empty((parents_da.size, owners_da.size, projectid_da.size), float)\n",
    "parent_fraction = numpy.empty((parents_da.size, owners_da.size, projectid_da.size), float)\n",
    "#parent_country = numpy.empty((parents_da.size, owners_da.size, projectid_da.size), str)\n",
    "#length_in_km = numpy.empty((parents_da.size, owners_da.size, projectid_da.size), float)\n",
    "owner_parent_tf = numpy.empty((parents_da.size, owners_da.size, projectid_da.size), bool)\n",
    "\n",
    "owner_fraction[:] = numpy.nan\n",
    "parent_fraction[:] = numpy.nan\n",
    "#parent_country[:] = numpy.nan\n",
    "#length_in_km[:] = numpy.nan\n",
    "\n",
    "owners_not_accounted_for = []"
   ]
  },
  {
   "cell_type": "code",
   "execution_count": 7,
   "metadata": {},
   "outputs": [],
   "source": [
    "poc_ds = xarray.Dataset(data_vars = dict(\n",
    "                                OwnerFraction=(['Parent','Owner','ProjectID'], owner_fraction),\n",
    "                                ParentFraction=(['Parent','Owner','ProjectID'], parent_fraction),\n",
    "                                #ParentCountry=(['Parent','Owner','ProjectID'], parent_country),\n",
    "                                #LengthInKm=(['Parent','Owner','ProjectID'], length_in_km),\n",
    "                                OwnerParentTF=(['Parent','Owner','ProjectID'], owner_parent_tf)),\n",
    "               coords = dict(\n",
    "                   Parent=(['Parent'], parents_da.values),\n",
    "                   Owner=(['Owner'], owners_da.values),\n",
    "                   ProjectID=(['ProjectID'], projectid_da.values)))"
   ]
  },
  {
   "cell_type": "markdown",
   "metadata": {},
   "source": [
    "## fill in the Dataset"
   ]
  },
  {
   "cell_type": "code",
   "execution_count": 8,
   "metadata": {},
   "outputs": [],
   "source": [
    "# iterate through owners_df\n",
    "count = 0\n",
    "for project_id,row in owners_df.iterrows():\n",
    "    #if count>500:\n",
    "    #    break\n",
    "    owner_list = row[owner_col_names].dropna().tolist()\n",
    "    owner_pct_vals = row[owner_pct_col_names].str.strip('%').astype('float').array/100.\n",
    "    # if no owner or parent info, record 'Unknown' as owner/parent, nans as percent owhership\n",
    "    if owner_list==[]:\n",
    "        owner='Unknown'\n",
    "        parent='Unknown'\n",
    "        owner_list = [owner]\n",
    "        parent_list = [parent]\n",
    "        owner_pct_vals = [numpy.nan]\n",
    "        parent_pct_vals = [numpy.nan]\n",
    "\n",
    "    for o_idx,owner in enumerate(owner_list):\n",
    "        if owner!='Unknown':\n",
    "            parent_list = owner_parent_links_df.loc[owner][parent_col_names].squeeze().dropna().tolist()\n",
    "            parent_pct_vals = owner_parent_links_df.loc[owner][parent_pct_col_names].str.strip('%').astype('float').array/100.\n",
    "        for p_idx,parent in enumerate(parent_list):\n",
    "            poc_ds['OwnerFraction'].loc[dict(Parent=parent, Owner=owner, ProjectID=project_id)] = owner_pct_vals[o_idx]\n",
    "            poc_ds['ParentFraction'].loc[dict(Parent=parent, Owner=owner, ProjectID=project_id)] = parent_pct_vals[p_idx]\n",
    "            poc_ds['OwnerParentTF'].loc[dict(Parent=parent, Owner=owner, ProjectID=project_id)] = True\n",
    "#    count+=1"
   ]
  },
  {
   "cell_type": "markdown",
   "metadata": {},
   "source": [
    "## placeholder dataframe to eventually fill in strings"
   ]
  },
  {
   "cell_type": "code",
   "execution_count": 9,
   "metadata": {},
   "outputs": [],
   "source": [
    "owner_parent_strings_df = pandas.DataFrame(index=projectid_da.values, columns=['OwnerList','ParentList',\n",
    "                                                                    'OwnerString','ParentString'])\n",
    "#                                                                    'OwnerPercentsArrayWithNans','ParentPercentsArrayWithNans',\n",
    "#                                                                    'OwnerPercentsArray','ParentPercentsArray',\n",
    "#                                                                    'ParentOwnrshpArray'])"
   ]
  },
  {
   "cell_type": "markdown",
   "metadata": {},
   "source": [
    "## manipulate huge dataset and fill in dataframe strings"
   ]
  },
  {
   "cell_type": "code",
   "execution_count": 10,
   "metadata": {},
   "outputs": [],
   "source": [
    "for project_id in projectid_da.values:\n",
    "    \n",
    "    parent_indices, owner_indices = numpy.where(poc_ds['OwnerParentTF'].loc[dict(ProjectID=project_id)].values == True)\n",
    "    parent_indices = list(parent_indices)\n",
    "    owner_indices = list(owner_indices)\n",
    "    parent_indices_unique = list(set(parent_indices))\n",
    "    owner_indices_unique = list(set(owner_indices))\n",
    "    \n",
    "    owner_list_repeats = list(owners_da[owner_indices].values)\n",
    "    parent_list_repeats = list(parents_da[parent_indices].values)\n",
    "    \n",
    "    owner_fractions_list_repeats = poc_ds['OwnerFraction'].loc[dict(ProjectID=project_id)].values[parent_indices, owner_indices]\n",
    "    parent_fractions_list_repeats = poc_ds['ParentFraction'].loc[dict(ProjectID=project_id)].values[parent_indices, owner_indices]\n",
    "    \n",
    "    parent_fractions_list_repeats = parent_fractions_list_repeats * owner_fractions_list_repeats\n",
    "    \n",
    "    owner_frac_df = pandas.DataFrame({'Owners':owner_list_repeats,'OwnerFractions':owner_fractions_list_repeats})\n",
    "    parent_frac_df = pandas.DataFrame({'Parents':parent_list_repeats,'ParentFractions':parent_fractions_list_repeats})\n",
    "    owner_frac_df = pandas.DataFrame(owner_frac_df.groupby(by=['Owners'], dropna=False)['OwnerFractions'].sum(min_count=1))\n",
    "    parent_frac_df = pandas.DataFrame(parent_frac_df.groupby(by=['Parents'], dropna=False)['ParentFractions'].sum(min_count=1))\n",
    "    owner_frac_df.sort_values('OwnerFractions', ascending=False, inplace=True)\n",
    "    parent_frac_df.sort_values('ParentFractions', ascending=False, inplace=True)\n",
    "\n",
    "    parent_formatted_string = ('; ').join(list(parent_frac_df.index + (parent_frac_df['ParentFractions']*100).map(' [{:,.2f}%]'.format)))\n",
    "    owner_formatted_string = ('; ').join(list(owner_frac_df.index + (owner_frac_df['OwnerFractions']*100).map(' [{:,.2f}%]'.format)))\n",
    "\n",
    "    parent_formatted_string = parent_formatted_string.replace('nan%', 'unknown %')\n",
    "    owner_formatted_string = owner_formatted_string.replace('nan%', 'unknown %')\n",
    "    \n",
    "    owner_parent_strings_df.loc[project_id,'OwnerString'] = owner_formatted_string\n",
    "    owner_parent_strings_df.loc[project_id,'ParentString'] = parent_formatted_string\n",
    "    \n",
    "    owner_parent_strings_df.replace('','--',inplace=True)"
   ]
  },
  {
   "cell_type": "markdown",
   "metadata": {},
   "source": [
    "# write out data as Excel file"
   ]
  },
  {
   "cell_type": "code",
   "execution_count": 11,
   "metadata": {},
   "outputs": [],
   "source": [
    "now_string = datetime.datetime.now().strftime('%Y-%m-%d')\n",
    "owner_parent_strings_df[['OwnerString','ParentString','OwnerList','ParentList']].to_excel('GEM-pipelines-owner-parent-strings-'+now_string+'.xlsx')\n",
    "#owner_parent_strings_df.to_excel('GEM-terminals-owner-parent-strings-'+now_string+'.xlsx')"
   ]
  }
 ],
 "metadata": {
  "interpreter": {
   "hash": "59914d4cdf2882751604edf3f1dd6385ce640077546f95a91cf3fdd2be269e3e"
  },
  "kernelspec": {
   "display_name": "Python 3 (ipykernel)",
   "language": "python",
   "name": "python3"
  },
  "language_info": {
   "codemirror_mode": {
    "name": "ipython",
    "version": 3
   },
   "file_extension": ".py",
   "mimetype": "text/x-python",
   "name": "python",
   "nbconvert_exporter": "python",
   "pygments_lexer": "ipython3",
   "version": "3.9.9"
  },
  "metadata": {
   "interpreter": {
    "hash": "59914d4cdf2882751604edf3f1dd6385ce640077546f95a91cf3fdd2be269e3e"
   }
  }
 },
 "nbformat": 4,
 "nbformat_minor": 4
}
