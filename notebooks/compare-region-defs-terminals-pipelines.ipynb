{
 "cells": [
  {
   "cell_type": "code",
   "execution_count": 195,
   "id": "a3d15d07-b278-4232-bfa5-f5c03f3c94b8",
   "metadata": {},
   "outputs": [],
   "source": [
    "import pandas\n",
    "import pygsheets\n",
    "import numpy"
   ]
  },
  {
   "cell_type": "code",
   "execution_count": 196,
   "id": "439f7e62-1da3-4fcc-a0dc-e3549bb79c98",
   "metadata": {},
   "outputs": [],
   "source": [
    "credentials_directory = '/Users/baird/Dropbox/_google-api/'\n",
    "gc = pygsheets.authorize(client_secret=credentials_directory+'client_secret.json')\n",
    "spreadsheet = gc.open_by_key('1tcS6Wd-Wp-LTDpLzFgJY_RSNDnbyubW3J_9HKIAys4A') # current version\n",
    "\n",
    "terms_regions = spreadsheet.worksheet('title', 'Region dictionary').get_as_df(start='A2')"
   ]
  },
  {
   "cell_type": "code",
   "execution_count": 197,
   "id": "ca763b86-5dba-4453-a812-6d442f00ae8d",
   "metadata": {},
   "outputs": [],
   "source": [
    "credentials_directory = '/Users/baird/Dropbox/_google-api/'\n",
    "gc = pygsheets.authorize(client_secret=credentials_directory+'client_secret.json')\n",
    "spreadsheet = gc.open_by_key('1foPLE6K-uqFlaYgLPAUxzeXfDO5wOOqE7tibNHeqTek') # current version\n",
    "\n",
    "pipes_regions = spreadsheet.worksheet('title', 'Region dictionary').get_as_df(start='A2')"
   ]
  },
  {
   "cell_type": "code",
   "execution_count": 198,
   "id": "ace0c871-1295-4f0f-a361-141b8b35ec3b",
   "metadata": {},
   "outputs": [],
   "source": [
    "credentials_directory = '/Users/baird/Dropbox/_google-api/'\n",
    "gc = pygsheets.authorize(client_secret=credentials_directory+'client_secret.json')\n",
    "spreadsheet = gc.open_by_key('1mtlwSJfWy1gbIwXVgpP3d6CcUEWo2OM0IvPD6yztGXI') # official country conventions from Mason/Kasandra\n",
    "\n",
    "country_official = spreadsheet.worksheet('title', 'Countries').get_as_df()"
   ]
  },
  {
   "cell_type": "code",
   "execution_count": 199,
   "id": "facde24e-89ad-415c-8d7f-093116b45446",
   "metadata": {},
   "outputs": [],
   "source": [
    "term_diffs = set(terms_regions.Country.to_list())-set(pipes_regions.Country.to_list())"
   ]
  },
  {
   "cell_type": "code",
   "execution_count": 200,
   "id": "2c18cd1e-e992-4322-906b-7a9d0c9635a9",
   "metadata": {},
   "outputs": [],
   "source": [
    "pipe_diffs = set(pipes_regions.Country.to_list())-set(terms_regions.Country.to_list())"
   ]
  },
  {
   "cell_type": "code",
   "execution_count": 201,
   "id": "22167f20-fa03-4a8c-90ad-9c25e21fc55c",
   "metadata": {},
   "outputs": [
    {
     "data": {
      "text/plain": [
       "set()"
      ]
     },
     "execution_count": 201,
     "metadata": {},
     "output_type": "execute_result"
    }
   ],
   "source": [
    "set(terms_regions.Country.to_list()).symmetric_difference(set(pipes_regions.Country.to_list()))"
   ]
  },
  {
   "cell_type": "code",
   "execution_count": 202,
   "id": "d2263be2-c0b4-48f9-ae99-00473b2eaaf8",
   "metadata": {},
   "outputs": [],
   "source": [
    "sym_diffs = set(terms_regions.Country.to_list()).symmetric_difference(set(pipes_regions.Country.to_list()))"
   ]
  },
  {
   "cell_type": "code",
   "execution_count": 203,
   "id": "ee9a3849-6303-4d3c-a69c-3e367e0300de",
   "metadata": {},
   "outputs": [
    {
     "name": "stdout",
     "output_type": "stream",
     "text": [
      "(279, 11)\n",
      "(279, 11)\n"
     ]
    }
   ],
   "source": [
    "pipes_regions_new = pipes_regions.set_index('Country')\n",
    "print(pipes_regions_new.shape)\n",
    "pipes_regions_new.drop(labels=pipe_diffs, inplace=True)\n",
    "print(pipes_regions_new.shape)"
   ]
  },
  {
   "cell_type": "code",
   "execution_count": 204,
   "id": "e12546e8-dffb-46ca-81a0-205cd128eea7",
   "metadata": {},
   "outputs": [],
   "source": [
    "pipes_regions_new = pipes_regions.set_index('Country')\n",
    "pipes_regions_new.drop(labels=pipe_diffs, inplace=True)\n",
    "terms_regions_new = terms_regions.set_index('Country')\n",
    "terms_regions_new.drop(labels=term_diffs, inplace=True)"
   ]
  },
  {
   "cell_type": "code",
   "execution_count": 205,
   "id": "7e01df83-a159-4326-b37f-3945a1426b57",
   "metadata": {},
   "outputs": [
    {
     "data": {
      "text/plain": [
       "array([ True,  True,  True,  True,  True,  True,  True,  True,  True,\n",
       "        True,  True])"
      ]
     },
     "execution_count": 205,
     "metadata": {},
     "output_type": "execute_result"
    }
   ],
   "source": [
    "terms_regions_new.columns==pipes_regions_new.columns"
   ]
  },
  {
   "cell_type": "code",
   "execution_count": 206,
   "id": "dea14bd2-4ac4-425a-8291-2379a863835a",
   "metadata": {},
   "outputs": [
    {
     "data": {
      "text/plain": [
       "(279, 11)"
      ]
     },
     "execution_count": 206,
     "metadata": {},
     "output_type": "execute_result"
    }
   ],
   "source": [
    "terms_regions_new.shape"
   ]
  },
  {
   "cell_type": "code",
   "execution_count": 207,
   "id": "73758bb0-17f2-4272-89a7-408fbdde89d3",
   "metadata": {},
   "outputs": [
    {
     "data": {
      "text/plain": [
       "(279, 11)"
      ]
     },
     "execution_count": 207,
     "metadata": {},
     "output_type": "execute_result"
    }
   ],
   "source": [
    "pipes_regions_new.shape"
   ]
  },
  {
   "cell_type": "code",
   "execution_count": 208,
   "id": "38df0da7-6895-48dc-9f8c-d86d19475bd5",
   "metadata": {},
   "outputs": [
    {
     "data": {
      "text/plain": [
       "True"
      ]
     },
     "execution_count": 208,
     "metadata": {},
     "output_type": "execute_result"
    }
   ],
   "source": [
    "terms_regions_new.columns.to_list()==pipes_regions_new.columns.to_list()"
   ]
  },
  {
   "cell_type": "code",
   "execution_count": 209,
   "id": "c522ce99-478d-4243-a12c-29f8f9795df5",
   "metadata": {},
   "outputs": [
    {
     "data": {
      "text/plain": [
       "True"
      ]
     },
     "execution_count": 209,
     "metadata": {},
     "output_type": "execute_result"
    }
   ],
   "source": [
    "terms_regions_new.index.to_list()==pipes_regions_new.index.to_list()"
   ]
  },
  {
   "cell_type": "code",
   "execution_count": 210,
   "id": "cd13d559-8639-45a3-a9be-61dc89e7a359",
   "metadata": {},
   "outputs": [
    {
     "data": {
      "text/html": [
       "<div>\n",
       "<style scoped>\n",
       "    .dataframe tbody tr th:only-of-type {\n",
       "        vertical-align: middle;\n",
       "    }\n",
       "\n",
       "    .dataframe tbody tr th {\n",
       "        vertical-align: top;\n",
       "    }\n",
       "\n",
       "    .dataframe thead th {\n",
       "        text-align: right;\n",
       "    }\n",
       "</style>\n",
       "<table border=\"1\" class=\"dataframe\">\n",
       "  <thead>\n",
       "    <tr style=\"text-align: right;\">\n",
       "      <th></th>\n",
       "      <th>ISOCode</th>\n",
       "      <th>Region</th>\n",
       "      <th>PipelineBubbleRegion</th>\n",
       "      <th>EEZNamesIfDifferent</th>\n",
       "      <th>EuropeanUnion</th>\n",
       "      <th>EuroGasTracker</th>\n",
       "      <th>AsiaGasTracker</th>\n",
       "      <th>AfricaGasTracker</th>\n",
       "      <th>ISOCountryCode</th>\n",
       "      <th>Notes</th>\n",
       "      <th>ISO3166CountryName</th>\n",
       "    </tr>\n",
       "    <tr>\n",
       "      <th>Country</th>\n",
       "      <th></th>\n",
       "      <th></th>\n",
       "      <th></th>\n",
       "      <th></th>\n",
       "      <th></th>\n",
       "      <th></th>\n",
       "      <th></th>\n",
       "      <th></th>\n",
       "      <th></th>\n",
       "      <th></th>\n",
       "      <th></th>\n",
       "    </tr>\n",
       "  </thead>\n",
       "  <tbody>\n",
       "  </tbody>\n",
       "</table>\n",
       "</div>"
      ],
      "text/plain": [
       "Empty DataFrame\n",
       "Columns: [ISOCode, Region, PipelineBubbleRegion, EEZNamesIfDifferent, EuropeanUnion, EuroGasTracker, AsiaGasTracker, AfricaGasTracker, ISOCountryCode, Notes, ISO3166CountryName]\n",
       "Index: []"
      ]
     },
     "execution_count": 210,
     "metadata": {},
     "output_type": "execute_result"
    }
   ],
   "source": [
    "terms_regions_new.loc[terms_regions_new.index.duplicated()]"
   ]
  },
  {
   "cell_type": "code",
   "execution_count": 211,
   "id": "d2342fb0-d412-478a-9c3b-0505ec6621a1",
   "metadata": {},
   "outputs": [
    {
     "data": {
      "text/html": [
       "<div>\n",
       "<style scoped>\n",
       "    .dataframe tbody tr th:only-of-type {\n",
       "        vertical-align: middle;\n",
       "    }\n",
       "\n",
       "    .dataframe tbody tr th {\n",
       "        vertical-align: top;\n",
       "    }\n",
       "\n",
       "    .dataframe thead tr th {\n",
       "        text-align: left;\n",
       "    }\n",
       "\n",
       "    .dataframe thead tr:last-of-type th {\n",
       "        text-align: right;\n",
       "    }\n",
       "</style>\n",
       "<table border=\"1\" class=\"dataframe\">\n",
       "  <thead>\n",
       "    <tr>\n",
       "      <th>Country</th>\n",
       "    </tr>\n",
       "  </thead>\n",
       "  <tbody>\n",
       "  </tbody>\n",
       "</table>\n",
       "</div>"
      ],
      "text/plain": [
       "Empty DataFrame\n",
       "Columns: []\n",
       "Index: []"
      ]
     },
     "execution_count": 211,
     "metadata": {},
     "output_type": "execute_result"
    }
   ],
   "source": [
    "pipes_regions_new.compare(terms_regions_new, result_names=('pipes','terms')).replace(numpy.nan, '')"
   ]
  },
  {
   "cell_type": "code",
   "execution_count": 212,
   "id": "7e140c20-a42f-4c5d-b823-3fb77a6fbbd6",
   "metadata": {},
   "outputs": [
    {
     "data": {
      "text/html": [
       "<div>\n",
       "<style scoped>\n",
       "    .dataframe tbody tr th:only-of-type {\n",
       "        vertical-align: middle;\n",
       "    }\n",
       "\n",
       "    .dataframe tbody tr th {\n",
       "        vertical-align: top;\n",
       "    }\n",
       "\n",
       "    .dataframe thead th {\n",
       "        text-align: right;\n",
       "    }\n",
       "</style>\n",
       "<table border=\"1\" class=\"dataframe\">\n",
       "  <thead>\n",
       "    <tr style=\"text-align: right;\">\n",
       "      <th></th>\n",
       "      <th>ISO 3166 Country Name</th>\n",
       "      <th>GEM Standard Country Name</th>\n",
       "      <th>GEM name same as ISO 1366?</th>\n",
       "      <th>ISO 3166 Country Code</th>\n",
       "      <th>Territory</th>\n",
       "      <th>Territory of</th>\n",
       "      <th>Notes: \\n* GEM recognizes the Russian occupied territory in the country of Ukraine as being part of Ukraine and not Russia, including Crimea and the Donbass Region\\n* GEM recognizes the autonomy of the following countries: Kosovo, Palestine, Taiwan, Western Sahara</th>\n",
       "    </tr>\n",
       "  </thead>\n",
       "  <tbody>\n",
       "    <tr>\n",
       "      <th>0</th>\n",
       "      <td>Afghanistan</td>\n",
       "      <td>Afghanistan</td>\n",
       "      <td>TRUE</td>\n",
       "      <td>4</td>\n",
       "      <td></td>\n",
       "      <td></td>\n",
       "      <td></td>\n",
       "    </tr>\n",
       "    <tr>\n",
       "      <th>1</th>\n",
       "      <td>Åland Islands</td>\n",
       "      <td>Åland Islands</td>\n",
       "      <td>TRUE</td>\n",
       "      <td>248</td>\n",
       "      <td>yes</td>\n",
       "      <td>Finland</td>\n",
       "      <td></td>\n",
       "    </tr>\n",
       "    <tr>\n",
       "      <th>2</th>\n",
       "      <td>Albania</td>\n",
       "      <td>Albania</td>\n",
       "      <td>TRUE</td>\n",
       "      <td>8</td>\n",
       "      <td></td>\n",
       "      <td></td>\n",
       "      <td></td>\n",
       "    </tr>\n",
       "    <tr>\n",
       "      <th>3</th>\n",
       "      <td>Algeria</td>\n",
       "      <td>Algeria</td>\n",
       "      <td>TRUE</td>\n",
       "      <td>12</td>\n",
       "      <td></td>\n",
       "      <td></td>\n",
       "      <td></td>\n",
       "    </tr>\n",
       "    <tr>\n",
       "      <th>4</th>\n",
       "      <td>American Samoa</td>\n",
       "      <td>American Samoa</td>\n",
       "      <td>TRUE</td>\n",
       "      <td>16</td>\n",
       "      <td>yes</td>\n",
       "      <td>United States</td>\n",
       "      <td></td>\n",
       "    </tr>\n",
       "    <tr>\n",
       "      <th>...</th>\n",
       "      <td>...</td>\n",
       "      <td>...</td>\n",
       "      <td>...</td>\n",
       "      <td>...</td>\n",
       "      <td>...</td>\n",
       "      <td>...</td>\n",
       "      <td>...</td>\n",
       "    </tr>\n",
       "    <tr>\n",
       "      <th>246</th>\n",
       "      <td>Wallis and Futuna</td>\n",
       "      <td>Wallis and Futuna</td>\n",
       "      <td>TRUE</td>\n",
       "      <td>876</td>\n",
       "      <td>yes</td>\n",
       "      <td>France</td>\n",
       "      <td></td>\n",
       "    </tr>\n",
       "    <tr>\n",
       "      <th>247</th>\n",
       "      <td>Western Sahara</td>\n",
       "      <td>Western Sahara</td>\n",
       "      <td>TRUE</td>\n",
       "      <td>732</td>\n",
       "      <td>yes</td>\n",
       "      <td>Disputed / Morocco</td>\n",
       "      <td></td>\n",
       "    </tr>\n",
       "    <tr>\n",
       "      <th>248</th>\n",
       "      <td>Yemen</td>\n",
       "      <td>Yemen</td>\n",
       "      <td>TRUE</td>\n",
       "      <td>887</td>\n",
       "      <td></td>\n",
       "      <td></td>\n",
       "      <td></td>\n",
       "    </tr>\n",
       "    <tr>\n",
       "      <th>249</th>\n",
       "      <td>Zambia</td>\n",
       "      <td>Zambia</td>\n",
       "      <td>TRUE</td>\n",
       "      <td>894</td>\n",
       "      <td></td>\n",
       "      <td></td>\n",
       "      <td></td>\n",
       "    </tr>\n",
       "    <tr>\n",
       "      <th>250</th>\n",
       "      <td>Zimbabwe</td>\n",
       "      <td>Zimbabwe</td>\n",
       "      <td>TRUE</td>\n",
       "      <td>716</td>\n",
       "      <td></td>\n",
       "      <td></td>\n",
       "      <td></td>\n",
       "    </tr>\n",
       "  </tbody>\n",
       "</table>\n",
       "<p>251 rows × 7 columns</p>\n",
       "</div>"
      ],
      "text/plain": [
       "    ISO 3166 Country Name GEM Standard Country Name  \\\n",
       "0             Afghanistan               Afghanistan   \n",
       "1           Åland Islands             Åland Islands   \n",
       "2                 Albania                   Albania   \n",
       "3                 Algeria                   Algeria   \n",
       "4          American Samoa            American Samoa   \n",
       "..                    ...                       ...   \n",
       "246     Wallis and Futuna         Wallis and Futuna   \n",
       "247        Western Sahara            Western Sahara   \n",
       "248                 Yemen                     Yemen   \n",
       "249                Zambia                    Zambia   \n",
       "250              Zimbabwe                  Zimbabwe   \n",
       "\n",
       "    GEM name same as ISO 1366?  ISO 3166 Country Code Territory  \\\n",
       "0                         TRUE                      4             \n",
       "1                         TRUE                    248       yes   \n",
       "2                         TRUE                      8             \n",
       "3                         TRUE                     12             \n",
       "4                         TRUE                     16       yes   \n",
       "..                         ...                    ...       ...   \n",
       "246                       TRUE                    876       yes   \n",
       "247                       TRUE                    732       yes   \n",
       "248                       TRUE                    887             \n",
       "249                       TRUE                    894             \n",
       "250                       TRUE                    716             \n",
       "\n",
       "           Territory of  \\\n",
       "0                         \n",
       "1               Finland   \n",
       "2                         \n",
       "3                         \n",
       "4         United States   \n",
       "..                  ...   \n",
       "246              France   \n",
       "247  Disputed / Morocco   \n",
       "248                       \n",
       "249                       \n",
       "250                       \n",
       "\n",
       "    Notes: \\n* GEM recognizes the Russian occupied territory in the country of Ukraine as being part of Ukraine and not Russia, including Crimea and the Donbass Region\\n* GEM recognizes the autonomy of the following countries: Kosovo, Palestine, Taiwan, Western Sahara  \n",
       "0                                                                                                                                                                                                                                                                             \n",
       "1                                                                                                                                                                                                                                                                             \n",
       "2                                                                                                                                                                                                                                                                             \n",
       "3                                                                                                                                                                                                                                                                             \n",
       "4                                                                                                                                                                                                                                                                             \n",
       "..                                                 ...                                                                                                                                                                                                                        \n",
       "246                                                                                                                                                                                                                                                                           \n",
       "247                                                                                                                                                                                                                                                                           \n",
       "248                                                                                                                                                                                                                                                                           \n",
       "249                                                                                                                                                                                                                                                                           \n",
       "250                                                                                                                                                                                                                                                                           \n",
       "\n",
       "[251 rows x 7 columns]"
      ]
     },
     "execution_count": 212,
     "metadata": {},
     "output_type": "execute_result"
    }
   ],
   "source": [
    "country_official"
   ]
  },
  {
   "cell_type": "code",
   "execution_count": 213,
   "id": "f6069b54-74fb-4043-af9d-adebeee371f7",
   "metadata": {},
   "outputs": [],
   "source": [
    "official_country_names = country_official['GEM Standard Country Name'].to_list()"
   ]
  },
  {
   "cell_type": "code",
   "execution_count": 214,
   "id": "e4b83968-1baf-473b-81ed-7f5fb95ccf75",
   "metadata": {},
   "outputs": [
    {
     "data": {
      "text/plain": [
       "set()"
      ]
     },
     "execution_count": 214,
     "metadata": {},
     "output_type": "execute_result"
    }
   ],
   "source": [
    "set(official_country_names)-set(terms_regions.Country.to_list())"
   ]
  },
  {
   "cell_type": "code",
   "execution_count": 215,
   "id": "2f82fc52-3a6d-47ec-8638-aeee05386154",
   "metadata": {},
   "outputs": [
    {
     "data": {
      "text/plain": [
       "{'Area of overlap Australia/Indonesia',\n",
       " 'Cape Verde',\n",
       " 'Chinese Taipei',\n",
       " 'Clipperton Island',\n",
       " 'Conflict zone (China, Japan, Taiwan)',\n",
       " 'Conflict zone (Japan, Russia)',\n",
       " 'Conflict zone (Japan, South Korea)',\n",
       " 'Disputed (Barbados, Trinidad and Tobago)',\n",
       " 'Disputed (Iran, United Arab Emirates)',\n",
       " 'Disputed (Kenya, Somalia)',\n",
       " 'Disputed (Peru)',\n",
       " 'Disputed (Western Sahara/Mauritania)',\n",
       " 'Gaza Strip',\n",
       " 'Jan Mayen',\n",
       " 'Joint development area (Australia/East Timor)',\n",
       " 'Joint regime area (Columbia, Jamaica)',\n",
       " 'Joint regime area (Japan, Korea)',\n",
       " 'Joint regime area (Nigeria, Sao Tome and Principe)',\n",
       " 'Joint regime area (Peru, Ecuador)',\n",
       " 'Joint regime area (Senegal/Guinea Bissau)',\n",
       " 'Netherlands Antilles',\n",
       " 'Paracel Islands',\n",
       " 'Protected zone (Australia, Papua New Guinea)',\n",
       " 'Spratly Islands',\n",
       " 'St. Kitts and Nevis',\n",
       " 'St. Lucia',\n",
       " 'St. Pierre and Miquelon',\n",
       " 'Vatican City'}"
      ]
     },
     "execution_count": 215,
     "metadata": {},
     "output_type": "execute_result"
    }
   ],
   "source": [
    "set(terms_regions.Country.to_list())-set(official_country_names)"
   ]
  },
  {
   "cell_type": "code",
   "execution_count": null,
   "id": "eb69007f-ee67-4f80-886e-6f3caa0c8b8c",
   "metadata": {},
   "outputs": [],
   "source": []
  }
 ],
 "metadata": {
  "kernelspec": {
   "display_name": "Python 3 (ipykernel)",
   "language": "python",
   "name": "python3"
  },
  "language_info": {
   "codemirror_mode": {
    "name": "ipython",
    "version": 3
   },
   "file_extension": ".py",
   "mimetype": "text/x-python",
   "name": "python",
   "nbconvert_exporter": "python",
   "pygments_lexer": "ipython3",
   "version": "3.9.9"
  }
 },
 "nbformat": 4,
 "nbformat_minor": 5
}
